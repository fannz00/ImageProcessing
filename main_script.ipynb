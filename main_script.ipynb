{
 "cells": [
  {
   "cell_type": "markdown",
   "id": "99cd5955",
   "metadata": {},
   "source": [
    "# Step by step processing of PIScO images from fullframe PNGs to EcoTaxa Export per cruise"
   ]
  },
  {
   "cell_type": "markdown",
   "id": "e6c36789",
   "metadata": {},
   "source": [
    "## 0.  Connect to docker container & import of libraries\n",
    "Prerequesits\n",
    "- Start the rocm_container if not already running.\n",
    "- Start the jupyter server in the container (sudo docker exec -it rocm_container bash -c \"jupyter notebook --ip=0.0.0.0 --port=8888 --no-browser --allow-root\"): note the token/password\n",
    "- Find the ip address of the rocm container (sudo docker inspect -f '{{range .NetworkSettings.Networks}}{{.IPAddress}}{{end}}' rocm_container)\n",
    "- Connect to the python kernel in VS Code: Select other kernel... with IP addres and password/token from above."
   ]
  },
  {
   "cell_type": "code",
   "execution_count": 1,
   "id": "1a3796fb",
   "metadata": {},
   "outputs": [
    {
     "name": "stdout",
     "output_type": "stream",
     "text": [
      "Requirement already satisfied: numpy in /home/veit/miniconda3/lib/python3.13/site-packages (2.2.6)\n",
      "Requirement already satisfied: pandas in /home/veit/miniconda3/lib/python3.13/site-packages (2.2.3)\n",
      "Requirement already satisfied: matplotlib in /home/veit/miniconda3/lib/python3.13/site-packages (3.10.3)\n",
      "Requirement already satisfied: scikit-image in /home/veit/miniconda3/lib/python3.13/site-packages (0.25.2)\n",
      "Requirement already satisfied: opencv-python in /home/veit/miniconda3/lib/python3.13/site-packages (4.11.0.86)\n",
      "Requirement already satisfied: umap-learn in /home/veit/miniconda3/lib/python3.13/site-packages (0.5.7)\n",
      "Requirement already satisfied: sqlalchemy in /home/veit/miniconda3/lib/python3.13/site-packages (2.0.41)\n",
      "Requirement already satisfied: tqdm in /home/veit/miniconda3/lib/python3.13/site-packages (4.67.1)\n",
      "Requirement already satisfied: standard-imghdr in /home/veit/miniconda3/lib/python3.13/site-packages (3.13.0)\n",
      "Requirement already satisfied: torch in /home/veit/miniconda3/lib/python3.13/site-packages (2.7.0)\n",
      "Requirement already satisfied: torchvision in /home/veit/miniconda3/lib/python3.13/site-packages (0.22.0)\n",
      "Requirement already satisfied: python-dateutil>=2.8.2 in /home/veit/miniconda3/lib/python3.13/site-packages (from pandas) (2.9.0.post0)\n",
      "Requirement already satisfied: pytz>=2020.1 in /home/veit/miniconda3/lib/python3.13/site-packages (from pandas) (2025.2)\n",
      "Requirement already satisfied: tzdata>=2022.7 in /home/veit/miniconda3/lib/python3.13/site-packages (from pandas) (2025.2)\n",
      "Requirement already satisfied: contourpy>=1.0.1 in /home/veit/miniconda3/lib/python3.13/site-packages (from matplotlib) (1.3.2)\n",
      "Requirement already satisfied: cycler>=0.10 in /home/veit/miniconda3/lib/python3.13/site-packages (from matplotlib) (0.12.1)\n",
      "Requirement already satisfied: fonttools>=4.22.0 in /home/veit/miniconda3/lib/python3.13/site-packages (from matplotlib) (4.58.0)\n",
      "Requirement already satisfied: kiwisolver>=1.3.1 in /home/veit/miniconda3/lib/python3.13/site-packages (from matplotlib) (1.4.8)\n",
      "Requirement already satisfied: packaging>=20.0 in /home/veit/miniconda3/lib/python3.13/site-packages (from matplotlib) (24.2)\n",
      "Requirement already satisfied: pillow>=8 in /home/veit/miniconda3/lib/python3.13/site-packages (from matplotlib) (11.2.1)\n",
      "Requirement already satisfied: pyparsing>=2.3.1 in /home/veit/miniconda3/lib/python3.13/site-packages (from matplotlib) (3.2.3)\n",
      "Requirement already satisfied: scipy>=1.11.4 in /home/veit/miniconda3/lib/python3.13/site-packages (from scikit-image) (1.15.3)\n",
      "Requirement already satisfied: networkx>=3.0 in /home/veit/miniconda3/lib/python3.13/site-packages (from scikit-image) (3.4.2)\n",
      "Requirement already satisfied: imageio!=2.35.0,>=2.33 in /home/veit/miniconda3/lib/python3.13/site-packages (from scikit-image) (2.37.0)\n",
      "Requirement already satisfied: tifffile>=2022.8.12 in /home/veit/miniconda3/lib/python3.13/site-packages (from scikit-image) (2025.5.10)\n",
      "Requirement already satisfied: lazy-loader>=0.4 in /home/veit/miniconda3/lib/python3.13/site-packages (from scikit-image) (0.4)\n",
      "Requirement already satisfied: scikit-learn>=0.22 in /home/veit/miniconda3/lib/python3.13/site-packages (from umap-learn) (1.6.1)\n",
      "Requirement already satisfied: numba>=0.51.2 in /home/veit/miniconda3/lib/python3.13/site-packages (from umap-learn) (0.61.2)\n",
      "Requirement already satisfied: pynndescent>=0.5 in /home/veit/miniconda3/lib/python3.13/site-packages (from umap-learn) (0.5.13)\n",
      "Requirement already satisfied: greenlet>=1 in /home/veit/miniconda3/lib/python3.13/site-packages (from sqlalchemy) (3.2.2)\n",
      "Requirement already satisfied: typing-extensions>=4.6.0 in /home/veit/miniconda3/lib/python3.13/site-packages (from sqlalchemy) (4.12.2)\n",
      "Requirement already satisfied: filelock in /home/veit/miniconda3/lib/python3.13/site-packages (from torch) (3.18.0)\n",
      "Requirement already satisfied: setuptools in /home/veit/miniconda3/lib/python3.13/site-packages (from torch) (78.1.1)\n",
      "Requirement already satisfied: sympy>=1.13.3 in /home/veit/miniconda3/lib/python3.13/site-packages (from torch) (1.14.0)\n",
      "Requirement already satisfied: jinja2 in /home/veit/miniconda3/lib/python3.13/site-packages (from torch) (3.1.6)\n",
      "Requirement already satisfied: fsspec in /home/veit/miniconda3/lib/python3.13/site-packages (from torch) (2025.5.0)\n",
      "Requirement already satisfied: nvidia-cuda-nvrtc-cu12==12.6.77 in /home/veit/miniconda3/lib/python3.13/site-packages (from torch) (12.6.77)\n",
      "Requirement already satisfied: nvidia-cuda-runtime-cu12==12.6.77 in /home/veit/miniconda3/lib/python3.13/site-packages (from torch) (12.6.77)\n",
      "Requirement already satisfied: nvidia-cuda-cupti-cu12==12.6.80 in /home/veit/miniconda3/lib/python3.13/site-packages (from torch) (12.6.80)\n",
      "Requirement already satisfied: nvidia-cudnn-cu12==9.5.1.17 in /home/veit/miniconda3/lib/python3.13/site-packages (from torch) (9.5.1.17)\n",
      "Requirement already satisfied: nvidia-cublas-cu12==12.6.4.1 in /home/veit/miniconda3/lib/python3.13/site-packages (from torch) (12.6.4.1)\n",
      "Requirement already satisfied: nvidia-cufft-cu12==11.3.0.4 in /home/veit/miniconda3/lib/python3.13/site-packages (from torch) (11.3.0.4)\n",
      "Requirement already satisfied: nvidia-curand-cu12==10.3.7.77 in /home/veit/miniconda3/lib/python3.13/site-packages (from torch) (10.3.7.77)\n",
      "Requirement already satisfied: nvidia-cusolver-cu12==11.7.1.2 in /home/veit/miniconda3/lib/python3.13/site-packages (from torch) (11.7.1.2)\n",
      "Requirement already satisfied: nvidia-cusparse-cu12==12.5.4.2 in /home/veit/miniconda3/lib/python3.13/site-packages (from torch) (12.5.4.2)\n",
      "Requirement already satisfied: nvidia-cusparselt-cu12==0.6.3 in /home/veit/miniconda3/lib/python3.13/site-packages (from torch) (0.6.3)\n",
      "Requirement already satisfied: nvidia-nccl-cu12==2.26.2 in /home/veit/miniconda3/lib/python3.13/site-packages (from torch) (2.26.2)\n",
      "Requirement already satisfied: nvidia-nvtx-cu12==12.6.77 in /home/veit/miniconda3/lib/python3.13/site-packages (from torch) (12.6.77)\n",
      "Requirement already satisfied: nvidia-nvjitlink-cu12==12.6.85 in /home/veit/miniconda3/lib/python3.13/site-packages (from torch) (12.6.85)\n",
      "Requirement already satisfied: nvidia-cufile-cu12==1.11.1.6 in /home/veit/miniconda3/lib/python3.13/site-packages (from torch) (1.11.1.6)\n",
      "Requirement already satisfied: triton==3.3.0 in /home/veit/miniconda3/lib/python3.13/site-packages (from torch) (3.3.0)\n",
      "Requirement already satisfied: llvmlite<0.45,>=0.44.0dev0 in /home/veit/miniconda3/lib/python3.13/site-packages (from numba>=0.51.2->umap-learn) (0.44.0)\n",
      "Requirement already satisfied: joblib>=0.11 in /home/veit/miniconda3/lib/python3.13/site-packages (from pynndescent>=0.5->umap-learn) (1.5.0)\n",
      "Requirement already satisfied: six>=1.5 in /home/veit/miniconda3/lib/python3.13/site-packages (from python-dateutil>=2.8.2->pandas) (1.17.0)\n",
      "Requirement already satisfied: threadpoolctl>=3.1.0 in /home/veit/miniconda3/lib/python3.13/site-packages (from scikit-learn>=0.22->umap-learn) (3.6.0)\n",
      "Requirement already satisfied: mpmath<1.4,>=1.1.0 in /home/veit/miniconda3/lib/python3.13/site-packages (from sympy>=1.13.3->torch) (1.3.0)\n",
      "Requirement already satisfied: MarkupSafe>=2.0 in /home/veit/miniconda3/lib/python3.13/site-packages (from jinja2->torch) (3.0.2)\n"
     ]
    }
   ],
   "source": [
    "!pip install numpy pandas matplotlib scikit-image opencv-python umap-learn sqlalchemy tqdm standard-imghdr torch torchvision\n",
    "import os\n",
    "#os.chdir('/app/ImageProcessing/')\n",
    "os.chdir('/home/veit/PIScO_dev/ImageProcessing/')"
   ]
  },
  {
   "cell_type": "code",
   "execution_count": 1,
   "id": "8c2b50fd",
   "metadata": {},
   "outputs": [
    {
     "name": "stderr",
     "output_type": "stream",
     "text": [
      "/home/veit/miniconda3/lib/python3.13/site-packages/tqdm/auto.py:21: TqdmWarning: IProgress not found. Please update jupyter and ipywidgets. See https://ipywidgets.readthedocs.io/en/stable/user_install.html\n",
      "  from .autonotebook import tqdm as notebook_tqdm\n",
      "2025-06-10 11:14:20,641 - Connected to the database\n"
     ]
    }
   ],
   "source": [
    "#### External modules\n",
    "import os\n",
    "import numpy as np\n",
    "import pandas as pd\n",
    "import matplotlib.pyplot as plt\n",
    "import matplotlib.colors as mcolors\n",
    "import re\n",
    "import datetime\n",
    "\n",
    "from pandas.errors import EmptyDataError\n",
    "\n",
    "from sqlalchemy import create_engine\n",
    "from sqlalchemy import text\n",
    "\n",
    "import inspect\n",
    "from skimage import measure\n",
    "from skimage.io import imread\n",
    "import cv2\n",
    "import umap\n",
    "import pickle\n",
    "from sklearn.preprocessing import StandardScaler\n",
    "\n",
    "from tqdm import tqdm\n",
    "import logging\n",
    "import shutil\n",
    "\n",
    "#### Internal modules\n",
    "\n",
    "from segmenter import run_segmenter\n",
    "import analyze_profiles_seavision as ap\n",
    "\n"
   ]
  },
  {
   "cell_type": "markdown",
   "id": "18e59454",
   "metadata": {},
   "source": [
    "## 1.  Define the input images i.e. cruise folder\n"
   ]
  },
  {
   "cell_type": "code",
   "execution_count": 2,
   "id": "b02d17e7",
   "metadata": {},
   "outputs": [],
   "source": [
    "#Don't forget to mount the SMB share, in system terminal: sudo mount -t cifs //filer.geomar.de/projekte/ORTC-ST-PISCO /mnt/filer -o username=GEOM-svcPISCO_rw@geomar.de,password=2mZmhx-7GCGf \n",
    "# Select the base dir of the PIScO data for the cruise you want to process. Example: /mnt/filer/SO298/SO298-Logfiles_PISCO\n",
    "\n",
    "### HE570\n",
    "cruise = \"HE570\"\n",
    "cruise_base = \"/mnt/filer/HE570/HE570-PISCO-Profiles\"\n",
    "intermediate_result_dir = f\"/home/veit/PIScO_dev/Segmentation_results/HE570/HE570-PISCO-Profiles/TempResults\"\n",
    "ctd_dir = None\n",
    "#ctd_prefix = \"met_202_1_\"\n",
    "log_directory = None\n",
    "\n",
    "### SO_298\n",
    "# cruise = \"SO298\"\n",
    "# cruise_base = \"/mnt/filer/SO298/SO298-PISCO-Profiles\"\n",
    "# # #cruise_base = \"/home/veit/PIScO_dev/usb_mount/SO298-PNG\"\n",
    "# intermediate_result_dir = \"/home/veit/PIScO_dev/Segmentation_results/SO298/SO298-PISCO-Profiles/TempResults\"\n",
    "# ctd_dir = \"/mnt/filer/SO298/SO298-CTD_UVP_ETC/SO298-CTD/calibrated/\"\n",
    "# ctd_prefix = \"son_298_1_\"\n",
    "# log_directory = \"/mnt/filer/SO298/SO298-Logfiles_PISCO/Templog\"\n",
    "\n",
    "### MSM_126\n",
    "# cruise = \"MSM126\"\n",
    "# cruise_base = \"/mnt/filer/MSM126/MSM126-PISCO-Profiles\"\n",
    "# intermediate_result_dir = f\"/home/veit/PIScO_dev/Segmentation_results/MSM126/MSM126-PISCO-Profiles/TempResults/\"\n",
    "# ctd_dir = \"/mnt/filer/MSM126/MSM126-Data-UVP-CTD-ADCP/CTD/msm_126_1_ctd\"\n",
    "# ctd_prefix = \"msm_126_1_\"\n",
    "# log_directory = \"/mnt/filer/MSM126/MSM126-PISCO_Logfilesetc/Logfiles\"\n",
    "\n",
    "### M202\n",
    "# cruise = \"M202\"\n",
    "# cruise_base = \"/mnt/filer/M202/M202-PISCO-Profiles\"\n",
    "# intermediate_result_dir = f\"/home/veit/PIScO_dev/Segmentation_results/M202/M202-PISCO-Profiles/TempResults\"\n",
    "# ctd_dir = \"/mnt/filer/M202/M202-external-Data/M202-CTD/met_202_1_ctd/met_202_1_ctd\"\n",
    "# ctd_prefix = \"met_202_1_\"\n",
    "# log_directory = \"/mnt/filer/M202/M202-Pisco-Logfiles/Logfiles\"\n",
    "\n",
    "\n"
   ]
  },
  {
   "cell_type": "markdown",
   "id": "05fe589c",
   "metadata": {},
   "source": [
    "## 2.  Main loop\n",
    "### 2.1 Segmentation: create crops and corresponding unrefined metadata \n"
   ]
  },
  {
   "cell_type": "code",
   "execution_count": null,
   "id": "c9b5ad8f",
   "metadata": {},
   "outputs": [],
   "source": [
    "for profile in os.listdir(cruise_base):\n",
    "        print(profile)\n",
    "        profile_path = os.path.join(cruise_base, profile)\n",
    "        if os.path.isdir(profile_path):\n",
    "                img_folder = os.path.join(profile_path, profile+\"_Images-PNG\")\n",
    "                #img_folder = profile_path\n",
    "                results_folder = os.path.join(intermediate_result_dir, profile, profile+\"_Results\")\n",
    "                if not os.path.exists(img_folder):\n",
    "                        print(f\"Image folder {img_folder} does not exist, skipping profile {profile}.\")\n",
    "                        continue\n",
    "                if not os.path.exists(results_folder):\n",
    "                        os.makedirs(results_folder)\n",
    "                run_segmenter(img_folder, results_folder, deconvolution=False)"
   ]
  },
  {
   "cell_type": "markdown",
   "id": "b0953c4a",
   "metadata": {},
   "source": [
    "### 2.2 Postprocessing: filtering, metadata curation, EcoTaxa export"
   ]
  },
  {
   "cell_type": "code",
   "execution_count": 5,
   "id": "64bba3a0",
   "metadata": {},
   "outputs": [],
   "source": [
    "def clean_ecotaxa_folders(base_folder):\n",
    "        \"\"\"\n",
    "        Remove all EcoTaxa folders and their contents from the given base folder.\n",
    "        \n",
    "        Args:\n",
    "            base_folder (str): Path to the base directory to clean\n",
    "        \"\"\"\n",
    "        for root, dirs, _ in os.walk(base_folder):\n",
    "            if \"EcoTaxa\" in dirs:\n",
    "                ecotaxa_path = os.path.join(root, \"EcoTaxa\")\n",
    "                print(f\"Removing: {ecotaxa_path}\")\n",
    "                shutil.rmtree(ecotaxa_path)\n",
    "\n",
    "clean_ecotaxa_folders(intermediate_result_dir)"
   ]
  },
  {
   "cell_type": "code",
   "execution_count": null,
   "id": "5fa526d1",
   "metadata": {},
   "outputs": [
    {
     "name": "stdout",
     "output_type": "stream",
     "text": [
      "20210309_HE570_100-bop-019_PISCO1\n"
     ]
    },
    {
     "name": "stderr",
     "output_type": "stream",
     "text": [
      "  0%|          | 0/14257 [00:00<?, ?it/s]"
     ]
    },
    {
     "name": "stderr",
     "output_type": "stream",
     "text": [
      "100%|██████████| 14257/14257 [00:13<00:00, 1092.37it/s]\n"
     ]
    },
    {
     "name": "stdout",
     "output_type": "stream",
     "text": [
      "9846\n"
     ]
    },
    {
     "name": "stderr",
     "output_type": "stream",
     "text": [
      "2025-06-10 11:14:41,984 - crop_df created\n"
     ]
    },
    {
     "name": "stdout",
     "output_type": "stream",
     "text": [
      "0 files were empty and were dropped; Number of uniue images: 9846\n",
      "39968 particles found.\n",
      "No log directory provided, skipping log data.\n",
      "0 crops removed due to aspect ratio\n",
      "Processing 1 groups for /home/veit/PIScO_dev/Segmentation_results/HE570/HE570-PISCO-Profiles/TempResults/20210309_HE570_100-bop-019_PISCO1/20210309_HE570_100-bop-019_PISCO1_Results/Crops\n",
      "Created zip file: /home/veit/PIScO_dev/Segmentation_results/HE570/HE570-PISCO-Profiles/TempResults/20210309_HE570_100-bop-019_PISCO1/20210309_HE570_100-bop-019_PISCO1_Results/EcoTaxa/crops.zip\n",
      "Processing 1 groups for /home/veit/PIScO_dev/Segmentation_results/HE570/HE570-PISCO-Profiles/TempResults/20210309_HE570_100-bop-019_PISCO1/20210309_HE570_100-bop-019_PISCO1_Results/Deconv_crops\n",
      "Created zip file: /home/veit/PIScO_dev/Segmentation_results/HE570/HE570-PISCO-Profiles/TempResults/20210309_HE570_100-bop-019_PISCO1/20210309_HE570_100-bop-019_PISCO1_Results/EcoTaxa/deconv_crops.zip\n",
      "20210307_HE570_069-bop-015b_PISCO1\n"
     ]
    },
    {
     "name": "stderr",
     "output_type": "stream",
     "text": [
      "100%|██████████| 2136/2136 [00:02<00:00, 732.88it/s]\n",
      "2025-06-10 11:14:58,973 - crop_df created\n"
     ]
    },
    {
     "name": "stdout",
     "output_type": "stream",
     "text": [
      "1495\n",
      "0 files were empty and were dropped; Number of uniue images: 1495\n",
      "7337 particles found.\n",
      "No log directory provided, skipping log data.\n",
      "0 crops removed due to aspect ratio\n",
      "Processing 1 groups for /home/veit/PIScO_dev/Segmentation_results/HE570/HE570-PISCO-Profiles/TempResults/20210307_HE570_069-bop-015b_PISCO1/20210307_HE570_069-bop-015b_PISCO1_Results/Crops\n",
      "Created zip file: /home/veit/PIScO_dev/Segmentation_results/HE570/HE570-PISCO-Profiles/TempResults/20210307_HE570_069-bop-015b_PISCO1/20210307_HE570_069-bop-015b_PISCO1_Results/EcoTaxa/crops.zip\n",
      "Processing 1 groups for /home/veit/PIScO_dev/Segmentation_results/HE570/HE570-PISCO-Profiles/TempResults/20210307_HE570_069-bop-015b_PISCO1/20210307_HE570_069-bop-015b_PISCO1_Results/Deconv_crops\n",
      "Created zip file: /home/veit/PIScO_dev/Segmentation_results/HE570/HE570-PISCO-Profiles/TempResults/20210307_HE570_069-bop-015b_PISCO1/20210307_HE570_069-bop-015b_PISCO1_Results/EcoTaxa/deconv_crops.zip\n",
      "20210312_HE570_138-bop-028_PISCO1\n"
     ]
    },
    {
     "name": "stderr",
     "output_type": "stream",
     "text": [
      "100%|██████████| 3236/3236 [00:05<00:00, 642.86it/s]\n"
     ]
    },
    {
     "name": "stdout",
     "output_type": "stream",
     "text": [
      "2805\n"
     ]
    },
    {
     "name": "stderr",
     "output_type": "stream",
     "text": [
      "2025-06-10 11:15:09,113 - crop_df created\n"
     ]
    },
    {
     "name": "stdout",
     "output_type": "stream",
     "text": [
      "0 files were empty and were dropped; Number of uniue images: 2805\n",
      "25466 particles found.\n",
      "No log directory provided, skipping log data.\n",
      "0 crops removed due to aspect ratio\n",
      "Processing 1 groups for /home/veit/PIScO_dev/Segmentation_results/HE570/HE570-PISCO-Profiles/TempResults/20210312_HE570_138-bop-028_PISCO1/20210312_HE570_138-bop-028_PISCO1_Results/Crops\n",
      "Created zip file: /home/veit/PIScO_dev/Segmentation_results/HE570/HE570-PISCO-Profiles/TempResults/20210312_HE570_138-bop-028_PISCO1/20210312_HE570_138-bop-028_PISCO1_Results/EcoTaxa/crops.zip\n",
      "Processing 1 groups for /home/veit/PIScO_dev/Segmentation_results/HE570/HE570-PISCO-Profiles/TempResults/20210312_HE570_138-bop-028_PISCO1/20210312_HE570_138-bop-028_PISCO1_Results/Deconv_crops\n",
      "Created zip file: /home/veit/PIScO_dev/Segmentation_results/HE570/HE570-PISCO-Profiles/TempResults/20210312_HE570_138-bop-028_PISCO1/20210312_HE570_138-bop-028_PISCO1_Results/EcoTaxa/deconv_crops.zip\n",
      "20210305_HE570_027-bop-005_PISCO1\n"
     ]
    },
    {
     "name": "stderr",
     "output_type": "stream",
     "text": [
      "100%|██████████| 2929/2929 [00:04<00:00, 677.67it/s]\n",
      "2025-06-10 11:15:24,359 - crop_df created\n"
     ]
    },
    {
     "name": "stdout",
     "output_type": "stream",
     "text": [
      "1954\n",
      "0 files were empty and were dropped; Number of uniue images: 1954\n",
      "22227 particles found.\n",
      "No log directory provided, skipping log data.\n",
      "0 crops removed due to aspect ratio\n",
      "Processing 1 groups for /home/veit/PIScO_dev/Segmentation_results/HE570/HE570-PISCO-Profiles/TempResults/20210305_HE570_027-bop-005_PISCO1/20210305_HE570_027-bop-005_PISCO1_Results/Crops\n",
      "Created zip file: /home/veit/PIScO_dev/Segmentation_results/HE570/HE570-PISCO-Profiles/TempResults/20210305_HE570_027-bop-005_PISCO1/20210305_HE570_027-bop-005_PISCO1_Results/EcoTaxa/crops.zip\n",
      "Processing 1 groups for /home/veit/PIScO_dev/Segmentation_results/HE570/HE570-PISCO-Profiles/TempResults/20210305_HE570_027-bop-005_PISCO1/20210305_HE570_027-bop-005_PISCO1_Results/Deconv_crops\n",
      "Created zip file: /home/veit/PIScO_dev/Segmentation_results/HE570/HE570-PISCO-Profiles/TempResults/20210305_HE570_027-bop-005_PISCO1/20210305_HE570_027-bop-005_PISCO1_Results/EcoTaxa/deconv_crops.zip\n",
      "20210305_HE570_033-bop-007_PISCO1\n"
     ]
    },
    {
     "name": "stderr",
     "output_type": "stream",
     "text": [
      "100%|██████████| 2773/2773 [00:04<00:00, 649.85it/s]\n"
     ]
    },
    {
     "name": "stdout",
     "output_type": "stream",
     "text": [
      "1766\n"
     ]
    },
    {
     "name": "stderr",
     "output_type": "stream",
     "text": [
      "2025-06-10 11:15:34,835 - crop_df created\n"
     ]
    },
    {
     "name": "stdout",
     "output_type": "stream",
     "text": [
      "0 files were empty and were dropped; Number of uniue images: 1766\n",
      "36498 particles found.\n",
      "No log directory provided, skipping log data.\n",
      "0 crops removed due to aspect ratio\n",
      "Processing 1 groups for /home/veit/PIScO_dev/Segmentation_results/HE570/HE570-PISCO-Profiles/TempResults/20210305_HE570_033-bop-007_PISCO1/20210305_HE570_033-bop-007_PISCO1_Results/Crops\n",
      "Created zip file: /home/veit/PIScO_dev/Segmentation_results/HE570/HE570-PISCO-Profiles/TempResults/20210305_HE570_033-bop-007_PISCO1/20210305_HE570_033-bop-007_PISCO1_Results/EcoTaxa/crops.zip\n",
      "Processing 1 groups for /home/veit/PIScO_dev/Segmentation_results/HE570/HE570-PISCO-Profiles/TempResults/20210305_HE570_033-bop-007_PISCO1/20210305_HE570_033-bop-007_PISCO1_Results/Deconv_crops\n",
      "Created zip file: /home/veit/PIScO_dev/Segmentation_results/HE570/HE570-PISCO-Profiles/TempResults/20210305_HE570_033-bop-007_PISCO1/20210305_HE570_033-bop-007_PISCO1_Results/EcoTaxa/deconv_crops.zip\n",
      "20210314_HE570_191-bop-035c_PISCO1\n"
     ]
    },
    {
     "name": "stderr",
     "output_type": "stream",
     "text": [
      "100%|██████████| 1526/1526 [00:02<00:00, 677.58it/s]\n",
      "2025-06-10 11:15:49,950 - crop_df created\n"
     ]
    },
    {
     "name": "stdout",
     "output_type": "stream",
     "text": [
      "1336\n",
      "0 files were empty and were dropped; Number of uniue images: 1336\n",
      "7166 particles found.\n",
      "No log directory provided, skipping log data.\n",
      "0 crops removed due to aspect ratio\n",
      "Processing 1 groups for /home/veit/PIScO_dev/Segmentation_results/HE570/HE570-PISCO-Profiles/TempResults/20210314_HE570_191-bop-035c_PISCO1/20210314_HE570_191-bop-035c_PISCO1_Results/Crops\n",
      "Created zip file: /home/veit/PIScO_dev/Segmentation_results/HE570/HE570-PISCO-Profiles/TempResults/20210314_HE570_191-bop-035c_PISCO1/20210314_HE570_191-bop-035c_PISCO1_Results/EcoTaxa/crops.zip\n",
      "Processing 1 groups for /home/veit/PIScO_dev/Segmentation_results/HE570/HE570-PISCO-Profiles/TempResults/20210314_HE570_191-bop-035c_PISCO1/20210314_HE570_191-bop-035c_PISCO1_Results/Deconv_crops\n",
      "Created zip file: /home/veit/PIScO_dev/Segmentation_results/HE570/HE570-PISCO-Profiles/TempResults/20210314_HE570_191-bop-035c_PISCO1/20210314_HE570_191-bop-035c_PISCO1_Results/EcoTaxa/deconv_crops.zip\n",
      "20210315_HE570_221-bop-039a_PISCO1\n"
     ]
    },
    {
     "name": "stderr",
     "output_type": "stream",
     "text": [
      "100%|██████████| 3442/3442 [00:05<00:00, 679.58it/s]\n",
      "2025-06-10 11:15:59,297 - crop_df created\n"
     ]
    },
    {
     "name": "stdout",
     "output_type": "stream",
     "text": [
      "3192\n",
      "0 files were empty and were dropped; Number of uniue images: 3192\n",
      "16817 particles found.\n",
      "No log directory provided, skipping log data.\n",
      "0 crops removed due to aspect ratio\n",
      "Processing 1 groups for /home/veit/PIScO_dev/Segmentation_results/HE570/HE570-PISCO-Profiles/TempResults/20210315_HE570_221-bop-039a_PISCO1/20210315_HE570_221-bop-039a_PISCO1_Results/Crops\n",
      "Created zip file: /home/veit/PIScO_dev/Segmentation_results/HE570/HE570-PISCO-Profiles/TempResults/20210315_HE570_221-bop-039a_PISCO1/20210315_HE570_221-bop-039a_PISCO1_Results/EcoTaxa/crops.zip\n",
      "Processing 1 groups for /home/veit/PIScO_dev/Segmentation_results/HE570/HE570-PISCO-Profiles/TempResults/20210315_HE570_221-bop-039a_PISCO1/20210315_HE570_221-bop-039a_PISCO1_Results/Deconv_crops\n",
      "Created zip file: /home/veit/PIScO_dev/Segmentation_results/HE570/HE570-PISCO-Profiles/TempResults/20210315_HE570_221-bop-039a_PISCO1/20210315_HE570_221-bop-039a_PISCO1_Results/EcoTaxa/deconv_crops.zip\n",
      "20210312_HE570_135-bop-027_PISCO1\n"
     ]
    },
    {
     "name": "stderr",
     "output_type": "stream",
     "text": [
      "100%|██████████| 3349/3349 [00:05<00:00, 654.37it/s]\n"
     ]
    },
    {
     "name": "stdout",
     "output_type": "stream",
     "text": [
      "2953\n"
     ]
    },
    {
     "name": "stderr",
     "output_type": "stream",
     "text": [
      "2025-06-10 11:16:14,589 - crop_df created\n"
     ]
    },
    {
     "name": "stdout",
     "output_type": "stream",
     "text": [
      "0 files were empty and were dropped; Number of uniue images: 2953\n",
      "32895 particles found.\n",
      "No log directory provided, skipping log data.\n",
      "0 crops removed due to aspect ratio\n",
      "Processing 1 groups for /home/veit/PIScO_dev/Segmentation_results/HE570/HE570-PISCO-Profiles/TempResults/20210312_HE570_135-bop-027_PISCO1/20210312_HE570_135-bop-027_PISCO1_Results/Crops\n",
      "Created zip file: /home/veit/PIScO_dev/Segmentation_results/HE570/HE570-PISCO-Profiles/TempResults/20210312_HE570_135-bop-027_PISCO1/20210312_HE570_135-bop-027_PISCO1_Results/EcoTaxa/crops.zip\n",
      "Processing 1 groups for /home/veit/PIScO_dev/Segmentation_results/HE570/HE570-PISCO-Profiles/TempResults/20210312_HE570_135-bop-027_PISCO1/20210312_HE570_135-bop-027_PISCO1_Results/Deconv_crops\n",
      "Created zip file: /home/veit/PIScO_dev/Segmentation_results/HE570/HE570-PISCO-Profiles/TempResults/20210312_HE570_135-bop-027_PISCO1/20210312_HE570_135-bop-027_PISCO1_Results/EcoTaxa/deconv_crops.zip\n",
      "20210311_HE570_124-bop-026_PISCO1\n"
     ]
    },
    {
     "name": "stderr",
     "output_type": "stream",
     "text": [
      "100%|██████████| 3426/3426 [00:04<00:00, 711.49it/s]\n",
      "2025-06-10 11:16:31,026 - crop_df created\n"
     ]
    },
    {
     "name": "stdout",
     "output_type": "stream",
     "text": [
      "2779\n",
      "0 files were empty and were dropped; Number of uniue images: 2779\n",
      "17709 particles found.\n",
      "No log directory provided, skipping log data.\n",
      "0 crops removed due to aspect ratio\n",
      "Processing 1 groups for /home/veit/PIScO_dev/Segmentation_results/HE570/HE570-PISCO-Profiles/TempResults/20210311_HE570_124-bop-026_PISCO1/20210311_HE570_124-bop-026_PISCO1_Results/Crops\n",
      "Created zip file: /home/veit/PIScO_dev/Segmentation_results/HE570/HE570-PISCO-Profiles/TempResults/20210311_HE570_124-bop-026_PISCO1/20210311_HE570_124-bop-026_PISCO1_Results/EcoTaxa/crops.zip\n",
      "Processing 1 groups for /home/veit/PIScO_dev/Segmentation_results/HE570/HE570-PISCO-Profiles/TempResults/20210311_HE570_124-bop-026_PISCO1/20210311_HE570_124-bop-026_PISCO1_Results/Deconv_crops\n",
      "Created zip file: /home/veit/PIScO_dev/Segmentation_results/HE570/HE570-PISCO-Profiles/TempResults/20210311_HE570_124-bop-026_PISCO1/20210311_HE570_124-bop-026_PISCO1_Results/EcoTaxa/deconv_crops.zip\n",
      "20210315_HE570_211-bop-037c_PISCO1\n"
     ]
    },
    {
     "name": "stderr",
     "output_type": "stream",
     "text": [
      "100%|██████████| 3623/3623 [00:05<00:00, 709.04it/s]\n",
      "2025-06-10 11:16:46,755 - crop_df created\n"
     ]
    },
    {
     "name": "stdout",
     "output_type": "stream",
     "text": [
      "3284\n",
      "0 files were empty and were dropped; Number of uniue images: 3284\n",
      "22495 particles found.\n",
      "No log directory provided, skipping log data.\n",
      "0 crops removed due to aspect ratio\n",
      "Processing 1 groups for /home/veit/PIScO_dev/Segmentation_results/HE570/HE570-PISCO-Profiles/TempResults/20210315_HE570_211-bop-037c_PISCO1/20210315_HE570_211-bop-037c_PISCO1_Results/Crops\n",
      "Created zip file: /home/veit/PIScO_dev/Segmentation_results/HE570/HE570-PISCO-Profiles/TempResults/20210315_HE570_211-bop-037c_PISCO1/20210315_HE570_211-bop-037c_PISCO1_Results/EcoTaxa/crops.zip\n",
      "Processing 1 groups for /home/veit/PIScO_dev/Segmentation_results/HE570/HE570-PISCO-Profiles/TempResults/20210315_HE570_211-bop-037c_PISCO1/20210315_HE570_211-bop-037c_PISCO1_Results/Deconv_crops\n",
      "Created zip file: /home/veit/PIScO_dev/Segmentation_results/HE570/HE570-PISCO-Profiles/TempResults/20210315_HE570_211-bop-037c_PISCO1/20210315_HE570_211-bop-037c_PISCO1_Results/EcoTaxa/deconv_crops.zip\n",
      "20210308_HE570_085-bop-017_PISCO1\n"
     ]
    },
    {
     "name": "stderr",
     "output_type": "stream",
     "text": [
      "100%|██████████| 4187/4187 [00:06<00:00, 622.55it/s]\n",
      "2025-06-10 11:17:05,339 - crop_df created\n"
     ]
    },
    {
     "name": "stdout",
     "output_type": "stream",
     "text": [
      "2874\n",
      "0 files were empty and were dropped; Number of uniue images: 2874\n",
      "18193 particles found.\n",
      "No log directory provided, skipping log data.\n",
      "0 crops removed due to aspect ratio\n",
      "Processing 1 groups for /home/veit/PIScO_dev/Segmentation_results/HE570/HE570-PISCO-Profiles/TempResults/20210308_HE570_085-bop-017_PISCO1/20210308_HE570_085-bop-017_PISCO1_Results/Crops\n",
      "Created zip file: /home/veit/PIScO_dev/Segmentation_results/HE570/HE570-PISCO-Profiles/TempResults/20210308_HE570_085-bop-017_PISCO1/20210308_HE570_085-bop-017_PISCO1_Results/EcoTaxa/crops.zip\n",
      "Processing 1 groups for /home/veit/PIScO_dev/Segmentation_results/HE570/HE570-PISCO-Profiles/TempResults/20210308_HE570_085-bop-017_PISCO1/20210308_HE570_085-bop-017_PISCO1_Results/Deconv_crops\n",
      "Created zip file: /home/veit/PIScO_dev/Segmentation_results/HE570/HE570-PISCO-Profiles/TempResults/20210308_HE570_085-bop-017_PISCO1/20210308_HE570_085-bop-017_PISCO1_Results/EcoTaxa/deconv_crops.zip\n",
      "20210312_HE570_151-bop-031_PISCO1\n"
     ]
    },
    {
     "name": "stderr",
     "output_type": "stream",
     "text": [
      "100%|██████████| 1084/1084 [00:03<00:00, 346.92it/s]\n",
      "2025-06-10 11:17:21,966 - crop_df created\n"
     ]
    },
    {
     "name": "stdout",
     "output_type": "stream",
     "text": [
      "1015\n",
      "0 files were empty and were dropped; Number of uniue images: 1015\n",
      "6291 particles found.\n",
      "No log directory provided, skipping log data.\n",
      "0 crops removed due to aspect ratio\n",
      "Processing 1 groups for /home/veit/PIScO_dev/Segmentation_results/HE570/HE570-PISCO-Profiles/TempResults/20210312_HE570_151-bop-031_PISCO1/20210312_HE570_151-bop-031_PISCO1_Results/Crops\n",
      "Created zip file: /home/veit/PIScO_dev/Segmentation_results/HE570/HE570-PISCO-Profiles/TempResults/20210312_HE570_151-bop-031_PISCO1/20210312_HE570_151-bop-031_PISCO1_Results/EcoTaxa/crops.zip\n",
      "Processing 1 groups for /home/veit/PIScO_dev/Segmentation_results/HE570/HE570-PISCO-Profiles/TempResults/20210312_HE570_151-bop-031_PISCO1/20210312_HE570_151-bop-031_PISCO1_Results/Deconv_crops\n",
      "Created zip file: /home/veit/PIScO_dev/Segmentation_results/HE570/HE570-PISCO-Profiles/TempResults/20210312_HE570_151-bop-031_PISCO1/20210312_HE570_151-bop-031_PISCO1_Results/EcoTaxa/deconv_crops.zip\n",
      "20210306_HE570_050-bop-012_PISCO1\n"
     ]
    },
    {
     "name": "stderr",
     "output_type": "stream",
     "text": [
      "100%|██████████| 1942/1942 [00:06<00:00, 309.78it/s]\n"
     ]
    },
    {
     "name": "stdout",
     "output_type": "stream",
     "text": [
      "1572\n"
     ]
    },
    {
     "name": "stderr",
     "output_type": "stream",
     "text": [
      "2025-06-10 11:17:33,279 - crop_df created\n"
     ]
    },
    {
     "name": "stdout",
     "output_type": "stream",
     "text": [
      "0 files were empty and were dropped; Number of uniue images: 1572\n",
      "38618 particles found.\n",
      "No log directory provided, skipping log data.\n",
      "0 crops removed due to aspect ratio\n",
      "Processing 1 groups for /home/veit/PIScO_dev/Segmentation_results/HE570/HE570-PISCO-Profiles/TempResults/20210306_HE570_050-bop-012_PISCO1/20210306_HE570_050-bop-012_PISCO1_Results/Crops\n",
      "Created zip file: /home/veit/PIScO_dev/Segmentation_results/HE570/HE570-PISCO-Profiles/TempResults/20210306_HE570_050-bop-012_PISCO1/20210306_HE570_050-bop-012_PISCO1_Results/EcoTaxa/crops.zip\n",
      "Processing 1 groups for /home/veit/PIScO_dev/Segmentation_results/HE570/HE570-PISCO-Profiles/TempResults/20210306_HE570_050-bop-012_PISCO1/20210306_HE570_050-bop-012_PISCO1_Results/Deconv_crops\n",
      "Created zip file: /home/veit/PIScO_dev/Segmentation_results/HE570/HE570-PISCO-Profiles/TempResults/20210306_HE570_050-bop-012_PISCO1/20210306_HE570_050-bop-012_PISCO1_Results/EcoTaxa/deconv_crops.zip\n",
      "20210314_HE570_191-bop-035a_PISCO1\n"
     ]
    },
    {
     "name": "stderr",
     "output_type": "stream",
     "text": [
      "100%|██████████| 7062/7062 [00:11<00:00, 611.85it/s]\n"
     ]
    },
    {
     "name": "stdout",
     "output_type": "stream",
     "text": [
      "6437\n"
     ]
    },
    {
     "name": "stderr",
     "output_type": "stream",
     "text": [
      "2025-06-10 11:18:10,858 - crop_df created\n"
     ]
    },
    {
     "name": "stdout",
     "output_type": "stream",
     "text": [
      "0 files were empty and were dropped; Number of uniue images: 6437\n",
      "35136 particles found.\n",
      "No log directory provided, skipping log data.\n",
      "0 crops removed due to aspect ratio\n",
      "Processing 1 groups for /home/veit/PIScO_dev/Segmentation_results/HE570/HE570-PISCO-Profiles/TempResults/20210314_HE570_191-bop-035a_PISCO1/20210314_HE570_191-bop-035a_PISCO1_Results/Crops\n",
      "Created zip file: /home/veit/PIScO_dev/Segmentation_results/HE570/HE570-PISCO-Profiles/TempResults/20210314_HE570_191-bop-035a_PISCO1/20210314_HE570_191-bop-035a_PISCO1_Results/EcoTaxa/crops.zip\n",
      "Processing 1 groups for /home/veit/PIScO_dev/Segmentation_results/HE570/HE570-PISCO-Profiles/TempResults/20210314_HE570_191-bop-035a_PISCO1/20210314_HE570_191-bop-035a_PISCO1_Results/Deconv_crops\n",
      "Created zip file: /home/veit/PIScO_dev/Segmentation_results/HE570/HE570-PISCO-Profiles/TempResults/20210314_HE570_191-bop-035a_PISCO1/20210314_HE570_191-bop-035a_PISCO1_Results/EcoTaxa/deconv_crops.zip\n",
      "20210304_HE570_014-bop-002_PISCO1\n"
     ]
    },
    {
     "name": "stderr",
     "output_type": "stream",
     "text": [
      "100%|██████████| 2963/2963 [00:06<00:00, 480.11it/s]\n"
     ]
    },
    {
     "name": "stdout",
     "output_type": "stream",
     "text": [
      "2333\n"
     ]
    },
    {
     "name": "stderr",
     "output_type": "stream",
     "text": [
      "2025-06-10 11:19:33,657 - crop_df created\n"
     ]
    },
    {
     "name": "stdout",
     "output_type": "stream",
     "text": [
      "0 files were empty and were dropped; Number of uniue images: 2333\n",
      "50807 particles found.\n",
      "No log directory provided, skipping log data.\n",
      "0 crops removed due to aspect ratio\n",
      "Processing 1 groups for /home/veit/PIScO_dev/Segmentation_results/HE570/HE570-PISCO-Profiles/TempResults/20210304_HE570_014-bop-002_PISCO1/20210304_HE570_014-bop-002_PISCO1_Results/Crops\n",
      "Created zip file: /home/veit/PIScO_dev/Segmentation_results/HE570/HE570-PISCO-Profiles/TempResults/20210304_HE570_014-bop-002_PISCO1/20210304_HE570_014-bop-002_PISCO1_Results/EcoTaxa/crops.zip\n",
      "Processing 1 groups for /home/veit/PIScO_dev/Segmentation_results/HE570/HE570-PISCO-Profiles/TempResults/20210304_HE570_014-bop-002_PISCO1/20210304_HE570_014-bop-002_PISCO1_Results/Deconv_crops\n",
      "Created zip file: /home/veit/PIScO_dev/Segmentation_results/HE570/HE570-PISCO-Profiles/TempResults/20210304_HE570_014-bop-002_PISCO1/20210304_HE570_014-bop-002_PISCO1_Results/EcoTaxa/deconv_crops.zip\n",
      "20210307_HE570_076-bop-016e_PISCO1\n"
     ]
    },
    {
     "name": "stderr",
     "output_type": "stream",
     "text": [
      "100%|██████████| 9/9 [00:00<00:00, 685.44it/s]\n",
      "2025-06-10 11:19:49,106 - crop_df created\n"
     ]
    },
    {
     "name": "stdout",
     "output_type": "stream",
     "text": [
      "4\n",
      "0 files were empty and were dropped; Number of uniue images: 4\n",
      "5 particles found.\n",
      "No log directory provided, skipping log data.\n",
      "0 crops removed due to aspect ratio\n",
      "Processing 1 groups for /home/veit/PIScO_dev/Segmentation_results/HE570/HE570-PISCO-Profiles/TempResults/20210307_HE570_076-bop-016e_PISCO1/20210307_HE570_076-bop-016e_PISCO1_Results/Crops\n",
      "Created zip file: /home/veit/PIScO_dev/Segmentation_results/HE570/HE570-PISCO-Profiles/TempResults/20210307_HE570_076-bop-016e_PISCO1/20210307_HE570_076-bop-016e_PISCO1_Results/EcoTaxa/crops.zip\n",
      "Processing 1 groups for /home/veit/PIScO_dev/Segmentation_results/HE570/HE570-PISCO-Profiles/TempResults/20210307_HE570_076-bop-016e_PISCO1/20210307_HE570_076-bop-016e_PISCO1_Results/Deconv_crops\n",
      "Created zip file: /home/veit/PIScO_dev/Segmentation_results/HE570/HE570-PISCO-Profiles/TempResults/20210307_HE570_076-bop-016e_PISCO1/20210307_HE570_076-bop-016e_PISCO1_Results/EcoTaxa/deconv_crops.zip\n",
      "20210307_HE570_076-bop-016b_PISCO1\n"
     ]
    },
    {
     "name": "stderr",
     "output_type": "stream",
     "text": [
      "100%|██████████| 2097/2097 [00:02<00:00, 746.74it/s]\n",
      "2025-06-10 11:19:52,417 - crop_df created\n"
     ]
    },
    {
     "name": "stdout",
     "output_type": "stream",
     "text": [
      "1413\n",
      "0 files were empty and were dropped; Number of uniue images: 1413\n",
      "6185 particles found.\n",
      "No log directory provided, skipping log data.\n",
      "0 crops removed due to aspect ratio\n",
      "Processing 1 groups for /home/veit/PIScO_dev/Segmentation_results/HE570/HE570-PISCO-Profiles/TempResults/20210307_HE570_076-bop-016b_PISCO1/20210307_HE570_076-bop-016b_PISCO1_Results/Crops\n",
      "Created zip file: /home/veit/PIScO_dev/Segmentation_results/HE570/HE570-PISCO-Profiles/TempResults/20210307_HE570_076-bop-016b_PISCO1/20210307_HE570_076-bop-016b_PISCO1_Results/EcoTaxa/crops.zip\n",
      "Processing 1 groups for /home/veit/PIScO_dev/Segmentation_results/HE570/HE570-PISCO-Profiles/TempResults/20210307_HE570_076-bop-016b_PISCO1/20210307_HE570_076-bop-016b_PISCO1_Results/Deconv_crops\n",
      "Created zip file: /home/veit/PIScO_dev/Segmentation_results/HE570/HE570-PISCO-Profiles/TempResults/20210307_HE570_076-bop-016b_PISCO1/20210307_HE570_076-bop-016b_PISCO1_Results/EcoTaxa/deconv_crops.zip\n",
      "20210305_HE570_040-bop-009_PISCO1\n"
     ]
    },
    {
     "name": "stderr",
     "output_type": "stream",
     "text": [
      "100%|██████████| 3565/3565 [00:05<00:00, 683.30it/s]\n",
      "2025-06-10 11:20:02,843 - crop_df created\n"
     ]
    },
    {
     "name": "stdout",
     "output_type": "stream",
     "text": [
      "2786\n",
      "0 files were empty and were dropped; Number of uniue images: 2786\n",
      "19451 particles found.\n",
      "No log directory provided, skipping log data.\n",
      "0 crops removed due to aspect ratio\n",
      "Processing 1 groups for /home/veit/PIScO_dev/Segmentation_results/HE570/HE570-PISCO-Profiles/TempResults/20210305_HE570_040-bop-009_PISCO1/20210305_HE570_040-bop-009_PISCO1_Results/Crops\n",
      "Created zip file: /home/veit/PIScO_dev/Segmentation_results/HE570/HE570-PISCO-Profiles/TempResults/20210305_HE570_040-bop-009_PISCO1/20210305_HE570_040-bop-009_PISCO1_Results/EcoTaxa/crops.zip\n",
      "Processing 1 groups for /home/veit/PIScO_dev/Segmentation_results/HE570/HE570-PISCO-Profiles/TempResults/20210305_HE570_040-bop-009_PISCO1/20210305_HE570_040-bop-009_PISCO1_Results/Deconv_crops\n",
      "Created zip file: /home/veit/PIScO_dev/Segmentation_results/HE570/HE570-PISCO-Profiles/TempResults/20210305_HE570_040-bop-009_PISCO1/20210305_HE570_040-bop-009_PISCO1_Results/EcoTaxa/deconv_crops.zip\n",
      "20210314_HE570_191-bop-035d_PISCO1\n"
     ]
    },
    {
     "name": "stderr",
     "output_type": "stream",
     "text": [
      "100%|██████████| 2445/2445 [00:03<00:00, 687.66it/s]\n",
      "2025-06-10 11:20:16,659 - crop_df created\n"
     ]
    },
    {
     "name": "stdout",
     "output_type": "stream",
     "text": [
      "2377\n",
      "0 files were empty and were dropped; Number of uniue images: 2377\n",
      "10472 particles found.\n",
      "No log directory provided, skipping log data.\n",
      "0 crops removed due to aspect ratio\n",
      "Processing 1 groups for /home/veit/PIScO_dev/Segmentation_results/HE570/HE570-PISCO-Profiles/TempResults/20210314_HE570_191-bop-035d_PISCO1/20210314_HE570_191-bop-035d_PISCO1_Results/Crops\n",
      "Created zip file: /home/veit/PIScO_dev/Segmentation_results/HE570/HE570-PISCO-Profiles/TempResults/20210314_HE570_191-bop-035d_PISCO1/20210314_HE570_191-bop-035d_PISCO1_Results/EcoTaxa/crops.zip\n",
      "Processing 1 groups for /home/veit/PIScO_dev/Segmentation_results/HE570/HE570-PISCO-Profiles/TempResults/20210314_HE570_191-bop-035d_PISCO1/20210314_HE570_191-bop-035d_PISCO1_Results/Deconv_crops\n",
      "Created zip file: /home/veit/PIScO_dev/Segmentation_results/HE570/HE570-PISCO-Profiles/TempResults/20210314_HE570_191-bop-035d_PISCO1/20210314_HE570_191-bop-035d_PISCO1_Results/EcoTaxa/deconv_crops.zip\n",
      "20210307_HE570_076-bop-016c_PISCO1\n"
     ]
    },
    {
     "name": "stderr",
     "output_type": "stream",
     "text": [
      "100%|██████████| 927/927 [00:01<00:00, 677.62it/s]\n",
      "2025-06-10 11:20:24,115 - crop_df created\n"
     ]
    },
    {
     "name": "stdout",
     "output_type": "stream",
     "text": [
      "621\n",
      "0 files were empty and were dropped; Number of uniue images: 621\n",
      "5845 particles found.\n",
      "No log directory provided, skipping log data.\n",
      "0 crops removed due to aspect ratio\n",
      "Processing 1 groups for /home/veit/PIScO_dev/Segmentation_results/HE570/HE570-PISCO-Profiles/TempResults/20210307_HE570_076-bop-016c_PISCO1/20210307_HE570_076-bop-016c_PISCO1_Results/Crops\n",
      "Created zip file: /home/veit/PIScO_dev/Segmentation_results/HE570/HE570-PISCO-Profiles/TempResults/20210307_HE570_076-bop-016c_PISCO1/20210307_HE570_076-bop-016c_PISCO1_Results/EcoTaxa/crops.zip\n",
      "Processing 1 groups for /home/veit/PIScO_dev/Segmentation_results/HE570/HE570-PISCO-Profiles/TempResults/20210307_HE570_076-bop-016c_PISCO1/20210307_HE570_076-bop-016c_PISCO1_Results/Deconv_crops\n",
      "Created zip file: /home/veit/PIScO_dev/Segmentation_results/HE570/HE570-PISCO-Profiles/TempResults/20210307_HE570_076-bop-016c_PISCO1/20210307_HE570_076-bop-016c_PISCO1_Results/EcoTaxa/deconv_crops.zip\n",
      "20210307_HE570_069-bop-015a_PISCO1\n"
     ]
    },
    {
     "name": "stderr",
     "output_type": "stream",
     "text": [
      "100%|██████████| 1233/1233 [00:01<00:00, 685.91it/s]\n",
      "2025-06-10 11:20:28,491 - crop_df created\n"
     ]
    },
    {
     "name": "stdout",
     "output_type": "stream",
     "text": [
      "733\n",
      "0 files were empty and were dropped; Number of uniue images: 733\n",
      "5591 particles found.\n",
      "No log directory provided, skipping log data.\n",
      "0 crops removed due to aspect ratio\n",
      "Processing 1 groups for /home/veit/PIScO_dev/Segmentation_results/HE570/HE570-PISCO-Profiles/TempResults/20210307_HE570_069-bop-015a_PISCO1/20210307_HE570_069-bop-015a_PISCO1_Results/Crops\n",
      "Created zip file: /home/veit/PIScO_dev/Segmentation_results/HE570/HE570-PISCO-Profiles/TempResults/20210307_HE570_069-bop-015a_PISCO1/20210307_HE570_069-bop-015a_PISCO1_Results/EcoTaxa/crops.zip\n",
      "Processing 1 groups for /home/veit/PIScO_dev/Segmentation_results/HE570/HE570-PISCO-Profiles/TempResults/20210307_HE570_069-bop-015a_PISCO1/20210307_HE570_069-bop-015a_PISCO1_Results/Deconv_crops\n",
      "Created zip file: /home/veit/PIScO_dev/Segmentation_results/HE570/HE570-PISCO-Profiles/TempResults/20210307_HE570_069-bop-015a_PISCO1/20210307_HE570_069-bop-015a_PISCO1_Results/EcoTaxa/deconv_crops.zip\n",
      "20210311_HE570_103-bop-020_PISCO1\n"
     ]
    },
    {
     "name": "stderr",
     "output_type": "stream",
     "text": [
      "100%|██████████| 1337/1337 [00:01<00:00, 692.24it/s]\n",
      "2025-06-10 11:20:33,415 - crop_df created\n"
     ]
    },
    {
     "name": "stdout",
     "output_type": "stream",
     "text": [
      "913\n",
      "0 files were empty and were dropped; Number of uniue images: 913\n",
      "3013 particles found.\n",
      "No log directory provided, skipping log data.\n",
      "0 crops removed due to aspect ratio\n",
      "Processing 1 groups for /home/veit/PIScO_dev/Segmentation_results/HE570/HE570-PISCO-Profiles/TempResults/20210311_HE570_103-bop-020_PISCO1/20210311_HE570_103-bop-020_PISCO1_Results/Crops\n",
      "Created zip file: /home/veit/PIScO_dev/Segmentation_results/HE570/HE570-PISCO-Profiles/TempResults/20210311_HE570_103-bop-020_PISCO1/20210311_HE570_103-bop-020_PISCO1_Results/EcoTaxa/crops.zip\n",
      "Processing 1 groups for /home/veit/PIScO_dev/Segmentation_results/HE570/HE570-PISCO-Profiles/TempResults/20210311_HE570_103-bop-020_PISCO1/20210311_HE570_103-bop-020_PISCO1_Results/Deconv_crops\n",
      "Created zip file: /home/veit/PIScO_dev/Segmentation_results/HE570/HE570-PISCO-Profiles/TempResults/20210311_HE570_103-bop-020_PISCO1/20210311_HE570_103-bop-020_PISCO1_Results/EcoTaxa/deconv_crops.zip\n",
      "20210314_HE570_191-bop-035b_PISCO1\n"
     ]
    },
    {
     "name": "stderr",
     "output_type": "stream",
     "text": [
      "100%|██████████| 3203/3203 [00:04<00:00, 716.44it/s]\n",
      "2025-06-10 11:20:40,701 - crop_df created\n"
     ]
    },
    {
     "name": "stdout",
     "output_type": "stream",
     "text": [
      "2935\n",
      "0 files were empty and were dropped; Number of uniue images: 2935\n",
      "16495 particles found.\n",
      "No log directory provided, skipping log data.\n",
      "0 crops removed due to aspect ratio\n",
      "Processing 1 groups for /home/veit/PIScO_dev/Segmentation_results/HE570/HE570-PISCO-Profiles/TempResults/20210314_HE570_191-bop-035b_PISCO1/20210314_HE570_191-bop-035b_PISCO1_Results/Crops\n",
      "Created zip file: /home/veit/PIScO_dev/Segmentation_results/HE570/HE570-PISCO-Profiles/TempResults/20210314_HE570_191-bop-035b_PISCO1/20210314_HE570_191-bop-035b_PISCO1_Results/EcoTaxa/crops.zip\n",
      "Processing 1 groups for /home/veit/PIScO_dev/Segmentation_results/HE570/HE570-PISCO-Profiles/TempResults/20210314_HE570_191-bop-035b_PISCO1/20210314_HE570_191-bop-035b_PISCO1_Results/Deconv_crops\n",
      "Created zip file: /home/veit/PIScO_dev/Segmentation_results/HE570/HE570-PISCO-Profiles/TempResults/20210314_HE570_191-bop-035b_PISCO1/20210314_HE570_191-bop-035b_PISCO1_Results/EcoTaxa/deconv_crops.zip\n",
      "20210312_HE570_147-bop-030_PISCO1\n"
     ]
    },
    {
     "name": "stderr",
     "output_type": "stream",
     "text": [
      "100%|██████████| 1282/1282 [00:02<00:00, 578.40it/s]\n",
      "2025-06-10 11:20:52,669 - crop_df created\n"
     ]
    },
    {
     "name": "stdout",
     "output_type": "stream",
     "text": [
      "1184\n",
      "0 files were empty and were dropped; Number of uniue images: 1184\n",
      "10857 particles found.\n",
      "No log directory provided, skipping log data.\n",
      "0 crops removed due to aspect ratio\n",
      "Processing 1 groups for /home/veit/PIScO_dev/Segmentation_results/HE570/HE570-PISCO-Profiles/TempResults/20210312_HE570_147-bop-030_PISCO1/20210312_HE570_147-bop-030_PISCO1_Results/Crops\n",
      "Created zip file: /home/veit/PIScO_dev/Segmentation_results/HE570/HE570-PISCO-Profiles/TempResults/20210312_HE570_147-bop-030_PISCO1/20210312_HE570_147-bop-030_PISCO1_Results/EcoTaxa/crops.zip\n",
      "Processing 1 groups for /home/veit/PIScO_dev/Segmentation_results/HE570/HE570-PISCO-Profiles/TempResults/20210312_HE570_147-bop-030_PISCO1/20210312_HE570_147-bop-030_PISCO1_Results/Deconv_crops\n",
      "Created zip file: /home/veit/PIScO_dev/Segmentation_results/HE570/HE570-PISCO-Profiles/TempResults/20210312_HE570_147-bop-030_PISCO1/20210312_HE570_147-bop-030_PISCO1_Results/EcoTaxa/deconv_crops.zip\n",
      "20210306_HE570_060-bop-014_PISCO1\n"
     ]
    },
    {
     "name": "stderr",
     "output_type": "stream",
     "text": [
      "100%|██████████| 4034/4034 [00:05<00:00, 680.20it/s]\n",
      "2025-06-10 11:21:04,247 - crop_df created\n"
     ]
    },
    {
     "name": "stdout",
     "output_type": "stream",
     "text": [
      "2744\n",
      "0 files were empty and were dropped; Number of uniue images: 2744\n",
      "19029 particles found.\n",
      "No log directory provided, skipping log data.\n",
      "0 crops removed due to aspect ratio\n",
      "Processing 1 groups for /home/veit/PIScO_dev/Segmentation_results/HE570/HE570-PISCO-Profiles/TempResults/20210306_HE570_060-bop-014_PISCO1/20210306_HE570_060-bop-014_PISCO1_Results/Crops\n",
      "Created zip file: /home/veit/PIScO_dev/Segmentation_results/HE570/HE570-PISCO-Profiles/TempResults/20210306_HE570_060-bop-014_PISCO1/20210306_HE570_060-bop-014_PISCO1_Results/EcoTaxa/crops.zip\n",
      "Processing 1 groups for /home/veit/PIScO_dev/Segmentation_results/HE570/HE570-PISCO-Profiles/TempResults/20210306_HE570_060-bop-014_PISCO1/20210306_HE570_060-bop-014_PISCO1_Results/Deconv_crops\n",
      "Created zip file: /home/veit/PIScO_dev/Segmentation_results/HE570/HE570-PISCO-Profiles/TempResults/20210306_HE570_060-bop-014_PISCO1/20210306_HE570_060-bop-014_PISCO1_Results/EcoTaxa/deconv_crops.zip\n",
      "20210315_HE570_215-bop-038a_PISCO1\n"
     ]
    },
    {
     "name": "stderr",
     "output_type": "stream",
     "text": [
      "100%|██████████| 3800/3800 [00:05<00:00, 682.03it/s]\n"
     ]
    },
    {
     "name": "stdout",
     "output_type": "stream",
     "text": [
      "3582\n"
     ]
    },
    {
     "name": "stderr",
     "output_type": "stream",
     "text": [
      "2025-06-10 11:21:16,615 - crop_df created\n"
     ]
    },
    {
     "name": "stdout",
     "output_type": "stream",
     "text": [
      "0 files were empty and were dropped; Number of uniue images: 3582\n",
      "29866 particles found.\n",
      "No log directory provided, skipping log data.\n",
      "0 crops removed due to aspect ratio\n",
      "Processing 1 groups for /home/veit/PIScO_dev/Segmentation_results/HE570/HE570-PISCO-Profiles/TempResults/20210315_HE570_215-bop-038a_PISCO1/20210315_HE570_215-bop-038a_PISCO1_Results/Crops\n",
      "Created zip file: /home/veit/PIScO_dev/Segmentation_results/HE570/HE570-PISCO-Profiles/TempResults/20210315_HE570_215-bop-038a_PISCO1/20210315_HE570_215-bop-038a_PISCO1_Results/EcoTaxa/crops.zip\n",
      "Processing 1 groups for /home/veit/PIScO_dev/Segmentation_results/HE570/HE570-PISCO-Profiles/TempResults/20210315_HE570_215-bop-038a_PISCO1/20210315_HE570_215-bop-038a_PISCO1_Results/Deconv_crops\n",
      "Created zip file: /home/veit/PIScO_dev/Segmentation_results/HE570/HE570-PISCO-Profiles/TempResults/20210315_HE570_215-bop-038a_PISCO1/20210315_HE570_215-bop-038a_PISCO1_Results/EcoTaxa/deconv_crops.zip\n",
      "20210307_HE570_069-bop-015c_PISCO1\n"
     ]
    },
    {
     "name": "stderr",
     "output_type": "stream",
     "text": [
      "100%|██████████| 905/905 [00:01<00:00, 585.95it/s]\n",
      "2025-06-10 11:21:34,711 - crop_df created\n"
     ]
    },
    {
     "name": "stdout",
     "output_type": "stream",
     "text": [
      "588\n",
      "0 files were empty and were dropped; Number of uniue images: 588\n",
      "11741 particles found.\n",
      "No log directory provided, skipping log data.\n",
      "0 crops removed due to aspect ratio\n",
      "Processing 1 groups for /home/veit/PIScO_dev/Segmentation_results/HE570/HE570-PISCO-Profiles/TempResults/20210307_HE570_069-bop-015c_PISCO1/20210307_HE570_069-bop-015c_PISCO1_Results/Crops\n",
      "Created zip file: /home/veit/PIScO_dev/Segmentation_results/HE570/HE570-PISCO-Profiles/TempResults/20210307_HE570_069-bop-015c_PISCO1/20210307_HE570_069-bop-015c_PISCO1_Results/EcoTaxa/crops.zip\n",
      "Processing 1 groups for /home/veit/PIScO_dev/Segmentation_results/HE570/HE570-PISCO-Profiles/TempResults/20210307_HE570_069-bop-015c_PISCO1/20210307_HE570_069-bop-015c_PISCO1_Results/Deconv_crops\n",
      "Created zip file: /home/veit/PIScO_dev/Segmentation_results/HE570/HE570-PISCO-Profiles/TempResults/20210307_HE570_069-bop-015c_PISCO1/20210307_HE570_069-bop-015c_PISCO1_Results/EcoTaxa/deconv_crops.zip\n",
      "20210313_HE570_164-bop-033_PISCO1\n"
     ]
    },
    {
     "name": "stderr",
     "output_type": "stream",
     "text": [
      "100%|██████████| 3269/3269 [00:05<00:00, 623.09it/s]\n",
      "2025-06-10 11:21:45,769 - crop_df created\n"
     ]
    },
    {
     "name": "stdout",
     "output_type": "stream",
     "text": [
      "2918\n",
      "0 files were empty and were dropped; Number of uniue images: 2918\n",
      "16107 particles found.\n",
      "No log directory provided, skipping log data.\n",
      "0 crops removed due to aspect ratio\n",
      "Processing 1 groups for /home/veit/PIScO_dev/Segmentation_results/HE570/HE570-PISCO-Profiles/TempResults/20210313_HE570_164-bop-033_PISCO1/20210313_HE570_164-bop-033_PISCO1_Results/Crops\n",
      "Created zip file: /home/veit/PIScO_dev/Segmentation_results/HE570/HE570-PISCO-Profiles/TempResults/20210313_HE570_164-bop-033_PISCO1/20210313_HE570_164-bop-033_PISCO1_Results/EcoTaxa/crops.zip\n",
      "Processing 1 groups for /home/veit/PIScO_dev/Segmentation_results/HE570/HE570-PISCO-Profiles/TempResults/20210313_HE570_164-bop-033_PISCO1/20210313_HE570_164-bop-033_PISCO1_Results/Deconv_crops\n",
      "Created zip file: /home/veit/PIScO_dev/Segmentation_results/HE570/HE570-PISCO-Profiles/TempResults/20210313_HE570_164-bop-033_PISCO1/20210313_HE570_164-bop-033_PISCO1_Results/EcoTaxa/deconv_crops.zip\n",
      "20210315_HE570_215-bop-038c_PISCO1\n"
     ]
    },
    {
     "name": "stderr",
     "output_type": "stream",
     "text": [
      "100%|██████████| 3974/3974 [00:15<00:00, 264.63it/s]\n"
     ]
    },
    {
     "name": "stdout",
     "output_type": "stream",
     "text": [
      "3745\n"
     ]
    },
    {
     "name": "stderr",
     "output_type": "stream",
     "text": [
      "2025-06-10 11:22:10,172 - crop_df created\n"
     ]
    },
    {
     "name": "stdout",
     "output_type": "stream",
     "text": [
      "0 files were empty and were dropped; Number of uniue images: 3745\n",
      "29650 particles found.\n",
      "No log directory provided, skipping log data.\n",
      "0 crops removed due to aspect ratio\n",
      "Processing 1 groups for /home/veit/PIScO_dev/Segmentation_results/HE570/HE570-PISCO-Profiles/TempResults/20210315_HE570_215-bop-038c_PISCO1/20210315_HE570_215-bop-038c_PISCO1_Results/Crops\n",
      "Created zip file: /home/veit/PIScO_dev/Segmentation_results/HE570/HE570-PISCO-Profiles/TempResults/20210315_HE570_215-bop-038c_PISCO1/20210315_HE570_215-bop-038c_PISCO1_Results/EcoTaxa/crops.zip\n",
      "Processing 1 groups for /home/veit/PIScO_dev/Segmentation_results/HE570/HE570-PISCO-Profiles/TempResults/20210315_HE570_215-bop-038c_PISCO1/20210315_HE570_215-bop-038c_PISCO1_Results/Deconv_crops\n",
      "Created zip file: /home/veit/PIScO_dev/Segmentation_results/HE570/HE570-PISCO-Profiles/TempResults/20210315_HE570_215-bop-038c_PISCO1/20210315_HE570_215-bop-038c_PISCO1_Results/EcoTaxa/deconv_crops.zip\n",
      "20210311_HE570_111-bop-022_PISCO1\n"
     ]
    },
    {
     "name": "stderr",
     "output_type": "stream",
     "text": [
      "100%|██████████| 1580/1580 [00:02<00:00, 769.11it/s]\n",
      "2025-06-10 11:23:07,249 - crop_df created\n"
     ]
    },
    {
     "name": "stdout",
     "output_type": "stream",
     "text": [
      "743\n",
      "0 files were empty and were dropped; Number of uniue images: 743\n",
      "1531 particles found.\n",
      "No log directory provided, skipping log data.\n",
      "0 crops removed due to aspect ratio\n",
      "Processing 1 groups for /home/veit/PIScO_dev/Segmentation_results/HE570/HE570-PISCO-Profiles/TempResults/20210311_HE570_111-bop-022_PISCO1/20210311_HE570_111-bop-022_PISCO1_Results/Crops\n",
      "Created zip file: /home/veit/PIScO_dev/Segmentation_results/HE570/HE570-PISCO-Profiles/TempResults/20210311_HE570_111-bop-022_PISCO1/20210311_HE570_111-bop-022_PISCO1_Results/EcoTaxa/crops.zip\n",
      "Processing 1 groups for /home/veit/PIScO_dev/Segmentation_results/HE570/HE570-PISCO-Profiles/TempResults/20210311_HE570_111-bop-022_PISCO1/20210311_HE570_111-bop-022_PISCO1_Results/Deconv_crops\n",
      "Created zip file: /home/veit/PIScO_dev/Segmentation_results/HE570/HE570-PISCO-Profiles/TempResults/20210311_HE570_111-bop-022_PISCO1/20210311_HE570_111-bop-022_PISCO1_Results/EcoTaxa/deconv_crops.zip\n",
      "20210312_HE570_143-bop-029_PISCO1\n"
     ]
    },
    {
     "name": "stderr",
     "output_type": "stream",
     "text": [
      "100%|██████████| 2321/2321 [00:03<00:00, 613.31it/s]\n"
     ]
    },
    {
     "name": "stdout",
     "output_type": "stream",
     "text": [
      "2105\n"
     ]
    },
    {
     "name": "stderr",
     "output_type": "stream",
     "text": [
      "2025-06-10 11:23:12,985 - crop_df created\n"
     ]
    },
    {
     "name": "stdout",
     "output_type": "stream",
     "text": [
      "0 files were empty and were dropped; Number of uniue images: 2105\n",
      "19955 particles found.\n",
      "No log directory provided, skipping log data.\n",
      "0 crops removed due to aspect ratio\n",
      "Processing 1 groups for /home/veit/PIScO_dev/Segmentation_results/HE570/HE570-PISCO-Profiles/TempResults/20210312_HE570_143-bop-029_PISCO1/20210312_HE570_143-bop-029_PISCO1_Results/Crops\n",
      "Created zip file: /home/veit/PIScO_dev/Segmentation_results/HE570/HE570-PISCO-Profiles/TempResults/20210312_HE570_143-bop-029_PISCO1/20210312_HE570_143-bop-029_PISCO1_Results/EcoTaxa/crops.zip\n",
      "Processing 1 groups for /home/veit/PIScO_dev/Segmentation_results/HE570/HE570-PISCO-Profiles/TempResults/20210312_HE570_143-bop-029_PISCO1/20210312_HE570_143-bop-029_PISCO1_Results/Deconv_crops\n",
      "Created zip file: /home/veit/PIScO_dev/Segmentation_results/HE570/HE570-PISCO-Profiles/TempResults/20210312_HE570_143-bop-029_PISCO1/20210312_HE570_143-bop-029_PISCO1_Results/EcoTaxa/deconv_crops.zip\n",
      "20210315_HE570_215-bop-038b_PISCO1\n"
     ]
    },
    {
     "name": "stderr",
     "output_type": "stream",
     "text": [
      "100%|██████████| 3652/3652 [00:05<00:00, 666.22it/s]\n",
      "2025-06-10 11:23:28,449 - crop_df created\n"
     ]
    },
    {
     "name": "stdout",
     "output_type": "stream",
     "text": [
      "3466\n",
      "0 files were empty and were dropped; Number of uniue images: 3466\n",
      "24845 particles found.\n",
      "No log directory provided, skipping log data.\n",
      "0 crops removed due to aspect ratio\n",
      "Processing 1 groups for /home/veit/PIScO_dev/Segmentation_results/HE570/HE570-PISCO-Profiles/TempResults/20210315_HE570_215-bop-038b_PISCO1/20210315_HE570_215-bop-038b_PISCO1_Results/Crops\n",
      "Created zip file: /home/veit/PIScO_dev/Segmentation_results/HE570/HE570-PISCO-Profiles/TempResults/20210315_HE570_215-bop-038b_PISCO1/20210315_HE570_215-bop-038b_PISCO1_Results/EcoTaxa/crops.zip\n",
      "Processing 1 groups for /home/veit/PIScO_dev/Segmentation_results/HE570/HE570-PISCO-Profiles/TempResults/20210315_HE570_215-bop-038b_PISCO1/20210315_HE570_215-bop-038b_PISCO1_Results/Deconv_crops\n",
      "Created zip file: /home/veit/PIScO_dev/Segmentation_results/HE570/HE570-PISCO-Profiles/TempResults/20210315_HE570_215-bop-038b_PISCO1/20210315_HE570_215-bop-038b_PISCO1_Results/EcoTaxa/deconv_crops.zip\n",
      "20210307_HE570_076-bop-016a_PISCO1\n"
     ]
    },
    {
     "name": "stderr",
     "output_type": "stream",
     "text": [
      "100%|██████████| 1311/1311 [00:01<00:00, 667.43it/s]\n",
      "2025-06-10 11:23:44,073 - crop_df created\n"
     ]
    },
    {
     "name": "stdout",
     "output_type": "stream",
     "text": [
      "810\n",
      "0 files were empty and were dropped; Number of uniue images: 810\n",
      "10268 particles found.\n",
      "No log directory provided, skipping log data.\n",
      "0 crops removed due to aspect ratio\n",
      "Processing 1 groups for /home/veit/PIScO_dev/Segmentation_results/HE570/HE570-PISCO-Profiles/TempResults/20210307_HE570_076-bop-016a_PISCO1/20210307_HE570_076-bop-016a_PISCO1_Results/Crops\n",
      "Created zip file: /home/veit/PIScO_dev/Segmentation_results/HE570/HE570-PISCO-Profiles/TempResults/20210307_HE570_076-bop-016a_PISCO1/20210307_HE570_076-bop-016a_PISCO1_Results/EcoTaxa/crops.zip\n",
      "Processing 1 groups for /home/veit/PIScO_dev/Segmentation_results/HE570/HE570-PISCO-Profiles/TempResults/20210307_HE570_076-bop-016a_PISCO1/20210307_HE570_076-bop-016a_PISCO1_Results/Deconv_crops\n",
      "Created zip file: /home/veit/PIScO_dev/Segmentation_results/HE570/HE570-PISCO-Profiles/TempResults/20210307_HE570_076-bop-016a_PISCO1/20210307_HE570_076-bop-016a_PISCO1_Results/EcoTaxa/deconv_crops.zip\n",
      "20210311_HE570_114-bop-023_PISCO1\n"
     ]
    },
    {
     "name": "stderr",
     "output_type": "stream",
     "text": [
      "100%|██████████| 1815/1815 [00:02<00:00, 744.20it/s]\n",
      "2025-06-10 11:23:51,148 - crop_df created\n"
     ]
    },
    {
     "name": "stdout",
     "output_type": "stream",
     "text": [
      "1134\n",
      "0 files were empty and were dropped; Number of uniue images: 1134\n",
      "3096 particles found.\n",
      "No log directory provided, skipping log data.\n",
      "0 crops removed due to aspect ratio\n",
      "Processing 1 groups for /home/veit/PIScO_dev/Segmentation_results/HE570/HE570-PISCO-Profiles/TempResults/20210311_HE570_114-bop-023_PISCO1/20210311_HE570_114-bop-023_PISCO1_Results/Crops\n",
      "Created zip file: /home/veit/PIScO_dev/Segmentation_results/HE570/HE570-PISCO-Profiles/TempResults/20210311_HE570_114-bop-023_PISCO1/20210311_HE570_114-bop-023_PISCO1_Results/EcoTaxa/crops.zip\n",
      "Processing 1 groups for /home/veit/PIScO_dev/Segmentation_results/HE570/HE570-PISCO-Profiles/TempResults/20210311_HE570_114-bop-023_PISCO1/20210311_HE570_114-bop-023_PISCO1_Results/Deconv_crops\n",
      "Created zip file: /home/veit/PIScO_dev/Segmentation_results/HE570/HE570-PISCO-Profiles/TempResults/20210311_HE570_114-bop-023_PISCO1/20210311_HE570_114-bop-023_PISCO1_Results/EcoTaxa/deconv_crops.zip\n",
      "20210311_HE570_121-bop-025_PISCO1\n"
     ]
    },
    {
     "name": "stderr",
     "output_type": "stream",
     "text": [
      "100%|██████████| 3964/3964 [00:05<00:00, 730.55it/s]\n",
      "2025-06-10 11:24:00,372 - crop_df created\n"
     ]
    },
    {
     "name": "stdout",
     "output_type": "stream",
     "text": [
      "3190\n",
      "0 files were empty and were dropped; Number of uniue images: 3190\n",
      "20438 particles found.\n",
      "No log directory provided, skipping log data.\n",
      "0 crops removed due to aspect ratio\n",
      "Processing 1 groups for /home/veit/PIScO_dev/Segmentation_results/HE570/HE570-PISCO-Profiles/TempResults/20210311_HE570_121-bop-025_PISCO1/20210311_HE570_121-bop-025_PISCO1_Results/Crops\n",
      "Created zip file: /home/veit/PIScO_dev/Segmentation_results/HE570/HE570-PISCO-Profiles/TempResults/20210311_HE570_121-bop-025_PISCO1/20210311_HE570_121-bop-025_PISCO1_Results/EcoTaxa/crops.zip\n",
      "Processing 1 groups for /home/veit/PIScO_dev/Segmentation_results/HE570/HE570-PISCO-Profiles/TempResults/20210311_HE570_121-bop-025_PISCO1/20210311_HE570_121-bop-025_PISCO1_Results/Deconv_crops\n",
      "Created zip file: /home/veit/PIScO_dev/Segmentation_results/HE570/HE570-PISCO-Profiles/TempResults/20210311_HE570_121-bop-025_PISCO1/20210311_HE570_121-bop-025_PISCO1_Results/EcoTaxa/deconv_crops.zip\n",
      "20210307_HE570_076-bop-016d_PISCO1\n"
     ]
    },
    {
     "name": "stderr",
     "output_type": "stream",
     "text": [
      "100%|██████████| 616/616 [00:01<00:00, 584.62it/s]\n",
      "2025-06-10 11:24:12,863 - crop_df created\n"
     ]
    },
    {
     "name": "stdout",
     "output_type": "stream",
     "text": [
      "447\n",
      "0 files were empty and were dropped; Number of uniue images: 447\n",
      "6525 particles found.\n",
      "No log directory provided, skipping log data.\n",
      "0 crops removed due to aspect ratio\n",
      "Processing 1 groups for /home/veit/PIScO_dev/Segmentation_results/HE570/HE570-PISCO-Profiles/TempResults/20210307_HE570_076-bop-016d_PISCO1/20210307_HE570_076-bop-016d_PISCO1_Results/Crops\n",
      "Created zip file: /home/veit/PIScO_dev/Segmentation_results/HE570/HE570-PISCO-Profiles/TempResults/20210307_HE570_076-bop-016d_PISCO1/20210307_HE570_076-bop-016d_PISCO1_Results/EcoTaxa/crops.zip\n",
      "Processing 1 groups for /home/veit/PIScO_dev/Segmentation_results/HE570/HE570-PISCO-Profiles/TempResults/20210307_HE570_076-bop-016d_PISCO1/20210307_HE570_076-bop-016d_PISCO1_Results/Deconv_crops\n",
      "Created zip file: /home/veit/PIScO_dev/Segmentation_results/HE570/HE570-PISCO-Profiles/TempResults/20210307_HE570_076-bop-016d_PISCO1/20210307_HE570_076-bop-016d_PISCO1_Results/EcoTaxa/deconv_crops.zip\n",
      "20210305_HE570_037-bop-008_PISCO1\n"
     ]
    },
    {
     "name": "stderr",
     "output_type": "stream",
     "text": [
      "100%|██████████| 4153/4153 [00:06<00:00, 611.23it/s]\n"
     ]
    },
    {
     "name": "stdout",
     "output_type": "stream",
     "text": [
      "2880\n"
     ]
    },
    {
     "name": "stderr",
     "output_type": "stream",
     "text": [
      "2025-06-10 11:24:24,643 - crop_df created\n"
     ]
    },
    {
     "name": "stdout",
     "output_type": "stream",
     "text": [
      "0 files were empty and were dropped; Number of uniue images: 2880\n",
      "32650 particles found.\n",
      "No log directory provided, skipping log data.\n",
      "0 crops removed due to aspect ratio\n",
      "Processing 1 groups for /home/veit/PIScO_dev/Segmentation_results/HE570/HE570-PISCO-Profiles/TempResults/20210305_HE570_037-bop-008_PISCO1/20210305_HE570_037-bop-008_PISCO1_Results/Crops\n",
      "Created zip file: /home/veit/PIScO_dev/Segmentation_results/HE570/HE570-PISCO-Profiles/TempResults/20210305_HE570_037-bop-008_PISCO1/20210305_HE570_037-bop-008_PISCO1_Results/EcoTaxa/crops.zip\n",
      "Processing 1 groups for /home/veit/PIScO_dev/Segmentation_results/HE570/HE570-PISCO-Profiles/TempResults/20210305_HE570_037-bop-008_PISCO1/20210305_HE570_037-bop-008_PISCO1_Results/Deconv_crops\n",
      "Created zip file: /home/veit/PIScO_dev/Segmentation_results/HE570/HE570-PISCO-Profiles/TempResults/20210305_HE570_037-bop-008_PISCO1/20210305_HE570_037-bop-008_PISCO1_Results/EcoTaxa/deconv_crops.zip\n",
      "20210315_HE570_208-bop-036a_PISCO1\n"
     ]
    },
    {
     "name": "stderr",
     "output_type": "stream",
     "text": [
      "100%|██████████| 6944/6944 [00:10<00:00, 681.73it/s]\n"
     ]
    },
    {
     "name": "stdout",
     "output_type": "stream",
     "text": [
      "6400\n"
     ]
    },
    {
     "name": "stderr",
     "output_type": "stream",
     "text": [
      "2025-06-10 11:24:48,840 - crop_df created\n"
     ]
    },
    {
     "name": "stdout",
     "output_type": "stream",
     "text": [
      "0 files were empty and were dropped; Number of uniue images: 6400\n",
      "42415 particles found.\n",
      "No log directory provided, skipping log data.\n",
      "0 crops removed due to aspect ratio\n",
      "Processing 1 groups for /home/veit/PIScO_dev/Segmentation_results/HE570/HE570-PISCO-Profiles/TempResults/20210315_HE570_208-bop-036a_PISCO1/20210315_HE570_208-bop-036a_PISCO1_Results/Crops\n",
      "Created zip file: /home/veit/PIScO_dev/Segmentation_results/HE570/HE570-PISCO-Profiles/TempResults/20210315_HE570_208-bop-036a_PISCO1/20210315_HE570_208-bop-036a_PISCO1_Results/EcoTaxa/crops.zip\n",
      "Processing 1 groups for /home/veit/PIScO_dev/Segmentation_results/HE570/HE570-PISCO-Profiles/TempResults/20210315_HE570_208-bop-036a_PISCO1/20210315_HE570_208-bop-036a_PISCO1_Results/Deconv_crops\n",
      "Created zip file: /home/veit/PIScO_dev/Segmentation_results/HE570/HE570-PISCO-Profiles/TempResults/20210315_HE570_208-bop-036a_PISCO1/20210315_HE570_208-bop-036a_PISCO1_Results/EcoTaxa/deconv_crops.zip\n",
      "20210315_HE570_211-bop-037a_PISCO1\n"
     ]
    },
    {
     "name": "stderr",
     "output_type": "stream",
     "text": [
      "100%|██████████| 3497/3497 [00:04<00:00, 711.45it/s]\n",
      "2025-06-10 11:25:17,970 - crop_df created\n"
     ]
    },
    {
     "name": "stdout",
     "output_type": "stream",
     "text": [
      "3279\n",
      "0 files were empty and were dropped; Number of uniue images: 3279\n",
      "18095 particles found.\n",
      "No log directory provided, skipping log data.\n",
      "0 crops removed due to aspect ratio\n",
      "Processing 1 groups for /home/veit/PIScO_dev/Segmentation_results/HE570/HE570-PISCO-Profiles/TempResults/20210315_HE570_211-bop-037a_PISCO1/20210315_HE570_211-bop-037a_PISCO1_Results/Crops\n",
      "Created zip file: /home/veit/PIScO_dev/Segmentation_results/HE570/HE570-PISCO-Profiles/TempResults/20210315_HE570_211-bop-037a_PISCO1/20210315_HE570_211-bop-037a_PISCO1_Results/EcoTaxa/crops.zip\n",
      "Processing 1 groups for /home/veit/PIScO_dev/Segmentation_results/HE570/HE570-PISCO-Profiles/TempResults/20210315_HE570_211-bop-037a_PISCO1/20210315_HE570_211-bop-037a_PISCO1_Results/Deconv_crops\n",
      "Created zip file: /home/veit/PIScO_dev/Segmentation_results/HE570/HE570-PISCO-Profiles/TempResults/20210315_HE570_211-bop-037a_PISCO1/20210315_HE570_211-bop-037a_PISCO1_Results/EcoTaxa/deconv_crops.zip\n",
      "20210313_HE570_156-bop-032_PISCO1\n"
     ]
    },
    {
     "name": "stderr",
     "output_type": "stream",
     "text": [
      "100%|██████████| 3473/3473 [00:05<00:00, 677.78it/s]\n",
      "2025-06-10 11:25:36,074 - crop_df created\n"
     ]
    },
    {
     "name": "stdout",
     "output_type": "stream",
     "text": [
      "2927\n",
      "0 files were empty and were dropped; Number of uniue images: 2927\n",
      "19865 particles found.\n",
      "No log directory provided, skipping log data.\n",
      "0 crops removed due to aspect ratio\n",
      "Processing 1 groups for /home/veit/PIScO_dev/Segmentation_results/HE570/HE570-PISCO-Profiles/TempResults/20210313_HE570_156-bop-032_PISCO1/20210313_HE570_156-bop-032_PISCO1_Results/Crops\n",
      "Created zip file: /home/veit/PIScO_dev/Segmentation_results/HE570/HE570-PISCO-Profiles/TempResults/20210313_HE570_156-bop-032_PISCO1/20210313_HE570_156-bop-032_PISCO1_Results/EcoTaxa/crops.zip\n",
      "Processing 1 groups for /home/veit/PIScO_dev/Segmentation_results/HE570/HE570-PISCO-Profiles/TempResults/20210313_HE570_156-bop-032_PISCO1/20210313_HE570_156-bop-032_PISCO1_Results/Deconv_crops\n",
      "Created zip file: /home/veit/PIScO_dev/Segmentation_results/HE570/HE570-PISCO-Profiles/TempResults/20210313_HE570_156-bop-032_PISCO1/20210313_HE570_156-bop-032_PISCO1_Results/EcoTaxa/deconv_crops.zip\n",
      "20210306_HE570_053-bop-013_PISCO1\n"
     ]
    },
    {
     "name": "stderr",
     "output_type": "stream",
     "text": [
      "100%|██████████| 2594/2594 [00:04<00:00, 537.65it/s]\n"
     ]
    },
    {
     "name": "stdout",
     "output_type": "stream",
     "text": [
      "2165\n"
     ]
    },
    {
     "name": "stderr",
     "output_type": "stream",
     "text": [
      "2025-06-10 11:25:52,657 - crop_df created\n"
     ]
    },
    {
     "name": "stdout",
     "output_type": "stream",
     "text": [
      "0 files were empty and were dropped; Number of uniue images: 2165\n",
      "32200 particles found.\n",
      "No log directory provided, skipping log data.\n",
      "0 crops removed due to aspect ratio\n",
      "Processing 1 groups for /home/veit/PIScO_dev/Segmentation_results/HE570/HE570-PISCO-Profiles/TempResults/20210306_HE570_053-bop-013_PISCO1/20210306_HE570_053-bop-013_PISCO1_Results/Crops\n",
      "Created zip file: /home/veit/PIScO_dev/Segmentation_results/HE570/HE570-PISCO-Profiles/TempResults/20210306_HE570_053-bop-013_PISCO1/20210306_HE570_053-bop-013_PISCO1_Results/EcoTaxa/crops.zip\n",
      "Processing 1 groups for /home/veit/PIScO_dev/Segmentation_results/HE570/HE570-PISCO-Profiles/TempResults/20210306_HE570_053-bop-013_PISCO1/20210306_HE570_053-bop-013_PISCO1_Results/Deconv_crops\n",
      "Created zip file: /home/veit/PIScO_dev/Segmentation_results/HE570/HE570-PISCO-Profiles/TempResults/20210306_HE570_053-bop-013_PISCO1/20210306_HE570_053-bop-013_PISCO1_Results/EcoTaxa/deconv_crops.zip\n",
      "20210311_HE570_108-bop-021_PISCO1\n"
     ]
    },
    {
     "name": "stderr",
     "output_type": "stream",
     "text": [
      "100%|██████████| 1444/1444 [00:01<00:00, 728.29it/s]\n",
      "2025-06-10 11:26:03,042 - crop_df created\n"
     ]
    },
    {
     "name": "stdout",
     "output_type": "stream",
     "text": [
      "874\n",
      "0 files were empty and were dropped; Number of uniue images: 874\n",
      "3054 particles found.\n",
      "No log directory provided, skipping log data.\n",
      "0 crops removed due to aspect ratio\n",
      "Processing 1 groups for /home/veit/PIScO_dev/Segmentation_results/HE570/HE570-PISCO-Profiles/TempResults/20210311_HE570_108-bop-021_PISCO1/20210311_HE570_108-bop-021_PISCO1_Results/Crops\n",
      "Created zip file: /home/veit/PIScO_dev/Segmentation_results/HE570/HE570-PISCO-Profiles/TempResults/20210311_HE570_108-bop-021_PISCO1/20210311_HE570_108-bop-021_PISCO1_Results/EcoTaxa/crops.zip\n",
      "Processing 1 groups for /home/veit/PIScO_dev/Segmentation_results/HE570/HE570-PISCO-Profiles/TempResults/20210311_HE570_108-bop-021_PISCO1/20210311_HE570_108-bop-021_PISCO1_Results/Deconv_crops\n",
      "Created zip file: /home/veit/PIScO_dev/Segmentation_results/HE570/HE570-PISCO-Profiles/TempResults/20210311_HE570_108-bop-021_PISCO1/20210311_HE570_108-bop-021_PISCO1_Results/EcoTaxa/deconv_crops.zip\n",
      "20210311_HE570_117-bop-024_PISCO1\n"
     ]
    },
    {
     "name": "stderr",
     "output_type": "stream",
     "text": [
      "100%|██████████| 2540/2540 [00:03<00:00, 713.70it/s]\n",
      "2025-06-10 11:26:08,902 - crop_df created\n"
     ]
    },
    {
     "name": "stdout",
     "output_type": "stream",
     "text": [
      "1863\n",
      "0 files were empty and were dropped; Number of uniue images: 1863\n",
      "7742 particles found.\n",
      "No log directory provided, skipping log data.\n",
      "0 crops removed due to aspect ratio\n",
      "Processing 1 groups for /home/veit/PIScO_dev/Segmentation_results/HE570/HE570-PISCO-Profiles/TempResults/20210311_HE570_117-bop-024_PISCO1/20210311_HE570_117-bop-024_PISCO1_Results/Crops\n",
      "Created zip file: /home/veit/PIScO_dev/Segmentation_results/HE570/HE570-PISCO-Profiles/TempResults/20210311_HE570_117-bop-024_PISCO1/20210311_HE570_117-bop-024_PISCO1_Results/EcoTaxa/crops.zip\n",
      "Processing 1 groups for /home/veit/PIScO_dev/Segmentation_results/HE570/HE570-PISCO-Profiles/TempResults/20210311_HE570_117-bop-024_PISCO1/20210311_HE570_117-bop-024_PISCO1_Results/Deconv_crops\n",
      "Created zip file: /home/veit/PIScO_dev/Segmentation_results/HE570/HE570-PISCO-Profiles/TempResults/20210311_HE570_117-bop-024_PISCO1/20210311_HE570_117-bop-024_PISCO1_Results/EcoTaxa/deconv_crops.zip\n",
      "20210303_HE570_003-bop-001_PISCO1\n"
     ]
    },
    {
     "name": "stderr",
     "output_type": "stream",
     "text": [
      "100%|██████████| 8159/8159 [00:13<00:00, 612.50it/s] \n"
     ]
    },
    {
     "name": "stdout",
     "output_type": "stream",
     "text": [
      "5999\n"
     ]
    },
    {
     "name": "stderr",
     "output_type": "stream",
     "text": [
      "2025-06-10 11:26:32,608 - crop_df created\n"
     ]
    },
    {
     "name": "stdout",
     "output_type": "stream",
     "text": [
      "0 files were empty and were dropped; Number of uniue images: 5999\n",
      "82714 particles found.\n",
      "No log directory provided, skipping log data.\n",
      "0 crops removed due to aspect ratio\n",
      "Processing 2 groups for /home/veit/PIScO_dev/Segmentation_results/HE570/HE570-PISCO-Profiles/TempResults/20210303_HE570_003-bop-001_PISCO1/20210303_HE570_003-bop-001_PISCO1_Results/Crops\n",
      "Created zip file: /home/veit/PIScO_dev/Segmentation_results/HE570/HE570-PISCO-Profiles/TempResults/20210303_HE570_003-bop-001_PISCO1/20210303_HE570_003-bop-001_PISCO1_Results/EcoTaxa/crops_part1_upload.zip\n",
      "Created zip file: /home/veit/PIScO_dev/Segmentation_results/HE570/HE570-PISCO-Profiles/TempResults/20210303_HE570_003-bop-001_PISCO1/20210303_HE570_003-bop-001_PISCO1_Results/EcoTaxa/crops_part2_upload.zip\n",
      "Processing 1 groups for /home/veit/PIScO_dev/Segmentation_results/HE570/HE570-PISCO-Profiles/TempResults/20210303_HE570_003-bop-001_PISCO1/20210303_HE570_003-bop-001_PISCO1_Results/Deconv_crops\n",
      "Created zip file: /home/veit/PIScO_dev/Segmentation_results/HE570/HE570-PISCO-Profiles/TempResults/20210303_HE570_003-bop-001_PISCO1/20210303_HE570_003-bop-001_PISCO1_Results/EcoTaxa/deconv_crops.zip\n",
      "20210308_HE570_089-bop-018_PISCO1\n"
     ]
    },
    {
     "name": "stderr",
     "output_type": "stream",
     "text": [
      "100%|██████████| 1795/1795 [00:03<00:00, 461.25it/s]\n"
     ]
    },
    {
     "name": "stdout",
     "output_type": "stream",
     "text": [
      "1641\n"
     ]
    },
    {
     "name": "stderr",
     "output_type": "stream",
     "text": [
      "2025-06-10 11:27:19,661 - crop_df created\n"
     ]
    },
    {
     "name": "stdout",
     "output_type": "stream",
     "text": [
      "0 files were empty and were dropped; Number of uniue images: 1641\n",
      "14536 particles found.\n",
      "No log directory provided, skipping log data.\n",
      "0 crops removed due to aspect ratio\n",
      "Processing 1 groups for /home/veit/PIScO_dev/Segmentation_results/HE570/HE570-PISCO-Profiles/TempResults/20210308_HE570_089-bop-018_PISCO1/20210308_HE570_089-bop-018_PISCO1_Results/Crops\n",
      "Created zip file: /home/veit/PIScO_dev/Segmentation_results/HE570/HE570-PISCO-Profiles/TempResults/20210308_HE570_089-bop-018_PISCO1/20210308_HE570_089-bop-018_PISCO1_Results/EcoTaxa/crops.zip\n",
      "Processing 1 groups for /home/veit/PIScO_dev/Segmentation_results/HE570/HE570-PISCO-Profiles/TempResults/20210308_HE570_089-bop-018_PISCO1/20210308_HE570_089-bop-018_PISCO1_Results/Deconv_crops\n",
      "Created zip file: /home/veit/PIScO_dev/Segmentation_results/HE570/HE570-PISCO-Profiles/TempResults/20210308_HE570_089-bop-018_PISCO1/20210308_HE570_089-bop-018_PISCO1_Results/EcoTaxa/deconv_crops.zip\n",
      "20210305_HE570_044-bop-010_PISCO1\n"
     ]
    },
    {
     "name": "stderr",
     "output_type": "stream",
     "text": [
      "100%|██████████| 3573/3573 [00:05<00:00, 694.76it/s]\n",
      "2025-06-10 11:27:35,394 - crop_df created\n"
     ]
    },
    {
     "name": "stdout",
     "output_type": "stream",
     "text": [
      "2961\n",
      "0 files were empty and were dropped; Number of uniue images: 2961\n",
      "14973 particles found.\n",
      "No log directory provided, skipping log data.\n",
      "0 crops removed due to aspect ratio\n",
      "Processing 1 groups for /home/veit/PIScO_dev/Segmentation_results/HE570/HE570-PISCO-Profiles/TempResults/20210305_HE570_044-bop-010_PISCO1/20210305_HE570_044-bop-010_PISCO1_Results/Crops\n",
      "Created zip file: /home/veit/PIScO_dev/Segmentation_results/HE570/HE570-PISCO-Profiles/TempResults/20210305_HE570_044-bop-010_PISCO1/20210305_HE570_044-bop-010_PISCO1_Results/EcoTaxa/crops.zip\n",
      "Processing 1 groups for /home/veit/PIScO_dev/Segmentation_results/HE570/HE570-PISCO-Profiles/TempResults/20210305_HE570_044-bop-010_PISCO1/20210305_HE570_044-bop-010_PISCO1_Results/Deconv_crops\n",
      "Created zip file: /home/veit/PIScO_dev/Segmentation_results/HE570/HE570-PISCO-Profiles/TempResults/20210305_HE570_044-bop-010_PISCO1/20210305_HE570_044-bop-010_PISCO1_Results/EcoTaxa/deconv_crops.zip\n",
      "20210306_HE570_047-bop-011_PISCO1\n"
     ]
    },
    {
     "name": "stderr",
     "output_type": "stream",
     "text": [
      "100%|██████████| 3467/3467 [00:06<00:00, 518.39it/s]\n"
     ]
    },
    {
     "name": "stdout",
     "output_type": "stream",
     "text": [
      "2995\n"
     ]
    },
    {
     "name": "stderr",
     "output_type": "stream",
     "text": [
      "2025-06-10 11:27:52,063 - crop_df created\n"
     ]
    },
    {
     "name": "stdout",
     "output_type": "stream",
     "text": [
      "0 files were empty and were dropped; Number of uniue images: 2995\n",
      "46867 particles found.\n",
      "No log directory provided, skipping log data.\n",
      "0 crops removed due to aspect ratio\n",
      "Processing 1 groups for /home/veit/PIScO_dev/Segmentation_results/HE570/HE570-PISCO-Profiles/TempResults/20210306_HE570_047-bop-011_PISCO1/20210306_HE570_047-bop-011_PISCO1_Results/Crops\n",
      "Created zip file: /home/veit/PIScO_dev/Segmentation_results/HE570/HE570-PISCO-Profiles/TempResults/20210306_HE570_047-bop-011_PISCO1/20210306_HE570_047-bop-011_PISCO1_Results/EcoTaxa/crops.zip\n",
      "Processing 1 groups for /home/veit/PIScO_dev/Segmentation_results/HE570/HE570-PISCO-Profiles/TempResults/20210306_HE570_047-bop-011_PISCO1/20210306_HE570_047-bop-011_PISCO1_Results/Deconv_crops\n",
      "Created zip file: /home/veit/PIScO_dev/Segmentation_results/HE570/HE570-PISCO-Profiles/TempResults/20210306_HE570_047-bop-011_PISCO1/20210306_HE570_047-bop-011_PISCO1_Results/EcoTaxa/deconv_crops.zip\n",
      "20210305_HE570_030-bop-006_PISCO1\n"
     ]
    },
    {
     "name": "stderr",
     "output_type": "stream",
     "text": [
      "100%|██████████| 4365/4365 [00:06<00:00, 639.65it/s]\n"
     ]
    },
    {
     "name": "stdout",
     "output_type": "stream",
     "text": [
      "3106\n"
     ]
    },
    {
     "name": "stderr",
     "output_type": "stream",
     "text": [
      "2025-06-10 11:28:17,889 - crop_df created\n"
     ]
    },
    {
     "name": "stdout",
     "output_type": "stream",
     "text": [
      "0 files were empty and were dropped; Number of uniue images: 3106\n",
      "39052 particles found.\n",
      "No log directory provided, skipping log data.\n",
      "0 crops removed due to aspect ratio\n",
      "Processing 1 groups for /home/veit/PIScO_dev/Segmentation_results/HE570/HE570-PISCO-Profiles/TempResults/20210305_HE570_030-bop-006_PISCO1/20210305_HE570_030-bop-006_PISCO1_Results/Crops\n",
      "Created zip file: /home/veit/PIScO_dev/Segmentation_results/HE570/HE570-PISCO-Profiles/TempResults/20210305_HE570_030-bop-006_PISCO1/20210305_HE570_030-bop-006_PISCO1_Results/EcoTaxa/crops.zip\n",
      "Processing 1 groups for /home/veit/PIScO_dev/Segmentation_results/HE570/HE570-PISCO-Profiles/TempResults/20210305_HE570_030-bop-006_PISCO1/20210305_HE570_030-bop-006_PISCO1_Results/Deconv_crops\n",
      "Created zip file: /home/veit/PIScO_dev/Segmentation_results/HE570/HE570-PISCO-Profiles/TempResults/20210305_HE570_030-bop-006_PISCO1/20210305_HE570_030-bop-006_PISCO1_Results/EcoTaxa/deconv_crops.zip\n",
      "20210313_HE570_169-bop-034_PISCO1\n"
     ]
    },
    {
     "name": "stderr",
     "output_type": "stream",
     "text": [
      "100%|██████████| 3567/3567 [00:05<00:00, 642.11it/s]\n"
     ]
    },
    {
     "name": "stdout",
     "output_type": "stream",
     "text": [
      "3211\n"
     ]
    },
    {
     "name": "stderr",
     "output_type": "stream",
     "text": [
      "2025-06-10 11:28:44,140 - crop_df created\n"
     ]
    },
    {
     "name": "stdout",
     "output_type": "stream",
     "text": [
      "0 files were empty and were dropped; Number of uniue images: 3211\n",
      "24572 particles found.\n",
      "No log directory provided, skipping log data.\n",
      "0 crops removed due to aspect ratio\n",
      "Processing 1 groups for /home/veit/PIScO_dev/Segmentation_results/HE570/HE570-PISCO-Profiles/TempResults/20210313_HE570_169-bop-034_PISCO1/20210313_HE570_169-bop-034_PISCO1_Results/Crops\n",
      "Created zip file: /home/veit/PIScO_dev/Segmentation_results/HE570/HE570-PISCO-Profiles/TempResults/20210313_HE570_169-bop-034_PISCO1/20210313_HE570_169-bop-034_PISCO1_Results/EcoTaxa/crops.zip\n",
      "Processing 1 groups for /home/veit/PIScO_dev/Segmentation_results/HE570/HE570-PISCO-Profiles/TempResults/20210313_HE570_169-bop-034_PISCO1/20210313_HE570_169-bop-034_PISCO1_Results/Deconv_crops\n",
      "Created zip file: /home/veit/PIScO_dev/Segmentation_results/HE570/HE570-PISCO-Profiles/TempResults/20210313_HE570_169-bop-034_PISCO1/20210313_HE570_169-bop-034_PISCO1_Results/EcoTaxa/deconv_crops.zip\n",
      "20210304_HE570_024-bop-004_PISCO1\n"
     ]
    },
    {
     "name": "stderr",
     "output_type": "stream",
     "text": [
      "100%|██████████| 2932/2932 [00:04<00:00, 647.83it/s]\n",
      "2025-06-10 11:29:01,380 - crop_df created\n"
     ]
    },
    {
     "name": "stdout",
     "output_type": "stream",
     "text": [
      "2011\n",
      "0 files were empty and were dropped; Number of uniue images: 2011\n",
      "23826 particles found.\n",
      "No log directory provided, skipping log data.\n",
      "0 crops removed due to aspect ratio\n",
      "Processing 1 groups for /home/veit/PIScO_dev/Segmentation_results/HE570/HE570-PISCO-Profiles/TempResults/20210304_HE570_024-bop-004_PISCO1/20210304_HE570_024-bop-004_PISCO1_Results/Crops\n",
      "Created zip file: /home/veit/PIScO_dev/Segmentation_results/HE570/HE570-PISCO-Profiles/TempResults/20210304_HE570_024-bop-004_PISCO1/20210304_HE570_024-bop-004_PISCO1_Results/EcoTaxa/crops.zip\n",
      "Processing 1 groups for /home/veit/PIScO_dev/Segmentation_results/HE570/HE570-PISCO-Profiles/TempResults/20210304_HE570_024-bop-004_PISCO1/20210304_HE570_024-bop-004_PISCO1_Results/Deconv_crops\n",
      "Created zip file: /home/veit/PIScO_dev/Segmentation_results/HE570/HE570-PISCO-Profiles/TempResults/20210304_HE570_024-bop-004_PISCO1/20210304_HE570_024-bop-004_PISCO1_Results/EcoTaxa/deconv_crops.zip\n",
      "20210304_HE570_021-bop-003_PISCO1\n"
     ]
    },
    {
     "name": "stderr",
     "output_type": "stream",
     "text": [
      "100%|██████████| 3172/3172 [00:06<00:00, 497.48it/s]\n"
     ]
    },
    {
     "name": "stdout",
     "output_type": "stream",
     "text": [
      "2388\n"
     ]
    },
    {
     "name": "stderr",
     "output_type": "stream",
     "text": [
      "2025-06-10 11:29:18,129 - crop_df created\n"
     ]
    },
    {
     "name": "stdout",
     "output_type": "stream",
     "text": [
      "0 files were empty and were dropped; Number of uniue images: 2388\n",
      "33584 particles found.\n",
      "No log directory provided, skipping log data.\n",
      "0 crops removed due to aspect ratio\n",
      "Processing 1 groups for /home/veit/PIScO_dev/Segmentation_results/HE570/HE570-PISCO-Profiles/TempResults/20210304_HE570_021-bop-003_PISCO1/20210304_HE570_021-bop-003_PISCO1_Results/Crops\n",
      "Created zip file: /home/veit/PIScO_dev/Segmentation_results/HE570/HE570-PISCO-Profiles/TempResults/20210304_HE570_021-bop-003_PISCO1/20210304_HE570_021-bop-003_PISCO1_Results/EcoTaxa/crops.zip\n",
      "Processing 1 groups for /home/veit/PIScO_dev/Segmentation_results/HE570/HE570-PISCO-Profiles/TempResults/20210304_HE570_021-bop-003_PISCO1/20210304_HE570_021-bop-003_PISCO1_Results/Deconv_crops\n",
      "Created zip file: /home/veit/PIScO_dev/Segmentation_results/HE570/HE570-PISCO-Profiles/TempResults/20210304_HE570_021-bop-003_PISCO1/20210304_HE570_021-bop-003_PISCO1_Results/EcoTaxa/deconv_crops.zip\n",
      "20210315_HE570_208-bop-036b_PISCO1\n"
     ]
    },
    {
     "name": "stderr",
     "output_type": "stream",
     "text": [
      "100%|██████████| 1697/1697 [00:02<00:00, 714.09it/s]\n",
      "2025-06-10 11:29:30,482 - crop_df created\n"
     ]
    },
    {
     "name": "stdout",
     "output_type": "stream",
     "text": [
      "1575\n",
      "0 files were empty and were dropped; Number of uniue images: 1575\n",
      "11731 particles found.\n",
      "No log directory provided, skipping log data.\n",
      "0 crops removed due to aspect ratio\n",
      "Processing 1 groups for /home/veit/PIScO_dev/Segmentation_results/HE570/HE570-PISCO-Profiles/TempResults/20210315_HE570_208-bop-036b_PISCO1/20210315_HE570_208-bop-036b_PISCO1_Results/Crops\n",
      "Created zip file: /home/veit/PIScO_dev/Segmentation_results/HE570/HE570-PISCO-Profiles/TempResults/20210315_HE570_208-bop-036b_PISCO1/20210315_HE570_208-bop-036b_PISCO1_Results/EcoTaxa/crops.zip\n",
      "Processing 1 groups for /home/veit/PIScO_dev/Segmentation_results/HE570/HE570-PISCO-Profiles/TempResults/20210315_HE570_208-bop-036b_PISCO1/20210315_HE570_208-bop-036b_PISCO1_Results/Deconv_crops\n",
      "Created zip file: /home/veit/PIScO_dev/Segmentation_results/HE570/HE570-PISCO-Profiles/TempResults/20210315_HE570_208-bop-036b_PISCO1/20210315_HE570_208-bop-036b_PISCO1_Results/EcoTaxa/deconv_crops.zip\n",
      "20210315_HE570_221-bop-039b_PISCO1\n"
     ]
    },
    {
     "name": "stderr",
     "output_type": "stream",
     "text": [
      "100%|██████████| 512/512 [00:00<00:00, 554.06it/s]\n",
      "2025-06-10 11:29:37,892 - crop_df created\n"
     ]
    },
    {
     "name": "stdout",
     "output_type": "stream",
     "text": [
      "379\n",
      "0 files were empty and were dropped; Number of uniue images: 379\n",
      "1051 particles found.\n",
      "No log directory provided, skipping log data.\n",
      "0 crops removed due to aspect ratio\n",
      "Processing 1 groups for /home/veit/PIScO_dev/Segmentation_results/HE570/HE570-PISCO-Profiles/TempResults/20210315_HE570_221-bop-039b_PISCO1/20210315_HE570_221-bop-039b_PISCO1_Results/Crops\n",
      "Created zip file: /home/veit/PIScO_dev/Segmentation_results/HE570/HE570-PISCO-Profiles/TempResults/20210315_HE570_221-bop-039b_PISCO1/20210315_HE570_221-bop-039b_PISCO1_Results/EcoTaxa/crops.zip\n",
      "Processing 1 groups for /home/veit/PIScO_dev/Segmentation_results/HE570/HE570-PISCO-Profiles/TempResults/20210315_HE570_221-bop-039b_PISCO1/20210315_HE570_221-bop-039b_PISCO1_Results/Deconv_crops\n",
      "Created zip file: /home/veit/PIScO_dev/Segmentation_results/HE570/HE570-PISCO-Profiles/TempResults/20210315_HE570_221-bop-039b_PISCO1/20210315_HE570_221-bop-039b_PISCO1_Results/EcoTaxa/deconv_crops.zip\n"
     ]
    }
   ],
   "source": [
    "for profile in os.listdir(cruise_base):\n",
    "    print(profile)\n",
    "    profile_path = os.path.join(cruise_base, profile)\n",
    "    profile_id = profile.split('_')[1]  # Extract the profile ID from the profile name\n",
    "    if os.path.isdir(profile_path):\n",
    "        # Some variables\n",
    "        results_folder = os.path.join(intermediate_result_dir, profile, profile+\"_Results\")\n",
    "        \n",
    "        # if \"crops_excluded\" in os.listdir(results_folder):\n",
    "        #     print(f\"Profile {profile} already processed. Skipping.\")\n",
    "        #     continue\n",
    "        profile_id = profile.split('_')[1]  # Extract the profile ID from the profile name\n",
    "        profile_id = profile.split('_')[1]+profile.split('_')[2]  # HE570 profile ID is the second and the third part of the profile name\n",
    "        profile_data_dir = os.path.join(results_folder, 'Data')\n",
    "\n",
    "        # Load the results of the segmenter\n",
    "        # and create a DataFrame with the particle data\n",
    "        df = ap.gen_crop_df(profile_data_dir, small=False, size_filter=0, cruise=cruise)\n",
    "        print(len(df.index), 'particles found.')\n",
    "        df['fullframe_path'] = df['full_path'].apply(ap.modify_full_path)\n",
    "\n",
    "        # Add ctd data to the DataFrame\n",
    "        # Get CTD profile ID\n",
    "        if ctd_dir is not None and os.path.exists(ctd_dir):\n",
    "            ctd_id = ap.get_ctd_profile_id(cruise_base, profile)\n",
    "            if ctd_id:\n",
    "                ctd_file = os.path.join(ctd_dir, f'{ctd_prefix}{ctd_id}.ctd')\n",
    "                print('adding ctd data...')\n",
    "                df = ap.add_ctd_data(ctd_file, df)\n",
    "            else:\n",
    "                print(f\"Skipping CTD data for {profile}\")\n",
    "                continue\n",
    "\n",
    "        # Predict on deconvolved images                \n",
    "        prediction_file = os.path.join(results_folder, 'ViT_predictions.csv')  # Example path\n",
    "        if os.path.exists(prediction_file):\n",
    "            print('Adding predictions...')\n",
    "            prediction_df = pd.read_csv(prediction_file)\n",
    "            df = ap.add_prediction(df, prediction_df)\n",
    "\n",
    "        # Add log data to the DataFrame\n",
    "        if log_directory is not None:                \n",
    "            print('adding log info...')\n",
    "            timestamp = profile.split('_')[-1]\n",
    "            # Convert timestamp to datetime object\n",
    "            date_time_obj = datetime.datetime.strptime(timestamp, '%Y%m%d-%H%M')\n",
    "            min_diff = datetime.timedelta(days=365*1000)  # initialize with a big time difference\n",
    "            closest_file = None\n",
    "\n",
    "            # Iterate over all files in the directory\n",
    "            for filename in os.listdir(log_directory):\n",
    "                # Check if filename is a Templog\n",
    "                if '__Templog.txt' in filename:\n",
    "                    # Extract timestamp from filename and convert to datetime object\n",
    "                    file_timestamp = filename[:16]\n",
    "                    file_datetime = datetime.datetime.strptime(file_timestamp, '%Y%m%d_%Hh_%Mm')\n",
    "\n",
    "                    # Calculate time difference\n",
    "                    diff = abs(date_time_obj - file_datetime)\n",
    "\n",
    "                    # If this file is closer, update min_diff and closest_file\n",
    "                    if diff < min_diff:\n",
    "                        min_diff = diff\n",
    "                        closest_file = filename\n",
    "\n",
    "            if closest_file is None:\n",
    "                print(\"Logfile not found\")\n",
    "            else:\n",
    "                file_path = os.path.join(log_directory, closest_file)\n",
    "                file_size = os.path.getsize(file_path)  # Get file size in bytes\n",
    "                print(f\"Closest logfile: {closest_file}, Size: {file_size} bytes\")\n",
    "            \n",
    "            # Read the log file and parse the relevant data\n",
    "\n",
    "            df_log = ap.create_log_df(file_path)\n",
    "\n",
    "            # Match the data with the profile dataframe\n",
    "            df.drop(['TT_x', 'T1_x', 'T2_x', 'TH_x', 'restart_x', 'relock_x', 'Time_log_x', 'TT_y', 'T1_y', 'T2_y', 'TH_y', 'restart_y', 'relock_y', 'Time_log_y', 'TT', 'T1', 'T2', 'TH', 'restart', 'relock', 'Time_log'], axis=1, inplace=True, errors='ignore')\n",
    "            # Convert the timestamps in both dataframes to datetime format\n",
    "            df['timestamp'] = df['date-time']\n",
    "\n",
    "            df['timestamp'] = pd.to_datetime(df['timestamp'], format='%Y%m%d-%H%M%S%f')\n",
    "\n",
    "            # Sort the dataframes by the timestamp\n",
    "            df = df.sort_values('timestamp')\n",
    "            df_log = df_log.sort_values('timestamp')\n",
    "\n",
    "            # Use merge_asof to merge the two dataframes, finding the nearest match on the timestamp\n",
    "            df_combined = pd.merge_asof(df, df_log, left_on='timestamp', right_on='timestamp', direction='backward')\n",
    "            df_combined.drop('timestamp', axis=1, inplace=True)\n",
    "\n",
    "            #Add particle count based filter for filtering out images that are potentially obscured by schlieren or bubbles\n",
    "            df_unique = df_combined[['date-time', 'pressure [dbar]', 'depth [m]', 'img_id','temperature','interpolated_s','interpolated_t','interpolated_o','interpolated_z_factor','restart','relock','TAG_event']].drop_duplicates()\n",
    "            df_count = df_combined.groupby('date-time').size().reset_index(name='count')\n",
    "            df_unique = df_unique.merge(df_count, on='date-time', how='left')\n",
    "            df_unique = df_unique.sort_values('pressure [dbar]')\n",
    "            df_unique['part_based_filter'] = df_unique['count'].apply(lambda x: 0 if x < (df_unique['count'].mean() + 5*df_unique['count'].std()) else 1)\n",
    "            df = df_combined.merge(df_unique[['date-time', 'part_based_filter']], on='date-time', how='left')\n",
    "        \n",
    "        else:\n",
    "            print('No log directory provided, skipping log data.')\n",
    "            # Use merge_asof to merge the two dataframes, finding the nearest match on the timestamp\n",
    "            df_combined = df.copy()\n",
    "\n",
    "            #Add particle count based filter for filtering out images that are potentially obscured by schlieren or bubbles\n",
    "            df_unique = df_combined[['date-time', 'pressure [dbar]', 'img_id']].drop_duplicates()\n",
    "            df_count = df_combined.groupby('date-time').size().reset_index(name='count')\n",
    "            df_unique = df_unique.merge(df_count, on='date-time', how='left')\n",
    "            df_unique = df_unique.sort_values('pressure [dbar]')\n",
    "            df_unique['part_based_filter'] = df_unique['count'].apply(lambda x: 0 if x < (df_unique['count'].mean() + 5*df_unique['count'].std()) else 1)\n",
    "            df = df_combined.merge(df_unique[['date-time', 'part_based_filter']], on='date-time', how='left')\n",
    "\n",
    "\n",
    "        ## Process for exporting to EcoTaxa\n",
    "        # Add object ID column\n",
    "        df['object_id'] = profile_id + df['img_id'].astype(str) + '_' + df['index'].astype(str) \n",
    "\n",
    "        #split date-time\n",
    "        df[['date', 'time']] = df['date-time'].str.split('-', expand=True)\n",
    "\n",
    "        # Get latitude and longitude from yaml file\n",
    "        # Assuming your YAML file is in the same directory as your profile\n",
    "        if cruise == \"HE570\":\n",
    "            yaml_file = os.path.join(profile_path, profile + \".yaml\")\n",
    "        \n",
    "        else:\n",
    "            # For other cruises, the YAML file is in a subdirectory\n",
    "            yaml_file = os.path.join(profile_path, profile + \"_Metadata\", profile + \".yaml\")\n",
    "        \n",
    "        latitude, longitude = ap.extract_coords_from_yaml(yaml_file)\n",
    "\n",
    "        # Add the columns to your DataFrame and fill all rows with the same values\n",
    "        df['lat'] = latitude\n",
    "        df['lon'] = longitude\n",
    "\n",
    "        ## Filter crops based on aspect ratio and artifacts (TAG events and schlieren)\n",
    "        threshold_ratio = 0.005  # Define the aspect ratio threshold\n",
    "        print(len(df)-len(df[df['w'] >= threshold_ratio * df['h']]), 'crops removed due to aspect ratio')\n",
    "        df = df[df['w'] >= threshold_ratio * df['h']]\n",
    "        if \"TAG_event\" in df.columns:\n",
    "            print(len(df)-len(df[df['TAG_event'] == 0]), 'crops removed due to TAG events')\n",
    "            df = df[df['TAG_event'] == 0]\n",
    "\n",
    "        # Filter out crops with part_based_filter == 1   \n",
    "        df = df[df['part_based_filter'] == 0]  \n",
    "\n",
    "        # Remove duplicates in the 'full_path' column, keeping the first occurrence\n",
    "        df = df.drop_duplicates(subset='full_path', keep='first')\n",
    "        df = df.sort_values(by='object_id')\n",
    "        df.reset_index(drop=True, inplace=True)\n",
    "        \n",
    "        crops_zip = os.path.join(results_folder, \"crops.zip\")\n",
    "        deconv_zip = os.path.join(results_folder, \"deconv_crops.zip\")\n",
    "        \n",
    "        # # Check if both zip files already exist\n",
    "        # if os.path.exists(crops_zip) and os.path.exists(deconv_zip):\n",
    "        #     print(f\"Profile {profile_name} already processed. Skipping.\")\n",
    "        #     continue\n",
    "\n",
    "        # Prepare EcoTaxa metadata\n",
    "        df_ET = ap.rename_for_ecotaxa(df, sample_profile_id=profile).copy()\n",
    "        if not df_ET.empty:\n",
    "            ap.create_ecotaxa_zips(output_folder=results_folder, df=df_ET, profile_name=profile, \n",
    "                                max_zip_size_mb=500, compression_ratio=1.0, copy_images=True, \n",
    "                                add_scale_bar_to_deconv=False, pixel_resolution=23, scale_length_mm=1)\n",
    "        else:\n",
    "            print(f\"No data to process for profile {profile}\")\n",
    "\n",
    "        #ap.create_ecotaxa_zips(output_folder=results_folder, df=df_ET, profile_name=profile, max_zip_size_mb=500, compression_ratio=1.0, copy_images=True, add_scale_bar_to_deconv=False, pixel_resolution=23, scale_length_mm=1)\n",
    "\n",
    "        # Save the DataFrame to a CSV file\n",
    "        df.to_csv(os.path.join(results_folder, f'{profile}_crops_metadata.csv'), index=False)\n",
    "\n",
    "        # Create plots\n",
    "        # plot_path = os.path.join(results_folder, 'Plots')\n",
    "        # if not os.path.exists(plot_path):\n",
    "        #     os.makedirs(plot_path)\n",
    "        # ap.plot_histogram(df, plot_path)\n",
    "        # ap.plot_position_hist(df, plot_path)\n",
    "        # ap.plot_2d_histogram(df, plot_path)\n",
    "        # press_min = df['object_pressure'].min()-10\n",
    "        # depth_bin_size = 1\n",
    "        # _, pivoted_df = ap.populate_esd_bins_pressure(df,  depth_bin_size=depth_bin_size, esd_bins=np.array([0,125,250,500,1000,100000]))\n",
    "        # ap.plot_particle_dist(pivoted_df, folder, plot_path, depth_bin_size=depth_bin_size, preliminary=True, depth_min=press_min)\n",
    "        # ap.plot_particle_dist(pivoted_df, folder, plot_path, depth_bin_size=depth_bin_size, preliminary=True, depth_min=press_min, maximum_y_value=500)\n",
    "        # ap.plot_ctd_data(df, profile, plot_path)\n",
    "        # ap.plot_ctd_data(df, profile, plot_path, maximum_y_value=500)"
   ]
  },
  {
   "cell_type": "markdown",
   "id": "c0372332",
   "metadata": {},
   "source": [
    "### 3. Upload to EcoTaxa"
   ]
  },
  {
   "cell_type": "markdown",
   "id": "3740c4aa",
   "metadata": {},
   "source": [
    "Setup of pyecotaxa 05.06.2025: \n",
    "1. Install pyecotaxa dev_branch: git clone https://github.com/moi90/pyecotaxa.git > cd pyecotaxa > git checkout wip-aqqua > pip install .\n",
    "Now pyecotaxa is useable in cli and python scripts.\n",
    "2. In home directory edit the file ~/.pyecotaxa.json: {\"api_token\": \"...\", \"ftp_user\": \"ftp_plankton\", \"ftp_passwd\": \"Pl@nkt0n4Ecotaxa\"}\n",
    "3. Now ftp transfer is useable."
   ]
  },
  {
   "cell_type": "code",
   "execution_count": null,
   "id": "12c8e5ce",
   "metadata": {},
   "outputs": [
    {
     "name": "stderr",
     "output_type": "stream",
     "text": [
      "2025-06-10 11:35:34,418 - Server OpenAPI version is 0.0.41\n",
      "2025-06-10 11:35:35,551 - Pushing 1 files...\n",
      "2025-06-10 11:35:35,552 - Pushing /home/veit/PIScO_dev/Segmentation_results/HE570/HE570-PISCO-Profiles/TempResults/20210309_HE570_100-bop-019_PISCO1/20210309_HE570_100-bop-019_PISCO1_Results/EcoTaxa/crops.zip to 17302...\n"
     ]
    },
    {
     "name": "stdout",
     "output_type": "stream",
     "text": [
      "Successfully logged into EcoTaxa.\n",
      "20210309_HE570_100-bop-019_PISCO1\n",
      "Processing EcoTaxa folder: /home/veit/PIScO_dev/Segmentation_results/HE570/HE570-PISCO-Profiles/TempResults/20210309_HE570_100-bop-019_PISCO1/20210309_HE570_100-bop-019_PISCO1_Results/EcoTaxa\n"
     ]
    },
    {
     "name": "stderr",
     "output_type": "stream",
     "text": [
      "2025-06-10 11:35:35,552 - Uploading /home/veit/PIScO_dev/Segmentation_results/HE570/HE570-PISCO-Profiles/TempResults/20210309_HE570_100-bop-019_PISCO1/20210309_HE570_100-bop-019_PISCO1_Results/EcoTaxa/crops.zip via FTP...\n",
      "  0%|          | 0/1 [00:00<?, ?it/s]2025-06-10 11:35:35,552 - Computing hash for crops.zip...\n",
      "2025-06-10 11:35:35,903 - Remote filename is FTP/Ecotaxa_Data_to_import/pyecotaxa/a9ea74133508a373b486c8001b429f6834263f05548bfbeb57055f8d97735e4b/crops.zip.\n",
      "2025-06-10 11:35:36,303 - Job to import FTP/Ecotaxa_Data_to_import/pyecotaxa/a9ea74133508a373b486c8001b429f6834263f05548bfbeb57055f8d97735e4b/crops.zip already exists...\n",
      "Importing to 17302...:   0%|          | 0/100 [00:00<?, ?%/s]\n",
      "100%|██████████| 1/1 [00:00<00:00,  1.33it/s]\n",
      "2025-06-10 11:35:36,305 - Pushing 1 files...\n",
      "2025-06-10 11:35:36,306 - Pushing /home/veit/PIScO_dev/Segmentation_results/HE570/HE570-PISCO-Profiles/TempResults/20210307_HE570_069-bop-015b_PISCO1/20210307_HE570_069-bop-015b_PISCO1_Results/EcoTaxa/crops.zip to 17302...\n"
     ]
    },
    {
     "name": "stdout",
     "output_type": "stream",
     "text": [
      "Successfully uploaded /home/veit/PIScO_dev/Segmentation_results/HE570/HE570-PISCO-Profiles/TempResults/20210309_HE570_100-bop-019_PISCO1/20210309_HE570_100-bop-019_PISCO1_Results/EcoTaxa/crops.zip to project 17302.\n",
      "Uploaded crops.zip to project 17302.\n",
      "20210307_HE570_069-bop-015b_PISCO1\n",
      "Processing EcoTaxa folder: /home/veit/PIScO_dev/Segmentation_results/HE570/HE570-PISCO-Profiles/TempResults/20210307_HE570_069-bop-015b_PISCO1/20210307_HE570_069-bop-015b_PISCO1_Results/EcoTaxa\n"
     ]
    },
    {
     "name": "stderr",
     "output_type": "stream",
     "text": [
      "  0%|          | 0/1 [00:00<?, ?it/s]2025-06-10 11:35:36,306 - Uploading /home/veit/PIScO_dev/Segmentation_results/HE570/HE570-PISCO-Profiles/TempResults/20210307_HE570_069-bop-015b_PISCO1/20210307_HE570_069-bop-015b_PISCO1_Results/EcoTaxa/crops.zip via FTP...\n",
      "2025-06-10 11:35:36,306 - Computing hash for crops.zip...\n",
      "Uploading crops.zip...: 100%|██████████| 55.8M/55.8M [00:15<00:00, 3.82MB/s]\n",
      "2025-06-10 11:35:52,092 - Remote filename is FTP/Ecotaxa_Data_to_import/pyecotaxa/955fc736f8323d3f6483cea9768ef05e45574b2583b41e016a021437ced69710/crops.zip.\n",
      "2025-06-10 11:35:52,496 - Starting project import...\n",
      "Importing to 17302... (Processing files 4800/5125):  95%|█████████▌| 95/100 [00:30<00:01,  3.13%/s]\n",
      "100%|██████████| 1/1 [00:46<00:00, 46.70s/it]\n",
      "2025-06-10 11:36:23,012 - Pushing 1 files...\n",
      "2025-06-10 11:36:23,012 - Pushing /home/veit/PIScO_dev/Segmentation_results/HE570/HE570-PISCO-Profiles/TempResults/20210312_HE570_138-bop-028_PISCO1/20210312_HE570_138-bop-028_PISCO1_Results/EcoTaxa/crops.zip to 17302...\n"
     ]
    },
    {
     "name": "stdout",
     "output_type": "stream",
     "text": [
      "Successfully uploaded /home/veit/PIScO_dev/Segmentation_results/HE570/HE570-PISCO-Profiles/TempResults/20210307_HE570_069-bop-015b_PISCO1/20210307_HE570_069-bop-015b_PISCO1_Results/EcoTaxa/crops.zip to project 17302.\n",
      "Uploaded crops.zip to project 17302.\n",
      "20210312_HE570_138-bop-028_PISCO1\n",
      "Processing EcoTaxa folder: /home/veit/PIScO_dev/Segmentation_results/HE570/HE570-PISCO-Profiles/TempResults/20210312_HE570_138-bop-028_PISCO1/20210312_HE570_138-bop-028_PISCO1_Results/EcoTaxa\n"
     ]
    },
    {
     "name": "stderr",
     "output_type": "stream",
     "text": [
      "  0%|          | 0/1 [00:00<?, ?it/s]2025-06-10 11:36:23,013 - Uploading /home/veit/PIScO_dev/Segmentation_results/HE570/HE570-PISCO-Profiles/TempResults/20210312_HE570_138-bop-028_PISCO1/20210312_HE570_138-bop-028_PISCO1_Results/EcoTaxa/crops.zip via FTP...\n",
      "2025-06-10 11:36:23,013 - Computing hash for crops.zip...\n",
      "Uploading crops.zip...: 100%|██████████| 20.9M/20.9M [00:02<00:00, 7.40MB/s]\n",
      "2025-06-10 11:36:26,381 - Remote filename is FTP/Ecotaxa_Data_to_import/pyecotaxa/c9d08ad6028ce7bc93d050bdd25d14939ff42e5976390800f43e36008d201be1/crops.zip.\n",
      "2025-06-10 11:36:26,786 - Starting project import...\n",
      "Importing to 17302... (Processing files 18000/18086): 100%|██████████| 100/100 [01:30<00:00,  1.10%/s]\n",
      "100%|██████████| 1/1 [01:34<00:00, 94.88s/it]\n",
      "2025-06-10 11:37:57,894 - Pushing 1 files...\n"
     ]
    },
    {
     "name": "stdout",
     "output_type": "stream",
     "text": [
      "Successfully uploaded /home/veit/PIScO_dev/Segmentation_results/HE570/HE570-PISCO-Profiles/TempResults/20210312_HE570_138-bop-028_PISCO1/20210312_HE570_138-bop-028_PISCO1_Results/EcoTaxa/crops.zip to project 17302.\n",
      "Uploaded crops.zip to project 17302.\n",
      "20210305_HE570_027-bop-005_PISCO1\n",
      "Processing EcoTaxa folder: /home/veit/PIScO_dev/Segmentation_results/HE570/HE570-PISCO-Profiles/TempResults/20210305_HE570_027-bop-005_PISCO1/20210305_HE570_027-bop-005_PISCO1_Results/EcoTaxa\n"
     ]
    },
    {
     "name": "stderr",
     "output_type": "stream",
     "text": [
      "2025-06-10 11:37:57,894 - Pushing /home/veit/PIScO_dev/Segmentation_results/HE570/HE570-PISCO-Profiles/TempResults/20210305_HE570_027-bop-005_PISCO1/20210305_HE570_027-bop-005_PISCO1_Results/EcoTaxa/crops.zip to 17302...\n",
      "  0%|          | 0/1 [00:00<?, ?it/s]2025-06-10 11:37:57,894 - Uploading /home/veit/PIScO_dev/Segmentation_results/HE570/HE570-PISCO-Profiles/TempResults/20210305_HE570_027-bop-005_PISCO1/20210305_HE570_027-bop-005_PISCO1_Results/EcoTaxa/crops.zip via FTP...\n",
      "2025-06-10 11:37:57,895 - Computing hash for crops.zip...\n",
      "Uploading crops.zip...: 100%|██████████| 50.5M/50.5M [00:03<00:00, 16.0MB/s]\n",
      "2025-06-10 11:38:01,664 - Remote filename is FTP/Ecotaxa_Data_to_import/pyecotaxa/4a075d9cdaf5b16d16ea71c12b90017b4b7d7302a9bac0539663b1e4ebedb477/crops.zip.\n",
      "2025-06-10 11:38:02,093 - Starting project import...\n",
      "Importing to 17302... (Processing files 5900/6483):  93%|█████████▎| 93/100 [00:35<00:02,  2.63%/s]\n",
      "100%|██████████| 1/1 [00:39<00:00, 39.72s/it]\n",
      "2025-06-10 11:38:37,611 - Pushing 1 files...\n",
      "2025-06-10 11:38:37,612 - Pushing /home/veit/PIScO_dev/Segmentation_results/HE570/HE570-PISCO-Profiles/TempResults/20210305_HE570_033-bop-007_PISCO1/20210305_HE570_033-bop-007_PISCO1_Results/EcoTaxa/crops.zip to 17302...\n"
     ]
    },
    {
     "name": "stdout",
     "output_type": "stream",
     "text": [
      "Successfully uploaded /home/veit/PIScO_dev/Segmentation_results/HE570/HE570-PISCO-Profiles/TempResults/20210305_HE570_027-bop-005_PISCO1/20210305_HE570_027-bop-005_PISCO1_Results/EcoTaxa/crops.zip to project 17302.\n",
      "Uploaded crops.zip to project 17302.\n",
      "20210305_HE570_033-bop-007_PISCO1\n",
      "Processing EcoTaxa folder: /home/veit/PIScO_dev/Segmentation_results/HE570/HE570-PISCO-Profiles/TempResults/20210305_HE570_033-bop-007_PISCO1/20210305_HE570_033-bop-007_PISCO1_Results/EcoTaxa\n"
     ]
    },
    {
     "name": "stderr",
     "output_type": "stream",
     "text": [
      "2025-06-10 11:38:37,612 - Uploading /home/veit/PIScO_dev/Segmentation_results/HE570/HE570-PISCO-Profiles/TempResults/20210305_HE570_033-bop-007_PISCO1/20210305_HE570_033-bop-007_PISCO1_Results/EcoTaxa/crops.zip via FTP...\n",
      "  0%|          | 0/1 [00:00<?, ?it/s]2025-06-10 11:38:37,612 - Computing hash for crops.zip...\n",
      "Uploading crops.zip...: 100%|██████████| 52.7M/52.7M [00:09<00:00, 5.97MB/s]\n",
      "2025-06-10 11:38:47,339 - Remote filename is FTP/Ecotaxa_Data_to_import/pyecotaxa/7a04d69278ab484ede857a0597a8ae35e4b7f088aeea9a2b4df8ee38a00de62e/crops.zip.\n",
      "2025-06-10 11:38:47,777 - Starting project import...\n",
      "Importing to 17302... (Processing files 20000/21001):  96%|█████████▌| 96/100 [01:25<00:03,  1.12%/s]\n",
      "100%|██████████| 1/1 [01:36<00:00, 96.27s/it]\n",
      "2025-06-10 11:40:13,883 - Pushing 1 files...\n",
      "2025-06-10 11:40:13,883 - Pushing /home/veit/PIScO_dev/Segmentation_results/HE570/HE570-PISCO-Profiles/TempResults/20210314_HE570_191-bop-035c_PISCO1/20210314_HE570_191-bop-035c_PISCO1_Results/EcoTaxa/crops.zip to 17302...\n"
     ]
    },
    {
     "name": "stdout",
     "output_type": "stream",
     "text": [
      "Successfully uploaded /home/veit/PIScO_dev/Segmentation_results/HE570/HE570-PISCO-Profiles/TempResults/20210305_HE570_033-bop-007_PISCO1/20210305_HE570_033-bop-007_PISCO1_Results/EcoTaxa/crops.zip to project 17302.\n",
      "Uploaded crops.zip to project 17302.\n",
      "20210314_HE570_191-bop-035c_PISCO1\n",
      "Processing EcoTaxa folder: /home/veit/PIScO_dev/Segmentation_results/HE570/HE570-PISCO-Profiles/TempResults/20210314_HE570_191-bop-035c_PISCO1/20210314_HE570_191-bop-035c_PISCO1_Results/EcoTaxa\n"
     ]
    },
    {
     "name": "stderr",
     "output_type": "stream",
     "text": [
      "2025-06-10 11:40:13,884 - Uploading /home/veit/PIScO_dev/Segmentation_results/HE570/HE570-PISCO-Profiles/TempResults/20210314_HE570_191-bop-035c_PISCO1/20210314_HE570_191-bop-035c_PISCO1_Results/EcoTaxa/crops.zip via FTP...\n",
      "  0%|          | 0/1 [00:00<?, ?it/s]2025-06-10 11:40:13,884 - Computing hash for crops.zip...\n",
      "Uploading crops.zip...: 100%|██████████| 10.1M/10.1M [00:02<00:00, 4.16MB/s]\n",
      "2025-06-10 11:40:16,857 - Remote filename is FTP/Ecotaxa_Data_to_import/pyecotaxa/6107e51ff5ff41a091516557c8fee199418b606875497bbe177f39dcfc09ef74/crops.zip.\n",
      "2025-06-10 11:40:17,270 - Starting project import...\n",
      "Importing to 17302... (Processing files 6400/7119):  92%|█████████▏| 92/100 [00:35<00:03,  2.60%/s]\n",
      "100%|██████████| 1/1 [00:38<00:00, 38.91s/it]\n",
      "2025-06-10 11:40:52,794 - Pushing 1 files...\n",
      "2025-06-10 11:40:52,794 - Pushing /home/veit/PIScO_dev/Segmentation_results/HE570/HE570-PISCO-Profiles/TempResults/20210315_HE570_221-bop-039a_PISCO1/20210315_HE570_221-bop-039a_PISCO1_Results/EcoTaxa/crops.zip to 17302...\n"
     ]
    },
    {
     "name": "stdout",
     "output_type": "stream",
     "text": [
      "Successfully uploaded /home/veit/PIScO_dev/Segmentation_results/HE570/HE570-PISCO-Profiles/TempResults/20210314_HE570_191-bop-035c_PISCO1/20210314_HE570_191-bop-035c_PISCO1_Results/EcoTaxa/crops.zip to project 17302.\n",
      "Uploaded crops.zip to project 17302.\n",
      "20210315_HE570_221-bop-039a_PISCO1\n",
      "Processing EcoTaxa folder: /home/veit/PIScO_dev/Segmentation_results/HE570/HE570-PISCO-Profiles/TempResults/20210315_HE570_221-bop-039a_PISCO1/20210315_HE570_221-bop-039a_PISCO1_Results/EcoTaxa\n"
     ]
    },
    {
     "name": "stderr",
     "output_type": "stream",
     "text": [
      "  0%|          | 0/1 [00:00<?, ?it/s]2025-06-10 11:40:52,795 - Uploading /home/veit/PIScO_dev/Segmentation_results/HE570/HE570-PISCO-Profiles/TempResults/20210315_HE570_221-bop-039a_PISCO1/20210315_HE570_221-bop-039a_PISCO1_Results/EcoTaxa/crops.zip via FTP...\n",
      "2025-06-10 11:40:52,795 - Computing hash for crops.zip...\n",
      "Uploading crops.zip...: 100%|██████████| 18.9M/18.9M [00:06<00:00, 2.94MB/s]\n",
      "2025-06-10 11:40:59,938 - Remote filename is FTP/Ecotaxa_Data_to_import/pyecotaxa/0c6cd09535fbedd0ff544d2278eb596fbaa444855395a4c398bfcf987fb1b80b/crops.zip.\n",
      "2025-06-10 11:41:00,414 - Starting project import...\n",
      "Importing to 17302... (Processing files 16800/16817): 100%|██████████| 100/100 [01:20<00:00,  1.24%/s]\n",
      "100%|██████████| 1/1 [01:28<00:00, 88.66s/it]\n",
      "2025-06-10 11:42:21,454 - Pushing 1 files...\n",
      "2025-06-10 11:42:21,455 - Pushing /home/veit/PIScO_dev/Segmentation_results/HE570/HE570-PISCO-Profiles/TempResults/20210312_HE570_135-bop-027_PISCO1/20210312_HE570_135-bop-027_PISCO1_Results/EcoTaxa/crops.zip to 17302...\n",
      "2025-06-10 11:42:21,455 - Uploading /home/veit/PIScO_dev/Segmentation_results/HE570/HE570-PISCO-Profiles/TempResults/20210312_HE570_135-bop-027_PISCO1/20210312_HE570_135-bop-027_PISCO1_Results/EcoTaxa/crops.zip via FTP...\n"
     ]
    },
    {
     "name": "stdout",
     "output_type": "stream",
     "text": [
      "Successfully uploaded /home/veit/PIScO_dev/Segmentation_results/HE570/HE570-PISCO-Profiles/TempResults/20210315_HE570_221-bop-039a_PISCO1/20210315_HE570_221-bop-039a_PISCO1_Results/EcoTaxa/crops.zip to project 17302.\n",
      "Uploaded crops.zip to project 17302.\n",
      "20210312_HE570_135-bop-027_PISCO1\n",
      "Processing EcoTaxa folder: /home/veit/PIScO_dev/Segmentation_results/HE570/HE570-PISCO-Profiles/TempResults/20210312_HE570_135-bop-027_PISCO1/20210312_HE570_135-bop-027_PISCO1_Results/EcoTaxa\n"
     ]
    },
    {
     "name": "stderr",
     "output_type": "stream",
     "text": [
      "  0%|          | 0/1 [00:00<?, ?it/s]2025-06-10 11:42:21,455 - Computing hash for crops.zip...\n",
      "Uploading crops.zip...: 100%|██████████| 40.0M/40.0M [00:04<00:00, 9.25MB/s]\n",
      "2025-06-10 11:42:26,412 - Remote filename is FTP/Ecotaxa_Data_to_import/pyecotaxa/c7a24d4c3394642a5e104d1088d85b88a1e4e08ba1ae48191119a6731b8ea172/crops.zip.\n",
      "2025-06-10 11:42:26,825 - Starting project import...\n",
      "Importing to 17302... (Processing files 17900/18788):  96%|█████████▌| 96/100 [01:25<00:03,  1.12%/s]\n",
      "100%|██████████| 1/1 [01:31<00:00, 91.47s/it]\n",
      "2025-06-10 11:43:52,929 - Pushing 1 files...\n",
      "2025-06-10 11:43:52,930 - Pushing /home/veit/PIScO_dev/Segmentation_results/HE570/HE570-PISCO-Profiles/TempResults/20210311_HE570_124-bop-026_PISCO1/20210311_HE570_124-bop-026_PISCO1_Results/EcoTaxa/crops.zip to 17302...\n"
     ]
    },
    {
     "name": "stdout",
     "output_type": "stream",
     "text": [
      "Successfully uploaded /home/veit/PIScO_dev/Segmentation_results/HE570/HE570-PISCO-Profiles/TempResults/20210312_HE570_135-bop-027_PISCO1/20210312_HE570_135-bop-027_PISCO1_Results/EcoTaxa/crops.zip to project 17302.\n",
      "Uploaded crops.zip to project 17302.\n",
      "20210311_HE570_124-bop-026_PISCO1\n",
      "Processing EcoTaxa folder: /home/veit/PIScO_dev/Segmentation_results/HE570/HE570-PISCO-Profiles/TempResults/20210311_HE570_124-bop-026_PISCO1/20210311_HE570_124-bop-026_PISCO1_Results/EcoTaxa\n"
     ]
    },
    {
     "name": "stderr",
     "output_type": "stream",
     "text": [
      "2025-06-10 11:43:52,930 - Uploading /home/veit/PIScO_dev/Segmentation_results/HE570/HE570-PISCO-Profiles/TempResults/20210311_HE570_124-bop-026_PISCO1/20210311_HE570_124-bop-026_PISCO1_Results/EcoTaxa/crops.zip via FTP...\n",
      "  0%|          | 0/1 [00:00<?, ?it/s]2025-06-10 11:43:52,931 - Computing hash for crops.zip...\n",
      "Uploading crops.zip...: 100%|██████████| 19.6M/19.6M [00:08<00:00, 2.48MB/s]\n",
      "2025-06-10 11:44:01,705 - Remote filename is FTP/Ecotaxa_Data_to_import/pyecotaxa/d80e45da024b4b96f7d97deffbe16a8a64f18d535033a5619cba1aa4547c9e22/crops.zip.\n",
      "2025-06-10 11:44:02,134 - Starting project import...\n",
      "Importing to 17302... (Processing files 16800/17709):  96%|█████████▌| 96/100 [01:20<00:03,  1.19%/s]\n",
      "100%|██████████| 1/1 [01:30<00:00, 90.24s/it]\n",
      "2025-06-10 11:45:23,172 - Pushing 1 files...\n",
      "2025-06-10 11:45:23,173 - Pushing /home/veit/PIScO_dev/Segmentation_results/HE570/HE570-PISCO-Profiles/TempResults/20210315_HE570_211-bop-037c_PISCO1/20210315_HE570_211-bop-037c_PISCO1_Results/EcoTaxa/crops.zip to 17302...\n"
     ]
    },
    {
     "name": "stdout",
     "output_type": "stream",
     "text": [
      "Successfully uploaded /home/veit/PIScO_dev/Segmentation_results/HE570/HE570-PISCO-Profiles/TempResults/20210311_HE570_124-bop-026_PISCO1/20210311_HE570_124-bop-026_PISCO1_Results/EcoTaxa/crops.zip to project 17302.\n",
      "Uploaded crops.zip to project 17302.\n",
      "20210315_HE570_211-bop-037c_PISCO1\n",
      "Processing EcoTaxa folder: /home/veit/PIScO_dev/Segmentation_results/HE570/HE570-PISCO-Profiles/TempResults/20210315_HE570_211-bop-037c_PISCO1/20210315_HE570_211-bop-037c_PISCO1_Results/EcoTaxa\n"
     ]
    },
    {
     "name": "stderr",
     "output_type": "stream",
     "text": [
      "  0%|          | 0/1 [00:00<?, ?it/s]2025-06-10 11:45:23,173 - Uploading /home/veit/PIScO_dev/Segmentation_results/HE570/HE570-PISCO-Profiles/TempResults/20210315_HE570_211-bop-037c_PISCO1/20210315_HE570_211-bop-037c_PISCO1_Results/EcoTaxa/crops.zip via FTP...\n",
      "2025-06-10 11:45:23,174 - Computing hash for crops.zip...\n",
      "Uploading crops.zip...: 100%|██████████| 31.3M/31.3M [00:03<00:00, 10.4MB/s]\n",
      "2025-06-10 11:45:26,863 - Remote filename is FTP/Ecotaxa_Data_to_import/pyecotaxa/833865d23d70a414c2edbb725d285ebf3af5d2c6a299255cf5a76d53b9e91d23/crops.zip.\n",
      "2025-06-10 11:45:27,305 - Starting project import...\n",
      "Importing to 17302... (Processing files 18500/19506):  96%|█████████▌| 96/100 [01:31<00:03,  1.05%/s]\n",
      "100%|██████████| 1/1 [01:35<00:00, 95.28s/it]\n",
      "2025-06-10 11:46:58,456 - Pushing 1 files...\n",
      "2025-06-10 11:46:58,457 - Pushing /home/veit/PIScO_dev/Segmentation_results/HE570/HE570-PISCO-Profiles/TempResults/20210308_HE570_085-bop-017_PISCO1/20210308_HE570_085-bop-017_PISCO1_Results/EcoTaxa/crops.zip to 17302...\n",
      "2025-06-10 11:46:58,457 - Uploading /home/veit/PIScO_dev/Segmentation_results/HE570/HE570-PISCO-Profiles/TempResults/20210308_HE570_085-bop-017_PISCO1/20210308_HE570_085-bop-017_PISCO1_Results/EcoTaxa/crops.zip via FTP...\n"
     ]
    },
    {
     "name": "stdout",
     "output_type": "stream",
     "text": [
      "Successfully uploaded /home/veit/PIScO_dev/Segmentation_results/HE570/HE570-PISCO-Profiles/TempResults/20210315_HE570_211-bop-037c_PISCO1/20210315_HE570_211-bop-037c_PISCO1_Results/EcoTaxa/crops.zip to project 17302.\n",
      "Uploaded crops.zip to project 17302.\n",
      "20210308_HE570_085-bop-017_PISCO1\n",
      "Processing EcoTaxa folder: /home/veit/PIScO_dev/Segmentation_results/HE570/HE570-PISCO-Profiles/TempResults/20210308_HE570_085-bop-017_PISCO1/20210308_HE570_085-bop-017_PISCO1_Results/EcoTaxa\n"
     ]
    },
    {
     "name": "stderr",
     "output_type": "stream",
     "text": [
      "  0%|          | 0/1 [00:00<?, ?it/s]2025-06-10 11:46:58,458 - Computing hash for crops.zip...\n",
      "Uploading crops.zip...: 100%|██████████| 110M/110M [00:04<00:00, 26.1MB/s]\n",
      "2025-06-10 11:47:03,327 - Remote filename is FTP/Ecotaxa_Data_to_import/pyecotaxa/4f2eae623052827a01286a68aee2deff37d92bddf3718da2b97ddd7e381318cc/crops.zip.\n",
      "2025-06-10 11:47:03,744 - Starting project import...\n",
      "Importing to 17302... (Processing files 8700/9438):  94%|█████████▍| 94/100 [00:55<00:03,  1.69%/s]\n",
      "100%|██████████| 1/1 [01:01<00:00, 61.02s/it]\n",
      "2025-06-10 11:47:59,482 - Pushing 1 files...\n"
     ]
    },
    {
     "name": "stdout",
     "output_type": "stream",
     "text": [
      "Successfully uploaded /home/veit/PIScO_dev/Segmentation_results/HE570/HE570-PISCO-Profiles/TempResults/20210308_HE570_085-bop-017_PISCO1/20210308_HE570_085-bop-017_PISCO1_Results/EcoTaxa/crops.zip to project 17302.\n",
      "Uploaded crops.zip to project 17302.\n",
      "20210312_HE570_151-bop-031_PISCO1\n",
      "Processing EcoTaxa folder: /home/veit/PIScO_dev/Segmentation_results/HE570/HE570-PISCO-Profiles/TempResults/20210312_HE570_151-bop-031_PISCO1/20210312_HE570_151-bop-031_PISCO1_Results/EcoTaxa\n"
     ]
    },
    {
     "name": "stderr",
     "output_type": "stream",
     "text": [
      "2025-06-10 11:47:59,483 - Pushing /home/veit/PIScO_dev/Segmentation_results/HE570/HE570-PISCO-Profiles/TempResults/20210312_HE570_151-bop-031_PISCO1/20210312_HE570_151-bop-031_PISCO1_Results/EcoTaxa/crops.zip to 17302...\n",
      "  0%|          | 0/1 [00:00<?, ?it/s]2025-06-10 11:47:59,484 - Uploading /home/veit/PIScO_dev/Segmentation_results/HE570/HE570-PISCO-Profiles/TempResults/20210312_HE570_151-bop-031_PISCO1/20210312_HE570_151-bop-031_PISCO1_Results/EcoTaxa/crops.zip via FTP...\n",
      "2025-06-10 11:47:59,484 - Computing hash for crops.zip...\n",
      "Uploading crops.zip...: 100%|██████████| 6.41M/6.41M [00:02<00:00, 2.45MB/s]\n",
      "2025-06-10 11:48:02,638 - Remote filename is FTP/Ecotaxa_Data_to_import/pyecotaxa/b9451834cb90debfb6f6e0094fadf7a6c7df850bbf19f06111c75a5d85d4ba32/crops.zip.\n",
      "2025-06-10 11:48:03,127 - Starting project import...\n",
      "Importing to 17302... (Processing files 4300/5501):  83%|████████▎ | 83/100 [00:30<00:06,  2.74%/s]\n",
      "100%|██████████| 1/1 [00:34<00:00, 34.15s/it]\n",
      "2025-06-10 11:48:33,633 - Pushing 1 files...\n",
      "2025-06-10 11:48:33,634 - Pushing /home/veit/PIScO_dev/Segmentation_results/HE570/HE570-PISCO-Profiles/TempResults/20210306_HE570_050-bop-012_PISCO1/20210306_HE570_050-bop-012_PISCO1_Results/EcoTaxa/crops.zip to 17302...\n"
     ]
    },
    {
     "name": "stdout",
     "output_type": "stream",
     "text": [
      "Successfully uploaded /home/veit/PIScO_dev/Segmentation_results/HE570/HE570-PISCO-Profiles/TempResults/20210312_HE570_151-bop-031_PISCO1/20210312_HE570_151-bop-031_PISCO1_Results/EcoTaxa/crops.zip to project 17302.\n",
      "Uploaded crops.zip to project 17302.\n",
      "20210306_HE570_050-bop-012_PISCO1\n",
      "Processing EcoTaxa folder: /home/veit/PIScO_dev/Segmentation_results/HE570/HE570-PISCO-Profiles/TempResults/20210306_HE570_050-bop-012_PISCO1/20210306_HE570_050-bop-012_PISCO1_Results/EcoTaxa\n"
     ]
    },
    {
     "name": "stderr",
     "output_type": "stream",
     "text": [
      "2025-06-10 11:48:33,634 - Uploading /home/veit/PIScO_dev/Segmentation_results/HE570/HE570-PISCO-Profiles/TempResults/20210306_HE570_050-bop-012_PISCO1/20210306_HE570_050-bop-012_PISCO1_Results/EcoTaxa/crops.zip via FTP...\n",
      "  0%|          | 0/1 [00:00<?, ?it/s]2025-06-10 11:48:33,635 - Computing hash for crops.zip...\n",
      "Uploading crops.zip...: 100%|██████████| 56.9M/56.9M [00:03<00:00, 17.3MB/s]\n",
      "2025-06-10 11:48:37,503 - Remote filename is FTP/Ecotaxa_Data_to_import/pyecotaxa/9504721cc865e52b609330b0786102304775198f92fdc25f883fee3d45466b32/crops.zip.\n",
      "2025-06-10 11:48:37,932 - Starting project import...\n",
      "Importing to 17302... (Processing files 25800/26482):  98%|█████████▊| 98/100 [01:51<00:02,  1.14s/%]\n",
      "100%|██████████| 1/1 [01:55<00:00, 115.72s/it]\n",
      "2025-06-10 11:50:29,353 - Pushing 1 files...\n",
      "2025-06-10 11:50:29,353 - Pushing /home/veit/PIScO_dev/Segmentation_results/HE570/HE570-PISCO-Profiles/TempResults/20210314_HE570_191-bop-035a_PISCO1/20210314_HE570_191-bop-035a_PISCO1_Results/EcoTaxa/crops.zip to 17302...\n"
     ]
    },
    {
     "name": "stdout",
     "output_type": "stream",
     "text": [
      "Successfully uploaded /home/veit/PIScO_dev/Segmentation_results/HE570/HE570-PISCO-Profiles/TempResults/20210306_HE570_050-bop-012_PISCO1/20210306_HE570_050-bop-012_PISCO1_Results/EcoTaxa/crops.zip to project 17302.\n",
      "Uploaded crops.zip to project 17302.\n",
      "20210314_HE570_191-bop-035a_PISCO1\n",
      "Processing EcoTaxa folder: /home/veit/PIScO_dev/Segmentation_results/HE570/HE570-PISCO-Profiles/TempResults/20210314_HE570_191-bop-035a_PISCO1/20210314_HE570_191-bop-035a_PISCO1_Results/EcoTaxa\n"
     ]
    },
    {
     "name": "stderr",
     "output_type": "stream",
     "text": [
      "2025-06-10 11:50:29,354 - Uploading /home/veit/PIScO_dev/Segmentation_results/HE570/HE570-PISCO-Profiles/TempResults/20210314_HE570_191-bop-035a_PISCO1/20210314_HE570_191-bop-035a_PISCO1_Results/EcoTaxa/crops.zip via FTP...\n",
      "  0%|          | 0/1 [00:00<?, ?it/s]2025-06-10 11:50:29,354 - Computing hash for crops.zip...\n",
      "Uploading crops.zip...: 100%|██████████| 38.8M/38.8M [00:03<00:00, 11.3MB/s]\n",
      "2025-06-10 11:50:33,375 - Remote filename is FTP/Ecotaxa_Data_to_import/pyecotaxa/5e108a44062a6037af957d31f1fae894be28e6366bc8f303bc5b1d1a8433c528/crops.zip.\n",
      "2025-06-10 11:50:33,851 - Starting project import...\n",
      "Importing to 17302... (Processing files 35100/35113): 100%|██████████| 100/100 [02:36<00:00,  1.57s/%]\n",
      "100%|██████████| 1/1 [02:41<00:00, 161.33s/it]\n",
      "2025-06-10 11:53:10,687 - Pushing 1 files...\n",
      "2025-06-10 11:53:10,687 - Pushing /home/veit/PIScO_dev/Segmentation_results/HE570/HE570-PISCO-Profiles/TempResults/20210304_HE570_014-bop-002_PISCO1/20210304_HE570_014-bop-002_PISCO1_Results/EcoTaxa/crops.zip to 17302...\n"
     ]
    },
    {
     "name": "stdout",
     "output_type": "stream",
     "text": [
      "Successfully uploaded /home/veit/PIScO_dev/Segmentation_results/HE570/HE570-PISCO-Profiles/TempResults/20210314_HE570_191-bop-035a_PISCO1/20210314_HE570_191-bop-035a_PISCO1_Results/EcoTaxa/crops.zip to project 17302.\n",
      "Uploaded crops.zip to project 17302.\n",
      "20210304_HE570_014-bop-002_PISCO1\n",
      "Processing EcoTaxa folder: /home/veit/PIScO_dev/Segmentation_results/HE570/HE570-PISCO-Profiles/TempResults/20210304_HE570_014-bop-002_PISCO1/20210304_HE570_014-bop-002_PISCO1_Results/EcoTaxa\n"
     ]
    },
    {
     "name": "stderr",
     "output_type": "stream",
     "text": [
      "2025-06-10 11:53:10,688 - Uploading /home/veit/PIScO_dev/Segmentation_results/HE570/HE570-PISCO-Profiles/TempResults/20210304_HE570_014-bop-002_PISCO1/20210304_HE570_014-bop-002_PISCO1_Results/EcoTaxa/crops.zip via FTP...\n",
      "  0%|          | 0/1 [00:00<?, ?it/s]2025-06-10 11:53:10,688 - Computing hash for crops.zip...\n",
      "Uploading crops.zip...: 100%|██████████| 67.0M/67.0M [00:04<00:00, 14.7MB/s]\n",
      "2025-06-10 11:53:15,914 - Remote filename is FTP/Ecotaxa_Data_to_import/pyecotaxa/316253a7c36719ae9ab4a3c5d9f87732f2fa0205766de2f762244c9851205db7/crops.zip.\n",
      "2025-06-10 11:53:16,368 - Starting project import...\n",
      "Importing to 17302... (Processing files 24700/24791): 100%|██████████| 100/100 [01:46<00:00,  1.06s/%]\n",
      "100%|██████████| 1/1 [01:51<00:00, 111.97s/it]\n",
      "2025-06-10 11:55:02,659 - Pushing 1 files...\n",
      "2025-06-10 11:55:02,659 - Pushing /home/veit/PIScO_dev/Segmentation_results/HE570/HE570-PISCO-Profiles/TempResults/20210307_HE570_076-bop-016e_PISCO1/20210307_HE570_076-bop-016e_PISCO1_Results/EcoTaxa/crops.zip to 17302...\n"
     ]
    },
    {
     "name": "stdout",
     "output_type": "stream",
     "text": [
      "Successfully uploaded /home/veit/PIScO_dev/Segmentation_results/HE570/HE570-PISCO-Profiles/TempResults/20210304_HE570_014-bop-002_PISCO1/20210304_HE570_014-bop-002_PISCO1_Results/EcoTaxa/crops.zip to project 17302.\n",
      "Uploaded crops.zip to project 17302.\n",
      "20210307_HE570_076-bop-016e_PISCO1\n",
      "Processing EcoTaxa folder: /home/veit/PIScO_dev/Segmentation_results/HE570/HE570-PISCO-Profiles/TempResults/20210307_HE570_076-bop-016e_PISCO1/20210307_HE570_076-bop-016e_PISCO1_Results/EcoTaxa\n"
     ]
    },
    {
     "name": "stderr",
     "output_type": "stream",
     "text": [
      "  0%|          | 0/1 [00:00<?, ?it/s]2025-06-10 11:55:02,660 - Uploading /home/veit/PIScO_dev/Segmentation_results/HE570/HE570-PISCO-Profiles/TempResults/20210307_HE570_076-bop-016e_PISCO1/20210307_HE570_076-bop-016e_PISCO1_Results/EcoTaxa/crops.zip via FTP...\n",
      "2025-06-10 11:55:02,660 - Computing hash for crops.zip...\n",
      "Uploading crops.zip...: 100%|██████████| 8.91k/8.91k [00:00<00:00, 16.0kB/s]\n",
      "2025-06-10 11:55:03,665 - Remote filename is FTP/Ecotaxa_Data_to_import/pyecotaxa/7435d545b4052e8eb0bc8e39d91b4517c98d1a55c10b723796abe77a7e829288/crops.zip.\n",
      "2025-06-10 11:55:04,372 - Starting project import...\n",
      "Importing to 17302... (Validating files 0/1):   0%|          | 0/100 [00:15<?, ?%/s]\n",
      "100%|██████████| 1/1 [00:16<00:00, 17.00s/it]\n",
      "2025-06-10 11:55:19,659 - Pushing 1 files...\n",
      "2025-06-10 11:55:19,659 - Pushing /home/veit/PIScO_dev/Segmentation_results/HE570/HE570-PISCO-Profiles/TempResults/20210307_HE570_076-bop-016b_PISCO1/20210307_HE570_076-bop-016b_PISCO1_Results/EcoTaxa/crops.zip to 17302...\n"
     ]
    },
    {
     "name": "stdout",
     "output_type": "stream",
     "text": [
      "Successfully uploaded /home/veit/PIScO_dev/Segmentation_results/HE570/HE570-PISCO-Profiles/TempResults/20210307_HE570_076-bop-016e_PISCO1/20210307_HE570_076-bop-016e_PISCO1_Results/EcoTaxa/crops.zip to project 17302.\n",
      "Uploaded crops.zip to project 17302.\n",
      "20210307_HE570_076-bop-016b_PISCO1\n",
      "Processing EcoTaxa folder: /home/veit/PIScO_dev/Segmentation_results/HE570/HE570-PISCO-Profiles/TempResults/20210307_HE570_076-bop-016b_PISCO1/20210307_HE570_076-bop-016b_PISCO1_Results/EcoTaxa\n"
     ]
    },
    {
     "name": "stderr",
     "output_type": "stream",
     "text": [
      "  0%|          | 0/1 [00:00<?, ?it/s]2025-06-10 11:55:19,660 - Uploading /home/veit/PIScO_dev/Segmentation_results/HE570/HE570-PISCO-Profiles/TempResults/20210307_HE570_076-bop-016b_PISCO1/20210307_HE570_076-bop-016b_PISCO1_Results/EcoTaxa/crops.zip via FTP...\n",
      "2025-06-10 11:55:19,660 - Computing hash for crops.zip...\n",
      "Uploading crops.zip...: 100%|██████████| 35.3M/35.3M [00:02<00:00, 13.1MB/s]\n",
      "2025-06-10 11:55:22,947 - Remote filename is FTP/Ecotaxa_Data_to_import/pyecotaxa/20a00032c47f53e324c7a50a19add10692987212146eb9a0b0c3a8b3a222c09c/crops.zip.\n",
      "2025-06-10 11:55:23,420 - Starting project import...\n",
      "Importing to 17302... (Processing files 4100/4415):  94%|█████████▍| 94/100 [00:35<00:02,  2.66%/s]\n",
      "100%|██████████| 1/1 [00:39<00:00, 39.29s/it]\n",
      "2025-06-10 11:55:58,954 - Pushing 1 files...\n",
      "2025-06-10 11:55:58,955 - Pushing /home/veit/PIScO_dev/Segmentation_results/HE570/HE570-PISCO-Profiles/TempResults/20210305_HE570_040-bop-009_PISCO1/20210305_HE570_040-bop-009_PISCO1_Results/EcoTaxa/crops.zip to 17302...\n",
      "2025-06-10 11:55:58,956 - Uploading /home/veit/PIScO_dev/Segmentation_results/HE570/HE570-PISCO-Profiles/TempResults/20210305_HE570_040-bop-009_PISCO1/20210305_HE570_040-bop-009_PISCO1_Results/EcoTaxa/crops.zip via FTP...\n"
     ]
    },
    {
     "name": "stdout",
     "output_type": "stream",
     "text": [
      "Successfully uploaded /home/veit/PIScO_dev/Segmentation_results/HE570/HE570-PISCO-Profiles/TempResults/20210307_HE570_076-bop-016b_PISCO1/20210307_HE570_076-bop-016b_PISCO1_Results/EcoTaxa/crops.zip to project 17302.\n",
      "Uploaded crops.zip to project 17302.\n",
      "20210305_HE570_040-bop-009_PISCO1\n",
      "Processing EcoTaxa folder: /home/veit/PIScO_dev/Segmentation_results/HE570/HE570-PISCO-Profiles/TempResults/20210305_HE570_040-bop-009_PISCO1/20210305_HE570_040-bop-009_PISCO1_Results/EcoTaxa\n"
     ]
    },
    {
     "name": "stderr",
     "output_type": "stream",
     "text": [
      "  0%|          | 0/1 [00:00<?, ?it/s]2025-06-10 11:55:58,957 - Computing hash for crops.zip...\n",
      "Uploading crops.zip...: 100%|██████████| 105M/105M [00:02<00:00, 43.7MB/s]\n",
      "2025-06-10 11:56:02,009 - Remote filename is FTP/Ecotaxa_Data_to_import/pyecotaxa/9d3f9d0fa75dde51fe1ffaa103351bc8adda1bf84be87a3e799b2597d95af39c/crops.zip.\n",
      "2025-06-10 11:56:02,469 - Starting project import...\n",
      "Importing to 17302... (Processing files 10800/11438):  96%|█████████▌| 96/100 [01:00<00:02,  1.58%/s]\n",
      "100%|██████████| 1/1 [01:05<00:00, 65.21s/it]\n",
      "2025-06-10 11:57:04,169 - Pushing 1 files...\n",
      "2025-06-10 11:57:04,170 - Pushing /home/veit/PIScO_dev/Segmentation_results/HE570/HE570-PISCO-Profiles/TempResults/20210314_HE570_191-bop-035d_PISCO1/20210314_HE570_191-bop-035d_PISCO1_Results/EcoTaxa/crops.zip to 17302...\n"
     ]
    },
    {
     "name": "stdout",
     "output_type": "stream",
     "text": [
      "Successfully uploaded /home/veit/PIScO_dev/Segmentation_results/HE570/HE570-PISCO-Profiles/TempResults/20210305_HE570_040-bop-009_PISCO1/20210305_HE570_040-bop-009_PISCO1_Results/EcoTaxa/crops.zip to project 17302.\n",
      "Uploaded crops.zip to project 17302.\n",
      "20210314_HE570_191-bop-035d_PISCO1\n",
      "Processing EcoTaxa folder: /home/veit/PIScO_dev/Segmentation_results/HE570/HE570-PISCO-Profiles/TempResults/20210314_HE570_191-bop-035d_PISCO1/20210314_HE570_191-bop-035d_PISCO1_Results/EcoTaxa\n"
     ]
    },
    {
     "name": "stderr",
     "output_type": "stream",
     "text": [
      "2025-06-10 11:57:04,170 - Uploading /home/veit/PIScO_dev/Segmentation_results/HE570/HE570-PISCO-Profiles/TempResults/20210314_HE570_191-bop-035d_PISCO1/20210314_HE570_191-bop-035d_PISCO1_Results/EcoTaxa/crops.zip via FTP...\n",
      "  0%|          | 0/1 [00:00<?, ?it/s]2025-06-10 11:57:04,171 - Computing hash for crops.zip...\n",
      "Uploading crops.zip...: 100%|██████████| 11.2M/11.2M [00:02<00:00, 4.25MB/s]\n",
      "2025-06-10 11:57:07,376 - Remote filename is FTP/Ecotaxa_Data_to_import/pyecotaxa/752eadd6f981ad2f37235dc77c4cb52e6c578807056570f39f1c178a74e10a5c/crops.zip.\n",
      "2025-06-10 11:57:07,794 - Starting project import...\n",
      "Importing to 17302... (Processing files 9500/10472):  93%|█████████▎| 93/100 [00:50<00:03,  1.84%/s]\n",
      "100%|██████████| 1/1 [00:54<00:00, 54.33s/it]\n",
      "2025-06-10 11:57:58,500 - Pushing 1 files...\n",
      "2025-06-10 11:57:58,501 - Pushing /home/veit/PIScO_dev/Segmentation_results/HE570/HE570-PISCO-Profiles/TempResults/20210307_HE570_076-bop-016c_PISCO1/20210307_HE570_076-bop-016c_PISCO1_Results/EcoTaxa/crops.zip to 17302...\n",
      "2025-06-10 11:57:58,501 - Uploading /home/veit/PIScO_dev/Segmentation_results/HE570/HE570-PISCO-Profiles/TempResults/20210307_HE570_076-bop-016c_PISCO1/20210307_HE570_076-bop-016c_PISCO1_Results/EcoTaxa/crops.zip via FTP...\n",
      "2025-06-10 11:57:58,501 - Computing hash for crops.zip...\n"
     ]
    },
    {
     "name": "stdout",
     "output_type": "stream",
     "text": [
      "Successfully uploaded /home/veit/PIScO_dev/Segmentation_results/HE570/HE570-PISCO-Profiles/TempResults/20210314_HE570_191-bop-035d_PISCO1/20210314_HE570_191-bop-035d_PISCO1_Results/EcoTaxa/crops.zip to project 17302.\n",
      "Uploaded crops.zip to project 17302.\n",
      "20210307_HE570_076-bop-016c_PISCO1\n",
      "Processing EcoTaxa folder: /home/veit/PIScO_dev/Segmentation_results/HE570/HE570-PISCO-Profiles/TempResults/20210307_HE570_076-bop-016c_PISCO1/20210307_HE570_076-bop-016c_PISCO1_Results/EcoTaxa\n"
     ]
    },
    {
     "name": "stderr",
     "output_type": "stream",
     "text": [
      "Uploading crops.zip...: 100%|██████████| 30.6M/30.6M [00:03<00:00, 10.7MB/s]\n",
      "2025-06-10 11:58:01,946 - Remote filename is FTP/Ecotaxa_Data_to_import/pyecotaxa/0ce26e8badc3daef0f95c07a9ed665710a885c4ce28f037009d250a3e876bfb8/crops.zip.\n",
      "2025-06-10 11:58:02,350 - Starting project import...\n",
      "Importing to 17302... (Processing files 1600/2292):  76%|███████▌  | 76/100 [00:25<00:07,  3.00%/s]\n",
      "100%|██████████| 1/1 [00:29<00:00, 29.27s/it]\n",
      "2025-06-10 11:58:27,769 - Pushing 1 files...\n",
      "2025-06-10 11:58:27,770 - Pushing /home/veit/PIScO_dev/Segmentation_results/HE570/HE570-PISCO-Profiles/TempResults/20210307_HE570_069-bop-015a_PISCO1/20210307_HE570_069-bop-015a_PISCO1_Results/EcoTaxa/crops.zip to 17302...\n",
      "2025-06-10 11:58:27,770 - Uploading /home/veit/PIScO_dev/Segmentation_results/HE570/HE570-PISCO-Profiles/TempResults/20210307_HE570_069-bop-015a_PISCO1/20210307_HE570_069-bop-015a_PISCO1_Results/EcoTaxa/crops.zip via FTP...\n"
     ]
    },
    {
     "name": "stdout",
     "output_type": "stream",
     "text": [
      "Successfully uploaded /home/veit/PIScO_dev/Segmentation_results/HE570/HE570-PISCO-Profiles/TempResults/20210307_HE570_076-bop-016c_PISCO1/20210307_HE570_076-bop-016c_PISCO1_Results/EcoTaxa/crops.zip to project 17302.\n",
      "Uploaded crops.zip to project 17302.\n",
      "20210307_HE570_069-bop-015a_PISCO1\n",
      "Processing EcoTaxa folder: /home/veit/PIScO_dev/Segmentation_results/HE570/HE570-PISCO-Profiles/TempResults/20210307_HE570_069-bop-015a_PISCO1/20210307_HE570_069-bop-015a_PISCO1_Results/EcoTaxa\n"
     ]
    },
    {
     "name": "stderr",
     "output_type": "stream",
     "text": [
      "  0%|          | 0/1 [00:00<?, ?it/s]2025-06-10 11:58:27,771 - Computing hash for crops.zip...\n",
      "Uploading crops.zip...: 100%|██████████| 37.2M/37.2M [00:02<00:00, 14.2MB/s]\n",
      "2025-06-10 11:58:30,984 - Remote filename is FTP/Ecotaxa_Data_to_import/pyecotaxa/33b53584d2f96d84d3b5991a74fabd9e7fc4be22bbf6eb3d0997fbbe35ce3485/crops.zip.\n",
      "2025-06-10 11:58:31,433 - Starting project import...\n",
      "Importing to 17302... (Processing files 1700/2160):  83%|████████▎ | 83/100 [00:25<00:05,  3.28%/s]\n",
      "100%|██████████| 1/1 [00:29<00:00, 29.27s/it]\n",
      "2025-06-10 11:58:57,038 - Pushing 1 files...\n"
     ]
    },
    {
     "name": "stdout",
     "output_type": "stream",
     "text": [
      "Successfully uploaded /home/veit/PIScO_dev/Segmentation_results/HE570/HE570-PISCO-Profiles/TempResults/20210307_HE570_069-bop-015a_PISCO1/20210307_HE570_069-bop-015a_PISCO1_Results/EcoTaxa/crops.zip to project 17302.\n",
      "Uploaded crops.zip to project 17302.\n",
      "20210311_HE570_103-bop-020_PISCO1\n",
      "Processing EcoTaxa folder: /home/veit/PIScO_dev/Segmentation_results/HE570/HE570-PISCO-Profiles/TempResults/20210311_HE570_103-bop-020_PISCO1/20210311_HE570_103-bop-020_PISCO1_Results/EcoTaxa\n"
     ]
    },
    {
     "name": "stderr",
     "output_type": "stream",
     "text": [
      "  0%|          | 0/1 [00:00<?, ?it/s]2025-06-10 11:58:57,039 - Pushing /home/veit/PIScO_dev/Segmentation_results/HE570/HE570-PISCO-Profiles/TempResults/20210311_HE570_103-bop-020_PISCO1/20210311_HE570_103-bop-020_PISCO1_Results/EcoTaxa/crops.zip to 17302...\n",
      "2025-06-10 11:58:57,040 - Uploading /home/veit/PIScO_dev/Segmentation_results/HE570/HE570-PISCO-Profiles/TempResults/20210311_HE570_103-bop-020_PISCO1/20210311_HE570_103-bop-020_PISCO1_Results/EcoTaxa/crops.zip via FTP...\n",
      "2025-06-10 11:58:57,040 - Computing hash for crops.zip...\n",
      "Uploading crops.zip...: 100%|██████████| 3.11M/3.11M [00:02<00:00, 1.51MB/s]\n",
      "2025-06-10 11:58:59,606 - Remote filename is FTP/Ecotaxa_Data_to_import/pyecotaxa/c4aac50d9424a5827bdb96218eeb54a3400f412e2d2d0c219ed3411d1d543f12/crops.zip.\n",
      "2025-06-10 11:59:00,068 - Starting project import...\n",
      "Importing to 17302... (Processing files 2700/3013):  92%|█████████▏| 92/100 [00:30<00:02,  3.03%/s]\n",
      "100%|██████████| 1/1 [00:33<00:00, 33.50s/it]\n",
      "2025-06-10 11:59:30,538 - Pushing 1 files...\n",
      "2025-06-10 11:59:30,539 - Pushing /home/veit/PIScO_dev/Segmentation_results/HE570/HE570-PISCO-Profiles/TempResults/20210314_HE570_191-bop-035b_PISCO1/20210314_HE570_191-bop-035b_PISCO1_Results/EcoTaxa/crops.zip to 17302...\n",
      "2025-06-10 11:59:30,539 - Uploading /home/veit/PIScO_dev/Segmentation_results/HE570/HE570-PISCO-Profiles/TempResults/20210314_HE570_191-bop-035b_PISCO1/20210314_HE570_191-bop-035b_PISCO1_Results/EcoTaxa/crops.zip via FTP...\n"
     ]
    },
    {
     "name": "stdout",
     "output_type": "stream",
     "text": [
      "Successfully uploaded /home/veit/PIScO_dev/Segmentation_results/HE570/HE570-PISCO-Profiles/TempResults/20210311_HE570_103-bop-020_PISCO1/20210311_HE570_103-bop-020_PISCO1_Results/EcoTaxa/crops.zip to project 17302.\n",
      "Uploaded crops.zip to project 17302.\n",
      "20210314_HE570_191-bop-035b_PISCO1\n",
      "Processing EcoTaxa folder: /home/veit/PIScO_dev/Segmentation_results/HE570/HE570-PISCO-Profiles/TempResults/20210314_HE570_191-bop-035b_PISCO1/20210314_HE570_191-bop-035b_PISCO1_Results/EcoTaxa\n"
     ]
    },
    {
     "name": "stderr",
     "output_type": "stream",
     "text": [
      "  0%|          | 0/1 [00:00<?, ?it/s]2025-06-10 11:59:30,540 - Computing hash for crops.zip...\n",
      "Uploading crops.zip...: 100%|██████████| 18.7M/18.7M [00:02<00:00, 9.38MB/s]\n",
      "2025-06-10 11:59:33,104 - Remote filename is FTP/Ecotaxa_Data_to_import/pyecotaxa/0aa606ef7fe224e04da2d018a78df49185d1cae31460642f6208012391b22865/crops.zip.\n",
      "2025-06-10 11:59:33,558 - Starting project import...\n",
      "Importing to 17302... (Processing files 15200/16495):  94%|█████████▍| 94/100 [01:10<00:04,  1.33%/s]\n",
      "100%|██████████| 1/1 [01:13<00:00, 73.96s/it]\n",
      "2025-06-10 12:00:44,501 - Pushing 1 files...\n"
     ]
    },
    {
     "name": "stdout",
     "output_type": "stream",
     "text": [
      "Successfully uploaded /home/veit/PIScO_dev/Segmentation_results/HE570/HE570-PISCO-Profiles/TempResults/20210314_HE570_191-bop-035b_PISCO1/20210314_HE570_191-bop-035b_PISCO1_Results/EcoTaxa/crops.zip to project 17302.\n",
      "Uploaded crops.zip to project 17302.\n",
      "20210312_HE570_147-bop-030_PISCO1\n",
      "Processing EcoTaxa folder: /home/veit/PIScO_dev/Segmentation_results/HE570/HE570-PISCO-Profiles/TempResults/20210312_HE570_147-bop-030_PISCO1/20210312_HE570_147-bop-030_PISCO1_Results/EcoTaxa\n"
     ]
    },
    {
     "name": "stderr",
     "output_type": "stream",
     "text": [
      "  0%|          | 0/1 [00:00<?, ?it/s]2025-06-10 12:00:44,502 - Pushing /home/veit/PIScO_dev/Segmentation_results/HE570/HE570-PISCO-Profiles/TempResults/20210312_HE570_147-bop-030_PISCO1/20210312_HE570_147-bop-030_PISCO1_Results/EcoTaxa/crops.zip to 17302...\n",
      "2025-06-10 12:00:44,503 - Uploading /home/veit/PIScO_dev/Segmentation_results/HE570/HE570-PISCO-Profiles/TempResults/20210312_HE570_147-bop-030_PISCO1/20210312_HE570_147-bop-030_PISCO1_Results/EcoTaxa/crops.zip via FTP...\n",
      "2025-06-10 12:00:44,504 - Computing hash for crops.zip...\n",
      "Uploading crops.zip...: 100%|██████████| 19.3M/19.3M [00:04<00:00, 4.81MB/s]\n",
      "2025-06-10 12:00:49,213 - Remote filename is FTP/Ecotaxa_Data_to_import/pyecotaxa/055fb61660c541c1805acf28194c526aec4452ed9bfc8725012a07719613e083/crops.zip.\n",
      "2025-06-10 12:00:49,697 - Starting project import...\n",
      "Importing to 17302... (Processing files 6900/7322):  95%|█████████▌| 95/100 [00:45<00:02,  2.09%/s]\n",
      "100%|██████████| 1/1 [00:50<00:00, 50.85s/it]\n",
      "2025-06-10 12:01:35,357 - Pushing 1 files...\n",
      "2025-06-10 12:01:35,357 - Pushing /home/veit/PIScO_dev/Segmentation_results/HE570/HE570-PISCO-Profiles/TempResults/20210306_HE570_060-bop-014_PISCO1/20210306_HE570_060-bop-014_PISCO1_Results/EcoTaxa/crops.zip to 17302...\n",
      "2025-06-10 12:01:35,358 - Uploading /home/veit/PIScO_dev/Segmentation_results/HE570/HE570-PISCO-Profiles/TempResults/20210306_HE570_060-bop-014_PISCO1/20210306_HE570_060-bop-014_PISCO1_Results/EcoTaxa/crops.zip via FTP...\n"
     ]
    },
    {
     "name": "stdout",
     "output_type": "stream",
     "text": [
      "Successfully uploaded /home/veit/PIScO_dev/Segmentation_results/HE570/HE570-PISCO-Profiles/TempResults/20210312_HE570_147-bop-030_PISCO1/20210312_HE570_147-bop-030_PISCO1_Results/EcoTaxa/crops.zip to project 17302.\n",
      "Uploaded crops.zip to project 17302.\n",
      "20210306_HE570_060-bop-014_PISCO1\n",
      "Processing EcoTaxa folder: /home/veit/PIScO_dev/Segmentation_results/HE570/HE570-PISCO-Profiles/TempResults/20210306_HE570_060-bop-014_PISCO1/20210306_HE570_060-bop-014_PISCO1_Results/EcoTaxa\n"
     ]
    },
    {
     "name": "stderr",
     "output_type": "stream",
     "text": [
      "  0%|          | 0/1 [00:00<?, ?it/s]2025-06-10 12:01:35,358 - Computing hash for crops.zip...\n",
      "Uploading crops.zip...: 100%|██████████| 11.0M/11.0M [00:02<00:00, 4.75MB/s]\n",
      "2025-06-10 12:01:38,228 - Remote filename is FTP/Ecotaxa_Data_to_import/pyecotaxa/7c5add85c6ae906da07eac9623ef5968d23cf6eae69a6242b71ccb098d383537/crops.zip.\n",
      "2025-06-10 12:01:38,567 - Starting project import...\n",
      "Importing to 17302... (Processing files 8700/9067):  97%|█████████▋| 97/100 [00:50<00:01,  1.92%/s]\n",
      "100%|██████████| 1/1 [00:53<00:00, 53.88s/it]\n",
      "2025-06-10 12:02:29,243 - Pushing 1 files...\n"
     ]
    },
    {
     "name": "stdout",
     "output_type": "stream",
     "text": [
      "Successfully uploaded /home/veit/PIScO_dev/Segmentation_results/HE570/HE570-PISCO-Profiles/TempResults/20210306_HE570_060-bop-014_PISCO1/20210306_HE570_060-bop-014_PISCO1_Results/EcoTaxa/crops.zip to project 17302.\n",
      "Uploaded crops.zip to project 17302.\n",
      "20210315_HE570_215-bop-038a_PISCO1\n",
      "Processing EcoTaxa folder: /home/veit/PIScO_dev/Segmentation_results/HE570/HE570-PISCO-Profiles/TempResults/20210315_HE570_215-bop-038a_PISCO1/20210315_HE570_215-bop-038a_PISCO1_Results/EcoTaxa\n"
     ]
    },
    {
     "name": "stderr",
     "output_type": "stream",
     "text": [
      "  0%|          | 0/1 [00:00<?, ?it/s]2025-06-10 12:02:29,244 - Pushing /home/veit/PIScO_dev/Segmentation_results/HE570/HE570-PISCO-Profiles/TempResults/20210315_HE570_215-bop-038a_PISCO1/20210315_HE570_215-bop-038a_PISCO1_Results/EcoTaxa/crops.zip to 17302...\n",
      "2025-06-10 12:02:29,246 - Uploading /home/veit/PIScO_dev/Segmentation_results/HE570/HE570-PISCO-Profiles/TempResults/20210315_HE570_215-bop-038a_PISCO1/20210315_HE570_215-bop-038a_PISCO1_Results/EcoTaxa/crops.zip via FTP...\n",
      "2025-06-10 12:02:29,246 - Computing hash for crops.zip...\n",
      "Uploading crops.zip...: 100%|██████████| 70.7M/70.7M [00:05<00:00, 13.5MB/s]\n",
      "2025-06-10 12:02:35,519 - Remote filename is FTP/Ecotaxa_Data_to_import/pyecotaxa/6e59249427a57524dd4e9e1859412eb02499043cfa7397900f83775229e29e4b/crops.zip.\n",
      "2025-06-10 12:02:35,969 - Starting project import...\n",
      "Importing to 17302... (Processing files 25900/27144):  96%|█████████▌| 96/100 [01:56<00:04,  1.21s/%]\n",
      "100%|██████████| 1/1 [02:03<00:00, 123.12s/it]\n",
      "2025-06-10 12:04:32,367 - Pushing 1 files...\n",
      "2025-06-10 12:04:32,368 - Pushing /home/veit/PIScO_dev/Segmentation_results/HE570/HE570-PISCO-Profiles/TempResults/20210307_HE570_069-bop-015c_PISCO1/20210307_HE570_069-bop-015c_PISCO1_Results/EcoTaxa/crops.zip to 17302...\n"
     ]
    },
    {
     "name": "stdout",
     "output_type": "stream",
     "text": [
      "Successfully uploaded /home/veit/PIScO_dev/Segmentation_results/HE570/HE570-PISCO-Profiles/TempResults/20210315_HE570_215-bop-038a_PISCO1/20210315_HE570_215-bop-038a_PISCO1_Results/EcoTaxa/crops.zip to project 17302.\n",
      "Uploaded crops.zip to project 17302.\n",
      "20210307_HE570_069-bop-015c_PISCO1\n",
      "Processing EcoTaxa folder: /home/veit/PIScO_dev/Segmentation_results/HE570/HE570-PISCO-Profiles/TempResults/20210307_HE570_069-bop-015c_PISCO1/20210307_HE570_069-bop-015c_PISCO1_Results/EcoTaxa\n"
     ]
    },
    {
     "name": "stderr",
     "output_type": "stream",
     "text": [
      "2025-06-10 12:04:32,369 - Uploading /home/veit/PIScO_dev/Segmentation_results/HE570/HE570-PISCO-Profiles/TempResults/20210307_HE570_069-bop-015c_PISCO1/20210307_HE570_069-bop-015c_PISCO1_Results/EcoTaxa/crops.zip via FTP...\n",
      "  0%|          | 0/1 [00:00<?, ?it/s]2025-06-10 12:04:32,370 - Computing hash for crops.zip...\n",
      "Uploading crops.zip...: 100%|██████████| 25.2M/25.2M [00:03<00:00, 8.48MB/s]\n",
      "2025-06-10 12:04:36,027 - Remote filename is FTP/Ecotaxa_Data_to_import/pyecotaxa/05fde797cf59b1857f82df69882c0876b315c1cf146fd5ef90a0a50e60fdf38d/crops.zip.\n",
      "2025-06-10 12:04:36,428 - Starting project import...\n",
      "Importing to 17302... (Processing files 5300/6940):  81%|████████  | 81/100 [00:40<00:09,  2.00%/s]\n",
      "100%|██████████| 1/1 [00:44<00:00, 44.62s/it]\n",
      "2025-06-10 12:05:16,995 - Pushing 1 files...\n",
      "2025-06-10 12:05:16,996 - Pushing /home/veit/PIScO_dev/Segmentation_results/HE570/HE570-PISCO-Profiles/TempResults/20210313_HE570_164-bop-033_PISCO1/20210313_HE570_164-bop-033_PISCO1_Results/EcoTaxa/crops.zip to 17302...\n",
      "2025-06-10 12:05:16,997 - Uploading /home/veit/PIScO_dev/Segmentation_results/HE570/HE570-PISCO-Profiles/TempResults/20210313_HE570_164-bop-033_PISCO1/20210313_HE570_164-bop-033_PISCO1_Results/EcoTaxa/crops.zip via FTP...\n"
     ]
    },
    {
     "name": "stdout",
     "output_type": "stream",
     "text": [
      "Successfully uploaded /home/veit/PIScO_dev/Segmentation_results/HE570/HE570-PISCO-Profiles/TempResults/20210307_HE570_069-bop-015c_PISCO1/20210307_HE570_069-bop-015c_PISCO1_Results/EcoTaxa/crops.zip to project 17302.\n",
      "Uploaded crops.zip to project 17302.\n",
      "20210313_HE570_164-bop-033_PISCO1\n",
      "Processing EcoTaxa folder: /home/veit/PIScO_dev/Segmentation_results/HE570/HE570-PISCO-Profiles/TempResults/20210313_HE570_164-bop-033_PISCO1/20210313_HE570_164-bop-033_PISCO1_Results/EcoTaxa\n"
     ]
    },
    {
     "name": "stderr",
     "output_type": "stream",
     "text": [
      "  0%|          | 0/1 [00:00<?, ?it/s]2025-06-10 12:05:16,998 - Computing hash for crops.zip...\n",
      "Uploading crops.zip...: 100%|██████████| 15.6M/15.6M [00:02<00:00, 6.03MB/s]\n",
      "2025-06-10 12:05:20,172 - Remote filename is FTP/Ecotaxa_Data_to_import/pyecotaxa/6e7c3456f90fe234aeb5eef35b138d512bf02c8c9b4223b1123cc0442ea622fc/crops.zip.\n",
      "2025-06-10 12:05:20,468 - Starting project import...\n",
      "Importing to 17302... (Processing files 13800/13942):  99%|█████████▉| 99/100 [01:10<00:00,  1.40%/s]\n",
      "100%|██████████| 1/1 [01:14<00:00, 74.46s/it]\n",
      "2025-06-10 12:06:31,459 - Pushing 1 files...\n",
      "2025-06-10 12:06:31,460 - Pushing /home/veit/PIScO_dev/Segmentation_results/HE570/HE570-PISCO-Profiles/TempResults/20210315_HE570_215-bop-038c_PISCO1/20210315_HE570_215-bop-038c_PISCO1_Results/EcoTaxa/crops.zip to 17302...\n"
     ]
    },
    {
     "name": "stdout",
     "output_type": "stream",
     "text": [
      "Successfully uploaded /home/veit/PIScO_dev/Segmentation_results/HE570/HE570-PISCO-Profiles/TempResults/20210313_HE570_164-bop-033_PISCO1/20210313_HE570_164-bop-033_PISCO1_Results/EcoTaxa/crops.zip to project 17302.\n",
      "Uploaded crops.zip to project 17302.\n",
      "20210315_HE570_215-bop-038c_PISCO1\n",
      "Processing EcoTaxa folder: /home/veit/PIScO_dev/Segmentation_results/HE570/HE570-PISCO-Profiles/TempResults/20210315_HE570_215-bop-038c_PISCO1/20210315_HE570_215-bop-038c_PISCO1_Results/EcoTaxa\n"
     ]
    },
    {
     "name": "stderr",
     "output_type": "stream",
     "text": [
      "  0%|          | 0/1 [00:00<?, ?it/s]2025-06-10 12:06:31,461 - Uploading /home/veit/PIScO_dev/Segmentation_results/HE570/HE570-PISCO-Profiles/TempResults/20210315_HE570_215-bop-038c_PISCO1/20210315_HE570_215-bop-038c_PISCO1_Results/EcoTaxa/crops.zip via FTP...\n",
      "2025-06-10 12:06:31,462 - Computing hash for crops.zip...\n",
      "Uploading crops.zip...: 100%|██████████| 32.5M/32.5M [00:03<00:00, 8.87MB/s]\n",
      "2025-06-10 12:06:35,925 - Remote filename is FTP/Ecotaxa_Data_to_import/pyecotaxa/d5c20dac233115573a76dff592f1a9a62cd73c7c3a48dc2302a8ccf0a0015af9/crops.zip.\n",
      "2025-06-10 12:06:36,333 - Starting project import...\n",
      "Importing to 17302... (Processing files 26700/27268):  98%|█████████▊| 98/100 [01:51<00:02,  1.13s/%]\n",
      "100%|██████████| 1/1 [01:56<00:00, 116.20s/it]\n",
      "2025-06-10 12:08:27,659 - Pushing 1 files...\n",
      "2025-06-10 12:08:27,663 - Pushing /home/veit/PIScO_dev/Segmentation_results/HE570/HE570-PISCO-Profiles/TempResults/20210311_HE570_111-bop-022_PISCO1/20210311_HE570_111-bop-022_PISCO1_Results/EcoTaxa/crops.zip to 17302...\n",
      "2025-06-10 12:08:27,663 - Uploading /home/veit/PIScO_dev/Segmentation_results/HE570/HE570-PISCO-Profiles/TempResults/20210311_HE570_111-bop-022_PISCO1/20210311_HE570_111-bop-022_PISCO1_Results/EcoTaxa/crops.zip via FTP...\n"
     ]
    },
    {
     "name": "stdout",
     "output_type": "stream",
     "text": [
      "Successfully uploaded /home/veit/PIScO_dev/Segmentation_results/HE570/HE570-PISCO-Profiles/TempResults/20210315_HE570_215-bop-038c_PISCO1/20210315_HE570_215-bop-038c_PISCO1_Results/EcoTaxa/crops.zip to project 17302.\n",
      "Uploaded crops.zip to project 17302.\n",
      "20210311_HE570_111-bop-022_PISCO1\n",
      "Processing EcoTaxa folder: /home/veit/PIScO_dev/Segmentation_results/HE570/HE570-PISCO-Profiles/TempResults/20210311_HE570_111-bop-022_PISCO1/20210311_HE570_111-bop-022_PISCO1_Results/EcoTaxa\n"
     ]
    },
    {
     "name": "stderr",
     "output_type": "stream",
     "text": [
      "2025-06-10 12:08:27,667 - Computing hash for crops.zip...\n",
      "Uploading crops.zip...: 100%|██████████| 1.66M/1.66M [00:01<00:00, 1.02MB/s]\n",
      "2025-06-10 12:08:29,809 - Remote filename is FTP/Ecotaxa_Data_to_import/pyecotaxa/f1aa29078b0ed29e7aed750e77a04e8fd5c48d3f7935d8edda2d2a9ffb6148b3/crops.zip.\n",
      "2025-06-10 12:08:30,110 - Starting project import...\n",
      "Importing to 17302... (Processing files 600/1520):  52%|█████▏    | 52/100 [00:30<00:27,  1.72%/s]\n",
      "100%|██████████| 1/1 [00:32<00:00, 32.87s/it]\n",
      "2025-06-10 12:09:00,538 - Pushing 1 files...\n"
     ]
    },
    {
     "name": "stdout",
     "output_type": "stream",
     "text": [
      "Successfully uploaded /home/veit/PIScO_dev/Segmentation_results/HE570/HE570-PISCO-Profiles/TempResults/20210311_HE570_111-bop-022_PISCO1/20210311_HE570_111-bop-022_PISCO1_Results/EcoTaxa/crops.zip to project 17302.\n",
      "Uploaded crops.zip to project 17302.\n",
      "20210312_HE570_143-bop-029_PISCO1\n",
      "Processing EcoTaxa folder: /home/veit/PIScO_dev/Segmentation_results/HE570/HE570-PISCO-Profiles/TempResults/20210312_HE570_143-bop-029_PISCO1/20210312_HE570_143-bop-029_PISCO1_Results/EcoTaxa\n"
     ]
    },
    {
     "name": "stderr",
     "output_type": "stream",
     "text": [
      "2025-06-10 12:09:00,539 - Pushing /home/veit/PIScO_dev/Segmentation_results/HE570/HE570-PISCO-Profiles/TempResults/20210312_HE570_143-bop-029_PISCO1/20210312_HE570_143-bop-029_PISCO1_Results/EcoTaxa/crops.zip to 17302...\n",
      "  0%|          | 0/1 [00:00<?, ?it/s]2025-06-10 12:09:00,540 - Uploading /home/veit/PIScO_dev/Segmentation_results/HE570/HE570-PISCO-Profiles/TempResults/20210312_HE570_143-bop-029_PISCO1/20210312_HE570_143-bop-029_PISCO1_Results/EcoTaxa/crops.zip via FTP...\n",
      "2025-06-10 12:09:00,542 - Computing hash for crops.zip...\n",
      "Uploading crops.zip...: 100%|██████████| 40.2M/40.2M [00:05<00:00, 8.34MB/s]\n",
      "2025-06-10 12:09:06,149 - Remote filename is FTP/Ecotaxa_Data_to_import/pyecotaxa/2dc2278e406b5bd804ba89b471f04f9b2bb9eac788a76d88eca65e43dbc0aee3/crops.zip.\n",
      "2025-06-10 12:09:06,463 - Starting project import...\n",
      "Importing to 17302... (Processing files 13500/14274):  96%|█████████▌| 96/100 [01:10<00:02,  1.36%/s]\n",
      "100%|██████████| 1/1 [01:16<00:00, 76.76s/it]\n",
      "2025-06-10 12:10:17,308 - Pushing 1 files...\n",
      "2025-06-10 12:10:17,309 - Pushing /home/veit/PIScO_dev/Segmentation_results/HE570/HE570-PISCO-Profiles/TempResults/20210315_HE570_215-bop-038b_PISCO1/20210315_HE570_215-bop-038b_PISCO1_Results/EcoTaxa/crops.zip to 17302...\n"
     ]
    },
    {
     "name": "stdout",
     "output_type": "stream",
     "text": [
      "Successfully uploaded /home/veit/PIScO_dev/Segmentation_results/HE570/HE570-PISCO-Profiles/TempResults/20210312_HE570_143-bop-029_PISCO1/20210312_HE570_143-bop-029_PISCO1_Results/EcoTaxa/crops.zip to project 17302.\n",
      "Uploaded crops.zip to project 17302.\n",
      "20210315_HE570_215-bop-038b_PISCO1\n",
      "Processing EcoTaxa folder: /home/veit/PIScO_dev/Segmentation_results/HE570/HE570-PISCO-Profiles/TempResults/20210315_HE570_215-bop-038b_PISCO1/20210315_HE570_215-bop-038b_PISCO1_Results/EcoTaxa\n"
     ]
    },
    {
     "name": "stderr",
     "output_type": "stream",
     "text": [
      "2025-06-10 12:10:17,309 - Uploading /home/veit/PIScO_dev/Segmentation_results/HE570/HE570-PISCO-Profiles/TempResults/20210315_HE570_215-bop-038b_PISCO1/20210315_HE570_215-bop-038b_PISCO1_Results/EcoTaxa/crops.zip via FTP...\n",
      "  0%|          | 0/1 [00:00<?, ?it/s]2025-06-10 12:10:17,310 - Computing hash for crops.zip...\n",
      "Uploading crops.zip...: 100%|██████████| 28.8M/28.8M [00:02<00:00, 11.0MB/s]\n",
      "2025-06-10 12:10:20,573 - Remote filename is FTP/Ecotaxa_Data_to_import/pyecotaxa/42169ab3a1a293909a40047a2c1b46ce224176e249627a4ea08614c579d976f1/crops.zip.\n",
      "2025-06-10 12:10:20,893 - Starting project import...\n",
      "Importing to 17302... (Processing files 23800/24698):  97%|█████████▋| 97/100 [01:51<00:03,  1.15s/%]\n",
      "100%|██████████| 1/1 [01:55<00:00, 115.03s/it]\n",
      "2025-06-10 12:12:12,344 - Pushing 1 files...\n",
      "2025-06-10 12:12:12,345 - Pushing /home/veit/PIScO_dev/Segmentation_results/HE570/HE570-PISCO-Profiles/TempResults/20210307_HE570_076-bop-016a_PISCO1/20210307_HE570_076-bop-016a_PISCO1_Results/EcoTaxa/crops.zip to 17302...\n"
     ]
    },
    {
     "name": "stdout",
     "output_type": "stream",
     "text": [
      "Successfully uploaded /home/veit/PIScO_dev/Segmentation_results/HE570/HE570-PISCO-Profiles/TempResults/20210315_HE570_215-bop-038b_PISCO1/20210315_HE570_215-bop-038b_PISCO1_Results/EcoTaxa/crops.zip to project 17302.\n",
      "Uploaded crops.zip to project 17302.\n",
      "20210307_HE570_076-bop-016a_PISCO1\n",
      "Processing EcoTaxa folder: /home/veit/PIScO_dev/Segmentation_results/HE570/HE570-PISCO-Profiles/TempResults/20210307_HE570_076-bop-016a_PISCO1/20210307_HE570_076-bop-016a_PISCO1_Results/EcoTaxa\n"
     ]
    },
    {
     "name": "stderr",
     "output_type": "stream",
     "text": [
      "2025-06-10 12:12:12,345 - Uploading /home/veit/PIScO_dev/Segmentation_results/HE570/HE570-PISCO-Profiles/TempResults/20210307_HE570_076-bop-016a_PISCO1/20210307_HE570_076-bop-016a_PISCO1_Results/EcoTaxa/crops.zip via FTP...\n",
      "  0%|          | 0/1 [00:00<?, ?it/s]2025-06-10 12:12:12,346 - Computing hash for crops.zip...\n",
      "Uploading crops.zip...: 100%|██████████| 57.8M/57.8M [00:22<00:00, 2.68MB/s]\n",
      "2025-06-10 12:12:35,561 - Remote filename is FTP/Ecotaxa_Data_to_import/pyecotaxa/601bdbfec4da92e5a953c47192ad1c013333af209a45be32cef79ce7b01fdec0/crops.zip.\n",
      "2025-06-10 12:12:36,066 - Starting project import...\n",
      "Importing to 17302... (Processing files 3200/3542):  92%|█████████▏| 92/100 [00:40<00:03,  2.25%/s]\n",
      "100%|██████████| 1/1 [01:04<00:00, 64.76s/it]\n",
      "2025-06-10 12:13:17,101 - Pushing 1 files...\n",
      "2025-06-10 12:13:17,102 - Pushing /home/veit/PIScO_dev/Segmentation_results/HE570/HE570-PISCO-Profiles/TempResults/20210311_HE570_114-bop-023_PISCO1/20210311_HE570_114-bop-023_PISCO1_Results/EcoTaxa/crops.zip to 17302...\n"
     ]
    },
    {
     "name": "stdout",
     "output_type": "stream",
     "text": [
      "Successfully uploaded /home/veit/PIScO_dev/Segmentation_results/HE570/HE570-PISCO-Profiles/TempResults/20210307_HE570_076-bop-016a_PISCO1/20210307_HE570_076-bop-016a_PISCO1_Results/EcoTaxa/crops.zip to project 17302.\n",
      "Uploaded crops.zip to project 17302.\n",
      "20210311_HE570_114-bop-023_PISCO1\n",
      "Processing EcoTaxa folder: /home/veit/PIScO_dev/Segmentation_results/HE570/HE570-PISCO-Profiles/TempResults/20210311_HE570_114-bop-023_PISCO1/20210311_HE570_114-bop-023_PISCO1_Results/EcoTaxa\n"
     ]
    },
    {
     "name": "stderr",
     "output_type": "stream",
     "text": [
      "2025-06-10 12:13:17,102 - Uploading /home/veit/PIScO_dev/Segmentation_results/HE570/HE570-PISCO-Profiles/TempResults/20210311_HE570_114-bop-023_PISCO1/20210311_HE570_114-bop-023_PISCO1_Results/EcoTaxa/crops.zip via FTP...\n",
      "  0%|          | 0/1 [00:00<?, ?it/s]2025-06-10 12:13:17,103 - Computing hash for crops.zip...\n",
      "Uploading crops.zip...: 100%|██████████| 3.66M/3.66M [00:02<00:00, 1.57MB/s]\n",
      "2025-06-10 12:13:20,146 - Remote filename is FTP/Ecotaxa_Data_to_import/pyecotaxa/3ace57e043bf7e05ade97540f625c14b003c572ee7439a30ef8d47c9eb54eee8/crops.zip.\n",
      "2025-06-10 12:13:20,677 - Starting project import...\n",
      "Importing to 17302... (Processing files 2300/3082):  80%|████████  | 80/100 [00:36<00:09,  2.21%/s]\n",
      "100%|██████████| 1/1 [00:39<00:00, 39.92s/it]\n",
      "2025-06-10 12:13:57,027 - Pushing 1 files...\n",
      "2025-06-10 12:13:57,029 - Pushing /home/veit/PIScO_dev/Segmentation_results/HE570/HE570-PISCO-Profiles/TempResults/20210311_HE570_121-bop-025_PISCO1/20210311_HE570_121-bop-025_PISCO1_Results/EcoTaxa/crops.zip to 17302...\n",
      "2025-06-10 12:13:57,030 - Uploading /home/veit/PIScO_dev/Segmentation_results/HE570/HE570-PISCO-Profiles/TempResults/20210311_HE570_121-bop-025_PISCO1/20210311_HE570_121-bop-025_PISCO1_Results/EcoTaxa/crops.zip via FTP...\n"
     ]
    },
    {
     "name": "stdout",
     "output_type": "stream",
     "text": [
      "Successfully uploaded /home/veit/PIScO_dev/Segmentation_results/HE570/HE570-PISCO-Profiles/TempResults/20210311_HE570_114-bop-023_PISCO1/20210311_HE570_114-bop-023_PISCO1_Results/EcoTaxa/crops.zip to project 17302.\n",
      "Uploaded crops.zip to project 17302.\n",
      "20210311_HE570_121-bop-025_PISCO1\n",
      "Processing EcoTaxa folder: /home/veit/PIScO_dev/Segmentation_results/HE570/HE570-PISCO-Profiles/TempResults/20210311_HE570_121-bop-025_PISCO1/20210311_HE570_121-bop-025_PISCO1_Results/EcoTaxa\n"
     ]
    },
    {
     "name": "stderr",
     "output_type": "stream",
     "text": [
      "2025-06-10 12:13:57,031 - Computing hash for crops.zip...\n",
      "Uploading crops.zip...: 100%|██████████| 21.9M/21.9M [00:04<00:00, 5.69MB/s]\n",
      "2025-06-10 12:14:01,703 - Remote filename is FTP/Ecotaxa_Data_to_import/pyecotaxa/e60fba5444b9d8991200f0c50d7f2354a0f089cda361d34c886d2dbdf8bf5483/crops.zip.\n",
      "2025-06-10 12:14:02,242 - Starting project import...\n",
      "Importing to 17302... (Processing files 19400/20438):  96%|█████████▌| 96/100 [01:36<00:04,  1.00s/%]\n",
      "100%|██████████| 1/1 [01:41<00:00, 101.65s/it]\n",
      "2025-06-10 12:15:38,678 - Pushing 1 files...\n",
      "2025-06-10 12:15:38,678 - Pushing /home/veit/PIScO_dev/Segmentation_results/HE570/HE570-PISCO-Profiles/TempResults/20210307_HE570_076-bop-016d_PISCO1/20210307_HE570_076-bop-016d_PISCO1_Results/EcoTaxa/crops.zip to 17302...\n"
     ]
    },
    {
     "name": "stdout",
     "output_type": "stream",
     "text": [
      "Successfully uploaded /home/veit/PIScO_dev/Segmentation_results/HE570/HE570-PISCO-Profiles/TempResults/20210311_HE570_121-bop-025_PISCO1/20210311_HE570_121-bop-025_PISCO1_Results/EcoTaxa/crops.zip to project 17302.\n",
      "Uploaded crops.zip to project 17302.\n",
      "20210307_HE570_076-bop-016d_PISCO1\n",
      "Processing EcoTaxa folder: /home/veit/PIScO_dev/Segmentation_results/HE570/HE570-PISCO-Profiles/TempResults/20210307_HE570_076-bop-016d_PISCO1/20210307_HE570_076-bop-016d_PISCO1_Results/EcoTaxa\n"
     ]
    },
    {
     "name": "stderr",
     "output_type": "stream",
     "text": [
      "  0%|          | 0/1 [00:00<?, ?it/s]2025-06-10 12:15:38,679 - Uploading /home/veit/PIScO_dev/Segmentation_results/HE570/HE570-PISCO-Profiles/TempResults/20210307_HE570_076-bop-016d_PISCO1/20210307_HE570_076-bop-016d_PISCO1_Results/EcoTaxa/crops.zip via FTP...\n",
      "2025-06-10 12:15:38,679 - Computing hash for crops.zip...\n",
      "Uploading crops.zip...: 100%|██████████| 35.9M/35.9M [00:02<00:00, 13.1MB/s]\n",
      "2025-06-10 12:15:42,179 - Remote filename is FTP/Ecotaxa_Data_to_import/pyecotaxa/4ad295e3274fe5481511acd5ea7e8c38973e0d16b7a1b4d13c8fd67cc7e7708e/crops.zip.\n",
      "2025-06-10 12:15:42,595 - Starting project import...\n",
      "Importing to 17302... (Processing files 2200/2384):  94%|█████████▍| 94/100 [00:35<00:02,  2.65%/s]\n",
      "100%|██████████| 1/1 [00:39<00:00, 39.48s/it]\n",
      "2025-06-10 12:16:18,158 - Pushing 1 files...\n",
      "2025-06-10 12:16:18,158 - Pushing /home/veit/PIScO_dev/Segmentation_results/HE570/HE570-PISCO-Profiles/TempResults/20210305_HE570_037-bop-008_PISCO1/20210305_HE570_037-bop-008_PISCO1_Results/EcoTaxa/crops.zip to 17302...\n"
     ]
    },
    {
     "name": "stdout",
     "output_type": "stream",
     "text": [
      "Successfully uploaded /home/veit/PIScO_dev/Segmentation_results/HE570/HE570-PISCO-Profiles/TempResults/20210307_HE570_076-bop-016d_PISCO1/20210307_HE570_076-bop-016d_PISCO1_Results/EcoTaxa/crops.zip to project 17302.\n",
      "Uploaded crops.zip to project 17302.\n",
      "20210305_HE570_037-bop-008_PISCO1\n",
      "Processing EcoTaxa folder: /home/veit/PIScO_dev/Segmentation_results/HE570/HE570-PISCO-Profiles/TempResults/20210305_HE570_037-bop-008_PISCO1/20210305_HE570_037-bop-008_PISCO1_Results/EcoTaxa\n"
     ]
    },
    {
     "name": "stderr",
     "output_type": "stream",
     "text": [
      "  0%|          | 0/1 [00:00<?, ?it/s]2025-06-10 12:16:18,159 - Uploading /home/veit/PIScO_dev/Segmentation_results/HE570/HE570-PISCO-Profiles/TempResults/20210305_HE570_037-bop-008_PISCO1/20210305_HE570_037-bop-008_PISCO1_Results/EcoTaxa/crops.zip via FTP...\n",
      "2025-06-10 12:16:18,159 - Computing hash for crops.zip...\n",
      "Uploading crops.zip...: 100%|██████████| 27.5M/27.5M [00:13<00:00, 2.11MB/s]\n",
      "2025-06-10 12:16:32,460 - Remote filename is FTP/Ecotaxa_Data_to_import/pyecotaxa/415cd7d3a74d20d6e71edac38247a48d36528563156a53a90791d3808dbf8b86/crops.zip.\n",
      "2025-06-10 12:16:32,788 - Starting project import...\n",
      "Importing to 17302... (Processing files 17000/17400):  98%|█████████▊| 98/100 [01:41<00:02,  1.03s/%]\n",
      "100%|██████████| 1/1 [01:55<00:00, 115.96s/it]\n",
      "2025-06-10 12:18:14,116 - Pushing 1 files...\n",
      "2025-06-10 12:18:14,117 - Pushing /home/veit/PIScO_dev/Segmentation_results/HE570/HE570-PISCO-Profiles/TempResults/20210315_HE570_208-bop-036a_PISCO1/20210315_HE570_208-bop-036a_PISCO1_Results/EcoTaxa/crops.zip to 17302...\n",
      "2025-06-10 12:18:14,117 - Uploading /home/veit/PIScO_dev/Segmentation_results/HE570/HE570-PISCO-Profiles/TempResults/20210315_HE570_208-bop-036a_PISCO1/20210315_HE570_208-bop-036a_PISCO1_Results/EcoTaxa/crops.zip via FTP...\n"
     ]
    },
    {
     "name": "stdout",
     "output_type": "stream",
     "text": [
      "Successfully uploaded /home/veit/PIScO_dev/Segmentation_results/HE570/HE570-PISCO-Profiles/TempResults/20210305_HE570_037-bop-008_PISCO1/20210305_HE570_037-bop-008_PISCO1_Results/EcoTaxa/crops.zip to project 17302.\n",
      "Uploaded crops.zip to project 17302.\n",
      "20210315_HE570_208-bop-036a_PISCO1\n",
      "Processing EcoTaxa folder: /home/veit/PIScO_dev/Segmentation_results/HE570/HE570-PISCO-Profiles/TempResults/20210315_HE570_208-bop-036a_PISCO1/20210315_HE570_208-bop-036a_PISCO1_Results/EcoTaxa\n"
     ]
    },
    {
     "name": "stderr",
     "output_type": "stream",
     "text": [
      "  0%|          | 0/1 [00:00<?, ?it/s]2025-06-10 12:18:14,117 - Computing hash for crops.zip...\n",
      "Uploading crops.zip...: 100%|██████████| 50.5M/50.5M [00:03<00:00, 14.3MB/s]\n",
      "2025-06-10 12:18:18,384 - Remote filename is FTP/Ecotaxa_Data_to_import/pyecotaxa/9650b8d4acf78a5faf75cbe0295762993ed2a58ba8c75b98dd32e963bb002a80/crops.zip.\n",
      "2025-06-10 12:18:18,836 - Starting project import...\n",
      "Importing to 17302... (Processing files 42000/42093): 100%|██████████| 100/100 [35:40<00:00, 21.40s/%]\n",
      "100%|██████████| 1/1 [35:45<00:00, 2145.07s/it]\n",
      "2025-06-10 12:53:59,189 - Pushing 1 files...\n",
      "2025-06-10 12:53:59,191 - Pushing /home/veit/PIScO_dev/Segmentation_results/HE570/HE570-PISCO-Profiles/TempResults/20210315_HE570_211-bop-037a_PISCO1/20210315_HE570_211-bop-037a_PISCO1_Results/EcoTaxa/crops.zip to 17302...\n"
     ]
    },
    {
     "name": "stdout",
     "output_type": "stream",
     "text": [
      "Successfully uploaded /home/veit/PIScO_dev/Segmentation_results/HE570/HE570-PISCO-Profiles/TempResults/20210315_HE570_208-bop-036a_PISCO1/20210315_HE570_208-bop-036a_PISCO1_Results/EcoTaxa/crops.zip to project 17302.\n",
      "Uploaded crops.zip to project 17302.\n",
      "20210315_HE570_211-bop-037a_PISCO1\n",
      "Processing EcoTaxa folder: /home/veit/PIScO_dev/Segmentation_results/HE570/HE570-PISCO-Profiles/TempResults/20210315_HE570_211-bop-037a_PISCO1/20210315_HE570_211-bop-037a_PISCO1_Results/EcoTaxa\n"
     ]
    },
    {
     "name": "stderr",
     "output_type": "stream",
     "text": [
      "2025-06-10 12:53:59,201 - Uploading /home/veit/PIScO_dev/Segmentation_results/HE570/HE570-PISCO-Profiles/TempResults/20210315_HE570_211-bop-037a_PISCO1/20210315_HE570_211-bop-037a_PISCO1_Results/EcoTaxa/crops.zip via FTP...\n",
      "  0%|          | 0/1 [00:00<?, ?it/s]2025-06-10 12:53:59,202 - Computing hash for crops.zip...\n",
      "Uploading crops.zip...: 100%|██████████| 20.3M/20.3M [00:02<00:00, 7.58MB/s]\n",
      "2025-06-10 12:54:02,606 - Remote filename is FTP/Ecotaxa_Data_to_import/pyecotaxa/c234305afc7fd73917b31ee9cd6c579f71b8daa657cea915eea839628b34e0e5/crops.zip.\n",
      "2025-06-10 12:54:03,117 - Starting project import...\n",
      "Importing to 17302... (Processing files 17900/18095):  99%|█████████▉| 99/100 [01:51<00:01,  1.12s/%]\n",
      "100%|██████████| 1/1 [01:55<00:00, 115.33s/it]\n",
      "2025-06-10 12:55:54,532 - Pushing 1 files...\n",
      "2025-06-10 12:55:54,532 - Pushing /home/veit/PIScO_dev/Segmentation_results/HE570/HE570-PISCO-Profiles/TempResults/20210313_HE570_156-bop-032_PISCO1/20210313_HE570_156-bop-032_PISCO1_Results/EcoTaxa/crops.zip to 17302...\n"
     ]
    },
    {
     "name": "stdout",
     "output_type": "stream",
     "text": [
      "Successfully uploaded /home/veit/PIScO_dev/Segmentation_results/HE570/HE570-PISCO-Profiles/TempResults/20210315_HE570_211-bop-037a_PISCO1/20210315_HE570_211-bop-037a_PISCO1_Results/EcoTaxa/crops.zip to project 17302.\n",
      "Uploaded crops.zip to project 17302.\n",
      "20210313_HE570_156-bop-032_PISCO1\n",
      "Processing EcoTaxa folder: /home/veit/PIScO_dev/Segmentation_results/HE570/HE570-PISCO-Profiles/TempResults/20210313_HE570_156-bop-032_PISCO1/20210313_HE570_156-bop-032_PISCO1_Results/EcoTaxa\n"
     ]
    },
    {
     "name": "stderr",
     "output_type": "stream",
     "text": [
      "2025-06-10 12:55:54,533 - Uploading /home/veit/PIScO_dev/Segmentation_results/HE570/HE570-PISCO-Profiles/TempResults/20210313_HE570_156-bop-032_PISCO1/20210313_HE570_156-bop-032_PISCO1_Results/EcoTaxa/crops.zip via FTP...\n",
      "  0%|          | 0/1 [00:00<?, ?it/s]2025-06-10 12:55:54,533 - Computing hash for crops.zip...\n",
      "Uploading crops.zip...: 100%|██████████| 20.2M/20.2M [00:06<00:00, 3.32MB/s]\n",
      "2025-06-10 12:56:01,374 - Remote filename is FTP/Ecotaxa_Data_to_import/pyecotaxa/cc5ef7435fe7942dfe0854b4fcc2424834c709e304a4da289e32c01eb52f6dbb/crops.zip.\n",
      "2025-06-10 12:56:01,817 - Starting project import...\n",
      "Importing to 17302... (Processing files 16800/17561):  97%|█████████▋| 97/100 [01:46<00:03,  1.10s/%]\n",
      "100%|██████████| 1/1 [01:53<00:00, 113.74s/it]\n",
      "2025-06-10 12:57:48,275 - Pushing 1 files...\n",
      "2025-06-10 12:57:48,276 - Pushing /home/veit/PIScO_dev/Segmentation_results/HE570/HE570-PISCO-Profiles/TempResults/20210306_HE570_053-bop-013_PISCO1/20210306_HE570_053-bop-013_PISCO1_Results/EcoTaxa/crops.zip to 17302...\n",
      "2025-06-10 12:57:48,276 - Uploading /home/veit/PIScO_dev/Segmentation_results/HE570/HE570-PISCO-Profiles/TempResults/20210306_HE570_053-bop-013_PISCO1/20210306_HE570_053-bop-013_PISCO1_Results/EcoTaxa/crops.zip via FTP...\n"
     ]
    },
    {
     "name": "stdout",
     "output_type": "stream",
     "text": [
      "Successfully uploaded /home/veit/PIScO_dev/Segmentation_results/HE570/HE570-PISCO-Profiles/TempResults/20210313_HE570_156-bop-032_PISCO1/20210313_HE570_156-bop-032_PISCO1_Results/EcoTaxa/crops.zip to project 17302.\n",
      "Uploaded crops.zip to project 17302.\n",
      "20210306_HE570_053-bop-013_PISCO1\n",
      "Processing EcoTaxa folder: /home/veit/PIScO_dev/Segmentation_results/HE570/HE570-PISCO-Profiles/TempResults/20210306_HE570_053-bop-013_PISCO1/20210306_HE570_053-bop-013_PISCO1_Results/EcoTaxa\n"
     ]
    },
    {
     "name": "stderr",
     "output_type": "stream",
     "text": [
      "  0%|          | 0/1 [00:00<?, ?it/s]2025-06-10 12:57:48,277 - Computing hash for crops.zip...\n",
      "Uploading crops.zip...: 100%|██████████| 34.7M/34.7M [00:02<00:00, 15.5MB/s]\n",
      "2025-06-10 12:57:51,141 - Remote filename is FTP/Ecotaxa_Data_to_import/pyecotaxa/ef7a222412e8d7978c1548f0e8f167a3fcb3e09bc431ab1bb779bb2aa1470d37/crops.zip.\n",
      "2025-06-10 12:57:51,875 - Starting project import...\n",
      "Importing to 17302... (Processing files 12400/12411): 100%|██████████| 100/100 [01:26<00:00,  1.16%/s]\n",
      "100%|██████████| 1/1 [01:29<00:00, 89.88s/it]\n",
      "2025-06-10 12:59:18,161 - Pushing 1 files...\n",
      "2025-06-10 12:59:18,162 - Pushing /home/veit/PIScO_dev/Segmentation_results/HE570/HE570-PISCO-Profiles/TempResults/20210311_HE570_108-bop-021_PISCO1/20210311_HE570_108-bop-021_PISCO1_Results/EcoTaxa/crops.zip to 17302...\n"
     ]
    },
    {
     "name": "stdout",
     "output_type": "stream",
     "text": [
      "Successfully uploaded /home/veit/PIScO_dev/Segmentation_results/HE570/HE570-PISCO-Profiles/TempResults/20210306_HE570_053-bop-013_PISCO1/20210306_HE570_053-bop-013_PISCO1_Results/EcoTaxa/crops.zip to project 17302.\n",
      "Uploaded crops.zip to project 17302.\n",
      "20210311_HE570_108-bop-021_PISCO1\n",
      "Processing EcoTaxa folder: /home/veit/PIScO_dev/Segmentation_results/HE570/HE570-PISCO-Profiles/TempResults/20210311_HE570_108-bop-021_PISCO1/20210311_HE570_108-bop-021_PISCO1_Results/EcoTaxa\n"
     ]
    },
    {
     "name": "stderr",
     "output_type": "stream",
     "text": [
      "  0%|          | 0/1 [00:00<?, ?it/s]2025-06-10 12:59:18,162 - Uploading /home/veit/PIScO_dev/Segmentation_results/HE570/HE570-PISCO-Profiles/TempResults/20210311_HE570_108-bop-021_PISCO1/20210311_HE570_108-bop-021_PISCO1_Results/EcoTaxa/crops.zip via FTP...\n",
      "2025-06-10 12:59:18,163 - Computing hash for crops.zip...\n",
      "Uploading crops.zip...: 100%|██████████| 3.32M/3.32M [00:02<00:00, 1.64MB/s]\n",
      "2025-06-10 12:59:20,695 - Remote filename is FTP/Ecotaxa_Data_to_import/pyecotaxa/f1c5adcbd58c51680e70bbbe3efc7f94d20205d3f5fd7c1183c58307cd360dae/crops.zip.\n",
      "2025-06-10 12:59:21,158 - Starting project import...\n",
      "Importing to 17302... (Processing files 3000/3054):  99%|█████████▉| 99/100 [00:45<00:00,  2.18%/s]\n",
      "100%|██████████| 1/1 [00:48<00:00, 48.63s/it]\n",
      "2025-06-10 13:00:06,793 - Pushing 1 files...\n",
      "2025-06-10 13:00:06,794 - Pushing /home/veit/PIScO_dev/Segmentation_results/HE570/HE570-PISCO-Profiles/TempResults/20210311_HE570_117-bop-024_PISCO1/20210311_HE570_117-bop-024_PISCO1_Results/EcoTaxa/crops.zip to 17302...\n"
     ]
    },
    {
     "name": "stdout",
     "output_type": "stream",
     "text": [
      "Successfully uploaded /home/veit/PIScO_dev/Segmentation_results/HE570/HE570-PISCO-Profiles/TempResults/20210311_HE570_108-bop-021_PISCO1/20210311_HE570_108-bop-021_PISCO1_Results/EcoTaxa/crops.zip to project 17302.\n",
      "Uploaded crops.zip to project 17302.\n",
      "20210311_HE570_117-bop-024_PISCO1\n",
      "Processing EcoTaxa folder: /home/veit/PIScO_dev/Segmentation_results/HE570/HE570-PISCO-Profiles/TempResults/20210311_HE570_117-bop-024_PISCO1/20210311_HE570_117-bop-024_PISCO1_Results/EcoTaxa\n"
     ]
    },
    {
     "name": "stderr",
     "output_type": "stream",
     "text": [
      "  0%|          | 0/1 [00:00<?, ?it/s]2025-06-10 13:00:06,794 - Uploading /home/veit/PIScO_dev/Segmentation_results/HE570/HE570-PISCO-Profiles/TempResults/20210311_HE570_117-bop-024_PISCO1/20210311_HE570_117-bop-024_PISCO1_Results/EcoTaxa/crops.zip via FTP...\n",
      "2025-06-10 13:00:06,795 - Computing hash for crops.zip...\n",
      "Uploading crops.zip...: 100%|██████████| 8.26M/8.26M [00:02<00:00, 3.05MB/s]\n",
      "2025-06-10 13:00:10,048 - Remote filename is FTP/Ecotaxa_Data_to_import/pyecotaxa/5a9f0923424788440eeff4f5ab2b290a6e5937ede4735b7a56005a21fb6789ab/crops.zip.\n",
      "2025-06-10 13:00:10,551 - Starting project import...\n",
      "Importing to 17302... (Processing files 7700/7720): 100%|██████████| 100/100 [01:05<00:00,  1.52%/s]\n",
      "100%|██████████| 1/1 [01:09<00:00, 69.81s/it]\n",
      "2025-06-10 13:01:16,603 - Pushing 1 files...\n",
      "2025-06-10 13:01:16,603 - Pushing /home/veit/PIScO_dev/Segmentation_results/HE570/HE570-PISCO-Profiles/TempResults/20210303_HE570_003-bop-001_PISCO1/20210303_HE570_003-bop-001_PISCO1_Results/EcoTaxa/crops_part1_upload.zip to 17302...\n"
     ]
    },
    {
     "name": "stdout",
     "output_type": "stream",
     "text": [
      "Successfully uploaded /home/veit/PIScO_dev/Segmentation_results/HE570/HE570-PISCO-Profiles/TempResults/20210311_HE570_117-bop-024_PISCO1/20210311_HE570_117-bop-024_PISCO1_Results/EcoTaxa/crops.zip to project 17302.\n",
      "Uploaded crops.zip to project 17302.\n",
      "20210303_HE570_003-bop-001_PISCO1\n",
      "Processing EcoTaxa folder: /home/veit/PIScO_dev/Segmentation_results/HE570/HE570-PISCO-Profiles/TempResults/20210303_HE570_003-bop-001_PISCO1/20210303_HE570_003-bop-001_PISCO1_Results/EcoTaxa\n"
     ]
    },
    {
     "name": "stderr",
     "output_type": "stream",
     "text": [
      "2025-06-10 13:01:16,604 - Uploading /home/veit/PIScO_dev/Segmentation_results/HE570/HE570-PISCO-Profiles/TempResults/20210303_HE570_003-bop-001_PISCO1/20210303_HE570_003-bop-001_PISCO1_Results/EcoTaxa/crops_part1_upload.zip via FTP...\n",
      "  0%|          | 0/1 [00:00<?, ?it/s]2025-06-10 13:01:16,604 - Computing hash for crops_part1_upload.zip...\n",
      "Uploading crops_part1_upload.zip...: 100%|██████████| 512M/512M [00:10<00:00, 52.3MB/s]\n",
      "2025-06-10 13:01:27,959 - Remote filename is FTP/Ecotaxa_Data_to_import/pyecotaxa/48affbc57acfba8243691ea92606067b7685a1566ea78a6365ff67cf72a70ab9/crops_part1_upload.zip.\n",
      "2025-06-10 13:01:28,424 - Starting project import...\n",
      "Importing to 17302... (Processing files 36200/36431):  99%|█████████▉| 99/100 [03:42<00:02,  2.25s/%]\n",
      "100%|██████████| 1/1 [03:54<00:00, 234.41s/it]\n",
      "2025-06-10 13:05:11,010 - Pushing 1 files...\n",
      "2025-06-10 13:05:11,010 - Pushing /home/veit/PIScO_dev/Segmentation_results/HE570/HE570-PISCO-Profiles/TempResults/20210303_HE570_003-bop-001_PISCO1/20210303_HE570_003-bop-001_PISCO1_Results/EcoTaxa/crops_part2_upload.zip to 17302...\n",
      "2025-06-10 13:05:11,011 - Uploading /home/veit/PIScO_dev/Segmentation_results/HE570/HE570-PISCO-Profiles/TempResults/20210303_HE570_003-bop-001_PISCO1/20210303_HE570_003-bop-001_PISCO1_Results/EcoTaxa/crops_part2_upload.zip via FTP...\n"
     ]
    },
    {
     "name": "stdout",
     "output_type": "stream",
     "text": [
      "Successfully uploaded /home/veit/PIScO_dev/Segmentation_results/HE570/HE570-PISCO-Profiles/TempResults/20210303_HE570_003-bop-001_PISCO1/20210303_HE570_003-bop-001_PISCO1_Results/EcoTaxa/crops_part1_upload.zip to project 17302.\n",
      "Uploaded crops_part1_upload.zip to project 17302.\n"
     ]
    },
    {
     "name": "stderr",
     "output_type": "stream",
     "text": [
      "  0%|          | 0/1 [00:00<?, ?it/s]2025-06-10 13:05:11,011 - Computing hash for crops_part2_upload.zip...\n",
      "Uploading crops_part2_upload.zip...: 100%|██████████| 58.7M/58.7M [00:09<00:00, 6.47MB/s]\n",
      "2025-06-10 13:05:20,988 - Remote filename is FTP/Ecotaxa_Data_to_import/pyecotaxa/4d2e088d7d316f95b756a838cfd42c3baa0e0de9609b46fe6334e444faa53224/crops_part2_upload.zip.\n",
      "2025-06-10 13:05:21,498 - Starting project import...\n",
      "Importing to 17302... (Processing files 4000/4111):  98%|█████████▊| 98/100 [01:00<00:01,  1.62%/s]\n",
      "100%|██████████| 1/1 [01:11<00:00, 71.29s/it]\n",
      "2025-06-10 13:06:22,298 - Pushing 1 files...\n",
      "2025-06-10 13:06:22,298 - Pushing /home/veit/PIScO_dev/Segmentation_results/HE570/HE570-PISCO-Profiles/TempResults/20210308_HE570_089-bop-018_PISCO1/20210308_HE570_089-bop-018_PISCO1_Results/EcoTaxa/crops.zip to 17302...\n",
      "2025-06-10 13:06:22,299 - Uploading /home/veit/PIScO_dev/Segmentation_results/HE570/HE570-PISCO-Profiles/TempResults/20210308_HE570_089-bop-018_PISCO1/20210308_HE570_089-bop-018_PISCO1_Results/EcoTaxa/crops.zip via FTP...\n"
     ]
    },
    {
     "name": "stdout",
     "output_type": "stream",
     "text": [
      "Successfully uploaded /home/veit/PIScO_dev/Segmentation_results/HE570/HE570-PISCO-Profiles/TempResults/20210303_HE570_003-bop-001_PISCO1/20210303_HE570_003-bop-001_PISCO1_Results/EcoTaxa/crops_part2_upload.zip to project 17302.\n",
      "Uploaded crops_part2_upload.zip to project 17302.\n",
      "20210308_HE570_089-bop-018_PISCO1\n",
      "Processing EcoTaxa folder: /home/veit/PIScO_dev/Segmentation_results/HE570/HE570-PISCO-Profiles/TempResults/20210308_HE570_089-bop-018_PISCO1/20210308_HE570_089-bop-018_PISCO1_Results/EcoTaxa\n"
     ]
    },
    {
     "name": "stderr",
     "output_type": "stream",
     "text": [
      "  0%|          | 0/1 [00:00<?, ?it/s]2025-06-10 13:06:22,299 - Computing hash for crops.zip...\n",
      "Uploading crops.zip...: 100%|██████████| 54.8M/54.8M [00:03<00:00, 16.1MB/s]\n",
      "2025-06-10 13:06:26,311 - Remote filename is FTP/Ecotaxa_Data_to_import/pyecotaxa/e78a66fb9efd55b4da760caa4bd7dec6c81a71e99f5788e265da677891d0b87a/crops.zip.\n",
      "2025-06-10 13:06:26,649 - Starting project import...\n",
      "Importing to 17302... (Processing files 11900/11912): 100%|██████████| 100/100 [01:25<00:00,  1.16%/s]\n",
      "100%|██████████| 1/1 [01:30<00:00, 90.58s/it]\n",
      "2025-06-10 13:07:52,884 - Pushing 1 files...\n"
     ]
    },
    {
     "name": "stdout",
     "output_type": "stream",
     "text": [
      "Successfully uploaded /home/veit/PIScO_dev/Segmentation_results/HE570/HE570-PISCO-Profiles/TempResults/20210308_HE570_089-bop-018_PISCO1/20210308_HE570_089-bop-018_PISCO1_Results/EcoTaxa/crops.zip to project 17302.\n",
      "Uploaded crops.zip to project 17302.\n",
      "20210305_HE570_044-bop-010_PISCO1\n",
      "Processing EcoTaxa folder: /home/veit/PIScO_dev/Segmentation_results/HE570/HE570-PISCO-Profiles/TempResults/20210305_HE570_044-bop-010_PISCO1/20210305_HE570_044-bop-010_PISCO1_Results/EcoTaxa\n"
     ]
    },
    {
     "name": "stderr",
     "output_type": "stream",
     "text": [
      "2025-06-10 13:07:52,884 - Pushing /home/veit/PIScO_dev/Segmentation_results/HE570/HE570-PISCO-Profiles/TempResults/20210305_HE570_044-bop-010_PISCO1/20210305_HE570_044-bop-010_PISCO1_Results/EcoTaxa/crops.zip to 17302...\n",
      "  0%|          | 0/1 [00:00<?, ?it/s]2025-06-10 13:07:52,885 - Uploading /home/veit/PIScO_dev/Segmentation_results/HE570/HE570-PISCO-Profiles/TempResults/20210305_HE570_044-bop-010_PISCO1/20210305_HE570_044-bop-010_PISCO1_Results/EcoTaxa/crops.zip via FTP...\n",
      "2025-06-10 13:07:52,885 - Computing hash for crops.zip...\n",
      "Uploading crops.zip...: 100%|██████████| 28.4M/28.4M [00:03<00:00, 9.88MB/s]\n",
      "2025-06-10 13:07:56,381 - Remote filename is FTP/Ecotaxa_Data_to_import/pyecotaxa/19ae177a5c7fc397f25caf7ead0f3cf6c2de0461c2bbc93a565a8d3695506f9e/crops.zip.\n",
      "2025-06-10 13:07:56,882 - Starting project import...\n"
     ]
    }
   ],
   "source": [
    "import logging\n",
    "import os\n",
    "from pyecotaxa.remote import Remote, Transport\n",
    "\n",
    "def login_to_ecotaxa(username, password):\n",
    "    try:\n",
    "        remote = Remote()\n",
    "        remote.login(username, password)\n",
    "        print(\"Successfully logged into EcoTaxa.\")\n",
    "        return remote\n",
    "    except Exception as e:\n",
    "        logging.error(f\"Error during login: {e}\")\n",
    "        return None\n",
    "\n",
    "def ET_upload(remote, project_id, folder_path):\n",
    "    try:\n",
    "        remote.push([(folder_path, project_id)],transport=Transport.FTP)\n",
    "        print(f\"Successfully uploaded {folder_path} to project {project_id}.\")\n",
    "    except Exception as e:\n",
    "        logging.error(f\"Error during upload: {e}\") \n",
    "\n",
    "def upload_ecotaxa_data(profile_path, remote, project_id, crops_type='raw'):\n",
    "    print(f\"Processing EcoTaxa folder: {profile_path}\")                \n",
    "    zip_files = [f for f in os.listdir(profile_path) if f.endswith('.zip')]\n",
    "    deconv_zip_files = [f for f in zip_files if 'deconv_crops' in f]\n",
    "    raw_zip_files = [f for f in zip_files if 'crops' in f and 'deconv_crops' not in f]\n",
    "    if crops_type == 'raw':\n",
    "        # Check if there are zip files with \"part\" in their names\n",
    "        part_zip_files = [f for f in raw_zip_files if \"part\" in f]\n",
    "\n",
    "        if part_zip_files:\n",
    "            # If \"part\" zip files exist, upload only those\n",
    "            for part_zip in part_zip_files:\n",
    "                zip_path = os.path.join(profile_path, part_zip)\n",
    "                ET_upload(remote, project_id, zip_path)\n",
    "                print(f\"Uploaded {part_zip} to project {project_id}.\")\n",
    "        else:\n",
    "            # Otherwise, upload the default crops.zip and deconv_crops.zip        \n",
    "            zip_path_raw = os.path.join(profile_path, \"crops.zip\")\n",
    "            ET_upload(remote, project_id, zip_path_raw)\n",
    "            print(f\"Uploaded crops.zip to project {project_id}.\")\n",
    "    else:\n",
    "        # Upload deconv_crops.zip\n",
    "        if not deconv_zip_files:\n",
    "            logging.warning(f\"No deconv_crops.zip found in {profile_path}.\")\n",
    "            return\n",
    "        part_zip_files = [f for f in deconv_zip_files if \"part\" in f]\n",
    "\n",
    "        if part_zip_files:\n",
    "            # If \"part\" zip files exist, upload only those\n",
    "            for part_zip in part_zip_files:\n",
    "                zip_path = os.path.join(profile_path, part_zip)\n",
    "                ET_upload(remote, project_id, zip_path)\n",
    "                print(f\"Uploaded {part_zip} to project {project_id}.\")\n",
    "        else:\n",
    "        # Otherwise, upload the default deconv_crops.zip\n",
    "            zip_path_deconv = os.path.join(profile_path, \"deconv_crops.zip\")\n",
    "            ET_upload(remote, project_id, zip_path_deconv)\n",
    "            print(f\"Uploaded deconv_crops.zip to project {project_id}.\")\n",
    "\n",
    "USERNAME = 'vdausmann@geomar.de'  # Replace with your EcoTaxa username\n",
    "PASSWORD = 'tEgso4-kukjyr-hotqab'  # Replace with your EcoTaxa password\n",
    "# Login to EcoTaxa\n",
    "remote = login_to_ecotaxa(USERNAME, PASSWORD)\n",
    "\n",
    "for profile in os.listdir(cruise_base):\n",
    "    print(profile)\n",
    "    profile_path = os.path.join(intermediate_result_dir, profile, profile+\"_Results\", \"EcoTaxa\")\n",
    "    if not os.path.exists(profile_path):\n",
    "        print(f\"EcoTaxa folder does not exist for profile {profile}. Skipping.\")\n",
    "        continue\n",
    "\n",
    "    if remote:\n",
    "        upload_ecotaxa_data(profile_path, remote, project_id=17302, crops_type='raw')\n",
    "    else:\n",
    "        print(\"Failed to log into EcoTaxa. Exiting...\")"
   ]
  }
 ],
 "metadata": {
  "kernelspec": {
   "display_name": "base",
   "language": "python",
   "name": "python3"
  },
  "language_info": {
   "codemirror_mode": {
    "name": "ipython",
    "version": 3
   },
   "file_extension": ".py",
   "mimetype": "text/x-python",
   "name": "python",
   "nbconvert_exporter": "python",
   "pygments_lexer": "ipython3",
   "version": "3.13.2"
  }
 },
 "nbformat": 4,
 "nbformat_minor": 5
}
