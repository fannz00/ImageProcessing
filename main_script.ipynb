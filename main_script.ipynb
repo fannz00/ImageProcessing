{
 "cells": [
  {
   "cell_type": "markdown",
   "id": "99cd5955",
   "metadata": {},
   "source": [
    "# Step by step processing of PIScO images from fullframe PNGs to EcoTaxa Export per cruise"
   ]
  },
  {
   "cell_type": "markdown",
   "id": "e6c36789",
   "metadata": {},
   "source": [
    "## 0.  Connect to docker container & import of libraries\n",
    "Prerequesits\n",
    "- Start the rocm_container if not already running.\n",
    "- Start the jupyter server in the container (sudo docker exec -it rocm_container bash -c \"jupyter notebook --ip=0.0.0.0 --port=8888 --no-browser --allow-root\"): note the token/password\n",
    "- Find the ip address of the rocm container (sudo docker inspect -f '{{range .NetworkSettings.Networks}}{{.IPAddress}}{{end}}' rocm_container)\n",
    "- Connect to the python kernel in VS Code: Select other kernel... with IP addres and password/token from above."
   ]
  },
  {
   "cell_type": "code",
   "execution_count": 1,
   "id": "1a3796fb",
   "metadata": {},
   "outputs": [
    {
     "name": "stdout",
     "output_type": "stream",
     "text": [
      "Requirement already satisfied: numpy==2.2 in /home/veit/miniconda3/envs/pisco/lib/python3.12/site-packages (2.2.0)\n",
      "Requirement already satisfied: pandas in /home/veit/miniconda3/envs/pisco/lib/python3.12/site-packages (2.3.0)\n",
      "Requirement already satisfied: matplotlib in /home/veit/miniconda3/envs/pisco/lib/python3.12/site-packages (3.10.3)\n",
      "Requirement already satisfied: scikit-image in /home/veit/miniconda3/envs/pisco/lib/python3.12/site-packages (0.25.2)\n",
      "Requirement already satisfied: opencv-python in /home/veit/miniconda3/envs/pisco/lib/python3.12/site-packages (4.11.0.86)\n",
      "Requirement already satisfied: umap-learn in /home/veit/miniconda3/envs/pisco/lib/python3.12/site-packages (0.5.7)\n",
      "Requirement already satisfied: sqlalchemy in /home/veit/miniconda3/envs/pisco/lib/python3.12/site-packages (2.0.41)\n",
      "Requirement already satisfied: tqdm in /home/veit/miniconda3/envs/pisco/lib/python3.12/site-packages (4.67.1)\n",
      "Requirement already satisfied: standard-imghdr in /home/veit/miniconda3/envs/pisco/lib/python3.12/site-packages (3.13.0)\n",
      "Requirement already satisfied: torch in /home/veit/miniconda3/envs/pisco/lib/python3.12/site-packages (2.6.0+rocm6.4.1.git1ded221d)\n",
      "Requirement already satisfied: torchvision in /home/veit/miniconda3/envs/pisco/lib/python3.12/site-packages (0.21.0+rocm6.4.1.git4040d51f)\n",
      "Requirement already satisfied: python-dateutil>=2.8.2 in /home/veit/miniconda3/envs/pisco/lib/python3.12/site-packages (from pandas) (2.9.0.post0)\n",
      "Requirement already satisfied: pytz>=2020.1 in /home/veit/miniconda3/envs/pisco/lib/python3.12/site-packages (from pandas) (2025.2)\n",
      "Requirement already satisfied: tzdata>=2022.7 in /home/veit/miniconda3/envs/pisco/lib/python3.12/site-packages (from pandas) (2025.2)\n",
      "Requirement already satisfied: contourpy>=1.0.1 in /home/veit/miniconda3/envs/pisco/lib/python3.12/site-packages (from matplotlib) (1.3.2)\n",
      "Requirement already satisfied: cycler>=0.10 in /home/veit/miniconda3/envs/pisco/lib/python3.12/site-packages (from matplotlib) (0.12.1)\n",
      "Requirement already satisfied: fonttools>=4.22.0 in /home/veit/miniconda3/envs/pisco/lib/python3.12/site-packages (from matplotlib) (4.58.2)\n",
      "Requirement already satisfied: kiwisolver>=1.3.1 in /home/veit/miniconda3/envs/pisco/lib/python3.12/site-packages (from matplotlib) (1.4.8)\n",
      "Requirement already satisfied: packaging>=20.0 in /home/veit/miniconda3/envs/pisco/lib/python3.12/site-packages (from matplotlib) (25.0)\n",
      "Requirement already satisfied: pillow>=8 in /home/veit/miniconda3/envs/pisco/lib/python3.12/site-packages (from matplotlib) (11.2.1)\n",
      "Requirement already satisfied: pyparsing>=2.3.1 in /home/veit/miniconda3/envs/pisco/lib/python3.12/site-packages (from matplotlib) (3.2.3)\n",
      "Requirement already satisfied: scipy>=1.11.4 in /home/veit/miniconda3/envs/pisco/lib/python3.12/site-packages (from scikit-image) (1.15.3)\n",
      "Requirement already satisfied: networkx>=3.0 in /home/veit/miniconda3/envs/pisco/lib/python3.12/site-packages (from scikit-image) (3.5)\n",
      "Requirement already satisfied: imageio!=2.35.0,>=2.33 in /home/veit/miniconda3/envs/pisco/lib/python3.12/site-packages (from scikit-image) (2.37.0)\n",
      "Requirement already satisfied: tifffile>=2022.8.12 in /home/veit/miniconda3/envs/pisco/lib/python3.12/site-packages (from scikit-image) (2025.6.11)\n",
      "Requirement already satisfied: lazy-loader>=0.4 in /home/veit/miniconda3/envs/pisco/lib/python3.12/site-packages (from scikit-image) (0.4)\n",
      "Requirement already satisfied: scikit-learn>=0.22 in /home/veit/miniconda3/envs/pisco/lib/python3.12/site-packages (from umap-learn) (1.7.0)\n",
      "Requirement already satisfied: numba>=0.51.2 in /home/veit/miniconda3/envs/pisco/lib/python3.12/site-packages (from umap-learn) (0.61.2)\n",
      "Requirement already satisfied: pynndescent>=0.5 in /home/veit/miniconda3/envs/pisco/lib/python3.12/site-packages (from umap-learn) (0.5.13)\n",
      "Requirement already satisfied: greenlet>=1 in /home/veit/miniconda3/envs/pisco/lib/python3.12/site-packages (from sqlalchemy) (3.2.3)\n",
      "Requirement already satisfied: typing-extensions>=4.6.0 in /home/veit/miniconda3/envs/pisco/lib/python3.12/site-packages (from sqlalchemy) (4.14.0)\n",
      "Requirement already satisfied: filelock in /home/veit/miniconda3/envs/pisco/lib/python3.12/site-packages (from torch) (3.18.0)\n",
      "Requirement already satisfied: setuptools in /home/veit/miniconda3/envs/pisco/lib/python3.12/site-packages (from torch) (78.1.1)\n",
      "Requirement already satisfied: sympy==1.13.1 in /home/veit/miniconda3/envs/pisco/lib/python3.12/site-packages (from torch) (1.13.1)\n",
      "Requirement already satisfied: jinja2 in /home/veit/miniconda3/envs/pisco/lib/python3.12/site-packages (from torch) (3.1.6)\n",
      "Requirement already satisfied: fsspec in /home/veit/miniconda3/envs/pisco/lib/python3.12/site-packages (from torch) (2025.3.0)\n",
      "Requirement already satisfied: pytorch-triton-rocm==3.2.0+rocm6.4.1.git6da9e660 in /home/veit/miniconda3/envs/pisco/lib/python3.12/site-packages (from torch) (3.2.0+rocm6.4.1.git6da9e660)\n",
      "Requirement already satisfied: mpmath<1.4,>=1.1.0 in /home/veit/miniconda3/envs/pisco/lib/python3.12/site-packages (from sympy==1.13.1->torch) (1.3.0)\n",
      "Requirement already satisfied: llvmlite<0.45,>=0.44.0dev0 in /home/veit/miniconda3/envs/pisco/lib/python3.12/site-packages (from numba>=0.51.2->umap-learn) (0.44.0)\n",
      "Requirement already satisfied: joblib>=0.11 in /home/veit/miniconda3/envs/pisco/lib/python3.12/site-packages (from pynndescent>=0.5->umap-learn) (1.5.1)\n",
      "Requirement already satisfied: six>=1.5 in /home/veit/miniconda3/envs/pisco/lib/python3.12/site-packages (from python-dateutil>=2.8.2->pandas) (1.17.0)\n",
      "Requirement already satisfied: threadpoolctl>=3.1.0 in /home/veit/miniconda3/envs/pisco/lib/python3.12/site-packages (from scikit-learn>=0.22->umap-learn) (3.6.0)\n",
      "Requirement already satisfied: MarkupSafe>=2.0 in /home/veit/miniconda3/envs/pisco/lib/python3.12/site-packages (from jinja2->torch) (3.0.2)\n"
     ]
    }
   ],
   "source": [
    "!pip install numpy==2.2 pandas matplotlib scikit-image opencv-python umap-learn sqlalchemy tqdm standard-imghdr torch torchvision\n",
    "import os\n",
    "#os.chdir('/app/ImageProcessing/')\n",
    "os.chdir('/home/veit/PIScO_dev/ImageProcessing/')"
   ]
  },
  {
   "cell_type": "code",
   "execution_count": 1,
   "id": "8c2b50fd",
   "metadata": {},
   "outputs": [
    {
     "name": "stderr",
     "output_type": "stream",
     "text": [
      "/home/veit/miniconda3/envs/pisco/lib/python3.12/site-packages/tqdm/auto.py:21: TqdmWarning: IProgress not found. Please update jupyter and ipywidgets. See https://ipywidgets.readthedocs.io/en/stable/user_install.html\n",
      "  from .autonotebook import tqdm as notebook_tqdm\n",
      "2025-06-27 15:41:09,238 - PyTorch version 2.6.0+rocm6.4.1.git1ded221d available.\n",
      "2025-06-27 15:41:09,344 - Connected to the database\n"
     ]
    }
   ],
   "source": [
    "#### External modules\n",
    "import os\n",
    "os.environ[\"CUDA_VISIBLE_DEVICES\"]=\"0, 1\"\n",
    "\n",
    "import numpy as np\n",
    "import pandas as pd\n",
    "import matplotlib.pyplot as plt\n",
    "import matplotlib.colors as mcolors\n",
    "import re\n",
    "import datetime\n",
    "\n",
    "from pandas.errors import EmptyDataError\n",
    "\n",
    "from sqlalchemy import create_engine\n",
    "from sqlalchemy import text\n",
    "\n",
    "import inspect\n",
    "from skimage import measure\n",
    "from skimage.io import imread\n",
    "import cv2\n",
    "import umap\n",
    "import pickle\n",
    "from sklearn.preprocessing import StandardScaler\n",
    "\n",
    "from tqdm import tqdm\n",
    "import logging\n",
    "import shutil\n",
    "\n",
    "#### Internal modules\n",
    "\n",
    "from segmenter import run_segmenter\n",
    "import analyze_profiles_seavision as ap\n",
    "\n"
   ]
  },
  {
   "cell_type": "markdown",
   "id": "18e59454",
   "metadata": {},
   "source": [
    "## 1.  Define the input images i.e. cruise folder\n"
   ]
  },
  {
   "cell_type": "code",
   "execution_count": 2,
   "id": "b02d17e7",
   "metadata": {},
   "outputs": [],
   "source": [
    "#Don't forget to mount the SMB share, in system terminal: sudo mount -t cifs //filer.geomar.de/projekte/ORTC-ST-PISCO /mnt/filer -o username=GEOM-svcPISCO_rw@geomar.de,password=2mZmhx-7GCGf \n",
    "# Select the base dir of the PIScO data for the cruise you want to process. Example: /mnt/filer/SO298/SO298-Logfiles_PISCO\n",
    "\n",
    "### KOSMOS Peru 2020\n",
    "# cruise = \"PISCO_KOSMOS_2020_Peru\"\n",
    "# intermediate_result_dir = \"/home/veit/PIScO_dev/Segmentation_results/PISCO_KOSMOS_2020_Peru/TempResults\"\n",
    "# cruise_base = f\"/mnt/filer/PISCO_KOSMOS_2020_Peru/PIScO_Peru_source\"\n",
    "# ctd_dir= None\n",
    "# #ctd_prefix = None\n",
    "# log_directory = None\n",
    "\n",
    "### HE570\n",
    "# cruise = \"HE570\"\n",
    "# cruise_base = \"/mnt/filer/HE570/HE570-PISCO-Profiles\"\n",
    "# intermediate_result_dir = f\"/home/veit/PIScO_dev/Segmentation_results/HE570/HE570-PISCO-Profiles/TempResults\"\n",
    "# ctd_dir = None\n",
    "# #ctd_prefix = \"met_202_1_\"\n",
    "# log_directory = None\n",
    "\n",
    "### M181\n",
    "# cruise = \"M181\"\n",
    "# cruise_base = \"/home/veit/PIScO_dev/Segmentation_results/M181\"\n",
    "# intermediate_result_dir = f\"/home/veit/PIScO_dev/Segmentation_results/M181\"\n",
    "# ctd_dir = \"/home/veit/Downloads/CTD_preliminary_calibrated\"\n",
    "# ctd_prefix = \"met_181_1_\"\n",
    "# log_directory = \"/home/veit/Downloads/Templog\"\n",
    "# pressure_unit = \"bar\"  # or \"dbar\"\n",
    "\n",
    "### SO_298\n",
    "# cruise = \"SO298\"\n",
    "# cruise_base = \"/mnt/filer/SO298/SO298-PISCO-Profiles\"\n",
    "# # #cruise_base = \"/home/veit/PIScO_dev/usb_mount/SO298-PNG\"\n",
    "# intermediate_result_dir = \"/home/veit/PIScO_dev/Segmentation_results/SO298/SO298-PISCO-Profiles/TempResults\"\n",
    "# ctd_dir = \"/mnt/filer/SO298/SO298-CTD_UVP_ETC/SO298-CTD/calibrated/\"\n",
    "# ctd_prefix = \"son_298_1_\"\n",
    "# log_directory = \"/mnt/filer/SO298/SO298-Logfiles_PISCO/Templog\"\n",
    "\n",
    "### MSM_126\n",
    "# cruise = \"MSM126\"\n",
    "# cruise_base = \"/mnt/filer/MSM126/MSM126-PISCO-Profiles\"\n",
    "# intermediate_result_dir = f\"/home/veit/PIScO_dev/Segmentation_results/MSM126/MSM126-PISCO-Profiles/TempResults/\"\n",
    "# ctd_dir = \"/mnt/filer/MSM126/MSM126-Data-UVP-CTD-ADCP/CTD/msm_126_1_ctd\"\n",
    "# ctd_prefix = \"msm_126_1_\"\n",
    "# log_directory = \"/mnt/filer/MSM126/MSM126-PISCO_Logfilesetc/Logfiles\"\n",
    "\n",
    "## M202\n",
    "# cruise = \"M202\"\n",
    "# cruise_base = \"/mnt/filer/M202/M202-PISCO-Profiles\"\n",
    "# intermediate_result_dir = f\"/home/veit/PIScO_dev/Segmentation_results/M202/M202-PISCO-Profiles/TempResults\"\n",
    "# ctd_dir = \"/mnt/filer/M202/M202-external-Data/M202-CTD/met_202_1_ctd/met_202_1_ctd\"\n",
    "# ctd_prefix = \"met_202_1_\"\n",
    "# log_directory = \"/mnt/filer/M202/M202-Pisco-Logfiles/Logfiles\"\n",
    "\n",
    "### SO_308\n",
    "cruise = \"SO308\"\n",
    "cruise_base = \"/mnt/filer/SO308/SO308-PISCO-Profiles\"\n",
    "intermediate_result_dir = \"/home/veit/PIScO_dev/Segmentation_results/SO308/SO308-PISCO-Profiles/TempResults\"\n",
    "ctd_dir = \"/mnt/filer/SO308/ADCP-ETC/CTD/SO308_ctd_files\"\n",
    "ctd_prefix = \"son_308_1_\"\n",
    "log_directory = \"/mnt/filer/SO308/PISCO-Logfiles/PISCO-LOGFILES/Logfiles\"\n",
    "pressure_unit = \"dbar\"  # or \"bar\"\n",
    "\n",
    "\n"
   ]
  },
  {
   "cell_type": "markdown",
   "id": "05fe589c",
   "metadata": {},
   "source": [
    "## 2.  Main loop\n",
    "### 2.1 Segmentation: create crops and corresponding unrefined metadata \n"
   ]
  },
  {
   "cell_type": "code",
   "execution_count": null,
   "id": "c9b5ad8f",
   "metadata": {},
   "outputs": [],
   "source": [
    "for profile in os.listdir(cruise_base):\n",
    "        print(profile)\n",
    "        profile_path = os.path.join(cruise_base, profile)\n",
    "        if os.path.isdir(profile_path):\n",
    "                img_folder = os.path.join(profile_path, profile+\"_Images-PNG\")\n",
    "                #img_folder = profile_path\n",
    "                results_folder = os.path.join(intermediate_result_dir, profile, profile+\"_Results\")\n",
    "                if not os.path.exists(img_folder):\n",
    "                        print(f\"Image folder {img_folder} does not exist, skipping profile {profile}.\")\n",
    "                        continue\n",
    "                if not os.path.exists(results_folder):\n",
    "                        os.makedirs(results_folder)\n",
    "                run_segmenter(img_folder, results_folder, deconvolution=False)"
   ]
  },
  {
   "cell_type": "markdown",
   "id": "b0953c4a",
   "metadata": {},
   "source": [
    "### 2.2 Postprocessing: filtering, metadata curation, EcoTaxa export"
   ]
  },
  {
   "cell_type": "code",
   "execution_count": 3,
   "id": "64bba3a0",
   "metadata": {},
   "outputs": [
    {
     "name": "stdout",
     "output_type": "stream",
     "text": [
      "Removing crops.zip file: /home/veit/PIScO_dev/Segmentation_results/SO308/SO308-PISCO-Profiles/TempResults/SO308_1-28-1_PISCO2_20241124-2155/SO308_1-28-1_PISCO2_20241124-2155_Results/crops.zip\n",
      "Removing crops.zip file: /home/veit/PIScO_dev/Segmentation_results/SO308/SO308-PISCO-Profiles/TempResults/SO308_1-2-5_PISCO2_20241105-0723/SO308_1-2-5_PISCO2_20241105-0723_Results/crops.zip\n",
      "Removing crops.zip file: /home/veit/PIScO_dev/Segmentation_results/SO308/SO308-PISCO-Profiles/TempResults/SO308_1-29-1_PISCO2_20241125-1314/SO308_1-29-1_PISCO2_20241125-1314_Results/crops.zip\n",
      "Removing crops.zip file: /home/veit/PIScO_dev/Segmentation_results/SO308/SO308-PISCO-Profiles/TempResults/SO308_1-29-3_PISCO2_20241125-1829/SO308_1-29-3_PISCO2_20241125-1829_Results/crops.zip\n",
      "Removing crops.zip file: /home/veit/PIScO_dev/Segmentation_results/SO308/SO308-PISCO-Profiles/TempResults/SO308_1-38-3_PISCO2_20241208-0748/SO308_1-38-3_PISCO2_20241208-0748_Results/crops.zip\n",
      "Removing crops.zip file: /home/veit/PIScO_dev/Segmentation_results/SO308/SO308-PISCO-Profiles/TempResults/SO308_1-38-1_PISCO2_20241208-0408/SO308_1-38-1_PISCO2_20241208-0408_Results/crops.zip\n",
      "Removing entire EcoTaxa folder: /home/veit/PIScO_dev/Segmentation_results/SO308/SO308-PISCO-Profiles/TempResults/SO308_1-30-3_PISCO2_20241127-0510/SO308_1-30-3_PISCO2_20241127-0510_Results/EcoTaxa\n",
      "Removing crops.zip file: /home/veit/PIScO_dev/Segmentation_results/SO308/SO308-PISCO-Profiles/TempResults/SO308_1-15-1_PISCO2_20241113-1253/SO308_1-15-1_PISCO2_20241113-1253_Results/crops.zip\n",
      "Removing crops.zip file: /home/veit/PIScO_dev/Segmentation_results/SO308/SO308-PISCO-Profiles/TempResults/SO308_1-19-1_PISCO2_20241115-0144/SO308_1-19-1_PISCO2_20241115-0144_Results/crops.zip\n",
      "Removing crops.zip file: /home/veit/PIScO_dev/Segmentation_results/SO308/SO308-PISCO-Profiles/TempResults/SO308_1-20-1_PISCO2_20241116-1129/SO308_1-20-1_PISCO2_20241116-1129_Results/crops.zip\n",
      "Removing crops.zip file: /home/veit/PIScO_dev/Segmentation_results/SO308/SO308-PISCO-Profiles/TempResults/SO308_1-11-3_PISCO2_20241109-1836/SO308_1-11-3_PISCO2_20241109-1836_Results/crops.zip\n",
      "Removing crops.zip file: /home/veit/PIScO_dev/Segmentation_results/SO308/SO308-PISCO-Profiles/TempResults/SO308_1-20-4_PISCO2_20241116-2153/SO308_1-20-4_PISCO2_20241116-2153_Results/crops.zip\n",
      "Removing crops.zip file: /home/veit/PIScO_dev/Segmentation_results/SO308/SO308-PISCO-Profiles/TempResults/SO308_1-37-4_PISCO2_20241207-1021/SO308_1-37-4_PISCO2_20241207-1021_Results/crops.zip\n",
      "Removing crops.zip file: /home/veit/PIScO_dev/Segmentation_results/SO308/SO308-PISCO-Profiles/TempResults/SO308_1-37-2_PISCO2_20241207-0505/SO308_1-37-2_PISCO2_20241207-0505_Results/crops.zip\n",
      "Removing crops.zip file: /home/veit/PIScO_dev/Segmentation_results/SO308/SO308-PISCO-Profiles/TempResults/SO308_1-14-3_PISCO2_20241112-0837/SO308_1-14-3_PISCO2_20241112-0837_Results/crops.zip\n"
     ]
    }
   ],
   "source": [
    "def clean_ecotaxa_folders(base_folder, remove_all=False):\n",
    "    \"\"\"\n",
    "    Remove EcoTaxa folders and their contents from the given base folder.\n",
    "    \n",
    "    Args:\n",
    "        base_folder (str): Path to the base directory to clean\n",
    "        remove_all (bool): If True, removes the entire EcoTaxa folder structure.\n",
    "                         If False, only removes unzipped upload folders but keeps zips.\n",
    "    \"\"\"\n",
    "    for root, dirs, files in os.walk(base_folder):\n",
    "        if \"EcoTaxa\" in dirs:\n",
    "            ecotaxa_path = os.path.join(root, \"EcoTaxa\")\n",
    "            \n",
    "            if remove_all:\n",
    "                # Remove the entire EcoTaxa folder\n",
    "                print(f\"Removing entire EcoTaxa folder: {ecotaxa_path}\")\n",
    "                shutil.rmtree(ecotaxa_path)\n",
    "            else:\n",
    "                # Only remove unzipped upload folders\n",
    "                for item in os.listdir(ecotaxa_path):\n",
    "                    item_path = os.path.join(ecotaxa_path, item)\n",
    "                    if os.path.isdir(item_path) and (\"upload\" in item or \"crops\" in item):\n",
    "                        print(f\"Removing unzipped folder: {item_path}\")\n",
    "                        shutil.rmtree(item_path)\n",
    "                \n",
    "                # Remove empty EcoTaxa folder if no files remain\n",
    "                if not os.listdir(ecotaxa_path):\n",
    "                    print(f\"Removing empty EcoTaxa folder: {ecotaxa_path}\")\n",
    "                    shutil.rmtree(ecotaxa_path)\n",
    "        elif \"crops.zip\" or \"deconv_\" in files:\n",
    "            # If only crops.zip is present, remove it\n",
    "            zip_path = os.path.join(root, \"crops.zip\")\n",
    "            if os.path.exists(zip_path):\n",
    "                if remove_all:\n",
    "                    print(f\"Removing crops.zip file: {zip_path}\")\n",
    "                    os.remove(zip_path)\n",
    "            else:\n",
    "                zip_path = os.path.join(root, \"deconv_crops.zip\")\n",
    "                if os.path.exists(zip_path):    \n",
    "                    if remove_all:\n",
    "                        print(f\"Removing deconv_crops.zip file: {zip_path}\")\n",
    "                        os.remove(zip_path)\n",
    "            \n",
    "\n",
    "# Usage examples:\n",
    "# Remove only unzipped folders:\n",
    "clean_ecotaxa_folders(intermediate_result_dir, remove_all=True)"
   ]
  },
  {
   "cell_type": "code",
   "execution_count": 4,
   "id": "5fa526d1",
   "metadata": {},
   "outputs": [
    {
     "name": "stdout",
     "output_type": "stream",
     "text": [
      "SO308_1-37-4_PISCO2_20241207-1021\n",
      "EcoTaxa directory /home/veit/PIScO_dev/Segmentation_results/SO308/SO308-PISCO-Profiles/TempResults/SO308_1-37-4_PISCO2_20241207-1021/SO308_1-37-4_PISCO2_20241207-1021_Results/EcoTaxa already exists. Skipping profile SO308_1-37-4_PISCO2_20241207-1021.\n",
      "SO308_1-28-1_PISCO2_20241124-2155\n",
      "EcoTaxa directory /home/veit/PIScO_dev/Segmentation_results/SO308/SO308-PISCO-Profiles/TempResults/SO308_1-28-1_PISCO2_20241124-2155/SO308_1-28-1_PISCO2_20241124-2155_Results/EcoTaxa already exists. Skipping profile SO308_1-28-1_PISCO2_20241124-2155.\n",
      "SO308_1-38-3_PISCO2_20241208-0748\n",
      "EcoTaxa directory /home/veit/PIScO_dev/Segmentation_results/SO308/SO308-PISCO-Profiles/TempResults/SO308_1-38-3_PISCO2_20241208-0748/SO308_1-38-3_PISCO2_20241208-0748_Results/EcoTaxa already exists. Skipping profile SO308_1-38-3_PISCO2_20241208-0748.\n",
      "SO308_1-20-1_PISCO2_20241116-1129\n",
      "EcoTaxa directory /home/veit/PIScO_dev/Segmentation_results/SO308/SO308-PISCO-Profiles/TempResults/SO308_1-20-1_PISCO2_20241116-1129/SO308_1-20-1_PISCO2_20241116-1129_Results/EcoTaxa already exists. Skipping profile SO308_1-20-1_PISCO2_20241116-1129.\n",
      "SO308_1-11-3_PISCO2_20241109-1836\n",
      "EcoTaxa directory /home/veit/PIScO_dev/Segmentation_results/SO308/SO308-PISCO-Profiles/TempResults/SO308_1-11-3_PISCO2_20241109-1836/SO308_1-11-3_PISCO2_20241109-1836_Results/EcoTaxa already exists. Skipping profile SO308_1-11-3_PISCO2_20241109-1836.\n",
      "SO308_1-37-2_PISCO2_20241207-0505\n",
      "EcoTaxa directory /home/veit/PIScO_dev/Segmentation_results/SO308/SO308-PISCO-Profiles/TempResults/SO308_1-37-2_PISCO2_20241207-0505/SO308_1-37-2_PISCO2_20241207-0505_Results/EcoTaxa already exists. Skipping profile SO308_1-37-2_PISCO2_20241207-0505.\n",
      "SO308_1-19-1_PISCO2_20241115-0144\n",
      "EcoTaxa directory /home/veit/PIScO_dev/Segmentation_results/SO308/SO308-PISCO-Profiles/TempResults/SO308_1-19-1_PISCO2_20241115-0144/SO308_1-19-1_PISCO2_20241115-0144_Results/EcoTaxa already exists. Skipping profile SO308_1-19-1_PISCO2_20241115-0144.\n",
      "SO308_1-14-3_PISCO2_20241112-0837\n",
      "EcoTaxa directory /home/veit/PIScO_dev/Segmentation_results/SO308/SO308-PISCO-Profiles/TempResults/SO308_1-14-3_PISCO2_20241112-0837/SO308_1-14-3_PISCO2_20241112-0837_Results/EcoTaxa already exists. Skipping profile SO308_1-14-3_PISCO2_20241112-0837.\n",
      "SO308_1-20-4_PISCO2_20241116-2153\n",
      "EcoTaxa directory /home/veit/PIScO_dev/Segmentation_results/SO308/SO308-PISCO-Profiles/TempResults/SO308_1-20-4_PISCO2_20241116-2153/SO308_1-20-4_PISCO2_20241116-2153_Results/EcoTaxa already exists. Skipping profile SO308_1-20-4_PISCO2_20241116-2153.\n",
      "SO308_1-29-3_PISCO2_20241125-1829\n",
      "EcoTaxa directory /home/veit/PIScO_dev/Segmentation_results/SO308/SO308-PISCO-Profiles/TempResults/SO308_1-29-3_PISCO2_20241125-1829/SO308_1-29-3_PISCO2_20241125-1829_Results/EcoTaxa already exists. Skipping profile SO308_1-29-3_PISCO2_20241125-1829.\n",
      "SO308_1-29-1_PISCO2_20241125-1314\n",
      "EcoTaxa directory /home/veit/PIScO_dev/Segmentation_results/SO308/SO308-PISCO-Profiles/TempResults/SO308_1-29-1_PISCO2_20241125-1314/SO308_1-29-1_PISCO2_20241125-1314_Results/EcoTaxa already exists. Skipping profile SO308_1-29-1_PISCO2_20241125-1314.\n",
      "SO308_1-38-1_PISCO2_20241208-0408\n",
      "EcoTaxa directory /home/veit/PIScO_dev/Segmentation_results/SO308/SO308-PISCO-Profiles/TempResults/SO308_1-38-1_PISCO2_20241208-0408/SO308_1-38-1_PISCO2_20241208-0408_Results/EcoTaxa already exists. Skipping profile SO308_1-38-1_PISCO2_20241208-0408.\n",
      "SO308_1-15-1_PISCO2_20241113-1253\n",
      "EcoTaxa directory /home/veit/PIScO_dev/Segmentation_results/SO308/SO308-PISCO-Profiles/TempResults/SO308_1-15-1_PISCO2_20241113-1253/SO308_1-15-1_PISCO2_20241113-1253_Results/EcoTaxa already exists. Skipping profile SO308_1-15-1_PISCO2_20241113-1253.\n",
      "SO308_1-30-3_PISCO2_20241127-0510\n",
      "EcoTaxa directory /home/veit/PIScO_dev/Segmentation_results/SO308/SO308-PISCO-Profiles/TempResults/SO308_1-30-3_PISCO2_20241127-0510/SO308_1-30-3_PISCO2_20241127-0510_Results/EcoTaxa already exists. Skipping profile SO308_1-30-3_PISCO2_20241127-0510.\n",
      "SO308_1-2-5_PISCO2_20241105-0723\n",
      "EcoTaxa directory /home/veit/PIScO_dev/Segmentation_results/SO308/SO308-PISCO-Profiles/TempResults/SO308_1-2-5_PISCO2_20241105-0723/SO308_1-2-5_PISCO2_20241105-0723_Results/EcoTaxa already exists. Skipping profile SO308_1-2-5_PISCO2_20241105-0723.\n",
      "SO308_1-23-1_PISCO2_20241119-1112\n",
      "EcoTaxa directory /home/veit/PIScO_dev/Segmentation_results/SO308/SO308-PISCO-Profiles/TempResults/SO308_1-23-1_PISCO2_20241119-1112/SO308_1-23-1_PISCO2_20241119-1112_Results/EcoTaxa already exists. Skipping profile SO308_1-23-1_PISCO2_20241119-1112.\n",
      "._.DS_Store\n",
      "SO308_1-1-2_PISCO2_20241104-1921\n",
      "EcoTaxa directory /home/veit/PIScO_dev/Segmentation_results/SO308/SO308-PISCO-Profiles/TempResults/SO308_1-1-2_PISCO2_20241104-1921/SO308_1-1-2_PISCO2_20241104-1921_Results/EcoTaxa already exists. Skipping profile SO308_1-1-2_PISCO2_20241104-1921.\n",
      "SO308_1-19-3_PISCO2_20241115-2022\n",
      "EcoTaxa directory /home/veit/PIScO_dev/Segmentation_results/SO308/SO308-PISCO-Profiles/TempResults/SO308_1-19-3_PISCO2_20241115-2022/SO308_1-19-3_PISCO2_20241115-2022_Results/EcoTaxa already exists. Skipping profile SO308_1-19-3_PISCO2_20241115-2022.\n",
      "SO308_1-27-4_PISCO2_20241124-0449\n",
      "EcoTaxa directory /home/veit/PIScO_dev/Segmentation_results/SO308/SO308-PISCO-Profiles/TempResults/SO308_1-27-4_PISCO2_20241124-0449/SO308_1-27-4_PISCO2_20241124-0449_Results/EcoTaxa already exists. Skipping profile SO308_1-27-4_PISCO2_20241124-0449.\n",
      "SO308_1-13-5_PISCO2_20241111-1023\n",
      "EcoTaxa directory /home/veit/PIScO_dev/Segmentation_results/SO308/SO308-PISCO-Profiles/TempResults/SO308_1-13-5_PISCO2_20241111-1023/SO308_1-13-5_PISCO2_20241111-1023_Results/EcoTaxa already exists. Skipping profile SO308_1-13-5_PISCO2_20241111-1023.\n",
      "SO308_0-0_PISCO2_20241104-0610\n"
     ]
    },
    {
     "name": "stderr",
     "output_type": "stream",
     "text": [
      "100%|██████████| 37714/37714 [01:23<00:00, 454.14it/s]\n"
     ]
    },
    {
     "name": "stdout",
     "output_type": "stream",
     "text": [
      "24994\n"
     ]
    },
    {
     "name": "stderr",
     "output_type": "stream",
     "text": [
      "2025-06-27 15:49:44,290 - crop_df created\n"
     ]
    },
    {
     "name": "stdout",
     "output_type": "stream",
     "text": [
      "   cruise dship_id instrument  pressure [dbar]          date-time  index  \\\n",
      "3   SO308      0-0     PISCO2             9.62  20241104-06185090      2   \n",
      "9   SO308      0-0     PISCO2             9.62  20241104-06185090      8   \n",
      "26  SO308      0-0     PISCO2             9.62  20241104-06202990      5   \n",
      "29  SO308      0-0     PISCO2             9.62  20241104-06202990      8   \n",
      "99  SO308      0-0     PISCO2             9.63  20241104-06154350     64   \n",
      "\n",
      "       lat      lon  temperature  img_id  ... object_boundbox_area  \\\n",
      "3   26.14S  034.71E        21.95       2  ...               3864.0   \n",
      "9   26.14S  034.71E        21.95       2  ...               4100.0   \n",
      "26  26.14S  034.71E        22.18       5  ...               3240.0   \n",
      "29  26.14S  034.71E        22.18       5  ...              19352.0   \n",
      "99  26.14S  034.71E        21.70       9  ...              15444.0   \n",
      "\n",
      "    object_eccentricity  object_equivalent_diameter  object_euler_nr  \\\n",
      "3              0.987445                   30.172277              1.0   \n",
      "9              0.961720                   39.878267              2.0   \n",
      "26             0.957071                   29.790065              1.0   \n",
      "29             0.990839                   65.543194              1.0   \n",
      "99             0.997914                   41.474650              1.0   \n",
      "\n",
      "    object_extent  object_local_centroid_col  object_local_centroid_row  \\\n",
      "3        0.185041                  30.697902                  26.113287   \n",
      "9        0.304634                  40.665332                  19.385909   \n",
      "26       0.215123                  37.352941                  23.533716   \n",
      "29       0.174349                  84.453468                  50.243331   \n",
      "99       0.087477                  46.138416                  69.065877   \n",
      "\n",
      "    object_solidity                                          full_path  \\\n",
      "3          0.505300  /home/veit/PIScO_dev/Segmentation_results/SO30...   \n",
      "9          0.551435  /home/veit/PIScO_dev/Segmentation_results/SO30...   \n",
      "26         0.527231  /home/veit/PIScO_dev/Segmentation_results/SO30...   \n",
      "29         0.629243  /home/veit/PIScO_dev/Segmentation_results/SO30...   \n",
      "99         0.586372  /home/veit/PIScO_dev/Segmentation_results/SO30...   \n",
      "\n",
      "        esd  \n",
      "3    695.74  \n",
      "9    931.09  \n",
      "26   653.78  \n",
      "29  1619.88  \n",
      "99   997.51  \n",
      "\n",
      "[5 rows x 55 columns]\n",
      "5605 files were empty and were dropped; Number of uniue images: 24994\n",
      "91166 particles found.\n",
      "0 crops removed due to aspect ratio\n",
      "adding ctd data.../mnt/filer/SO308/ADCP-ETC/CTD/SO308_ctd_files/son_308_1_001.ctd\n"
     ]
    },
    {
     "name": "stderr",
     "output_type": "stream",
     "text": [
      "/home/veit/PIScO_dev/ImageProcessing/analyze_profiles_seavision.py:331: FutureWarning: The 'delim_whitespace' keyword in pd.read_csv is deprecated and will be removed in a future version. Use ``sep='\\s+'`` instead\n",
      "  ctd_df = pd.read_csv(ctd_data_loc,\n",
      "2025-06-27 15:49:52,949 - CTD data added to crop_df\n",
      "2025-06-27 15:49:53,033 - Reading log file: /mnt/filer/SO308/PISCO-Logfiles/PISCO-LOGFILES/Logfiles/20241104_06h_09m__Templog.txt\n",
      "2025-06-27 15:49:53,036 - Unexpected TT line format: b'TT_20.69_T1_20.69_T2_20.31_C1_27.25_C2_26.81_TH_20.69_PWM_0_ki_0.00_kp_70.0k_.'. Parsing TT data: ['TT', '20.69', 'T1', '20.69', 'T2', '20.31', 'C1', '27.25', 'C2', '26.81', 'TH', '20.69', 'PWM', '0', 'ki', '0.00', 'kp', '70.0k', '.'], number of values: 19\n",
      "2025-06-27 15:49:53,036 - skipping line in file /mnt/filer/SO308/PISCO-Logfiles/PISCO-LOGFILES/Logfiles/20241104_06h_09m__Templog.txt: b'TT_20.69_T1_20.69_T2_20.31_C1_27.25_C2_26.81_TH_20.69_PWM_0_ki_0.00_kp_70.0k_.'\n"
     ]
    },
    {
     "name": "stdout",
     "output_type": "stream",
     "text": [
      "adding log info...\n",
      "Closest logfile: 20241104_06h_09m__Templog.txt, Size: 478595 bytes\n"
     ]
    },
    {
     "name": "stderr",
     "output_type": "stream",
     "text": [
      "/home/veit/PIScO_dev/ImageProcessing/analyze_profiles_seavision.py:1057: FutureWarning: Downcasting object dtype arrays on .fillna, .ffill, .bfill is deprecated and will change in a future version. Call result.infer_objects(copy=False) instead. To opt-in to the future behavior, set `pd.set_option('future.no_silent_downcasting', True)`\n",
      "  df[['restart', 'relock']] = df[['restart', 'relock']].fillna(False).astype(bool)\n"
     ]
    },
    {
     "name": "stdout",
     "output_type": "stream",
     "text": [
      "92248 particles after adding log data.\n",
      "5055 crops removed due to TAG events\n",
      "7711 crops removed due to particle count based filter\n",
      "79482 crops remaining after filtering\n",
      "78881 crops after removing duplicates\n",
      "Processing 1 groups for /home/veit/PIScO_dev/Segmentation_results/SO308/SO308-PISCO-Profiles/TempResults/SO308_0-0_PISCO2_20241104-0610/SO308_0-0_PISCO2_20241104-0610_Results/Crops\n",
      "Created zip file from source folder: /home/veit/PIScO_dev/Segmentation_results/SO308/SO308-PISCO-Profiles/TempResults/SO308_0-0_PISCO2_20241104-0610/SO308_0-0_PISCO2_20241104-0610_Results/EcoTaxa/crops.zip\n",
      "Processing 1 groups for /home/veit/PIScO_dev/Segmentation_results/SO308/SO308-PISCO-Profiles/TempResults/SO308_0-0_PISCO2_20241104-0610/SO308_0-0_PISCO2_20241104-0610_Results/Deconv_crops\n",
      "Created zip file from source folder: /home/veit/PIScO_dev/Segmentation_results/SO308/SO308-PISCO-Profiles/TempResults/SO308_0-0_PISCO2_20241104-0610/SO308_0-0_PISCO2_20241104-0610_Results/EcoTaxa/deconv_crops.zip\n",
      "SO308_1-44-1_PISCO2_20241212-2254\n",
      "EcoTaxa directory /home/veit/PIScO_dev/Segmentation_results/SO308/SO308-PISCO-Profiles/TempResults/SO308_1-44-1_PISCO2_20241212-2254/SO308_1-44-1_PISCO2_20241212-2254_Results/EcoTaxa already exists. Skipping profile SO308_1-44-1_PISCO2_20241212-2254.\n",
      "SO308_1-15-1_PISCO2_20241112-2304\n",
      "EcoTaxa directory /home/veit/PIScO_dev/Segmentation_results/SO308/SO308-PISCO-Profiles/TempResults/SO308_1-15-1_PISCO2_20241112-2304/SO308_1-15-1_PISCO2_20241112-2304_Results/EcoTaxa already exists. Skipping profile SO308_1-15-1_PISCO2_20241112-2304.\n",
      "SO308_1-35-1_PISCO2_20241204-1334\n",
      "EcoTaxa directory /home/veit/PIScO_dev/Segmentation_results/SO308/SO308-PISCO-Profiles/TempResults/SO308_1-35-1_PISCO2_20241204-1334/SO308_1-35-1_PISCO2_20241204-1334_Results/EcoTaxa already exists. Skipping profile SO308_1-35-1_PISCO2_20241204-1334.\n",
      "SO308_1-21-3_PISCO2_20241117-1222\n",
      "EcoTaxa directory /home/veit/PIScO_dev/Segmentation_results/SO308/SO308-PISCO-Profiles/TempResults/SO308_1-21-3_PISCO2_20241117-1222/SO308_1-21-3_PISCO2_20241117-1222_Results/EcoTaxa already exists. Skipping profile SO308_1-21-3_PISCO2_20241117-1222.\n",
      "SO308_1-33-4_PISCO2_20241202-0239\n",
      "EcoTaxa directory /home/veit/PIScO_dev/Segmentation_results/SO308/SO308-PISCO-Profiles/TempResults/SO308_1-33-4_PISCO2_20241202-0239/SO308_1-33-4_PISCO2_20241202-0239_Results/EcoTaxa already exists. Skipping profile SO308_1-33-4_PISCO2_20241202-0239.\n",
      "SO308_1-22-3_PISCO2_20241118-1532\n",
      "EcoTaxa directory /home/veit/PIScO_dev/Segmentation_results/SO308/SO308-PISCO-Profiles/TempResults/SO308_1-22-3_PISCO2_20241118-1532/SO308_1-22-3_PISCO2_20241118-1532_Results/EcoTaxa already exists. Skipping profile SO308_1-22-3_PISCO2_20241118-1532.\n",
      "SO308_1-35-3_PISCO2_20241205-0119\n",
      "EcoTaxa directory /home/veit/PIScO_dev/Segmentation_results/SO308/SO308-PISCO-Profiles/TempResults/SO308_1-35-3_PISCO2_20241205-0119/SO308_1-35-3_PISCO2_20241205-0119_Results/EcoTaxa already exists. Skipping profile SO308_1-35-3_PISCO2_20241205-0119.\n",
      "SO308_1-51-5_PISCO2_20241219-0116\n",
      "EcoTaxa directory /home/veit/PIScO_dev/Segmentation_results/SO308/SO308-PISCO-Profiles/TempResults/SO308_1-51-5_PISCO2_20241219-0116/SO308_1-51-5_PISCO2_20241219-0116_Results/EcoTaxa already exists. Skipping profile SO308_1-51-5_PISCO2_20241219-0116.\n",
      "SO308_1-51-1_PISCO2_20241218-2258\n",
      "EcoTaxa directory /home/veit/PIScO_dev/Segmentation_results/SO308/SO308-PISCO-Profiles/TempResults/SO308_1-51-1_PISCO2_20241218-2258/SO308_1-51-1_PISCO2_20241218-2258_Results/EcoTaxa already exists. Skipping profile SO308_1-51-1_PISCO2_20241218-2258.\n",
      "SO308_1-3-2_PISCO2_20241105-1458\n",
      "EcoTaxa directory /home/veit/PIScO_dev/Segmentation_results/SO308/SO308-PISCO-Profiles/TempResults/SO308_1-3-2_PISCO2_20241105-1458/SO308_1-3-2_PISCO2_20241105-1458_Results/EcoTaxa already exists. Skipping profile SO308_1-3-2_PISCO2_20241105-1458.\n",
      "SO308_1-46-4_PISCO2_20241214-0819\n",
      "EcoTaxa directory /home/veit/PIScO_dev/Segmentation_results/SO308/SO308-PISCO-Profiles/TempResults/SO308_1-46-4_PISCO2_20241214-0819/SO308_1-46-4_PISCO2_20241214-0819_Results/EcoTaxa already exists. Skipping profile SO308_1-46-4_PISCO2_20241214-0819.\n",
      "SO308_1-42-5_PISCO2_20241211-1125\n",
      "EcoTaxa directory /home/veit/PIScO_dev/Segmentation_results/SO308/SO308-PISCO-Profiles/TempResults/SO308_1-42-5_PISCO2_20241211-1125/SO308_1-42-5_PISCO2_20241211-1125_Results/EcoTaxa already exists. Skipping profile SO308_1-42-5_PISCO2_20241211-1125.\n",
      "SO308_1-25-3_PISCO2_20241122-0658\n",
      "EcoTaxa directory /home/veit/PIScO_dev/Segmentation_results/SO308/SO308-PISCO-Profiles/TempResults/SO308_1-25-3_PISCO2_20241122-0658/SO308_1-25-3_PISCO2_20241122-0658_Results/EcoTaxa already exists. Skipping profile SO308_1-25-3_PISCO2_20241122-0658.\n",
      "SO308_1-2-2_PISCO2_20241105-0601\n",
      "EcoTaxa directory /home/veit/PIScO_dev/Segmentation_results/SO308/SO308-PISCO-Profiles/TempResults/SO308_1-2-2_PISCO2_20241105-0601/SO308_1-2-2_PISCO2_20241105-0601_Results/EcoTaxa already exists. Skipping profile SO308_1-2-2_PISCO2_20241105-0601.\n",
      "SO308_1-22-4_PISCO2_20241118-1628\n",
      "EcoTaxa directory /home/veit/PIScO_dev/Segmentation_results/SO308/SO308-PISCO-Profiles/TempResults/SO308_1-22-4_PISCO2_20241118-1628/SO308_1-22-4_PISCO2_20241118-1628_Results/EcoTaxa already exists. Skipping profile SO308_1-22-4_PISCO2_20241118-1628.\n",
      "SO308_1-48-1_PISCO2_20241216-0104\n",
      "EcoTaxa directory /home/veit/PIScO_dev/Segmentation_results/SO308/SO308-PISCO-Profiles/TempResults/SO308_1-48-1_PISCO2_20241216-0104/SO308_1-48-1_PISCO2_20241216-0104_Results/EcoTaxa already exists. Skipping profile SO308_1-48-1_PISCO2_20241216-0104.\n",
      ".DS_Store\n",
      "SO308_18-1_PISCO2_20241114-2306\n",
      "EcoTaxa directory /home/veit/PIScO_dev/Segmentation_results/SO308/SO308-PISCO-Profiles/TempResults/SO308_18-1_PISCO2_20241114-2306/SO308_18-1_PISCO2_20241114-2306_Results/EcoTaxa already exists. Skipping profile SO308_18-1_PISCO2_20241114-2306.\n",
      "SO308_1-10-1_PISCO2_20241108-2302\n",
      "EcoTaxa directory /home/veit/PIScO_dev/Segmentation_results/SO308/SO308-PISCO-Profiles/TempResults/SO308_1-10-1_PISCO2_20241108-2302/SO308_1-10-1_PISCO2_20241108-2302_Results/EcoTaxa already exists. Skipping profile SO308_1-10-1_PISCO2_20241108-2302.\n",
      "SO308_1-12-3_PISCO2_20241110-1523\n",
      "EcoTaxa directory /home/veit/PIScO_dev/Segmentation_results/SO308/SO308-PISCO-Profiles/TempResults/SO308_1-12-3_PISCO2_20241110-1523/SO308_1-12-3_PISCO2_20241110-1523_Results/EcoTaxa already exists. Skipping profile SO308_1-12-3_PISCO2_20241110-1523.\n",
      "SO308_1-7-1_PISCO2_20241107-0429\n",
      "EcoTaxa directory /home/veit/PIScO_dev/Segmentation_results/SO308/SO308-PISCO-Profiles/TempResults/SO308_1-7-1_PISCO2_20241107-0429/SO308_1-7-1_PISCO2_20241107-0429_Results/EcoTaxa already exists. Skipping profile SO308_1-7-1_PISCO2_20241107-0429.\n",
      "SO308_1-13-4_PISCO2_20241111-0925\n",
      "EcoTaxa directory /home/veit/PIScO_dev/Segmentation_results/SO308/SO308-PISCO-Profiles/TempResults/SO308_1-13-4_PISCO2_20241111-0925/SO308_1-13-4_PISCO2_20241111-0925_Results/EcoTaxa already exists. Skipping profile SO308_1-13-4_PISCO2_20241111-0925.\n",
      "SO308_1-21-1_PISCO2_20241117-0624\n",
      "EcoTaxa directory /home/veit/PIScO_dev/Segmentation_results/SO308/SO308-PISCO-Profiles/TempResults/SO308_1-21-1_PISCO2_20241117-0624/SO308_1-21-1_PISCO2_20241117-0624_Results/EcoTaxa already exists. Skipping profile SO308_1-21-1_PISCO2_20241117-0624.\n",
      "SO308_1-27-1_PISCO2_20241123-2221\n",
      "EcoTaxa directory /home/veit/PIScO_dev/Segmentation_results/SO308/SO308-PISCO-Profiles/TempResults/SO308_1-27-1_PISCO2_20241123-2221/SO308_1-27-1_PISCO2_20241123-2221_Results/EcoTaxa already exists. Skipping profile SO308_1-27-1_PISCO2_20241123-2221.\n",
      "SO308_1-9-1_PISCO2_20241108-0656\n",
      "EcoTaxa directory /home/veit/PIScO_dev/Segmentation_results/SO308/SO308-PISCO-Profiles/TempResults/SO308_1-9-1_PISCO2_20241108-0656/SO308_1-9-1_PISCO2_20241108-0656_Results/EcoTaxa already exists. Skipping profile SO308_1-9-1_PISCO2_20241108-0656.\n",
      "SO308_1-9-3_PISCO2_20241108-1005\n",
      "EcoTaxa directory /home/veit/PIScO_dev/Segmentation_results/SO308/SO308-PISCO-Profiles/TempResults/SO308_1-9-3_PISCO2_20241108-1005/SO308_1-9-3_PISCO2_20241108-1005_Results/EcoTaxa already exists. Skipping profile SO308_1-9-3_PISCO2_20241108-1005.\n",
      "SO308_1-6-1_PISCO2_20241106-2349\n",
      "EcoTaxa directory /home/veit/PIScO_dev/Segmentation_results/SO308/SO308-PISCO-Profiles/TempResults/SO308_1-6-1_PISCO2_20241106-2349/SO308_1-6-1_PISCO2_20241106-2349_Results/EcoTaxa already exists. Skipping profile SO308_1-6-1_PISCO2_20241106-2349.\n",
      "SO308_1-35-4_PISCO2_20241205-0216\n",
      "EcoTaxa directory /home/veit/PIScO_dev/Segmentation_results/SO308/SO308-PISCO-Profiles/TempResults/SO308_1-35-4_PISCO2_20241205-0216/SO308_1-35-4_PISCO2_20241205-0216_Results/EcoTaxa already exists. Skipping profile SO308_1-35-4_PISCO2_20241205-0216.\n",
      "SO308_1-31-3_PISCO2_20241128-1437\n",
      "EcoTaxa directory /home/veit/PIScO_dev/Segmentation_results/SO308/SO308-PISCO-Profiles/TempResults/SO308_1-31-3_PISCO2_20241128-1437/SO308_1-31-3_PISCO2_20241128-1437_Results/EcoTaxa already exists. Skipping profile SO308_1-31-3_PISCO2_20241128-1437.\n",
      "SO308_1-39-1_PISCO2_20241209-0258\n",
      "EcoTaxa directory /home/veit/PIScO_dev/Segmentation_results/SO308/SO308-PISCO-Profiles/TempResults/SO308_1-39-1_PISCO2_20241209-0258/SO308_1-39-1_PISCO2_20241209-0258_Results/EcoTaxa already exists. Skipping profile SO308_1-39-1_PISCO2_20241209-0258.\n",
      "SO308_1-50-4_PISCO2_20241218-0235\n",
      "EcoTaxa directory /home/veit/PIScO_dev/Segmentation_results/SO308/SO308-PISCO-Profiles/TempResults/SO308_1-50-4_PISCO2_20241218-0235/SO308_1-50-4_PISCO2_20241218-0235_Results/EcoTaxa already exists. Skipping profile SO308_1-50-4_PISCO2_20241218-0235.\n",
      "SO308_1-23-3_PISCO2_20241119-1835\n",
      "EcoTaxa directory /home/veit/PIScO_dev/Segmentation_results/SO308/SO308-PISCO-Profiles/TempResults/SO308_1-23-3_PISCO2_20241119-1835/SO308_1-23-3_PISCO2_20241119-1835_Results/EcoTaxa already exists. Skipping profile SO308_1-23-3_PISCO2_20241119-1835.\n",
      "SO308_1-33-5_PISCO2_20241202-0352\n",
      "EcoTaxa directory /home/veit/PIScO_dev/Segmentation_results/SO308/SO308-PISCO-Profiles/TempResults/SO308_1-33-5_PISCO2_20241202-0352/SO308_1-33-5_PISCO2_20241202-0352_Results/EcoTaxa already exists. Skipping profile SO308_1-33-5_PISCO2_20241202-0352.\n",
      "SO308_1-36-3_PISCO2_20241206-0820\n",
      "EcoTaxa directory /home/veit/PIScO_dev/Segmentation_results/SO308/SO308-PISCO-Profiles/TempResults/SO308_1-36-3_PISCO2_20241206-0820/SO308_1-36-3_PISCO2_20241206-0820_Results/EcoTaxa already exists. Skipping profile SO308_1-36-3_PISCO2_20241206-0820.\n",
      "SO308_1-31-6_PISCO2_20241128-1915\n",
      "EcoTaxa directory /home/veit/PIScO_dev/Segmentation_results/SO308/SO308-PISCO-Profiles/TempResults/SO308_1-31-6_PISCO2_20241128-1915/SO308_1-31-6_PISCO2_20241128-1915_Results/EcoTaxa already exists. Skipping profile SO308_1-31-6_PISCO2_20241128-1915.\n",
      "SO308_1-19-4_PISCO2_20241115-2125\n",
      "EcoTaxa directory /home/veit/PIScO_dev/Segmentation_results/SO308/SO308-PISCO-Profiles/TempResults/SO308_1-19-4_PISCO2_20241115-2125/SO308_1-19-4_PISCO2_20241115-2125_Results/EcoTaxa already exists. Skipping profile SO308_1-19-4_PISCO2_20241115-2125.\n",
      "SO308_1-8-1_PISCO2_20241107-1142\n",
      "EcoTaxa directory /home/veit/PIScO_dev/Segmentation_results/SO308/SO308-PISCO-Profiles/TempResults/SO308_1-8-1_PISCO2_20241107-1142/SO308_1-8-1_PISCO2_20241107-1142_Results/EcoTaxa already exists. Skipping profile SO308_1-8-1_PISCO2_20241107-1142.\n",
      "SO308_1-46-5_PISCO2_20241214-0916\n",
      "EcoTaxa directory /home/veit/PIScO_dev/Segmentation_results/SO308/SO308-PISCO-Profiles/TempResults/SO308_1-46-5_PISCO2_20241214-0916/SO308_1-46-5_PISCO2_20241214-0916_Results/EcoTaxa already exists. Skipping profile SO308_1-46-5_PISCO2_20241214-0916.\n",
      "SO308_1-16-4_PISCO2_20241113-1811\n",
      "EcoTaxa directory /home/veit/PIScO_dev/Segmentation_results/SO308/SO308-PISCO-Profiles/TempResults/SO308_1-16-4_PISCO2_20241113-1811/SO308_1-16-4_PISCO2_20241113-1811_Results/EcoTaxa already exists. Skipping profile SO308_1-16-4_PISCO2_20241113-1811.\n",
      "SO308_1-34-1_PISCO2_20241203-0637\n",
      "EcoTaxa directory /home/veit/PIScO_dev/Segmentation_results/SO308/SO308-PISCO-Profiles/TempResults/SO308_1-34-1_PISCO2_20241203-0637/SO308_1-34-1_PISCO2_20241203-0637_Results/EcoTaxa already exists. Skipping profile SO308_1-34-1_PISCO2_20241203-0637.\n",
      "SO308_1-5-1_PISCO2_20241106-1526\n",
      "EcoTaxa directory /home/veit/PIScO_dev/Segmentation_results/SO308/SO308-PISCO-Profiles/TempResults/SO308_1-5-1_PISCO2_20241106-1526/SO308_1-5-1_PISCO2_20241106-1526_Results/EcoTaxa already exists. Skipping profile SO308_1-5-1_PISCO2_20241106-1526.\n",
      "SO308_1-26-4_PISCO2_20241123-0820\n",
      "EcoTaxa directory /home/veit/PIScO_dev/Segmentation_results/SO308/SO308-PISCO-Profiles/TempResults/SO308_1-26-4_PISCO2_20241123-0820/SO308_1-26-4_PISCO2_20241123-0820_Results/EcoTaxa already exists. Skipping profile SO308_1-26-4_PISCO2_20241123-0820.\n",
      "SO308_1-17-1_PISCO2_20241114-0737\n",
      "EcoTaxa directory /home/veit/PIScO_dev/Segmentation_results/SO308/SO308-PISCO-Profiles/TempResults/SO308_1-17-1_PISCO2_20241114-0737/SO308_1-17-1_PISCO2_20241114-0737_Results/EcoTaxa already exists. Skipping profile SO308_1-17-1_PISCO2_20241114-0737.\n",
      "SO308_1-31-1_PISCO2_20241128-0804\n",
      "EcoTaxa directory /home/veit/PIScO_dev/Segmentation_results/SO308/SO308-PISCO-Profiles/TempResults/SO308_1-31-1_PISCO2_20241128-0804/SO308_1-31-1_PISCO2_20241128-0804_Results/EcoTaxa already exists. Skipping profile SO308_1-31-1_PISCO2_20241128-0804.\n",
      "SO308_1-46-1_PISCO2_20241214-0529\n",
      "EcoTaxa directory /home/veit/PIScO_dev/Segmentation_results/SO308/SO308-PISCO-Profiles/TempResults/SO308_1-46-1_PISCO2_20241214-0529/SO308_1-46-1_PISCO2_20241214-0529_Results/EcoTaxa already exists. Skipping profile SO308_1-46-1_PISCO2_20241214-0529.\n",
      "SO308_1-13-1_PISCO2_20241111-0130\n",
      "EcoTaxa directory /home/veit/PIScO_dev/Segmentation_results/SO308/SO308-PISCO-Profiles/TempResults/SO308_1-13-1_PISCO2_20241111-0130/SO308_1-13-1_PISCO2_20241111-0130_Results/EcoTaxa already exists. Skipping profile SO308_1-13-1_PISCO2_20241111-0130.\n",
      "SO308_1-40-5_PISCO2_20241210-0851\n",
      "EcoTaxa directory /home/veit/PIScO_dev/Segmentation_results/SO308/SO308-PISCO-Profiles/TempResults/SO308_1-40-5_PISCO2_20241210-0851/SO308_1-40-5_PISCO2_20241210-0851_Results/EcoTaxa already exists. Skipping profile SO308_1-40-5_PISCO2_20241210-0851.\n",
      "SO308_1-28-4_PISCO2_20241125-0128\n",
      "EcoTaxa directory /home/veit/PIScO_dev/Segmentation_results/SO308/SO308-PISCO-Profiles/TempResults/SO308_1-28-4_PISCO2_20241125-0128/SO308_1-28-4_PISCO2_20241125-0128_Results/EcoTaxa already exists. Skipping profile SO308_1-28-4_PISCO2_20241125-0128.\n",
      "SO308_1-7-3_PISCO2_20241107-0546\n",
      "EcoTaxa directory /home/veit/PIScO_dev/Segmentation_results/SO308/SO308-PISCO-Profiles/TempResults/SO308_1-7-3_PISCO2_20241107-0546/SO308_1-7-3_PISCO2_20241107-0546_Results/EcoTaxa already exists. Skipping profile SO308_1-7-3_PISCO2_20241107-0546.\n",
      "SO308_1-19-1_PISCO2_20241115-1249\n",
      "EcoTaxa directory /home/veit/PIScO_dev/Segmentation_results/SO308/SO308-PISCO-Profiles/TempResults/SO308_1-19-1_PISCO2_20241115-1249/SO308_1-19-1_PISCO2_20241115-1249_Results/EcoTaxa already exists. Skipping profile SO308_1-19-1_PISCO2_20241115-1249.\n",
      "SO308_1-35-4_PISCO2_20241113-1707\n",
      "EcoTaxa directory /home/veit/PIScO_dev/Segmentation_results/SO308/SO308-PISCO-Profiles/TempResults/SO308_1-35-4_PISCO2_20241113-1707/SO308_1-35-4_PISCO2_20241113-1707_Results/EcoTaxa already exists. Skipping profile SO308_1-35-4_PISCO2_20241113-1707.\n",
      "SO308_1-41-3_PISCO2_20241210-2216\n",
      "EcoTaxa directory /home/veit/PIScO_dev/Segmentation_results/SO308/SO308-PISCO-Profiles/TempResults/SO308_1-41-3_PISCO2_20241210-2216/SO308_1-41-3_PISCO2_20241210-2216_Results/EcoTaxa already exists. Skipping profile SO308_1-41-3_PISCO2_20241210-2216.\n",
      "SO308_1-50-2_PISCO2_20241218-0054\n",
      "EcoTaxa directory /home/veit/PIScO_dev/Segmentation_results/SO308/SO308-PISCO-Profiles/TempResults/SO308_1-50-2_PISCO2_20241218-0054/SO308_1-50-2_PISCO2_20241218-0054_Results/EcoTaxa already exists. Skipping profile SO308_1-50-2_PISCO2_20241218-0054.\n",
      "SO308_1-49-1_PISCO2_20241216-2353\n",
      "EcoTaxa directory /home/veit/PIScO_dev/Segmentation_results/SO308/SO308-PISCO-Profiles/TempResults/SO308_1-49-1_PISCO2_20241216-2353/SO308_1-49-1_PISCO2_20241216-2353_Results/EcoTaxa already exists. Skipping profile SO308_1-49-1_PISCO2_20241216-2353.\n",
      "SO308_1-25-1_PISCO2_20241122-0153\n",
      "EcoTaxa directory /home/veit/PIScO_dev/Segmentation_results/SO308/SO308-PISCO-Profiles/TempResults/SO308_1-25-1_PISCO2_20241122-0153/SO308_1-25-1_PISCO2_20241122-0153_Results/EcoTaxa already exists. Skipping profile SO308_1-25-1_PISCO2_20241122-0153.\n",
      "SO308_1-30-1_PISCO2_20241127-0146\n",
      "EcoTaxa directory /home/veit/PIScO_dev/Segmentation_results/SO308/SO308-PISCO-Profiles/TempResults/SO308_1-30-1_PISCO2_20241127-0146/SO308_1-30-1_PISCO2_20241127-0146_Results/EcoTaxa already exists. Skipping profile SO308_1-30-1_PISCO2_20241127-0146.\n",
      "SO308_1-13-3_PISCO2_20241111-0508\n",
      "EcoTaxa directory /home/veit/PIScO_dev/Segmentation_results/SO308/SO308-PISCO-Profiles/TempResults/SO308_1-13-3_PISCO2_20241111-0508/SO308_1-13-3_PISCO2_20241111-0508_Results/EcoTaxa already exists. Skipping profile SO308_1-13-3_PISCO2_20241111-0508.\n",
      "SO308_1-42-4_PISCO2_20241211-1025\n",
      "EcoTaxa directory /home/veit/PIScO_dev/Segmentation_results/SO308/SO308-PISCO-Profiles/TempResults/SO308_1-42-4_PISCO2_20241211-1025/SO308_1-42-4_PISCO2_20241211-1025_Results/EcoTaxa already exists. Skipping profile SO308_1-42-4_PISCO2_20241211-1025.\n",
      "SO308_1-45-3_PISCO2_20241214-0043\n",
      "EcoTaxa directory /home/veit/PIScO_dev/Segmentation_results/SO308/SO308-PISCO-Profiles/TempResults/SO308_1-45-3_PISCO2_20241214-0043/SO308_1-45-3_PISCO2_20241214-0043_Results/EcoTaxa already exists. Skipping profile SO308_1-45-3_PISCO2_20241214-0043.\n",
      "SO308_1-36-5_PISCO2_20241206-1320\n",
      "EcoTaxa directory /home/veit/PIScO_dev/Segmentation_results/SO308/SO308-PISCO-Profiles/TempResults/SO308_1-36-5_PISCO2_20241206-1320/SO308_1-36-5_PISCO2_20241206-1320_Results/EcoTaxa already exists. Skipping profile SO308_1-36-5_PISCO2_20241206-1320.\n",
      "SO308_1-39-4_PISCO2_20241209-1202\n",
      "EcoTaxa directory /home/veit/PIScO_dev/Segmentation_results/SO308/SO308-PISCO-Profiles/TempResults/SO308_1-39-4_PISCO2_20241209-1202/SO308_1-39-4_PISCO2_20241209-1202_Results/EcoTaxa already exists. Skipping profile SO308_1-39-4_PISCO2_20241209-1202.\n",
      "SO308_1-47-3_PISCO2_20241215-0646\n",
      "EcoTaxa directory /home/veit/PIScO_dev/Segmentation_results/SO308/SO308-PISCO-Profiles/TempResults/SO308_1-47-3_PISCO2_20241215-0646/SO308_1-47-3_PISCO2_20241215-0646_Results/EcoTaxa already exists. Skipping profile SO308_1-47-3_PISCO2_20241215-0646.\n",
      "SO308_1-42-1_PISCO2_20241211-0907\n",
      "EcoTaxa directory /home/veit/PIScO_dev/Segmentation_results/SO308/SO308-PISCO-Profiles/TempResults/SO308_1-42-1_PISCO2_20241211-0907/SO308_1-42-1_PISCO2_20241211-0907_Results/EcoTaxa already exists. Skipping profile SO308_1-42-1_PISCO2_20241211-0907.\n",
      "SO308_1-1-6_PISCO2_20241104-2130\n",
      "EcoTaxa directory /home/veit/PIScO_dev/Segmentation_results/SO308/SO308-PISCO-Profiles/TempResults/SO308_1-1-6_PISCO2_20241104-2130/SO308_1-1-6_PISCO2_20241104-2130_Results/EcoTaxa already exists. Skipping profile SO308_1-1-6_PISCO2_20241104-2130.\n",
      "SO308_1-5-4_PISCO2_20241106-1634\n",
      "EcoTaxa directory /home/veit/PIScO_dev/Segmentation_results/SO308/SO308-PISCO-Profiles/TempResults/SO308_1-5-4_PISCO2_20241106-1634/SO308_1-5-4_PISCO2_20241106-1634_Results/EcoTaxa already exists. Skipping profile SO308_1-5-4_PISCO2_20241106-1634.\n",
      "SO308_1-32-1_PISCO2_20241130-0816\n",
      "EcoTaxa directory /home/veit/PIScO_dev/Segmentation_results/SO308/SO308-PISCO-Profiles/TempResults/SO308_1-32-1_PISCO2_20241130-0816/SO308_1-32-1_PISCO2_20241130-0816_Results/EcoTaxa already exists. Skipping profile SO308_1-32-1_PISCO2_20241130-0816.\n",
      "SO308_1-48-4_PISCO2_20241216-0716\n",
      "EcoTaxa directory /home/veit/PIScO_dev/Segmentation_results/SO308/SO308-PISCO-Profiles/TempResults/SO308_1-48-4_PISCO2_20241216-0716/SO308_1-48-4_PISCO2_20241216-0716_Results/EcoTaxa already exists. Skipping profile SO308_1-48-4_PISCO2_20241216-0716.\n",
      "SO308_1-27-3_PISCO2_20241124-0124\n",
      "EcoTaxa directory /home/veit/PIScO_dev/Segmentation_results/SO308/SO308-PISCO-Profiles/TempResults/SO308_1-27-3_PISCO2_20241124-0124/SO308_1-27-3_PISCO2_20241124-0124_Results/EcoTaxa already exists. Skipping profile SO308_1-27-3_PISCO2_20241124-0124.\n",
      "SO308_1-43-4_PISCO2_20241212-0534\n",
      "EcoTaxa directory /home/veit/PIScO_dev/Segmentation_results/SO308/SO308-PISCO-Profiles/TempResults/SO308_1-43-4_PISCO2_20241212-0534/SO308_1-43-4_PISCO2_20241212-0534_Results/EcoTaxa already exists. Skipping profile SO308_1-43-4_PISCO2_20241212-0534.\n",
      "SO308_1-17-2_PISCO2_20241114-0839\n",
      "EcoTaxa directory /home/veit/PIScO_dev/Segmentation_results/SO308/SO308-PISCO-Profiles/TempResults/SO308_1-17-2_PISCO2_20241114-0839/SO308_1-17-2_PISCO2_20241114-0839_Results/EcoTaxa already exists. Skipping profile SO308_1-17-2_PISCO2_20241114-0839.\n",
      "SO308_1-11-4_PISCO2_20241109-1925\n",
      "EcoTaxa directory /home/veit/PIScO_dev/Segmentation_results/SO308/SO308-PISCO-Profiles/TempResults/SO308_1-11-4_PISCO2_20241109-1925/SO308_1-11-4_PISCO2_20241109-1925_Results/EcoTaxa already exists. Skipping profile SO308_1-11-4_PISCO2_20241109-1925.\n",
      "SO308_1-33-3_PISCO2_20241202-0133\n",
      "EcoTaxa directory /home/veit/PIScO_dev/Segmentation_results/SO308/SO308-PISCO-Profiles/TempResults/SO308_1-33-3_PISCO2_20241202-0133/SO308_1-33-3_PISCO2_20241202-0133_Results/EcoTaxa already exists. Skipping profile SO308_1-33-3_PISCO2_20241202-0133.\n",
      "SO308_1-39-3_PISCO2_20241209-1101\n",
      "EcoTaxa directory /home/veit/PIScO_dev/Segmentation_results/SO308/SO308-PISCO-Profiles/TempResults/SO308_1-39-3_PISCO2_20241209-1101/SO308_1-39-3_PISCO2_20241209-1101_Results/EcoTaxa already exists. Skipping profile SO308_1-39-3_PISCO2_20241209-1101.\n",
      "SO308_1-48-3_PISCO2_20241216-0617\n",
      "EcoTaxa directory /home/veit/PIScO_dev/Segmentation_results/SO308/SO308-PISCO-Profiles/TempResults/SO308_1-48-3_PISCO2_20241216-0617/SO308_1-48-3_PISCO2_20241216-0617_Results/EcoTaxa already exists. Skipping profile SO308_1-48-3_PISCO2_20241216-0617.\n",
      "SO308_1-8-3_PISCO2_20241107-1509\n",
      "EcoTaxa directory /home/veit/PIScO_dev/Segmentation_results/SO308/SO308-PISCO-Profiles/TempResults/SO308_1-8-3_PISCO2_20241107-1509/SO308_1-8-3_PISCO2_20241107-1509_Results/EcoTaxa already exists. Skipping profile SO308_1-8-3_PISCO2_20241107-1509.\n",
      "SO308_1-37-1_PISCO2_20241207-0405\n",
      "EcoTaxa directory /home/veit/PIScO_dev/Segmentation_results/SO308/SO308-PISCO-Profiles/TempResults/SO308_1-37-1_PISCO2_20241207-0405/SO308_1-37-1_PISCO2_20241207-0405_Results/EcoTaxa already exists. Skipping profile SO308_1-37-1_PISCO2_20241207-0405.\n",
      "SO308_1-14-4_PISCO2_20241112-0944\n",
      "EcoTaxa directory /home/veit/PIScO_dev/Segmentation_results/SO308/SO308-PISCO-Profiles/TempResults/SO308_1-14-4_PISCO2_20241112-0944/SO308_1-14-4_PISCO2_20241112-0944_Results/EcoTaxa already exists. Skipping profile SO308_1-14-4_PISCO2_20241112-0944.\n",
      "SO308_1-8-4_PISCO2_20241107-1627\n",
      "EcoTaxa directory /home/veit/PIScO_dev/Segmentation_results/SO308/SO308-PISCO-Profiles/TempResults/SO308_1-8-4_PISCO2_20241107-1627/SO308_1-8-4_PISCO2_20241107-1627_Results/EcoTaxa already exists. Skipping profile SO308_1-8-4_PISCO2_20241107-1627.\n",
      "SO308_1-22-1_PISCO2_20241118-0559\n",
      "EcoTaxa directory /home/veit/PIScO_dev/Segmentation_results/SO308/SO308-PISCO-Profiles/TempResults/SO308_1-22-1_PISCO2_20241118-0559/SO308_1-22-1_PISCO2_20241118-0559_Results/EcoTaxa already exists. Skipping profile SO308_1-22-1_PISCO2_20241118-0559.\n",
      "SO308_1-49-4_PISCO2_20241217-0258\n",
      "EcoTaxa directory /home/veit/PIScO_dev/Segmentation_results/SO308/SO308-PISCO-Profiles/TempResults/SO308_1-49-4_PISCO2_20241217-0258/SO308_1-49-4_PISCO2_20241217-0258_Results/EcoTaxa already exists. Skipping profile SO308_1-49-4_PISCO2_20241217-0258.\n",
      "SO308_1-15-3_PISCO2_20241113-0409\n",
      "EcoTaxa directory /home/veit/PIScO_dev/Segmentation_results/SO308/SO308-PISCO-Profiles/TempResults/SO308_1-15-3_PISCO2_20241113-0409/SO308_1-15-3_PISCO2_20241113-0409_Results/EcoTaxa already exists. Skipping profile SO308_1-15-3_PISCO2_20241113-0409.\n",
      "SO308_1-41-1_PISCO2_20241210-2053\n",
      "EcoTaxa directory /home/veit/PIScO_dev/Segmentation_results/SO308/SO308-PISCO-Profiles/TempResults/SO308_1-41-1_PISCO2_20241210-2053/SO308_1-41-1_PISCO2_20241210-2053_Results/EcoTaxa already exists. Skipping profile SO308_1-41-1_PISCO2_20241210-2053.\n",
      "SO308_1-26-3_PISCO2_20241123-0720\n",
      "EcoTaxa directory /home/veit/PIScO_dev/Segmentation_results/SO308/SO308-PISCO-Profiles/TempResults/SO308_1-26-3_PISCO2_20241123-0720/SO308_1-26-3_PISCO2_20241123-0720_Results/EcoTaxa already exists. Skipping profile SO308_1-26-3_PISCO2_20241123-0720.\n",
      "SO308_1-40-3_PISCO2_20241210-0610\n",
      "EcoTaxa directory /home/veit/PIScO_dev/Segmentation_results/SO308/SO308-PISCO-Profiles/TempResults/SO308_1-40-3_PISCO2_20241210-0610/SO308_1-40-3_PISCO2_20241210-0610_Results/EcoTaxa already exists. Skipping profile SO308_1-40-3_PISCO2_20241210-0610.\n",
      "SO308_1-32-3_PISCO2_20241130-1251\n",
      "EcoTaxa directory /home/veit/PIScO_dev/Segmentation_results/SO308/SO308-PISCO-Profiles/TempResults/SO308_1-32-3_PISCO2_20241130-1251/SO308_1-32-3_PISCO2_20241130-1251_Results/EcoTaxa already exists. Skipping profile SO308_1-32-3_PISCO2_20241130-1251.\n",
      "SO308_1-20-3_PISCO2_20241116-2055\n",
      "EcoTaxa directory /home/veit/PIScO_dev/Segmentation_results/SO308/SO308-PISCO-Profiles/TempResults/SO308_1-20-3_PISCO2_20241116-2055/SO308_1-20-3_PISCO2_20241116-2055_Results/EcoTaxa already exists. Skipping profile SO308_1-20-3_PISCO2_20241116-2055.\n",
      "SO308_1-26-1_PISCO2_20241123-0219\n",
      "EcoTaxa directory /home/veit/PIScO_dev/Segmentation_results/SO308/SO308-PISCO-Profiles/TempResults/SO308_1-26-1_PISCO2_20241123-0219/SO308_1-26-1_PISCO2_20241123-0219_Results/EcoTaxa already exists. Skipping profile SO308_1-26-1_PISCO2_20241123-0219.\n",
      "SO308_1-50-1_PISCO2_20241217-2355\n",
      "EcoTaxa directory /home/veit/PIScO_dev/Segmentation_results/SO308/SO308-PISCO-Profiles/TempResults/SO308_1-50-1_PISCO2_20241217-2355/SO308_1-50-1_PISCO2_20241217-2355_Results/EcoTaxa already exists. Skipping profile SO308_1-50-1_PISCO2_20241217-2355.\n",
      "SO308_1-6-4_PISCO2_20241107-0052\n",
      "EcoTaxa directory /home/veit/PIScO_dev/Segmentation_results/SO308/SO308-PISCO-Profiles/TempResults/SO308_1-6-4_PISCO2_20241107-0052/SO308_1-6-4_PISCO2_20241107-0052_Results/EcoTaxa already exists. Skipping profile SO308_1-6-4_PISCO2_20241107-0052.\n",
      "SO308_1-28-2_PISCO2_20241124-2257\n",
      "EcoTaxa directory /home/veit/PIScO_dev/Segmentation_results/SO308/SO308-PISCO-Profiles/TempResults/SO308_1-28-2_PISCO2_20241124-2257/SO308_1-28-2_PISCO2_20241124-2257_Results/EcoTaxa already exists. Skipping profile SO308_1-28-2_PISCO2_20241124-2257.\n",
      "SO308_1-24-3_PISCO2_20241120-1805\n",
      "EcoTaxa directory /home/veit/PIScO_dev/Segmentation_results/SO308/SO308-PISCO-Profiles/TempResults/SO308_1-24-3_PISCO2_20241120-1805/SO308_1-24-3_PISCO2_20241120-1805_Results/EcoTaxa already exists. Skipping profile SO308_1-24-3_PISCO2_20241120-1805.\n",
      "SO308_1-44-4_PISCO2_20241213-0032\n",
      "EcoTaxa directory /home/veit/PIScO_dev/Segmentation_results/SO308/SO308-PISCO-Profiles/TempResults/SO308_1-44-4_PISCO2_20241213-0032/SO308_1-44-4_PISCO2_20241213-0032_Results/EcoTaxa already exists. Skipping profile SO308_1-44-4_PISCO2_20241213-0032.\n",
      "SO308_1-10-3_PISCO2_20241109-0155\n",
      "EcoTaxa directory /home/veit/PIScO_dev/Segmentation_results/SO308/SO308-PISCO-Profiles/TempResults/SO308_1-10-3_PISCO2_20241109-0155/SO308_1-10-3_PISCO2_20241109-0155_Results/EcoTaxa already exists. Skipping profile SO308_1-10-3_PISCO2_20241109-0155.\n",
      "SO308_1-31-4_PISCO2_20241128-1525\n",
      "EcoTaxa directory /home/veit/PIScO_dev/Segmentation_results/SO308/SO308-PISCO-Profiles/TempResults/SO308_1-31-4_PISCO2_20241128-1525/SO308_1-31-4_PISCO2_20241128-1525_Results/EcoTaxa already exists. Skipping profile SO308_1-31-4_PISCO2_20241128-1525.\n",
      "SO308_1-29-4_PISCO2_20241125-1930\n",
      "EcoTaxa directory /home/veit/PIScO_dev/Segmentation_results/SO308/SO308-PISCO-Profiles/TempResults/SO308_1-29-4_PISCO2_20241125-1930/SO308_1-29-4_PISCO2_20241125-1930_Results/EcoTaxa already exists. Skipping profile SO308_1-29-4_PISCO2_20241125-1930.\n",
      "SO308_1-47-5_PISCO2_20241215-1247\n",
      "EcoTaxa directory /home/veit/PIScO_dev/Segmentation_results/SO308/SO308-PISCO-Profiles/TempResults/SO308_1-47-5_PISCO2_20241215-1247/SO308_1-47-5_PISCO2_20241215-1247_Results/EcoTaxa already exists. Skipping profile SO308_1-47-5_PISCO2_20241215-1247.\n",
      "SO308_1-11-1_PISCO2_20241109-1330\n",
      "EcoTaxa directory /home/veit/PIScO_dev/Segmentation_results/SO308/SO308-PISCO-Profiles/TempResults/SO308_1-11-1_PISCO2_20241109-1330/SO308_1-11-1_PISCO2_20241109-1330_Results/EcoTaxa already exists. Skipping profile SO308_1-11-1_PISCO2_20241109-1330.\n",
      "SO308_1-24-1_PISCO2_20241120-1155\n",
      "EcoTaxa directory /home/veit/PIScO_dev/Segmentation_results/SO308/SO308-PISCO-Profiles/TempResults/SO308_1-24-1_PISCO2_20241120-1155/SO308_1-24-1_PISCO2_20241120-1155_Results/EcoTaxa already exists. Skipping profile SO308_1-24-1_PISCO2_20241120-1155.\n",
      "SO308_1-3-4_PISCO2_20241105-1610\n",
      "EcoTaxa directory /home/veit/PIScO_dev/Segmentation_results/SO308/SO308-PISCO-Profiles/TempResults/SO308_1-3-4_PISCO2_20241105-1610/SO308_1-3-4_PISCO2_20241105-1610_Results/EcoTaxa already exists. Skipping profile SO308_1-3-4_PISCO2_20241105-1610.\n"
     ]
    }
   ],
   "source": [
    "predict_ViT = False  # Set to True if you want to run the ViT predictions, False otherwise\n",
    "\n",
    "for profile in os.listdir(cruise_base):\n",
    "    print(profile)\n",
    "    profile_path = os.path.join(cruise_base, profile)\n",
    "    \n",
    "    if os.path.isdir(profile_path):\n",
    "        # Some variables\n",
    "        if cruise == \"M181\":\n",
    "            results_folder = os.path.join(intermediate_result_dir, profile)# M181\n",
    "        else:\n",
    "            results_folder = os.path.join(intermediate_result_dir, profile, profile+\"_Results\")\n",
    "       \n",
    "        # if \"crops_excluded\" in os.listdir(results_folder):\n",
    "        #     print(f\"Profile {profile} already processed. Skipping.\")\n",
    "        #     continue\n",
    "        if cruise == \"HE570\":\n",
    "            profile_id = profile.split('_')[1]+profile.split('_')[2]  # HE570 profile ID is the second and the third part of the profile name\n",
    "        elif cruise == \"M181\":\n",
    "            profile_id = profile.split('_')[0].split('-')[1]+'-'+profile.split('_')[0].split('-')[2]  # M181 Extract the profile ID from the profile name\n",
    "        else:\n",
    "            profile_id = profile.split('_')[1]  # Extract the profile ID from the profile name\n",
    "        \n",
    "        profile_data_dir = os.path.join(results_folder, 'Data')\n",
    "        ecotaxa_dir = os.path.join(results_folder, 'EcoTaxa')\n",
    "\n",
    "        if os.path.exists(ecotaxa_dir):\n",
    "            print(f\"EcoTaxa directory {ecotaxa_dir} already exists. Skipping profile {profile}.\")\n",
    "            continue\n",
    "\n",
    "        # Load the results of the segmenter\n",
    "        # and create a DataFrame with the particle data\n",
    "        df = ap.gen_crop_df(profile_data_dir, small=False, size_filter=0, cruise=cruise, pressure_unit=pressure_unit)\n",
    "        print(len(df.index), 'particles found.')\n",
    "        df['fullframe_path'] = df['full_path'].apply(ap.modify_full_path)\n",
    "        #\n",
    "        threshold_ratio = 0.005  # Define the aspect ratio threshold\n",
    "        print(len(df)-len(df[df['w'] >= threshold_ratio * df['h']]), 'crops removed due to aspect ratio')\n",
    "        df = df[df['w'] >= threshold_ratio * df['h']]\n",
    "\n",
    "        # Add ctd data to the DataFrame\n",
    "        # Get CTD profile ID\n",
    "        if ctd_dir is not None and os.path.exists(ctd_dir):\n",
    "            if cruise == \"M181\":\n",
    "                ctd_id = profile.split('_')[1].split('-')[1]   # M181 profile ID is the second part of the profile name\n",
    "            else:\n",
    "                ctd_id = ap.get_ctd_profile_id(cruise_base, profile)           \n",
    "            if ctd_id:\n",
    "                ctd_file = os.path.join(ctd_dir, f'{ctd_prefix}{ctd_id}.ctd')\n",
    "                print(f'adding ctd data...{ctd_file}')\n",
    "                # Check if the CTD file exists\n",
    "                if not os.path.exists(ctd_file):\n",
    "                    print(f\"CTD file {ctd_file} does not exist, skipping CTD data for profile {profile}.\")\n",
    "                    continue\n",
    "                df = ap.add_ctd_data(ctd_file, df)\n",
    "            else:\n",
    "                print(f\"Skipping CTD data for {profile}\")\n",
    "                continue\n",
    "\n",
    "        # Predict on deconvolved images  \n",
    "        if predict_ViT:\n",
    "            img_dir = os.path.join(results_folder, \"Deconv_crops\")  \n",
    "            ds_pisco = ap.load_unclassified_images(img_dir)\n",
    "\n",
    "            # Apply the transform to the dataset\n",
    "            ds_pisco_trans = ds_pisco.with_transform(ap.process_batch)\n",
    "\n",
    "            # Define model name and path to the saved model\n",
    "            model_dir = '/home/veit/PIScO_dev/ViT_custom_size_sensitive/best_model'\n",
    "\n",
    "            # Get predictions on the dataset in batches\n",
    "            # Using entropy-based OOD detection\n",
    "            filenames, predictions, probabilities, entropy_scores, ood_flags = ap.get_predictions_with_entropy_ood(\n",
    "                ds_pisco_trans, \n",
    "                model_dir, \n",
    "                entropy_threshold=0.9,  # Tune this threshold\n",
    "                temperature=1.5,        # Tune this parameter\n",
    "                batch_size=64\n",
    "            )\n",
    "            # Create DataFrame with OOD detection results\n",
    "            prediction_df = pd.DataFrame({\n",
    "                'filename': filenames,\n",
    "                'is_ood': ood_flags,\n",
    "                'entropy': entropy_scores,\n",
    "                'top1': [pred[0] for pred in predictions],\n",
    "                'top2': [pred[1] for pred in predictions],\n",
    "                'top3': [pred[2] for pred in predictions],\n",
    "                'top4': [pred[3] for pred in predictions],\n",
    "                'top5': [pred[4] for pred in predictions],\n",
    "                'prob1': [prob[0] for prob in probabilities],\n",
    "                'prob2': [prob[1] for prob in probabilities],\n",
    "                'prob3': [prob[2] for prob in probabilities],\n",
    "                'prob4': [prob[3] for prob in probabilities],\n",
    "                'prob5': [prob[4] for prob in probabilities]\n",
    "            })\n",
    "            prediction_df['filename'] = prediction_df['filename'].apply(os.path.basename)\n",
    "            result_path = os.path.join(results_folder, 'ViT_predictions.csv')\n",
    "            prediction_df.to_csv(result_path, index=False)\n",
    "            print(\"Predictions saved!\")\n",
    "\n",
    "            # Merge predictions with the main DataFrame\n",
    "            merged_df = pd.merge(\n",
    "                df,\n",
    "                prediction_df,\n",
    "                on='filename',\n",
    "                how='left',\n",
    "                validate='1:1'  # Ensures one-to-one merge\n",
    "            )\n",
    "    \n",
    "            # Verify merge success\n",
    "            print(\"Number of null values in top1:\", merged_df['top1'].isna().sum())\n",
    "            df = merged_df.copy()   \n",
    "\n",
    "        # Add log data to the DataFrame\n",
    "        if log_directory is not None:                \n",
    "            print('adding log info...')\n",
    "            timestamp = profile.split('_')[-1]\n",
    "            # Convert timestamp to datetime object\n",
    "            date_time_obj = datetime.datetime.strptime(timestamp, '%Y%m%d-%H%M')\n",
    "            min_diff = datetime.timedelta(days=365*1000)  # initialize with a big time difference\n",
    "            closest_file = None\n",
    "\n",
    "            # Iterate over all files in the directory\n",
    "            for filename in os.listdir(log_directory):\n",
    "                # Check if filename is a Templog\n",
    "                if '__Templog.txt' in filename:\n",
    "                    # Extract timestamp from filename and convert to datetime object\n",
    "                    file_timestamp = filename[:16]\n",
    "                    file_datetime = datetime.datetime.strptime(file_timestamp, '%Y%m%d_%Hh_%Mm')\n",
    "\n",
    "                    # Calculate time difference\n",
    "                    diff = abs(date_time_obj - file_datetime)\n",
    "\n",
    "                    # If this file is closer, update min_diff and closest_file\n",
    "                    if diff < min_diff:\n",
    "                        min_diff = diff\n",
    "                        closest_file = filename\n",
    "\n",
    "            if closest_file is None:\n",
    "                print(\"Logfile not found\")\n",
    "            else:\n",
    "                file_path = os.path.join(log_directory, closest_file)\n",
    "                file_size = os.path.getsize(file_path)  # Get file size in bytes\n",
    "                print(f\"Closest logfile: {closest_file}, Size: {file_size} bytes\")\n",
    "            \n",
    "            # Read the log file and parse the relevant data\n",
    "\n",
    "            df_log = ap.create_log_df(file_path)\n",
    "\n",
    "            # Match the data with the profile dataframe\n",
    "            df.drop(['TT_x', 'T1_x', 'T2_x', 'TH_x', 'restart_x', 'relock_x', 'Time_log_x', 'TT_y', 'T1_y', 'T2_y', 'TH_y', 'restart_y', 'relock_y', 'Time_log_y', 'TT', 'T1', 'T2', 'TH', 'restart', 'relock', 'Time_log'], axis=1, inplace=True, errors='ignore')\n",
    "            # Convert the timestamps in both dataframes to datetime format\n",
    "            df['timestamp'] = df['date-time']\n",
    "\n",
    "            df['timestamp'] = pd.to_datetime(df['timestamp'], format='%Y%m%d-%H%M%S%f')\n",
    "\n",
    "            # Sort the dataframes by the timestamp\n",
    "            df = df.sort_values('timestamp')\n",
    "            df_log = df_log.sort_values('timestamp')\n",
    "\n",
    "            # Use merge_asof to merge the two dataframes, finding the nearest match on the timestamp\n",
    "            df_combined = pd.merge_asof(df, df_log, left_on='timestamp', right_on='timestamp', direction='backward')\n",
    "            df_combined.drop('timestamp', axis=1, inplace=True)\n",
    "\n",
    "            # First check which columns are available\n",
    "            required_columns = ['date-time', 'pressure [dbar]', 'img_id']  # These are the minimum required columns\n",
    "\n",
    "            # Add optional columns if they exist\n",
    "            optional_columns = ['depth [m]', 'temperature', 'interpolated_s', 'interpolated_t', \n",
    "                            'interpolated_o', 'interpolated_z_factor', 'restart', 'relock', 'TAG_event']\n",
    "\n",
    "            # Get list of columns that actually exist in df_combined\n",
    "            existing_columns = [col for col in required_columns + optional_columns if col in df_combined.columns]\n",
    "\n",
    "            #Add particle count based filter for filtering out images that are potentially obscured by schlieren or bubbles\n",
    "            df_unique = df_combined[existing_columns].drop_duplicates()\n",
    "            df_count = df_combined.groupby('date-time').size().reset_index(name='count')\n",
    "            df_unique = df_unique.merge(df_count, on='date-time', how='left')\n",
    "            df_unique = df_unique.sort_values('pressure [dbar]')\n",
    "            df_unique['part_based_filter'] = df_unique['count'].apply(lambda x: 0 if x < (df_unique['count'].mean() + 5*df_unique['count'].std()) else 1)\n",
    "            df = df_combined.merge(df_unique[['date-time', 'part_based_filter']], on='date-time', how='left')\n",
    "        \n",
    "        else:\n",
    "            print('No log directory provided, skipping log data.')\n",
    "            # Use merge_asof to merge the two dataframes, finding the nearest match on the timestamp\n",
    "            df_combined = df.copy()\n",
    "\n",
    "            # First check which columns are available\n",
    "            required_columns = ['date-time', 'pressure [dbar]', 'img_id']  # These are the minimum required columns\n",
    "\n",
    "            # Add optional columns if they exist\n",
    "            optional_columns = ['depth [m]', 'temperature', 'interpolated_s', 'interpolated_t', \n",
    "                            'interpolated_o', 'interpolated_z_factor', 'restart', 'relock', 'TAG_event']\n",
    "\n",
    "            # Get list of columns that actually exist in df_combined\n",
    "            existing_columns = [col for col in required_columns + optional_columns if col in df_combined.columns]\n",
    "\n",
    "            #Add particle count based filter for filtering out images that are potentially obscured by schlieren or bubbles\n",
    "            df_unique = df_combined[['date-time', 'pressure [dbar]', 'img_id']].drop_duplicates()\n",
    "            df_count = df_combined.groupby('date-time').size().reset_index(name='count')\n",
    "            df_unique = df_unique.merge(df_count, on='date-time', how='left')\n",
    "            df_unique = df_unique.sort_values('pressure [dbar]')\n",
    "            df_unique['part_based_filter'] = df_unique['count'].apply(lambda x: 0 if x < (df_unique['count'].mean() + 5*df_unique['count'].std()) else 1)\n",
    "            df = df_combined.merge(df_unique[['date-time', 'part_based_filter']], on='date-time', how='left')\n",
    "        \n",
    "        print(len(df.index), 'particles after adding log data.')\n",
    "\n",
    "\n",
    "        ## Process for exporting to EcoTaxa\n",
    "        # Add object ID column\n",
    "        df['object_id'] = profile_id + df['img_id'].astype(str) + '_' + df['index'].astype(str) \n",
    "\n",
    "        # Get latitude and longitude from yaml file\n",
    "        # Assuming your YAML file is in the same directory as your profile\n",
    "        if cruise == \"HE570\":\n",
    "            yaml_file = os.path.join(profile_path, profile + \".yaml\")\n",
    "            #split date-time\n",
    "            df[['date', 'time']] = df['date-time'].str.split('-', expand=True)\n",
    "        \n",
    "        elif cruise == \"M181\":\n",
    "            latitude, longitude = ap.extract_lat_lon_from_profile(profile)\n",
    "            # Split datetime into date and time based on the actual format\n",
    "            # First extract the date part (before the '-') and time part (after the '-')\n",
    "            df['date'] = df['date-time'].str.split('-').str[0]\n",
    "            df['time'] = df['date-time'].str.split('-').str[1]\n",
    "            yaml_file = False  # No YAML file for M181, using extracted lat/lon directly\n",
    "        \n",
    "        else:\n",
    "            # For other cruises, the YAML file is in a subdirectory\n",
    "            yaml_file = os.path.join(profile_path, profile + \"_Metadata\", profile + \".yaml\")\n",
    "            #split date-time\n",
    "            df[['date', 'time']] = df['date-time'].str.split('-', expand=True)\n",
    "        \n",
    "        if yaml_file:\n",
    "            latitude, longitude = ap.extract_coords_from_yaml(yaml_file)\n",
    "\n",
    "        # Add the columns to your DataFrame and fill all rows with the same values\n",
    "        df['lat'] = latitude\n",
    "        df['lon'] = longitude\n",
    "\n",
    "        ## Filter crops based on aspect ratio and artifacts (TAG events and schlieren)\n",
    "        \n",
    "        if \"TAG_event\" in df.columns:\n",
    "            print(len(df)-len(df[df['TAG_event'] == 0]), 'crops removed due to TAG events')\n",
    "            df = df[df['TAG_event'] == 0]\n",
    "\n",
    "        # Filter out crops with part_based_filter == 1   \n",
    "        print(len(df)-len(df[df['part_based_filter'] == 0]), 'crops removed due to particle count based filter')\n",
    "        df = df[df['part_based_filter'] == 0]  \n",
    "        \n",
    "        print(len(df), 'crops remaining after filtering')\n",
    "\n",
    "        # Remove duplicates in the 'full_path' column, keeping the first occurrence\n",
    "        df = df.drop_duplicates(subset='full_path', keep='first')\n",
    "        df = df.sort_values(by='object_id')\n",
    "        df.reset_index(drop=True, inplace=True)\n",
    "        print(len(df), 'crops after removing duplicates')\n",
    "\n",
    "        # Prepare EcoTaxa metadata\n",
    "        #print(df.head())\n",
    "        df_ET = ap.rename_for_ecotaxa(df, sample_profile_id=profile, predicted=predict_ViT).copy()\n",
    "\n",
    "        \n",
    "        if predict_ViT:\n",
    "            # Add debugging and fix the MultiIndex column access\n",
    "            # print(\"DataFrame info:\")\n",
    "            # print(df_ET.info())\n",
    "            # print(\"\\nIndex type:\", type(df_ET.index))\n",
    "            # print(\"\\nColumns:\", df_ET.columns)\n",
    "            # Access the column using the full MultiIndex specification\n",
    "            annotation_col = ('object_annotation_category', '[t]')\n",
    "            # print(\"\\nSample of object_annotation_category:\")\n",
    "            # print(df_ET[annotation_col].head())\n",
    "\n",
    "            # Filter using the proper column reference\n",
    "            df_ET = df_ET[df_ET[annotation_col].notna()]\n",
    "\n",
    "            # Verify the result\n",
    "            # print(\"\\nShape after filtering:\", df_ET.shape)\n",
    "            # print(\"Remaining NaN values:\", df_ET[annotation_col].isna().sum())  \n",
    "            #   \n",
    "        results_folder = os.path.join(results_folder, 'EcoTaxa')\n",
    "        if not os.path.exists(results_folder):\n",
    "            os.makedirs(results_folder)  # Create directory if it doesn't exist\n",
    "            \n",
    "        if not df_ET.empty:\n",
    "            ap.create_ecotaxa_zips(output_folder=results_folder, df=df_ET, profile_name=profile, \n",
    "                                max_zip_size_mb=500, compression_ratio=1.0, copy_images=True, \n",
    "                                add_scale_bar_to_deconv=False, pixel_resolution=23, scale_length_mm=1)\n",
    "        else:\n",
    "            print(f\"No data to process for profile {profile}\")\n",
    "\n",
    "        #ap.create_ecotaxa_zips(output_folder=results_folder, df=df_ET, profile_name=profile, max_zip_size_mb=500, compression_ratio=1.0, copy_images=True, add_scale_bar_to_deconv=False, pixel_resolution=23, scale_length_mm=1)\n",
    "\n",
    "        # Save the DataFrame to a CSV file\n",
    "        df.to_csv(os.path.join(results_folder, f'{profile}_crops_metadata.csv'), index=False)\n",
    "\n",
    "        # Create plots\n",
    "        # plot_path = os.path.join(results_folder, 'Plots')\n",
    "        # if not os.path.exists(plot_path):\n",
    "        #     os.makedirs(plot_path)\n",
    "        # ap.plot_histogram(df, plot_path)\n",
    "        # ap.plot_position_hist(df, plot_path)\n",
    "        # ap.plot_2d_histogram(df, plot_path)\n",
    "        # press_min = df['object_pressure'].min()-10\n",
    "        # depth_bin_size = 1\n",
    "        # _, pivoted_df = ap.populate_esd_bins_pressure(df,  depth_bin_size=depth_bin_size, esd_bins=np.array([0,125,250,500,1000,100000]))\n",
    "        # ap.plot_particle_dist(pivoted_df, folder, plot_path, depth_bin_size=depth_bin_size, preliminary=True, depth_min=press_min)\n",
    "        # ap.plot_particle_dist(pivoted_df, folder, plot_path, depth_bin_size=depth_bin_size, preliminary=True, depth_min=press_min, maximum_y_value=500)\n",
    "        # ap.plot_ctd_data(df, profile, plot_path)\n",
    "        # ap.plot_ctd_data(df, profile, plot_path, maximum_y_value=500)\n",
    "\n",
    "\n"
   ]
  },
  {
   "cell_type": "code",
   "execution_count": 28,
   "id": "daac764c",
   "metadata": {},
   "outputs": [
    {
     "name": "stdout",
     "output_type": "stream",
     "text": [
      "DataFrame info:\n",
      "<class 'pandas.core.frame.DataFrame'>\n",
      "RangeIndex: 63312 entries, 0 to 63311\n",
      "Data columns (total 53 columns):\n",
      " #   Column                               Non-Null Count  Dtype  \n",
      "---  ------                               --------------  -----  \n",
      " 0   (object_pressure, [f])               0 non-null      float64\n",
      " 1   (object_depth_min, [f])              0 non-null      float64\n",
      " 2   (img_file_name, [t])                 63298 non-null  object \n",
      " 3   (object_area, [f])                   0 non-null      float64\n",
      " 4   (object_width, [f])                  0 non-null      float64\n",
      " 5   (object_height, [f])                 0 non-null      float64\n",
      " 6   (object_bound_box_w, [f])            0 non-null      float64\n",
      " 7   (object_bound_box_h, [f])            0 non-null      float64\n",
      " 8   (object_circularity, [f])            0 non-null      float64\n",
      " 9   (object_area_exc, [f])               0 non-null      float64\n",
      " 10  (object_area_rprops, [f])            0 non-null      float64\n",
      " 11  (object_%area, [f])                  0 non-null      float64\n",
      " 12  (object_major_axis_len, [f])         0 non-null      float64\n",
      " 13  (object_minor_axis_len, [f])         0 non-null      float64\n",
      " 14  (object_centroid_y, [f])             0 non-null      float64\n",
      " 15  (object_centroid_x, [f])             0 non-null      float64\n",
      " 16  (object_convex_area, [f])            0 non-null      float64\n",
      " 17  (object_min_intensity, [f])          0 non-null      float64\n",
      " 18  (object_max_intensity, [f])          0 non-null      float64\n",
      " 19  (object_mean_intensity, [f])         0 non-null      float64\n",
      " 20  (object_int_density, [f])            0 non-null      float64\n",
      " 21  (object_perimeter, [f])              0 non-null      float64\n",
      " 22  (object_elongation, [f])             0 non-null      float64\n",
      " 23  (object_range, [f])                  0 non-null      float64\n",
      " 24  (object_perim_area_excl, [f])        0 non-null      float64\n",
      " 25  (object_perim_major, [f])            0 non-null      float64\n",
      " 26  (object_circularity_area_excl, [f])  0 non-null      float64\n",
      " 27  (object_angle, [f])                  0 non-null      float64\n",
      " 28  (object_boundbox_area, [f])          0 non-null      float64\n",
      " 29  (object_eccentricity, [f])           0 non-null      float64\n",
      " 30  (object_equivalent_diameter, [f])    0 non-null      float64\n",
      " 31  (object_euler_nr, [f])               0 non-null      float64\n",
      " 32  (object_extent, [f])                 0 non-null      float64\n",
      " 33  (object_local_centroid_col, [f])     0 non-null      float64\n",
      " 34  (object_local_centroid_row, [f])     0 non-null      float64\n",
      " 35  (object_solidity, [f])               0 non-null      float64\n",
      " 36  (object_full_path, [t])              63298 non-null  object \n",
      " 37  (object_esd, [f])                    0 non-null      float64\n",
      " 38  (object_interpolated_s, [f])         0 non-null      float64\n",
      " 39  (object_interpolated_o, [f])         0 non-null      float64\n",
      " 40  (object_interpolated_t, [f])         0 non-null      float64\n",
      " 41  (object_interpolated_chl, [f])       0 non-null      float64\n",
      " 42  (object_entropy, [f])                0 non-null      float32\n",
      " 43  (object_annotation_category, [t])    63298 non-null  object \n",
      " 44  (object_prob_1, [f])                 0 non-null      float32\n",
      " 45  (object_id, [t])                     63298 non-null  object \n",
      " 46  (object_date, [t])                   63298 non-null  object \n",
      " 47  (object_time, [t])                   63298 non-null  object \n",
      " 48  (object_lat, [f])                    0 non-null      float64\n",
      " 49  (object_lon, [f])                    0 non-null      float64\n",
      " 50  (object_annotation_status, [t])      63298 non-null  object \n",
      " 51  (object_depth_max, [f])              0 non-null      float64\n",
      " 52  (sample_id, [t])                     63298 non-null  object \n",
      "dtypes: float32(2), float64(43), object(8)\n",
      "memory usage: 25.1+ MB\n",
      "None\n",
      "\n",
      "Index type: <class 'pandas.core.indexes.range.RangeIndex'>\n",
      "\n",
      "Columns: MultiIndex([(             'object_pressure', '[f]'),\n",
      "            (            'object_depth_min', '[f]'),\n",
      "            (               'img_file_name', '[t]'),\n",
      "            (                 'object_area', '[f]'),\n",
      "            (                'object_width', '[f]'),\n",
      "            (               'object_height', '[f]'),\n",
      "            (          'object_bound_box_w', '[f]'),\n",
      "            (          'object_bound_box_h', '[f]'),\n",
      "            (          'object_circularity', '[f]'),\n",
      "            (             'object_area_exc', '[f]'),\n",
      "            (          'object_area_rprops', '[f]'),\n",
      "            (                'object_%area', '[f]'),\n",
      "            (       'object_major_axis_len', '[f]'),\n",
      "            (       'object_minor_axis_len', '[f]'),\n",
      "            (           'object_centroid_y', '[f]'),\n",
      "            (           'object_centroid_x', '[f]'),\n",
      "            (          'object_convex_area', '[f]'),\n",
      "            (        'object_min_intensity', '[f]'),\n",
      "            (        'object_max_intensity', '[f]'),\n",
      "            (       'object_mean_intensity', '[f]'),\n",
      "            (          'object_int_density', '[f]'),\n",
      "            (            'object_perimeter', '[f]'),\n",
      "            (           'object_elongation', '[f]'),\n",
      "            (                'object_range', '[f]'),\n",
      "            (      'object_perim_area_excl', '[f]'),\n",
      "            (          'object_perim_major', '[f]'),\n",
      "            ('object_circularity_area_excl', '[f]'),\n",
      "            (                'object_angle', '[f]'),\n",
      "            (        'object_boundbox_area', '[f]'),\n",
      "            (         'object_eccentricity', '[f]'),\n",
      "            (  'object_equivalent_diameter', '[f]'),\n",
      "            (             'object_euler_nr', '[f]'),\n",
      "            (               'object_extent', '[f]'),\n",
      "            (   'object_local_centroid_col', '[f]'),\n",
      "            (   'object_local_centroid_row', '[f]'),\n",
      "            (             'object_solidity', '[f]'),\n",
      "            (            'object_full_path', '[t]'),\n",
      "            (                  'object_esd', '[f]'),\n",
      "            (       'object_interpolated_s', '[f]'),\n",
      "            (       'object_interpolated_o', '[f]'),\n",
      "            (       'object_interpolated_t', '[f]'),\n",
      "            (     'object_interpolated_chl', '[f]'),\n",
      "            (              'object_entropy', '[f]'),\n",
      "            (  'object_annotation_category', '[t]'),\n",
      "            (               'object_prob_1', '[f]'),\n",
      "            (                   'object_id', '[t]'),\n",
      "            (                 'object_date', '[t]'),\n",
      "            (                 'object_time', '[t]'),\n",
      "            (                  'object_lat', '[f]'),\n",
      "            (                  'object_lon', '[f]'),\n",
      "            (    'object_annotation_status', '[t]'),\n",
      "            (            'object_depth_max', '[f]'),\n",
      "            (                   'sample_id', '[t]')],\n",
      "           names=['header', 'dtype'])\n",
      "\n",
      "Sample of object_annotation_category:\n",
      "dtype              [t]\n",
      "0             Rhizaria\n",
      "1      light_rectangle\n",
      "2      light_rectangle\n",
      "3                 puff\n",
      "4       Appendicularia\n",
      "\n",
      "Shape after filtering: (63312, 53)\n",
      "Remaining NaN values: dtype\n",
      "[t]    14\n",
      "dtype: int64\n"
     ]
    }
   ],
   "source": [
    "# Add these diagnostic lines before filtering\n",
    "print(\"DataFrame info:\")\n",
    "print(df_ET.info())\n",
    "print(\"\\nIndex type:\", type(df_ET.index))\n",
    "print(\"\\nColumns:\", df_ET.columns)\n",
    "print(\"\\nSample of object_annotation_category:\")\n",
    "print(df_ET['object_annotation_category'].head())\n",
    "\n",
    "# If it is a MultiIndex DataFrame, try this modified approach:\n",
    "if isinstance(df_ET.index, pd.MultiIndex):\n",
    "    # Reset the index to make it a regular DataFrame\n",
    "    df_ET = df_ET.reset_index()\n",
    "    \n",
    "# Then apply the filter\n",
    "df_ET = df_ET[df_ET['object_annotation_category'].notna()]\n",
    "\n",
    "# Verify the result\n",
    "print(\"\\nShape after filtering:\", df_ET.shape)\n",
    "print(\"Remaining NaN values:\", df_ET['object_annotation_category'].isna().sum())"
   ]
  },
  {
   "cell_type": "code",
   "execution_count": null,
   "id": "fc07cfdf",
   "metadata": {},
   "outputs": [],
   "source": [
    "### KOSMOS Logic##########\n",
    "# for profile in os.listdir(cruise_base):\n",
    "#     print(profile)\n",
    "#     profile_path = os.path.join(cruise_base, profile)\n",
    "#     if os.path.isdir(profile_path):                \n",
    "#             for mesokosm in os.listdir(profile_path):\n",
    "#                     print(mesokosm)\n",
    "#                     mesokosm_path = os.path.join(profile_path, mesokosm)\n",
    "#                     if os.path.isdir(mesokosm_path):\n",
    "#                             img_folder = mesokosm_path\n",
    "#                             results_folder = os.path.join(intermediate_result_dir, profile, mesokosm+\"_Results\")\n",
    "#                             profile_id = profile+'_'+mesokosm\n",
    "#                             profile_data_dir = os.path.join(results_folder, 'Data')\n",
    "\n",
    "#                             # Load the results of the segmenter\n",
    "#                             # and create a DataFrame with the particle data\n",
    "#                             df = ap.gen_crop_df(profile_data_dir, small=False, size_filter=0, cruise=cruise, pressure_unit='bar')\n",
    "#                             print(len(df.index), 'particles found.')\n",
    "#                             df['fullframe_path'] = df['full_path'].apply(ap.modify_full_path)\n",
    "\n",
    "#                             # Add ctd data to the DataFrame\n",
    "#                             # Get CTD profile ID\n",
    "#                             if ctd_dir is not None and os.path.exists(ctd_dir):\n",
    "#                                 ctd_id = ap.get_ctd_profile_id(cruise_base, profile)\n",
    "#                                 if ctd_id:\n",
    "#                                     ctd_file = os.path.join(ctd_dir, f'{ctd_prefix}{ctd_id}.ctd')\n",
    "#                                     print('adding ctd data...')\n",
    "#                                     df = ap.add_ctd_data(ctd_file, df)\n",
    "#                                 else:\n",
    "#                                     print(f\"Skipping CTD data for {profile}\")\n",
    "#                                     continue\n",
    "\n",
    "#                             # Predict on deconvolved images                \n",
    "#                             prediction_file = os.path.join(results_folder, 'ViT_predictions.csv')  # Example path\n",
    "#                             if os.path.exists(prediction_file):\n",
    "#                                 print('Adding predictions...')\n",
    "#                                 prediction_df = pd.read_csv(prediction_file)\n",
    "#                                 df = ap.add_prediction(df, prediction_df)\n",
    "\n",
    "#                             # Add log data to the DataFrame\n",
    "#                             if log_directory is not None:                \n",
    "#                                 print('adding log info...')\n",
    "#                                 timestamp = profile.split('_')[-1]\n",
    "#                                 # Convert timestamp to datetime object\n",
    "#                                 date_time_obj = datetime.datetime.strptime(timestamp, '%Y%m%d-%H%M')\n",
    "#                                 min_diff = datetime.timedelta(days=365*1000)  # initialize with a big time difference\n",
    "#                                 closest_file = None\n",
    "\n",
    "#                                 # Iterate over all files in the directory\n",
    "#                                 for filename in os.listdir(log_directory):\n",
    "#                                     # Check if filename is a Templog\n",
    "#                                     if '__Templog.txt' in filename:\n",
    "#                                         # Extract timestamp from filename and convert to datetime object\n",
    "#                                         file_timestamp = filename[:16]\n",
    "#                                         file_datetime = datetime.datetime.strptime(file_timestamp, '%Y%m%d_%Hh_%Mm')\n",
    "\n",
    "#                                         # Calculate time difference\n",
    "#                                         diff = abs(date_time_obj - file_datetime)\n",
    "\n",
    "#                                         # If this file is closer, update min_diff and closest_file\n",
    "#                                         if diff < min_diff:\n",
    "#                                             min_diff = diff\n",
    "#                                             closest_file = filename\n",
    "\n",
    "#                                 if closest_file is None:\n",
    "#                                     print(\"Logfile not found\")\n",
    "#                                 else:\n",
    "#                                     file_path = os.path.join(log_directory, closest_file)\n",
    "#                                     file_size = os.path.getsize(file_path)  # Get file size in bytes\n",
    "#                                     print(f\"Closest logfile: {closest_file}, Size: {file_size} bytes\")\n",
    "                                \n",
    "#                                 # Read the log file and parse the relevant data\n",
    "\n",
    "#                                 df_log = ap.create_log_df(file_path)\n",
    "\n",
    "#                                 # Match the data with the profile dataframe\n",
    "#                                 df.drop(['TT_x', 'T1_x', 'T2_x', 'TH_x', 'restart_x', 'relock_x', 'Time_log_x', 'TT_y', 'T1_y', 'T2_y', 'TH_y', 'restart_y', 'relock_y', 'Time_log_y', 'TT', 'T1', 'T2', 'TH', 'restart', 'relock', 'Time_log'], axis=1, inplace=True, errors='ignore')\n",
    "#                                 # Convert the timestamps in both dataframes to datetime format\n",
    "#                                 df['timestamp'] = df['date-time']\n",
    "\n",
    "#                                 df['timestamp'] = pd.to_datetime(df['timestamp'], format='%Y%m%d-%H%M%S%f')\n",
    "\n",
    "#                                 # Sort the dataframes by the timestamp\n",
    "#                                 df = df.sort_values('timestamp')\n",
    "#                                 df_log = df_log.sort_values('timestamp')\n",
    "\n",
    "#                                 # Use merge_asof to merge the two dataframes, finding the nearest match on the timestamp\n",
    "#                                 df_combined = pd.merge_asof(df, df_log, left_on='timestamp', right_on='timestamp', direction='backward')\n",
    "#                                 df_combined.drop('timestamp', axis=1, inplace=True)\n",
    "\n",
    "#                                 #Add particle count based filter for filtering out images that are potentially obscured by schlieren or bubbles\n",
    "#                                 df_unique = df_combined[['date-time', 'pressure [dbar]', 'depth [m]', 'img_id','temperature','interpolated_s','interpolated_t','interpolated_o','interpolated_z_factor','restart','relock','TAG_event']].drop_duplicates()\n",
    "#                                 df_count = df_combined.groupby('date-time').size().reset_index(name='count')\n",
    "#                                 df_unique = df_unique.merge(df_count, on='date-time', how='left')\n",
    "#                                 df_unique = df_unique.sort_values('pressure [dbar]')\n",
    "#                                 df_unique['part_based_filter'] = df_unique['count'].apply(lambda x: 0 if x < (df_unique['count'].mean() + 5*df_unique['count'].std()) else 1)\n",
    "#                                 df = df_combined.merge(df_unique[['date-time', 'part_based_filter']], on='date-time', how='left')\n",
    "                            \n",
    "#                             else:\n",
    "#                                 print('No log directory provided, skipping log data.')\n",
    "#                                 # Use merge_asof to merge the two dataframes, finding the nearest match on the timestamp\n",
    "#                                 df_combined = df.copy()\n",
    "\n",
    "#                                 #Add particle count based filter for filtering out images that are potentially obscured by schlieren or bubbles\n",
    "#                                 df_unique = df_combined[['date-time', 'pressure [dbar]', 'img_id']].drop_duplicates()\n",
    "#                                 df_count = df_combined.groupby('date-time').size().reset_index(name='count')\n",
    "#                                 df_unique = df_unique.merge(df_count, on='date-time', how='left')\n",
    "#                                 df_unique = df_unique.sort_values('pressure [dbar]')\n",
    "#                                 df_unique['part_based_filter'] = df_unique['count'].apply(lambda x: 0 if x < (df_unique['count'].mean() + 5*df_unique['count'].std()) else 1)\n",
    "#                                 df = df_combined.merge(df_unique[['date-time', 'part_based_filter']], on='date-time', how='left')\n",
    "\n",
    "\n",
    "#                             ## Process for exporting to EcoTaxa\n",
    "#                             # Add object ID column\n",
    "#                             df['object_id'] = profile_id + df['img_id'].astype(str) + '_' + df['index'].astype(str) \n",
    "\n",
    "#                             #split date-time\n",
    "#                             df[['date', 'time']] = df['date-time'].str.split('-', expand=True)\n",
    "\n",
    "#                             ## Filter crops based on aspect ratio and artifacts (TAG events and schlieren)\n",
    "#                             threshold_ratio = 0.005  # Define the aspect ratio threshold\n",
    "#                             print(len(df)-len(df[df['w'] >= threshold_ratio * df['h']]), 'crops removed due to aspect ratio')\n",
    "#                             df = df[df['w'] >= threshold_ratio * df['h']]\n",
    "#                             if \"TAG_event\" in df.columns:\n",
    "#                                 print(len(df)-len(df[df['TAG_event'] == 0]), 'crops removed due to TAG events')\n",
    "#                                 df = df[df['TAG_event'] == 0]\n",
    "\n",
    "#                             # Filter out crops with part_based_filter == 1   \n",
    "#                             df = df[df['part_based_filter'] == 0]  \n",
    "\n",
    "#                             # Remove duplicates in the 'full_path' column, keeping the first occurrence\n",
    "#                             df = df.drop_duplicates(subset='full_path', keep='first')\n",
    "#                             df = df.sort_values(by='object_id')\n",
    "#                             df.reset_index(drop=True, inplace=True)\n",
    "                            \n",
    "#                             crops_zip = os.path.join(results_folder, \"crops.zip\")\n",
    "#                             deconv_zip = os.path.join(results_folder, \"deconv_crops.zip\")\n",
    "                            \n",
    "#                             # # Check if both zip files already exist\n",
    "#                             # if os.path.exists(crops_zip) and os.path.exists(deconv_zip):\n",
    "#                             #     print(f\"Profile {profile_name} already processed. Skipping.\")\n",
    "#                             #     continue\n",
    "\n",
    "#                             # Prepare EcoTaxa metadata\n",
    "#                             df_ET = ap.rename_for_ecotaxa(df, sample_profile_id=profile).copy()\n",
    "#                             if not df_ET.empty:\n",
    "#                                 ap.create_ecotaxa_zips(output_folder=results_folder, df=df_ET, profile_name=profile, \n",
    "#                                                     max_zip_size_mb=500, compression_ratio=1.0, copy_images=True, \n",
    "#                                                     add_scale_bar_to_deconv=False, pixel_resolution=23, scale_length_mm=1)\n",
    "#                             else:\n",
    "#                                 print(f\"No data to process for profile {profile}\")\n",
    "\n",
    "#                             #ap.create_ecotaxa_zips(output_folder=results_folder, df=df_ET, profile_name=profile, max_zip_size_mb=500, compression_ratio=1.0, copy_images=True, add_scale_bar_to_deconv=False, pixel_resolution=23, scale_length_mm=1)\n",
    "\n",
    "#                             # Save the DataFrame to a CSV file\n",
    "#                             df.to_csv(os.path.join(results_folder, f'{profile}_crops_metadata.csv'), index=False)\n",
    "#################################"
   ]
  },
  {
   "cell_type": "markdown",
   "id": "c0372332",
   "metadata": {},
   "source": [
    "### 3. Upload to EcoTaxa"
   ]
  },
  {
   "cell_type": "markdown",
   "id": "3740c4aa",
   "metadata": {},
   "source": [
    "Setup of pyecotaxa 05.06.2025: \n",
    "1. Install pyecotaxa dev_branch: git clone https://github.com/moi90/pyecotaxa.git > cd pyecotaxa > git checkout wip-aqqua > pip install .\n",
    "Now pyecotaxa is useable in cli and python scripts.\n",
    "2. In home directory edit the file ~/.pyecotaxa.json: {\"api_token\": \"...\", \"ftp_user\": \"ftp_plankton\", \"ftp_passwd\": \"Pl@nkt0n4Ecotaxa\"}\n",
    "3. Now ftp transfer is useable."
   ]
  },
  {
   "cell_type": "code",
   "execution_count": 6,
   "id": "12c8e5ce",
   "metadata": {},
   "outputs": [
    {
     "name": "stdout",
     "output_type": "stream",
     "text": [
      "Successfully logged into EcoTaxa.\n",
      "SO308_1-37-4_PISCO2_20241207-1021\n",
      "Processing EcoTaxa folder: /home/veit/PIScO_dev/Segmentation_results/SO308/SO308-PISCO-Profiles/TempResults/SO308_1-37-4_PISCO2_20241207-1021/SO308_1-37-4_PISCO2_20241207-1021_Results/EcoTaxa\n"
     ]
    },
    {
     "name": "stderr",
     "output_type": "stream",
     "text": [
      "Uploading crops.zip...: 100%|██████████| 304M/304M [00:07<00:00, 40.4MB/s]\n",
      "Importing to 17486... (Processing files 33400/33474): 100%|██████████| 100/100 [04:17<00:00,  2.58s/%]\n",
      "100%|██████████| 1/1 [04:27<00:00, 267.73s/it]\n"
     ]
    },
    {
     "name": "stdout",
     "output_type": "stream",
     "text": [
      "Successfully uploaded /home/veit/PIScO_dev/Segmentation_results/SO308/SO308-PISCO-Profiles/TempResults/SO308_1-37-4_PISCO2_20241207-1021/SO308_1-37-4_PISCO2_20241207-1021_Results/EcoTaxa/crops.zip to project 17486.\n",
      "Uploaded crops.zip to project 17486.\n",
      "SO308_1-28-1_PISCO2_20241124-2155\n",
      "Processing EcoTaxa folder: /home/veit/PIScO_dev/Segmentation_results/SO308/SO308-PISCO-Profiles/TempResults/SO308_1-28-1_PISCO2_20241124-2155/SO308_1-28-1_PISCO2_20241124-2155_Results/EcoTaxa\n"
     ]
    },
    {
     "name": "stderr",
     "output_type": "stream",
     "text": [
      "Uploading crops.zip...: 100%|██████████| 60.1M/60.1M [00:02<00:00, 21.9MB/s]\n",
      "Importing to 17486... (Processing files 8700/9396):  94%|█████████▍| 94/100 [01:11<00:04,  1.32%/s]\n",
      "100%|██████████| 1/1 [01:15<00:00, 75.10s/it]\n"
     ]
    },
    {
     "name": "stdout",
     "output_type": "stream",
     "text": [
      "Successfully uploaded /home/veit/PIScO_dev/Segmentation_results/SO308/SO308-PISCO-Profiles/TempResults/SO308_1-28-1_PISCO2_20241124-2155/SO308_1-28-1_PISCO2_20241124-2155_Results/EcoTaxa/crops.zip to project 17486.\n",
      "Uploaded crops.zip to project 17486.\n",
      "SO308_1-38-3_PISCO2_20241208-0748\n",
      "Processing EcoTaxa folder: /home/veit/PIScO_dev/Segmentation_results/SO308/SO308-PISCO-Profiles/TempResults/SO308_1-38-3_PISCO2_20241208-0748/SO308_1-38-3_PISCO2_20241208-0748_Results/EcoTaxa\n"
     ]
    },
    {
     "name": "stderr",
     "output_type": "stream",
     "text": [
      "Uploading crops.zip...: 100%|██████████| 228M/228M [00:04<00:00, 51.2MB/s]\n",
      "Importing to 17486... (Processing files 27000/27034): 100%|██████████| 100/100 [03:22<00:00,  2.02s/%]\n",
      "100%|██████████| 1/1 [03:28<00:00, 208.58s/it]\n"
     ]
    },
    {
     "name": "stdout",
     "output_type": "stream",
     "text": [
      "Successfully uploaded /home/veit/PIScO_dev/Segmentation_results/SO308/SO308-PISCO-Profiles/TempResults/SO308_1-38-3_PISCO2_20241208-0748/SO308_1-38-3_PISCO2_20241208-0748_Results/EcoTaxa/crops.zip to project 17486.\n",
      "Uploaded crops.zip to project 17486.\n",
      "SO308_1-20-1_PISCO2_20241116-1129\n",
      "Processing EcoTaxa folder: /home/veit/PIScO_dev/Segmentation_results/SO308/SO308-PISCO-Profiles/TempResults/SO308_1-20-1_PISCO2_20241116-1129/SO308_1-20-1_PISCO2_20241116-1129_Results/EcoTaxa\n"
     ]
    },
    {
     "name": "stderr",
     "output_type": "stream",
     "text": [
      "Uploading crops.zip...: 100%|██████████| 254M/254M [00:06<00:00, 40.2MB/s]\n",
      "Importing to 17486... (Processing files 46700/47190):  99%|█████████▉| 99/100 [05:08<00:03,  3.12s/%]\n",
      "100%|██████████| 1/1 [05:16<00:00, 316.80s/it]\n"
     ]
    },
    {
     "name": "stdout",
     "output_type": "stream",
     "text": [
      "Successfully uploaded /home/veit/PIScO_dev/Segmentation_results/SO308/SO308-PISCO-Profiles/TempResults/SO308_1-20-1_PISCO2_20241116-1129/SO308_1-20-1_PISCO2_20241116-1129_Results/EcoTaxa/crops.zip to project 17486.\n",
      "Uploaded crops.zip to project 17486.\n",
      "SO308_1-11-3_PISCO2_20241109-1836\n",
      "Processing EcoTaxa folder: /home/veit/PIScO_dev/Segmentation_results/SO308/SO308-PISCO-Profiles/TempResults/SO308_1-11-3_PISCO2_20241109-1836/SO308_1-11-3_PISCO2_20241109-1836_Results/EcoTaxa\n"
     ]
    },
    {
     "name": "stderr",
     "output_type": "stream",
     "text": [
      "Uploading crops.zip...: 100%|██████████| 435M/435M [00:17<00:00, 25.9MB/s]\n",
      "Importing to 17486... (Processing files 96800/97644):  99%|█████████▉| 99/100 [07:20<00:04,  4.45s/%]\n",
      "100%|██████████| 1/1 [07:40<00:00, 460.13s/it]\n"
     ]
    },
    {
     "name": "stdout",
     "output_type": "stream",
     "text": [
      "Successfully uploaded /home/veit/PIScO_dev/Segmentation_results/SO308/SO308-PISCO-Profiles/TempResults/SO308_1-11-3_PISCO2_20241109-1836/SO308_1-11-3_PISCO2_20241109-1836_Results/EcoTaxa/crops.zip to project 17486.\n",
      "Uploaded crops.zip to project 17486.\n",
      "SO308_1-37-2_PISCO2_20241207-0505\n",
      "Processing EcoTaxa folder: /home/veit/PIScO_dev/Segmentation_results/SO308/SO308-PISCO-Profiles/TempResults/SO308_1-37-2_PISCO2_20241207-0505/SO308_1-37-2_PISCO2_20241207-0505_Results/EcoTaxa\n"
     ]
    },
    {
     "name": "stderr",
     "output_type": "stream",
     "text": [
      "Uploading crops.zip...: 100%|██████████| 94.8M/94.8M [00:12<00:00, 8.02MB/s]\n",
      "Importing to 17486... (Processing files 22300/22368): 100%|██████████| 100/100 [02:11<00:00,  1.31s/%]\n",
      "100%|██████████| 1/1 [02:24<00:00, 144.87s/it]\n"
     ]
    },
    {
     "name": "stdout",
     "output_type": "stream",
     "text": [
      "Successfully uploaded /home/veit/PIScO_dev/Segmentation_results/SO308/SO308-PISCO-Profiles/TempResults/SO308_1-37-2_PISCO2_20241207-0505/SO308_1-37-2_PISCO2_20241207-0505_Results/EcoTaxa/crops.zip to project 17486.\n",
      "Uploaded crops.zip to project 17486.\n",
      "SO308_1-19-1_PISCO2_20241115-0144\n",
      "Processing EcoTaxa folder: /home/veit/PIScO_dev/Segmentation_results/SO308/SO308-PISCO-Profiles/TempResults/SO308_1-19-1_PISCO2_20241115-0144/SO308_1-19-1_PISCO2_20241115-0144_Results/EcoTaxa\n"
     ]
    },
    {
     "name": "stderr",
     "output_type": "stream",
     "text": [
      "Uploading crops.zip...: 100%|██████████| 122M/122M [00:04<00:00, 30.3MB/s]\n",
      "Importing to 17486... (Processing files 32100/32714):  98%|█████████▊| 98/100 [03:37<00:04,  2.22s/%]\n",
      "100%|██████████| 1/1 [03:42<00:00, 222.86s/it]\n"
     ]
    },
    {
     "name": "stdout",
     "output_type": "stream",
     "text": [
      "Successfully uploaded /home/veit/PIScO_dev/Segmentation_results/SO308/SO308-PISCO-Profiles/TempResults/SO308_1-19-1_PISCO2_20241115-0144/SO308_1-19-1_PISCO2_20241115-0144_Results/EcoTaxa/crops.zip to project 17486.\n",
      "Uploaded crops.zip to project 17486.\n",
      "SO308_1-14-3_PISCO2_20241112-0837\n",
      "Processing EcoTaxa folder: /home/veit/PIScO_dev/Segmentation_results/SO308/SO308-PISCO-Profiles/TempResults/SO308_1-14-3_PISCO2_20241112-0837/SO308_1-14-3_PISCO2_20241112-0837_Results/EcoTaxa\n"
     ]
    },
    {
     "name": "stderr",
     "output_type": "stream",
     "text": [
      "Uploading crops.zip...: 100%|██████████| 129M/129M [00:04<00:00, 28.2MB/s]\n",
      "Importing to 17486... (Processing files 32100/32862):  98%|█████████▊| 98/100 [03:22<00:04,  2.07s/%]\n",
      "100%|██████████| 1/1 [03:28<00:00, 208.53s/it]\n"
     ]
    },
    {
     "name": "stdout",
     "output_type": "stream",
     "text": [
      "Successfully uploaded /home/veit/PIScO_dev/Segmentation_results/SO308/SO308-PISCO-Profiles/TempResults/SO308_1-14-3_PISCO2_20241112-0837/SO308_1-14-3_PISCO2_20241112-0837_Results/EcoTaxa/crops.zip to project 17486.\n",
      "Uploaded crops.zip to project 17486.\n",
      "SO308_1-20-4_PISCO2_20241116-2153\n",
      "Processing EcoTaxa folder: /home/veit/PIScO_dev/Segmentation_results/SO308/SO308-PISCO-Profiles/TempResults/SO308_1-20-4_PISCO2_20241116-2153/SO308_1-20-4_PISCO2_20241116-2153_Results/EcoTaxa\n"
     ]
    },
    {
     "name": "stderr",
     "output_type": "stream",
     "text": [
      "Uploading crops.zip...: 100%|██████████| 142M/142M [00:04<00:00, 34.2MB/s]\n",
      "Importing to 17486... (Processing files 39800/40999):  98%|█████████▊| 98/100 [03:22<00:04,  2.06s/%]\n",
      "100%|██████████| 1/1 [03:27<00:00, 207.79s/it]\n"
     ]
    },
    {
     "name": "stdout",
     "output_type": "stream",
     "text": [
      "Successfully uploaded /home/veit/PIScO_dev/Segmentation_results/SO308/SO308-PISCO-Profiles/TempResults/SO308_1-20-4_PISCO2_20241116-2153/SO308_1-20-4_PISCO2_20241116-2153_Results/EcoTaxa/crops.zip to project 17486.\n",
      "Uploaded crops.zip to project 17486.\n",
      "SO308_1-29-3_PISCO2_20241125-1829\n",
      "Processing EcoTaxa folder: /home/veit/PIScO_dev/Segmentation_results/SO308/SO308-PISCO-Profiles/TempResults/SO308_1-29-3_PISCO2_20241125-1829/SO308_1-29-3_PISCO2_20241125-1829_Results/EcoTaxa\n"
     ]
    },
    {
     "name": "stderr",
     "output_type": "stream",
     "text": [
      "Uploading crops.zip...: 100%|██████████| 40.7M/40.7M [00:02<00:00, 16.5MB/s]\n",
      "Importing to 17486... (Processing files 6100/6842):  91%|█████████ | 91/100 [00:55<00:05,  1.64%/s]\n",
      "100%|██████████| 1/1 [00:59<00:00, 59.10s/it]\n"
     ]
    },
    {
     "name": "stdout",
     "output_type": "stream",
     "text": [
      "Successfully uploaded /home/veit/PIScO_dev/Segmentation_results/SO308/SO308-PISCO-Profiles/TempResults/SO308_1-29-3_PISCO2_20241125-1829/SO308_1-29-3_PISCO2_20241125-1829_Results/EcoTaxa/crops.zip to project 17486.\n",
      "Uploaded crops.zip to project 17486.\n",
      "SO308_1-29-1_PISCO2_20241125-1314\n",
      "Processing EcoTaxa folder: /home/veit/PIScO_dev/Segmentation_results/SO308/SO308-PISCO-Profiles/TempResults/SO308_1-29-1_PISCO2_20241125-1314/SO308_1-29-1_PISCO2_20241125-1314_Results/EcoTaxa\n"
     ]
    },
    {
     "name": "stderr",
     "output_type": "stream",
     "text": [
      "Uploading crops.zip...: 100%|██████████| 46.3M/46.3M [00:03<00:00, 15.5MB/s]\n",
      "Importing to 17486... (Processing files 8900/9020):  99%|█████████▉| 99/100 [01:25<00:00,  1.15%/s]\n",
      "100%|██████████| 1/1 [01:29<00:00, 89.99s/it]\n"
     ]
    },
    {
     "name": "stdout",
     "output_type": "stream",
     "text": [
      "Successfully uploaded /home/veit/PIScO_dev/Segmentation_results/SO308/SO308-PISCO-Profiles/TempResults/SO308_1-29-1_PISCO2_20241125-1314/SO308_1-29-1_PISCO2_20241125-1314_Results/EcoTaxa/crops.zip to project 17486.\n",
      "Uploaded crops.zip to project 17486.\n",
      "SO308_1-38-1_PISCO2_20241208-0408\n",
      "Processing EcoTaxa folder: /home/veit/PIScO_dev/Segmentation_results/SO308/SO308-PISCO-Profiles/TempResults/SO308_1-38-1_PISCO2_20241208-0408/SO308_1-38-1_PISCO2_20241208-0408_Results/EcoTaxa\n"
     ]
    },
    {
     "name": "stderr",
     "output_type": "stream",
     "text": [
      "Uploading crops.zip...: 100%|██████████| 82.3M/82.3M [00:03<00:00, 23.0MB/s]\n",
      "Importing to 17486... (Processing files 20000/20242):  99%|█████████▉| 99/100 [02:01<00:01,  1.23s/%]\n",
      "100%|██████████| 1/1 [02:06<00:00, 126.24s/it]\n"
     ]
    },
    {
     "name": "stdout",
     "output_type": "stream",
     "text": [
      "Successfully uploaded /home/veit/PIScO_dev/Segmentation_results/SO308/SO308-PISCO-Profiles/TempResults/SO308_1-38-1_PISCO2_20241208-0408/SO308_1-38-1_PISCO2_20241208-0408_Results/EcoTaxa/crops.zip to project 17486.\n",
      "Uploaded crops.zip to project 17486.\n",
      "SO308_1-15-1_PISCO2_20241113-1253\n",
      "Processing EcoTaxa folder: /home/veit/PIScO_dev/Segmentation_results/SO308/SO308-PISCO-Profiles/TempResults/SO308_1-15-1_PISCO2_20241113-1253/SO308_1-15-1_PISCO2_20241113-1253_Results/EcoTaxa\n"
     ]
    },
    {
     "name": "stderr",
     "output_type": "stream",
     "text": [
      "Uploading crops.zip...: 100%|██████████| 193M/193M [00:21<00:00, 9.27MB/s]\n",
      "Importing to 17486... (Processing files 53100/53525):  99%|█████████▉| 99/100 [05:18<00:03,  3.22s/%]\n",
      "100%|██████████| 1/1 [05:41<00:00, 341.86s/it]\n"
     ]
    },
    {
     "name": "stdout",
     "output_type": "stream",
     "text": [
      "Successfully uploaded /home/veit/PIScO_dev/Segmentation_results/SO308/SO308-PISCO-Profiles/TempResults/SO308_1-15-1_PISCO2_20241113-1253/SO308_1-15-1_PISCO2_20241113-1253_Results/EcoTaxa/crops.zip to project 17486.\n",
      "Uploaded crops.zip to project 17486.\n",
      "SO308_1-30-3_PISCO2_20241127-0510\n",
      "Processing EcoTaxa folder: /home/veit/PIScO_dev/Segmentation_results/SO308/SO308-PISCO-Profiles/TempResults/SO308_1-30-3_PISCO2_20241127-0510/SO308_1-30-3_PISCO2_20241127-0510_Results/EcoTaxa\n"
     ]
    },
    {
     "name": "stderr",
     "output_type": "stream",
     "text": [
      "Uploading crops_part1_upload.zip...: 100%|██████████| 582M/582M [00:13<00:00, 46.7MB/s]\n",
      "Importing to 17486... (Processing files 198400/198463): 100%|██████████| 100/100 [37:15<00:00, 22.36s/%]\n",
      "100%|██████████| 1/1 [37:33<00:00, 2253.36s/it]\n"
     ]
    },
    {
     "name": "stdout",
     "output_type": "stream",
     "text": [
      "Successfully uploaded /home/veit/PIScO_dev/Segmentation_results/SO308/SO308-PISCO-Profiles/TempResults/SO308_1-30-3_PISCO2_20241127-0510/SO308_1-30-3_PISCO2_20241127-0510_Results/EcoTaxa/crops_part1_upload.zip to project 17486.\n",
      "Uploaded crops_part1_upload.zip to project 17486.\n"
     ]
    },
    {
     "name": "stderr",
     "output_type": "stream",
     "text": [
      "Uploading crops_part2_upload.zip...: 100%|██████████| 21.2M/21.2M [00:01<00:00, 11.4MB/s]\n",
      "Importing to 17486... (Processing files 7400/8168):  92%|█████████▏| 92/100 [01:05<00:05,  1.40%/s]\n",
      "100%|██████████| 1/1 [01:08<00:00, 68.68s/it]\n"
     ]
    },
    {
     "name": "stdout",
     "output_type": "stream",
     "text": [
      "Successfully uploaded /home/veit/PIScO_dev/Segmentation_results/SO308/SO308-PISCO-Profiles/TempResults/SO308_1-30-3_PISCO2_20241127-0510/SO308_1-30-3_PISCO2_20241127-0510_Results/EcoTaxa/crops_part2_upload.zip to project 17486.\n",
      "Uploaded crops_part2_upload.zip to project 17486.\n",
      "SO308_1-2-5_PISCO2_20241105-0723\n",
      "Processing EcoTaxa folder: /home/veit/PIScO_dev/Segmentation_results/SO308/SO308-PISCO-Profiles/TempResults/SO308_1-2-5_PISCO2_20241105-0723/SO308_1-2-5_PISCO2_20241105-0723_Results/EcoTaxa\n"
     ]
    },
    {
     "name": "stderr",
     "output_type": "stream",
     "text": [
      "Uploading crops.zip...: 100%|██████████| 277M/277M [00:25<00:00, 11.2MB/s]\n",
      "Importing to 17486... (Processing files 95500/95502): 100%|██████████| 100/100 [08:10<00:00,  4.91s/%]\n",
      "100%|██████████| 1/1 [08:38<00:00, 518.85s/it]\n"
     ]
    },
    {
     "name": "stdout",
     "output_type": "stream",
     "text": [
      "Successfully uploaded /home/veit/PIScO_dev/Segmentation_results/SO308/SO308-PISCO-Profiles/TempResults/SO308_1-2-5_PISCO2_20241105-0723/SO308_1-2-5_PISCO2_20241105-0723_Results/EcoTaxa/crops.zip to project 17486.\n",
      "Uploaded crops.zip to project 17486.\n",
      "SO308_1-23-1_PISCO2_20241119-1112\n",
      "Processing EcoTaxa folder: /home/veit/PIScO_dev/Segmentation_results/SO308/SO308-PISCO-Profiles/TempResults/SO308_1-23-1_PISCO2_20241119-1112/SO308_1-23-1_PISCO2_20241119-1112_Results/EcoTaxa\n"
     ]
    },
    {
     "name": "stderr",
     "output_type": "stream",
     "text": [
      "Uploading crops.zip...: 100%|██████████| 158M/158M [00:03<00:00, 48.9MB/s]\n",
      "Importing to 17486... (Processing files 24600/24609): 100%|██████████| 100/100 [03:47<00:00,  2.28s/%]\n",
      "100%|██████████| 1/1 [03:52<00:00, 232.48s/it]\n"
     ]
    },
    {
     "name": "stdout",
     "output_type": "stream",
     "text": [
      "Successfully uploaded /home/veit/PIScO_dev/Segmentation_results/SO308/SO308-PISCO-Profiles/TempResults/SO308_1-23-1_PISCO2_20241119-1112/SO308_1-23-1_PISCO2_20241119-1112_Results/EcoTaxa/crops.zip to project 17486.\n",
      "Uploaded crops.zip to project 17486.\n",
      "._.DS_Store\n",
      "EcoTaxa folder does not exist for profile ._.DS_Store. Skipping.\n",
      "SO308_1-1-2_PISCO2_20241104-1921\n",
      "Processing EcoTaxa folder: /home/veit/PIScO_dev/Segmentation_results/SO308/SO308-PISCO-Profiles/TempResults/SO308_1-1-2_PISCO2_20241104-1921/SO308_1-1-2_PISCO2_20241104-1921_Results/EcoTaxa\n"
     ]
    },
    {
     "name": "stderr",
     "output_type": "stream",
     "text": [
      "Uploading crops.zip...: 100%|██████████| 514M/514M [00:11<00:00, 46.4MB/s]\n",
      "Importing to 17486... (Processing files 76900/76998): 100%|██████████| 100/100 [06:45<00:00,  4.05s/%]\n",
      "100%|██████████| 1/1 [06:59<00:00, 419.29s/it]\n"
     ]
    },
    {
     "name": "stdout",
     "output_type": "stream",
     "text": [
      "Successfully uploaded /home/veit/PIScO_dev/Segmentation_results/SO308/SO308-PISCO-Profiles/TempResults/SO308_1-1-2_PISCO2_20241104-1921/SO308_1-1-2_PISCO2_20241104-1921_Results/EcoTaxa/crops.zip to project 17486.\n",
      "Uploaded crops.zip to project 17486.\n",
      "SO308_1-19-3_PISCO2_20241115-2022\n",
      "Processing EcoTaxa folder: /home/veit/PIScO_dev/Segmentation_results/SO308/SO308-PISCO-Profiles/TempResults/SO308_1-19-3_PISCO2_20241115-2022/SO308_1-19-3_PISCO2_20241115-2022_Results/EcoTaxa\n"
     ]
    },
    {
     "name": "stderr",
     "output_type": "stream",
     "text": [
      "Uploading crops.zip...: 100%|██████████| 242M/242M [00:05<00:00, 50.6MB/s]\n",
      "Importing to 17486... (Processing files 28100/28482):  99%|█████████▉| 99/100 [03:22<00:02,  2.05s/%]\n",
      "100%|██████████| 1/1 [03:29<00:00, 209.15s/it]\n"
     ]
    },
    {
     "name": "stdout",
     "output_type": "stream",
     "text": [
      "Successfully uploaded /home/veit/PIScO_dev/Segmentation_results/SO308/SO308-PISCO-Profiles/TempResults/SO308_1-19-3_PISCO2_20241115-2022/SO308_1-19-3_PISCO2_20241115-2022_Results/EcoTaxa/crops.zip to project 17486.\n",
      "Uploaded crops.zip to project 17486.\n",
      "SO308_1-27-4_PISCO2_20241124-0449\n",
      "Processing EcoTaxa folder: /home/veit/PIScO_dev/Segmentation_results/SO308/SO308-PISCO-Profiles/TempResults/SO308_1-27-4_PISCO2_20241124-0449/SO308_1-27-4_PISCO2_20241124-0449_Results/EcoTaxa\n"
     ]
    },
    {
     "name": "stderr",
     "output_type": "stream",
     "text": [
      "Uploading crops.zip...: 100%|██████████| 48.5M/48.5M [00:08<00:00, 5.75MB/s]\n",
      "Importing to 17486... (Processing files 5400/5490):  99%|█████████▉| 99/100 [01:31<00:00,  1.08%/s]\n",
      "100%|██████████| 1/1 [01:41<00:00, 101.20s/it]\n"
     ]
    },
    {
     "name": "stdout",
     "output_type": "stream",
     "text": [
      "Successfully uploaded /home/veit/PIScO_dev/Segmentation_results/SO308/SO308-PISCO-Profiles/TempResults/SO308_1-27-4_PISCO2_20241124-0449/SO308_1-27-4_PISCO2_20241124-0449_Results/EcoTaxa/crops.zip to project 17486.\n",
      "Uploaded crops.zip to project 17486.\n",
      "SO308_1-13-5_PISCO2_20241111-1023\n",
      "Processing EcoTaxa folder: /home/veit/PIScO_dev/Segmentation_results/SO308/SO308-PISCO-Profiles/TempResults/SO308_1-13-5_PISCO2_20241111-1023/SO308_1-13-5_PISCO2_20241111-1023_Results/EcoTaxa\n"
     ]
    },
    {
     "name": "stderr",
     "output_type": "stream",
     "text": [
      "Uploading crops.zip...: 100%|██████████| 61.9M/61.9M [00:02<00:00, 22.0MB/s]\n",
      "Importing to 17486... (Processing files 12800/12912):  99%|█████████▉| 99/100 [01:56<00:01,  1.18s/%]\n",
      "100%|██████████| 1/1 [02:00<00:00, 120.57s/it]\n"
     ]
    },
    {
     "name": "stdout",
     "output_type": "stream",
     "text": [
      "Successfully uploaded /home/veit/PIScO_dev/Segmentation_results/SO308/SO308-PISCO-Profiles/TempResults/SO308_1-13-5_PISCO2_20241111-1023/SO308_1-13-5_PISCO2_20241111-1023_Results/EcoTaxa/crops.zip to project 17486.\n",
      "Uploaded crops.zip to project 17486.\n",
      "SO308_0-0_PISCO2_20241104-0610\n",
      "Processing EcoTaxa folder: /home/veit/PIScO_dev/Segmentation_results/SO308/SO308-PISCO-Profiles/TempResults/SO308_0-0_PISCO2_20241104-0610/SO308_0-0_PISCO2_20241104-0610_Results/EcoTaxa\n"
     ]
    },
    {
     "name": "stderr",
     "output_type": "stream",
     "text": [
      "Uploading crops.zip...: 100%|██████████| 446M/446M [00:10<00:00, 46.3MB/s]\n",
      "Importing to 17486... (Processing files 78300/78881):  99%|█████████▉| 99/100 [07:35<00:04,  4.60s/%]\n",
      "100%|██████████| 1/1 [07:46<00:00, 466.67s/it]\n"
     ]
    },
    {
     "name": "stdout",
     "output_type": "stream",
     "text": [
      "Successfully uploaded /home/veit/PIScO_dev/Segmentation_results/SO308/SO308-PISCO-Profiles/TempResults/SO308_0-0_PISCO2_20241104-0610/SO308_0-0_PISCO2_20241104-0610_Results/EcoTaxa/crops.zip to project 17486.\n",
      "Uploaded crops.zip to project 17486.\n",
      "SO308_1-44-1_PISCO2_20241212-2254\n",
      "Processing EcoTaxa folder: /home/veit/PIScO_dev/Segmentation_results/SO308/SO308-PISCO-Profiles/TempResults/SO308_1-44-1_PISCO2_20241212-2254/SO308_1-44-1_PISCO2_20241212-2254_Results/EcoTaxa\n"
     ]
    },
    {
     "name": "stderr",
     "output_type": "stream",
     "text": [
      "Uploading crops.zip...: 100%|██████████| 57.5M/57.5M [00:09<00:00, 6.34MB/s]\n",
      "Importing to 17486... (Processing files 17900/18547):  97%|█████████▋| 97/100 [02:22<00:04,  1.47s/%]\n",
      "100%|██████████| 1/1 [02:32<00:00, 152.90s/it]\n"
     ]
    },
    {
     "name": "stdout",
     "output_type": "stream",
     "text": [
      "Successfully uploaded /home/veit/PIScO_dev/Segmentation_results/SO308/SO308-PISCO-Profiles/TempResults/SO308_1-44-1_PISCO2_20241212-2254/SO308_1-44-1_PISCO2_20241212-2254_Results/EcoTaxa/crops.zip to project 17486.\n",
      "Uploaded crops.zip to project 17486.\n",
      "SO308_1-15-1_PISCO2_20241112-2304\n",
      "Processing EcoTaxa folder: /home/veit/PIScO_dev/Segmentation_results/SO308/SO308-PISCO-Profiles/TempResults/SO308_1-15-1_PISCO2_20241112-2304/SO308_1-15-1_PISCO2_20241112-2304_Results/EcoTaxa\n"
     ]
    },
    {
     "name": "stderr",
     "output_type": "stream",
     "text": [
      "Uploading crops.zip...: 100%|██████████| 254M/254M [00:06<00:00, 39.4MB/s]\n",
      "Importing to 17486... (Processing files 62100/62176): 100%|██████████| 100/100 [06:49<00:00,  4.10s/%]\n",
      "100%|██████████| 1/1 [06:58<00:00, 418.25s/it]\n"
     ]
    },
    {
     "name": "stdout",
     "output_type": "stream",
     "text": [
      "Successfully uploaded /home/veit/PIScO_dev/Segmentation_results/SO308/SO308-PISCO-Profiles/TempResults/SO308_1-15-1_PISCO2_20241112-2304/SO308_1-15-1_PISCO2_20241112-2304_Results/EcoTaxa/crops.zip to project 17486.\n",
      "Uploaded crops.zip to project 17486.\n",
      "SO308_1-35-1_PISCO2_20241204-1334\n",
      "Processing EcoTaxa folder: /home/veit/PIScO_dev/Segmentation_results/SO308/SO308-PISCO-Profiles/TempResults/SO308_1-35-1_PISCO2_20241204-1334/SO308_1-35-1_PISCO2_20241204-1334_Results/EcoTaxa\n"
     ]
    },
    {
     "name": "stderr",
     "output_type": "stream",
     "text": [
      "Uploading crops.zip...: 100%|██████████| 63.5M/63.5M [00:10<00:00, 6.55MB/s]\n",
      "Importing to 17486... (Processing files 12300/12370): 100%|██████████| 100/100 [02:21<00:00,  1.42s/%]\n",
      "100%|██████████| 1/1 [02:32<00:00, 152.77s/it]\n"
     ]
    },
    {
     "name": "stdout",
     "output_type": "stream",
     "text": [
      "Successfully uploaded /home/veit/PIScO_dev/Segmentation_results/SO308/SO308-PISCO-Profiles/TempResults/SO308_1-35-1_PISCO2_20241204-1334/SO308_1-35-1_PISCO2_20241204-1334_Results/EcoTaxa/crops.zip to project 17486.\n",
      "Uploaded crops.zip to project 17486.\n",
      "SO308_1-21-3_PISCO2_20241117-1222\n",
      "Processing EcoTaxa folder: /home/veit/PIScO_dev/Segmentation_results/SO308/SO308-PISCO-Profiles/TempResults/SO308_1-21-3_PISCO2_20241117-1222/SO308_1-21-3_PISCO2_20241117-1222_Results/EcoTaxa\n"
     ]
    },
    {
     "name": "stderr",
     "output_type": "stream",
     "text": [
      "Uploading crops.zip...: 100%|██████████| 85.6M/85.6M [00:06<00:00, 13.0MB/s]\n",
      "Importing to 17486... (Processing files 20600/20622): 100%|██████████| 100/100 [03:22<00:00,  2.02s/%]\n",
      "100%|██████████| 1/1 [03:30<00:00, 210.54s/it]\n"
     ]
    },
    {
     "name": "stdout",
     "output_type": "stream",
     "text": [
      "Successfully uploaded /home/veit/PIScO_dev/Segmentation_results/SO308/SO308-PISCO-Profiles/TempResults/SO308_1-21-3_PISCO2_20241117-1222/SO308_1-21-3_PISCO2_20241117-1222_Results/EcoTaxa/crops.zip to project 17486.\n",
      "Uploaded crops.zip to project 17486.\n",
      "SO308_1-33-4_PISCO2_20241202-0239\n",
      "Processing EcoTaxa folder: /home/veit/PIScO_dev/Segmentation_results/SO308/SO308-PISCO-Profiles/TempResults/SO308_1-33-4_PISCO2_20241202-0239/SO308_1-33-4_PISCO2_20241202-0239_Results/EcoTaxa\n"
     ]
    },
    {
     "name": "stderr",
     "output_type": "stream",
     "text": [
      "Uploading crops.zip...: 100%|██████████| 40.3M/40.3M [00:02<00:00, 14.4MB/s]\n",
      "Importing to 17486... (Processing files 6700/7263):  94%|█████████▍| 94/100 [01:31<00:05,  1.03%/s]\n",
      "100%|██████████| 1/1 [01:35<00:00, 95.00s/it]\n"
     ]
    },
    {
     "name": "stdout",
     "output_type": "stream",
     "text": [
      "Successfully uploaded /home/veit/PIScO_dev/Segmentation_results/SO308/SO308-PISCO-Profiles/TempResults/SO308_1-33-4_PISCO2_20241202-0239/SO308_1-33-4_PISCO2_20241202-0239_Results/EcoTaxa/crops.zip to project 17486.\n",
      "Uploaded crops.zip to project 17486.\n",
      "SO308_1-22-3_PISCO2_20241118-1532\n",
      "Processing EcoTaxa folder: /home/veit/PIScO_dev/Segmentation_results/SO308/SO308-PISCO-Profiles/TempResults/SO308_1-22-3_PISCO2_20241118-1532/SO308_1-22-3_PISCO2_20241118-1532_Results/EcoTaxa\n"
     ]
    },
    {
     "name": "stderr",
     "output_type": "stream",
     "text": [
      "Uploading crops.zip...: 100%|██████████| 336M/336M [00:08<00:00, 43.3MB/s]\n",
      "Importing to 17486... (Processing files 61800/61850): 100%|██████████| 100/100 [05:18<00:00,  3.19s/%]\n",
      "100%|██████████| 1/1 [05:28<00:00, 328.67s/it]\n"
     ]
    },
    {
     "name": "stdout",
     "output_type": "stream",
     "text": [
      "Successfully uploaded /home/veit/PIScO_dev/Segmentation_results/SO308/SO308-PISCO-Profiles/TempResults/SO308_1-22-3_PISCO2_20241118-1532/SO308_1-22-3_PISCO2_20241118-1532_Results/EcoTaxa/crops.zip to project 17486.\n",
      "Uploaded crops.zip to project 17486.\n",
      "SO308_1-35-3_PISCO2_20241205-0119\n",
      "Processing EcoTaxa folder: /home/veit/PIScO_dev/Segmentation_results/SO308/SO308-PISCO-Profiles/TempResults/SO308_1-35-3_PISCO2_20241205-0119/SO308_1-35-3_PISCO2_20241205-0119_Results/EcoTaxa\n"
     ]
    },
    {
     "name": "stderr",
     "output_type": "stream",
     "text": [
      "Uploading crops.zip...: 100%|██████████| 134M/134M [00:06<00:00, 20.2MB/s]\n",
      "Importing to 17486... (Processing files 11100/11177):  99%|█████████▉| 99/100 [02:01<00:01,  1.23s/%]\n",
      "100%|██████████| 1/1 [02:09<00:00, 129.96s/it]\n"
     ]
    },
    {
     "name": "stdout",
     "output_type": "stream",
     "text": [
      "Successfully uploaded /home/veit/PIScO_dev/Segmentation_results/SO308/SO308-PISCO-Profiles/TempResults/SO308_1-35-3_PISCO2_20241205-0119/SO308_1-35-3_PISCO2_20241205-0119_Results/EcoTaxa/crops.zip to project 17486.\n",
      "Uploaded crops.zip to project 17486.\n",
      "SO308_1-51-5_PISCO2_20241219-0116\n",
      "Processing EcoTaxa folder: /home/veit/PIScO_dev/Segmentation_results/SO308/SO308-PISCO-Profiles/TempResults/SO308_1-51-5_PISCO2_20241219-0116/SO308_1-51-5_PISCO2_20241219-0116_Results/EcoTaxa\n"
     ]
    },
    {
     "name": "stderr",
     "output_type": "stream",
     "text": [
      "Uploading crops.zip...: 100%|██████████| 182M/182M [00:03<00:00, 47.7MB/s]\n",
      "Importing to 17486... (Processing files 43100/43107): 100%|██████████| 100/100 [04:43<00:00,  2.84s/%]\n",
      "100%|██████████| 1/1 [04:49<00:00, 289.37s/it]\n"
     ]
    },
    {
     "name": "stdout",
     "output_type": "stream",
     "text": [
      "Successfully uploaded /home/veit/PIScO_dev/Segmentation_results/SO308/SO308-PISCO-Profiles/TempResults/SO308_1-51-5_PISCO2_20241219-0116/SO308_1-51-5_PISCO2_20241219-0116_Results/EcoTaxa/crops.zip to project 17486.\n",
      "Uploaded crops.zip to project 17486.\n",
      "SO308_1-51-1_PISCO2_20241218-2258\n",
      "Processing EcoTaxa folder: /home/veit/PIScO_dev/Segmentation_results/SO308/SO308-PISCO-Profiles/TempResults/SO308_1-51-1_PISCO2_20241218-2258/SO308_1-51-1_PISCO2_20241218-2258_Results/EcoTaxa\n"
     ]
    },
    {
     "name": "stderr",
     "output_type": "stream",
     "text": [
      "Uploading crops.zip...: 100%|██████████| 170M/170M [00:04<00:00, 36.0MB/s]\n",
      "Importing to 17486... (Processing files 56000/56523):  99%|█████████▉| 99/100 [04:58<00:03,  3.02s/%]\n",
      "100%|██████████| 1/1 [05:05<00:00, 305.07s/it]\n"
     ]
    },
    {
     "name": "stdout",
     "output_type": "stream",
     "text": [
      "Successfully uploaded /home/veit/PIScO_dev/Segmentation_results/SO308/SO308-PISCO-Profiles/TempResults/SO308_1-51-1_PISCO2_20241218-2258/SO308_1-51-1_PISCO2_20241218-2258_Results/EcoTaxa/crops.zip to project 17486.\n",
      "Uploaded crops.zip to project 17486.\n",
      "SO308_1-3-2_PISCO2_20241105-1458\n",
      "Processing EcoTaxa folder: /home/veit/PIScO_dev/Segmentation_results/SO308/SO308-PISCO-Profiles/TempResults/SO308_1-3-2_PISCO2_20241105-1458/SO308_1-3-2_PISCO2_20241105-1458_Results/EcoTaxa\n"
     ]
    },
    {
     "name": "stderr",
     "output_type": "stream",
     "text": [
      "Uploading crops_part1_upload.zip...: 100%|██████████| 533M/533M [00:11<00:00, 46.9MB/s]\n",
      "Importing to 17486... (Processing files 83500/83541): 100%|██████████| 100/100 [06:54<00:00,  4.15s/%]\n",
      "100%|██████████| 1/1 [07:09<00:00, 429.33s/it]\n"
     ]
    },
    {
     "name": "stdout",
     "output_type": "stream",
     "text": [
      "Successfully uploaded /home/veit/PIScO_dev/Segmentation_results/SO308/SO308-PISCO-Profiles/TempResults/SO308_1-3-2_PISCO2_20241105-1458/SO308_1-3-2_PISCO2_20241105-1458_Results/EcoTaxa/crops_part1_upload.zip to project 17486.\n",
      "Uploaded crops_part1_upload.zip to project 17486.\n"
     ]
    },
    {
     "name": "stderr",
     "output_type": "stream",
     "text": [
      "Uploading crops_part2_upload.zip...: 100%|██████████| 205M/205M [00:05<00:00, 37.7MB/s]\n",
      "Importing to 17486... (Processing files 32000/32342):  99%|█████████▉| 99/100 [03:12<00:01,  1.94s/%]\n",
      "100%|██████████| 1/1 [03:19<00:00, 199.41s/it]\n"
     ]
    },
    {
     "name": "stdout",
     "output_type": "stream",
     "text": [
      "Successfully uploaded /home/veit/PIScO_dev/Segmentation_results/SO308/SO308-PISCO-Profiles/TempResults/SO308_1-3-2_PISCO2_20241105-1458/SO308_1-3-2_PISCO2_20241105-1458_Results/EcoTaxa/crops_part2_upload.zip to project 17486.\n",
      "Uploaded crops_part2_upload.zip to project 17486.\n",
      "SO308_1-46-4_PISCO2_20241214-0819\n",
      "Processing EcoTaxa folder: /home/veit/PIScO_dev/Segmentation_results/SO308/SO308-PISCO-Profiles/TempResults/SO308_1-46-4_PISCO2_20241214-0819/SO308_1-46-4_PISCO2_20241214-0819_Results/EcoTaxa\n"
     ]
    },
    {
     "name": "stderr",
     "output_type": "stream",
     "text": [
      "Uploading crops.zip...: 100%|██████████| 121M/121M [00:04<00:00, 28.0MB/s]\n",
      "Importing to 17486... (Processing files 28000/28090): 100%|██████████| 100/100 [03:17<00:00,  1.97s/%]\n",
      "100%|██████████| 1/1 [03:23<00:00, 203.05s/it]\n"
     ]
    },
    {
     "name": "stdout",
     "output_type": "stream",
     "text": [
      "Successfully uploaded /home/veit/PIScO_dev/Segmentation_results/SO308/SO308-PISCO-Profiles/TempResults/SO308_1-46-4_PISCO2_20241214-0819/SO308_1-46-4_PISCO2_20241214-0819_Results/EcoTaxa/crops.zip to project 17486.\n",
      "Uploaded crops.zip to project 17486.\n",
      "SO308_1-42-5_PISCO2_20241211-1125\n",
      "Processing EcoTaxa folder: /home/veit/PIScO_dev/Segmentation_results/SO308/SO308-PISCO-Profiles/TempResults/SO308_1-42-5_PISCO2_20241211-1125/SO308_1-42-5_PISCO2_20241211-1125_Results/EcoTaxa\n"
     ]
    },
    {
     "name": "stderr",
     "output_type": "stream",
     "text": [
      "Uploading crops.zip...: 100%|██████████| 62.4M/62.4M [00:03<00:00, 21.3MB/s]\n",
      "Importing to 17486... (Processing files 16000/16092): 100%|██████████| 100/100 [02:27<00:00,  1.47s/%]\n",
      "100%|██████████| 1/1 [02:31<00:00, 151.32s/it]\n"
     ]
    },
    {
     "name": "stdout",
     "output_type": "stream",
     "text": [
      "Successfully uploaded /home/veit/PIScO_dev/Segmentation_results/SO308/SO308-PISCO-Profiles/TempResults/SO308_1-42-5_PISCO2_20241211-1125/SO308_1-42-5_PISCO2_20241211-1125_Results/EcoTaxa/crops.zip to project 17486.\n",
      "Uploaded crops.zip to project 17486.\n",
      "SO308_1-25-3_PISCO2_20241122-0658\n",
      "Processing EcoTaxa folder: /home/veit/PIScO_dev/Segmentation_results/SO308/SO308-PISCO-Profiles/TempResults/SO308_1-25-3_PISCO2_20241122-0658/SO308_1-25-3_PISCO2_20241122-0658_Results/EcoTaxa\n"
     ]
    },
    {
     "name": "stderr",
     "output_type": "stream",
     "text": [
      "Uploading crops.zip...: 100%|██████████| 162M/162M [00:03<00:00, 50.1MB/s]\n",
      "Importing to 17486... (Processing files 13500/13568): 100%|██████████| 100/100 [02:47<00:00,  1.67s/%]\n",
      "100%|██████████| 1/1 [02:51<00:00, 171.84s/it]\n"
     ]
    },
    {
     "name": "stdout",
     "output_type": "stream",
     "text": [
      "Successfully uploaded /home/veit/PIScO_dev/Segmentation_results/SO308/SO308-PISCO-Profiles/TempResults/SO308_1-25-3_PISCO2_20241122-0658/SO308_1-25-3_PISCO2_20241122-0658_Results/EcoTaxa/crops.zip to project 17486.\n",
      "Uploaded crops.zip to project 17486.\n",
      "SO308_1-2-2_PISCO2_20241105-0601\n",
      "Processing EcoTaxa folder: /home/veit/PIScO_dev/Segmentation_results/SO308/SO308-PISCO-Profiles/TempResults/SO308_1-2-2_PISCO2_20241105-0601/SO308_1-2-2_PISCO2_20241105-0601_Results/EcoTaxa\n"
     ]
    },
    {
     "name": "stderr",
     "output_type": "stream",
     "text": [
      "Uploading crops.zip...: 100%|██████████| 245M/245M [00:06<00:00, 40.2MB/s]\n",
      "Importing to 17486... (Processing files 64900/64957): 100%|██████████| 100/100 [05:44<00:00,  3.44s/%]\n",
      "100%|██████████| 1/1 [05:51<00:00, 351.97s/it]\n"
     ]
    },
    {
     "name": "stdout",
     "output_type": "stream",
     "text": [
      "Successfully uploaded /home/veit/PIScO_dev/Segmentation_results/SO308/SO308-PISCO-Profiles/TempResults/SO308_1-2-2_PISCO2_20241105-0601/SO308_1-2-2_PISCO2_20241105-0601_Results/EcoTaxa/crops.zip to project 17486.\n",
      "Uploaded crops.zip to project 17486.\n",
      "SO308_1-22-4_PISCO2_20241118-1628\n",
      "Processing EcoTaxa folder: /home/veit/PIScO_dev/Segmentation_results/SO308/SO308-PISCO-Profiles/TempResults/SO308_1-22-4_PISCO2_20241118-1628/SO308_1-22-4_PISCO2_20241118-1628_Results/EcoTaxa\n"
     ]
    },
    {
     "name": "stderr",
     "output_type": "stream",
     "text": [
      "Uploading crops_part3_upload.zip...: 100%|██████████| 108M/108M [00:03<00:00, 32.8MB/s]\n",
      "Importing to 17486... (Processing files 6300/6451):  98%|█████████▊| 98/100 [01:56<00:02,  1.19s/%]\n",
      "100%|██████████| 1/1 [02:01<00:00, 121.00s/it]\n"
     ]
    },
    {
     "name": "stdout",
     "output_type": "stream",
     "text": [
      "Successfully uploaded /home/veit/PIScO_dev/Segmentation_results/SO308/SO308-PISCO-Profiles/TempResults/SO308_1-22-4_PISCO2_20241118-1628/SO308_1-22-4_PISCO2_20241118-1628_Results/EcoTaxa/crops_part3_upload.zip to project 17486.\n",
      "Uploaded crops_part3_upload.zip to project 17486.\n"
     ]
    },
    {
     "name": "stderr",
     "output_type": "stream",
     "text": [
      "Uploading crops_part1_upload.zip...: 100%|██████████| 507M/507M [00:19<00:00, 27.1MB/s]\n",
      "Importing to 17486... (Processing files 29400/29491): 100%|██████████| 100/100 [04:08<00:00,  2.48s/%]\n",
      "100%|██████████| 1/1 [04:30<00:00, 270.43s/it]\n"
     ]
    },
    {
     "name": "stdout",
     "output_type": "stream",
     "text": [
      "Successfully uploaded /home/veit/PIScO_dev/Segmentation_results/SO308/SO308-PISCO-Profiles/TempResults/SO308_1-22-4_PISCO2_20241118-1628/SO308_1-22-4_PISCO2_20241118-1628_Results/EcoTaxa/crops_part1_upload.zip to project 17486.\n",
      "Uploaded crops_part1_upload.zip to project 17486.\n"
     ]
    },
    {
     "name": "stderr",
     "output_type": "stream",
     "text": [
      "Uploading crops_part2_upload.zip...: 100%|██████████| 507M/507M [00:09<00:00, 54.9MB/s]\n",
      "Importing to 17486... (Processing files 30200/30299): 100%|██████████| 100/100 [03:57<00:00,  2.38s/%]\n",
      "100%|██████████| 1/1 [04:09<00:00, 249.99s/it]\n"
     ]
    },
    {
     "name": "stdout",
     "output_type": "stream",
     "text": [
      "Successfully uploaded /home/veit/PIScO_dev/Segmentation_results/SO308/SO308-PISCO-Profiles/TempResults/SO308_1-22-4_PISCO2_20241118-1628/SO308_1-22-4_PISCO2_20241118-1628_Results/EcoTaxa/crops_part2_upload.zip to project 17486.\n",
      "Uploaded crops_part2_upload.zip to project 17486.\n",
      "SO308_1-48-1_PISCO2_20241216-0104\n",
      "Processing EcoTaxa folder: /home/veit/PIScO_dev/Segmentation_results/SO308/SO308-PISCO-Profiles/TempResults/SO308_1-48-1_PISCO2_20241216-0104/SO308_1-48-1_PISCO2_20241216-0104_Results/EcoTaxa\n"
     ]
    },
    {
     "name": "stderr",
     "output_type": "stream",
     "text": [
      "Uploading crops.zip...: 100%|██████████| 236M/236M [00:04<00:00, 50.9MB/s]\n",
      "Importing to 17486... (Processing files 32800/32878): 100%|██████████| 100/100 [04:37<00:00,  2.78s/%]\n",
      "100%|██████████| 1/1 [04:44<00:00, 284.45s/it]\n"
     ]
    },
    {
     "name": "stdout",
     "output_type": "stream",
     "text": [
      "Successfully uploaded /home/veit/PIScO_dev/Segmentation_results/SO308/SO308-PISCO-Profiles/TempResults/SO308_1-48-1_PISCO2_20241216-0104/SO308_1-48-1_PISCO2_20241216-0104_Results/EcoTaxa/crops.zip to project 17486.\n",
      "Uploaded crops.zip to project 17486.\n",
      ".DS_Store\n",
      "EcoTaxa folder does not exist for profile .DS_Store. Skipping.\n",
      "SO308_18-1_PISCO2_20241114-2306\n",
      "Processing EcoTaxa folder: /home/veit/PIScO_dev/Segmentation_results/SO308/SO308-PISCO-Profiles/TempResults/SO308_18-1_PISCO2_20241114-2306/SO308_18-1_PISCO2_20241114-2306_Results/EcoTaxa\n"
     ]
    },
    {
     "name": "stderr",
     "output_type": "stream",
     "text": [
      "Uploading crops.zip...: 100%|██████████| 107M/107M [00:04<00:00, 26.3MB/s]\n",
      "Importing to 17486... (Processing files 28300/28426): 100%|██████████| 100/100 [03:12<00:00,  1.93s/%]\n",
      "100%|██████████| 1/1 [03:18<00:00, 198.15s/it]\n"
     ]
    },
    {
     "name": "stdout",
     "output_type": "stream",
     "text": [
      "Successfully uploaded /home/veit/PIScO_dev/Segmentation_results/SO308/SO308-PISCO-Profiles/TempResults/SO308_18-1_PISCO2_20241114-2306/SO308_18-1_PISCO2_20241114-2306_Results/EcoTaxa/crops.zip to project 17486.\n",
      "Uploaded crops.zip to project 17486.\n",
      "SO308_1-10-1_PISCO2_20241108-2302\n",
      "Processing EcoTaxa folder: /home/veit/PIScO_dev/Segmentation_results/SO308/SO308-PISCO-Profiles/TempResults/SO308_1-10-1_PISCO2_20241108-2302/SO308_1-10-1_PISCO2_20241108-2302_Results/EcoTaxa\n"
     ]
    },
    {
     "name": "stderr",
     "output_type": "stream",
     "text": [
      "Uploading crops.zip...: 100%|██████████| 113M/113M [00:04<00:00, 27.1MB/s]\n",
      "Importing to 17486... (Processing files 17900/17917): 100%|██████████| 100/100 [02:36<00:00,  1.57s/%]\n",
      "100%|██████████| 1/1 [02:42<00:00, 162.25s/it]\n"
     ]
    },
    {
     "name": "stdout",
     "output_type": "stream",
     "text": [
      "Successfully uploaded /home/veit/PIScO_dev/Segmentation_results/SO308/SO308-PISCO-Profiles/TempResults/SO308_1-10-1_PISCO2_20241108-2302/SO308_1-10-1_PISCO2_20241108-2302_Results/EcoTaxa/crops.zip to project 17486.\n",
      "Uploaded crops.zip to project 17486.\n",
      "SO308_1-12-3_PISCO2_20241110-1523\n",
      "Processing EcoTaxa folder: /home/veit/PIScO_dev/Segmentation_results/SO308/SO308-PISCO-Profiles/TempResults/SO308_1-12-3_PISCO2_20241110-1523/SO308_1-12-3_PISCO2_20241110-1523_Results/EcoTaxa\n"
     ]
    },
    {
     "name": "stderr",
     "output_type": "stream",
     "text": [
      "Uploading crops.zip...: 100%|██████████| 89.0M/89.0M [00:03<00:00, 27.7MB/s]\n",
      "Importing to 17486... (Processing files 31700/31718): 100%|██████████| 100/100 [03:52<00:00,  2.33s/%]\n",
      "100%|██████████| 1/1 [03:57<00:00, 237.00s/it]\n"
     ]
    },
    {
     "name": "stdout",
     "output_type": "stream",
     "text": [
      "Successfully uploaded /home/veit/PIScO_dev/Segmentation_results/SO308/SO308-PISCO-Profiles/TempResults/SO308_1-12-3_PISCO2_20241110-1523/SO308_1-12-3_PISCO2_20241110-1523_Results/EcoTaxa/crops.zip to project 17486.\n",
      "Uploaded crops.zip to project 17486.\n",
      "SO308_1-7-1_PISCO2_20241107-0429\n",
      "Processing EcoTaxa folder: /home/veit/PIScO_dev/Segmentation_results/SO308/SO308-PISCO-Profiles/TempResults/SO308_1-7-1_PISCO2_20241107-0429/SO308_1-7-1_PISCO2_20241107-0429_Results/EcoTaxa\n"
     ]
    },
    {
     "name": "stderr",
     "output_type": "stream",
     "text": [
      "Uploading crops.zip...: 100%|██████████| 65.4M/65.4M [00:02<00:00, 23.4MB/s]\n",
      "Importing to 17486... (Processing files 20900/20979): 100%|██████████| 100/100 [03:01<00:00,  1.82s/%]\n",
      "100%|██████████| 1/1 [03:05<00:00, 185.91s/it]\n"
     ]
    },
    {
     "name": "stdout",
     "output_type": "stream",
     "text": [
      "Successfully uploaded /home/veit/PIScO_dev/Segmentation_results/SO308/SO308-PISCO-Profiles/TempResults/SO308_1-7-1_PISCO2_20241107-0429/SO308_1-7-1_PISCO2_20241107-0429_Results/EcoTaxa/crops.zip to project 17486.\n",
      "Uploaded crops.zip to project 17486.\n",
      "SO308_1-13-4_PISCO2_20241111-0925\n",
      "Processing EcoTaxa folder: /home/veit/PIScO_dev/Segmentation_results/SO308/SO308-PISCO-Profiles/TempResults/SO308_1-13-4_PISCO2_20241111-0925/SO308_1-13-4_PISCO2_20241111-0925_Results/EcoTaxa\n"
     ]
    },
    {
     "name": "stderr",
     "output_type": "stream",
     "text": [
      "Uploading crops.zip...: 100%|██████████| 99.9M/99.9M [00:05<00:00, 17.9MB/s]\n",
      "Importing to 17486... (Processing files 27100/27150): 100%|██████████| 100/100 [03:11<00:00,  1.92s/%]\n",
      "100%|██████████| 1/1 [03:18<00:00, 198.95s/it]\n"
     ]
    },
    {
     "name": "stdout",
     "output_type": "stream",
     "text": [
      "Successfully uploaded /home/veit/PIScO_dev/Segmentation_results/SO308/SO308-PISCO-Profiles/TempResults/SO308_1-13-4_PISCO2_20241111-0925/SO308_1-13-4_PISCO2_20241111-0925_Results/EcoTaxa/crops.zip to project 17486.\n",
      "Uploaded crops.zip to project 17486.\n",
      "SO308_1-21-1_PISCO2_20241117-0624\n",
      "Processing EcoTaxa folder: /home/veit/PIScO_dev/Segmentation_results/SO308/SO308-PISCO-Profiles/TempResults/SO308_1-21-1_PISCO2_20241117-0624/SO308_1-21-1_PISCO2_20241117-0624_Results/EcoTaxa\n"
     ]
    },
    {
     "name": "stderr",
     "output_type": "stream",
     "text": [
      "Uploading crops.zip...: 100%|██████████| 44.1M/44.1M [00:04<00:00, 10.0MB/s]\n",
      "Importing to 17486... (Processing files 9700/9731): 100%|██████████| 100/100 [02:01<00:00,  1.21s/%]\n",
      "100%|██████████| 1/1 [02:06<00:00, 126.91s/it]\n"
     ]
    },
    {
     "name": "stdout",
     "output_type": "stream",
     "text": [
      "Successfully uploaded /home/veit/PIScO_dev/Segmentation_results/SO308/SO308-PISCO-Profiles/TempResults/SO308_1-21-1_PISCO2_20241117-0624/SO308_1-21-1_PISCO2_20241117-0624_Results/EcoTaxa/crops.zip to project 17486.\n",
      "Uploaded crops.zip to project 17486.\n",
      "SO308_1-27-1_PISCO2_20241123-2221\n",
      "Processing EcoTaxa folder: /home/veit/PIScO_dev/Segmentation_results/SO308/SO308-PISCO-Profiles/TempResults/SO308_1-27-1_PISCO2_20241123-2221/SO308_1-27-1_PISCO2_20241123-2221_Results/EcoTaxa\n"
     ]
    },
    {
     "name": "stderr",
     "output_type": "stream",
     "text": [
      "Uploading crops.zip...: 100%|██████████| 247M/247M [00:06<00:00, 40.0MB/s]\n",
      "Importing to 17486... (Processing files 8800/8857):  99%|█████████▉| 99/100 [02:31<00:01,  1.53s/%]\n",
      "100%|██████████| 1/1 [02:39<00:00, 159.94s/it]\n"
     ]
    },
    {
     "name": "stdout",
     "output_type": "stream",
     "text": [
      "Successfully uploaded /home/veit/PIScO_dev/Segmentation_results/SO308/SO308-PISCO-Profiles/TempResults/SO308_1-27-1_PISCO2_20241123-2221/SO308_1-27-1_PISCO2_20241123-2221_Results/EcoTaxa/crops.zip to project 17486.\n",
      "Uploaded crops.zip to project 17486.\n",
      "SO308_1-9-1_PISCO2_20241108-0656\n",
      "Processing EcoTaxa folder: /home/veit/PIScO_dev/Segmentation_results/SO308/SO308-PISCO-Profiles/TempResults/SO308_1-9-1_PISCO2_20241108-0656/SO308_1-9-1_PISCO2_20241108-0656_Results/EcoTaxa\n"
     ]
    },
    {
     "name": "stderr",
     "output_type": "stream",
     "text": [
      "Uploading crops.zip...: 100%|██████████| 116M/116M [00:12<00:00, 9.91MB/s]\n",
      "Importing to 17486... (Processing files 16200/16222): 100%|██████████| 100/100 [02:41<00:00,  1.62s/%]\n",
      "100%|██████████| 1/1 [02:55<00:00, 175.14s/it]\n"
     ]
    },
    {
     "name": "stdout",
     "output_type": "stream",
     "text": [
      "Successfully uploaded /home/veit/PIScO_dev/Segmentation_results/SO308/SO308-PISCO-Profiles/TempResults/SO308_1-9-1_PISCO2_20241108-0656/SO308_1-9-1_PISCO2_20241108-0656_Results/EcoTaxa/crops.zip to project 17486.\n",
      "Uploaded crops.zip to project 17486.\n",
      "SO308_1-9-3_PISCO2_20241108-1005\n",
      "Processing EcoTaxa folder: /home/veit/PIScO_dev/Segmentation_results/SO308/SO308-PISCO-Profiles/TempResults/SO308_1-9-3_PISCO2_20241108-1005/SO308_1-9-3_PISCO2_20241108-1005_Results/EcoTaxa\n"
     ]
    },
    {
     "name": "stderr",
     "output_type": "stream",
     "text": [
      "Uploading crops.zip...: 100%|██████████| 144M/144M [00:04<00:00, 33.0MB/s]\n",
      "Importing to 17486... (Processing files 60600/60629): 100%|██████████| 100/100 [07:34<00:00,  4.55s/%]\n",
      "100%|██████████| 1/1 [07:40<00:00, 460.75s/it]\n"
     ]
    },
    {
     "name": "stdout",
     "output_type": "stream",
     "text": [
      "Successfully uploaded /home/veit/PIScO_dev/Segmentation_results/SO308/SO308-PISCO-Profiles/TempResults/SO308_1-9-3_PISCO2_20241108-1005/SO308_1-9-3_PISCO2_20241108-1005_Results/EcoTaxa/crops.zip to project 17486.\n",
      "Uploaded crops.zip to project 17486.\n",
      "SO308_1-6-1_PISCO2_20241106-2349\n",
      "Processing EcoTaxa folder: /home/veit/PIScO_dev/Segmentation_results/SO308/SO308-PISCO-Profiles/TempResults/SO308_1-6-1_PISCO2_20241106-2349/SO308_1-6-1_PISCO2_20241106-2349_Results/EcoTaxa\n"
     ]
    },
    {
     "name": "stderr",
     "output_type": "stream",
     "text": [
      "Uploading crops_part3_upload.zip...: 100%|██████████| 114M/114M [00:04<00:00, 25.1MB/s]\n",
      "Importing to 17486... (Processing files 43700/43796): 100%|██████████| 100/100 [04:27<00:00,  2.68s/%]\n",
      "100%|██████████| 1/1 [04:33<00:00, 273.88s/it]\n"
     ]
    },
    {
     "name": "stdout",
     "output_type": "stream",
     "text": [
      "Successfully uploaded /home/veit/PIScO_dev/Segmentation_results/SO308/SO308-PISCO-Profiles/TempResults/SO308_1-6-1_PISCO2_20241106-2349/SO308_1-6-1_PISCO2_20241106-2349_Results/EcoTaxa/crops_part3_upload.zip to project 17486.\n",
      "Uploaded crops_part3_upload.zip to project 17486.\n"
     ]
    },
    {
     "name": "stderr",
     "output_type": "stream",
     "text": [
      "Uploading crops_part1_upload.zip...: 100%|██████████| 600M/600M [00:13<00:00, 47.8MB/s]\n",
      "Importing to 17486... (Processing files 243400/243484): 100%|██████████| 100/100 [45:25<00:00, 27.25s/%]\n",
      "100%|██████████| 1/1 [45:41<00:00, 2741.08s/it]\n"
     ]
    },
    {
     "name": "stdout",
     "output_type": "stream",
     "text": [
      "Successfully uploaded /home/veit/PIScO_dev/Segmentation_results/SO308/SO308-PISCO-Profiles/TempResults/SO308_1-6-1_PISCO2_20241106-2349/SO308_1-6-1_PISCO2_20241106-2349_Results/EcoTaxa/crops_part1_upload.zip to project 17486.\n",
      "Uploaded crops_part1_upload.zip to project 17486.\n"
     ]
    },
    {
     "name": "stderr",
     "output_type": "stream",
     "text": [
      "Uploading crops_part2_upload.zip...: 100%|██████████| 601M/601M [00:13<00:00, 47.2MB/s]\n",
      "Importing to 17486... (Processing files 246100/246144): 100%|██████████| 100/100 [17:36<00:00, 10.56s/%]\n",
      "100%|██████████| 1/1 [17:52<00:00, 1072.72s/it]\n"
     ]
    },
    {
     "name": "stdout",
     "output_type": "stream",
     "text": [
      "Successfully uploaded /home/veit/PIScO_dev/Segmentation_results/SO308/SO308-PISCO-Profiles/TempResults/SO308_1-6-1_PISCO2_20241106-2349/SO308_1-6-1_PISCO2_20241106-2349_Results/EcoTaxa/crops_part2_upload.zip to project 17486.\n",
      "Uploaded crops_part2_upload.zip to project 17486.\n",
      "SO308_1-35-4_PISCO2_20241205-0216\n",
      "Processing EcoTaxa folder: /home/veit/PIScO_dev/Segmentation_results/SO308/SO308-PISCO-Profiles/TempResults/SO308_1-35-4_PISCO2_20241205-0216/SO308_1-35-4_PISCO2_20241205-0216_Results/EcoTaxa\n"
     ]
    },
    {
     "name": "stderr",
     "output_type": "stream",
     "text": [
      "Uploading crops.zip...: 100%|██████████| 127M/127M [00:12<00:00, 10.4MB/s]\n",
      "Importing to 17486... (Processing files 9800/9822): 100%|██████████| 100/100 [03:17<00:00,  1.97s/%]\n",
      "100%|██████████| 1/1 [03:31<00:00, 211.22s/it]\n"
     ]
    },
    {
     "name": "stdout",
     "output_type": "stream",
     "text": [
      "Successfully uploaded /home/veit/PIScO_dev/Segmentation_results/SO308/SO308-PISCO-Profiles/TempResults/SO308_1-35-4_PISCO2_20241205-0216/SO308_1-35-4_PISCO2_20241205-0216_Results/EcoTaxa/crops.zip to project 17486.\n",
      "Uploaded crops.zip to project 17486.\n",
      "SO308_1-31-3_PISCO2_20241128-1437\n",
      "Processing EcoTaxa folder: /home/veit/PIScO_dev/Segmentation_results/SO308/SO308-PISCO-Profiles/TempResults/SO308_1-31-3_PISCO2_20241128-1437/SO308_1-31-3_PISCO2_20241128-1437_Results/EcoTaxa\n"
     ]
    },
    {
     "name": "stderr",
     "output_type": "stream",
     "text": [
      "Uploading crops.zip...: 100%|██████████| 99.7M/99.7M [00:04<00:00, 25.6MB/s]\n",
      "Importing to 17486... (Processing files 6400/6498):  99%|█████████▉| 99/100 [02:41<00:01,  1.63s/%]\n",
      "100%|██████████| 1/1 [02:46<00:00, 166.96s/it]\n"
     ]
    },
    {
     "name": "stdout",
     "output_type": "stream",
     "text": [
      "Successfully uploaded /home/veit/PIScO_dev/Segmentation_results/SO308/SO308-PISCO-Profiles/TempResults/SO308_1-31-3_PISCO2_20241128-1437/SO308_1-31-3_PISCO2_20241128-1437_Results/EcoTaxa/crops.zip to project 17486.\n",
      "Uploaded crops.zip to project 17486.\n",
      "SO308_1-39-1_PISCO2_20241209-0258\n",
      "Processing EcoTaxa folder: /home/veit/PIScO_dev/Segmentation_results/SO308/SO308-PISCO-Profiles/TempResults/SO308_1-39-1_PISCO2_20241209-0258/SO308_1-39-1_PISCO2_20241209-0258_Results/EcoTaxa\n"
     ]
    },
    {
     "name": "stderr",
     "output_type": "stream",
     "text": [
      "Uploading crops.zip...: 100%|██████████| 177M/177M [00:05<00:00, 33.7MB/s]\n",
      "Importing to 17486... (Processing files 46300/46313): 100%|██████████| 100/100 [07:56<00:00,  4.77s/%]\n",
      "100%|██████████| 1/1 [08:03<00:00, 483.43s/it]\n"
     ]
    },
    {
     "name": "stdout",
     "output_type": "stream",
     "text": [
      "Successfully uploaded /home/veit/PIScO_dev/Segmentation_results/SO308/SO308-PISCO-Profiles/TempResults/SO308_1-39-1_PISCO2_20241209-0258/SO308_1-39-1_PISCO2_20241209-0258_Results/EcoTaxa/crops.zip to project 17486.\n",
      "Uploaded crops.zip to project 17486.\n",
      "SO308_1-50-4_PISCO2_20241218-0235\n",
      "Processing EcoTaxa folder: /home/veit/PIScO_dev/Segmentation_results/SO308/SO308-PISCO-Profiles/TempResults/SO308_1-50-4_PISCO2_20241218-0235/SO308_1-50-4_PISCO2_20241218-0235_Results/EcoTaxa\n"
     ]
    },
    {
     "name": "stderr",
     "output_type": "stream",
     "text": [
      "Uploading crops.zip...: 100%|██████████| 178M/178M [00:04<00:00, 39.2MB/s]\n",
      "Importing to 17486... (Processing files 21100/21148): 100%|██████████| 100/100 [04:23<00:00,  2.63s/%]\n",
      "100%|██████████| 1/1 [04:29<00:00, 269.45s/it]\n"
     ]
    },
    {
     "name": "stdout",
     "output_type": "stream",
     "text": [
      "Successfully uploaded /home/veit/PIScO_dev/Segmentation_results/SO308/SO308-PISCO-Profiles/TempResults/SO308_1-50-4_PISCO2_20241218-0235/SO308_1-50-4_PISCO2_20241218-0235_Results/EcoTaxa/crops.zip to project 17486.\n",
      "Uploaded crops.zip to project 17486.\n",
      "SO308_1-23-3_PISCO2_20241119-1835\n",
      "Processing EcoTaxa folder: /home/veit/PIScO_dev/Segmentation_results/SO308/SO308-PISCO-Profiles/TempResults/SO308_1-23-3_PISCO2_20241119-1835/SO308_1-23-3_PISCO2_20241119-1835_Results/EcoTaxa\n"
     ]
    },
    {
     "name": "stderr",
     "output_type": "stream",
     "text": [
      "Uploading crops.zip...: 100%|██████████| 65.1M/65.1M [00:01<00:00, 41.7MB/s]\n",
      "Importing to 17486... (Processing files 18300/18335): 100%|██████████| 100/100 [03:37<00:00,  2.17s/%]\n",
      "100%|██████████| 1/1 [03:39<00:00, 219.98s/it]\n"
     ]
    },
    {
     "name": "stdout",
     "output_type": "stream",
     "text": [
      "Successfully uploaded /home/veit/PIScO_dev/Segmentation_results/SO308/SO308-PISCO-Profiles/TempResults/SO308_1-23-3_PISCO2_20241119-1835/SO308_1-23-3_PISCO2_20241119-1835_Results/EcoTaxa/crops.zip to project 17486.\n",
      "Uploaded crops.zip to project 17486.\n",
      "SO308_1-33-5_PISCO2_20241202-0352\n",
      "Processing EcoTaxa folder: /home/veit/PIScO_dev/Segmentation_results/SO308/SO308-PISCO-Profiles/TempResults/SO308_1-33-5_PISCO2_20241202-0352/SO308_1-33-5_PISCO2_20241202-0352_Results/EcoTaxa\n"
     ]
    },
    {
     "name": "stderr",
     "output_type": "stream",
     "text": [
      "Uploading crops.zip...: 100%|██████████| 195M/195M [00:05<00:00, 37.1MB/s]\n",
      "Importing to 17486... (Processing files 11500/11590):  99%|█████████▉| 99/100 [03:28<00:02,  2.11s/%]\n",
      "100%|██████████| 1/1 [03:35<00:00, 215.58s/it]\n"
     ]
    },
    {
     "name": "stdout",
     "output_type": "stream",
     "text": [
      "Successfully uploaded /home/veit/PIScO_dev/Segmentation_results/SO308/SO308-PISCO-Profiles/TempResults/SO308_1-33-5_PISCO2_20241202-0352/SO308_1-33-5_PISCO2_20241202-0352_Results/EcoTaxa/crops.zip to project 17486.\n",
      "Uploaded crops.zip to project 17486.\n",
      "SO308_1-36-3_PISCO2_20241206-0820\n",
      "Processing EcoTaxa folder: /home/veit/PIScO_dev/Segmentation_results/SO308/SO308-PISCO-Profiles/TempResults/SO308_1-36-3_PISCO2_20241206-0820/SO308_1-36-3_PISCO2_20241206-0820_Results/EcoTaxa\n"
     ]
    },
    {
     "name": "stderr",
     "output_type": "stream",
     "text": [
      "Uploading crops.zip...: 100%|██████████| 288M/288M [00:16<00:00, 18.8MB/s]\n",
      "Importing to 17486... (Processing files 19100/19199): 100%|██████████| 100/100 [04:22<00:00,  2.63s/%]\n",
      "100%|██████████| 1/1 [04:40<00:00, 280.90s/it]\n"
     ]
    },
    {
     "name": "stdout",
     "output_type": "stream",
     "text": [
      "Successfully uploaded /home/veit/PIScO_dev/Segmentation_results/SO308/SO308-PISCO-Profiles/TempResults/SO308_1-36-3_PISCO2_20241206-0820/SO308_1-36-3_PISCO2_20241206-0820_Results/EcoTaxa/crops.zip to project 17486.\n",
      "Uploaded crops.zip to project 17486.\n",
      "SO308_1-31-6_PISCO2_20241128-1915\n",
      "Processing EcoTaxa folder: /home/veit/PIScO_dev/Segmentation_results/SO308/SO308-PISCO-Profiles/TempResults/SO308_1-31-6_PISCO2_20241128-1915/SO308_1-31-6_PISCO2_20241128-1915_Results/EcoTaxa\n"
     ]
    },
    {
     "name": "stderr",
     "output_type": "stream",
     "text": [
      "Uploading crops.zip...: 100%|██████████| 105M/105M [00:03<00:00, 30.3MB/s]\n",
      "Importing to 17486... (Processing files 14100/14126): 100%|██████████| 100/100 [03:42<00:00,  2.22s/%]\n",
      "100%|██████████| 1/1 [03:47<00:00, 227.35s/it]\n"
     ]
    },
    {
     "name": "stdout",
     "output_type": "stream",
     "text": [
      "Successfully uploaded /home/veit/PIScO_dev/Segmentation_results/SO308/SO308-PISCO-Profiles/TempResults/SO308_1-31-6_PISCO2_20241128-1915/SO308_1-31-6_PISCO2_20241128-1915_Results/EcoTaxa/crops.zip to project 17486.\n",
      "Uploaded crops.zip to project 17486.\n",
      "SO308_1-19-4_PISCO2_20241115-2125\n",
      "Processing EcoTaxa folder: /home/veit/PIScO_dev/Segmentation_results/SO308/SO308-PISCO-Profiles/TempResults/SO308_1-19-4_PISCO2_20241115-2125/SO308_1-19-4_PISCO2_20241115-2125_Results/EcoTaxa\n"
     ]
    },
    {
     "name": "stderr",
     "output_type": "stream",
     "text": [
      "Uploading crops.zip...: 100%|██████████| 195M/195M [00:05<00:00, 37.5MB/s]\n",
      "Importing to 17486... (Processing files 43000/43026): 100%|██████████| 100/100 [06:29<00:00,  3.90s/%]\n",
      "100%|██████████| 1/1 [06:36<00:00, 396.58s/it]\n"
     ]
    },
    {
     "name": "stdout",
     "output_type": "stream",
     "text": [
      "Successfully uploaded /home/veit/PIScO_dev/Segmentation_results/SO308/SO308-PISCO-Profiles/TempResults/SO308_1-19-4_PISCO2_20241115-2125/SO308_1-19-4_PISCO2_20241115-2125_Results/EcoTaxa/crops.zip to project 17486.\n",
      "Uploaded crops.zip to project 17486.\n",
      "SO308_1-8-1_PISCO2_20241107-1142\n",
      "Processing EcoTaxa folder: /home/veit/PIScO_dev/Segmentation_results/SO308/SO308-PISCO-Profiles/TempResults/SO308_1-8-1_PISCO2_20241107-1142/SO308_1-8-1_PISCO2_20241107-1142_Results/EcoTaxa\n"
     ]
    },
    {
     "name": "stderr",
     "output_type": "stream",
     "text": [
      "  0%|          | 0/1 [00:00<?, ?it/s]\n",
      "ERROR:root:Error during upload: [Errno 2] No such file or directory: '/home/veit/PIScO_dev/Segmentation_results/SO308/SO308-PISCO-Profiles/TempResults/SO308_1-8-1_PISCO2_20241107-1142/SO308_1-8-1_PISCO2_20241107-1142_Results/EcoTaxa/crops.zip'\n"
     ]
    },
    {
     "name": "stdout",
     "output_type": "stream",
     "text": [
      "Uploaded crops.zip to project 17486.\n",
      "SO308_1-46-5_PISCO2_20241214-0916\n",
      "Processing EcoTaxa folder: /home/veit/PIScO_dev/Segmentation_results/SO308/SO308-PISCO-Profiles/TempResults/SO308_1-46-5_PISCO2_20241214-0916/SO308_1-46-5_PISCO2_20241214-0916_Results/EcoTaxa\n"
     ]
    },
    {
     "name": "stderr",
     "output_type": "stream",
     "text": [
      "Uploading crops.zip...: 100%|██████████| 87.4M/87.4M [00:03<00:00, 27.3MB/s]\n",
      "Importing to 17486... (Processing files 26600/26695): 100%|██████████| 100/100 [04:07<00:00,  2.48s/%]\n",
      "100%|██████████| 1/1 [04:12<00:00, 252.35s/it]\n"
     ]
    },
    {
     "name": "stdout",
     "output_type": "stream",
     "text": [
      "Successfully uploaded /home/veit/PIScO_dev/Segmentation_results/SO308/SO308-PISCO-Profiles/TempResults/SO308_1-46-5_PISCO2_20241214-0916/SO308_1-46-5_PISCO2_20241214-0916_Results/EcoTaxa/crops.zip to project 17486.\n",
      "Uploaded crops.zip to project 17486.\n",
      "SO308_1-16-4_PISCO2_20241113-1811\n",
      "Processing EcoTaxa folder: /home/veit/PIScO_dev/Segmentation_results/SO308/SO308-PISCO-Profiles/TempResults/SO308_1-16-4_PISCO2_20241113-1811/SO308_1-16-4_PISCO2_20241113-1811_Results/EcoTaxa\n"
     ]
    },
    {
     "name": "stderr",
     "output_type": "stream",
     "text": [
      "Uploading crops.zip...: 100%|██████████| 512M/512M [00:10<00:00, 53.1MB/s]\n",
      "Importing to 17486... (Processing files 65400/65408): 100%|██████████| 100/100 [09:21<00:00,  5.61s/%]\n",
      "100%|██████████| 1/1 [09:34<00:00, 574.00s/it]\n"
     ]
    },
    {
     "name": "stdout",
     "output_type": "stream",
     "text": [
      "Successfully uploaded /home/veit/PIScO_dev/Segmentation_results/SO308/SO308-PISCO-Profiles/TempResults/SO308_1-16-4_PISCO2_20241113-1811/SO308_1-16-4_PISCO2_20241113-1811_Results/EcoTaxa/crops.zip to project 17486.\n",
      "Uploaded crops.zip to project 17486.\n",
      "SO308_1-34-1_PISCO2_20241203-0637\n",
      "Processing EcoTaxa folder: /home/veit/PIScO_dev/Segmentation_results/SO308/SO308-PISCO-Profiles/TempResults/SO308_1-34-1_PISCO2_20241203-0637/SO308_1-34-1_PISCO2_20241203-0637_Results/EcoTaxa\n"
     ]
    },
    {
     "name": "stderr",
     "output_type": "stream",
     "text": [
      "Uploading crops.zip...: 100%|██████████| 60.6M/60.6M [00:02<00:00, 21.9MB/s]\n",
      "Importing to 17486... (Processing files 10300/10376):  99%|█████████▉| 99/100 [03:17<00:01,  1.99s/%]\n",
      "100%|██████████| 1/1 [03:21<00:00, 201.16s/it]\n"
     ]
    },
    {
     "name": "stdout",
     "output_type": "stream",
     "text": [
      "Successfully uploaded /home/veit/PIScO_dev/Segmentation_results/SO308/SO308-PISCO-Profiles/TempResults/SO308_1-34-1_PISCO2_20241203-0637/SO308_1-34-1_PISCO2_20241203-0637_Results/EcoTaxa/crops.zip to project 17486.\n",
      "Uploaded crops.zip to project 17486.\n",
      "SO308_1-5-1_PISCO2_20241106-1526\n",
      "Processing EcoTaxa folder: /home/veit/PIScO_dev/Segmentation_results/SO308/SO308-PISCO-Profiles/TempResults/SO308_1-5-1_PISCO2_20241106-1526/SO308_1-5-1_PISCO2_20241106-1526_Results/EcoTaxa\n"
     ]
    },
    {
     "name": "stderr",
     "output_type": "stream",
     "text": [
      "Uploading crops_part1_upload.zip...: 100%|██████████| 573M/573M [00:12<00:00, 48.1MB/s]\n",
      "Importing to 17486... (Processing files 177200/177210): 100%|██████████| 100/100 [24:47<00:00, 14.88s/%]\n",
      "100%|██████████| 1/1 [25:02<00:00, 1502.85s/it]\n"
     ]
    },
    {
     "name": "stdout",
     "output_type": "stream",
     "text": [
      "Successfully uploaded /home/veit/PIScO_dev/Segmentation_results/SO308/SO308-PISCO-Profiles/TempResults/SO308_1-5-1_PISCO2_20241106-1526/SO308_1-5-1_PISCO2_20241106-1526_Results/EcoTaxa/crops_part1_upload.zip to project 17486.\n",
      "Uploaded crops_part1_upload.zip to project 17486.\n"
     ]
    },
    {
     "name": "stderr",
     "output_type": "stream",
     "text": [
      "Uploading crops_part2_upload.zip...: 100%|██████████| 62.8M/62.8M [00:02<00:00, 22.2MB/s]\n",
      "Importing to 17486... (Processing files 19300/19393): 100%|██████████| 100/100 [03:34<00:00,  2.15s/%]\n",
      "100%|██████████| 1/1 [03:38<00:00, 218.68s/it]\n"
     ]
    },
    {
     "name": "stdout",
     "output_type": "stream",
     "text": [
      "Successfully uploaded /home/veit/PIScO_dev/Segmentation_results/SO308/SO308-PISCO-Profiles/TempResults/SO308_1-5-1_PISCO2_20241106-1526/SO308_1-5-1_PISCO2_20241106-1526_Results/EcoTaxa/crops_part2_upload.zip to project 17486.\n",
      "Uploaded crops_part2_upload.zip to project 17486.\n",
      "SO308_1-26-4_PISCO2_20241123-0820\n",
      "Processing EcoTaxa folder: /home/veit/PIScO_dev/Segmentation_results/SO308/SO308-PISCO-Profiles/TempResults/SO308_1-26-4_PISCO2_20241123-0820/SO308_1-26-4_PISCO2_20241123-0820_Results/EcoTaxa\n"
     ]
    },
    {
     "name": "stderr",
     "output_type": "stream",
     "text": [
      "Uploading crops.zip...: 100%|██████████| 40.6M/40.6M [00:02<00:00, 15.7MB/s]\n",
      "Importing to 17486... (Processing files 8400/8433): 100%|██████████| 100/100 [02:51<00:00,  1.72s/%]\n",
      "100%|██████████| 1/1 [02:55<00:00, 175.71s/it]\n"
     ]
    },
    {
     "name": "stdout",
     "output_type": "stream",
     "text": [
      "Successfully uploaded /home/veit/PIScO_dev/Segmentation_results/SO308/SO308-PISCO-Profiles/TempResults/SO308_1-26-4_PISCO2_20241123-0820/SO308_1-26-4_PISCO2_20241123-0820_Results/EcoTaxa/crops.zip to project 17486.\n",
      "Uploaded crops.zip to project 17486.\n",
      "SO308_1-17-1_PISCO2_20241114-0737\n",
      "Processing EcoTaxa folder: /home/veit/PIScO_dev/Segmentation_results/SO308/SO308-PISCO-Profiles/TempResults/SO308_1-17-1_PISCO2_20241114-0737/SO308_1-17-1_PISCO2_20241114-0737_Results/EcoTaxa\n"
     ]
    },
    {
     "name": "stderr",
     "output_type": "stream",
     "text": [
      "Uploading crops.zip...: 100%|██████████| 228M/228M [00:08<00:00, 26.9MB/s]\n",
      "Importing to 17486... (Processing files 50500/50572): 100%|██████████| 100/100 [06:19<00:00,  3.79s/%]\n",
      "100%|██████████| 1/1 [06:29<00:00, 389.66s/it]\n"
     ]
    },
    {
     "name": "stdout",
     "output_type": "stream",
     "text": [
      "Successfully uploaded /home/veit/PIScO_dev/Segmentation_results/SO308/SO308-PISCO-Profiles/TempResults/SO308_1-17-1_PISCO2_20241114-0737/SO308_1-17-1_PISCO2_20241114-0737_Results/EcoTaxa/crops.zip to project 17486.\n",
      "Uploaded crops.zip to project 17486.\n",
      "SO308_1-31-1_PISCO2_20241128-0804\n",
      "Processing EcoTaxa folder: /home/veit/PIScO_dev/Segmentation_results/SO308/SO308-PISCO-Profiles/TempResults/SO308_1-31-1_PISCO2_20241128-0804/SO308_1-31-1_PISCO2_20241128-0804_Results/EcoTaxa\n"
     ]
    },
    {
     "name": "stderr",
     "output_type": "stream",
     "text": [
      "Uploading crops.zip...: 100%|██████████| 164M/164M [00:03<00:00, 48.7MB/s]\n",
      "Importing to 17486... (Processing files 14400/14474): 100%|██████████| 100/100 [04:02<00:00,  2.43s/%]\n",
      "100%|██████████| 1/1 [04:07<00:00, 247.62s/it]\n"
     ]
    },
    {
     "name": "stdout",
     "output_type": "stream",
     "text": [
      "Successfully uploaded /home/veit/PIScO_dev/Segmentation_results/SO308/SO308-PISCO-Profiles/TempResults/SO308_1-31-1_PISCO2_20241128-0804/SO308_1-31-1_PISCO2_20241128-0804_Results/EcoTaxa/crops.zip to project 17486.\n",
      "Uploaded crops.zip to project 17486.\n",
      "SO308_1-46-1_PISCO2_20241214-0529\n",
      "Processing EcoTaxa folder: /home/veit/PIScO_dev/Segmentation_results/SO308/SO308-PISCO-Profiles/TempResults/SO308_1-46-1_PISCO2_20241214-0529/SO308_1-46-1_PISCO2_20241214-0529_Results/EcoTaxa\n"
     ]
    },
    {
     "name": "stderr",
     "output_type": "stream",
     "text": [
      "Uploading crops.zip...: 100%|██████████| 80.8M/80.8M [00:03<00:00, 25.6MB/s]\n",
      "Importing to 17486... (Processing files 29400/29405): 100%|██████████| 100/100 [04:43<00:00,  2.83s/%]\n",
      "100%|██████████| 1/1 [04:47<00:00, 287.60s/it]\n"
     ]
    },
    {
     "name": "stdout",
     "output_type": "stream",
     "text": [
      "Successfully uploaded /home/veit/PIScO_dev/Segmentation_results/SO308/SO308-PISCO-Profiles/TempResults/SO308_1-46-1_PISCO2_20241214-0529/SO308_1-46-1_PISCO2_20241214-0529_Results/EcoTaxa/crops.zip to project 17486.\n",
      "Uploaded crops.zip to project 17486.\n",
      "SO308_1-13-1_PISCO2_20241111-0130\n",
      "Processing EcoTaxa folder: /home/veit/PIScO_dev/Segmentation_results/SO308/SO308-PISCO-Profiles/TempResults/SO308_1-13-1_PISCO2_20241111-0130/SO308_1-13-1_PISCO2_20241111-0130_Results/EcoTaxa\n"
     ]
    },
    {
     "name": "stderr",
     "output_type": "stream",
     "text": [
      "Uploading crops.zip...: 100%|██████████| 100M/100M [00:06<00:00, 16.7MB/s] \n",
      "Importing to 17486... (Processing files 20500/20511): 100%|██████████| 100/100 [04:48<00:00,  2.89s/%]\n",
      "100%|██████████| 1/1 [04:56<00:00, 296.38s/it]\n"
     ]
    },
    {
     "name": "stdout",
     "output_type": "stream",
     "text": [
      "Successfully uploaded /home/veit/PIScO_dev/Segmentation_results/SO308/SO308-PISCO-Profiles/TempResults/SO308_1-13-1_PISCO2_20241111-0130/SO308_1-13-1_PISCO2_20241111-0130_Results/EcoTaxa/crops.zip to project 17486.\n",
      "Uploaded crops.zip to project 17486.\n",
      "SO308_1-40-5_PISCO2_20241210-0851\n",
      "Processing EcoTaxa folder: /home/veit/PIScO_dev/Segmentation_results/SO308/SO308-PISCO-Profiles/TempResults/SO308_1-40-5_PISCO2_20241210-0851/SO308_1-40-5_PISCO2_20241210-0851_Results/EcoTaxa\n"
     ]
    },
    {
     "name": "stderr",
     "output_type": "stream",
     "text": [
      "Uploading crops.zip...: 100%|██████████| 83.0M/83.0M [00:03<00:00, 22.5MB/s]\n",
      "Importing to 17486... (Processing files 16200/16214): 100%|██████████| 100/100 [03:37<00:00,  2.17s/%]\n",
      "100%|██████████| 1/1 [03:42<00:00, 222.50s/it]\n"
     ]
    },
    {
     "name": "stdout",
     "output_type": "stream",
     "text": [
      "Successfully uploaded /home/veit/PIScO_dev/Segmentation_results/SO308/SO308-PISCO-Profiles/TempResults/SO308_1-40-5_PISCO2_20241210-0851/SO308_1-40-5_PISCO2_20241210-0851_Results/EcoTaxa/crops.zip to project 17486.\n",
      "Uploaded crops.zip to project 17486.\n",
      "SO308_1-28-4_PISCO2_20241125-0128\n",
      "Processing EcoTaxa folder: /home/veit/PIScO_dev/Segmentation_results/SO308/SO308-PISCO-Profiles/TempResults/SO308_1-28-4_PISCO2_20241125-0128/SO308_1-28-4_PISCO2_20241125-0128_Results/EcoTaxa\n"
     ]
    },
    {
     "name": "stderr",
     "output_type": "stream",
     "text": [
      "Uploading crops.zip...: 100%|██████████| 134M/134M [00:04<00:00, 32.4MB/s]\n",
      "Importing to 17486... (Processing files 11600/11654): 100%|██████████| 100/100 [03:32<00:00,  2.12s/%]\n",
      "100%|██████████| 1/1 [03:38<00:00, 218.19s/it]\n"
     ]
    },
    {
     "name": "stdout",
     "output_type": "stream",
     "text": [
      "Successfully uploaded /home/veit/PIScO_dev/Segmentation_results/SO308/SO308-PISCO-Profiles/TempResults/SO308_1-28-4_PISCO2_20241125-0128/SO308_1-28-4_PISCO2_20241125-0128_Results/EcoTaxa/crops.zip to project 17486.\n",
      "Uploaded crops.zip to project 17486.\n",
      "SO308_1-7-3_PISCO2_20241107-0546\n",
      "Processing EcoTaxa folder: /home/veit/PIScO_dev/Segmentation_results/SO308/SO308-PISCO-Profiles/TempResults/SO308_1-7-3_PISCO2_20241107-0546/SO308_1-7-3_PISCO2_20241107-0546_Results/EcoTaxa\n"
     ]
    },
    {
     "name": "stderr",
     "output_type": "stream",
     "text": [
      "Uploading crops.zip...: 100%|██████████| 34.5M/34.5M [00:02<00:00, 14.5MB/s]\n",
      "Importing to 17486... (Processing files 7200/7219): 100%|██████████| 100/100 [02:51<00:00,  1.72s/%]\n",
      "100%|██████████| 1/1 [02:55<00:00, 175.35s/it]\n"
     ]
    },
    {
     "name": "stdout",
     "output_type": "stream",
     "text": [
      "Successfully uploaded /home/veit/PIScO_dev/Segmentation_results/SO308/SO308-PISCO-Profiles/TempResults/SO308_1-7-3_PISCO2_20241107-0546/SO308_1-7-3_PISCO2_20241107-0546_Results/EcoTaxa/crops.zip to project 17486.\n",
      "Uploaded crops.zip to project 17486.\n",
      "SO308_1-19-1_PISCO2_20241115-1249\n",
      "Processing EcoTaxa folder: /home/veit/PIScO_dev/Segmentation_results/SO308/SO308-PISCO-Profiles/TempResults/SO308_1-19-1_PISCO2_20241115-1249/SO308_1-19-1_PISCO2_20241115-1249_Results/EcoTaxa\n"
     ]
    },
    {
     "name": "stderr",
     "output_type": "stream",
     "text": [
      "Uploading crops.zip...: 100%|██████████| 351M/351M [00:08<00:00, 43.2MB/s]\n",
      "Importing to 17486... (Processing files 45700/45777): 100%|██████████| 100/100 [09:51<00:00,  5.92s/%]\n",
      "100%|██████████| 1/1 [10:02<00:00, 602.34s/it]\n"
     ]
    },
    {
     "name": "stdout",
     "output_type": "stream",
     "text": [
      "Successfully uploaded /home/veit/PIScO_dev/Segmentation_results/SO308/SO308-PISCO-Profiles/TempResults/SO308_1-19-1_PISCO2_20241115-1249/SO308_1-19-1_PISCO2_20241115-1249_Results/EcoTaxa/crops.zip to project 17486.\n",
      "Uploaded crops.zip to project 17486.\n",
      "SO308_1-35-4_PISCO2_20241113-1707\n",
      "Processing EcoTaxa folder: /home/veit/PIScO_dev/Segmentation_results/SO308/SO308-PISCO-Profiles/TempResults/SO308_1-35-4_PISCO2_20241113-1707/SO308_1-35-4_PISCO2_20241113-1707_Results/EcoTaxa\n"
     ]
    },
    {
     "name": "stderr",
     "output_type": "stream",
     "text": [
      "Uploading crops.zip...: 100%|██████████| 93.2M/93.2M [00:03<00:00, 24.4MB/s]\n",
      "Importing to 17486... (Processing files 34400/34452): 100%|██████████| 100/100 [05:03<00:00,  3.03s/%]\n",
      "100%|██████████| 1/1 [05:08<00:00, 308.50s/it]\n"
     ]
    },
    {
     "name": "stdout",
     "output_type": "stream",
     "text": [
      "Successfully uploaded /home/veit/PIScO_dev/Segmentation_results/SO308/SO308-PISCO-Profiles/TempResults/SO308_1-35-4_PISCO2_20241113-1707/SO308_1-35-4_PISCO2_20241113-1707_Results/EcoTaxa/crops.zip to project 17486.\n",
      "Uploaded crops.zip to project 17486.\n",
      "SO308_1-41-3_PISCO2_20241210-2216\n",
      "Processing EcoTaxa folder: /home/veit/PIScO_dev/Segmentation_results/SO308/SO308-PISCO-Profiles/TempResults/SO308_1-41-3_PISCO2_20241210-2216/SO308_1-41-3_PISCO2_20241210-2216_Results/EcoTaxa\n"
     ]
    },
    {
     "name": "stderr",
     "output_type": "stream",
     "text": [
      "Uploading crops.zip...: 100%|██████████| 88.3M/88.3M [00:03<00:00, 23.6MB/s]\n",
      "Importing to 17486... (Processing files 34100/34141): 100%|██████████| 100/100 [05:18<00:00,  3.18s/%]\n",
      "100%|██████████| 1/1 [05:23<00:00, 323.53s/it]\n"
     ]
    },
    {
     "name": "stdout",
     "output_type": "stream",
     "text": [
      "Successfully uploaded /home/veit/PIScO_dev/Segmentation_results/SO308/SO308-PISCO-Profiles/TempResults/SO308_1-41-3_PISCO2_20241210-2216/SO308_1-41-3_PISCO2_20241210-2216_Results/EcoTaxa/crops.zip to project 17486.\n",
      "Uploaded crops.zip to project 17486.\n",
      "SO308_1-50-2_PISCO2_20241218-0054\n",
      "Processing EcoTaxa folder: /home/veit/PIScO_dev/Segmentation_results/SO308/SO308-PISCO-Profiles/TempResults/SO308_1-50-2_PISCO2_20241218-0054/SO308_1-50-2_PISCO2_20241218-0054_Results/EcoTaxa\n"
     ]
    },
    {
     "name": "stderr",
     "output_type": "stream",
     "text": [
      "Uploading crops.zip...: 100%|██████████| 49.0M/49.0M [00:02<00:00, 19.6MB/s]\n",
      "Importing to 17486... (Processing files 17400/17489): 100%|██████████| 100/100 [03:47<00:00,  2.27s/%]\n",
      "100%|██████████| 1/1 [03:51<00:00, 231.19s/it]\n"
     ]
    },
    {
     "name": "stdout",
     "output_type": "stream",
     "text": [
      "Successfully uploaded /home/veit/PIScO_dev/Segmentation_results/SO308/SO308-PISCO-Profiles/TempResults/SO308_1-50-2_PISCO2_20241218-0054/SO308_1-50-2_PISCO2_20241218-0054_Results/EcoTaxa/crops.zip to project 17486.\n",
      "Uploaded crops.zip to project 17486.\n",
      "SO308_1-49-1_PISCO2_20241216-2353\n",
      "Processing EcoTaxa folder: /home/veit/PIScO_dev/Segmentation_results/SO308/SO308-PISCO-Profiles/TempResults/SO308_1-49-1_PISCO2_20241216-2353/SO308_1-49-1_PISCO2_20241216-2353_Results/EcoTaxa\n"
     ]
    },
    {
     "name": "stderr",
     "output_type": "stream",
     "text": [
      "Uploading crops.zip...: 100%|██████████| 366M/366M [00:08<00:00, 43.9MB/s]\n",
      "Importing to 17486... (Processing files 62700/62740): 100%|██████████| 100/100 [07:44<00:00,  4.65s/%]\n",
      "100%|██████████| 1/1 [07:55<00:00, 475.83s/it]\n"
     ]
    },
    {
     "name": "stdout",
     "output_type": "stream",
     "text": [
      "Successfully uploaded /home/veit/PIScO_dev/Segmentation_results/SO308/SO308-PISCO-Profiles/TempResults/SO308_1-49-1_PISCO2_20241216-2353/SO308_1-49-1_PISCO2_20241216-2353_Results/EcoTaxa/crops.zip to project 17486.\n",
      "Uploaded crops.zip to project 17486.\n",
      "SO308_1-25-1_PISCO2_20241122-0153\n",
      "Processing EcoTaxa folder: /home/veit/PIScO_dev/Segmentation_results/SO308/SO308-PISCO-Profiles/TempResults/SO308_1-25-1_PISCO2_20241122-0153/SO308_1-25-1_PISCO2_20241122-0153_Results/EcoTaxa\n"
     ]
    },
    {
     "name": "stderr",
     "output_type": "stream",
     "text": [
      "Uploading crops.zip...: 100%|██████████| 147M/147M [00:04<00:00, 34.8MB/s]\n",
      "Importing to 17486... (Processing files 6600/6684):  99%|█████████▉| 99/100 [03:12<00:01,  1.94s/%]\n",
      "100%|██████████| 1/1 [03:17<00:00, 197.90s/it]\n"
     ]
    },
    {
     "name": "stdout",
     "output_type": "stream",
     "text": [
      "Successfully uploaded /home/veit/PIScO_dev/Segmentation_results/SO308/SO308-PISCO-Profiles/TempResults/SO308_1-25-1_PISCO2_20241122-0153/SO308_1-25-1_PISCO2_20241122-0153_Results/EcoTaxa/crops.zip to project 17486.\n",
      "Uploaded crops.zip to project 17486.\n",
      "SO308_1-30-1_PISCO2_20241127-0146\n",
      "Processing EcoTaxa folder: /home/veit/PIScO_dev/Segmentation_results/SO308/SO308-PISCO-Profiles/TempResults/SO308_1-30-1_PISCO2_20241127-0146/SO308_1-30-1_PISCO2_20241127-0146_Results/EcoTaxa\n"
     ]
    },
    {
     "name": "stderr",
     "output_type": "stream",
     "text": [
      "Uploading crops.zip...: 100%|██████████| 536M/536M [00:12<00:00, 46.7MB/s]\n",
      "Importing to 17486... (Processing files 151600/151606): 100%|██████████| 100/100 [11:52<00:00,  7.13s/%]\n",
      "100%|██████████| 1/1 [12:07<00:00, 727.46s/it]\n"
     ]
    },
    {
     "name": "stdout",
     "output_type": "stream",
     "text": [
      "Successfully uploaded /home/veit/PIScO_dev/Segmentation_results/SO308/SO308-PISCO-Profiles/TempResults/SO308_1-30-1_PISCO2_20241127-0146/SO308_1-30-1_PISCO2_20241127-0146_Results/EcoTaxa/crops.zip to project 17486.\n",
      "Uploaded crops.zip to project 17486.\n",
      "SO308_1-13-3_PISCO2_20241111-0508\n",
      "Processing EcoTaxa folder: /home/veit/PIScO_dev/Segmentation_results/SO308/SO308-PISCO-Profiles/TempResults/SO308_1-13-3_PISCO2_20241111-0508/SO308_1-13-3_PISCO2_20241111-0508_Results/EcoTaxa\n"
     ]
    },
    {
     "name": "stderr",
     "output_type": "stream",
     "text": [
      "Uploading crops.zip...: 100%|██████████| 146M/146M [00:06<00:00, 25.4MB/s]\n",
      "Importing to 17486... (Processing files 42900/42922): 100%|██████████| 100/100 [07:04<00:00,  4.25s/%]\n",
      "100%|██████████| 1/1 [07:12<00:00, 432.15s/it]\n"
     ]
    },
    {
     "name": "stdout",
     "output_type": "stream",
     "text": [
      "Successfully uploaded /home/veit/PIScO_dev/Segmentation_results/SO308/SO308-PISCO-Profiles/TempResults/SO308_1-13-3_PISCO2_20241111-0508/SO308_1-13-3_PISCO2_20241111-0508_Results/EcoTaxa/crops.zip to project 17486.\n",
      "Uploaded crops.zip to project 17486.\n",
      "SO308_1-42-4_PISCO2_20241211-1025\n",
      "Processing EcoTaxa folder: /home/veit/PIScO_dev/Segmentation_results/SO308/SO308-PISCO-Profiles/TempResults/SO308_1-42-4_PISCO2_20241211-1025/SO308_1-42-4_PISCO2_20241211-1025_Results/EcoTaxa\n"
     ]
    },
    {
     "name": "stderr",
     "output_type": "stream",
     "text": [
      "Uploading crops.zip...: 100%|██████████| 118M/118M [00:04<00:00, 30.6MB/s]\n",
      "Importing to 17486... (Processing files 21800/21887): 100%|██████████| 100/100 [04:22<00:00,  2.63s/%]\n",
      "100%|██████████| 1/1 [04:28<00:00, 268.23s/it]\n"
     ]
    },
    {
     "name": "stdout",
     "output_type": "stream",
     "text": [
      "Successfully uploaded /home/veit/PIScO_dev/Segmentation_results/SO308/SO308-PISCO-Profiles/TempResults/SO308_1-42-4_PISCO2_20241211-1025/SO308_1-42-4_PISCO2_20241211-1025_Results/EcoTaxa/crops.zip to project 17486.\n",
      "Uploaded crops.zip to project 17486.\n",
      "SO308_1-45-3_PISCO2_20241214-0043\n",
      "Processing EcoTaxa folder: /home/veit/PIScO_dev/Segmentation_results/SO308/SO308-PISCO-Profiles/TempResults/SO308_1-45-3_PISCO2_20241214-0043/SO308_1-45-3_PISCO2_20241214-0043_Results/EcoTaxa\n"
     ]
    },
    {
     "name": "stderr",
     "output_type": "stream",
     "text": [
      "Uploading crops.zip...: 100%|██████████| 117M/117M [00:03<00:00, 31.5MB/s]\n",
      "Importing to 17486... (Processing files 34800/34836): 100%|██████████| 100/100 [05:18<00:00,  3.18s/%]\n",
      "100%|██████████| 1/1 [05:23<00:00, 323.66s/it]\n"
     ]
    },
    {
     "name": "stdout",
     "output_type": "stream",
     "text": [
      "Successfully uploaded /home/veit/PIScO_dev/Segmentation_results/SO308/SO308-PISCO-Profiles/TempResults/SO308_1-45-3_PISCO2_20241214-0043/SO308_1-45-3_PISCO2_20241214-0043_Results/EcoTaxa/crops.zip to project 17486.\n",
      "Uploaded crops.zip to project 17486.\n",
      "SO308_1-36-5_PISCO2_20241206-1320\n",
      "Processing EcoTaxa folder: /home/veit/PIScO_dev/Segmentation_results/SO308/SO308-PISCO-Profiles/TempResults/SO308_1-36-5_PISCO2_20241206-1320/SO308_1-36-5_PISCO2_20241206-1320_Results/EcoTaxa\n"
     ]
    },
    {
     "name": "stderr",
     "output_type": "stream",
     "text": [
      "Uploading crops.zip...: 100%|██████████| 107M/107M [00:03<00:00, 30.2MB/s]\n",
      "Importing to 17486... (Processing files 5500/5509): 100%|██████████| 100/100 [03:09<00:00,  1.90s/%]\n",
      "100%|██████████| 1/1 [03:15<00:00, 195.00s/it]\n"
     ]
    },
    {
     "name": "stdout",
     "output_type": "stream",
     "text": [
      "Successfully uploaded /home/veit/PIScO_dev/Segmentation_results/SO308/SO308-PISCO-Profiles/TempResults/SO308_1-36-5_PISCO2_20241206-1320/SO308_1-36-5_PISCO2_20241206-1320_Results/EcoTaxa/crops.zip to project 17486.\n",
      "Uploaded crops.zip to project 17486.\n",
      "SO308_1-39-4_PISCO2_20241209-1202\n",
      "Processing EcoTaxa folder: /home/veit/PIScO_dev/Segmentation_results/SO308/SO308-PISCO-Profiles/TempResults/SO308_1-39-4_PISCO2_20241209-1202/SO308_1-39-4_PISCO2_20241209-1202_Results/EcoTaxa\n"
     ]
    },
    {
     "name": "stderr",
     "output_type": "stream",
     "text": [
      "Uploading crops.zip...: 100%|██████████| 249M/249M [00:06<00:00, 38.9MB/s]\n",
      "Importing to 17486... (Processing files 20900/20962): 100%|██████████| 100/100 [04:37<00:00,  2.78s/%]\n",
      "100%|██████████| 1/1 [04:46<00:00, 286.08s/it]\n"
     ]
    },
    {
     "name": "stdout",
     "output_type": "stream",
     "text": [
      "Successfully uploaded /home/veit/PIScO_dev/Segmentation_results/SO308/SO308-PISCO-Profiles/TempResults/SO308_1-39-4_PISCO2_20241209-1202/SO308_1-39-4_PISCO2_20241209-1202_Results/EcoTaxa/crops.zip to project 17486.\n",
      "Uploaded crops.zip to project 17486.\n",
      "SO308_1-47-3_PISCO2_20241215-0646\n",
      "Processing EcoTaxa folder: /home/veit/PIScO_dev/Segmentation_results/SO308/SO308-PISCO-Profiles/TempResults/SO308_1-47-3_PISCO2_20241215-0646/SO308_1-47-3_PISCO2_20241215-0646_Results/EcoTaxa\n"
     ]
    },
    {
     "name": "stderr",
     "output_type": "stream",
     "text": [
      "Uploading crops.zip...: 100%|██████████| 85.8M/85.8M [00:01<00:00, 46.8MB/s]\n",
      "Importing to 17486... (Processing files 30100/30183): 100%|██████████| 100/100 [05:38<00:00,  3.38s/%]\n",
      "100%|██████████| 1/1 [05:41<00:00, 341.35s/it]\n"
     ]
    },
    {
     "name": "stdout",
     "output_type": "stream",
     "text": [
      "Successfully uploaded /home/veit/PIScO_dev/Segmentation_results/SO308/SO308-PISCO-Profiles/TempResults/SO308_1-47-3_PISCO2_20241215-0646/SO308_1-47-3_PISCO2_20241215-0646_Results/EcoTaxa/crops.zip to project 17486.\n",
      "Uploaded crops.zip to project 17486.\n",
      "SO308_1-42-1_PISCO2_20241211-0907\n",
      "Processing EcoTaxa folder: /home/veit/PIScO_dev/Segmentation_results/SO308/SO308-PISCO-Profiles/TempResults/SO308_1-42-1_PISCO2_20241211-0907/SO308_1-42-1_PISCO2_20241211-0907_Results/EcoTaxa\n"
     ]
    },
    {
     "name": "stderr",
     "output_type": "stream",
     "text": [
      "Uploading crops.zip...: 100%|██████████| 119M/119M [00:03<00:00, 31.7MB/s]\n",
      "Importing to 17486... (Processing files 16700/16776): 100%|██████████| 100/100 [03:37<00:00,  2.17s/%]\n",
      "100%|██████████| 1/1 [03:42<00:00, 222.22s/it]\n"
     ]
    },
    {
     "name": "stdout",
     "output_type": "stream",
     "text": [
      "Successfully uploaded /home/veit/PIScO_dev/Segmentation_results/SO308/SO308-PISCO-Profiles/TempResults/SO308_1-42-1_PISCO2_20241211-0907/SO308_1-42-1_PISCO2_20241211-0907_Results/EcoTaxa/crops.zip to project 17486.\n",
      "Uploaded crops.zip to project 17486.\n",
      "SO308_1-1-6_PISCO2_20241104-2130\n",
      "Processing EcoTaxa folder: /home/veit/PIScO_dev/Segmentation_results/SO308/SO308-PISCO-Profiles/TempResults/SO308_1-1-6_PISCO2_20241104-2130/SO308_1-1-6_PISCO2_20241104-2130_Results/EcoTaxa\n"
     ]
    },
    {
     "name": "stderr",
     "output_type": "stream",
     "text": [
      "Uploading crops_part3_upload.zip...: 100%|██████████| 513M/513M [00:10<00:00, 52.9MB/s]\n",
      "Importing to 17486... (Processing files 37300/37386): 100%|██████████| 100/100 [06:33<00:00,  3.94s/%]\n",
      "100%|██████████| 1/1 [06:46<00:00, 406.70s/it]\n"
     ]
    },
    {
     "name": "stdout",
     "output_type": "stream",
     "text": [
      "Successfully uploaded /home/veit/PIScO_dev/Segmentation_results/SO308/SO308-PISCO-Profiles/TempResults/SO308_1-1-6_PISCO2_20241104-2130/SO308_1-1-6_PISCO2_20241104-2130_Results/EcoTaxa/crops_part3_upload.zip to project 17486.\n",
      "Uploaded crops_part3_upload.zip to project 17486.\n"
     ]
    },
    {
     "name": "stderr",
     "output_type": "stream",
     "text": [
      "Uploading crops_part1_upload.zip...: 100%|██████████| 514M/514M [00:11<00:00, 47.4MB/s]\n",
      "Importing to 17486... (Processing files 37100/37125): 100%|██████████| 100/100 [05:26<00:00,  3.26s/%]\n",
      "100%|██████████| 1/1 [05:40<00:00, 340.42s/it]\n"
     ]
    },
    {
     "name": "stdout",
     "output_type": "stream",
     "text": [
      "Successfully uploaded /home/veit/PIScO_dev/Segmentation_results/SO308/SO308-PISCO-Profiles/TempResults/SO308_1-1-6_PISCO2_20241104-2130/SO308_1-1-6_PISCO2_20241104-2130_Results/EcoTaxa/crops_part1_upload.zip to project 17486.\n",
      "Uploaded crops_part1_upload.zip to project 17486.\n"
     ]
    },
    {
     "name": "stderr",
     "output_type": "stream",
     "text": [
      "Uploading crops_part4_upload.zip...: 100%|██████████| 515M/515M [00:11<00:00, 47.5MB/s]\n",
      "Importing to 17486... (Processing files 38800/38855): 100%|██████████| 100/100 [05:23<00:00,  3.23s/%]\n",
      "100%|██████████| 1/1 [05:37<00:00, 337.43s/it]\n"
     ]
    },
    {
     "name": "stdout",
     "output_type": "stream",
     "text": [
      "Successfully uploaded /home/veit/PIScO_dev/Segmentation_results/SO308/SO308-PISCO-Profiles/TempResults/SO308_1-1-6_PISCO2_20241104-2130/SO308_1-1-6_PISCO2_20241104-2130_Results/EcoTaxa/crops_part4_upload.zip to project 17486.\n",
      "Uploaded crops_part4_upload.zip to project 17486.\n"
     ]
    },
    {
     "name": "stderr",
     "output_type": "stream",
     "text": [
      "Uploading crops_part2_upload.zip...: 100%|██████████| 511M/511M [00:13<00:00, 39.2MB/s]\n",
      "Importing to 17486... (Processing files 36000/36058): 100%|██████████| 100/100 [05:18<00:00,  3.18s/%]\n",
      "100%|██████████| 1/1 [05:34<00:00, 334.71s/it]\n"
     ]
    },
    {
     "name": "stdout",
     "output_type": "stream",
     "text": [
      "Successfully uploaded /home/veit/PIScO_dev/Segmentation_results/SO308/SO308-PISCO-Profiles/TempResults/SO308_1-1-6_PISCO2_20241104-2130/SO308_1-1-6_PISCO2_20241104-2130_Results/EcoTaxa/crops_part2_upload.zip to project 17486.\n",
      "Uploaded crops_part2_upload.zip to project 17486.\n"
     ]
    },
    {
     "name": "stderr",
     "output_type": "stream",
     "text": [
      "Uploading crops_part5_upload.zip...: 100%|██████████| 283M/283M [00:10<00:00, 28.6MB/s]\n",
      "Importing to 17486... (Processing files 18000/18047): 100%|██████████| 100/100 [03:58<00:00,  2.38s/%]\n",
      "100%|██████████| 1/1 [04:10<00:00, 250.41s/it]\n"
     ]
    },
    {
     "name": "stdout",
     "output_type": "stream",
     "text": [
      "Successfully uploaded /home/veit/PIScO_dev/Segmentation_results/SO308/SO308-PISCO-Profiles/TempResults/SO308_1-1-6_PISCO2_20241104-2130/SO308_1-1-6_PISCO2_20241104-2130_Results/EcoTaxa/crops_part5_upload.zip to project 17486.\n",
      "Uploaded crops_part5_upload.zip to project 17486.\n",
      "SO308_1-5-4_PISCO2_20241106-1634\n",
      "Processing EcoTaxa folder: /home/veit/PIScO_dev/Segmentation_results/SO308/SO308-PISCO-Profiles/TempResults/SO308_1-5-4_PISCO2_20241106-1634/SO308_1-5-4_PISCO2_20241106-1634_Results/EcoTaxa\n"
     ]
    },
    {
     "name": "stderr",
     "output_type": "stream",
     "text": [
      "Uploading crops.zip...: 100%|██████████| 455M/455M [00:10<00:00, 43.4MB/s]\n",
      "Importing to 17486... (Processing files 146500/146560): 100%|██████████| 100/100 [16:51<00:00, 10.11s/%]\n",
      "100%|██████████| 1/1 [17:04<00:00, 1024.52s/it]\n"
     ]
    },
    {
     "name": "stdout",
     "output_type": "stream",
     "text": [
      "Successfully uploaded /home/veit/PIScO_dev/Segmentation_results/SO308/SO308-PISCO-Profiles/TempResults/SO308_1-5-4_PISCO2_20241106-1634/SO308_1-5-4_PISCO2_20241106-1634_Results/EcoTaxa/crops.zip to project 17486.\n",
      "Uploaded crops.zip to project 17486.\n",
      "SO308_1-32-1_PISCO2_20241130-0816\n",
      "Processing EcoTaxa folder: /home/veit/PIScO_dev/Segmentation_results/SO308/SO308-PISCO-Profiles/TempResults/SO308_1-32-1_PISCO2_20241130-0816/SO308_1-32-1_PISCO2_20241130-0816_Results/EcoTaxa\n"
     ]
    },
    {
     "name": "stderr",
     "output_type": "stream",
     "text": [
      "Uploading crops.zip...: 100%|██████████| 89.8M/89.8M [00:02<00:00, 45.0MB/s]\n",
      "Importing to 17486... (Processing files 10600/10694):  99%|█████████▉| 99/100 [04:07<00:02,  2.50s/%]\n",
      "100%|██████████| 1/1 [04:11<00:00, 251.05s/it]\n"
     ]
    },
    {
     "name": "stdout",
     "output_type": "stream",
     "text": [
      "Successfully uploaded /home/veit/PIScO_dev/Segmentation_results/SO308/SO308-PISCO-Profiles/TempResults/SO308_1-32-1_PISCO2_20241130-0816/SO308_1-32-1_PISCO2_20241130-0816_Results/EcoTaxa/crops.zip to project 17486.\n",
      "Uploaded crops.zip to project 17486.\n",
      "SO308_1-48-4_PISCO2_20241216-0716\n",
      "Processing EcoTaxa folder: /home/veit/PIScO_dev/Segmentation_results/SO308/SO308-PISCO-Profiles/TempResults/SO308_1-48-4_PISCO2_20241216-0716/SO308_1-48-4_PISCO2_20241216-0716_Results/EcoTaxa\n"
     ]
    },
    {
     "name": "stderr",
     "output_type": "stream",
     "text": [
      "Uploading crops.zip...: 100%|██████████| 80.6M/80.6M [00:01<00:00, 43.6MB/s]\n",
      "Importing to 17486... (Processing files 22000/22043): 100%|██████████| 100/100 [04:59<00:00,  2.99s/%]\n",
      "100%|██████████| 1/1 [05:02<00:00, 302.30s/it]\n"
     ]
    },
    {
     "name": "stdout",
     "output_type": "stream",
     "text": [
      "Successfully uploaded /home/veit/PIScO_dev/Segmentation_results/SO308/SO308-PISCO-Profiles/TempResults/SO308_1-48-4_PISCO2_20241216-0716/SO308_1-48-4_PISCO2_20241216-0716_Results/EcoTaxa/crops.zip to project 17486.\n",
      "Uploaded crops.zip to project 17486.\n",
      "SO308_1-27-3_PISCO2_20241124-0124\n",
      "Processing EcoTaxa folder: /home/veit/PIScO_dev/Segmentation_results/SO308/SO308-PISCO-Profiles/TempResults/SO308_1-27-3_PISCO2_20241124-0124/SO308_1-27-3_PISCO2_20241124-0124_Results/EcoTaxa\n"
     ]
    },
    {
     "name": "stderr",
     "output_type": "stream",
     "text": [
      "Uploading crops.zip...: 100%|██████████| 62.2M/62.2M [00:01<00:00, 33.7MB/s]\n",
      "Importing to 17486... (Processing files 7100/7180):  99%|█████████▉| 99/100 [03:52<00:02,  2.35s/%]\n",
      "100%|██████████| 1/1 [03:55<00:00, 235.88s/it]\n"
     ]
    },
    {
     "name": "stdout",
     "output_type": "stream",
     "text": [
      "Successfully uploaded /home/veit/PIScO_dev/Segmentation_results/SO308/SO308-PISCO-Profiles/TempResults/SO308_1-27-3_PISCO2_20241124-0124/SO308_1-27-3_PISCO2_20241124-0124_Results/EcoTaxa/crops.zip to project 17486.\n",
      "Uploaded crops.zip to project 17486.\n",
      "SO308_1-43-4_PISCO2_20241212-0534\n",
      "Processing EcoTaxa folder: /home/veit/PIScO_dev/Segmentation_results/SO308/SO308-PISCO-Profiles/TempResults/SO308_1-43-4_PISCO2_20241212-0534/SO308_1-43-4_PISCO2_20241212-0534_Results/EcoTaxa\n"
     ]
    },
    {
     "name": "stderr",
     "output_type": "stream",
     "text": [
      "Uploading crops.zip...: 100%|██████████| 119M/119M [00:04<00:00, 30.9MB/s]\n",
      "Importing to 17486... (Processing files 21400/21408): 100%|██████████| 100/100 [04:53<00:00,  2.93s/%]\n",
      "100%|██████████| 1/1 [04:58<00:00, 298.82s/it]\n"
     ]
    },
    {
     "name": "stdout",
     "output_type": "stream",
     "text": [
      "Successfully uploaded /home/veit/PIScO_dev/Segmentation_results/SO308/SO308-PISCO-Profiles/TempResults/SO308_1-43-4_PISCO2_20241212-0534/SO308_1-43-4_PISCO2_20241212-0534_Results/EcoTaxa/crops.zip to project 17486.\n",
      "Uploaded crops.zip to project 17486.\n",
      "SO308_1-17-2_PISCO2_20241114-0839\n",
      "Processing EcoTaxa folder: /home/veit/PIScO_dev/Segmentation_results/SO308/SO308-PISCO-Profiles/TempResults/SO308_1-17-2_PISCO2_20241114-0839/SO308_1-17-2_PISCO2_20241114-0839_Results/EcoTaxa\n"
     ]
    },
    {
     "name": "stderr",
     "output_type": "stream",
     "text": [
      "Uploading crops.zip...: 100%|██████████| 192M/192M [00:05<00:00, 34.8MB/s]\n",
      "Importing to 17486... (Processing files 43000/43038): 100%|██████████| 100/100 [06:14<00:00,  3.74s/%]\n",
      "100%|██████████| 1/1 [06:21<00:00, 381.43s/it]\n"
     ]
    },
    {
     "name": "stdout",
     "output_type": "stream",
     "text": [
      "Successfully uploaded /home/veit/PIScO_dev/Segmentation_results/SO308/SO308-PISCO-Profiles/TempResults/SO308_1-17-2_PISCO2_20241114-0839/SO308_1-17-2_PISCO2_20241114-0839_Results/EcoTaxa/crops.zip to project 17486.\n",
      "Uploaded crops.zip to project 17486.\n",
      "SO308_1-11-4_PISCO2_20241109-1925\n",
      "Processing EcoTaxa folder: /home/veit/PIScO_dev/Segmentation_results/SO308/SO308-PISCO-Profiles/TempResults/SO308_1-11-4_PISCO2_20241109-1925/SO308_1-11-4_PISCO2_20241109-1925_Results/EcoTaxa\n"
     ]
    },
    {
     "name": "stderr",
     "output_type": "stream",
     "text": [
      "Uploading crops.zip...: 100%|██████████| 98.5M/98.5M [00:03<00:00, 28.4MB/s]\n",
      "Importing to 17486... (Processing files 20800/20877): 100%|██████████| 100/100 [04:33<00:00,  2.74s/%]\n",
      "100%|██████████| 1/1 [04:38<00:00, 278.71s/it]\n"
     ]
    },
    {
     "name": "stdout",
     "output_type": "stream",
     "text": [
      "Successfully uploaded /home/veit/PIScO_dev/Segmentation_results/SO308/SO308-PISCO-Profiles/TempResults/SO308_1-11-4_PISCO2_20241109-1925/SO308_1-11-4_PISCO2_20241109-1925_Results/EcoTaxa/crops.zip to project 17486.\n",
      "Uploaded crops.zip to project 17486.\n",
      "SO308_1-33-3_PISCO2_20241202-0133\n",
      "Processing EcoTaxa folder: /home/veit/PIScO_dev/Segmentation_results/SO308/SO308-PISCO-Profiles/TempResults/SO308_1-33-3_PISCO2_20241202-0133/SO308_1-33-3_PISCO2_20241202-0133_Results/EcoTaxa\n"
     ]
    },
    {
     "name": "stderr",
     "output_type": "stream",
     "text": [
      "Uploading crops.zip...: 100%|██████████| 126M/126M [00:04<00:00, 29.3MB/s]\n",
      "Importing to 17486... (Processing files 8400/8426): 100%|██████████| 100/100 [03:47<00:00,  2.28s/%]\n",
      "100%|██████████| 1/1 [03:53<00:00, 233.47s/it]\n"
     ]
    },
    {
     "name": "stdout",
     "output_type": "stream",
     "text": [
      "Successfully uploaded /home/veit/PIScO_dev/Segmentation_results/SO308/SO308-PISCO-Profiles/TempResults/SO308_1-33-3_PISCO2_20241202-0133/SO308_1-33-3_PISCO2_20241202-0133_Results/EcoTaxa/crops.zip to project 17486.\n",
      "Uploaded crops.zip to project 17486.\n",
      "SO308_1-39-3_PISCO2_20241209-1101\n",
      "Processing EcoTaxa folder: /home/veit/PIScO_dev/Segmentation_results/SO308/SO308-PISCO-Profiles/TempResults/SO308_1-39-3_PISCO2_20241209-1101/SO308_1-39-3_PISCO2_20241209-1101_Results/EcoTaxa\n"
     ]
    },
    {
     "name": "stderr",
     "output_type": "stream",
     "text": [
      "Uploading crops.zip...: 100%|██████████| 121M/121M [00:04<00:00, 25.3MB/s]\n",
      "Importing to 17486... (Processing files 20000/20080): 100%|██████████| 100/100 [04:33<00:00,  2.73s/%]\n",
      "100%|██████████| 1/1 [04:39<00:00, 279.54s/it]\n"
     ]
    },
    {
     "name": "stdout",
     "output_type": "stream",
     "text": [
      "Successfully uploaded /home/veit/PIScO_dev/Segmentation_results/SO308/SO308-PISCO-Profiles/TempResults/SO308_1-39-3_PISCO2_20241209-1101/SO308_1-39-3_PISCO2_20241209-1101_Results/EcoTaxa/crops.zip to project 17486.\n",
      "Uploaded crops.zip to project 17486.\n",
      "SO308_1-48-3_PISCO2_20241216-0617\n",
      "Processing EcoTaxa folder: /home/veit/PIScO_dev/Segmentation_results/SO308/SO308-PISCO-Profiles/TempResults/SO308_1-48-3_PISCO2_20241216-0617/SO308_1-48-3_PISCO2_20241216-0617_Results/EcoTaxa\n"
     ]
    },
    {
     "name": "stderr",
     "output_type": "stream",
     "text": [
      "Uploading crops.zip...: 100%|██████████| 118M/118M [00:04<00:00, 28.4MB/s]\n",
      "Importing to 17486... (Processing files 18900/18930): 100%|██████████| 100/100 [04:22<00:00,  2.63s/%]\n",
      "100%|██████████| 1/1 [04:29<00:00, 269.10s/it]\n"
     ]
    },
    {
     "name": "stdout",
     "output_type": "stream",
     "text": [
      "Successfully uploaded /home/veit/PIScO_dev/Segmentation_results/SO308/SO308-PISCO-Profiles/TempResults/SO308_1-48-3_PISCO2_20241216-0617/SO308_1-48-3_PISCO2_20241216-0617_Results/EcoTaxa/crops.zip to project 17486.\n",
      "Uploaded crops.zip to project 17486.\n",
      "SO308_1-8-3_PISCO2_20241107-1509\n",
      "Processing EcoTaxa folder: /home/veit/PIScO_dev/Segmentation_results/SO308/SO308-PISCO-Profiles/TempResults/SO308_1-8-3_PISCO2_20241107-1509/SO308_1-8-3_PISCO2_20241107-1509_Results/EcoTaxa\n"
     ]
    },
    {
     "name": "stderr",
     "output_type": "stream",
     "text": [
      "Uploading crops.zip...: 100%|██████████| 126M/126M [00:04<00:00, 32.5MB/s]\n",
      "Importing to 17486... (Processing files 16100/16166): 100%|██████████| 100/100 [04:07<00:00,  2.48s/%]\n",
      "100%|██████████| 1/1 [04:13<00:00, 253.48s/it]\n"
     ]
    },
    {
     "name": "stdout",
     "output_type": "stream",
     "text": [
      "Successfully uploaded /home/veit/PIScO_dev/Segmentation_results/SO308/SO308-PISCO-Profiles/TempResults/SO308_1-8-3_PISCO2_20241107-1509/SO308_1-8-3_PISCO2_20241107-1509_Results/EcoTaxa/crops.zip to project 17486.\n",
      "Uploaded crops.zip to project 17486.\n",
      "SO308_1-37-1_PISCO2_20241207-0405\n",
      "Processing EcoTaxa folder: /home/veit/PIScO_dev/Segmentation_results/SO308/SO308-PISCO-Profiles/TempResults/SO308_1-37-1_PISCO2_20241207-0405/SO308_1-37-1_PISCO2_20241207-0405_Results/EcoTaxa\n"
     ]
    },
    {
     "name": "stderr",
     "output_type": "stream",
     "text": [
      "Uploading crops.zip...: 100%|██████████| 73.5M/73.5M [00:03<00:00, 21.5MB/s]\n",
      "Importing to 17486... (Processing files 21800/21851): 100%|██████████| 100/100 [04:49<00:00,  2.89s/%]\n",
      "100%|██████████| 1/1 [04:54<00:00, 294.15s/it]\n"
     ]
    },
    {
     "name": "stdout",
     "output_type": "stream",
     "text": [
      "Successfully uploaded /home/veit/PIScO_dev/Segmentation_results/SO308/SO308-PISCO-Profiles/TempResults/SO308_1-37-1_PISCO2_20241207-0405/SO308_1-37-1_PISCO2_20241207-0405_Results/EcoTaxa/crops.zip to project 17486.\n",
      "Uploaded crops.zip to project 17486.\n",
      "SO308_1-14-4_PISCO2_20241112-0944\n",
      "Processing EcoTaxa folder: /home/veit/PIScO_dev/Segmentation_results/SO308/SO308-PISCO-Profiles/TempResults/SO308_1-14-4_PISCO2_20241112-0944/SO308_1-14-4_PISCO2_20241112-0944_Results/EcoTaxa\n"
     ]
    },
    {
     "name": "stderr",
     "output_type": "stream",
     "text": [
      "Uploading crops.zip...: 100%|██████████| 214M/214M [00:05<00:00, 39.9MB/s]\n",
      "Importing to 17486... (Processing files 68900/68995): 100%|██████████| 100/100 [10:07<00:00,  6.07s/%]\n",
      "100%|██████████| 1/1 [10:14<00:00, 614.19s/it]\n"
     ]
    },
    {
     "name": "stdout",
     "output_type": "stream",
     "text": [
      "Successfully uploaded /home/veit/PIScO_dev/Segmentation_results/SO308/SO308-PISCO-Profiles/TempResults/SO308_1-14-4_PISCO2_20241112-0944/SO308_1-14-4_PISCO2_20241112-0944_Results/EcoTaxa/crops.zip to project 17486.\n",
      "Uploaded crops.zip to project 17486.\n",
      "SO308_1-8-4_PISCO2_20241107-1627\n",
      "Processing EcoTaxa folder: /home/veit/PIScO_dev/Segmentation_results/SO308/SO308-PISCO-Profiles/TempResults/SO308_1-8-4_PISCO2_20241107-1627/SO308_1-8-4_PISCO2_20241107-1627_Results/EcoTaxa\n"
     ]
    },
    {
     "name": "stderr",
     "output_type": "stream",
     "text": [
      "Uploading crops_part1_upload.zip...: 100%|██████████| 521M/521M [00:11<00:00, 47.0MB/s]\n",
      "Importing to 17486... (Processing files 62000/62026): 100%|██████████| 100/100 [09:11<00:00,  5.51s/%]\n",
      "100%|██████████| 1/1 [09:25<00:00, 565.71s/it]\n"
     ]
    },
    {
     "name": "stdout",
     "output_type": "stream",
     "text": [
      "Successfully uploaded /home/veit/PIScO_dev/Segmentation_results/SO308/SO308-PISCO-Profiles/TempResults/SO308_1-8-4_PISCO2_20241107-1627/SO308_1-8-4_PISCO2_20241107-1627_Results/EcoTaxa/crops_part1_upload.zip to project 17486.\n",
      "Uploaded crops_part1_upload.zip to project 17486.\n"
     ]
    },
    {
     "name": "stderr",
     "output_type": "stream",
     "text": [
      "Uploading crops_part2_upload.zip...: 100%|██████████| 73.6M/73.6M [00:03<00:00, 24.4MB/s]\n",
      "Importing to 17486... (Processing files 8800/8850): 100%|██████████| 100/100 [03:43<00:00,  2.23s/%]\n",
      "100%|██████████| 1/1 [03:47<00:00, 227.63s/it]\n"
     ]
    },
    {
     "name": "stdout",
     "output_type": "stream",
     "text": [
      "Successfully uploaded /home/veit/PIScO_dev/Segmentation_results/SO308/SO308-PISCO-Profiles/TempResults/SO308_1-8-4_PISCO2_20241107-1627/SO308_1-8-4_PISCO2_20241107-1627_Results/EcoTaxa/crops_part2_upload.zip to project 17486.\n",
      "Uploaded crops_part2_upload.zip to project 17486.\n",
      "SO308_1-22-1_PISCO2_20241118-0559\n",
      "Processing EcoTaxa folder: /home/veit/PIScO_dev/Segmentation_results/SO308/SO308-PISCO-Profiles/TempResults/SO308_1-22-1_PISCO2_20241118-0559/SO308_1-22-1_PISCO2_20241118-0559_Results/EcoTaxa\n"
     ]
    },
    {
     "name": "stderr",
     "output_type": "stream",
     "text": [
      "Uploading crops.zip...: 100%|██████████| 176M/176M [00:05<00:00, 33.0MB/s]\n",
      "Importing to 17486... (Processing files 42000/42051): 100%|██████████| 100/100 [07:10<00:00,  4.30s/%]\n",
      "100%|██████████| 1/1 [07:17<00:00, 437.18s/it]\n"
     ]
    },
    {
     "name": "stdout",
     "output_type": "stream",
     "text": [
      "Successfully uploaded /home/veit/PIScO_dev/Segmentation_results/SO308/SO308-PISCO-Profiles/TempResults/SO308_1-22-1_PISCO2_20241118-0559/SO308_1-22-1_PISCO2_20241118-0559_Results/EcoTaxa/crops.zip to project 17486.\n",
      "Uploaded crops.zip to project 17486.\n",
      "SO308_1-49-4_PISCO2_20241217-0258\n",
      "Processing EcoTaxa folder: /home/veit/PIScO_dev/Segmentation_results/SO308/SO308-PISCO-Profiles/TempResults/SO308_1-49-4_PISCO2_20241217-0258/SO308_1-49-4_PISCO2_20241217-0258_Results/EcoTaxa\n"
     ]
    },
    {
     "name": "stderr",
     "output_type": "stream",
     "text": [
      "Uploading crops.zip...: 100%|██████████| 166M/166M [00:03<00:00, 49.3MB/s]\n",
      "Importing to 17486... (Processing files 45800/45817): 100%|██████████| 100/100 [06:34<00:00,  3.94s/%]\n",
      "100%|██████████| 1/1 [06:39<00:00, 399.47s/it]\n"
     ]
    },
    {
     "name": "stdout",
     "output_type": "stream",
     "text": [
      "Successfully uploaded /home/veit/PIScO_dev/Segmentation_results/SO308/SO308-PISCO-Profiles/TempResults/SO308_1-49-4_PISCO2_20241217-0258/SO308_1-49-4_PISCO2_20241217-0258_Results/EcoTaxa/crops.zip to project 17486.\n",
      "Uploaded crops.zip to project 17486.\n",
      "SO308_1-15-3_PISCO2_20241113-0409\n",
      "Processing EcoTaxa folder: /home/veit/PIScO_dev/Segmentation_results/SO308/SO308-PISCO-Profiles/TempResults/SO308_1-15-3_PISCO2_20241113-0409/SO308_1-15-3_PISCO2_20241113-0409_Results/EcoTaxa\n"
     ]
    },
    {
     "name": "stderr",
     "output_type": "stream",
     "text": [
      "Uploading crops.zip...: 100%|██████████| 136M/136M [00:04<00:00, 29.6MB/s]\n",
      "Importing to 17486... (Processing files 36800/36809): 100%|██████████| 100/100 [05:38<00:00,  3.39s/%]\n",
      "100%|██████████| 1/1 [05:45<00:00, 345.19s/it]\n"
     ]
    },
    {
     "name": "stdout",
     "output_type": "stream",
     "text": [
      "Successfully uploaded /home/veit/PIScO_dev/Segmentation_results/SO308/SO308-PISCO-Profiles/TempResults/SO308_1-15-3_PISCO2_20241113-0409/SO308_1-15-3_PISCO2_20241113-0409_Results/EcoTaxa/crops.zip to project 17486.\n",
      "Uploaded crops.zip to project 17486.\n",
      "SO308_1-41-1_PISCO2_20241210-2053\n",
      "Processing EcoTaxa folder: /home/veit/PIScO_dev/Segmentation_results/SO308/SO308-PISCO-Profiles/TempResults/SO308_1-41-1_PISCO2_20241210-2053/SO308_1-41-1_PISCO2_20241210-2053_Results/EcoTaxa\n"
     ]
    },
    {
     "name": "stderr",
     "output_type": "stream",
     "text": [
      "Uploading crops.zip...: 100%|██████████| 80.5M/80.5M [00:03<00:00, 21.7MB/s]\n",
      "Importing to 17486... (Processing files 30300/30349): 100%|██████████| 100/100 [05:18<00:00,  3.19s/%]\n",
      "100%|██████████| 1/1 [05:23<00:00, 323.83s/it]\n"
     ]
    },
    {
     "name": "stdout",
     "output_type": "stream",
     "text": [
      "Successfully uploaded /home/veit/PIScO_dev/Segmentation_results/SO308/SO308-PISCO-Profiles/TempResults/SO308_1-41-1_PISCO2_20241210-2053/SO308_1-41-1_PISCO2_20241210-2053_Results/EcoTaxa/crops.zip to project 17486.\n",
      "Uploaded crops.zip to project 17486.\n",
      "SO308_1-26-3_PISCO2_20241123-0720\n",
      "Processing EcoTaxa folder: /home/veit/PIScO_dev/Segmentation_results/SO308/SO308-PISCO-Profiles/TempResults/SO308_1-26-3_PISCO2_20241123-0720/SO308_1-26-3_PISCO2_20241123-0720_Results/EcoTaxa\n"
     ]
    },
    {
     "name": "stderr",
     "output_type": "stream",
     "text": [
      "Uploading crops.zip...: 100%|██████████| 98.4M/98.4M [00:02<00:00, 45.1MB/s]\n",
      "Importing to 17486... (Processing files 11100/11180):  99%|█████████▉| 99/100 [04:13<00:02,  2.56s/%]\n",
      "100%|██████████| 1/1 [04:16<00:00, 256.82s/it]\n"
     ]
    },
    {
     "name": "stdout",
     "output_type": "stream",
     "text": [
      "Successfully uploaded /home/veit/PIScO_dev/Segmentation_results/SO308/SO308-PISCO-Profiles/TempResults/SO308_1-26-3_PISCO2_20241123-0720/SO308_1-26-3_PISCO2_20241123-0720_Results/EcoTaxa/crops.zip to project 17486.\n",
      "Uploaded crops.zip to project 17486.\n",
      "SO308_1-40-3_PISCO2_20241210-0610\n",
      "Processing EcoTaxa folder: /home/veit/PIScO_dev/Segmentation_results/SO308/SO308-PISCO-Profiles/TempResults/SO308_1-40-3_PISCO2_20241210-0610/SO308_1-40-3_PISCO2_20241210-0610_Results/EcoTaxa\n"
     ]
    },
    {
     "name": "stderr",
     "output_type": "stream",
     "text": [
      "Uploading crops.zip...: 100%|██████████| 168M/168M [00:04<00:00, 36.1MB/s]\n",
      "Importing to 17486... (Processing files 25200/25279): 100%|██████████| 100/100 [05:33<00:00,  3.34s/%]\n",
      "100%|██████████| 1/1 [05:40<00:00, 340.30s/it]\n"
     ]
    },
    {
     "name": "stdout",
     "output_type": "stream",
     "text": [
      "Successfully uploaded /home/veit/PIScO_dev/Segmentation_results/SO308/SO308-PISCO-Profiles/TempResults/SO308_1-40-3_PISCO2_20241210-0610/SO308_1-40-3_PISCO2_20241210-0610_Results/EcoTaxa/crops.zip to project 17486.\n",
      "Uploaded crops.zip to project 17486.\n",
      "SO308_1-32-3_PISCO2_20241130-1251\n",
      "Processing EcoTaxa folder: /home/veit/PIScO_dev/Segmentation_results/SO308/SO308-PISCO-Profiles/TempResults/SO308_1-32-3_PISCO2_20241130-1251/SO308_1-32-3_PISCO2_20241130-1251_Results/EcoTaxa\n"
     ]
    },
    {
     "name": "stderr",
     "output_type": "stream",
     "text": [
      "Uploading crops.zip...: 100%|██████████| 127M/127M [00:04<00:00, 28.9MB/s]\n",
      "Importing to 17486... (Processing files 6000/6050):  99%|█████████▉| 99/100 [03:52<00:02,  2.35s/%]\n",
      "100%|██████████| 1/1 [03:58<00:00, 238.57s/it]\n"
     ]
    },
    {
     "name": "stdout",
     "output_type": "stream",
     "text": [
      "Successfully uploaded /home/veit/PIScO_dev/Segmentation_results/SO308/SO308-PISCO-Profiles/TempResults/SO308_1-32-3_PISCO2_20241130-1251/SO308_1-32-3_PISCO2_20241130-1251_Results/EcoTaxa/crops.zip to project 17486.\n",
      "Uploaded crops.zip to project 17486.\n",
      "SO308_1-20-3_PISCO2_20241116-2055\n",
      "Processing EcoTaxa folder: /home/veit/PIScO_dev/Segmentation_results/SO308/SO308-PISCO-Profiles/TempResults/SO308_1-20-3_PISCO2_20241116-2055/SO308_1-20-3_PISCO2_20241116-2055_Results/EcoTaxa\n"
     ]
    },
    {
     "name": "stderr",
     "output_type": "stream",
     "text": [
      "Uploading crops.zip...: 100%|██████████| 446M/446M [00:10<00:00, 45.5MB/s]\n",
      "Importing to 17486... (Processing files 143200/143254): 100%|██████████| 100/100 [12:50<00:00,  7.71s/%]\n",
      "100%|██████████| 1/1 [13:03<00:00, 783.27s/it]\n"
     ]
    },
    {
     "name": "stdout",
     "output_type": "stream",
     "text": [
      "Successfully uploaded /home/veit/PIScO_dev/Segmentation_results/SO308/SO308-PISCO-Profiles/TempResults/SO308_1-20-3_PISCO2_20241116-2055/SO308_1-20-3_PISCO2_20241116-2055_Results/EcoTaxa/crops.zip to project 17486.\n",
      "Uploaded crops.zip to project 17486.\n",
      "SO308_1-26-1_PISCO2_20241123-0219\n",
      "Processing EcoTaxa folder: /home/veit/PIScO_dev/Segmentation_results/SO308/SO308-PISCO-Profiles/TempResults/SO308_1-26-1_PISCO2_20241123-0219/SO308_1-26-1_PISCO2_20241123-0219_Results/EcoTaxa\n"
     ]
    },
    {
     "name": "stderr",
     "output_type": "stream",
     "text": [
      "Uploading crops.zip...: 100%|██████████| 76.4M/76.4M [00:01<00:00, 45.6MB/s]\n",
      "Importing to 17486... (Processing files 9300/9358): 100%|██████████| 100/100 [04:12<00:00,  2.53s/%]\n",
      "100%|██████████| 1/1 [04:15<00:00, 255.89s/it]\n"
     ]
    },
    {
     "name": "stdout",
     "output_type": "stream",
     "text": [
      "Successfully uploaded /home/veit/PIScO_dev/Segmentation_results/SO308/SO308-PISCO-Profiles/TempResults/SO308_1-26-1_PISCO2_20241123-0219/SO308_1-26-1_PISCO2_20241123-0219_Results/EcoTaxa/crops.zip to project 17486.\n",
      "Uploaded crops.zip to project 17486.\n",
      "SO308_1-50-1_PISCO2_20241217-2355\n",
      "Processing EcoTaxa folder: /home/veit/PIScO_dev/Segmentation_results/SO308/SO308-PISCO-Profiles/TempResults/SO308_1-50-1_PISCO2_20241217-2355/SO308_1-50-1_PISCO2_20241217-2355_Results/EcoTaxa\n"
     ]
    },
    {
     "name": "stderr",
     "output_type": "stream",
     "text": [
      "Uploading crops.zip...: 100%|██████████| 141M/141M [00:04<00:00, 34.0MB/s]\n",
      "Importing to 17486... (Processing files 24800/24819): 100%|██████████| 100/100 [05:13<00:00,  3.13s/%]\n",
      "100%|██████████| 1/1 [05:19<00:00, 319.30s/it]\n"
     ]
    },
    {
     "name": "stdout",
     "output_type": "stream",
     "text": [
      "Successfully uploaded /home/veit/PIScO_dev/Segmentation_results/SO308/SO308-PISCO-Profiles/TempResults/SO308_1-50-1_PISCO2_20241217-2355/SO308_1-50-1_PISCO2_20241217-2355_Results/EcoTaxa/crops.zip to project 17486.\n",
      "Uploaded crops.zip to project 17486.\n",
      "SO308_1-6-4_PISCO2_20241107-0052\n",
      "Processing EcoTaxa folder: /home/veit/PIScO_dev/Segmentation_results/SO308/SO308-PISCO-Profiles/TempResults/SO308_1-6-4_PISCO2_20241107-0052/SO308_1-6-4_PISCO2_20241107-0052_Results/EcoTaxa\n"
     ]
    },
    {
     "name": "stderr",
     "output_type": "stream",
     "text": [
      "Uploading crops_part1_upload.zip...: 100%|██████████| 603M/603M [00:13<00:00, 47.9MB/s]\n",
      "Importing to 17486... (Processing files 249900/249958): 100%|██████████| 100/100 [19:54<00:00, 11.94s/%]\n",
      "100%|██████████| 1/1 [20:10<00:00, 1210.26s/it]\n"
     ]
    },
    {
     "name": "stdout",
     "output_type": "stream",
     "text": [
      "Successfully uploaded /home/veit/PIScO_dev/Segmentation_results/SO308/SO308-PISCO-Profiles/TempResults/SO308_1-6-4_PISCO2_20241107-0052/SO308_1-6-4_PISCO2_20241107-0052_Results/EcoTaxa/crops_part1_upload.zip to project 17486.\n",
      "Uploaded crops_part1_upload.zip to project 17486.\n"
     ]
    },
    {
     "name": "stderr",
     "output_type": "stream",
     "text": [
      "Uploading crops_part2_upload.zip...: 100%|██████████| 580M/580M [00:13<00:00, 46.2MB/s]\n",
      "Importing to 17486... (Processing files 238800/238864): 100%|██████████| 100/100 [19:38<00:00, 11.78s/%]\n",
      "100%|██████████| 1/1 [19:54<00:00, 1194.60s/it]\n"
     ]
    },
    {
     "name": "stdout",
     "output_type": "stream",
     "text": [
      "Successfully uploaded /home/veit/PIScO_dev/Segmentation_results/SO308/SO308-PISCO-Profiles/TempResults/SO308_1-6-4_PISCO2_20241107-0052/SO308_1-6-4_PISCO2_20241107-0052_Results/EcoTaxa/crops_part2_upload.zip to project 17486.\n",
      "Uploaded crops_part2_upload.zip to project 17486.\n",
      "SO308_1-28-2_PISCO2_20241124-2257\n",
      "Processing EcoTaxa folder: /home/veit/PIScO_dev/Segmentation_results/SO308/SO308-PISCO-Profiles/TempResults/SO308_1-28-2_PISCO2_20241124-2257/SO308_1-28-2_PISCO2_20241124-2257_Results/EcoTaxa\n"
     ]
    },
    {
     "name": "stderr",
     "output_type": "stream",
     "text": [
      "Uploading crops.zip...: 100%|██████████| 131M/131M [00:02<00:00, 47.8MB/s]\n",
      "Importing to 17486... (Processing files 10400/10489):  99%|█████████▉| 99/100 [04:39<00:02,  2.82s/%]\n",
      "100%|██████████| 1/1 [04:43<00:00, 283.53s/it]\n"
     ]
    },
    {
     "name": "stdout",
     "output_type": "stream",
     "text": [
      "Successfully uploaded /home/veit/PIScO_dev/Segmentation_results/SO308/SO308-PISCO-Profiles/TempResults/SO308_1-28-2_PISCO2_20241124-2257/SO308_1-28-2_PISCO2_20241124-2257_Results/EcoTaxa/crops.zip to project 17486.\n",
      "Uploaded crops.zip to project 17486.\n",
      "SO308_1-24-3_PISCO2_20241120-1805\n",
      "Processing EcoTaxa folder: /home/veit/PIScO_dev/Segmentation_results/SO308/SO308-PISCO-Profiles/TempResults/SO308_1-24-3_PISCO2_20241120-1805/SO308_1-24-3_PISCO2_20241120-1805_Results/EcoTaxa\n"
     ]
    },
    {
     "name": "stderr",
     "output_type": "stream",
     "text": [
      "Uploading crops.zip...: 100%|██████████| 69.7M/69.7M [00:02<00:00, 24.6MB/s]\n",
      "Importing to 17486... (Processing files 16500/16537): 100%|██████████| 100/100 [04:38<00:00,  2.79s/%]\n",
      "100%|██████████| 1/1 [04:43<00:00, 283.23s/it]\n"
     ]
    },
    {
     "name": "stdout",
     "output_type": "stream",
     "text": [
      "Successfully uploaded /home/veit/PIScO_dev/Segmentation_results/SO308/SO308-PISCO-Profiles/TempResults/SO308_1-24-3_PISCO2_20241120-1805/SO308_1-24-3_PISCO2_20241120-1805_Results/EcoTaxa/crops.zip to project 17486.\n",
      "Uploaded crops.zip to project 17486.\n",
      "SO308_1-44-4_PISCO2_20241213-0032\n",
      "Processing EcoTaxa folder: /home/veit/PIScO_dev/Segmentation_results/SO308/SO308-PISCO-Profiles/TempResults/SO308_1-44-4_PISCO2_20241213-0032/SO308_1-44-4_PISCO2_20241213-0032_Results/EcoTaxa\n"
     ]
    },
    {
     "name": "stderr",
     "output_type": "stream",
     "text": [
      "Uploading crops.zip...: 100%|██████████| 76.0M/76.0M [00:03<00:00, 24.4MB/s]\n",
      "Importing to 17486... (Processing files 15700/15761): 100%|██████████| 100/100 [04:48<00:00,  2.88s/%]\n",
      "100%|██████████| 1/1 [04:52<00:00, 292.97s/it]\n"
     ]
    },
    {
     "name": "stdout",
     "output_type": "stream",
     "text": [
      "Successfully uploaded /home/veit/PIScO_dev/Segmentation_results/SO308/SO308-PISCO-Profiles/TempResults/SO308_1-44-4_PISCO2_20241213-0032/SO308_1-44-4_PISCO2_20241213-0032_Results/EcoTaxa/crops.zip to project 17486.\n",
      "Uploaded crops.zip to project 17486.\n",
      "SO308_1-10-3_PISCO2_20241109-0155\n",
      "Processing EcoTaxa folder: /home/veit/PIScO_dev/Segmentation_results/SO308/SO308-PISCO-Profiles/TempResults/SO308_1-10-3_PISCO2_20241109-0155/SO308_1-10-3_PISCO2_20241109-0155_Results/EcoTaxa\n"
     ]
    },
    {
     "name": "stderr",
     "output_type": "stream",
     "text": [
      "Uploading crops.zip...: 100%|██████████| 109M/109M [00:03<00:00, 29.2MB/s]\n",
      "Importing to 17486... (Processing files 48600/48696): 100%|██████████| 100/100 [07:55<00:00,  4.75s/%]\n",
      "100%|██████████| 1/1 [08:00<00:00, 480.66s/it]\n"
     ]
    },
    {
     "name": "stdout",
     "output_type": "stream",
     "text": [
      "Successfully uploaded /home/veit/PIScO_dev/Segmentation_results/SO308/SO308-PISCO-Profiles/TempResults/SO308_1-10-3_PISCO2_20241109-0155/SO308_1-10-3_PISCO2_20241109-0155_Results/EcoTaxa/crops.zip to project 17486.\n",
      "Uploaded crops.zip to project 17486.\n",
      "SO308_1-31-4_PISCO2_20241128-1525\n",
      "Processing EcoTaxa folder: /home/veit/PIScO_dev/Segmentation_results/SO308/SO308-PISCO-Profiles/TempResults/SO308_1-31-4_PISCO2_20241128-1525/SO308_1-31-4_PISCO2_20241128-1525_Results/EcoTaxa\n"
     ]
    },
    {
     "name": "stderr",
     "output_type": "stream",
     "text": [
      "Uploading crops.zip...: 100%|██████████| 126M/126M [00:04<00:00, 28.4MB/s]\n",
      "Importing to 17486... (Processing files 11500/11565): 100%|██████████| 100/100 [04:27<00:00,  2.68s/%]\n",
      "100%|██████████| 1/1 [04:33<00:00, 273.70s/it]\n"
     ]
    },
    {
     "name": "stdout",
     "output_type": "stream",
     "text": [
      "Successfully uploaded /home/veit/PIScO_dev/Segmentation_results/SO308/SO308-PISCO-Profiles/TempResults/SO308_1-31-4_PISCO2_20241128-1525/SO308_1-31-4_PISCO2_20241128-1525_Results/EcoTaxa/crops.zip to project 17486.\n",
      "Uploaded crops.zip to project 17486.\n",
      "SO308_1-29-4_PISCO2_20241125-1930\n",
      "Processing EcoTaxa folder: /home/veit/PIScO_dev/Segmentation_results/SO308/SO308-PISCO-Profiles/TempResults/SO308_1-29-4_PISCO2_20241125-1930/SO308_1-29-4_PISCO2_20241125-1930_Results/EcoTaxa\n"
     ]
    },
    {
     "name": "stderr",
     "output_type": "stream",
     "text": [
      "Uploading crops_part1_upload.zip...: 100%|██████████| 504M/504M [00:11<00:00, 47.7MB/s]\n",
      "Importing to 17486... (Processing files 23000/23069): 100%|██████████| 100/100 [06:13<00:00,  3.74s/%]\n",
      "100%|██████████| 1/1 [06:27<00:00, 387.53s/it]\n"
     ]
    },
    {
     "name": "stdout",
     "output_type": "stream",
     "text": [
      "Successfully uploaded /home/veit/PIScO_dev/Segmentation_results/SO308/SO308-PISCO-Profiles/TempResults/SO308_1-29-4_PISCO2_20241125-1930/SO308_1-29-4_PISCO2_20241125-1930_Results/EcoTaxa/crops_part1_upload.zip to project 17486.\n",
      "Uploaded crops_part1_upload.zip to project 17486.\n"
     ]
    },
    {
     "name": "stderr",
     "output_type": "stream",
     "text": [
      "Uploading crops_part2_upload.zip...: 100%|██████████| 38.7M/38.7M [00:01<00:00, 35.9MB/s]\n",
      "Importing to 17486... (Processing files 1800/1893):  96%|█████████▌| 96/100 [04:02<00:10,  2.52s/%]\n",
      "100%|██████████| 1/1 [04:04<00:00, 244.49s/it]\n"
     ]
    },
    {
     "name": "stdout",
     "output_type": "stream",
     "text": [
      "Successfully uploaded /home/veit/PIScO_dev/Segmentation_results/SO308/SO308-PISCO-Profiles/TempResults/SO308_1-29-4_PISCO2_20241125-1930/SO308_1-29-4_PISCO2_20241125-1930_Results/EcoTaxa/crops_part2_upload.zip to project 17486.\n",
      "Uploaded crops_part2_upload.zip to project 17486.\n",
      "SO308_1-47-5_PISCO2_20241215-1247\n",
      "Processing EcoTaxa folder: /home/veit/PIScO_dev/Segmentation_results/SO308/SO308-PISCO-Profiles/TempResults/SO308_1-47-5_PISCO2_20241215-1247/SO308_1-47-5_PISCO2_20241215-1247_Results/EcoTaxa\n"
     ]
    },
    {
     "name": "stderr",
     "output_type": "stream",
     "text": [
      "Uploading crops.zip...: 100%|██████████| 150M/150M [00:05<00:00, 30.1MB/s]\n",
      "Importing to 17486... (Processing files 26300/26341): 100%|██████████| 100/100 [05:07<00:00,  3.08s/%]\n",
      "100%|██████████| 1/1 [05:14<00:00, 314.51s/it]\n"
     ]
    },
    {
     "name": "stdout",
     "output_type": "stream",
     "text": [
      "Successfully uploaded /home/veit/PIScO_dev/Segmentation_results/SO308/SO308-PISCO-Profiles/TempResults/SO308_1-47-5_PISCO2_20241215-1247/SO308_1-47-5_PISCO2_20241215-1247_Results/EcoTaxa/crops.zip to project 17486.\n",
      "Uploaded crops.zip to project 17486.\n",
      "SO308_1-11-1_PISCO2_20241109-1330\n",
      "Processing EcoTaxa folder: /home/veit/PIScO_dev/Segmentation_results/SO308/SO308-PISCO-Profiles/TempResults/SO308_1-11-1_PISCO2_20241109-1330/SO308_1-11-1_PISCO2_20241109-1330_Results/EcoTaxa\n"
     ]
    },
    {
     "name": "stderr",
     "output_type": "stream",
     "text": [
      "Uploading crops.zip...: 100%|██████████| 111M/111M [00:04<00:00, 24.0MB/s]\n",
      "Importing to 17486... (Processing files 36600/36659): 100%|██████████| 100/100 [06:33<00:00,  3.94s/%]\n",
      "100%|██████████| 1/1 [06:40<00:00, 400.01s/it]\n"
     ]
    },
    {
     "name": "stdout",
     "output_type": "stream",
     "text": [
      "Successfully uploaded /home/veit/PIScO_dev/Segmentation_results/SO308/SO308-PISCO-Profiles/TempResults/SO308_1-11-1_PISCO2_20241109-1330/SO308_1-11-1_PISCO2_20241109-1330_Results/EcoTaxa/crops.zip to project 17486.\n",
      "Uploaded crops.zip to project 17486.\n",
      "SO308_1-24-1_PISCO2_20241120-1155\n",
      "Processing EcoTaxa folder: /home/veit/PIScO_dev/Segmentation_results/SO308/SO308-PISCO-Profiles/TempResults/SO308_1-24-1_PISCO2_20241120-1155/SO308_1-24-1_PISCO2_20241120-1155_Results/EcoTaxa\n"
     ]
    },
    {
     "name": "stderr",
     "output_type": "stream",
     "text": [
      "Uploading crops.zip...: 100%|██████████| 429M/429M [00:11<00:00, 39.0MB/s]\n",
      "Importing to 17486... (Processing files 63700/63766): 100%|██████████| 100/100 [10:05<00:00,  6.06s/%]\n",
      "100%|██████████| 1/1 [10:20<00:00, 620.16s/it]\n"
     ]
    },
    {
     "name": "stdout",
     "output_type": "stream",
     "text": [
      "Successfully uploaded /home/veit/PIScO_dev/Segmentation_results/SO308/SO308-PISCO-Profiles/TempResults/SO308_1-24-1_PISCO2_20241120-1155/SO308_1-24-1_PISCO2_20241120-1155_Results/EcoTaxa/crops.zip to project 17486.\n",
      "Uploaded crops.zip to project 17486.\n",
      "SO308_1-3-4_PISCO2_20241105-1610\n",
      "Processing EcoTaxa folder: /home/veit/PIScO_dev/Segmentation_results/SO308/SO308-PISCO-Profiles/TempResults/SO308_1-3-4_PISCO2_20241105-1610/SO308_1-3-4_PISCO2_20241105-1610_Results/EcoTaxa\n"
     ]
    },
    {
     "name": "stderr",
     "output_type": "stream",
     "text": [
      "Uploading crops_part3_upload.zip...: 100%|██████████| 44.5M/44.5M [00:02<00:00, 17.4MB/s]\n",
      "Importing to 17486... (Processing files 5500/5536):  99%|█████████▉| 99/100 [04:22<00:02,  2.65s/%]\n",
      "100%|██████████| 1/1 [04:26<00:00, 266.51s/it]\n"
     ]
    },
    {
     "name": "stdout",
     "output_type": "stream",
     "text": [
      "Successfully uploaded /home/veit/PIScO_dev/Segmentation_results/SO308/SO308-PISCO-Profiles/TempResults/SO308_1-3-4_PISCO2_20241105-1610/SO308_1-3-4_PISCO2_20241105-1610_Results/EcoTaxa/crops_part3_upload.zip to project 17486.\n",
      "Uploaded crops_part3_upload.zip to project 17486.\n"
     ]
    },
    {
     "name": "stderr",
     "output_type": "stream",
     "text": [
      "Uploading crops_part1_upload.zip...: 100%|██████████| 528M/528M [00:21<00:00, 25.5MB/s]\n",
      "Importing to 17486... (Processing files 78900/78964): 100%|██████████| 100/100 [09:46<00:00,  5.86s/%]\n",
      "100%|██████████| 1/1 [10:11<00:00, 611.36s/it]\n"
     ]
    },
    {
     "name": "stdout",
     "output_type": "stream",
     "text": [
      "Successfully uploaded /home/veit/PIScO_dev/Segmentation_results/SO308/SO308-PISCO-Profiles/TempResults/SO308_1-3-4_PISCO2_20241105-1610/SO308_1-3-4_PISCO2_20241105-1610_Results/EcoTaxa/crops_part1_upload.zip to project 17486.\n",
      "Uploaded crops_part1_upload.zip to project 17486.\n"
     ]
    },
    {
     "name": "stderr",
     "output_type": "stream",
     "text": [
      "Uploading crops_part2_upload.zip...: 100%|██████████| 525M/525M [00:11<00:00, 45.9MB/s]\n",
      "Importing to 17486... (Processing files 68400/68424): 100%|██████████| 100/100 [08:58<00:00,  5.39s/%]\n",
      "100%|██████████| 1/1 [09:13<00:00, 553.48s/it]"
     ]
    },
    {
     "name": "stdout",
     "output_type": "stream",
     "text": [
      "Successfully uploaded /home/veit/PIScO_dev/Segmentation_results/SO308/SO308-PISCO-Profiles/TempResults/SO308_1-3-4_PISCO2_20241105-1610/SO308_1-3-4_PISCO2_20241105-1610_Results/EcoTaxa/crops_part2_upload.zip to project 17486.\n",
      "Uploaded crops_part2_upload.zip to project 17486.\n"
     ]
    },
    {
     "name": "stderr",
     "output_type": "stream",
     "text": [
      "\n"
     ]
    }
   ],
   "source": [
    "import logging\n",
    "import os\n",
    "from pyecotaxa.remote import Remote, Transport\n",
    "\n",
    "def login_to_ecotaxa(username, password):\n",
    "    try:\n",
    "        remote = Remote()\n",
    "        remote.login(username, password)\n",
    "        print(\"Successfully logged into EcoTaxa.\")\n",
    "        return remote\n",
    "    except Exception as e:\n",
    "        logging.error(f\"Error during login: {e}\")\n",
    "        return None\n",
    "\n",
    "def ET_upload(remote, project_id, folder_path):\n",
    "    try:\n",
    "        remote.push([(folder_path, project_id)],transport=Transport.FTP)\n",
    "        print(f\"Successfully uploaded {folder_path} to project {project_id}.\")\n",
    "    except Exception as e:\n",
    "        logging.error(f\"Error during upload: {e}\") \n",
    "\n",
    "def upload_ecotaxa_data(profile_path, remote, project_id, crops_type='raw'):\n",
    "    print(f\"Processing EcoTaxa folder: {profile_path}\")                \n",
    "    zip_files = [f for f in os.listdir(profile_path) if f.endswith('.zip')]\n",
    "    deconv_zip_files = [f for f in zip_files if 'deconv_crops' in f]\n",
    "    raw_zip_files = [f for f in zip_files if 'crops' in f and 'deconv_crops' not in f]\n",
    "    if crops_type == 'raw':\n",
    "        # Check if there are zip files with \"part\" in their names\n",
    "        part_zip_files = [f for f in raw_zip_files if \"part\" in f]\n",
    "\n",
    "        if part_zip_files:\n",
    "            # If \"part\" zip files exist, upload only those\n",
    "            for part_zip in part_zip_files:\n",
    "                zip_path = os.path.join(profile_path, part_zip)\n",
    "                ET_upload(remote, project_id, zip_path)\n",
    "                print(f\"Uploaded {part_zip} to project {project_id}.\")\n",
    "        else:\n",
    "            # Otherwise, upload the default crops.zip and deconv_crops.zip        \n",
    "            zip_path_raw = os.path.join(profile_path, \"crops.zip\")\n",
    "            ET_upload(remote, project_id, zip_path_raw)\n",
    "            print(f\"Uploaded crops.zip to project {project_id}.\")\n",
    "    else:\n",
    "        # Upload deconv_crops.zip\n",
    "        if not deconv_zip_files:\n",
    "            logging.warning(f\"No deconv_crops.zip found in {profile_path}.\")\n",
    "            return\n",
    "        part_zip_files = [f for f in deconv_zip_files if \"part\" in f]\n",
    "\n",
    "        if part_zip_files:\n",
    "            # If \"part\" zip files exist, upload only those\n",
    "            for part_zip in part_zip_files:\n",
    "                zip_path = os.path.join(profile_path, part_zip)\n",
    "                ET_upload(remote, project_id, zip_path)\n",
    "                print(f\"Uploaded {part_zip} to project {project_id}.\")\n",
    "        else:\n",
    "        # Otherwise, upload the default deconv_crops.zip\n",
    "            zip_path_deconv = os.path.join(profile_path, \"deconv_crops.zip\")\n",
    "            ET_upload(remote, project_id, zip_path_deconv)\n",
    "            print(f\"Uploaded deconv_crops.zip to project {project_id}.\")\n",
    "\n",
    "USERNAME = 'vdausmann@geomar.de'  # Replace with your EcoTaxa username\n",
    "PASSWORD = ''  # Replace with your EcoTaxa password\n",
    "# Login to EcoTaxa\n",
    "remote = login_to_ecotaxa(USERNAME, PASSWORD)\n",
    "\n",
    "for profile in os.listdir(cruise_base):\n",
    "    print(profile)\n",
    "    profile_path = os.path.join(intermediate_result_dir, profile, profile+\"_Results\", \"EcoTaxa\")\n",
    "    if not os.path.exists(profile_path):\n",
    "        print(f\"EcoTaxa folder does not exist for profile {profile}. Skipping.\")\n",
    "        continue\n",
    "\n",
    "    if remote:\n",
    "        upload_ecotaxa_data(profile_path, remote, project_id=17486, crops_type='raw')\n",
    "    else:\n",
    "        print(\"Failed to log into EcoTaxa. Exiting...\")\n",
    "\n",
    "## Upload EcoTaxa data for each profile KOSMOS PERU 2020\n",
    "# for profile in os.listdir(cruise_base):\n",
    "#     print(profile)\n",
    "#     profile_path = os.path.join(cruise_base, profile)\n",
    "#     if os.path.isdir(profile_path):                \n",
    "#             for mesokosm in os.listdir(profile_path):\n",
    "#                 mesokosm_path = os.path.join(profile_path, mesokosm, mesokosm+\"_Results\", \"EcoTaxa\")\n",
    "#                 if not os.path.exists(os.path.join(profile_path, mesokosm, mesokosm+\"_Results\", \"EcoTaxa\")):\n",
    "#                     continue\n",
    "#                 print(mesokosm)\n",
    "#                 if remote:\n",
    "#                     upload_ecotaxa_data(mesokosm_path, remote, project_id=17486, crops_type='deconv')\n",
    "#                 else:\n",
    "#                     print(\"Failed to log into EcoTaxa. Exiting...\")"
   ]
  }
 ],
 "metadata": {
  "kernelspec": {
   "display_name": "base",
   "language": "python",
   "name": "python3"
  },
  "language_info": {
   "codemirror_mode": {
    "name": "ipython",
    "version": 3
   },
   "file_extension": ".py",
   "mimetype": "text/x-python",
   "name": "python",
   "nbconvert_exporter": "python",
   "pygments_lexer": "ipython3",
   "version": "3.13.2"
  }
 },
 "nbformat": 4,
 "nbformat_minor": 5
}
