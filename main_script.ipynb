{
 "cells": [
  {
   "cell_type": "markdown",
   "id": "99cd5955",
   "metadata": {},
   "source": [
    "# Step by step processing of PIScO images from fullframe PNGs to EcoTaxa Export per cruise"
   ]
  },
  {
   "cell_type": "markdown",
   "id": "e6c36789",
   "metadata": {},
   "source": [
    "## 0.  Connect to docker container & import of libraries\n",
    "Prerequesits\n",
    "- Start the rocm_container if not already running.\n",
    "- Start the jupyter server in the container (sudo docker exec -it rocm_container bash -c \"jupyter notebook --ip=0.0.0.0 --port=8888 --no-browser --allow-root\"): note the token/password\n",
    "- Find the ip address of the rocm container (sudo docker inspect -f '{{range .NetworkSettings.Networks}}{{.IPAddress}}{{end}}' rocm_container)\n",
    "- Connect to the python kernel in VS Code: Select other kernel... with IP addres and password/token from above."
   ]
  },
  {
   "cell_type": "code",
   "execution_count": 1,
   "id": "1a3796fb",
   "metadata": {},
   "outputs": [
    {
     "name": "stdout",
     "output_type": "stream",
     "text": [
      "Requirement already satisfied: numpy in /home/veit/miniconda3/lib/python3.13/site-packages (2.2.6)\n",
      "Requirement already satisfied: pandas in /home/veit/miniconda3/lib/python3.13/site-packages (2.2.3)\n",
      "Requirement already satisfied: matplotlib in /home/veit/miniconda3/lib/python3.13/site-packages (3.10.3)\n",
      "Requirement already satisfied: scikit-image in /home/veit/miniconda3/lib/python3.13/site-packages (0.25.2)\n",
      "Requirement already satisfied: opencv-python in /home/veit/miniconda3/lib/python3.13/site-packages (4.11.0.86)\n",
      "Requirement already satisfied: umap-learn in /home/veit/miniconda3/lib/python3.13/site-packages (0.5.7)\n",
      "Requirement already satisfied: sqlalchemy in /home/veit/miniconda3/lib/python3.13/site-packages (2.0.41)\n",
      "Requirement already satisfied: tqdm in /home/veit/miniconda3/lib/python3.13/site-packages (4.67.1)\n",
      "Requirement already satisfied: standard-imghdr in /home/veit/miniconda3/lib/python3.13/site-packages (3.13.0)\n",
      "Requirement already satisfied: torch in /home/veit/miniconda3/lib/python3.13/site-packages (2.7.0)\n",
      "Requirement already satisfied: torchvision in /home/veit/miniconda3/lib/python3.13/site-packages (0.22.0)\n",
      "Requirement already satisfied: python-dateutil>=2.8.2 in /home/veit/miniconda3/lib/python3.13/site-packages (from pandas) (2.9.0.post0)\n",
      "Requirement already satisfied: pytz>=2020.1 in /home/veit/miniconda3/lib/python3.13/site-packages (from pandas) (2025.2)\n",
      "Requirement already satisfied: tzdata>=2022.7 in /home/veit/miniconda3/lib/python3.13/site-packages (from pandas) (2025.2)\n",
      "Requirement already satisfied: contourpy>=1.0.1 in /home/veit/miniconda3/lib/python3.13/site-packages (from matplotlib) (1.3.2)\n",
      "Requirement already satisfied: cycler>=0.10 in /home/veit/miniconda3/lib/python3.13/site-packages (from matplotlib) (0.12.1)\n",
      "Requirement already satisfied: fonttools>=4.22.0 in /home/veit/miniconda3/lib/python3.13/site-packages (from matplotlib) (4.58.0)\n",
      "Requirement already satisfied: kiwisolver>=1.3.1 in /home/veit/miniconda3/lib/python3.13/site-packages (from matplotlib) (1.4.8)\n",
      "Requirement already satisfied: packaging>=20.0 in /home/veit/miniconda3/lib/python3.13/site-packages (from matplotlib) (24.2)\n",
      "Requirement already satisfied: pillow>=8 in /home/veit/miniconda3/lib/python3.13/site-packages (from matplotlib) (11.2.1)\n",
      "Requirement already satisfied: pyparsing>=2.3.1 in /home/veit/miniconda3/lib/python3.13/site-packages (from matplotlib) (3.2.3)\n",
      "Requirement already satisfied: scipy>=1.11.4 in /home/veit/miniconda3/lib/python3.13/site-packages (from scikit-image) (1.15.3)\n",
      "Requirement already satisfied: networkx>=3.0 in /home/veit/miniconda3/lib/python3.13/site-packages (from scikit-image) (3.4.2)\n",
      "Requirement already satisfied: imageio!=2.35.0,>=2.33 in /home/veit/miniconda3/lib/python3.13/site-packages (from scikit-image) (2.37.0)\n",
      "Requirement already satisfied: tifffile>=2022.8.12 in /home/veit/miniconda3/lib/python3.13/site-packages (from scikit-image) (2025.5.10)\n",
      "Requirement already satisfied: lazy-loader>=0.4 in /home/veit/miniconda3/lib/python3.13/site-packages (from scikit-image) (0.4)\n",
      "Requirement already satisfied: scikit-learn>=0.22 in /home/veit/miniconda3/lib/python3.13/site-packages (from umap-learn) (1.6.1)\n",
      "Requirement already satisfied: numba>=0.51.2 in /home/veit/miniconda3/lib/python3.13/site-packages (from umap-learn) (0.61.2)\n",
      "Requirement already satisfied: pynndescent>=0.5 in /home/veit/miniconda3/lib/python3.13/site-packages (from umap-learn) (0.5.13)\n",
      "Requirement already satisfied: greenlet>=1 in /home/veit/miniconda3/lib/python3.13/site-packages (from sqlalchemy) (3.2.2)\n",
      "Requirement already satisfied: typing-extensions>=4.6.0 in /home/veit/miniconda3/lib/python3.13/site-packages (from sqlalchemy) (4.12.2)\n",
      "Requirement already satisfied: filelock in /home/veit/miniconda3/lib/python3.13/site-packages (from torch) (3.18.0)\n",
      "Requirement already satisfied: setuptools in /home/veit/miniconda3/lib/python3.13/site-packages (from torch) (78.1.1)\n",
      "Requirement already satisfied: sympy>=1.13.3 in /home/veit/miniconda3/lib/python3.13/site-packages (from torch) (1.14.0)\n",
      "Requirement already satisfied: jinja2 in /home/veit/miniconda3/lib/python3.13/site-packages (from torch) (3.1.6)\n",
      "Requirement already satisfied: fsspec in /home/veit/miniconda3/lib/python3.13/site-packages (from torch) (2025.5.0)\n",
      "Requirement already satisfied: nvidia-cuda-nvrtc-cu12==12.6.77 in /home/veit/miniconda3/lib/python3.13/site-packages (from torch) (12.6.77)\n",
      "Requirement already satisfied: nvidia-cuda-runtime-cu12==12.6.77 in /home/veit/miniconda3/lib/python3.13/site-packages (from torch) (12.6.77)\n",
      "Requirement already satisfied: nvidia-cuda-cupti-cu12==12.6.80 in /home/veit/miniconda3/lib/python3.13/site-packages (from torch) (12.6.80)\n",
      "Requirement already satisfied: nvidia-cudnn-cu12==9.5.1.17 in /home/veit/miniconda3/lib/python3.13/site-packages (from torch) (9.5.1.17)\n",
      "Requirement already satisfied: nvidia-cublas-cu12==12.6.4.1 in /home/veit/miniconda3/lib/python3.13/site-packages (from torch) (12.6.4.1)\n",
      "Requirement already satisfied: nvidia-cufft-cu12==11.3.0.4 in /home/veit/miniconda3/lib/python3.13/site-packages (from torch) (11.3.0.4)\n",
      "Requirement already satisfied: nvidia-curand-cu12==10.3.7.77 in /home/veit/miniconda3/lib/python3.13/site-packages (from torch) (10.3.7.77)\n",
      "Requirement already satisfied: nvidia-cusolver-cu12==11.7.1.2 in /home/veit/miniconda3/lib/python3.13/site-packages (from torch) (11.7.1.2)\n",
      "Requirement already satisfied: nvidia-cusparse-cu12==12.5.4.2 in /home/veit/miniconda3/lib/python3.13/site-packages (from torch) (12.5.4.2)\n",
      "Requirement already satisfied: nvidia-cusparselt-cu12==0.6.3 in /home/veit/miniconda3/lib/python3.13/site-packages (from torch) (0.6.3)\n",
      "Requirement already satisfied: nvidia-nccl-cu12==2.26.2 in /home/veit/miniconda3/lib/python3.13/site-packages (from torch) (2.26.2)\n",
      "Requirement already satisfied: nvidia-nvtx-cu12==12.6.77 in /home/veit/miniconda3/lib/python3.13/site-packages (from torch) (12.6.77)\n",
      "Requirement already satisfied: nvidia-nvjitlink-cu12==12.6.85 in /home/veit/miniconda3/lib/python3.13/site-packages (from torch) (12.6.85)\n",
      "Requirement already satisfied: nvidia-cufile-cu12==1.11.1.6 in /home/veit/miniconda3/lib/python3.13/site-packages (from torch) (1.11.1.6)\n",
      "Requirement already satisfied: triton==3.3.0 in /home/veit/miniconda3/lib/python3.13/site-packages (from torch) (3.3.0)\n",
      "Requirement already satisfied: llvmlite<0.45,>=0.44.0dev0 in /home/veit/miniconda3/lib/python3.13/site-packages (from numba>=0.51.2->umap-learn) (0.44.0)\n",
      "Requirement already satisfied: joblib>=0.11 in /home/veit/miniconda3/lib/python3.13/site-packages (from pynndescent>=0.5->umap-learn) (1.5.0)\n",
      "Requirement already satisfied: six>=1.5 in /home/veit/miniconda3/lib/python3.13/site-packages (from python-dateutil>=2.8.2->pandas) (1.17.0)\n",
      "Requirement already satisfied: threadpoolctl>=3.1.0 in /home/veit/miniconda3/lib/python3.13/site-packages (from scikit-learn>=0.22->umap-learn) (3.6.0)\n",
      "Requirement already satisfied: mpmath<1.4,>=1.1.0 in /home/veit/miniconda3/lib/python3.13/site-packages (from sympy>=1.13.3->torch) (1.3.0)\n",
      "Requirement already satisfied: MarkupSafe>=2.0 in /home/veit/miniconda3/lib/python3.13/site-packages (from jinja2->torch) (3.0.2)\n"
     ]
    }
   ],
   "source": [
    "!pip install numpy pandas matplotlib scikit-image opencv-python umap-learn sqlalchemy tqdm standard-imghdr torch torchvision\n",
    "import os\n",
    "#os.chdir('/app/ImageProcessing/')\n",
    "os.chdir('/home/veit/PIScO_dev/ImageProcessing/')"
   ]
  },
  {
   "cell_type": "code",
   "execution_count": 1,
   "id": "8c2b50fd",
   "metadata": {},
   "outputs": [
    {
     "name": "stderr",
     "output_type": "stream",
     "text": [
      "/home/veit/miniconda3/lib/python3.13/site-packages/tqdm/auto.py:21: TqdmWarning: IProgress not found. Please update jupyter and ipywidgets. See https://ipywidgets.readthedocs.io/en/stable/user_install.html\n",
      "  from .autonotebook import tqdm as notebook_tqdm\n",
      "2025-06-13 13:34:46,984 - Connected to the database\n"
     ]
    }
   ],
   "source": [
    "#### External modules\n",
    "import os\n",
    "import numpy as np\n",
    "import pandas as pd\n",
    "import matplotlib.pyplot as plt\n",
    "import matplotlib.colors as mcolors\n",
    "import re\n",
    "import datetime\n",
    "\n",
    "from pandas.errors import EmptyDataError\n",
    "\n",
    "from sqlalchemy import create_engine\n",
    "from sqlalchemy import text\n",
    "\n",
    "import inspect\n",
    "from skimage import measure\n",
    "from skimage.io import imread\n",
    "import cv2\n",
    "import umap\n",
    "import pickle\n",
    "from sklearn.preprocessing import StandardScaler\n",
    "\n",
    "from tqdm import tqdm\n",
    "import logging\n",
    "import shutil\n",
    "\n",
    "#### Internal modules\n",
    "\n",
    "from segmenter import run_segmenter\n",
    "import analyze_profiles_seavision as ap\n",
    "\n"
   ]
  },
  {
   "cell_type": "markdown",
   "id": "18e59454",
   "metadata": {},
   "source": [
    "## 1.  Define the input images i.e. cruise folder\n"
   ]
  },
  {
   "cell_type": "code",
   "execution_count": 9,
   "id": "b02d17e7",
   "metadata": {},
   "outputs": [],
   "source": [
    "#Don't forget to mount the SMB share, in system terminal: sudo mount -t cifs //filer.geomar.de/projekte/ORTC-ST-PISCO /mnt/filer -o username=GEOM-svcPISCO_rw@geomar.de,password=2mZmhx-7GCGf \n",
    "# Select the base dir of the PIScO data for the cruise you want to process. Example: /mnt/filer/SO298/SO298-Logfiles_PISCO\n",
    "\n",
    "### KOSMOS Peru 2020\n",
    "# cruise = \"PISCO_KOSMOS_2020_Peru\"\n",
    "# intermediate_result_dir = \"/home/veit/PIScO_dev/Segmentation_results/PISCO_KOSMOS_2020_Peru/TempResults\"\n",
    "# cruise_base = f\"/mnt/filer/PISCO_KOSMOS_2020_Peru/PIScO_Peru_source\"\n",
    "# ctd_dir= None\n",
    "# #ctd_prefix = None\n",
    "# log_directory = None\n",
    "\n",
    "### HE570\n",
    "cruise = \"HE570\"\n",
    "cruise_base = \"/mnt/filer/HE570/HE570-PISCO-Profiles\"\n",
    "intermediate_result_dir = f\"/home/veit/PIScO_dev/Segmentation_results/HE570/HE570-PISCO-Profiles/TempResults\"\n",
    "ctd_dir = None\n",
    "#ctd_prefix = \"met_202_1_\"\n",
    "log_directory = None\n",
    "\n",
    "### SO_298\n",
    "# cruise = \"SO298\"\n",
    "# cruise_base = \"/mnt/filer/SO298/SO298-PISCO-Profiles\"\n",
    "# # #cruise_base = \"/home/veit/PIScO_dev/usb_mount/SO298-PNG\"\n",
    "# intermediate_result_dir = \"/home/veit/PIScO_dev/Segmentation_results/SO298/SO298-PISCO-Profiles/TempResults\"\n",
    "# ctd_dir = \"/mnt/filer/SO298/SO298-CTD_UVP_ETC/SO298-CTD/calibrated/\"\n",
    "# ctd_prefix = \"son_298_1_\"\n",
    "# log_directory = \"/mnt/filer/SO298/SO298-Logfiles_PISCO/Templog\"\n",
    "\n",
    "### MSM_126\n",
    "# cruise = \"MSM126\"\n",
    "# cruise_base = \"/mnt/filer/MSM126/MSM126-PISCO-Profiles\"\n",
    "# intermediate_result_dir = f\"/home/veit/PIScO_dev/Segmentation_results/MSM126/MSM126-PISCO-Profiles/TempResults/\"\n",
    "# ctd_dir = \"/mnt/filer/MSM126/MSM126-Data-UVP-CTD-ADCP/CTD/msm_126_1_ctd\"\n",
    "# ctd_prefix = \"msm_126_1_\"\n",
    "# log_directory = \"/mnt/filer/MSM126/MSM126-PISCO_Logfilesetc/Logfiles\"\n",
    "\n",
    "## M202\n",
    "# cruise = \"M202\"\n",
    "# cruise_base = \"/mnt/filer/M202/M202-PISCO-Profiles\"\n",
    "# intermediate_result_dir = f\"/home/veit/PIScO_dev/Segmentation_results/M202/M202-PISCO-Profiles/TempResults\"\n",
    "# ctd_dir = \"/mnt/filer/M202/M202-external-Data/M202-CTD/met_202_1_ctd/met_202_1_ctd\"\n",
    "# ctd_prefix = \"met_202_1_\"\n",
    "# log_directory = \"/mnt/filer/M202/M202-Pisco-Logfiles/Logfiles\"\n",
    "\n",
    "### SO_308\n",
    "# cruise = \"SO308\"\n",
    "# cruise_base = \"/mnt/filer/SO308/SO308-PISCO-Profiles\"\n",
    "# # #cruise_base = \"/home/veit/PIScO_dev/usb_mount/SO298-PNG\"\n",
    "# intermediate_result_dir = \"/home/veit/PIScO_dev/Segmentation_results/SO308/SO308-PISCO-Profiles/TempResults\"\n",
    "# ctd_dir = \"/mnt/filer/SO308/ADCP-ETC/CTD/CTD/Preliminary O2 calibrated profiles 1-128/calibrated\"\n",
    "# ctd_prefix = \"son_308_1_\"\n",
    "# log_directory = \"/mnt/filer/SO308/PISCO-Logfiles/PISCO-LOGFILES/Logfiles\"\n",
    "\n",
    "\n"
   ]
  },
  {
   "cell_type": "markdown",
   "id": "05fe589c",
   "metadata": {},
   "source": [
    "## 2.  Main loop\n",
    "### 2.1 Segmentation: create crops and corresponding unrefined metadata \n"
   ]
  },
  {
   "cell_type": "code",
   "execution_count": null,
   "id": "c9b5ad8f",
   "metadata": {},
   "outputs": [],
   "source": [
    "for profile in os.listdir(cruise_base):\n",
    "        print(profile)\n",
    "        profile_path = os.path.join(cruise_base, profile)\n",
    "        if os.path.isdir(profile_path):\n",
    "                img_folder = os.path.join(profile_path, profile+\"_Images-PNG\")\n",
    "                #img_folder = profile_path\n",
    "                results_folder = os.path.join(intermediate_result_dir, profile, profile+\"_Results\")\n",
    "                if not os.path.exists(img_folder):\n",
    "                        print(f\"Image folder {img_folder} does not exist, skipping profile {profile}.\")\n",
    "                        continue\n",
    "                if not os.path.exists(results_folder):\n",
    "                        os.makedirs(results_folder)\n",
    "                run_segmenter(img_folder, results_folder, deconvolution=False)"
   ]
  },
  {
   "cell_type": "markdown",
   "id": "b0953c4a",
   "metadata": {},
   "source": [
    "### 2.2 Postprocessing: filtering, metadata curation, EcoTaxa export"
   ]
  },
  {
   "cell_type": "code",
   "execution_count": 10,
   "id": "64bba3a0",
   "metadata": {},
   "outputs": [
    {
     "name": "stdout",
     "output_type": "stream",
     "text": [
      "Removing unzipped folder: /home/veit/PIScO_dev/Segmentation_results/HE570/HE570-PISCO-Profiles/TempResults/20210304_HE570_014-bop-002_PISCO1/20210304_HE570_014-bop-002_PISCO1_Results/EcoTaxa/crops\n",
      "Removing unzipped folder: /home/veit/PIScO_dev/Segmentation_results/HE570/HE570-PISCO-Profiles/TempResults/20210304_HE570_014-bop-002_PISCO1/20210304_HE570_014-bop-002_PISCO1_Results/EcoTaxa/deconv_crops\n",
      "Removing unzipped folder: /home/veit/PIScO_dev/Segmentation_results/HE570/HE570-PISCO-Profiles/TempResults/20210305_HE570_027-bop-005_PISCO1/20210305_HE570_027-bop-005_PISCO1_Results/EcoTaxa/crops\n",
      "Removing unzipped folder: /home/veit/PIScO_dev/Segmentation_results/HE570/HE570-PISCO-Profiles/TempResults/20210305_HE570_027-bop-005_PISCO1/20210305_HE570_027-bop-005_PISCO1_Results/EcoTaxa/deconv_crops\n",
      "Removing unzipped folder: /home/veit/PIScO_dev/Segmentation_results/HE570/HE570-PISCO-Profiles/TempResults/20210311_HE570_124-bop-026_PISCO1/20210311_HE570_124-bop-026_PISCO1_Results/EcoTaxa/crops\n",
      "Removing unzipped folder: /home/veit/PIScO_dev/Segmentation_results/HE570/HE570-PISCO-Profiles/TempResults/20210311_HE570_124-bop-026_PISCO1/20210311_HE570_124-bop-026_PISCO1_Results/EcoTaxa/deconv_crops\n",
      "Removing unzipped folder: /home/veit/PIScO_dev/Segmentation_results/HE570/HE570-PISCO-Profiles/TempResults/20210306_HE570_060-bop-014_PISCO1/20210306_HE570_060-bop-014_PISCO1_Results/EcoTaxa/crops\n",
      "Removing unzipped folder: /home/veit/PIScO_dev/Segmentation_results/HE570/HE570-PISCO-Profiles/TempResults/20210306_HE570_060-bop-014_PISCO1/20210306_HE570_060-bop-014_PISCO1_Results/EcoTaxa/deconv_crops\n",
      "Removing unzipped folder: /home/veit/PIScO_dev/Segmentation_results/HE570/HE570-PISCO-Profiles/TempResults/20210314_HE570_191-bop-035d_PISCO1/20210314_HE570_191-bop-035d_PISCO1_Results/EcoTaxa/crops\n",
      "Removing unzipped folder: /home/veit/PIScO_dev/Segmentation_results/HE570/HE570-PISCO-Profiles/TempResults/20210314_HE570_191-bop-035d_PISCO1/20210314_HE570_191-bop-035d_PISCO1_Results/EcoTaxa/deconv_crops\n",
      "Removing unzipped folder: /home/veit/PIScO_dev/Segmentation_results/HE570/HE570-PISCO-Profiles/TempResults/20210312_HE570_135-bop-027_PISCO1/20210312_HE570_135-bop-027_PISCO1_Results/EcoTaxa/crops\n",
      "Removing unzipped folder: /home/veit/PIScO_dev/Segmentation_results/HE570/HE570-PISCO-Profiles/TempResults/20210312_HE570_135-bop-027_PISCO1/20210312_HE570_135-bop-027_PISCO1_Results/EcoTaxa/deconv_crops\n",
      "Removing unzipped folder: /home/veit/PIScO_dev/Segmentation_results/HE570/HE570-PISCO-Profiles/TempResults/20210305_HE570_030-bop-006_PISCO1/20210305_HE570_030-bop-006_PISCO1_Results/EcoTaxa/crops\n",
      "Removing unzipped folder: /home/veit/PIScO_dev/Segmentation_results/HE570/HE570-PISCO-Profiles/TempResults/20210305_HE570_030-bop-006_PISCO1/20210305_HE570_030-bop-006_PISCO1_Results/EcoTaxa/deconv_crops\n",
      "Removing unzipped folder: /home/veit/PIScO_dev/Segmentation_results/HE570/HE570-PISCO-Profiles/TempResults/20210313_HE570_164-bop-033_PISCO1/20210313_HE570_164-bop-033_PISCO1_Results/EcoTaxa/crops\n",
      "Removing unzipped folder: /home/veit/PIScO_dev/Segmentation_results/HE570/HE570-PISCO-Profiles/TempResults/20210313_HE570_164-bop-033_PISCO1/20210313_HE570_164-bop-033_PISCO1_Results/EcoTaxa/deconv_crops\n",
      "Removing unzipped folder: /home/veit/PIScO_dev/Segmentation_results/HE570/HE570-PISCO-Profiles/TempResults/20210307_HE570_069-bop-015a_PISCO1/20210307_HE570_069-bop-015a_PISCO1_Results/EcoTaxa/crops\n",
      "Removing unzipped folder: /home/veit/PIScO_dev/Segmentation_results/HE570/HE570-PISCO-Profiles/TempResults/20210307_HE570_069-bop-015a_PISCO1/20210307_HE570_069-bop-015a_PISCO1_Results/EcoTaxa/deconv_crops\n",
      "Removing unzipped folder: /home/veit/PIScO_dev/Segmentation_results/HE570/HE570-PISCO-Profiles/TempResults/20210311_HE570_111-bop-022_PISCO1/20210311_HE570_111-bop-022_PISCO1_Results/EcoTaxa/crops\n",
      "Removing unzipped folder: /home/veit/PIScO_dev/Segmentation_results/HE570/HE570-PISCO-Profiles/TempResults/20210311_HE570_111-bop-022_PISCO1/20210311_HE570_111-bop-022_PISCO1_Results/EcoTaxa/deconv_crops\n",
      "Removing unzipped folder: /home/veit/PIScO_dev/Segmentation_results/HE570/HE570-PISCO-Profiles/TempResults/20210315_HE570_221-bop-039a_PISCO1/20210315_HE570_221-bop-039a_PISCO1_Results/EcoTaxa/crops\n",
      "Removing unzipped folder: /home/veit/PIScO_dev/Segmentation_results/HE570/HE570-PISCO-Profiles/TempResults/20210315_HE570_221-bop-039a_PISCO1/20210315_HE570_221-bop-039a_PISCO1_Results/EcoTaxa/deconv_crops\n",
      "Removing unzipped folder: /home/veit/PIScO_dev/Segmentation_results/HE570/HE570-PISCO-Profiles/TempResults/20210306_HE570_050-bop-012_PISCO1/20210306_HE570_050-bop-012_PISCO1_Results/EcoTaxa/crops\n",
      "Removing unzipped folder: /home/veit/PIScO_dev/Segmentation_results/HE570/HE570-PISCO-Profiles/TempResults/20210306_HE570_050-bop-012_PISCO1/20210306_HE570_050-bop-012_PISCO1_Results/EcoTaxa/deconv_crops\n",
      "Removing unzipped folder: /home/veit/PIScO_dev/Segmentation_results/HE570/HE570-PISCO-Profiles/TempResults/20210314_HE570_191-bop-035b_PISCO1/20210314_HE570_191-bop-035b_PISCO1_Results/EcoTaxa/crops\n",
      "Removing unzipped folder: /home/veit/PIScO_dev/Segmentation_results/HE570/HE570-PISCO-Profiles/TempResults/20210314_HE570_191-bop-035b_PISCO1/20210314_HE570_191-bop-035b_PISCO1_Results/EcoTaxa/deconv_crops\n",
      "Removing unzipped folder: /home/veit/PIScO_dev/Segmentation_results/HE570/HE570-PISCO-Profiles/TempResults/20210307_HE570_069-bop-015b_PISCO1/20210307_HE570_069-bop-015b_PISCO1_Results/EcoTaxa/crops\n",
      "Removing unzipped folder: /home/veit/PIScO_dev/Segmentation_results/HE570/HE570-PISCO-Profiles/TempResults/20210307_HE570_069-bop-015b_PISCO1/20210307_HE570_069-bop-015b_PISCO1_Results/EcoTaxa/deconv_crops\n",
      "Removing unzipped folder: /home/veit/PIScO_dev/Segmentation_results/HE570/HE570-PISCO-Profiles/TempResults/20210305_HE570_040-bop-009_PISCO1/20210305_HE570_040-bop-009_PISCO1_Results/EcoTaxa/crops\n",
      "Removing unzipped folder: /home/veit/PIScO_dev/Segmentation_results/HE570/HE570-PISCO-Profiles/TempResults/20210305_HE570_040-bop-009_PISCO1/20210305_HE570_040-bop-009_PISCO1_Results/EcoTaxa/deconv_crops\n",
      "Removing unzipped folder: /home/veit/PIScO_dev/Segmentation_results/HE570/HE570-PISCO-Profiles/TempResults/20210305_HE570_037-bop-008_PISCO1/20210305_HE570_037-bop-008_PISCO1_Results/EcoTaxa/crops\n",
      "Removing unzipped folder: /home/veit/PIScO_dev/Segmentation_results/HE570/HE570-PISCO-Profiles/TempResults/20210305_HE570_037-bop-008_PISCO1/20210305_HE570_037-bop-008_PISCO1_Results/EcoTaxa/deconv_crops\n",
      "Removing unzipped folder: /home/veit/PIScO_dev/Segmentation_results/HE570/HE570-PISCO-Profiles/TempResults/20210306_HE570_053-bop-013_PISCO1/20210306_HE570_053-bop-013_PISCO1_Results/EcoTaxa/crops\n",
      "Removing unzipped folder: /home/veit/PIScO_dev/Segmentation_results/HE570/HE570-PISCO-Profiles/TempResults/20210306_HE570_053-bop-013_PISCO1/20210306_HE570_053-bop-013_PISCO1_Results/EcoTaxa/deconv_crops\n",
      "Removing unzipped folder: /home/veit/PIScO_dev/Segmentation_results/HE570/HE570-PISCO-Profiles/TempResults/20210315_HE570_211-bop-037a_PISCO1/20210315_HE570_211-bop-037a_PISCO1_Results/EcoTaxa/crops\n",
      "Removing unzipped folder: /home/veit/PIScO_dev/Segmentation_results/HE570/HE570-PISCO-Profiles/TempResults/20210315_HE570_211-bop-037a_PISCO1/20210315_HE570_211-bop-037a_PISCO1_Results/EcoTaxa/deconv_crops\n",
      "Removing unzipped folder: /home/veit/PIScO_dev/Segmentation_results/HE570/HE570-PISCO-Profiles/TempResults/20210311_HE570_103-bop-020_PISCO1/20210311_HE570_103-bop-020_PISCO1_Results/EcoTaxa/crops\n",
      "Removing unzipped folder: /home/veit/PIScO_dev/Segmentation_results/HE570/HE570-PISCO-Profiles/TempResults/20210311_HE570_103-bop-020_PISCO1/20210311_HE570_103-bop-020_PISCO1_Results/EcoTaxa/deconv_crops\n",
      "Removing unzipped folder: /home/veit/PIScO_dev/Segmentation_results/HE570/HE570-PISCO-Profiles/TempResults/20210311_HE570_114-bop-023_PISCO1/20210311_HE570_114-bop-023_PISCO1_Results/EcoTaxa/crops\n",
      "Removing unzipped folder: /home/veit/PIScO_dev/Segmentation_results/HE570/HE570-PISCO-Profiles/TempResults/20210311_HE570_114-bop-023_PISCO1/20210311_HE570_114-bop-023_PISCO1_Results/EcoTaxa/deconv_crops\n",
      "Removing unzipped folder: /home/veit/PIScO_dev/Segmentation_results/HE570/HE570-PISCO-Profiles/TempResults/20210307_HE570_076-bop-016b_PISCO1/20210307_HE570_076-bop-016b_PISCO1_Results/EcoTaxa/crops\n",
      "Removing unzipped folder: /home/veit/PIScO_dev/Segmentation_results/HE570/HE570-PISCO-Profiles/TempResults/20210307_HE570_076-bop-016b_PISCO1/20210307_HE570_076-bop-016b_PISCO1_Results/EcoTaxa/deconv_crops\n",
      "Removing unzipped folder: /home/veit/PIScO_dev/Segmentation_results/HE570/HE570-PISCO-Profiles/TempResults/20210315_HE570_215-bop-038c_PISCO1/20210315_HE570_215-bop-038c_PISCO1_Results/EcoTaxa/crops\n",
      "Removing unzipped folder: /home/veit/PIScO_dev/Segmentation_results/HE570/HE570-PISCO-Profiles/TempResults/20210315_HE570_215-bop-038c_PISCO1/20210315_HE570_215-bop-038c_PISCO1_Results/EcoTaxa/deconv_crops\n",
      "Removing unzipped folder: /home/veit/PIScO_dev/Segmentation_results/HE570/HE570-PISCO-Profiles/TempResults/20210315_HE570_208-bop-036b_PISCO1/20210315_HE570_208-bop-036b_PISCO1_Results/EcoTaxa/crops\n",
      "Removing unzipped folder: /home/veit/PIScO_dev/Segmentation_results/HE570/HE570-PISCO-Profiles/TempResults/20210315_HE570_208-bop-036b_PISCO1/20210315_HE570_208-bop-036b_PISCO1_Results/EcoTaxa/deconv_crops\n",
      "Removing unzipped folder: /home/veit/PIScO_dev/Segmentation_results/HE570/HE570-PISCO-Profiles/TempResults/20210307_HE570_076-bop-016d_PISCO1/20210307_HE570_076-bop-016d_PISCO1_Results/EcoTaxa/crops\n",
      "Removing unzipped folder: /home/veit/PIScO_dev/Segmentation_results/HE570/HE570-PISCO-Profiles/TempResults/20210307_HE570_076-bop-016d_PISCO1/20210307_HE570_076-bop-016d_PISCO1_Results/EcoTaxa/deconv_crops\n",
      "Removing unzipped folder: /home/veit/PIScO_dev/Segmentation_results/HE570/HE570-PISCO-Profiles/TempResults/20210311_HE570_108-bop-021_PISCO1/20210311_HE570_108-bop-021_PISCO1_Results/EcoTaxa/crops\n",
      "Removing unzipped folder: /home/veit/PIScO_dev/Segmentation_results/HE570/HE570-PISCO-Profiles/TempResults/20210311_HE570_108-bop-021_PISCO1/20210311_HE570_108-bop-021_PISCO1_Results/EcoTaxa/deconv_crops\n",
      "Removing unzipped folder: /home/veit/PIScO_dev/Segmentation_results/HE570/HE570-PISCO-Profiles/TempResults/20210315_HE570_215-bop-038a_PISCO1/20210315_HE570_215-bop-038a_PISCO1_Results/EcoTaxa/crops\n",
      "Removing unzipped folder: /home/veit/PIScO_dev/Segmentation_results/HE570/HE570-PISCO-Profiles/TempResults/20210315_HE570_215-bop-038a_PISCO1/20210315_HE570_215-bop-038a_PISCO1_Results/EcoTaxa/deconv_crops\n",
      "Removing unzipped folder: /home/veit/PIScO_dev/Segmentation_results/HE570/HE570-PISCO-Profiles/TempResults/20210305_HE570_044-bop-010_PISCO1/20210305_HE570_044-bop-010_PISCO1_Results/EcoTaxa/crops\n",
      "Removing unzipped folder: /home/veit/PIScO_dev/Segmentation_results/HE570/HE570-PISCO-Profiles/TempResults/20210305_HE570_044-bop-010_PISCO1/20210305_HE570_044-bop-010_PISCO1_Results/EcoTaxa/deconv_crops\n",
      "Removing unzipped folder: /home/veit/PIScO_dev/Segmentation_results/HE570/HE570-PISCO-Profiles/TempResults/20210308_HE570_085-bop-017_PISCO1/20210308_HE570_085-bop-017_PISCO1_Results/EcoTaxa/crops\n",
      "Removing unzipped folder: /home/veit/PIScO_dev/Segmentation_results/HE570/HE570-PISCO-Profiles/TempResults/20210308_HE570_085-bop-017_PISCO1/20210308_HE570_085-bop-017_PISCO1_Results/EcoTaxa/deconv_crops\n",
      "Removing unzipped folder: /home/veit/PIScO_dev/Segmentation_results/HE570/HE570-PISCO-Profiles/TempResults/20210313_HE570_156-bop-032_PISCO1/20210313_HE570_156-bop-032_PISCO1_Results/EcoTaxa/crops\n",
      "Removing unzipped folder: /home/veit/PIScO_dev/Segmentation_results/HE570/HE570-PISCO-Profiles/TempResults/20210313_HE570_156-bop-032_PISCO1/20210313_HE570_156-bop-032_PISCO1_Results/EcoTaxa/deconv_crops\n",
      "Removing unzipped folder: /home/veit/PIScO_dev/Segmentation_results/HE570/HE570-PISCO-Profiles/TempResults/20210308_HE570_089-bop-018_PISCO1/20210308_HE570_089-bop-018_PISCO1_Results/EcoTaxa/crops\n",
      "Removing unzipped folder: /home/veit/PIScO_dev/Segmentation_results/HE570/HE570-PISCO-Profiles/TempResults/20210308_HE570_089-bop-018_PISCO1/20210308_HE570_089-bop-018_PISCO1_Results/EcoTaxa/deconv_crops\n",
      "Removing unzipped folder: /home/veit/PIScO_dev/Segmentation_results/HE570/HE570-PISCO-Profiles/TempResults/20210303_HE570_003-bop-001_PISCO1/20210303_HE570_003-bop-001_PISCO1_Results/EcoTaxa/crops_part1_upload\n",
      "Removing unzipped folder: /home/veit/PIScO_dev/Segmentation_results/HE570/HE570-PISCO-Profiles/TempResults/20210303_HE570_003-bop-001_PISCO1/20210303_HE570_003-bop-001_PISCO1_Results/EcoTaxa/crops\n",
      "Removing unzipped folder: /home/veit/PIScO_dev/Segmentation_results/HE570/HE570-PISCO-Profiles/TempResults/20210303_HE570_003-bop-001_PISCO1/20210303_HE570_003-bop-001_PISCO1_Results/EcoTaxa/crops_part2_upload\n",
      "Removing unzipped folder: /home/veit/PIScO_dev/Segmentation_results/HE570/HE570-PISCO-Profiles/TempResults/20210303_HE570_003-bop-001_PISCO1/20210303_HE570_003-bop-001_PISCO1_Results/EcoTaxa/deconv_crops\n",
      "Removing unzipped folder: /home/veit/PIScO_dev/Segmentation_results/HE570/HE570-PISCO-Profiles/TempResults/20210314_HE570_191-bop-035a_PISCO1/20210314_HE570_191-bop-035a_PISCO1_Results/EcoTaxa/crops\n",
      "Removing unzipped folder: /home/veit/PIScO_dev/Segmentation_results/HE570/HE570-PISCO-Profiles/TempResults/20210314_HE570_191-bop-035a_PISCO1/20210314_HE570_191-bop-035a_PISCO1_Results/EcoTaxa/deconv_crops\n",
      "Removing unzipped folder: /home/veit/PIScO_dev/Segmentation_results/HE570/HE570-PISCO-Profiles/TempResults/20210311_HE570_121-bop-025_PISCO1/20210311_HE570_121-bop-025_PISCO1_Results/EcoTaxa/crops\n",
      "Removing unzipped folder: /home/veit/PIScO_dev/Segmentation_results/HE570/HE570-PISCO-Profiles/TempResults/20210311_HE570_121-bop-025_PISCO1/20210311_HE570_121-bop-025_PISCO1_Results/EcoTaxa/deconv_crops\n",
      "Removing unzipped folder: /home/veit/PIScO_dev/Segmentation_results/HE570/HE570-PISCO-Profiles/TempResults/20210314_HE570_191-bop-035c_PISCO1/20210314_HE570_191-bop-035c_PISCO1_Results/EcoTaxa/crops\n",
      "Removing unzipped folder: /home/veit/PIScO_dev/Segmentation_results/HE570/HE570-PISCO-Profiles/TempResults/20210314_HE570_191-bop-035c_PISCO1/20210314_HE570_191-bop-035c_PISCO1_Results/EcoTaxa/deconv_crops\n",
      "Removing unzipped folder: /home/veit/PIScO_dev/Segmentation_results/HE570/HE570-PISCO-Profiles/TempResults/20210307_HE570_069-bop-015c_PISCO1/20210307_HE570_069-bop-015c_PISCO1_Results/EcoTaxa/crops\n",
      "Removing unzipped folder: /home/veit/PIScO_dev/Segmentation_results/HE570/HE570-PISCO-Profiles/TempResults/20210307_HE570_069-bop-015c_PISCO1/20210307_HE570_069-bop-015c_PISCO1_Results/EcoTaxa/deconv_crops\n",
      "Removing unzipped folder: /home/veit/PIScO_dev/Segmentation_results/HE570/HE570-PISCO-Profiles/TempResults/20210304_HE570_021-bop-003_PISCO1/20210304_HE570_021-bop-003_PISCO1_Results/EcoTaxa/crops\n",
      "Removing unzipped folder: /home/veit/PIScO_dev/Segmentation_results/HE570/HE570-PISCO-Profiles/TempResults/20210304_HE570_021-bop-003_PISCO1/20210304_HE570_021-bop-003_PISCO1_Results/EcoTaxa/deconv_crops\n",
      "Removing unzipped folder: /home/veit/PIScO_dev/Segmentation_results/HE570/HE570-PISCO-Profiles/TempResults/20210311_HE570_117-bop-024_PISCO1/20210311_HE570_117-bop-024_PISCO1_Results/EcoTaxa/crops\n",
      "Removing unzipped folder: /home/veit/PIScO_dev/Segmentation_results/HE570/HE570-PISCO-Profiles/TempResults/20210311_HE570_117-bop-024_PISCO1/20210311_HE570_117-bop-024_PISCO1_Results/EcoTaxa/deconv_crops\n",
      "Removing unzipped folder: /home/veit/PIScO_dev/Segmentation_results/HE570/HE570-PISCO-Profiles/TempResults/20210305_HE570_033-bop-007_PISCO1/20210305_HE570_033-bop-007_PISCO1_Results/EcoTaxa/crops\n",
      "Removing unzipped folder: /home/veit/PIScO_dev/Segmentation_results/HE570/HE570-PISCO-Profiles/TempResults/20210305_HE570_033-bop-007_PISCO1/20210305_HE570_033-bop-007_PISCO1_Results/EcoTaxa/deconv_crops\n",
      "Removing unzipped folder: /home/veit/PIScO_dev/Segmentation_results/HE570/HE570-PISCO-Profiles/TempResults/20210312_HE570_151-bop-031_PISCO1/20210312_HE570_151-bop-031_PISCO1_Results/EcoTaxa/crops\n",
      "Removing unzipped folder: /home/veit/PIScO_dev/Segmentation_results/HE570/HE570-PISCO-Profiles/TempResults/20210312_HE570_151-bop-031_PISCO1/20210312_HE570_151-bop-031_PISCO1_Results/EcoTaxa/deconv_crops\n",
      "Removing unzipped folder: /home/veit/PIScO_dev/Segmentation_results/HE570/HE570-PISCO-Profiles/TempResults/20210304_HE570_024-bop-004_PISCO1/20210304_HE570_024-bop-004_PISCO1_Results/EcoTaxa/crops\n",
      "Removing unzipped folder: /home/veit/PIScO_dev/Segmentation_results/HE570/HE570-PISCO-Profiles/TempResults/20210304_HE570_024-bop-004_PISCO1/20210304_HE570_024-bop-004_PISCO1_Results/EcoTaxa/deconv_crops\n",
      "Removing unzipped folder: /home/veit/PIScO_dev/Segmentation_results/HE570/HE570-PISCO-Profiles/TempResults/20210315_HE570_221-bop-039b_PISCO1/20210315_HE570_221-bop-039b_PISCO1_Results/EcoTaxa/crops\n",
      "Removing unzipped folder: /home/veit/PIScO_dev/Segmentation_results/HE570/HE570-PISCO-Profiles/TempResults/20210315_HE570_221-bop-039b_PISCO1/20210315_HE570_221-bop-039b_PISCO1_Results/EcoTaxa/deconv_crops\n",
      "Removing unzipped folder: /home/veit/PIScO_dev/Segmentation_results/HE570/HE570-PISCO-Profiles/TempResults/20210309_HE570_100-bop-019_PISCO1/20210309_HE570_100-bop-019_PISCO1_Results/EcoTaxa/crops\n",
      "Removing unzipped folder: /home/veit/PIScO_dev/Segmentation_results/HE570/HE570-PISCO-Profiles/TempResults/20210309_HE570_100-bop-019_PISCO1/20210309_HE570_100-bop-019_PISCO1_Results/EcoTaxa/deconv_crops\n",
      "Removing unzipped folder: /home/veit/PIScO_dev/Segmentation_results/HE570/HE570-PISCO-Profiles/TempResults/20210312_HE570_143-bop-029_PISCO1/20210312_HE570_143-bop-029_PISCO1_Results/EcoTaxa/crops\n",
      "Removing unzipped folder: /home/veit/PIScO_dev/Segmentation_results/HE570/HE570-PISCO-Profiles/TempResults/20210312_HE570_143-bop-029_PISCO1/20210312_HE570_143-bop-029_PISCO1_Results/EcoTaxa/deconv_crops\n",
      "Removing unzipped folder: /home/veit/PIScO_dev/Segmentation_results/HE570/HE570-PISCO-Profiles/TempResults/20210315_HE570_208-bop-036a_PISCO1/20210315_HE570_208-bop-036a_PISCO1_Results/EcoTaxa/crops\n",
      "Removing unzipped folder: /home/veit/PIScO_dev/Segmentation_results/HE570/HE570-PISCO-Profiles/TempResults/20210315_HE570_208-bop-036a_PISCO1/20210315_HE570_208-bop-036a_PISCO1_Results/EcoTaxa/deconv_crops\n",
      "Removing unzipped folder: /home/veit/PIScO_dev/Segmentation_results/HE570/HE570-PISCO-Profiles/TempResults/20210307_HE570_076-bop-016e_PISCO1/20210307_HE570_076-bop-016e_PISCO1_Results/EcoTaxa/crops\n",
      "Removing unzipped folder: /home/veit/PIScO_dev/Segmentation_results/HE570/HE570-PISCO-Profiles/TempResults/20210307_HE570_076-bop-016e_PISCO1/20210307_HE570_076-bop-016e_PISCO1_Results/EcoTaxa/deconv_crops\n",
      "Removing unzipped folder: /home/veit/PIScO_dev/Segmentation_results/HE570/HE570-PISCO-Profiles/TempResults/20210315_HE570_211-bop-037c_PISCO1/20210315_HE570_211-bop-037c_PISCO1_Results/EcoTaxa/crops\n",
      "Removing unzipped folder: /home/veit/PIScO_dev/Segmentation_results/HE570/HE570-PISCO-Profiles/TempResults/20210315_HE570_211-bop-037c_PISCO1/20210315_HE570_211-bop-037c_PISCO1_Results/EcoTaxa/deconv_crops\n",
      "Removing unzipped folder: /home/veit/PIScO_dev/Segmentation_results/HE570/HE570-PISCO-Profiles/TempResults/20210312_HE570_147-bop-030_PISCO1/20210312_HE570_147-bop-030_PISCO1_Results/EcoTaxa/crops\n",
      "Removing unzipped folder: /home/veit/PIScO_dev/Segmentation_results/HE570/HE570-PISCO-Profiles/TempResults/20210312_HE570_147-bop-030_PISCO1/20210312_HE570_147-bop-030_PISCO1_Results/EcoTaxa/deconv_crops\n",
      "Removing unzipped folder: /home/veit/PIScO_dev/Segmentation_results/HE570/HE570-PISCO-Profiles/TempResults/20210306_HE570_047-bop-011_PISCO1/20210306_HE570_047-bop-011_PISCO1_Results/EcoTaxa/crops\n",
      "Removing unzipped folder: /home/veit/PIScO_dev/Segmentation_results/HE570/HE570-PISCO-Profiles/TempResults/20210306_HE570_047-bop-011_PISCO1/20210306_HE570_047-bop-011_PISCO1_Results/EcoTaxa/deconv_crops\n",
      "Removing unzipped folder: /home/veit/PIScO_dev/Segmentation_results/HE570/HE570-PISCO-Profiles/TempResults/20210315_HE570_215-bop-038b_PISCO1/20210315_HE570_215-bop-038b_PISCO1_Results/EcoTaxa/crops\n",
      "Removing unzipped folder: /home/veit/PIScO_dev/Segmentation_results/HE570/HE570-PISCO-Profiles/TempResults/20210315_HE570_215-bop-038b_PISCO1/20210315_HE570_215-bop-038b_PISCO1_Results/EcoTaxa/deconv_crops\n",
      "Removing unzipped folder: /home/veit/PIScO_dev/Segmentation_results/HE570/HE570-PISCO-Profiles/TempResults/20210312_HE570_138-bop-028_PISCO1/20210312_HE570_138-bop-028_PISCO1_Results/EcoTaxa/crops\n",
      "Removing unzipped folder: /home/veit/PIScO_dev/Segmentation_results/HE570/HE570-PISCO-Profiles/TempResults/20210312_HE570_138-bop-028_PISCO1/20210312_HE570_138-bop-028_PISCO1_Results/EcoTaxa/deconv_crops\n",
      "Removing unzipped folder: /home/veit/PIScO_dev/Segmentation_results/HE570/HE570-PISCO-Profiles/TempResults/20210313_HE570_169-bop-034_PISCO1/20210313_HE570_169-bop-034_PISCO1_Results/EcoTaxa/crops\n",
      "Removing unzipped folder: /home/veit/PIScO_dev/Segmentation_results/HE570/HE570-PISCO-Profiles/TempResults/20210313_HE570_169-bop-034_PISCO1/20210313_HE570_169-bop-034_PISCO1_Results/EcoTaxa/deconv_crops\n",
      "Removing unzipped folder: /home/veit/PIScO_dev/Segmentation_results/HE570/HE570-PISCO-Profiles/TempResults/20210307_HE570_076-bop-016c_PISCO1/20210307_HE570_076-bop-016c_PISCO1_Results/EcoTaxa/crops\n",
      "Removing unzipped folder: /home/veit/PIScO_dev/Segmentation_results/HE570/HE570-PISCO-Profiles/TempResults/20210307_HE570_076-bop-016c_PISCO1/20210307_HE570_076-bop-016c_PISCO1_Results/EcoTaxa/deconv_crops\n",
      "Removing unzipped folder: /home/veit/PIScO_dev/Segmentation_results/HE570/HE570-PISCO-Profiles/TempResults/20210307_HE570_076-bop-016a_PISCO1/20210307_HE570_076-bop-016a_PISCO1_Results/EcoTaxa/crops\n",
      "Removing unzipped folder: /home/veit/PIScO_dev/Segmentation_results/HE570/HE570-PISCO-Profiles/TempResults/20210307_HE570_076-bop-016a_PISCO1/20210307_HE570_076-bop-016a_PISCO1_Results/EcoTaxa/deconv_crops\n"
     ]
    }
   ],
   "source": [
    "def clean_ecotaxa_folders(base_folder, remove_all=False):\n",
    "    \"\"\"\n",
    "    Remove EcoTaxa folders and their contents from the given base folder.\n",
    "    \n",
    "    Args:\n",
    "        base_folder (str): Path to the base directory to clean\n",
    "        remove_all (bool): If True, removes the entire EcoTaxa folder structure.\n",
    "                         If False, only removes unzipped upload folders but keeps zips.\n",
    "    \"\"\"\n",
    "    for root, dirs, files in os.walk(base_folder):\n",
    "        if \"EcoTaxa\" in dirs:\n",
    "            ecotaxa_path = os.path.join(root, \"EcoTaxa\")\n",
    "            \n",
    "            if remove_all:\n",
    "                # Remove the entire EcoTaxa folder\n",
    "                print(f\"Removing entire EcoTaxa folder: {ecotaxa_path}\")\n",
    "                shutil.rmtree(ecotaxa_path)\n",
    "            else:\n",
    "                # Only remove unzipped upload folders\n",
    "                for item in os.listdir(ecotaxa_path):\n",
    "                    item_path = os.path.join(ecotaxa_path, item)\n",
    "                    if os.path.isdir(item_path) and (\"upload\" in item or \"crops\" in item):\n",
    "                        print(f\"Removing unzipped folder: {item_path}\")\n",
    "                        shutil.rmtree(item_path)\n",
    "                \n",
    "                # Remove empty EcoTaxa folder if no files remain\n",
    "                if not os.listdir(ecotaxa_path):\n",
    "                    print(f\"Removing empty EcoTaxa folder: {ecotaxa_path}\")\n",
    "                    shutil.rmtree(ecotaxa_path)\n",
    "\n",
    "# Usage examples:\n",
    "# Remove only unzipped folders:\n",
    "clean_ecotaxa_folders(intermediate_result_dir, remove_all=False)"
   ]
  },
  {
   "cell_type": "code",
   "execution_count": 6,
   "id": "5fa526d1",
   "metadata": {},
   "outputs": [
    {
     "name": "stdout",
     "output_type": "stream",
     "text": [
      "21_03_2020\n",
      "PA_PISCO.csv\n",
      "M2\n"
     ]
    },
    {
     "name": "stderr",
     "output_type": "stream",
     "text": [
      "  0%|          | 0/363 [00:00<?, ?it/s]"
     ]
    },
    {
     "name": "stderr",
     "output_type": "stream",
     "text": [
      "100%|██████████| 363/363 [00:11<00:00, 32.61it/s] \n"
     ]
    },
    {
     "name": "stdout",
     "output_type": "stream",
     "text": [
      "363\n"
     ]
    },
    {
     "name": "stderr",
     "output_type": "stream",
     "text": [
      "2025-06-12 15:04:36,520 - crop_df created\n"
     ]
    },
    {
     "name": "stdout",
     "output_type": "stream",
     "text": [
      "0 files were empty and were dropped; Number of uniue images: 363\n",
      "132132 particles found.\n",
      "No log directory provided, skipping log data.\n",
      "0 crops removed due to aspect ratio\n",
      "Processing 2 groups for /home/veit/PIScO_dev/Segmentation_results/PISCO_KOSMOS_2020_Peru/TempResults/21_03_2020/M2_Results/Crops\n",
      "Created zip file: /home/veit/PIScO_dev/Segmentation_results/PISCO_KOSMOS_2020_Peru/TempResults/21_03_2020/M2_Results/EcoTaxa/crops_part1_upload.zip\n",
      "Created zip file: /home/veit/PIScO_dev/Segmentation_results/PISCO_KOSMOS_2020_Peru/TempResults/21_03_2020/M2_Results/EcoTaxa/crops_part2_upload.zip\n",
      "Processing 1 groups for /home/veit/PIScO_dev/Segmentation_results/PISCO_KOSMOS_2020_Peru/TempResults/21_03_2020/M2_Results/Deconv_crops\n",
      "Created zip file: /home/veit/PIScO_dev/Segmentation_results/PISCO_KOSMOS_2020_Peru/TempResults/21_03_2020/M2_Results/EcoTaxa/deconv_crops.zip\n",
      "M1\n"
     ]
    },
    {
     "name": "stderr",
     "output_type": "stream",
     "text": [
      "100%|██████████| 300/300 [00:20<00:00, 14.83it/s]\n"
     ]
    },
    {
     "name": "stdout",
     "output_type": "stream",
     "text": [
      "300\n"
     ]
    },
    {
     "name": "stderr",
     "output_type": "stream",
     "text": [
      "2025-06-12 15:06:55,860 - crop_df created\n"
     ]
    },
    {
     "name": "stdout",
     "output_type": "stream",
     "text": [
      "0 files were empty and were dropped; Number of uniue images: 300\n",
      "187533 particles found.\n",
      "No log directory provided, skipping log data.\n",
      "0 crops removed due to aspect ratio\n",
      "Processing 2 groups for /home/veit/PIScO_dev/Segmentation_results/PISCO_KOSMOS_2020_Peru/TempResults/21_03_2020/M1_Results/Crops\n",
      "Created zip file: /home/veit/PIScO_dev/Segmentation_results/PISCO_KOSMOS_2020_Peru/TempResults/21_03_2020/M1_Results/EcoTaxa/crops_part1_upload.zip\n",
      "Created zip file: /home/veit/PIScO_dev/Segmentation_results/PISCO_KOSMOS_2020_Peru/TempResults/21_03_2020/M1_Results/EcoTaxa/crops_part2_upload.zip\n",
      "Processing 1 groups for /home/veit/PIScO_dev/Segmentation_results/PISCO_KOSMOS_2020_Peru/TempResults/21_03_2020/M1_Results/Deconv_crops\n",
      "Created zip file: /home/veit/PIScO_dev/Segmentation_results/PISCO_KOSMOS_2020_Peru/TempResults/21_03_2020/M1_Results/EcoTaxa/deconv_crops.zip\n",
      "._.DS_Store\n",
      "M9_PISCO.csv\n",
      ".DS_Store\n",
      "M3\n"
     ]
    },
    {
     "name": "stderr",
     "output_type": "stream",
     "text": [
      "100%|██████████| 372/372 [00:13<00:00, 27.14it/s]\n"
     ]
    },
    {
     "name": "stdout",
     "output_type": "stream",
     "text": [
      "372\n"
     ]
    },
    {
     "name": "stderr",
     "output_type": "stream",
     "text": [
      "2025-06-12 15:09:42,241 - crop_df created\n"
     ]
    },
    {
     "name": "stdout",
     "output_type": "stream",
     "text": [
      "0 files were empty and were dropped; Number of uniue images: 372\n",
      "204939 particles found.\n",
      "No log directory provided, skipping log data.\n",
      "0 crops removed due to aspect ratio\n",
      "Processing 3 groups for /home/veit/PIScO_dev/Segmentation_results/PISCO_KOSMOS_2020_Peru/TempResults/21_03_2020/M3_Results/Crops\n",
      "Created zip file: /home/veit/PIScO_dev/Segmentation_results/PISCO_KOSMOS_2020_Peru/TempResults/21_03_2020/M3_Results/EcoTaxa/crops_part1_upload.zip\n",
      "Created zip file: /home/veit/PIScO_dev/Segmentation_results/PISCO_KOSMOS_2020_Peru/TempResults/21_03_2020/M3_Results/EcoTaxa/crops_part2_upload.zip\n",
      "Created zip file: /home/veit/PIScO_dev/Segmentation_results/PISCO_KOSMOS_2020_Peru/TempResults/21_03_2020/M3_Results/EcoTaxa/crops_part3_upload.zip\n",
      "Processing 2 groups for /home/veit/PIScO_dev/Segmentation_results/PISCO_KOSMOS_2020_Peru/TempResults/21_03_2020/M3_Results/Deconv_crops\n",
      "Created zip file: /home/veit/PIScO_dev/Segmentation_results/PISCO_KOSMOS_2020_Peru/TempResults/21_03_2020/M3_Results/EcoTaxa/deconv_crops_part1_upload.zip\n",
      "Created zip file: /home/veit/PIScO_dev/Segmentation_results/PISCO_KOSMOS_2020_Peru/TempResults/21_03_2020/M3_Results/EcoTaxa/deconv_crops_part2_upload.zip\n",
      "M5_PISCO.csv\n",
      "M8_PISCO.csv\n",
      "M5\n"
     ]
    },
    {
     "name": "stderr",
     "output_type": "stream",
     "text": [
      "100%|██████████| 392/392 [00:07<00:00, 52.18it/s] \n"
     ]
    },
    {
     "name": "stdout",
     "output_type": "stream",
     "text": [
      "392\n"
     ]
    },
    {
     "name": "stderr",
     "output_type": "stream",
     "text": [
      "2025-06-12 15:13:31,116 - crop_df created\n"
     ]
    },
    {
     "name": "stdout",
     "output_type": "stream",
     "text": [
      "0 files were empty and were dropped; Number of uniue images: 392\n",
      "43533 particles found.\n",
      "No log directory provided, skipping log data.\n",
      "0 crops removed due to aspect ratio\n",
      "Processing 4 groups for /home/veit/PIScO_dev/Segmentation_results/PISCO_KOSMOS_2020_Peru/TempResults/21_03_2020/M5_Results/Crops\n",
      "Created zip file: /home/veit/PIScO_dev/Segmentation_results/PISCO_KOSMOS_2020_Peru/TempResults/21_03_2020/M5_Results/EcoTaxa/crops_part1_upload.zip\n",
      "Created zip file: /home/veit/PIScO_dev/Segmentation_results/PISCO_KOSMOS_2020_Peru/TempResults/21_03_2020/M5_Results/EcoTaxa/crops_part2_upload.zip\n",
      "Created zip file: /home/veit/PIScO_dev/Segmentation_results/PISCO_KOSMOS_2020_Peru/TempResults/21_03_2020/M5_Results/EcoTaxa/crops_part3_upload.zip\n",
      "Created zip file: /home/veit/PIScO_dev/Segmentation_results/PISCO_KOSMOS_2020_Peru/TempResults/21_03_2020/M5_Results/EcoTaxa/crops_part4_upload.zip\n",
      "Processing 3 groups for /home/veit/PIScO_dev/Segmentation_results/PISCO_KOSMOS_2020_Peru/TempResults/21_03_2020/M5_Results/Deconv_crops\n",
      "Created zip file: /home/veit/PIScO_dev/Segmentation_results/PISCO_KOSMOS_2020_Peru/TempResults/21_03_2020/M5_Results/EcoTaxa/deconv_crops_part1_upload.zip\n",
      "Created zip file: /home/veit/PIScO_dev/Segmentation_results/PISCO_KOSMOS_2020_Peru/TempResults/21_03_2020/M5_Results/EcoTaxa/deconv_crops_part2_upload.zip\n",
      "Created zip file: /home/veit/PIScO_dev/Segmentation_results/PISCO_KOSMOS_2020_Peru/TempResults/21_03_2020/M5_Results/EcoTaxa/deconv_crops_part3_upload.zip\n",
      "M7_PISCO.csv\n",
      "order.txt\n",
      "M3_PISCO.csv\n",
      "M9\n"
     ]
    },
    {
     "name": "stderr",
     "output_type": "stream",
     "text": [
      "100%|██████████| 358/358 [00:07<00:00, 44.91it/s] \n"
     ]
    },
    {
     "name": "stdout",
     "output_type": "stream",
     "text": [
      "358\n"
     ]
    },
    {
     "name": "stderr",
     "output_type": "stream",
     "text": [
      "2025-06-12 15:16:45,033 - crop_df created\n"
     ]
    },
    {
     "name": "stdout",
     "output_type": "stream",
     "text": [
      "0 files were empty and were dropped; Number of uniue images: 358\n",
      "76045 particles found.\n",
      "No log directory provided, skipping log data.\n",
      "0 crops removed due to aspect ratio\n",
      "Processing 3 groups for /home/veit/PIScO_dev/Segmentation_results/PISCO_KOSMOS_2020_Peru/TempResults/21_03_2020/M9_Results/Crops\n",
      "Created zip file: /home/veit/PIScO_dev/Segmentation_results/PISCO_KOSMOS_2020_Peru/TempResults/21_03_2020/M9_Results/EcoTaxa/crops_part1_upload.zip\n",
      "Created zip file: /home/veit/PIScO_dev/Segmentation_results/PISCO_KOSMOS_2020_Peru/TempResults/21_03_2020/M9_Results/EcoTaxa/crops_part2_upload.zip\n",
      "Created zip file: /home/veit/PIScO_dev/Segmentation_results/PISCO_KOSMOS_2020_Peru/TempResults/21_03_2020/M9_Results/EcoTaxa/crops_part3_upload.zip\n",
      "Processing 2 groups for /home/veit/PIScO_dev/Segmentation_results/PISCO_KOSMOS_2020_Peru/TempResults/21_03_2020/M9_Results/Deconv_crops\n",
      "Created zip file: /home/veit/PIScO_dev/Segmentation_results/PISCO_KOSMOS_2020_Peru/TempResults/21_03_2020/M9_Results/EcoTaxa/deconv_crops_part1_upload.zip\n",
      "Created zip file: /home/veit/PIScO_dev/Segmentation_results/PISCO_KOSMOS_2020_Peru/TempResults/21_03_2020/M9_Results/EcoTaxa/deconv_crops_part2_upload.zip\n",
      "M2_PISCO.csv\n",
      "PA\n"
     ]
    },
    {
     "name": "stderr",
     "output_type": "stream",
     "text": [
      "100%|██████████| 584/584 [00:06<00:00, 91.33it/s] \n"
     ]
    },
    {
     "name": "stdout",
     "output_type": "stream",
     "text": [
      "584\n"
     ]
    },
    {
     "name": "stderr",
     "output_type": "stream",
     "text": [
      "2025-06-12 15:18:28,842 - crop_df created\n"
     ]
    },
    {
     "name": "stdout",
     "output_type": "stream",
     "text": [
      "0 files were empty and were dropped; Number of uniue images: 584\n",
      "36183 particles found.\n",
      "No log directory provided, skipping log data.\n",
      "0 crops removed due to aspect ratio\n",
      "Processing 4 groups for /home/veit/PIScO_dev/Segmentation_results/PISCO_KOSMOS_2020_Peru/TempResults/21_03_2020/PA_Results/Crops\n",
      "Created zip file: /home/veit/PIScO_dev/Segmentation_results/PISCO_KOSMOS_2020_Peru/TempResults/21_03_2020/PA_Results/EcoTaxa/crops_part1_upload.zip\n",
      "Created zip file: /home/veit/PIScO_dev/Segmentation_results/PISCO_KOSMOS_2020_Peru/TempResults/21_03_2020/PA_Results/EcoTaxa/crops_part2_upload.zip\n",
      "Created zip file: /home/veit/PIScO_dev/Segmentation_results/PISCO_KOSMOS_2020_Peru/TempResults/21_03_2020/PA_Results/EcoTaxa/crops_part3_upload.zip\n",
      "Created zip file: /home/veit/PIScO_dev/Segmentation_results/PISCO_KOSMOS_2020_Peru/TempResults/21_03_2020/PA_Results/EcoTaxa/crops_part4_upload.zip\n",
      "Processing 3 groups for /home/veit/PIScO_dev/Segmentation_results/PISCO_KOSMOS_2020_Peru/TempResults/21_03_2020/PA_Results/Deconv_crops\n",
      "Created zip file: /home/veit/PIScO_dev/Segmentation_results/PISCO_KOSMOS_2020_Peru/TempResults/21_03_2020/PA_Results/EcoTaxa/deconv_crops_part1_upload.zip\n",
      "Created zip file: /home/veit/PIScO_dev/Segmentation_results/PISCO_KOSMOS_2020_Peru/TempResults/21_03_2020/PA_Results/EcoTaxa/deconv_crops_part2_upload.zip\n",
      "Created zip file: /home/veit/PIScO_dev/Segmentation_results/PISCO_KOSMOS_2020_Peru/TempResults/21_03_2020/PA_Results/EcoTaxa/deconv_crops_part3_upload.zip\n",
      "E8\n"
     ]
    },
    {
     "name": "stderr",
     "output_type": "stream",
     "text": [
      "100%|██████████| 1125/1125 [01:03<00:00, 17.72it/s]\n"
     ]
    },
    {
     "name": "stdout",
     "output_type": "stream",
     "text": [
      "1125\n"
     ]
    },
    {
     "name": "stderr",
     "output_type": "stream",
     "text": [
      "2025-06-12 15:21:16,383 - crop_df created\n"
     ]
    },
    {
     "name": "stdout",
     "output_type": "stream",
     "text": [
      "0 files were empty and were dropped; Number of uniue images: 1125\n",
      "100567 particles found.\n",
      "No log directory provided, skipping log data.\n",
      "0 crops removed due to aspect ratio\n",
      "Processing 1 groups for /home/veit/PIScO_dev/Segmentation_results/PISCO_KOSMOS_2020_Peru/TempResults/21_03_2020/E8_Results/Crops\n",
      "Created zip file: /home/veit/PIScO_dev/Segmentation_results/PISCO_KOSMOS_2020_Peru/TempResults/21_03_2020/E8_Results/EcoTaxa/crops.zip\n",
      "Processing 1 groups for /home/veit/PIScO_dev/Segmentation_results/PISCO_KOSMOS_2020_Peru/TempResults/21_03_2020/E8_Results/Deconv_crops\n",
      "Created zip file: /home/veit/PIScO_dev/Segmentation_results/PISCO_KOSMOS_2020_Peru/TempResults/21_03_2020/E8_Results/EcoTaxa/deconv_crops.zip\n",
      "M6_PISCO.csv\n",
      "M4_PISCO.csv\n",
      "M7\n"
     ]
    },
    {
     "name": "stderr",
     "output_type": "stream",
     "text": [
      "100%|██████████| 354/354 [00:10<00:00, 32.74it/s]\n"
     ]
    },
    {
     "name": "stdout",
     "output_type": "stream",
     "text": [
      "354\n"
     ]
    },
    {
     "name": "stderr",
     "output_type": "stream",
     "text": [
      "2025-06-12 15:22:45,923 - crop_df created\n"
     ]
    },
    {
     "name": "stdout",
     "output_type": "stream",
     "text": [
      "0 files were empty and were dropped; Number of uniue images: 354\n",
      "18906 particles found.\n",
      "No log directory provided, skipping log data.\n",
      "0 crops removed due to aspect ratio\n",
      "Processing 1 groups for /home/veit/PIScO_dev/Segmentation_results/PISCO_KOSMOS_2020_Peru/TempResults/21_03_2020/M7_Results/Crops\n",
      "Created zip file: /home/veit/PIScO_dev/Segmentation_results/PISCO_KOSMOS_2020_Peru/TempResults/21_03_2020/M7_Results/EcoTaxa/crops.zip\n",
      "Processing 1 groups for /home/veit/PIScO_dev/Segmentation_results/PISCO_KOSMOS_2020_Peru/TempResults/21_03_2020/M7_Results/Deconv_crops\n",
      "Created zip file: /home/veit/PIScO_dev/Segmentation_results/PISCO_KOSMOS_2020_Peru/TempResults/21_03_2020/M7_Results/EcoTaxa/deconv_crops.zip\n",
      "._order.txt\n",
      "M6\n"
     ]
    },
    {
     "name": "stderr",
     "output_type": "stream",
     "text": [
      "100%|██████████| 345/345 [00:15<00:00, 21.70it/s]\n"
     ]
    },
    {
     "name": "stdout",
     "output_type": "stream",
     "text": [
      "345\n"
     ]
    },
    {
     "name": "stderr",
     "output_type": "stream",
     "text": [
      "2025-06-12 15:23:19,435 - crop_df created\n"
     ]
    },
    {
     "name": "stdout",
     "output_type": "stream",
     "text": [
      "0 files were empty and were dropped; Number of uniue images: 345\n",
      "71684 particles found.\n",
      "No log directory provided, skipping log data.\n",
      "0 crops removed due to aspect ratio\n",
      "Processing 1 groups for /home/veit/PIScO_dev/Segmentation_results/PISCO_KOSMOS_2020_Peru/TempResults/21_03_2020/M6_Results/Crops\n",
      "Created zip file: /home/veit/PIScO_dev/Segmentation_results/PISCO_KOSMOS_2020_Peru/TempResults/21_03_2020/M6_Results/EcoTaxa/crops.zip\n",
      "Processing 1 groups for /home/veit/PIScO_dev/Segmentation_results/PISCO_KOSMOS_2020_Peru/TempResults/21_03_2020/M6_Results/Deconv_crops\n",
      "Created zip file: /home/veit/PIScO_dev/Segmentation_results/PISCO_KOSMOS_2020_Peru/TempResults/21_03_2020/M6_Results/EcoTaxa/deconv_crops.zip\n",
      "M4\n"
     ]
    },
    {
     "name": "stderr",
     "output_type": "stream",
     "text": [
      "100%|██████████| 358/358 [00:13<00:00, 25.76it/s] \n"
     ]
    },
    {
     "name": "stdout",
     "output_type": "stream",
     "text": [
      "358\n"
     ]
    },
    {
     "name": "stderr",
     "output_type": "stream",
     "text": [
      "2025-06-12 15:24:29,082 - crop_df created\n"
     ]
    },
    {
     "name": "stdout",
     "output_type": "stream",
     "text": [
      "0 files were empty and were dropped; Number of uniue images: 358\n",
      "83897 particles found.\n",
      "No log directory provided, skipping log data.\n",
      "0 crops removed due to aspect ratio\n",
      "Processing 2 groups for /home/veit/PIScO_dev/Segmentation_results/PISCO_KOSMOS_2020_Peru/TempResults/21_03_2020/M4_Results/Crops\n",
      "Created zip file: /home/veit/PIScO_dev/Segmentation_results/PISCO_KOSMOS_2020_Peru/TempResults/21_03_2020/M4_Results/EcoTaxa/crops_part1_upload.zip\n",
      "Created zip file: /home/veit/PIScO_dev/Segmentation_results/PISCO_KOSMOS_2020_Peru/TempResults/21_03_2020/M4_Results/EcoTaxa/crops_part2_upload.zip\n",
      "Processing 1 groups for /home/veit/PIScO_dev/Segmentation_results/PISCO_KOSMOS_2020_Peru/TempResults/21_03_2020/M4_Results/Deconv_crops\n",
      "Created zip file: /home/veit/PIScO_dev/Segmentation_results/PISCO_KOSMOS_2020_Peru/TempResults/21_03_2020/M4_Results/EcoTaxa/deconv_crops.zip\n",
      "E8_PISCO.csv\n",
      "M1_PISCO.csv\n",
      "M8\n"
     ]
    },
    {
     "name": "stderr",
     "output_type": "stream",
     "text": [
      "100%|██████████| 346/346 [00:08<00:00, 41.53it/s]\n"
     ]
    },
    {
     "name": "stdout",
     "output_type": "stream",
     "text": [
      "342\n"
     ]
    },
    {
     "name": "stderr",
     "output_type": "stream",
     "text": [
      "2025-06-12 15:25:58,328 - crop_df created\n"
     ]
    },
    {
     "name": "stdout",
     "output_type": "stream",
     "text": [
      "0 files were empty and were dropped; Number of uniue images: 342\n",
      "24788 particles found.\n",
      "No log directory provided, skipping log data.\n",
      "0 crops removed due to aspect ratio\n",
      "Processing 1 groups for /home/veit/PIScO_dev/Segmentation_results/PISCO_KOSMOS_2020_Peru/TempResults/21_03_2020/M8_Results/Crops\n",
      "Created zip file: /home/veit/PIScO_dev/Segmentation_results/PISCO_KOSMOS_2020_Peru/TempResults/21_03_2020/M8_Results/EcoTaxa/crops.zip\n",
      "Processing 1 groups for /home/veit/PIScO_dev/Segmentation_results/PISCO_KOSMOS_2020_Peru/TempResults/21_03_2020/M8_Results/Deconv_crops\n",
      "Created zip file: /home/veit/PIScO_dev/Segmentation_results/PISCO_KOSMOS_2020_Peru/TempResults/21_03_2020/M8_Results/EcoTaxa/deconv_crops.zip\n",
      "._.DS_Store\n",
      "03_03_2020\n",
      "._.DS_StoreM1\n",
      "M2\n"
     ]
    },
    {
     "name": "stderr",
     "output_type": "stream",
     "text": [
      "100%|██████████| 361/361 [00:10<00:00, 34.36it/s]\n"
     ]
    },
    {
     "name": "stdout",
     "output_type": "stream",
     "text": [
      "361\n"
     ]
    },
    {
     "name": "stderr",
     "output_type": "stream",
     "text": [
      "2025-06-12 15:26:32,469 - crop_df created\n"
     ]
    },
    {
     "name": "stdout",
     "output_type": "stream",
     "text": [
      "0 files were empty and were dropped; Number of uniue images: 361\n",
      "158065 particles found.\n",
      "No log directory provided, skipping log data.\n",
      "0 crops removed due to aspect ratio\n",
      "Processing 4 groups for /home/veit/PIScO_dev/Segmentation_results/PISCO_KOSMOS_2020_Peru/TempResults/03_03_2020/M2_Results/Crops\n",
      "Created zip file: /home/veit/PIScO_dev/Segmentation_results/PISCO_KOSMOS_2020_Peru/TempResults/03_03_2020/M2_Results/EcoTaxa/crops_part1_upload.zip\n",
      "Created zip file: /home/veit/PIScO_dev/Segmentation_results/PISCO_KOSMOS_2020_Peru/TempResults/03_03_2020/M2_Results/EcoTaxa/crops_part2_upload.zip\n",
      "Created zip file: /home/veit/PIScO_dev/Segmentation_results/PISCO_KOSMOS_2020_Peru/TempResults/03_03_2020/M2_Results/EcoTaxa/crops_part3_upload.zip\n",
      "Created zip file: /home/veit/PIScO_dev/Segmentation_results/PISCO_KOSMOS_2020_Peru/TempResults/03_03_2020/M2_Results/EcoTaxa/crops_part4_upload.zip\n",
      "Processing 3 groups for /home/veit/PIScO_dev/Segmentation_results/PISCO_KOSMOS_2020_Peru/TempResults/03_03_2020/M2_Results/Deconv_crops\n",
      "Created zip file: /home/veit/PIScO_dev/Segmentation_results/PISCO_KOSMOS_2020_Peru/TempResults/03_03_2020/M2_Results/EcoTaxa/deconv_crops_part1_upload.zip\n",
      "Created zip file: /home/veit/PIScO_dev/Segmentation_results/PISCO_KOSMOS_2020_Peru/TempResults/03_03_2020/M2_Results/EcoTaxa/deconv_crops_part2_upload.zip\n",
      "Created zip file: /home/veit/PIScO_dev/Segmentation_results/PISCO_KOSMOS_2020_Peru/TempResults/03_03_2020/M2_Results/EcoTaxa/deconv_crops_part3_upload.zip\n",
      "M1\n"
     ]
    },
    {
     "name": "stderr",
     "output_type": "stream",
     "text": [
      "100%|██████████| 344/344 [00:20<00:00, 16.83it/s]\n"
     ]
    },
    {
     "name": "stdout",
     "output_type": "stream",
     "text": [
      "344\n"
     ]
    },
    {
     "name": "stderr",
     "output_type": "stream",
     "text": [
      "2025-06-12 15:29:52,264 - crop_df created\n"
     ]
    },
    {
     "name": "stdout",
     "output_type": "stream",
     "text": [
      "0 files were empty and were dropped; Number of uniue images: 344\n",
      "147926 particles found.\n",
      "No log directory provided, skipping log data.\n",
      "0 crops removed due to aspect ratio\n",
      "Processing 4 groups for /home/veit/PIScO_dev/Segmentation_results/PISCO_KOSMOS_2020_Peru/TempResults/03_03_2020/M1_Results/Crops\n",
      "Created zip file: /home/veit/PIScO_dev/Segmentation_results/PISCO_KOSMOS_2020_Peru/TempResults/03_03_2020/M1_Results/EcoTaxa/crops_part1_upload.zip\n",
      "Created zip file: /home/veit/PIScO_dev/Segmentation_results/PISCO_KOSMOS_2020_Peru/TempResults/03_03_2020/M1_Results/EcoTaxa/crops_part2_upload.zip\n",
      "Created zip file: /home/veit/PIScO_dev/Segmentation_results/PISCO_KOSMOS_2020_Peru/TempResults/03_03_2020/M1_Results/EcoTaxa/crops_part3_upload.zip\n",
      "Created zip file: /home/veit/PIScO_dev/Segmentation_results/PISCO_KOSMOS_2020_Peru/TempResults/03_03_2020/M1_Results/EcoTaxa/crops_part4_upload.zip\n",
      "Processing 3 groups for /home/veit/PIScO_dev/Segmentation_results/PISCO_KOSMOS_2020_Peru/TempResults/03_03_2020/M1_Results/Deconv_crops\n",
      "Created zip file: /home/veit/PIScO_dev/Segmentation_results/PISCO_KOSMOS_2020_Peru/TempResults/03_03_2020/M1_Results/EcoTaxa/deconv_crops_part1_upload.zip\n",
      "Created zip file: /home/veit/PIScO_dev/Segmentation_results/PISCO_KOSMOS_2020_Peru/TempResults/03_03_2020/M1_Results/EcoTaxa/deconv_crops_part2_upload.zip\n",
      "Created zip file: /home/veit/PIScO_dev/Segmentation_results/PISCO_KOSMOS_2020_Peru/TempResults/03_03_2020/M1_Results/EcoTaxa/deconv_crops_part3_upload.zip\n",
      "._.DS_Store\n",
      ".DS_StoreM1_PISCO.csv\n",
      ".DS_Store\n",
      "M3\n"
     ]
    },
    {
     "name": "stderr",
     "output_type": "stream",
     "text": [
      "100%|██████████| 333/333 [00:07<00:00, 43.65it/s]\n"
     ]
    },
    {
     "name": "stdout",
     "output_type": "stream",
     "text": [
      "333\n"
     ]
    },
    {
     "name": "stderr",
     "output_type": "stream",
     "text": [
      "2025-06-12 15:33:19,322 - crop_df created\n"
     ]
    },
    {
     "name": "stdout",
     "output_type": "stream",
     "text": [
      "0 files were empty and were dropped; Number of uniue images: 333\n",
      "101105 particles found.\n",
      "No log directory provided, skipping log data.\n",
      "0 crops removed due to aspect ratio\n",
      "Processing 4 groups for /home/veit/PIScO_dev/Segmentation_results/PISCO_KOSMOS_2020_Peru/TempResults/03_03_2020/M3_Results/Crops\n",
      "Created zip file: /home/veit/PIScO_dev/Segmentation_results/PISCO_KOSMOS_2020_Peru/TempResults/03_03_2020/M3_Results/EcoTaxa/crops_part1_upload.zip\n",
      "Created zip file: /home/veit/PIScO_dev/Segmentation_results/PISCO_KOSMOS_2020_Peru/TempResults/03_03_2020/M3_Results/EcoTaxa/crops_part2_upload.zip\n",
      "Created zip file: /home/veit/PIScO_dev/Segmentation_results/PISCO_KOSMOS_2020_Peru/TempResults/03_03_2020/M3_Results/EcoTaxa/crops_part3_upload.zip\n",
      "Created zip file: /home/veit/PIScO_dev/Segmentation_results/PISCO_KOSMOS_2020_Peru/TempResults/03_03_2020/M3_Results/EcoTaxa/crops_part4_upload.zip\n",
      "Processing 3 groups for /home/veit/PIScO_dev/Segmentation_results/PISCO_KOSMOS_2020_Peru/TempResults/03_03_2020/M3_Results/Deconv_crops\n",
      "Created zip file: /home/veit/PIScO_dev/Segmentation_results/PISCO_KOSMOS_2020_Peru/TempResults/03_03_2020/M3_Results/EcoTaxa/deconv_crops_part1_upload.zip\n",
      "Created zip file: /home/veit/PIScO_dev/Segmentation_results/PISCO_KOSMOS_2020_Peru/TempResults/03_03_2020/M3_Results/EcoTaxa/deconv_crops_part2_upload.zip\n",
      "Created zip file: /home/veit/PIScO_dev/Segmentation_results/PISCO_KOSMOS_2020_Peru/TempResults/03_03_2020/M3_Results/EcoTaxa/deconv_crops_part3_upload.zip\n",
      "M5_PISCO.csv\n",
      "M8_PISCO.csv\n",
      "M5\n"
     ]
    },
    {
     "name": "stderr",
     "output_type": "stream",
     "text": [
      "100%|██████████| 358/358 [00:04<00:00, 78.34it/s] \n"
     ]
    },
    {
     "name": "stdout",
     "output_type": "stream",
     "text": [
      "358\n"
     ]
    },
    {
     "name": "stderr",
     "output_type": "stream",
     "text": [
      "2025-06-12 15:35:49,579 - crop_df created\n"
     ]
    },
    {
     "name": "stdout",
     "output_type": "stream",
     "text": [
      "0 files were empty and were dropped; Number of uniue images: 358\n",
      "44856 particles found.\n",
      "No log directory provided, skipping log data.\n",
      "0 crops removed due to aspect ratio\n",
      "Processing 4 groups for /home/veit/PIScO_dev/Segmentation_results/PISCO_KOSMOS_2020_Peru/TempResults/03_03_2020/M5_Results/Crops\n",
      "Created zip file: /home/veit/PIScO_dev/Segmentation_results/PISCO_KOSMOS_2020_Peru/TempResults/03_03_2020/M5_Results/EcoTaxa/crops_part1_upload.zip\n",
      "Created zip file: /home/veit/PIScO_dev/Segmentation_results/PISCO_KOSMOS_2020_Peru/TempResults/03_03_2020/M5_Results/EcoTaxa/crops_part2_upload.zip\n",
      "Created zip file: /home/veit/PIScO_dev/Segmentation_results/PISCO_KOSMOS_2020_Peru/TempResults/03_03_2020/M5_Results/EcoTaxa/crops_part3_upload.zip\n",
      "Created zip file: /home/veit/PIScO_dev/Segmentation_results/PISCO_KOSMOS_2020_Peru/TempResults/03_03_2020/M5_Results/EcoTaxa/crops_part4_upload.zip\n",
      "Processing 3 groups for /home/veit/PIScO_dev/Segmentation_results/PISCO_KOSMOS_2020_Peru/TempResults/03_03_2020/M5_Results/Deconv_crops\n",
      "Created zip file: /home/veit/PIScO_dev/Segmentation_results/PISCO_KOSMOS_2020_Peru/TempResults/03_03_2020/M5_Results/EcoTaxa/deconv_crops_part1_upload.zip\n",
      "Created zip file: /home/veit/PIScO_dev/Segmentation_results/PISCO_KOSMOS_2020_Peru/TempResults/03_03_2020/M5_Results/EcoTaxa/deconv_crops_part2_upload.zip\n",
      "Created zip file: /home/veit/PIScO_dev/Segmentation_results/PISCO_KOSMOS_2020_Peru/TempResults/03_03_2020/M5_Results/EcoTaxa/deconv_crops_part3_upload.zip\n",
      "M7_PISCO.csv\n",
      "order.txt\n",
      "M3_PISCO.csv\n",
      ".DS_StoreM1\n",
      "M2_PISCO.csv\n",
      "M6_PISCO.csv\n",
      "M4_PISCO.csv\n",
      "M7\n"
     ]
    },
    {
     "name": "stderr",
     "output_type": "stream",
     "text": [
      "100%|██████████| 276/276 [00:08<00:00, 31.90it/s]\n"
     ]
    },
    {
     "name": "stdout",
     "output_type": "stream",
     "text": [
      "276\n"
     ]
    },
    {
     "name": "stderr",
     "output_type": "stream",
     "text": [
      "2025-06-12 15:37:43,874 - crop_df created\n"
     ]
    },
    {
     "name": "stdout",
     "output_type": "stream",
     "text": [
      "0 files were empty and were dropped; Number of uniue images: 276\n",
      "51554 particles found.\n",
      "No log directory provided, skipping log data.\n",
      "0 crops removed due to aspect ratio\n",
      "Processing 3 groups for /home/veit/PIScO_dev/Segmentation_results/PISCO_KOSMOS_2020_Peru/TempResults/03_03_2020/M7_Results/Crops\n",
      "Created zip file: /home/veit/PIScO_dev/Segmentation_results/PISCO_KOSMOS_2020_Peru/TempResults/03_03_2020/M7_Results/EcoTaxa/crops_part1_upload.zip\n",
      "Created zip file: /home/veit/PIScO_dev/Segmentation_results/PISCO_KOSMOS_2020_Peru/TempResults/03_03_2020/M7_Results/EcoTaxa/crops_part2_upload.zip\n",
      "Created zip file: /home/veit/PIScO_dev/Segmentation_results/PISCO_KOSMOS_2020_Peru/TempResults/03_03_2020/M7_Results/EcoTaxa/crops_part3_upload.zip\n",
      "Processing 2 groups for /home/veit/PIScO_dev/Segmentation_results/PISCO_KOSMOS_2020_Peru/TempResults/03_03_2020/M7_Results/Deconv_crops\n",
      "Created zip file: /home/veit/PIScO_dev/Segmentation_results/PISCO_KOSMOS_2020_Peru/TempResults/03_03_2020/M7_Results/EcoTaxa/deconv_crops_part1_upload.zip\n",
      "Created zip file: /home/veit/PIScO_dev/Segmentation_results/PISCO_KOSMOS_2020_Peru/TempResults/03_03_2020/M7_Results/EcoTaxa/deconv_crops_part2_upload.zip\n",
      "._order.txt\n",
      "M6\n"
     ]
    },
    {
     "name": "stderr",
     "output_type": "stream",
     "text": [
      "100%|██████████| 309/309 [00:05<00:00, 54.01it/s]\n"
     ]
    },
    {
     "name": "stdout",
     "output_type": "stream",
     "text": [
      "309\n"
     ]
    },
    {
     "name": "stderr",
     "output_type": "stream",
     "text": [
      "2025-06-12 15:39:30,579 - crop_df created\n"
     ]
    },
    {
     "name": "stdout",
     "output_type": "stream",
     "text": [
      "0 files were empty and were dropped; Number of uniue images: 309\n",
      "114193 particles found.\n",
      "No log directory provided, skipping log data.\n",
      "0 crops removed due to aspect ratio\n",
      "Processing 4 groups for /home/veit/PIScO_dev/Segmentation_results/PISCO_KOSMOS_2020_Peru/TempResults/03_03_2020/M6_Results/Crops\n",
      "Created zip file: /home/veit/PIScO_dev/Segmentation_results/PISCO_KOSMOS_2020_Peru/TempResults/03_03_2020/M6_Results/EcoTaxa/crops_part1_upload.zip\n",
      "Created zip file: /home/veit/PIScO_dev/Segmentation_results/PISCO_KOSMOS_2020_Peru/TempResults/03_03_2020/M6_Results/EcoTaxa/crops_part2_upload.zip\n",
      "Created zip file: /home/veit/PIScO_dev/Segmentation_results/PISCO_KOSMOS_2020_Peru/TempResults/03_03_2020/M6_Results/EcoTaxa/crops_part3_upload.zip\n",
      "Created zip file: /home/veit/PIScO_dev/Segmentation_results/PISCO_KOSMOS_2020_Peru/TempResults/03_03_2020/M6_Results/EcoTaxa/crops_part4_upload.zip\n",
      "Processing 2 groups for /home/veit/PIScO_dev/Segmentation_results/PISCO_KOSMOS_2020_Peru/TempResults/03_03_2020/M6_Results/Deconv_crops\n",
      "Created zip file: /home/veit/PIScO_dev/Segmentation_results/PISCO_KOSMOS_2020_Peru/TempResults/03_03_2020/M6_Results/EcoTaxa/deconv_crops_part1_upload.zip\n",
      "Created zip file: /home/veit/PIScO_dev/Segmentation_results/PISCO_KOSMOS_2020_Peru/TempResults/03_03_2020/M6_Results/EcoTaxa/deconv_crops_part2_upload.zip\n",
      "M4\n"
     ]
    },
    {
     "name": "stderr",
     "output_type": "stream",
     "text": [
      "100%|██████████| 498/498 [00:09<00:00, 52.06it/s] \n"
     ]
    },
    {
     "name": "stdout",
     "output_type": "stream",
     "text": [
      "498\n"
     ]
    },
    {
     "name": "stderr",
     "output_type": "stream",
     "text": [
      "2025-06-12 15:42:24,965 - crop_df created\n"
     ]
    },
    {
     "name": "stdout",
     "output_type": "stream",
     "text": [
      "0 files were empty and were dropped; Number of uniue images: 498\n",
      "162734 particles found.\n",
      "No log directory provided, skipping log data.\n",
      "0 crops removed due to aspect ratio\n",
      "Processing 6 groups for /home/veit/PIScO_dev/Segmentation_results/PISCO_KOSMOS_2020_Peru/TempResults/03_03_2020/M4_Results/Crops\n",
      "Created zip file: /home/veit/PIScO_dev/Segmentation_results/PISCO_KOSMOS_2020_Peru/TempResults/03_03_2020/M4_Results/EcoTaxa/crops_part1_upload.zip\n",
      "Created zip file: /home/veit/PIScO_dev/Segmentation_results/PISCO_KOSMOS_2020_Peru/TempResults/03_03_2020/M4_Results/EcoTaxa/crops_part2_upload.zip\n",
      "Created zip file: /home/veit/PIScO_dev/Segmentation_results/PISCO_KOSMOS_2020_Peru/TempResults/03_03_2020/M4_Results/EcoTaxa/crops_part3_upload.zip\n",
      "Created zip file: /home/veit/PIScO_dev/Segmentation_results/PISCO_KOSMOS_2020_Peru/TempResults/03_03_2020/M4_Results/EcoTaxa/crops_part4_upload.zip\n",
      "Created zip file: /home/veit/PIScO_dev/Segmentation_results/PISCO_KOSMOS_2020_Peru/TempResults/03_03_2020/M4_Results/EcoTaxa/crops_part5_upload.zip\n",
      "Created zip file: /home/veit/PIScO_dev/Segmentation_results/PISCO_KOSMOS_2020_Peru/TempResults/03_03_2020/M4_Results/EcoTaxa/crops_part6_upload.zip\n",
      "Processing 4 groups for /home/veit/PIScO_dev/Segmentation_results/PISCO_KOSMOS_2020_Peru/TempResults/03_03_2020/M4_Results/Deconv_crops\n",
      "Created zip file: /home/veit/PIScO_dev/Segmentation_results/PISCO_KOSMOS_2020_Peru/TempResults/03_03_2020/M4_Results/EcoTaxa/deconv_crops_part1_upload.zip\n",
      "Created zip file: /home/veit/PIScO_dev/Segmentation_results/PISCO_KOSMOS_2020_Peru/TempResults/03_03_2020/M4_Results/EcoTaxa/deconv_crops_part2_upload.zip\n",
      "Created zip file: /home/veit/PIScO_dev/Segmentation_results/PISCO_KOSMOS_2020_Peru/TempResults/03_03_2020/M4_Results/EcoTaxa/deconv_crops_part3_upload.zip\n",
      "Created zip file: /home/veit/PIScO_dev/Segmentation_results/PISCO_KOSMOS_2020_Peru/TempResults/03_03_2020/M4_Results/EcoTaxa/deconv_crops_part4_upload.zip\n",
      "M1_PISCO.csv\n",
      "M8\n"
     ]
    },
    {
     "name": "stderr",
     "output_type": "stream",
     "text": [
      "100%|██████████| 290/290 [00:10<00:00, 26.48it/s]\n"
     ]
    },
    {
     "name": "stdout",
     "output_type": "stream",
     "text": [
      "290\n"
     ]
    },
    {
     "name": "stderr",
     "output_type": "stream",
     "text": [
      "2025-06-12 15:46:43,267 - crop_df created\n"
     ]
    },
    {
     "name": "stdout",
     "output_type": "stream",
     "text": [
      "0 files were empty and were dropped; Number of uniue images: 290\n",
      "84193 particles found.\n",
      "No log directory provided, skipping log data.\n",
      "0 crops removed due to aspect ratio\n",
      "Processing 3 groups for /home/veit/PIScO_dev/Segmentation_results/PISCO_KOSMOS_2020_Peru/TempResults/03_03_2020/M8_Results/Crops\n",
      "Created zip file: /home/veit/PIScO_dev/Segmentation_results/PISCO_KOSMOS_2020_Peru/TempResults/03_03_2020/M8_Results/EcoTaxa/crops_part1_upload.zip\n",
      "Created zip file: /home/veit/PIScO_dev/Segmentation_results/PISCO_KOSMOS_2020_Peru/TempResults/03_03_2020/M8_Results/EcoTaxa/crops_part2_upload.zip\n",
      "Created zip file: /home/veit/PIScO_dev/Segmentation_results/PISCO_KOSMOS_2020_Peru/TempResults/03_03_2020/M8_Results/EcoTaxa/crops_part3_upload.zip\n",
      "Processing 2 groups for /home/veit/PIScO_dev/Segmentation_results/PISCO_KOSMOS_2020_Peru/TempResults/03_03_2020/M8_Results/Deconv_crops\n",
      "Created zip file: /home/veit/PIScO_dev/Segmentation_results/PISCO_KOSMOS_2020_Peru/TempResults/03_03_2020/M8_Results/EcoTaxa/deconv_crops_part1_upload.zip\n",
      "Created zip file: /home/veit/PIScO_dev/Segmentation_results/PISCO_KOSMOS_2020_Peru/TempResults/03_03_2020/M8_Results/EcoTaxa/deconv_crops_part2_upload.zip\n",
      "29_03_2020\n",
      "PA_PISCO.csv\n",
      "M2\n"
     ]
    },
    {
     "name": "stderr",
     "output_type": "stream",
     "text": [
      "100%|██████████| 391/391 [00:19<00:00, 19.85it/s]\n"
     ]
    },
    {
     "name": "stdout",
     "output_type": "stream",
     "text": [
      "391\n"
     ]
    },
    {
     "name": "stderr",
     "output_type": "stream",
     "text": [
      "2025-06-12 15:49:00,981 - crop_df created\n"
     ]
    },
    {
     "name": "stdout",
     "output_type": "stream",
     "text": [
      "0 files were empty and were dropped; Number of uniue images: 391\n",
      "48690 particles found.\n",
      "No log directory provided, skipping log data.\n",
      "0 crops removed due to aspect ratio\n",
      "Processing 1 groups for /home/veit/PIScO_dev/Segmentation_results/PISCO_KOSMOS_2020_Peru/TempResults/29_03_2020/M2_Results/Crops\n",
      "Created zip file: /home/veit/PIScO_dev/Segmentation_results/PISCO_KOSMOS_2020_Peru/TempResults/29_03_2020/M2_Results/EcoTaxa/crops.zip\n",
      "Processing 1 groups for /home/veit/PIScO_dev/Segmentation_results/PISCO_KOSMOS_2020_Peru/TempResults/29_03_2020/M2_Results/Deconv_crops\n",
      "Created zip file: /home/veit/PIScO_dev/Segmentation_results/PISCO_KOSMOS_2020_Peru/TempResults/29_03_2020/M2_Results/EcoTaxa/deconv_crops.zip\n",
      "M1\n"
     ]
    },
    {
     "name": "stderr",
     "output_type": "stream",
     "text": [
      "100%|██████████| 409/409 [00:25<00:00, 16.17it/s]\n"
     ]
    },
    {
     "name": "stdout",
     "output_type": "stream",
     "text": [
      "406\n"
     ]
    },
    {
     "name": "stderr",
     "output_type": "stream",
     "text": [
      "2025-06-12 15:50:11,878 - crop_df created\n"
     ]
    },
    {
     "name": "stdout",
     "output_type": "stream",
     "text": [
      "0 files were empty and were dropped; Number of uniue images: 406\n",
      "32643 particles found.\n",
      "No log directory provided, skipping log data.\n",
      "0 crops removed due to aspect ratio\n",
      "Processing 1 groups for /home/veit/PIScO_dev/Segmentation_results/PISCO_KOSMOS_2020_Peru/TempResults/29_03_2020/M1_Results/Crops\n",
      "Created zip file: /home/veit/PIScO_dev/Segmentation_results/PISCO_KOSMOS_2020_Peru/TempResults/29_03_2020/M1_Results/EcoTaxa/crops.zip\n",
      "Processing 1 groups for /home/veit/PIScO_dev/Segmentation_results/PISCO_KOSMOS_2020_Peru/TempResults/29_03_2020/M1_Results/Deconv_crops\n",
      "Created zip file: /home/veit/PIScO_dev/Segmentation_results/PISCO_KOSMOS_2020_Peru/TempResults/29_03_2020/M1_Results/EcoTaxa/deconv_crops.zip\n",
      "._.DS_Store\n",
      "M9_PISCO.csv\n",
      ".DS_Store\n",
      "M3\n"
     ]
    },
    {
     "name": "stderr",
     "output_type": "stream",
     "text": [
      "100%|██████████| 375/375 [00:18<00:00, 20.74it/s]\n"
     ]
    },
    {
     "name": "stdout",
     "output_type": "stream",
     "text": [
      "375\n"
     ]
    },
    {
     "name": "stderr",
     "output_type": "stream",
     "text": [
      "2025-06-12 15:51:33,088 - crop_df created\n"
     ]
    },
    {
     "name": "stdout",
     "output_type": "stream",
     "text": [
      "0 files were empty and were dropped; Number of uniue images: 375\n",
      "222315 particles found.\n",
      "No log directory provided, skipping log data.\n",
      "0 crops removed due to aspect ratio\n",
      "Processing 2 groups for /home/veit/PIScO_dev/Segmentation_results/PISCO_KOSMOS_2020_Peru/TempResults/29_03_2020/M3_Results/Crops\n",
      "Created zip file: /home/veit/PIScO_dev/Segmentation_results/PISCO_KOSMOS_2020_Peru/TempResults/29_03_2020/M3_Results/EcoTaxa/crops_part1_upload.zip\n",
      "Created zip file: /home/veit/PIScO_dev/Segmentation_results/PISCO_KOSMOS_2020_Peru/TempResults/29_03_2020/M3_Results/EcoTaxa/crops_part2_upload.zip\n",
      "Processing 2 groups for /home/veit/PIScO_dev/Segmentation_results/PISCO_KOSMOS_2020_Peru/TempResults/29_03_2020/M3_Results/Deconv_crops\n",
      "Created zip file: /home/veit/PIScO_dev/Segmentation_results/PISCO_KOSMOS_2020_Peru/TempResults/29_03_2020/M3_Results/EcoTaxa/deconv_crops_part1_upload.zip\n",
      "Created zip file: /home/veit/PIScO_dev/Segmentation_results/PISCO_KOSMOS_2020_Peru/TempResults/29_03_2020/M3_Results/EcoTaxa/deconv_crops_part2_upload.zip\n",
      "M5_PISCO.csv\n",
      "M8_PISCO.csv\n",
      "M5\n"
     ]
    },
    {
     "name": "stderr",
     "output_type": "stream",
     "text": [
      "100%|██████████| 372/372 [00:08<00:00, 46.37it/s] \n"
     ]
    },
    {
     "name": "stdout",
     "output_type": "stream",
     "text": [
      "372\n"
     ]
    },
    {
     "name": "stderr",
     "output_type": "stream",
     "text": [
      "2025-06-12 15:55:20,851 - crop_df created\n"
     ]
    },
    {
     "name": "stdout",
     "output_type": "stream",
     "text": [
      "0 files were empty and were dropped; Number of uniue images: 372\n",
      "110170 particles found.\n",
      "No log directory provided, skipping log data.\n",
      "0 crops removed due to aspect ratio\n",
      "Processing 4 groups for /home/veit/PIScO_dev/Segmentation_results/PISCO_KOSMOS_2020_Peru/TempResults/29_03_2020/M5_Results/Crops\n",
      "Created zip file: /home/veit/PIScO_dev/Segmentation_results/PISCO_KOSMOS_2020_Peru/TempResults/29_03_2020/M5_Results/EcoTaxa/crops_part1_upload.zip\n",
      "Created zip file: /home/veit/PIScO_dev/Segmentation_results/PISCO_KOSMOS_2020_Peru/TempResults/29_03_2020/M5_Results/EcoTaxa/crops_part2_upload.zip\n",
      "Created zip file: /home/veit/PIScO_dev/Segmentation_results/PISCO_KOSMOS_2020_Peru/TempResults/29_03_2020/M5_Results/EcoTaxa/crops_part3_upload.zip\n",
      "Created zip file: /home/veit/PIScO_dev/Segmentation_results/PISCO_KOSMOS_2020_Peru/TempResults/29_03_2020/M5_Results/EcoTaxa/crops_part4_upload.zip\n",
      "Processing 3 groups for /home/veit/PIScO_dev/Segmentation_results/PISCO_KOSMOS_2020_Peru/TempResults/29_03_2020/M5_Results/Deconv_crops\n",
      "Created zip file: /home/veit/PIScO_dev/Segmentation_results/PISCO_KOSMOS_2020_Peru/TempResults/29_03_2020/M5_Results/EcoTaxa/deconv_crops_part1_upload.zip\n",
      "Created zip file: /home/veit/PIScO_dev/Segmentation_results/PISCO_KOSMOS_2020_Peru/TempResults/29_03_2020/M5_Results/EcoTaxa/deconv_crops_part2_upload.zip\n",
      "Created zip file: /home/veit/PIScO_dev/Segmentation_results/PISCO_KOSMOS_2020_Peru/TempResults/29_03_2020/M5_Results/EcoTaxa/deconv_crops_part3_upload.zip\n",
      "M7_PISCO.csv\n",
      "order.txt\n",
      "M3_PISCO.csv\n",
      "M9\n"
     ]
    },
    {
     "name": "stderr",
     "output_type": "stream",
     "text": [
      "100%|██████████| 374/374 [00:25<00:00, 14.56it/s]\n"
     ]
    },
    {
     "name": "stdout",
     "output_type": "stream",
     "text": [
      "374\n"
     ]
    },
    {
     "name": "stderr",
     "output_type": "stream",
     "text": [
      "2025-06-12 15:58:16,835 - crop_df created\n"
     ]
    },
    {
     "name": "stdout",
     "output_type": "stream",
     "text": [
      "0 files were empty and were dropped; Number of uniue images: 374\n",
      "196237 particles found.\n",
      "No log directory provided, skipping log data.\n",
      "0 crops removed due to aspect ratio\n",
      "Processing 2 groups for /home/veit/PIScO_dev/Segmentation_results/PISCO_KOSMOS_2020_Peru/TempResults/29_03_2020/M9_Results/Crops\n",
      "Created zip file: /home/veit/PIScO_dev/Segmentation_results/PISCO_KOSMOS_2020_Peru/TempResults/29_03_2020/M9_Results/EcoTaxa/crops_part1_upload.zip\n",
      "Created zip file: /home/veit/PIScO_dev/Segmentation_results/PISCO_KOSMOS_2020_Peru/TempResults/29_03_2020/M9_Results/EcoTaxa/crops_part2_upload.zip\n",
      "Processing 1 groups for /home/veit/PIScO_dev/Segmentation_results/PISCO_KOSMOS_2020_Peru/TempResults/29_03_2020/M9_Results/Deconv_crops\n",
      "Created zip file: /home/veit/PIScO_dev/Segmentation_results/PISCO_KOSMOS_2020_Peru/TempResults/29_03_2020/M9_Results/EcoTaxa/deconv_crops.zip\n",
      "M2_PISCO.csv\n",
      "PA\n"
     ]
    },
    {
     "name": "stderr",
     "output_type": "stream",
     "text": [
      "100%|██████████| 568/568 [00:09<00:00, 60.56it/s] \n"
     ]
    },
    {
     "name": "stdout",
     "output_type": "stream",
     "text": [
      "568\n"
     ]
    },
    {
     "name": "stderr",
     "output_type": "stream",
     "text": [
      "2025-06-12 16:02:30,795 - crop_df created\n"
     ]
    },
    {
     "name": "stdout",
     "output_type": "stream",
     "text": [
      "0 files were empty and were dropped; Number of uniue images: 568\n",
      "43220 particles found.\n",
      "No log directory provided, skipping log data.\n",
      "0 crops removed due to aspect ratio\n",
      "Processing 1 groups for /home/veit/PIScO_dev/Segmentation_results/PISCO_KOSMOS_2020_Peru/TempResults/29_03_2020/PA_Results/Crops\n",
      "Created zip file: /home/veit/PIScO_dev/Segmentation_results/PISCO_KOSMOS_2020_Peru/TempResults/29_03_2020/PA_Results/EcoTaxa/crops.zip\n",
      "Processing 1 groups for /home/veit/PIScO_dev/Segmentation_results/PISCO_KOSMOS_2020_Peru/TempResults/29_03_2020/PA_Results/Deconv_crops\n",
      "Created zip file: /home/veit/PIScO_dev/Segmentation_results/PISCO_KOSMOS_2020_Peru/TempResults/29_03_2020/PA_Results/EcoTaxa/deconv_crops.zip\n",
      "M6_PISCO.csv\n",
      "M4_PISCO.csv\n",
      "M7\n"
     ]
    },
    {
     "name": "stderr",
     "output_type": "stream",
     "text": [
      "100%|██████████| 429/429 [00:15<00:00, 27.88it/s]\n"
     ]
    },
    {
     "name": "stdout",
     "output_type": "stream",
     "text": [
      "417\n"
     ]
    },
    {
     "name": "stderr",
     "output_type": "stream",
     "text": [
      "2025-06-12 16:03:24,654 - crop_df created\n"
     ]
    },
    {
     "name": "stdout",
     "output_type": "stream",
     "text": [
      "0 files were empty and were dropped; Number of uniue images: 417\n",
      "56704 particles found.\n",
      "No log directory provided, skipping log data.\n",
      "0 crops removed due to aspect ratio\n",
      "Processing 1 groups for /home/veit/PIScO_dev/Segmentation_results/PISCO_KOSMOS_2020_Peru/TempResults/29_03_2020/M7_Results/Crops\n",
      "Created zip file: /home/veit/PIScO_dev/Segmentation_results/PISCO_KOSMOS_2020_Peru/TempResults/29_03_2020/M7_Results/EcoTaxa/crops.zip\n",
      "Processing 1 groups for /home/veit/PIScO_dev/Segmentation_results/PISCO_KOSMOS_2020_Peru/TempResults/29_03_2020/M7_Results/Deconv_crops\n",
      "Created zip file: /home/veit/PIScO_dev/Segmentation_results/PISCO_KOSMOS_2020_Peru/TempResults/29_03_2020/M7_Results/EcoTaxa/deconv_crops.zip\n",
      "._order.txt\n",
      "M6\n"
     ]
    },
    {
     "name": "stderr",
     "output_type": "stream",
     "text": [
      "100%|██████████| 382/382 [00:12<00:00, 30.21it/s]\n"
     ]
    },
    {
     "name": "stdout",
     "output_type": "stream",
     "text": [
      "379\n"
     ]
    },
    {
     "name": "stderr",
     "output_type": "stream",
     "text": [
      "2025-06-12 16:04:34,548 - crop_df created\n"
     ]
    },
    {
     "name": "stdout",
     "output_type": "stream",
     "text": [
      "0 files were empty and were dropped; Number of uniue images: 379\n",
      "49883 particles found.\n",
      "No log directory provided, skipping log data.\n",
      "0 crops removed due to aspect ratio\n",
      "Processing 1 groups for /home/veit/PIScO_dev/Segmentation_results/PISCO_KOSMOS_2020_Peru/TempResults/29_03_2020/M6_Results/Crops\n",
      "Created zip file: /home/veit/PIScO_dev/Segmentation_results/PISCO_KOSMOS_2020_Peru/TempResults/29_03_2020/M6_Results/EcoTaxa/crops.zip\n",
      "Processing 1 groups for /home/veit/PIScO_dev/Segmentation_results/PISCO_KOSMOS_2020_Peru/TempResults/29_03_2020/M6_Results/Deconv_crops\n",
      "Created zip file: /home/veit/PIScO_dev/Segmentation_results/PISCO_KOSMOS_2020_Peru/TempResults/29_03_2020/M6_Results/EcoTaxa/deconv_crops.zip\n",
      "M4\n"
     ]
    },
    {
     "name": "stderr",
     "output_type": "stream",
     "text": [
      "100%|██████████| 427/427 [00:14<00:00, 29.65it/s]\n"
     ]
    },
    {
     "name": "stdout",
     "output_type": "stream",
     "text": [
      "426\n"
     ]
    },
    {
     "name": "stderr",
     "output_type": "stream",
     "text": [
      "2025-06-12 16:05:32,251 - crop_df created\n"
     ]
    },
    {
     "name": "stdout",
     "output_type": "stream",
     "text": [
      "0 files were empty and were dropped; Number of uniue images: 426\n",
      "46343 particles found.\n",
      "No log directory provided, skipping log data.\n",
      "0 crops removed due to aspect ratio\n",
      "Processing 1 groups for /home/veit/PIScO_dev/Segmentation_results/PISCO_KOSMOS_2020_Peru/TempResults/29_03_2020/M4_Results/Crops\n",
      "Created zip file: /home/veit/PIScO_dev/Segmentation_results/PISCO_KOSMOS_2020_Peru/TempResults/29_03_2020/M4_Results/EcoTaxa/crops.zip\n",
      "Processing 1 groups for /home/veit/PIScO_dev/Segmentation_results/PISCO_KOSMOS_2020_Peru/TempResults/29_03_2020/M4_Results/Deconv_crops\n",
      "Created zip file: /home/veit/PIScO_dev/Segmentation_results/PISCO_KOSMOS_2020_Peru/TempResults/29_03_2020/M4_Results/EcoTaxa/deconv_crops.zip\n",
      "M1_PISCO.csv\n",
      "M8\n"
     ]
    },
    {
     "name": "stderr",
     "output_type": "stream",
     "text": [
      "100%|██████████| 378/378 [00:06<00:00, 61.44it/s]\n"
     ]
    },
    {
     "name": "stdout",
     "output_type": "stream",
     "text": [
      "378\n"
     ]
    },
    {
     "name": "stderr",
     "output_type": "stream",
     "text": [
      "2025-06-12 16:06:13,012 - crop_df created\n"
     ]
    },
    {
     "name": "stdout",
     "output_type": "stream",
     "text": [
      "0 files were empty and were dropped; Number of uniue images: 378\n",
      "31109 particles found.\n",
      "No log directory provided, skipping log data.\n",
      "0 crops removed due to aspect ratio\n",
      "Processing 1 groups for /home/veit/PIScO_dev/Segmentation_results/PISCO_KOSMOS_2020_Peru/TempResults/29_03_2020/M8_Results/Crops\n",
      "Created zip file: /home/veit/PIScO_dev/Segmentation_results/PISCO_KOSMOS_2020_Peru/TempResults/29_03_2020/M8_Results/EcoTaxa/crops.zip\n",
      "Processing 1 groups for /home/veit/PIScO_dev/Segmentation_results/PISCO_KOSMOS_2020_Peru/TempResults/29_03_2020/M8_Results/Deconv_crops\n",
      "Created zip file: /home/veit/PIScO_dev/Segmentation_results/PISCO_KOSMOS_2020_Peru/TempResults/29_03_2020/M8_Results/EcoTaxa/deconv_crops.zip\n",
      "23_03_2020\n",
      "PA_PISCO.csv\n",
      "M2\n"
     ]
    },
    {
     "name": "stderr",
     "output_type": "stream",
     "text": [
      "100%|██████████| 366/366 [00:08<00:00, 42.27it/s]\n"
     ]
    },
    {
     "name": "stdout",
     "output_type": "stream",
     "text": [
      "366\n"
     ]
    },
    {
     "name": "stderr",
     "output_type": "stream",
     "text": [
      "2025-06-12 16:06:44,223 - crop_df created\n"
     ]
    },
    {
     "name": "stdout",
     "output_type": "stream",
     "text": [
      "0 files were empty and were dropped; Number of uniue images: 366\n",
      "129577 particles found.\n",
      "No log directory provided, skipping log data.\n",
      "0 crops removed due to aspect ratio\n",
      "Processing 1 groups for /home/veit/PIScO_dev/Segmentation_results/PISCO_KOSMOS_2020_Peru/TempResults/23_03_2020/M2_Results/Crops\n",
      "Created zip file: /home/veit/PIScO_dev/Segmentation_results/PISCO_KOSMOS_2020_Peru/TempResults/23_03_2020/M2_Results/EcoTaxa/crops.zip\n",
      "Processing 1 groups for /home/veit/PIScO_dev/Segmentation_results/PISCO_KOSMOS_2020_Peru/TempResults/23_03_2020/M2_Results/Deconv_crops\n",
      "Created zip file: /home/veit/PIScO_dev/Segmentation_results/PISCO_KOSMOS_2020_Peru/TempResults/23_03_2020/M2_Results/EcoTaxa/deconv_crops.zip\n",
      "M1\n"
     ]
    },
    {
     "name": "stderr",
     "output_type": "stream",
     "text": [
      "100%|██████████| 1132/1132 [01:19<00:00, 14.24it/s]\n"
     ]
    },
    {
     "name": "stdout",
     "output_type": "stream",
     "text": [
      "1132\n"
     ]
    },
    {
     "name": "stderr",
     "output_type": "stream",
     "text": [
      "2025-06-12 16:10:51,238 - crop_df created\n"
     ]
    },
    {
     "name": "stdout",
     "output_type": "stream",
     "text": [
      "0 files were empty and were dropped; Number of uniue images: 1132\n",
      "460123 particles found.\n",
      "No log directory provided, skipping log data.\n",
      "0 crops removed due to aspect ratio\n",
      "Processing 3 groups for /home/veit/PIScO_dev/Segmentation_results/PISCO_KOSMOS_2020_Peru/TempResults/23_03_2020/M1_Results/Crops\n",
      "Created zip file: /home/veit/PIScO_dev/Segmentation_results/PISCO_KOSMOS_2020_Peru/TempResults/23_03_2020/M1_Results/EcoTaxa/crops_part1_upload.zip\n",
      "Created zip file: /home/veit/PIScO_dev/Segmentation_results/PISCO_KOSMOS_2020_Peru/TempResults/23_03_2020/M1_Results/EcoTaxa/crops_part2_upload.zip\n",
      "Created zip file: /home/veit/PIScO_dev/Segmentation_results/PISCO_KOSMOS_2020_Peru/TempResults/23_03_2020/M1_Results/EcoTaxa/crops_part3_upload.zip\n",
      "Processing 2 groups for /home/veit/PIScO_dev/Segmentation_results/PISCO_KOSMOS_2020_Peru/TempResults/23_03_2020/M1_Results/Deconv_crops\n",
      "Created zip file: /home/veit/PIScO_dev/Segmentation_results/PISCO_KOSMOS_2020_Peru/TempResults/23_03_2020/M1_Results/EcoTaxa/deconv_crops_part1_upload.zip\n",
      "Created zip file: /home/veit/PIScO_dev/Segmentation_results/PISCO_KOSMOS_2020_Peru/TempResults/23_03_2020/M1_Results/EcoTaxa/deconv_crops_part2_upload.zip\n",
      "._.DS_Store\n",
      "M9_PISCO.csv\n",
      ".DS_Store\n",
      "M3\n"
     ]
    },
    {
     "name": "stderr",
     "output_type": "stream",
     "text": [
      "100%|██████████| 394/394 [00:21<00:00, 18.02it/s]\n"
     ]
    },
    {
     "name": "stdout",
     "output_type": "stream",
     "text": [
      "394\n"
     ]
    },
    {
     "name": "stderr",
     "output_type": "stream",
     "text": [
      "2025-06-12 16:18:54,235 - crop_df created\n"
     ]
    },
    {
     "name": "stdout",
     "output_type": "stream",
     "text": [
      "0 files were empty and were dropped; Number of uniue images: 394\n",
      "297087 particles found.\n",
      "No log directory provided, skipping log data.\n",
      "0 crops removed due to aspect ratio\n",
      "Processing 3 groups for /home/veit/PIScO_dev/Segmentation_results/PISCO_KOSMOS_2020_Peru/TempResults/23_03_2020/M3_Results/Crops\n",
      "Created zip file: /home/veit/PIScO_dev/Segmentation_results/PISCO_KOSMOS_2020_Peru/TempResults/23_03_2020/M3_Results/EcoTaxa/crops_part1_upload.zip\n",
      "Created zip file: /home/veit/PIScO_dev/Segmentation_results/PISCO_KOSMOS_2020_Peru/TempResults/23_03_2020/M3_Results/EcoTaxa/crops_part2_upload.zip\n",
      "Created zip file: /home/veit/PIScO_dev/Segmentation_results/PISCO_KOSMOS_2020_Peru/TempResults/23_03_2020/M3_Results/EcoTaxa/crops_part3_upload.zip\n",
      "Processing 2 groups for /home/veit/PIScO_dev/Segmentation_results/PISCO_KOSMOS_2020_Peru/TempResults/23_03_2020/M3_Results/Deconv_crops\n",
      "Created zip file: /home/veit/PIScO_dev/Segmentation_results/PISCO_KOSMOS_2020_Peru/TempResults/23_03_2020/M3_Results/EcoTaxa/deconv_crops_part1_upload.zip\n",
      "Created zip file: /home/veit/PIScO_dev/Segmentation_results/PISCO_KOSMOS_2020_Peru/TempResults/23_03_2020/M3_Results/EcoTaxa/deconv_crops_part2_upload.zip\n",
      "M5_PISCO.csv\n",
      "M8_PISCO.csv\n",
      "M5\n"
     ]
    },
    {
     "name": "stderr",
     "output_type": "stream",
     "text": [
      "100%|██████████| 351/351 [00:04<00:00, 79.30it/s] \n"
     ]
    },
    {
     "name": "stdout",
     "output_type": "stream",
     "text": [
      "351\n"
     ]
    },
    {
     "name": "stderr",
     "output_type": "stream",
     "text": [
      "2025-06-12 16:23:29,263 - crop_df created\n"
     ]
    },
    {
     "name": "stdout",
     "output_type": "stream",
     "text": [
      "0 files were empty and were dropped; Number of uniue images: 351\n",
      "10796 particles found.\n",
      "No log directory provided, skipping log data.\n",
      "0 crops removed due to aspect ratio\n",
      "Processing 3 groups for /home/veit/PIScO_dev/Segmentation_results/PISCO_KOSMOS_2020_Peru/TempResults/23_03_2020/M5_Results/Crops\n",
      "Created zip file: /home/veit/PIScO_dev/Segmentation_results/PISCO_KOSMOS_2020_Peru/TempResults/23_03_2020/M5_Results/EcoTaxa/crops_part1_upload.zip\n",
      "Created zip file: /home/veit/PIScO_dev/Segmentation_results/PISCO_KOSMOS_2020_Peru/TempResults/23_03_2020/M5_Results/EcoTaxa/crops_part2_upload.zip\n",
      "Created zip file: /home/veit/PIScO_dev/Segmentation_results/PISCO_KOSMOS_2020_Peru/TempResults/23_03_2020/M5_Results/EcoTaxa/crops_part3_upload.zip\n",
      "Processing 3 groups for /home/veit/PIScO_dev/Segmentation_results/PISCO_KOSMOS_2020_Peru/TempResults/23_03_2020/M5_Results/Deconv_crops\n",
      "Created zip file: /home/veit/PIScO_dev/Segmentation_results/PISCO_KOSMOS_2020_Peru/TempResults/23_03_2020/M5_Results/EcoTaxa/deconv_crops_part1_upload.zip\n",
      "Created zip file: /home/veit/PIScO_dev/Segmentation_results/PISCO_KOSMOS_2020_Peru/TempResults/23_03_2020/M5_Results/EcoTaxa/deconv_crops_part2_upload.zip\n",
      "Created zip file: /home/veit/PIScO_dev/Segmentation_results/PISCO_KOSMOS_2020_Peru/TempResults/23_03_2020/M5_Results/EcoTaxa/deconv_crops_part3_upload.zip\n",
      "M7_PISCO.csv\n",
      "order.txt\n",
      "M3_PISCO.csv\n",
      "M9\n"
     ]
    },
    {
     "name": "stderr",
     "output_type": "stream",
     "text": [
      "100%|██████████| 339/339 [00:11<00:00, 30.62it/s] \n"
     ]
    },
    {
     "name": "stdout",
     "output_type": "stream",
     "text": [
      "339\n"
     ]
    },
    {
     "name": "stderr",
     "output_type": "stream",
     "text": [
      "2025-06-12 16:24:53,818 - crop_df created\n"
     ]
    },
    {
     "name": "stdout",
     "output_type": "stream",
     "text": [
      "0 files were empty and were dropped; Number of uniue images: 339\n",
      "85003 particles found.\n",
      "No log directory provided, skipping log data.\n",
      "0 crops removed due to aspect ratio\n",
      "Processing 3 groups for /home/veit/PIScO_dev/Segmentation_results/PISCO_KOSMOS_2020_Peru/TempResults/23_03_2020/M9_Results/Crops\n",
      "Created zip file: /home/veit/PIScO_dev/Segmentation_results/PISCO_KOSMOS_2020_Peru/TempResults/23_03_2020/M9_Results/EcoTaxa/crops_part1_upload.zip\n",
      "Created zip file: /home/veit/PIScO_dev/Segmentation_results/PISCO_KOSMOS_2020_Peru/TempResults/23_03_2020/M9_Results/EcoTaxa/crops_part2_upload.zip\n",
      "Created zip file: /home/veit/PIScO_dev/Segmentation_results/PISCO_KOSMOS_2020_Peru/TempResults/23_03_2020/M9_Results/EcoTaxa/crops_part3_upload.zip\n",
      "Processing 2 groups for /home/veit/PIScO_dev/Segmentation_results/PISCO_KOSMOS_2020_Peru/TempResults/23_03_2020/M9_Results/Deconv_crops\n",
      "Created zip file: /home/veit/PIScO_dev/Segmentation_results/PISCO_KOSMOS_2020_Peru/TempResults/23_03_2020/M9_Results/EcoTaxa/deconv_crops_part1_upload.zip\n",
      "Created zip file: /home/veit/PIScO_dev/Segmentation_results/PISCO_KOSMOS_2020_Peru/TempResults/23_03_2020/M9_Results/EcoTaxa/deconv_crops_part2_upload.zip\n",
      "M2_PISCO.csv\n",
      "PA\n"
     ]
    },
    {
     "name": "stderr",
     "output_type": "stream",
     "text": [
      "100%|██████████| 847/847 [00:40<00:00, 20.83it/s]\n"
     ]
    },
    {
     "name": "stdout",
     "output_type": "stream",
     "text": [
      "847\n"
     ]
    },
    {
     "name": "stderr",
     "output_type": "stream",
     "text": [
      "2025-06-12 16:27:58,926 - crop_df created\n"
     ]
    },
    {
     "name": "stdout",
     "output_type": "stream",
     "text": [
      "0 files were empty and were dropped; Number of uniue images: 847\n",
      "328877 particles found.\n",
      "No log directory provided, skipping log data.\n",
      "0 crops removed due to aspect ratio\n",
      "Processing 4 groups for /home/veit/PIScO_dev/Segmentation_results/PISCO_KOSMOS_2020_Peru/TempResults/23_03_2020/PA_Results/Crops\n",
      "Created zip file: /home/veit/PIScO_dev/Segmentation_results/PISCO_KOSMOS_2020_Peru/TempResults/23_03_2020/PA_Results/EcoTaxa/crops_part1_upload.zip\n",
      "Created zip file: /home/veit/PIScO_dev/Segmentation_results/PISCO_KOSMOS_2020_Peru/TempResults/23_03_2020/PA_Results/EcoTaxa/crops_part2_upload.zip\n",
      "Created zip file: /home/veit/PIScO_dev/Segmentation_results/PISCO_KOSMOS_2020_Peru/TempResults/23_03_2020/PA_Results/EcoTaxa/crops_part3_upload.zip\n",
      "Created zip file: /home/veit/PIScO_dev/Segmentation_results/PISCO_KOSMOS_2020_Peru/TempResults/23_03_2020/PA_Results/EcoTaxa/crops_part4_upload.zip\n",
      "Processing 2 groups for /home/veit/PIScO_dev/Segmentation_results/PISCO_KOSMOS_2020_Peru/TempResults/23_03_2020/PA_Results/Deconv_crops\n",
      "Created zip file: /home/veit/PIScO_dev/Segmentation_results/PISCO_KOSMOS_2020_Peru/TempResults/23_03_2020/PA_Results/EcoTaxa/deconv_crops_part1_upload.zip\n",
      "Created zip file: /home/veit/PIScO_dev/Segmentation_results/PISCO_KOSMOS_2020_Peru/TempResults/23_03_2020/PA_Results/EcoTaxa/deconv_crops_part2_upload.zip\n",
      "M6_PISCO.csv\n",
      "M4_PISCO.csv\n",
      "M7\n"
     ]
    },
    {
     "name": "stderr",
     "output_type": "stream",
     "text": [
      "100%|██████████| 385/385 [00:11<00:00, 33.20it/s]\n"
     ]
    },
    {
     "name": "stdout",
     "output_type": "stream",
     "text": [
      "385\n"
     ]
    },
    {
     "name": "stderr",
     "output_type": "stream",
     "text": [
      "2025-06-12 16:33:36,874 - crop_df created\n"
     ]
    },
    {
     "name": "stdout",
     "output_type": "stream",
     "text": [
      "0 files were empty and were dropped; Number of uniue images: 385\n",
      "22308 particles found.\n",
      "No log directory provided, skipping log data.\n",
      "0 crops removed due to aspect ratio\n",
      "Processing 1 groups for /home/veit/PIScO_dev/Segmentation_results/PISCO_KOSMOS_2020_Peru/TempResults/23_03_2020/M7_Results/Crops\n",
      "Created zip file: /home/veit/PIScO_dev/Segmentation_results/PISCO_KOSMOS_2020_Peru/TempResults/23_03_2020/M7_Results/EcoTaxa/crops.zip\n",
      "Processing 1 groups for /home/veit/PIScO_dev/Segmentation_results/PISCO_KOSMOS_2020_Peru/TempResults/23_03_2020/M7_Results/Deconv_crops\n",
      "Created zip file: /home/veit/PIScO_dev/Segmentation_results/PISCO_KOSMOS_2020_Peru/TempResults/23_03_2020/M7_Results/EcoTaxa/deconv_crops.zip\n",
      "._order.txt\n",
      "M6\n"
     ]
    },
    {
     "name": "stderr",
     "output_type": "stream",
     "text": [
      "100%|██████████| 342/342 [00:15<00:00, 21.60it/s]\n"
     ]
    },
    {
     "name": "stdout",
     "output_type": "stream",
     "text": [
      "342\n"
     ]
    },
    {
     "name": "stderr",
     "output_type": "stream",
     "text": [
      "2025-06-12 16:34:13,312 - crop_df created\n"
     ]
    },
    {
     "name": "stdout",
     "output_type": "stream",
     "text": [
      "0 files were empty and were dropped; Number of uniue images: 342\n",
      "119556 particles found.\n",
      "No log directory provided, skipping log data.\n",
      "0 crops removed due to aspect ratio\n",
      "Processing 1 groups for /home/veit/PIScO_dev/Segmentation_results/PISCO_KOSMOS_2020_Peru/TempResults/23_03_2020/M6_Results/Crops\n",
      "Created zip file: /home/veit/PIScO_dev/Segmentation_results/PISCO_KOSMOS_2020_Peru/TempResults/23_03_2020/M6_Results/EcoTaxa/crops.zip\n",
      "Processing 1 groups for /home/veit/PIScO_dev/Segmentation_results/PISCO_KOSMOS_2020_Peru/TempResults/23_03_2020/M6_Results/Deconv_crops\n",
      "Created zip file: /home/veit/PIScO_dev/Segmentation_results/PISCO_KOSMOS_2020_Peru/TempResults/23_03_2020/M6_Results/EcoTaxa/deconv_crops.zip\n",
      "M4\n"
     ]
    },
    {
     "name": "stderr",
     "output_type": "stream",
     "text": [
      "100%|██████████| 369/369 [00:13<00:00, 27.60it/s]\n"
     ]
    },
    {
     "name": "stdout",
     "output_type": "stream",
     "text": [
      "369\n"
     ]
    },
    {
     "name": "stderr",
     "output_type": "stream",
     "text": [
      "2025-06-12 16:36:26,980 - crop_df created\n"
     ]
    },
    {
     "name": "stdout",
     "output_type": "stream",
     "text": [
      "0 files were empty and were dropped; Number of uniue images: 369\n",
      "136698 particles found.\n",
      "No log directory provided, skipping log data.\n",
      "0 crops removed due to aspect ratio\n",
      "Processing 2 groups for /home/veit/PIScO_dev/Segmentation_results/PISCO_KOSMOS_2020_Peru/TempResults/23_03_2020/M4_Results/Crops\n",
      "Created zip file: /home/veit/PIScO_dev/Segmentation_results/PISCO_KOSMOS_2020_Peru/TempResults/23_03_2020/M4_Results/EcoTaxa/crops_part1_upload.zip\n",
      "Created zip file: /home/veit/PIScO_dev/Segmentation_results/PISCO_KOSMOS_2020_Peru/TempResults/23_03_2020/M4_Results/EcoTaxa/crops_part2_upload.zip\n",
      "Processing 1 groups for /home/veit/PIScO_dev/Segmentation_results/PISCO_KOSMOS_2020_Peru/TempResults/23_03_2020/M4_Results/Deconv_crops\n",
      "Created zip file: /home/veit/PIScO_dev/Segmentation_results/PISCO_KOSMOS_2020_Peru/TempResults/23_03_2020/M4_Results/EcoTaxa/deconv_crops.zip\n",
      "M1_PISCO.csv\n",
      "M8\n"
     ]
    },
    {
     "name": "stderr",
     "output_type": "stream",
     "text": [
      "100%|██████████| 369/369 [00:21<00:00, 17.07it/s]\n"
     ]
    },
    {
     "name": "stdout",
     "output_type": "stream",
     "text": [
      "367\n"
     ]
    },
    {
     "name": "stderr",
     "output_type": "stream",
     "text": [
      "2025-06-12 16:39:30,574 - crop_df created\n"
     ]
    },
    {
     "name": "stdout",
     "output_type": "stream",
     "text": [
      "0 files were empty and were dropped; Number of uniue images: 367\n",
      "27145 particles found.\n",
      "No log directory provided, skipping log data.\n",
      "0 crops removed due to aspect ratio\n",
      "Processing 1 groups for /home/veit/PIScO_dev/Segmentation_results/PISCO_KOSMOS_2020_Peru/TempResults/23_03_2020/M8_Results/Crops\n",
      "Created zip file: /home/veit/PIScO_dev/Segmentation_results/PISCO_KOSMOS_2020_Peru/TempResults/23_03_2020/M8_Results/EcoTaxa/crops.zip\n",
      "Processing 1 groups for /home/veit/PIScO_dev/Segmentation_results/PISCO_KOSMOS_2020_Peru/TempResults/23_03_2020/M8_Results/Deconv_crops\n",
      "Created zip file: /home/veit/PIScO_dev/Segmentation_results/PISCO_KOSMOS_2020_Peru/TempResults/23_03_2020/M8_Results/EcoTaxa/deconv_crops.zip\n",
      "05_03_2020\n",
      "._.DS_StoreM1\n",
      "PA_PISCO.csv\n",
      "M2\n"
     ]
    },
    {
     "name": "stderr",
     "output_type": "stream",
     "text": [
      "100%|██████████| 299/299 [00:03<00:00, 82.05it/s] \n"
     ]
    },
    {
     "name": "stdout",
     "output_type": "stream",
     "text": [
      "299\n"
     ]
    },
    {
     "name": "stderr",
     "output_type": "stream",
     "text": [
      "2025-06-12 16:39:53,673 - crop_df created\n"
     ]
    },
    {
     "name": "stdout",
     "output_type": "stream",
     "text": [
      "0 files were empty and were dropped; Number of uniue images: 299\n",
      "101793 particles found.\n",
      "No log directory provided, skipping log data.\n",
      "0 crops removed due to aspect ratio\n",
      "Processing 3 groups for /home/veit/PIScO_dev/Segmentation_results/PISCO_KOSMOS_2020_Peru/TempResults/05_03_2020/M2_Results/Crops\n",
      "Created zip file: /home/veit/PIScO_dev/Segmentation_results/PISCO_KOSMOS_2020_Peru/TempResults/05_03_2020/M2_Results/EcoTaxa/crops_part1_upload.zip\n",
      "Created zip file: /home/veit/PIScO_dev/Segmentation_results/PISCO_KOSMOS_2020_Peru/TempResults/05_03_2020/M2_Results/EcoTaxa/crops_part2_upload.zip\n",
      "Created zip file: /home/veit/PIScO_dev/Segmentation_results/PISCO_KOSMOS_2020_Peru/TempResults/05_03_2020/M2_Results/EcoTaxa/crops_part3_upload.zip\n",
      "Processing 2 groups for /home/veit/PIScO_dev/Segmentation_results/PISCO_KOSMOS_2020_Peru/TempResults/05_03_2020/M2_Results/Deconv_crops\n",
      "Created zip file: /home/veit/PIScO_dev/Segmentation_results/PISCO_KOSMOS_2020_Peru/TempResults/05_03_2020/M2_Results/EcoTaxa/deconv_crops_part1_upload.zip\n",
      "Created zip file: /home/veit/PIScO_dev/Segmentation_results/PISCO_KOSMOS_2020_Peru/TempResults/05_03_2020/M2_Results/EcoTaxa/deconv_crops_part2_upload.zip\n",
      "M1\n"
     ]
    },
    {
     "name": "stderr",
     "output_type": "stream",
     "text": [
      "100%|██████████| 335/335 [00:01<00:00, 284.08it/s]\n",
      "2025-06-12 16:41:50,069 - crop_df created\n"
     ]
    },
    {
     "name": "stdout",
     "output_type": "stream",
     "text": [
      "335\n",
      "0 files were empty and were dropped; Number of uniue images: 335\n",
      "17353 particles found.\n",
      "No log directory provided, skipping log data.\n",
      "0 crops removed due to aspect ratio\n",
      "Processing 3 groups for /home/veit/PIScO_dev/Segmentation_results/PISCO_KOSMOS_2020_Peru/TempResults/05_03_2020/M1_Results/Crops\n",
      "Created zip file: /home/veit/PIScO_dev/Segmentation_results/PISCO_KOSMOS_2020_Peru/TempResults/05_03_2020/M1_Results/EcoTaxa/crops_part1_upload.zip\n",
      "Created zip file: /home/veit/PIScO_dev/Segmentation_results/PISCO_KOSMOS_2020_Peru/TempResults/05_03_2020/M1_Results/EcoTaxa/crops_part2_upload.zip\n",
      "Created zip file: /home/veit/PIScO_dev/Segmentation_results/PISCO_KOSMOS_2020_Peru/TempResults/05_03_2020/M1_Results/EcoTaxa/crops_part3_upload.zip\n",
      "Processing 3 groups for /home/veit/PIScO_dev/Segmentation_results/PISCO_KOSMOS_2020_Peru/TempResults/05_03_2020/M1_Results/Deconv_crops\n",
      "Created zip file: /home/veit/PIScO_dev/Segmentation_results/PISCO_KOSMOS_2020_Peru/TempResults/05_03_2020/M1_Results/EcoTaxa/deconv_crops_part1_upload.zip\n",
      "Created zip file: /home/veit/PIScO_dev/Segmentation_results/PISCO_KOSMOS_2020_Peru/TempResults/05_03_2020/M1_Results/EcoTaxa/deconv_crops_part2_upload.zip\n",
      "Created zip file: /home/veit/PIScO_dev/Segmentation_results/PISCO_KOSMOS_2020_Peru/TempResults/05_03_2020/M1_Results/EcoTaxa/deconv_crops_part3_upload.zip\n",
      "._.DS_Store\n",
      "M9_PISCO.csv\n",
      ".DS_StoreM1_PISCO.csv\n",
      ".DS_Store\n",
      "M3\n"
     ]
    },
    {
     "name": "stderr",
     "output_type": "stream",
     "text": [
      "100%|██████████| 335/335 [00:02<00:00, 134.26it/s]\n",
      "2025-06-12 16:43:11,151 - crop_df created\n"
     ]
    },
    {
     "name": "stdout",
     "output_type": "stream",
     "text": [
      "335\n",
      "0 files were empty and were dropped; Number of uniue images: 335\n",
      "18870 particles found.\n",
      "No log directory provided, skipping log data.\n",
      "0 crops removed due to aspect ratio\n",
      "Processing 3 groups for /home/veit/PIScO_dev/Segmentation_results/PISCO_KOSMOS_2020_Peru/TempResults/05_03_2020/M3_Results/Crops\n",
      "Created zip file: /home/veit/PIScO_dev/Segmentation_results/PISCO_KOSMOS_2020_Peru/TempResults/05_03_2020/M3_Results/EcoTaxa/crops_part1_upload.zip\n",
      "Created zip file: /home/veit/PIScO_dev/Segmentation_results/PISCO_KOSMOS_2020_Peru/TempResults/05_03_2020/M3_Results/EcoTaxa/crops_part2_upload.zip\n",
      "Created zip file: /home/veit/PIScO_dev/Segmentation_results/PISCO_KOSMOS_2020_Peru/TempResults/05_03_2020/M3_Results/EcoTaxa/crops_part3_upload.zip\n",
      "Processing 3 groups for /home/veit/PIScO_dev/Segmentation_results/PISCO_KOSMOS_2020_Peru/TempResults/05_03_2020/M3_Results/Deconv_crops\n",
      "Created zip file: /home/veit/PIScO_dev/Segmentation_results/PISCO_KOSMOS_2020_Peru/TempResults/05_03_2020/M3_Results/EcoTaxa/deconv_crops_part1_upload.zip\n",
      "Created zip file: /home/veit/PIScO_dev/Segmentation_results/PISCO_KOSMOS_2020_Peru/TempResults/05_03_2020/M3_Results/EcoTaxa/deconv_crops_part2_upload.zip\n",
      "Created zip file: /home/veit/PIScO_dev/Segmentation_results/PISCO_KOSMOS_2020_Peru/TempResults/05_03_2020/M3_Results/EcoTaxa/deconv_crops_part3_upload.zip\n",
      "M5_PISCO.csv\n",
      "M8_PISCO.csv\n",
      "M5\n"
     ]
    },
    {
     "name": "stderr",
     "output_type": "stream",
     "text": [
      "100%|██████████| 282/282 [00:00<00:00, 303.65it/s]\n",
      "2025-06-12 16:44:15,806 - crop_df created\n"
     ]
    },
    {
     "name": "stdout",
     "output_type": "stream",
     "text": [
      "282\n",
      "0 files were empty and were dropped; Number of uniue images: 282\n",
      "6324 particles found.\n",
      "No log directory provided, skipping log data.\n",
      "0 crops removed due to aspect ratio\n",
      "Processing 3 groups for /home/veit/PIScO_dev/Segmentation_results/PISCO_KOSMOS_2020_Peru/TempResults/05_03_2020/M5_Results/Crops\n",
      "Created zip file: /home/veit/PIScO_dev/Segmentation_results/PISCO_KOSMOS_2020_Peru/TempResults/05_03_2020/M5_Results/EcoTaxa/crops_part1_upload.zip\n",
      "Created zip file: /home/veit/PIScO_dev/Segmentation_results/PISCO_KOSMOS_2020_Peru/TempResults/05_03_2020/M5_Results/EcoTaxa/crops_part2_upload.zip\n",
      "Created zip file: /home/veit/PIScO_dev/Segmentation_results/PISCO_KOSMOS_2020_Peru/TempResults/05_03_2020/M5_Results/EcoTaxa/crops_part3_upload.zip\n",
      "Processing 2 groups for /home/veit/PIScO_dev/Segmentation_results/PISCO_KOSMOS_2020_Peru/TempResults/05_03_2020/M5_Results/Deconv_crops\n",
      "Created zip file: /home/veit/PIScO_dev/Segmentation_results/PISCO_KOSMOS_2020_Peru/TempResults/05_03_2020/M5_Results/EcoTaxa/deconv_crops_part1_upload.zip\n",
      "Created zip file: /home/veit/PIScO_dev/Segmentation_results/PISCO_KOSMOS_2020_Peru/TempResults/05_03_2020/M5_Results/EcoTaxa/deconv_crops_part2_upload.zip\n",
      "M7_PISCO.csv\n",
      "order.txt\n",
      "M3_PISCO.csv\n",
      "M9\n"
     ]
    },
    {
     "name": "stderr",
     "output_type": "stream",
     "text": [
      "100%|██████████| 380/380 [00:01<00:00, 244.32it/s]\n"
     ]
    },
    {
     "name": "stdout",
     "output_type": "stream",
     "text": [
      "380\n"
     ]
    },
    {
     "name": "stderr",
     "output_type": "stream",
     "text": [
      "2025-06-12 16:45:04,749 - crop_df created\n"
     ]
    },
    {
     "name": "stdout",
     "output_type": "stream",
     "text": [
      "0 files were empty and were dropped; Number of uniue images: 380\n",
      "29733 particles found.\n",
      "No log directory provided, skipping log data.\n",
      "0 crops removed due to aspect ratio\n",
      "Processing 4 groups for /home/veit/PIScO_dev/Segmentation_results/PISCO_KOSMOS_2020_Peru/TempResults/05_03_2020/M9_Results/Crops\n",
      "Created zip file: /home/veit/PIScO_dev/Segmentation_results/PISCO_KOSMOS_2020_Peru/TempResults/05_03_2020/M9_Results/EcoTaxa/crops_part1_upload.zip\n",
      "Created zip file: /home/veit/PIScO_dev/Segmentation_results/PISCO_KOSMOS_2020_Peru/TempResults/05_03_2020/M9_Results/EcoTaxa/crops_part2_upload.zip\n",
      "Created zip file: /home/veit/PIScO_dev/Segmentation_results/PISCO_KOSMOS_2020_Peru/TempResults/05_03_2020/M9_Results/EcoTaxa/crops_part3_upload.zip\n",
      "Created zip file: /home/veit/PIScO_dev/Segmentation_results/PISCO_KOSMOS_2020_Peru/TempResults/05_03_2020/M9_Results/EcoTaxa/crops_part4_upload.zip\n",
      "Processing 3 groups for /home/veit/PIScO_dev/Segmentation_results/PISCO_KOSMOS_2020_Peru/TempResults/05_03_2020/M9_Results/Deconv_crops\n",
      "Created zip file: /home/veit/PIScO_dev/Segmentation_results/PISCO_KOSMOS_2020_Peru/TempResults/05_03_2020/M9_Results/EcoTaxa/deconv_crops_part1_upload.zip\n",
      "Created zip file: /home/veit/PIScO_dev/Segmentation_results/PISCO_KOSMOS_2020_Peru/TempResults/05_03_2020/M9_Results/EcoTaxa/deconv_crops_part2_upload.zip\n",
      "Created zip file: /home/veit/PIScO_dev/Segmentation_results/PISCO_KOSMOS_2020_Peru/TempResults/05_03_2020/M9_Results/EcoTaxa/deconv_crops_part3_upload.zip\n",
      ".DS_StoreM1\n",
      "M2_PISCO.csv\n",
      "PA\n"
     ]
    },
    {
     "name": "stderr",
     "output_type": "stream",
     "text": [
      "100%|██████████| 445/445 [00:03<00:00, 131.83it/s]\n"
     ]
    },
    {
     "name": "stdout",
     "output_type": "stream",
     "text": [
      "443\n"
     ]
    },
    {
     "name": "stderr",
     "output_type": "stream",
     "text": [
      "2025-06-12 16:46:48,570 - crop_df created\n"
     ]
    },
    {
     "name": "stdout",
     "output_type": "stream",
     "text": [
      "0 files were empty and were dropped; Number of uniue images: 443\n",
      "38116 particles found.\n",
      "No log directory provided, skipping log data.\n",
      "0 crops removed due to aspect ratio\n",
      "Processing 1 groups for /home/veit/PIScO_dev/Segmentation_results/PISCO_KOSMOS_2020_Peru/TempResults/05_03_2020/PA_Results/Crops\n",
      "Created zip file: /home/veit/PIScO_dev/Segmentation_results/PISCO_KOSMOS_2020_Peru/TempResults/05_03_2020/PA_Results/EcoTaxa/crops.zip\n",
      "Processing 1 groups for /home/veit/PIScO_dev/Segmentation_results/PISCO_KOSMOS_2020_Peru/TempResults/05_03_2020/PA_Results/Deconv_crops\n",
      "Created zip file: /home/veit/PIScO_dev/Segmentation_results/PISCO_KOSMOS_2020_Peru/TempResults/05_03_2020/PA_Results/EcoTaxa/deconv_crops.zip\n",
      "M6_PISCO.csv\n",
      "M4_PISCO.csv\n",
      "M7\n"
     ]
    },
    {
     "name": "stderr",
     "output_type": "stream",
     "text": [
      "100%|██████████| 282/282 [00:01<00:00, 229.39it/s]\n",
      "2025-06-12 16:47:26,483 - crop_df created\n"
     ]
    },
    {
     "name": "stdout",
     "output_type": "stream",
     "text": [
      "282\n",
      "0 files were empty and were dropped; Number of uniue images: 282\n",
      "23193 particles found.\n",
      "No log directory provided, skipping log data.\n",
      "0 crops removed due to aspect ratio\n",
      "Processing 3 groups for /home/veit/PIScO_dev/Segmentation_results/PISCO_KOSMOS_2020_Peru/TempResults/05_03_2020/M7_Results/Crops\n",
      "Created zip file: /home/veit/PIScO_dev/Segmentation_results/PISCO_KOSMOS_2020_Peru/TempResults/05_03_2020/M7_Results/EcoTaxa/crops_part1_upload.zip\n",
      "Created zip file: /home/veit/PIScO_dev/Segmentation_results/PISCO_KOSMOS_2020_Peru/TempResults/05_03_2020/M7_Results/EcoTaxa/crops_part2_upload.zip\n",
      "Created zip file: /home/veit/PIScO_dev/Segmentation_results/PISCO_KOSMOS_2020_Peru/TempResults/05_03_2020/M7_Results/EcoTaxa/crops_part3_upload.zip\n",
      "Processing 2 groups for /home/veit/PIScO_dev/Segmentation_results/PISCO_KOSMOS_2020_Peru/TempResults/05_03_2020/M7_Results/Deconv_crops\n",
      "Created zip file: /home/veit/PIScO_dev/Segmentation_results/PISCO_KOSMOS_2020_Peru/TempResults/05_03_2020/M7_Results/EcoTaxa/deconv_crops_part1_upload.zip\n",
      "Created zip file: /home/veit/PIScO_dev/Segmentation_results/PISCO_KOSMOS_2020_Peru/TempResults/05_03_2020/M7_Results/EcoTaxa/deconv_crops_part2_upload.zip\n",
      "._order.txt\n",
      "M6\n"
     ]
    },
    {
     "name": "stderr",
     "output_type": "stream",
     "text": [
      "100%|██████████| 287/287 [00:05<00:00, 48.24it/s] \n"
     ]
    },
    {
     "name": "stdout",
     "output_type": "stream",
     "text": [
      "287\n"
     ]
    },
    {
     "name": "stderr",
     "output_type": "stream",
     "text": [
      "2025-06-12 16:48:31,205 - crop_df created\n"
     ]
    },
    {
     "name": "stdout",
     "output_type": "stream",
     "text": [
      "0 files were empty and were dropped; Number of uniue images: 287\n",
      "113149 particles found.\n",
      "No log directory provided, skipping log data.\n",
      "0 crops removed due to aspect ratio\n",
      "Processing 3 groups for /home/veit/PIScO_dev/Segmentation_results/PISCO_KOSMOS_2020_Peru/TempResults/05_03_2020/M6_Results/Crops\n",
      "Created zip file: /home/veit/PIScO_dev/Segmentation_results/PISCO_KOSMOS_2020_Peru/TempResults/05_03_2020/M6_Results/EcoTaxa/crops_part1_upload.zip\n",
      "Created zip file: /home/veit/PIScO_dev/Segmentation_results/PISCO_KOSMOS_2020_Peru/TempResults/05_03_2020/M6_Results/EcoTaxa/crops_part2_upload.zip\n",
      "Created zip file: /home/veit/PIScO_dev/Segmentation_results/PISCO_KOSMOS_2020_Peru/TempResults/05_03_2020/M6_Results/EcoTaxa/crops_part3_upload.zip\n",
      "Processing 2 groups for /home/veit/PIScO_dev/Segmentation_results/PISCO_KOSMOS_2020_Peru/TempResults/05_03_2020/M6_Results/Deconv_crops\n",
      "Created zip file: /home/veit/PIScO_dev/Segmentation_results/PISCO_KOSMOS_2020_Peru/TempResults/05_03_2020/M6_Results/EcoTaxa/deconv_crops_part1_upload.zip\n",
      "Created zip file: /home/veit/PIScO_dev/Segmentation_results/PISCO_KOSMOS_2020_Peru/TempResults/05_03_2020/M6_Results/EcoTaxa/deconv_crops_part2_upload.zip\n",
      "M4\n"
     ]
    },
    {
     "name": "stderr",
     "output_type": "stream",
     "text": [
      "100%|██████████| 294/294 [00:07<00:00, 39.11it/s] \n"
     ]
    },
    {
     "name": "stdout",
     "output_type": "stream",
     "text": [
      "294\n"
     ]
    },
    {
     "name": "stderr",
     "output_type": "stream",
     "text": [
      "2025-06-12 16:50:39,545 - crop_df created\n"
     ]
    },
    {
     "name": "stdout",
     "output_type": "stream",
     "text": [
      "0 files were empty and were dropped; Number of uniue images: 294\n",
      "137574 particles found.\n",
      "No log directory provided, skipping log data.\n",
      "0 crops removed due to aspect ratio\n",
      "Processing 3 groups for /home/veit/PIScO_dev/Segmentation_results/PISCO_KOSMOS_2020_Peru/TempResults/05_03_2020/M4_Results/Crops\n",
      "Created zip file: /home/veit/PIScO_dev/Segmentation_results/PISCO_KOSMOS_2020_Peru/TempResults/05_03_2020/M4_Results/EcoTaxa/crops_part1_upload.zip\n",
      "Created zip file: /home/veit/PIScO_dev/Segmentation_results/PISCO_KOSMOS_2020_Peru/TempResults/05_03_2020/M4_Results/EcoTaxa/crops_part2_upload.zip\n",
      "Created zip file: /home/veit/PIScO_dev/Segmentation_results/PISCO_KOSMOS_2020_Peru/TempResults/05_03_2020/M4_Results/EcoTaxa/crops_part3_upload.zip\n",
      "Processing 2 groups for /home/veit/PIScO_dev/Segmentation_results/PISCO_KOSMOS_2020_Peru/TempResults/05_03_2020/M4_Results/Deconv_crops\n",
      "Created zip file: /home/veit/PIScO_dev/Segmentation_results/PISCO_KOSMOS_2020_Peru/TempResults/05_03_2020/M4_Results/EcoTaxa/deconv_crops_part1_upload.zip\n",
      "Created zip file: /home/veit/PIScO_dev/Segmentation_results/PISCO_KOSMOS_2020_Peru/TempResults/05_03_2020/M4_Results/EcoTaxa/deconv_crops_part2_upload.zip\n",
      "M1_PISCO.csv\n",
      "M8\n"
     ]
    },
    {
     "name": "stderr",
     "output_type": "stream",
     "text": [
      "100%|██████████| 325/325 [00:11<00:00, 29.23it/s]\n"
     ]
    },
    {
     "name": "stdout",
     "output_type": "stream",
     "text": [
      "325\n"
     ]
    },
    {
     "name": "stderr",
     "output_type": "stream",
     "text": [
      "2025-06-12 16:54:07,128 - crop_df created\n"
     ]
    },
    {
     "name": "stdout",
     "output_type": "stream",
     "text": [
      "0 files were empty and were dropped; Number of uniue images: 325\n",
      "148382 particles found.\n",
      "No log directory provided, skipping log data.\n",
      "0 crops removed due to aspect ratio\n",
      "Processing 3 groups for /home/veit/PIScO_dev/Segmentation_results/PISCO_KOSMOS_2020_Peru/TempResults/05_03_2020/M8_Results/Crops\n",
      "Created zip file: /home/veit/PIScO_dev/Segmentation_results/PISCO_KOSMOS_2020_Peru/TempResults/05_03_2020/M8_Results/EcoTaxa/crops_part1_upload.zip\n",
      "Created zip file: /home/veit/PIScO_dev/Segmentation_results/PISCO_KOSMOS_2020_Peru/TempResults/05_03_2020/M8_Results/EcoTaxa/crops_part2_upload.zip\n",
      "Created zip file: /home/veit/PIScO_dev/Segmentation_results/PISCO_KOSMOS_2020_Peru/TempResults/05_03_2020/M8_Results/EcoTaxa/crops_part3_upload.zip\n",
      "Processing 2 groups for /home/veit/PIScO_dev/Segmentation_results/PISCO_KOSMOS_2020_Peru/TempResults/05_03_2020/M8_Results/Deconv_crops\n",
      "Created zip file: /home/veit/PIScO_dev/Segmentation_results/PISCO_KOSMOS_2020_Peru/TempResults/05_03_2020/M8_Results/EcoTaxa/deconv_crops_part1_upload.zip\n",
      "Created zip file: /home/veit/PIScO_dev/Segmentation_results/PISCO_KOSMOS_2020_Peru/TempResults/05_03_2020/M8_Results/EcoTaxa/deconv_crops_part2_upload.zip\n",
      ".DS_Store\n",
      "28_02_2020\n",
      "M2\n"
     ]
    },
    {
     "name": "stderr",
     "output_type": "stream",
     "text": [
      "100%|██████████| 395/395 [00:03<00:00, 101.74it/s]\n"
     ]
    },
    {
     "name": "stdout",
     "output_type": "stream",
     "text": [
      "395\n"
     ]
    },
    {
     "name": "stderr",
     "output_type": "stream",
     "text": [
      "2025-06-12 16:57:24,238 - crop_df created\n"
     ]
    },
    {
     "name": "stdout",
     "output_type": "stream",
     "text": [
      "0 files were empty and were dropped; Number of uniue images: 395\n",
      "92912 particles found.\n",
      "No log directory provided, skipping log data.\n",
      "0 crops removed due to aspect ratio\n",
      "Processing 3 groups for /home/veit/PIScO_dev/Segmentation_results/PISCO_KOSMOS_2020_Peru/TempResults/28_02_2020/M2_Results/Crops\n",
      "Created zip file: /home/veit/PIScO_dev/Segmentation_results/PISCO_KOSMOS_2020_Peru/TempResults/28_02_2020/M2_Results/EcoTaxa/crops_part1_upload.zip\n",
      "Created zip file: /home/veit/PIScO_dev/Segmentation_results/PISCO_KOSMOS_2020_Peru/TempResults/28_02_2020/M2_Results/EcoTaxa/crops_part2_upload.zip\n",
      "Created zip file: /home/veit/PIScO_dev/Segmentation_results/PISCO_KOSMOS_2020_Peru/TempResults/28_02_2020/M2_Results/EcoTaxa/crops_part3_upload.zip\n",
      "Processing 2 groups for /home/veit/PIScO_dev/Segmentation_results/PISCO_KOSMOS_2020_Peru/TempResults/28_02_2020/M2_Results/Deconv_crops\n",
      "Created zip file: /home/veit/PIScO_dev/Segmentation_results/PISCO_KOSMOS_2020_Peru/TempResults/28_02_2020/M2_Results/EcoTaxa/deconv_crops_part1_upload.zip\n",
      "Created zip file: /home/veit/PIScO_dev/Segmentation_results/PISCO_KOSMOS_2020_Peru/TempResults/28_02_2020/M2_Results/EcoTaxa/deconv_crops_part2_upload.zip\n",
      "M1\n"
     ]
    },
    {
     "name": "stderr",
     "output_type": "stream",
     "text": [
      "100%|██████████| 557/557 [00:03<00:00, 159.56it/s]\n"
     ]
    },
    {
     "name": "stdout",
     "output_type": "stream",
     "text": [
      "557\n"
     ]
    },
    {
     "name": "stderr",
     "output_type": "stream",
     "text": [
      "2025-06-12 16:59:38,731 - crop_df created\n"
     ]
    },
    {
     "name": "stdout",
     "output_type": "stream",
     "text": [
      "0 files were empty and were dropped; Number of uniue images: 557\n",
      "71511 particles found.\n",
      "No log directory provided, skipping log data.\n",
      "0 crops removed due to aspect ratio\n",
      "Processing 5 groups for /home/veit/PIScO_dev/Segmentation_results/PISCO_KOSMOS_2020_Peru/TempResults/28_02_2020/M1_Results/Crops\n",
      "Created zip file: /home/veit/PIScO_dev/Segmentation_results/PISCO_KOSMOS_2020_Peru/TempResults/28_02_2020/M1_Results/EcoTaxa/crops_part1_upload.zip\n",
      "Created zip file: /home/veit/PIScO_dev/Segmentation_results/PISCO_KOSMOS_2020_Peru/TempResults/28_02_2020/M1_Results/EcoTaxa/crops_part2_upload.zip\n",
      "Created zip file: /home/veit/PIScO_dev/Segmentation_results/PISCO_KOSMOS_2020_Peru/TempResults/28_02_2020/M1_Results/EcoTaxa/crops_part3_upload.zip\n",
      "Created zip file: /home/veit/PIScO_dev/Segmentation_results/PISCO_KOSMOS_2020_Peru/TempResults/28_02_2020/M1_Results/EcoTaxa/crops_part4_upload.zip\n",
      "Created zip file: /home/veit/PIScO_dev/Segmentation_results/PISCO_KOSMOS_2020_Peru/TempResults/28_02_2020/M1_Results/EcoTaxa/crops_part5_upload.zip\n",
      "Processing 4 groups for /home/veit/PIScO_dev/Segmentation_results/PISCO_KOSMOS_2020_Peru/TempResults/28_02_2020/M1_Results/Deconv_crops\n",
      "Created zip file: /home/veit/PIScO_dev/Segmentation_results/PISCO_KOSMOS_2020_Peru/TempResults/28_02_2020/M1_Results/EcoTaxa/deconv_crops_part1_upload.zip\n",
      "Created zip file: /home/veit/PIScO_dev/Segmentation_results/PISCO_KOSMOS_2020_Peru/TempResults/28_02_2020/M1_Results/EcoTaxa/deconv_crops_part2_upload.zip\n",
      "Created zip file: /home/veit/PIScO_dev/Segmentation_results/PISCO_KOSMOS_2020_Peru/TempResults/28_02_2020/M1_Results/EcoTaxa/deconv_crops_part3_upload.zip\n",
      "Created zip file: /home/veit/PIScO_dev/Segmentation_results/PISCO_KOSMOS_2020_Peru/TempResults/28_02_2020/M1_Results/EcoTaxa/deconv_crops_part4_upload.zip\n",
      "._.DS_Store\n",
      ".DS_Store\n",
      "M3\n"
     ]
    },
    {
     "name": "stderr",
     "output_type": "stream",
     "text": [
      "100%|██████████| 347/347 [00:03<00:00, 88.08it/s] \n"
     ]
    },
    {
     "name": "stdout",
     "output_type": "stream",
     "text": [
      "347\n"
     ]
    },
    {
     "name": "stderr",
     "output_type": "stream",
     "text": [
      "2025-06-12 17:02:09,070 - crop_df created\n"
     ]
    },
    {
     "name": "stdout",
     "output_type": "stream",
     "text": [
      "0 files were empty and were dropped; Number of uniue images: 347\n",
      "38276 particles found.\n",
      "No log directory provided, skipping log data.\n",
      "0 crops removed due to aspect ratio\n",
      "Processing 3 groups for /home/veit/PIScO_dev/Segmentation_results/PISCO_KOSMOS_2020_Peru/TempResults/28_02_2020/M3_Results/Crops\n",
      "Created zip file: /home/veit/PIScO_dev/Segmentation_results/PISCO_KOSMOS_2020_Peru/TempResults/28_02_2020/M3_Results/EcoTaxa/crops_part1_upload.zip\n",
      "Created zip file: /home/veit/PIScO_dev/Segmentation_results/PISCO_KOSMOS_2020_Peru/TempResults/28_02_2020/M3_Results/EcoTaxa/crops_part2_upload.zip\n",
      "Created zip file: /home/veit/PIScO_dev/Segmentation_results/PISCO_KOSMOS_2020_Peru/TempResults/28_02_2020/M3_Results/EcoTaxa/crops_part3_upload.zip\n",
      "Processing 3 groups for /home/veit/PIScO_dev/Segmentation_results/PISCO_KOSMOS_2020_Peru/TempResults/28_02_2020/M3_Results/Deconv_crops\n",
      "Created zip file: /home/veit/PIScO_dev/Segmentation_results/PISCO_KOSMOS_2020_Peru/TempResults/28_02_2020/M3_Results/EcoTaxa/deconv_crops_part1_upload.zip\n",
      "Created zip file: /home/veit/PIScO_dev/Segmentation_results/PISCO_KOSMOS_2020_Peru/TempResults/28_02_2020/M3_Results/EcoTaxa/deconv_crops_part2_upload.zip\n",
      "Created zip file: /home/veit/PIScO_dev/Segmentation_results/PISCO_KOSMOS_2020_Peru/TempResults/28_02_2020/M3_Results/EcoTaxa/deconv_crops_part3_upload.zip\n",
      "order.txt\n",
      "M3_PISCO.csv\n",
      "M2_PISCO.csv\n",
      "Mesokosmen.txt\n",
      "._order.txt\n",
      "M1_PISCO.csv\n",
      "13_03_2020\n",
      "._.DS_StoreM1\n",
      "PA_PISCO.csv\n",
      "M2\n"
     ]
    },
    {
     "name": "stderr",
     "output_type": "stream",
     "text": [
      "100%|██████████| 397/397 [00:19<00:00, 20.71it/s]\n"
     ]
    },
    {
     "name": "stdout",
     "output_type": "stream",
     "text": [
      "397\n"
     ]
    },
    {
     "name": "stderr",
     "output_type": "stream",
     "text": [
      "2025-06-12 17:04:14,707 - crop_df created\n"
     ]
    },
    {
     "name": "stdout",
     "output_type": "stream",
     "text": [
      "0 files were empty and were dropped; Number of uniue images: 397\n",
      "174502 particles found.\n",
      "No log directory provided, skipping log data.\n",
      "0 crops removed due to aspect ratio\n",
      "Processing 2 groups for /home/veit/PIScO_dev/Segmentation_results/PISCO_KOSMOS_2020_Peru/TempResults/13_03_2020/M2_Results/Crops\n",
      "Created zip file: /home/veit/PIScO_dev/Segmentation_results/PISCO_KOSMOS_2020_Peru/TempResults/13_03_2020/M2_Results/EcoTaxa/crops_part1_upload.zip\n",
      "Created zip file: /home/veit/PIScO_dev/Segmentation_results/PISCO_KOSMOS_2020_Peru/TempResults/13_03_2020/M2_Results/EcoTaxa/crops_part2_upload.zip\n",
      "Processing 1 groups for /home/veit/PIScO_dev/Segmentation_results/PISCO_KOSMOS_2020_Peru/TempResults/13_03_2020/M2_Results/Deconv_crops\n",
      "Created zip file: /home/veit/PIScO_dev/Segmentation_results/PISCO_KOSMOS_2020_Peru/TempResults/13_03_2020/M2_Results/EcoTaxa/deconv_crops.zip\n",
      "M1\n"
     ]
    },
    {
     "name": "stderr",
     "output_type": "stream",
     "text": [
      "100%|██████████| 477/477 [00:21<00:00, 22.20it/s]\n"
     ]
    },
    {
     "name": "stdout",
     "output_type": "stream",
     "text": [
      "477\n"
     ]
    },
    {
     "name": "stderr",
     "output_type": "stream",
     "text": [
      "2025-06-12 17:07:32,326 - crop_df created\n"
     ]
    },
    {
     "name": "stdout",
     "output_type": "stream",
     "text": [
      "0 files were empty and were dropped; Number of uniue images: 477\n",
      "363045 particles found.\n",
      "No log directory provided, skipping log data.\n",
      "0 crops removed due to aspect ratio\n",
      "Processing 4 groups for /home/veit/PIScO_dev/Segmentation_results/PISCO_KOSMOS_2020_Peru/TempResults/13_03_2020/M1_Results/Crops\n",
      "Created zip file: /home/veit/PIScO_dev/Segmentation_results/PISCO_KOSMOS_2020_Peru/TempResults/13_03_2020/M1_Results/EcoTaxa/crops_part1_upload.zip\n",
      "Created zip file: /home/veit/PIScO_dev/Segmentation_results/PISCO_KOSMOS_2020_Peru/TempResults/13_03_2020/M1_Results/EcoTaxa/crops_part2_upload.zip\n",
      "Created zip file: /home/veit/PIScO_dev/Segmentation_results/PISCO_KOSMOS_2020_Peru/TempResults/13_03_2020/M1_Results/EcoTaxa/crops_part3_upload.zip\n",
      "Created zip file: /home/veit/PIScO_dev/Segmentation_results/PISCO_KOSMOS_2020_Peru/TempResults/13_03_2020/M1_Results/EcoTaxa/crops_part4_upload.zip\n",
      "Processing 2 groups for /home/veit/PIScO_dev/Segmentation_results/PISCO_KOSMOS_2020_Peru/TempResults/13_03_2020/M1_Results/Deconv_crops\n",
      "Created zip file: /home/veit/PIScO_dev/Segmentation_results/PISCO_KOSMOS_2020_Peru/TempResults/13_03_2020/M1_Results/EcoTaxa/deconv_crops_part1_upload.zip\n",
      "Created zip file: /home/veit/PIScO_dev/Segmentation_results/PISCO_KOSMOS_2020_Peru/TempResults/13_03_2020/M1_Results/EcoTaxa/deconv_crops_part2_upload.zip\n",
      "._.DS_Store\n",
      "M9_PISCO.csv\n",
      ".DS_StoreM1_PISCO.csv\n",
      ".DS_Store\n",
      "M3\n"
     ]
    },
    {
     "name": "stderr",
     "output_type": "stream",
     "text": [
      "100%|██████████| 332/332 [00:16<00:00, 19.93it/s]\n"
     ]
    },
    {
     "name": "stdout",
     "output_type": "stream",
     "text": [
      "332\n"
     ]
    },
    {
     "name": "stderr",
     "output_type": "stream",
     "text": [
      "2025-06-12 17:14:01,719 - crop_df created\n"
     ]
    },
    {
     "name": "stdout",
     "output_type": "stream",
     "text": [
      "0 files were empty and were dropped; Number of uniue images: 332\n",
      "210287 particles found.\n",
      "No log directory provided, skipping log data.\n",
      "0 crops removed due to aspect ratio\n",
      "Processing 2 groups for /home/veit/PIScO_dev/Segmentation_results/PISCO_KOSMOS_2020_Peru/TempResults/13_03_2020/M3_Results/Crops\n",
      "Created zip file: /home/veit/PIScO_dev/Segmentation_results/PISCO_KOSMOS_2020_Peru/TempResults/13_03_2020/M3_Results/EcoTaxa/crops_part1_upload.zip\n",
      "Created zip file: /home/veit/PIScO_dev/Segmentation_results/PISCO_KOSMOS_2020_Peru/TempResults/13_03_2020/M3_Results/EcoTaxa/crops_part2_upload.zip\n",
      "Processing 1 groups for /home/veit/PIScO_dev/Segmentation_results/PISCO_KOSMOS_2020_Peru/TempResults/13_03_2020/M3_Results/Deconv_crops\n",
      "Created zip file: /home/veit/PIScO_dev/Segmentation_results/PISCO_KOSMOS_2020_Peru/TempResults/13_03_2020/M3_Results/EcoTaxa/deconv_crops.zip\n",
      "M5_PISCO.csv\n",
      "M8_PISCO.csv\n",
      "M5\n"
     ]
    },
    {
     "name": "stderr",
     "output_type": "stream",
     "text": [
      "100%|██████████| 322/322 [00:21<00:00, 15.06it/s]\n"
     ]
    },
    {
     "name": "stdout",
     "output_type": "stream",
     "text": [
      "322\n"
     ]
    },
    {
     "name": "stderr",
     "output_type": "stream",
     "text": [
      "2025-06-12 17:19:01,250 - crop_df created\n"
     ]
    },
    {
     "name": "stdout",
     "output_type": "stream",
     "text": [
      "0 files were empty and were dropped; Number of uniue images: 322\n",
      "210069 particles found.\n",
      "No log directory provided, skipping log data.\n",
      "0 crops removed due to aspect ratio\n",
      "Processing 2 groups for /home/veit/PIScO_dev/Segmentation_results/PISCO_KOSMOS_2020_Peru/TempResults/13_03_2020/M5_Results/Crops\n",
      "Created zip file: /home/veit/PIScO_dev/Segmentation_results/PISCO_KOSMOS_2020_Peru/TempResults/13_03_2020/M5_Results/EcoTaxa/crops_part1_upload.zip\n",
      "Created zip file: /home/veit/PIScO_dev/Segmentation_results/PISCO_KOSMOS_2020_Peru/TempResults/13_03_2020/M5_Results/EcoTaxa/crops_part2_upload.zip\n",
      "Processing 1 groups for /home/veit/PIScO_dev/Segmentation_results/PISCO_KOSMOS_2020_Peru/TempResults/13_03_2020/M5_Results/Deconv_crops\n",
      "Created zip file: /home/veit/PIScO_dev/Segmentation_results/PISCO_KOSMOS_2020_Peru/TempResults/13_03_2020/M5_Results/EcoTaxa/deconv_crops.zip\n",
      "M7_PISCO.csv\n",
      "order.txt\n",
      "M3_PISCO.csv\n",
      "M9\n"
     ]
    },
    {
     "name": "stderr",
     "output_type": "stream",
     "text": [
      "100%|██████████| 575/575 [00:21<00:00, 26.46it/s]\n"
     ]
    },
    {
     "name": "stdout",
     "output_type": "stream",
     "text": [
      "575\n"
     ]
    },
    {
     "name": "stderr",
     "output_type": "stream",
     "text": [
      "2025-06-12 17:23:02,547 - crop_df created\n"
     ]
    },
    {
     "name": "stdout",
     "output_type": "stream",
     "text": [
      "0 files were empty and were dropped; Number of uniue images: 575\n",
      "104515 particles found.\n",
      "No log directory provided, skipping log data.\n",
      "0 crops removed due to aspect ratio\n",
      "Processing 1 groups for /home/veit/PIScO_dev/Segmentation_results/PISCO_KOSMOS_2020_Peru/TempResults/13_03_2020/M9_Results/Crops\n",
      "Created zip file: /home/veit/PIScO_dev/Segmentation_results/PISCO_KOSMOS_2020_Peru/TempResults/13_03_2020/M9_Results/EcoTaxa/crops.zip\n",
      "Processing 1 groups for /home/veit/PIScO_dev/Segmentation_results/PISCO_KOSMOS_2020_Peru/TempResults/13_03_2020/M9_Results/Deconv_crops\n",
      "Created zip file: /home/veit/PIScO_dev/Segmentation_results/PISCO_KOSMOS_2020_Peru/TempResults/13_03_2020/M9_Results/EcoTaxa/deconv_crops.zip\n",
      ".DS_StoreM1\n",
      "M2_PISCO.csv\n",
      "PA\n"
     ]
    },
    {
     "name": "stderr",
     "output_type": "stream",
     "text": [
      "100%|██████████| 688/688 [00:19<00:00, 35.35it/s]\n"
     ]
    },
    {
     "name": "stdout",
     "output_type": "stream",
     "text": [
      "688\n"
     ]
    },
    {
     "name": "stderr",
     "output_type": "stream",
     "text": [
      "2025-06-12 17:25:39,974 - crop_df created\n"
     ]
    },
    {
     "name": "stdout",
     "output_type": "stream",
     "text": [
      "0 files were empty and were dropped; Number of uniue images: 688\n",
      "146965 particles found.\n",
      "No log directory provided, skipping log data.\n",
      "0 crops removed due to aspect ratio\n",
      "Processing 1 groups for /home/veit/PIScO_dev/Segmentation_results/PISCO_KOSMOS_2020_Peru/TempResults/13_03_2020/PA_Results/Crops\n",
      "Created zip file: /home/veit/PIScO_dev/Segmentation_results/PISCO_KOSMOS_2020_Peru/TempResults/13_03_2020/PA_Results/EcoTaxa/crops.zip\n",
      "Processing 1 groups for /home/veit/PIScO_dev/Segmentation_results/PISCO_KOSMOS_2020_Peru/TempResults/13_03_2020/PA_Results/Deconv_crops\n",
      "Created zip file: /home/veit/PIScO_dev/Segmentation_results/PISCO_KOSMOS_2020_Peru/TempResults/13_03_2020/PA_Results/EcoTaxa/deconv_crops.zip\n",
      "M6_PISCO.csv\n",
      "M4_PISCO.csv\n",
      "M7\n"
     ]
    },
    {
     "name": "stderr",
     "output_type": "stream",
     "text": [
      "100%|██████████| 497/497 [00:26<00:00, 18.68it/s]\n"
     ]
    },
    {
     "name": "stdout",
     "output_type": "stream",
     "text": [
      "497\n"
     ]
    },
    {
     "name": "stderr",
     "output_type": "stream",
     "text": [
      "2025-06-12 17:28:49,413 - crop_df created\n"
     ]
    },
    {
     "name": "stdout",
     "output_type": "stream",
     "text": [
      "0 files were empty and were dropped; Number of uniue images: 497\n",
      "347581 particles found.\n",
      "No log directory provided, skipping log data.\n",
      "0 crops removed due to aspect ratio\n",
      "Processing 4 groups for /home/veit/PIScO_dev/Segmentation_results/PISCO_KOSMOS_2020_Peru/TempResults/13_03_2020/M7_Results/Crops\n",
      "Created zip file: /home/veit/PIScO_dev/Segmentation_results/PISCO_KOSMOS_2020_Peru/TempResults/13_03_2020/M7_Results/EcoTaxa/crops_part1_upload.zip\n",
      "Created zip file: /home/veit/PIScO_dev/Segmentation_results/PISCO_KOSMOS_2020_Peru/TempResults/13_03_2020/M7_Results/EcoTaxa/crops_part2_upload.zip\n",
      "Created zip file: /home/veit/PIScO_dev/Segmentation_results/PISCO_KOSMOS_2020_Peru/TempResults/13_03_2020/M7_Results/EcoTaxa/crops_part3_upload.zip\n",
      "Created zip file: /home/veit/PIScO_dev/Segmentation_results/PISCO_KOSMOS_2020_Peru/TempResults/13_03_2020/M7_Results/EcoTaxa/crops_part4_upload.zip\n",
      "Processing 2 groups for /home/veit/PIScO_dev/Segmentation_results/PISCO_KOSMOS_2020_Peru/TempResults/13_03_2020/M7_Results/Deconv_crops\n",
      "Created zip file: /home/veit/PIScO_dev/Segmentation_results/PISCO_KOSMOS_2020_Peru/TempResults/13_03_2020/M7_Results/EcoTaxa/deconv_crops_part1_upload.zip\n",
      "Created zip file: /home/veit/PIScO_dev/Segmentation_results/PISCO_KOSMOS_2020_Peru/TempResults/13_03_2020/M7_Results/EcoTaxa/deconv_crops_part2_upload.zip\n",
      "._order.txt\n",
      "M6\n"
     ]
    },
    {
     "name": "stderr",
     "output_type": "stream",
     "text": [
      "100%|██████████| 344/344 [00:19<00:00, 17.65it/s]\n"
     ]
    },
    {
     "name": "stdout",
     "output_type": "stream",
     "text": [
      "344\n"
     ]
    },
    {
     "name": "stderr",
     "output_type": "stream",
     "text": [
      "2025-06-12 17:38:27,155 - crop_df created\n"
     ]
    },
    {
     "name": "stdout",
     "output_type": "stream",
     "text": [
      "0 files were empty and were dropped; Number of uniue images: 344\n",
      "120505 particles found.\n",
      "No log directory provided, skipping log data.\n",
      "0 crops removed due to aspect ratio\n",
      "Processing 1 groups for /home/veit/PIScO_dev/Segmentation_results/PISCO_KOSMOS_2020_Peru/TempResults/13_03_2020/M6_Results/Crops\n",
      "Created zip file: /home/veit/PIScO_dev/Segmentation_results/PISCO_KOSMOS_2020_Peru/TempResults/13_03_2020/M6_Results/EcoTaxa/crops.zip\n",
      "Processing 1 groups for /home/veit/PIScO_dev/Segmentation_results/PISCO_KOSMOS_2020_Peru/TempResults/13_03_2020/M6_Results/Deconv_crops\n",
      "Created zip file: /home/veit/PIScO_dev/Segmentation_results/PISCO_KOSMOS_2020_Peru/TempResults/13_03_2020/M6_Results/EcoTaxa/deconv_crops.zip\n",
      "M4\n"
     ]
    },
    {
     "name": "stderr",
     "output_type": "stream",
     "text": [
      "100%|██████████| 294/294 [00:13<00:00, 21.01it/s]\n"
     ]
    },
    {
     "name": "stdout",
     "output_type": "stream",
     "text": [
      "294\n"
     ]
    },
    {
     "name": "stderr",
     "output_type": "stream",
     "text": [
      "2025-06-12 17:40:30,900 - crop_df created\n"
     ]
    },
    {
     "name": "stdout",
     "output_type": "stream",
     "text": [
      "0 files were empty and were dropped; Number of uniue images: 294\n",
      "103812 particles found.\n",
      "No log directory provided, skipping log data.\n",
      "0 crops removed due to aspect ratio\n",
      "Processing 1 groups for /home/veit/PIScO_dev/Segmentation_results/PISCO_KOSMOS_2020_Peru/TempResults/13_03_2020/M4_Results/Crops\n",
      "Created zip file: /home/veit/PIScO_dev/Segmentation_results/PISCO_KOSMOS_2020_Peru/TempResults/13_03_2020/M4_Results/EcoTaxa/crops.zip\n",
      "Processing 1 groups for /home/veit/PIScO_dev/Segmentation_results/PISCO_KOSMOS_2020_Peru/TempResults/13_03_2020/M4_Results/Deconv_crops\n",
      "Created zip file: /home/veit/PIScO_dev/Segmentation_results/PISCO_KOSMOS_2020_Peru/TempResults/13_03_2020/M4_Results/EcoTaxa/deconv_crops.zip\n",
      "M1_PISCO.csv\n",
      "M8\n"
     ]
    },
    {
     "name": "stderr",
     "output_type": "stream",
     "text": [
      "100%|██████████| 392/392 [00:17<00:00, 22.71it/s]\n"
     ]
    },
    {
     "name": "stdout",
     "output_type": "stream",
     "text": [
      "392\n"
     ]
    },
    {
     "name": "stderr",
     "output_type": "stream",
     "text": [
      "2025-06-12 17:42:50,954 - crop_df created\n"
     ]
    },
    {
     "name": "stdout",
     "output_type": "stream",
     "text": [
      "0 files were empty and were dropped; Number of uniue images: 392\n",
      "219301 particles found.\n",
      "No log directory provided, skipping log data.\n",
      "0 crops removed due to aspect ratio\n",
      "Processing 2 groups for /home/veit/PIScO_dev/Segmentation_results/PISCO_KOSMOS_2020_Peru/TempResults/13_03_2020/M8_Results/Crops\n",
      "Created zip file: /home/veit/PIScO_dev/Segmentation_results/PISCO_KOSMOS_2020_Peru/TempResults/13_03_2020/M8_Results/EcoTaxa/crops_part1_upload.zip\n",
      "Created zip file: /home/veit/PIScO_dev/Segmentation_results/PISCO_KOSMOS_2020_Peru/TempResults/13_03_2020/M8_Results/EcoTaxa/crops_part2_upload.zip\n",
      "Processing 1 groups for /home/veit/PIScO_dev/Segmentation_results/PISCO_KOSMOS_2020_Peru/TempResults/13_03_2020/M8_Results/Deconv_crops\n",
      "Created zip file: /home/veit/PIScO_dev/Segmentation_results/PISCO_KOSMOS_2020_Peru/TempResults/13_03_2020/M8_Results/EcoTaxa/deconv_crops.zip\n",
      "01_03_2020\n",
      "._.DS_StoreM1\n",
      "PA_PISCO.csv\n",
      "M2\n"
     ]
    },
    {
     "name": "stderr",
     "output_type": "stream",
     "text": [
      "100%|██████████| 396/396 [00:04<00:00, 96.91it/s] \n"
     ]
    },
    {
     "name": "stdout",
     "output_type": "stream",
     "text": [
      "396\n"
     ]
    },
    {
     "name": "stderr",
     "output_type": "stream",
     "text": [
      "2025-06-12 17:47:41,550 - crop_df created\n"
     ]
    },
    {
     "name": "stdout",
     "output_type": "stream",
     "text": [
      "0 files were empty and were dropped; Number of uniue images: 396\n",
      "35663 particles found.\n",
      "No log directory provided, skipping log data.\n",
      "0 crops removed due to aspect ratio\n",
      "Processing 4 groups for /home/veit/PIScO_dev/Segmentation_results/PISCO_KOSMOS_2020_Peru/TempResults/01_03_2020/M2_Results/Crops\n",
      "Created zip file: /home/veit/PIScO_dev/Segmentation_results/PISCO_KOSMOS_2020_Peru/TempResults/01_03_2020/M2_Results/EcoTaxa/crops_part1_upload.zip\n",
      "Created zip file: /home/veit/PIScO_dev/Segmentation_results/PISCO_KOSMOS_2020_Peru/TempResults/01_03_2020/M2_Results/EcoTaxa/crops_part2_upload.zip\n",
      "Created zip file: /home/veit/PIScO_dev/Segmentation_results/PISCO_KOSMOS_2020_Peru/TempResults/01_03_2020/M2_Results/EcoTaxa/crops_part3_upload.zip\n",
      "Created zip file: /home/veit/PIScO_dev/Segmentation_results/PISCO_KOSMOS_2020_Peru/TempResults/01_03_2020/M2_Results/EcoTaxa/crops_part4_upload.zip\n",
      "Processing 3 groups for /home/veit/PIScO_dev/Segmentation_results/PISCO_KOSMOS_2020_Peru/TempResults/01_03_2020/M2_Results/Deconv_crops\n",
      "Created zip file: /home/veit/PIScO_dev/Segmentation_results/PISCO_KOSMOS_2020_Peru/TempResults/01_03_2020/M2_Results/EcoTaxa/deconv_crops_part1_upload.zip\n",
      "Created zip file: /home/veit/PIScO_dev/Segmentation_results/PISCO_KOSMOS_2020_Peru/TempResults/01_03_2020/M2_Results/EcoTaxa/deconv_crops_part2_upload.zip\n",
      "Created zip file: /home/veit/PIScO_dev/Segmentation_results/PISCO_KOSMOS_2020_Peru/TempResults/01_03_2020/M2_Results/EcoTaxa/deconv_crops_part3_upload.zip\n",
      "M1\n"
     ]
    },
    {
     "name": "stderr",
     "output_type": "stream",
     "text": [
      "100%|██████████| 376/376 [00:05<00:00, 67.52it/s] \n"
     ]
    },
    {
     "name": "stdout",
     "output_type": "stream",
     "text": [
      "376\n"
     ]
    },
    {
     "name": "stderr",
     "output_type": "stream",
     "text": [
      "2025-06-12 17:49:45,063 - crop_df created\n"
     ]
    },
    {
     "name": "stdout",
     "output_type": "stream",
     "text": [
      "0 files were empty and were dropped; Number of uniue images: 376\n",
      "18208 particles found.\n",
      "No log directory provided, skipping log data.\n",
      "0 crops removed due to aspect ratio\n",
      "Processing 3 groups for /home/veit/PIScO_dev/Segmentation_results/PISCO_KOSMOS_2020_Peru/TempResults/01_03_2020/M1_Results/Crops\n",
      "Created zip file: /home/veit/PIScO_dev/Segmentation_results/PISCO_KOSMOS_2020_Peru/TempResults/01_03_2020/M1_Results/EcoTaxa/crops_part1_upload.zip\n",
      "Created zip file: /home/veit/PIScO_dev/Segmentation_results/PISCO_KOSMOS_2020_Peru/TempResults/01_03_2020/M1_Results/EcoTaxa/crops_part2_upload.zip\n",
      "Created zip file: /home/veit/PIScO_dev/Segmentation_results/PISCO_KOSMOS_2020_Peru/TempResults/01_03_2020/M1_Results/EcoTaxa/crops_part3_upload.zip\n",
      "Processing 3 groups for /home/veit/PIScO_dev/Segmentation_results/PISCO_KOSMOS_2020_Peru/TempResults/01_03_2020/M1_Results/Deconv_crops\n",
      "Created zip file: /home/veit/PIScO_dev/Segmentation_results/PISCO_KOSMOS_2020_Peru/TempResults/01_03_2020/M1_Results/EcoTaxa/deconv_crops_part1_upload.zip\n",
      "Created zip file: /home/veit/PIScO_dev/Segmentation_results/PISCO_KOSMOS_2020_Peru/TempResults/01_03_2020/M1_Results/EcoTaxa/deconv_crops_part2_upload.zip\n",
      "Created zip file: /home/veit/PIScO_dev/Segmentation_results/PISCO_KOSMOS_2020_Peru/TempResults/01_03_2020/M1_Results/EcoTaxa/deconv_crops_part3_upload.zip\n",
      "._.DS_Store\n",
      "M9_PISCO.csv\n",
      ".DS_StoreM1_PISCO.csv\n",
      ".DS_Store\n",
      "M3\n"
     ]
    },
    {
     "name": "stderr",
     "output_type": "stream",
     "text": [
      "100%|██████████| 336/336 [00:04<00:00, 70.80it/s] \n"
     ]
    },
    {
     "name": "stdout",
     "output_type": "stream",
     "text": [
      "336\n"
     ]
    },
    {
     "name": "stderr",
     "output_type": "stream",
     "text": [
      "2025-06-12 17:51:33,751 - crop_df created\n"
     ]
    },
    {
     "name": "stdout",
     "output_type": "stream",
     "text": [
      "0 files were empty and were dropped; Number of uniue images: 336\n",
      "56511 particles found.\n",
      "No log directory provided, skipping log data.\n",
      "0 crops removed due to aspect ratio\n",
      "Processing 4 groups for /home/veit/PIScO_dev/Segmentation_results/PISCO_KOSMOS_2020_Peru/TempResults/01_03_2020/M3_Results/Crops\n",
      "Created zip file: /home/veit/PIScO_dev/Segmentation_results/PISCO_KOSMOS_2020_Peru/TempResults/01_03_2020/M3_Results/EcoTaxa/crops_part1_upload.zip\n",
      "Created zip file: /home/veit/PIScO_dev/Segmentation_results/PISCO_KOSMOS_2020_Peru/TempResults/01_03_2020/M3_Results/EcoTaxa/crops_part2_upload.zip\n",
      "Created zip file: /home/veit/PIScO_dev/Segmentation_results/PISCO_KOSMOS_2020_Peru/TempResults/01_03_2020/M3_Results/EcoTaxa/crops_part3_upload.zip\n",
      "Created zip file: /home/veit/PIScO_dev/Segmentation_results/PISCO_KOSMOS_2020_Peru/TempResults/01_03_2020/M3_Results/EcoTaxa/crops_part4_upload.zip\n",
      "Processing 3 groups for /home/veit/PIScO_dev/Segmentation_results/PISCO_KOSMOS_2020_Peru/TempResults/01_03_2020/M3_Results/Deconv_crops\n",
      "Created zip file: /home/veit/PIScO_dev/Segmentation_results/PISCO_KOSMOS_2020_Peru/TempResults/01_03_2020/M3_Results/EcoTaxa/deconv_crops_part1_upload.zip\n",
      "Created zip file: /home/veit/PIScO_dev/Segmentation_results/PISCO_KOSMOS_2020_Peru/TempResults/01_03_2020/M3_Results/EcoTaxa/deconv_crops_part2_upload.zip\n",
      "Created zip file: /home/veit/PIScO_dev/Segmentation_results/PISCO_KOSMOS_2020_Peru/TempResults/01_03_2020/M3_Results/EcoTaxa/deconv_crops_part3_upload.zip\n",
      "M5_PISCO.csv\n",
      "M8_PISCO.csv\n",
      "M5\n"
     ]
    },
    {
     "name": "stderr",
     "output_type": "stream",
     "text": [
      "100%|██████████| 256/256 [00:02<00:00, 105.44it/s]\n",
      "2025-06-12 17:54:05,180 - crop_df created\n"
     ]
    },
    {
     "name": "stdout",
     "output_type": "stream",
     "text": [
      "256\n",
      "0 files were empty and were dropped; Number of uniue images: 256\n",
      "6585 particles found.\n",
      "No log directory provided, skipping log data.\n",
      "0 crops removed due to aspect ratio\n",
      "Processing 2 groups for /home/veit/PIScO_dev/Segmentation_results/PISCO_KOSMOS_2020_Peru/TempResults/01_03_2020/M5_Results/Crops\n",
      "Created zip file: /home/veit/PIScO_dev/Segmentation_results/PISCO_KOSMOS_2020_Peru/TempResults/01_03_2020/M5_Results/EcoTaxa/crops_part1_upload.zip\n",
      "Created zip file: /home/veit/PIScO_dev/Segmentation_results/PISCO_KOSMOS_2020_Peru/TempResults/01_03_2020/M5_Results/EcoTaxa/crops_part2_upload.zip\n",
      "Processing 2 groups for /home/veit/PIScO_dev/Segmentation_results/PISCO_KOSMOS_2020_Peru/TempResults/01_03_2020/M5_Results/Deconv_crops\n",
      "Created zip file: /home/veit/PIScO_dev/Segmentation_results/PISCO_KOSMOS_2020_Peru/TempResults/01_03_2020/M5_Results/EcoTaxa/deconv_crops_part1_upload.zip\n",
      "Created zip file: /home/veit/PIScO_dev/Segmentation_results/PISCO_KOSMOS_2020_Peru/TempResults/01_03_2020/M5_Results/EcoTaxa/deconv_crops_part2_upload.zip\n",
      "M7_PISCO.csv\n",
      "order.txt\n",
      "M3_PISCO.csv\n",
      "M9\n"
     ]
    },
    {
     "name": "stderr",
     "output_type": "stream",
     "text": [
      "100%|██████████| 320/320 [00:02<00:00, 122.30it/s]\n",
      "2025-06-12 17:55:14,001 - crop_df created\n"
     ]
    },
    {
     "name": "stdout",
     "output_type": "stream",
     "text": [
      "320\n",
      "0 files were empty and were dropped; Number of uniue images: 320\n",
      "5235 particles found.\n",
      "No log directory provided, skipping log data.\n",
      "0 crops removed due to aspect ratio\n",
      "Processing 3 groups for /home/veit/PIScO_dev/Segmentation_results/PISCO_KOSMOS_2020_Peru/TempResults/01_03_2020/M9_Results/Crops\n",
      "Created zip file: /home/veit/PIScO_dev/Segmentation_results/PISCO_KOSMOS_2020_Peru/TempResults/01_03_2020/M9_Results/EcoTaxa/crops_part1_upload.zip\n",
      "Created zip file: /home/veit/PIScO_dev/Segmentation_results/PISCO_KOSMOS_2020_Peru/TempResults/01_03_2020/M9_Results/EcoTaxa/crops_part2_upload.zip\n",
      "Created zip file: /home/veit/PIScO_dev/Segmentation_results/PISCO_KOSMOS_2020_Peru/TempResults/01_03_2020/M9_Results/EcoTaxa/crops_part3_upload.zip\n",
      "Processing 3 groups for /home/veit/PIScO_dev/Segmentation_results/PISCO_KOSMOS_2020_Peru/TempResults/01_03_2020/M9_Results/Deconv_crops\n"
     ]
    },
    {
     "ename": "OSError",
     "evalue": "[Errno 28] No space left on device",
     "output_type": "error",
     "traceback": [
      "\u001b[31m---------------------------------------------------------------------------\u001b[39m",
      "\u001b[31mOSError\u001b[39m                                   Traceback (most recent call last)",
      "\u001b[36mFile \u001b[39m\u001b[32m~/miniconda3/lib/python3.13/zipfile/__init__.py:1900\u001b[39m, in \u001b[36mZipFile.write\u001b[39m\u001b[34m(self, filename, arcname, compress_type, compresslevel)\u001b[39m\n\u001b[32m   1899\u001b[39m \u001b[38;5;28;01mwith\u001b[39;00m \u001b[38;5;28mopen\u001b[39m(filename, \u001b[33m\"\u001b[39m\u001b[33mrb\u001b[39m\u001b[33m\"\u001b[39m) \u001b[38;5;28;01mas\u001b[39;00m src, \u001b[38;5;28mself\u001b[39m.open(zinfo, \u001b[33m'\u001b[39m\u001b[33mw\u001b[39m\u001b[33m'\u001b[39m) \u001b[38;5;28;01mas\u001b[39;00m dest:\n\u001b[32m-> \u001b[39m\u001b[32m1900\u001b[39m     \u001b[43mshutil\u001b[49m\u001b[43m.\u001b[49m\u001b[43mcopyfileobj\u001b[49m\u001b[43m(\u001b[49m\u001b[43msrc\u001b[49m\u001b[43m,\u001b[49m\u001b[43m \u001b[49m\u001b[43mdest\u001b[49m\u001b[43m,\u001b[49m\u001b[43m \u001b[49m\u001b[32;43m1024\u001b[39;49m\u001b[43m*\u001b[49m\u001b[32;43m8\u001b[39;49m\u001b[43m)\u001b[49m\n",
      "\u001b[36mFile \u001b[39m\u001b[32m~/miniconda3/lib/python3.13/shutil.py:204\u001b[39m, in \u001b[36mcopyfileobj\u001b[39m\u001b[34m(fsrc, fdst, length)\u001b[39m\n\u001b[32m    203\u001b[39m \u001b[38;5;28;01mwhile\u001b[39;00m buf := fsrc_read(length):\n\u001b[32m--> \u001b[39m\u001b[32m204\u001b[39m     \u001b[43mfdst_write\u001b[49m\u001b[43m(\u001b[49m\u001b[43mbuf\u001b[49m\u001b[43m)\u001b[49m\n",
      "\u001b[36mFile \u001b[39m\u001b[32m~/miniconda3/lib/python3.13/zipfile/__init__.py:1252\u001b[39m, in \u001b[36m_ZipWriteFile.write\u001b[39m\u001b[34m(self, data)\u001b[39m\n\u001b[32m   1251\u001b[39m     \u001b[38;5;28mself\u001b[39m._compress_size += \u001b[38;5;28mlen\u001b[39m(data)\n\u001b[32m-> \u001b[39m\u001b[32m1252\u001b[39m \u001b[38;5;28;43mself\u001b[39;49m\u001b[43m.\u001b[49m\u001b[43m_fileobj\u001b[49m\u001b[43m.\u001b[49m\u001b[43mwrite\u001b[49m\u001b[43m(\u001b[49m\u001b[43mdata\u001b[49m\u001b[43m)\u001b[49m\n\u001b[32m   1253\u001b[39m \u001b[38;5;28;01mreturn\u001b[39;00m nbytes\n",
      "\u001b[31mOSError\u001b[39m: [Errno 28] No space left on device",
      "\nDuring handling of the above exception, another exception occurred:\n",
      "\u001b[31mOSError\u001b[39m                                   Traceback (most recent call last)",
      "\u001b[36mFile \u001b[39m\u001b[32m~/PIScO_dev/ImageProcessing/analyze_profiles_seavision.py:1631\u001b[39m, in \u001b[36mcreate_ecotaxa_zips\u001b[39m\u001b[34m(output_folder, df, profile_name, max_zip_size_mb, compression_ratio, copy_images, add_scale_bar_to_deconv, pixel_resolution, scale_length_mm)\u001b[39m\n\u001b[32m   1630\u001b[39m             arcname = os.path.relpath(file_path, part_folder)\n\u001b[32m-> \u001b[39m\u001b[32m1631\u001b[39m             \u001b[43mzipf\u001b[49m\u001b[43m.\u001b[49m\u001b[43mwrite\u001b[49m\u001b[43m(\u001b[49m\u001b[43mfile_path\u001b[49m\u001b[43m,\u001b[49m\u001b[43m \u001b[49m\u001b[43marcname\u001b[49m\u001b[43m)\u001b[49m\n\u001b[32m   1633\u001b[39m \u001b[38;5;28mprint\u001b[39m(\u001b[33mf\u001b[39m\u001b[33m\"\u001b[39m\u001b[33mCreated zip file: \u001b[39m\u001b[38;5;132;01m{\u001b[39;00mzip_path\u001b[38;5;132;01m}\u001b[39;00m\u001b[33m\"\u001b[39m)\n",
      "\u001b[36mFile \u001b[39m\u001b[32m~/miniconda3/lib/python3.13/zipfile/__init__.py:1899\u001b[39m, in \u001b[36mZipFile.write\u001b[39m\u001b[34m(self, filename, arcname, compress_type, compresslevel)\u001b[39m\n\u001b[32m   1897\u001b[39m     zinfo.compress_level = \u001b[38;5;28mself\u001b[39m.compresslevel\n\u001b[32m-> \u001b[39m\u001b[32m1899\u001b[39m \u001b[38;5;28;01mwith\u001b[39;00m \u001b[38;5;28mopen\u001b[39m(filename, \u001b[33m\"\u001b[39m\u001b[33mrb\u001b[39m\u001b[33m\"\u001b[39m) \u001b[38;5;28;01mas\u001b[39;00m src, \u001b[38;5;28mself\u001b[39m.open(zinfo, \u001b[33m'\u001b[39m\u001b[33mw\u001b[39m\u001b[33m'\u001b[39m) \u001b[38;5;28;01mas\u001b[39;00m dest:\n\u001b[32m   1900\u001b[39m     shutil.copyfileobj(src, dest, \u001b[32m1024\u001b[39m*\u001b[32m8\u001b[39m)\n",
      "\u001b[36mFile \u001b[39m\u001b[32m~/miniconda3/lib/python3.13/zipfile/__init__.py:1264\u001b[39m, in \u001b[36m_ZipWriteFile.close\u001b[39m\u001b[34m(self)\u001b[39m\n\u001b[32m   1263\u001b[39m \u001b[38;5;28mself\u001b[39m._compress_size += \u001b[38;5;28mlen\u001b[39m(buf)\n\u001b[32m-> \u001b[39m\u001b[32m1264\u001b[39m \u001b[38;5;28;43mself\u001b[39;49m\u001b[43m.\u001b[49m\u001b[43m_fileobj\u001b[49m\u001b[43m.\u001b[49m\u001b[43mwrite\u001b[49m\u001b[43m(\u001b[49m\u001b[43mbuf\u001b[49m\u001b[43m)\u001b[49m\n\u001b[32m   1265\u001b[39m \u001b[38;5;28mself\u001b[39m._zinfo.compress_size = \u001b[38;5;28mself\u001b[39m._compress_size\n",
      "\u001b[31mOSError\u001b[39m: [Errno 28] No space left on device",
      "\nDuring handling of the above exception, another exception occurred:\n",
      "\u001b[31mOSError\u001b[39m                                   Traceback (most recent call last)",
      "\u001b[36mFile \u001b[39m\u001b[32m~/miniconda3/lib/python3.13/zipfile/__init__.py:1997\u001b[39m, in \u001b[36mZipFile.close\u001b[39m\u001b[34m(self)\u001b[39m\n\u001b[32m   1996\u001b[39m \u001b[38;5;28;01mif\u001b[39;00m \u001b[38;5;28mself\u001b[39m._seekable:\n\u001b[32m-> \u001b[39m\u001b[32m1997\u001b[39m     \u001b[38;5;28;43mself\u001b[39;49m\u001b[43m.\u001b[49m\u001b[43mfp\u001b[49m\u001b[43m.\u001b[49m\u001b[43mseek\u001b[49m\u001b[43m(\u001b[49m\u001b[38;5;28;43mself\u001b[39;49m\u001b[43m.\u001b[49m\u001b[43mstart_dir\u001b[49m\u001b[43m)\u001b[49m\n\u001b[32m   1998\u001b[39m \u001b[38;5;28mself\u001b[39m._write_end_record()\n",
      "\u001b[31mOSError\u001b[39m: [Errno 28] No space left on device",
      "\nDuring handling of the above exception, another exception occurred:\n",
      "\u001b[31mOSError\u001b[39m                                   Traceback (most recent call last)",
      "\u001b[36mCell\u001b[39m\u001b[36m \u001b[39m\u001b[32mIn[6]\u001b[39m\u001b[32m, line 336\u001b[39m\n\u001b[32m    334\u001b[39m df_ET = ap.rename_for_ecotaxa(df, sample_profile_id=profile).copy()\n\u001b[32m    335\u001b[39m \u001b[38;5;28;01mif\u001b[39;00m \u001b[38;5;129;01mnot\u001b[39;00m df_ET.empty:\n\u001b[32m--> \u001b[39m\u001b[32m336\u001b[39m     \u001b[43map\u001b[49m\u001b[43m.\u001b[49m\u001b[43mcreate_ecotaxa_zips\u001b[49m\u001b[43m(\u001b[49m\u001b[43moutput_folder\u001b[49m\u001b[43m=\u001b[49m\u001b[43mresults_folder\u001b[49m\u001b[43m,\u001b[49m\u001b[43m \u001b[49m\u001b[43mdf\u001b[49m\u001b[43m=\u001b[49m\u001b[43mdf_ET\u001b[49m\u001b[43m,\u001b[49m\u001b[43m \u001b[49m\u001b[43mprofile_name\u001b[49m\u001b[43m=\u001b[49m\u001b[43mprofile\u001b[49m\u001b[43m,\u001b[49m\u001b[43m \u001b[49m\n\u001b[32m    337\u001b[39m \u001b[43m                        \u001b[49m\u001b[43mmax_zip_size_mb\u001b[49m\u001b[43m=\u001b[49m\u001b[32;43m500\u001b[39;49m\u001b[43m,\u001b[49m\u001b[43m \u001b[49m\u001b[43mcompression_ratio\u001b[49m\u001b[43m=\u001b[49m\u001b[32;43m1.0\u001b[39;49m\u001b[43m,\u001b[49m\u001b[43m \u001b[49m\u001b[43mcopy_images\u001b[49m\u001b[43m=\u001b[49m\u001b[38;5;28;43;01mTrue\u001b[39;49;00m\u001b[43m,\u001b[49m\u001b[43m \u001b[49m\n\u001b[32m    338\u001b[39m \u001b[43m                        \u001b[49m\u001b[43madd_scale_bar_to_deconv\u001b[49m\u001b[43m=\u001b[49m\u001b[38;5;28;43;01mFalse\u001b[39;49;00m\u001b[43m,\u001b[49m\u001b[43m \u001b[49m\u001b[43mpixel_resolution\u001b[49m\u001b[43m=\u001b[49m\u001b[32;43m23\u001b[39;49m\u001b[43m,\u001b[49m\u001b[43m \u001b[49m\u001b[43mscale_length_mm\u001b[49m\u001b[43m=\u001b[49m\u001b[32;43m1\u001b[39;49m\u001b[43m)\u001b[49m\n\u001b[32m    339\u001b[39m \u001b[38;5;28;01melse\u001b[39;00m:\n\u001b[32m    340\u001b[39m     \u001b[38;5;28mprint\u001b[39m(\u001b[33mf\u001b[39m\u001b[33m\"\u001b[39m\u001b[33mNo data to process for profile \u001b[39m\u001b[38;5;132;01m{\u001b[39;00mprofile\u001b[38;5;132;01m}\u001b[39;00m\u001b[33m\"\u001b[39m)\n",
      "\u001b[36mFile \u001b[39m\u001b[32m~/PIScO_dev/ImageProcessing/analyze_profiles_seavision.py:1626\u001b[39m, in \u001b[36mcreate_ecotaxa_zips\u001b[39m\u001b[34m(output_folder, df, profile_name, max_zip_size_mb, compression_ratio, copy_images, add_scale_bar_to_deconv, pixel_resolution, scale_length_mm)\u001b[39m\n\u001b[32m   1624\u001b[39m \u001b[38;5;66;03m# Create zip file\u001b[39;00m\n\u001b[32m   1625\u001b[39m zip_path = \u001b[33mf\u001b[39m\u001b[33m\"\u001b[39m\u001b[38;5;132;01m{\u001b[39;00mpart_folder\u001b[38;5;132;01m}\u001b[39;00m\u001b[33m.zip\u001b[39m\u001b[33m\"\u001b[39m\n\u001b[32m-> \u001b[39m\u001b[32m1626\u001b[39m \u001b[38;5;28;01mwith\u001b[39;00m zipfile.ZipFile(zip_path, \u001b[33m'\u001b[39m\u001b[33mw\u001b[39m\u001b[33m'\u001b[39m, zipfile.ZIP_DEFLATED) \u001b[38;5;28;01mas\u001b[39;00m zipf:\n\u001b[32m   1627\u001b[39m     \u001b[38;5;28;01mfor\u001b[39;00m root, _, files \u001b[38;5;129;01min\u001b[39;00m os.walk(part_folder):\n\u001b[32m   1628\u001b[39m         \u001b[38;5;28;01mfor\u001b[39;00m file \u001b[38;5;129;01min\u001b[39;00m files:\n",
      "\u001b[36mFile \u001b[39m\u001b[32m~/miniconda3/lib/python3.13/zipfile/__init__.py:1428\u001b[39m, in \u001b[36mZipFile.__exit__\u001b[39m\u001b[34m(self, type, value, traceback)\u001b[39m\n\u001b[32m   1427\u001b[39m \u001b[38;5;28;01mdef\u001b[39;00m\u001b[38;5;250m \u001b[39m\u001b[34m__exit__\u001b[39m(\u001b[38;5;28mself\u001b[39m, \u001b[38;5;28mtype\u001b[39m, value, traceback):\n\u001b[32m-> \u001b[39m\u001b[32m1428\u001b[39m     \u001b[38;5;28;43mself\u001b[39;49m\u001b[43m.\u001b[49m\u001b[43mclose\u001b[49m\u001b[43m(\u001b[49m\u001b[43m)\u001b[49m\n",
      "\u001b[36mFile \u001b[39m\u001b[32m~/miniconda3/lib/python3.13/zipfile/__init__.py:2002\u001b[39m, in \u001b[36mZipFile.close\u001b[39m\u001b[34m(self)\u001b[39m\n\u001b[32m   2000\u001b[39m fp = \u001b[38;5;28mself\u001b[39m.fp\n\u001b[32m   2001\u001b[39m \u001b[38;5;28mself\u001b[39m.fp = \u001b[38;5;28;01mNone\u001b[39;00m\n\u001b[32m-> \u001b[39m\u001b[32m2002\u001b[39m \u001b[38;5;28;43mself\u001b[39;49m\u001b[43m.\u001b[49m\u001b[43m_fpclose\u001b[49m\u001b[43m(\u001b[49m\u001b[43mfp\u001b[49m\u001b[43m)\u001b[49m\n",
      "\u001b[36mFile \u001b[39m\u001b[32m~/miniconda3/lib/python3.13/zipfile/__init__.py:2102\u001b[39m, in \u001b[36mZipFile._fpclose\u001b[39m\u001b[34m(self, fp)\u001b[39m\n\u001b[32m   2100\u001b[39m \u001b[38;5;28mself\u001b[39m._fileRefCnt -= \u001b[32m1\u001b[39m\n\u001b[32m   2101\u001b[39m \u001b[38;5;28;01mif\u001b[39;00m \u001b[38;5;129;01mnot\u001b[39;00m \u001b[38;5;28mself\u001b[39m._fileRefCnt \u001b[38;5;129;01mand\u001b[39;00m \u001b[38;5;129;01mnot\u001b[39;00m \u001b[38;5;28mself\u001b[39m._filePassed:\n\u001b[32m-> \u001b[39m\u001b[32m2102\u001b[39m     \u001b[43mfp\u001b[49m\u001b[43m.\u001b[49m\u001b[43mclose\u001b[49m\u001b[43m(\u001b[49m\u001b[43m)\u001b[49m\n",
      "\u001b[31mOSError\u001b[39m: [Errno 28] No space left on device"
     ]
    }
   ],
   "source": [
    "# for profile in os.listdir(cruise_base):\n",
    "#     print(profile)\n",
    "#     profile_path = os.path.join(cruise_base, profile)\n",
    "#     profile_id = profile.split('_')[1]  # Extract the profile ID from the profile name\n",
    "#     if os.path.isdir(profile_path):\n",
    "#         # Some variables\n",
    "#         results_folder = os.path.join(intermediate_result_dir, profile, profile+\"_Results\")\n",
    "       \n",
    "#         # if \"crops_excluded\" in os.listdir(results_folder):\n",
    "#         #     print(f\"Profile {profile} already processed. Skipping.\")\n",
    "#         #     continue\n",
    "#         profile_id = profile.split('_')[1]  # Extract the profile ID from the profile name\n",
    "#         #profile_id = profile.split('_')[1]+profile.split('_')[2]  # HE570 profile ID is the second and the third part of the profile name\n",
    "#         profile_data_dir = os.path.join(results_folder, 'Data')\n",
    "\n",
    "#         # Load the results of the segmenter\n",
    "#         # and create a DataFrame with the particle data\n",
    "#         df = ap.gen_crop_df(profile_data_dir, small=False, size_filter=0, cruise=cruise)\n",
    "#         print(len(df.index), 'particles found.')\n",
    "#         df['fullframe_path'] = df['full_path'].apply(ap.modify_full_path)\n",
    "\n",
    "#         # Add ctd data to the DataFrame\n",
    "#         # Get CTD profile ID\n",
    "#         if ctd_dir is not None and os.path.exists(ctd_dir):\n",
    "#             ctd_id = ap.get_ctd_profile_id(cruise_base, profile)\n",
    "#             if ctd_id:\n",
    "#                 ctd_file = os.path.join(ctd_dir, f'{ctd_prefix}{ctd_id}.ctd')\n",
    "#                 print('adding ctd data...')\n",
    "#                 df = ap.add_ctd_data(ctd_file, df)\n",
    "#             else:\n",
    "#                 print(f\"Skipping CTD data for {profile}\")\n",
    "#                 continue\n",
    "\n",
    "#         # Predict on deconvolved images                \n",
    "#         prediction_file = os.path.join(results_folder, 'ViT_predictions.csv')  # Example path\n",
    "#         if os.path.exists(prediction_file):\n",
    "#             print('Adding predictions...')\n",
    "#             prediction_df = pd.read_csv(prediction_file)\n",
    "#             df = ap.add_prediction(df, prediction_df)\n",
    "\n",
    "#         # Add log data to the DataFrame\n",
    "#         if log_directory is not None:                \n",
    "#             print('adding log info...')\n",
    "#             timestamp = profile.split('_')[-1]\n",
    "#             # Convert timestamp to datetime object\n",
    "#             date_time_obj = datetime.datetime.strptime(timestamp, '%Y%m%d-%H%M')\n",
    "#             min_diff = datetime.timedelta(days=365*1000)  # initialize with a big time difference\n",
    "#             closest_file = None\n",
    "\n",
    "#             # Iterate over all files in the directory\n",
    "#             for filename in os.listdir(log_directory):\n",
    "#                 # Check if filename is a Templog\n",
    "#                 if '__Templog.txt' in filename:\n",
    "#                     # Extract timestamp from filename and convert to datetime object\n",
    "#                     file_timestamp = filename[:16]\n",
    "#                     file_datetime = datetime.datetime.strptime(file_timestamp, '%Y%m%d_%Hh_%Mm')\n",
    "\n",
    "#                     # Calculate time difference\n",
    "#                     diff = abs(date_time_obj - file_datetime)\n",
    "\n",
    "#                     # If this file is closer, update min_diff and closest_file\n",
    "#                     if diff < min_diff:\n",
    "#                         min_diff = diff\n",
    "#                         closest_file = filename\n",
    "\n",
    "#             if closest_file is None:\n",
    "#                 print(\"Logfile not found\")\n",
    "#             else:\n",
    "#                 file_path = os.path.join(log_directory, closest_file)\n",
    "#                 file_size = os.path.getsize(file_path)  # Get file size in bytes\n",
    "#                 print(f\"Closest logfile: {closest_file}, Size: {file_size} bytes\")\n",
    "            \n",
    "#             # Read the log file and parse the relevant data\n",
    "\n",
    "#             df_log = ap.create_log_df(file_path)\n",
    "\n",
    "#             # Match the data with the profile dataframe\n",
    "#             df.drop(['TT_x', 'T1_x', 'T2_x', 'TH_x', 'restart_x', 'relock_x', 'Time_log_x', 'TT_y', 'T1_y', 'T2_y', 'TH_y', 'restart_y', 'relock_y', 'Time_log_y', 'TT', 'T1', 'T2', 'TH', 'restart', 'relock', 'Time_log'], axis=1, inplace=True, errors='ignore')\n",
    "#             # Convert the timestamps in both dataframes to datetime format\n",
    "#             df['timestamp'] = df['date-time']\n",
    "\n",
    "#             df['timestamp'] = pd.to_datetime(df['timestamp'], format='%Y%m%d-%H%M%S%f')\n",
    "\n",
    "#             # Sort the dataframes by the timestamp\n",
    "#             df = df.sort_values('timestamp')\n",
    "#             df_log = df_log.sort_values('timestamp')\n",
    "\n",
    "#             # Use merge_asof to merge the two dataframes, finding the nearest match on the timestamp\n",
    "#             df_combined = pd.merge_asof(df, df_log, left_on='timestamp', right_on='timestamp', direction='backward')\n",
    "#             df_combined.drop('timestamp', axis=1, inplace=True)\n",
    "\n",
    "#             #Add particle count based filter for filtering out images that are potentially obscured by schlieren or bubbles\n",
    "#             df_unique = df_combined[['date-time', 'pressure [dbar]', 'depth [m]', 'img_id','temperature','interpolated_s','interpolated_t','interpolated_o','interpolated_z_factor','restart','relock','TAG_event']].drop_duplicates()\n",
    "#             df_count = df_combined.groupby('date-time').size().reset_index(name='count')\n",
    "#             df_unique = df_unique.merge(df_count, on='date-time', how='left')\n",
    "#             df_unique = df_unique.sort_values('pressure [dbar]')\n",
    "#             df_unique['part_based_filter'] = df_unique['count'].apply(lambda x: 0 if x < (df_unique['count'].mean() + 5*df_unique['count'].std()) else 1)\n",
    "#             df = df_combined.merge(df_unique[['date-time', 'part_based_filter']], on='date-time', how='left')\n",
    "        \n",
    "#         else:\n",
    "#             print('No log directory provided, skipping log data.')\n",
    "#             # Use merge_asof to merge the two dataframes, finding the nearest match on the timestamp\n",
    "#             df_combined = df.copy()\n",
    "\n",
    "#             #Add particle count based filter for filtering out images that are potentially obscured by schlieren or bubbles\n",
    "#             df_unique = df_combined[['date-time', 'pressure [dbar]', 'img_id']].drop_duplicates()\n",
    "#             df_count = df_combined.groupby('date-time').size().reset_index(name='count')\n",
    "#             df_unique = df_unique.merge(df_count, on='date-time', how='left')\n",
    "#             df_unique = df_unique.sort_values('pressure [dbar]')\n",
    "#             df_unique['part_based_filter'] = df_unique['count'].apply(lambda x: 0 if x < (df_unique['count'].mean() + 5*df_unique['count'].std()) else 1)\n",
    "#             df = df_combined.merge(df_unique[['date-time', 'part_based_filter']], on='date-time', how='left')\n",
    "\n",
    "\n",
    "#         ## Process for exporting to EcoTaxa\n",
    "#         # Add object ID column\n",
    "#         df['object_id'] = profile_id + df['img_id'].astype(str) + '_' + df['index'].astype(str) \n",
    "\n",
    "#         #split date-time\n",
    "#         df[['date', 'time']] = df['date-time'].str.split('-', expand=True)\n",
    "\n",
    "#         # Get latitude and longitude from yaml file\n",
    "#         # Assuming your YAML file is in the same directory as your profile\n",
    "#         if cruise == \"HE570\":\n",
    "#             yaml_file = os.path.join(profile_path, profile + \".yaml\")\n",
    "        \n",
    "#         else:\n",
    "#             # For other cruises, the YAML file is in a subdirectory\n",
    "#             yaml_file = os.path.join(profile_path, profile + \"_Metadata\", profile + \".yaml\")\n",
    "        \n",
    "#         latitude, longitude = ap.extract_coords_from_yaml(yaml_file)\n",
    "\n",
    "#         # Add the columns to your DataFrame and fill all rows with the same values\n",
    "#         df['lat'] = latitude\n",
    "#         df['lon'] = longitude\n",
    "\n",
    "#         ## Filter crops based on aspect ratio and artifacts (TAG events and schlieren)\n",
    "#         threshold_ratio = 0.005  # Define the aspect ratio threshold\n",
    "#         print(len(df)-len(df[df['w'] >= threshold_ratio * df['h']]), 'crops removed due to aspect ratio')\n",
    "#         df = df[df['w'] >= threshold_ratio * df['h']]\n",
    "#         if \"TAG_event\" in df.columns:\n",
    "#             print(len(df)-len(df[df['TAG_event'] == 0]), 'crops removed due to TAG events')\n",
    "#             df = df[df['TAG_event'] == 0]\n",
    "\n",
    "#         # Filter out crops with part_based_filter == 1   \n",
    "#         df = df[df['part_based_filter'] == 0]  \n",
    "\n",
    "#         # Remove duplicates in the 'full_path' column, keeping the first occurrence\n",
    "#         df = df.drop_duplicates(subset='full_path', keep='first')\n",
    "#         df = df.sort_values(by='object_id')\n",
    "#         df.reset_index(drop=True, inplace=True)\n",
    "        \n",
    "#         crops_zip = os.path.join(results_folder, \"crops.zip\")\n",
    "#         deconv_zip = os.path.join(results_folder, \"deconv_crops.zip\")\n",
    "        \n",
    "#         # # Check if both zip files already exist\n",
    "#         # if os.path.exists(crops_zip) and os.path.exists(deconv_zip):\n",
    "#         #     print(f\"Profile {profile_name} already processed. Skipping.\")\n",
    "#         #     continue\n",
    "\n",
    "#         # Prepare EcoTaxa metadata\n",
    "#         df_ET = ap.rename_for_ecotaxa(df, sample_profile_id=profile).copy()\n",
    "#         if not df_ET.empty:\n",
    "#             ap.create_ecotaxa_zips(output_folder=results_folder, df=df_ET, profile_name=profile, \n",
    "#                                 max_zip_size_mb=500, compression_ratio=1.0, copy_images=True, \n",
    "#                                 add_scale_bar_to_deconv=False, pixel_resolution=23, scale_length_mm=1)\n",
    "#         else:\n",
    "#             print(f\"No data to process for profile {profile}\")\n",
    "\n",
    "#         #ap.create_ecotaxa_zips(output_folder=results_folder, df=df_ET, profile_name=profile, max_zip_size_mb=500, compression_ratio=1.0, copy_images=True, add_scale_bar_to_deconv=False, pixel_resolution=23, scale_length_mm=1)\n",
    "\n",
    "#         # Save the DataFrame to a CSV file\n",
    "#         df.to_csv(os.path.join(results_folder, f'{profile}_crops_metadata.csv'), index=False)\n",
    "\n",
    "#         # Create plots\n",
    "#         # plot_path = os.path.join(results_folder, 'Plots')\n",
    "#         # if not os.path.exists(plot_path):\n",
    "#         #     os.makedirs(plot_path)\n",
    "#         # ap.plot_histogram(df, plot_path)\n",
    "#         # ap.plot_position_hist(df, plot_path)\n",
    "#         # ap.plot_2d_histogram(df, plot_path)\n",
    "#         # press_min = df['object_pressure'].min()-10\n",
    "#         # depth_bin_size = 1\n",
    "#         # _, pivoted_df = ap.populate_esd_bins_pressure(df,  depth_bin_size=depth_bin_size, esd_bins=np.array([0,125,250,500,1000,100000]))\n",
    "#         # ap.plot_particle_dist(pivoted_df, folder, plot_path, depth_bin_size=depth_bin_size, preliminary=True, depth_min=press_min)\n",
    "#         # ap.plot_particle_dist(pivoted_df, folder, plot_path, depth_bin_size=depth_bin_size, preliminary=True, depth_min=press_min, maximum_y_value=500)\n",
    "#         # ap.plot_ctd_data(df, profile, plot_path)\n",
    "#         # ap.plot_ctd_data(df, profile, plot_path, maximum_y_value=500)\n",
    "\n",
    "\n",
    "### KOSMOS Logic##########\n",
    "for profile in os.listdir(cruise_base):\n",
    "    print(profile)\n",
    "    profile_path = os.path.join(cruise_base, profile)\n",
    "    if os.path.isdir(profile_path):                \n",
    "            for mesokosm in os.listdir(profile_path):\n",
    "                    print(mesokosm)\n",
    "                    mesokosm_path = os.path.join(profile_path, mesokosm)\n",
    "                    if os.path.isdir(mesokosm_path):\n",
    "                            img_folder = mesokosm_path\n",
    "                            results_folder = os.path.join(intermediate_result_dir, profile, mesokosm+\"_Results\")\n",
    "                            profile_id = profile+'_'+mesokosm\n",
    "                            profile_data_dir = os.path.join(results_folder, 'Data')\n",
    "\n",
    "                            # Load the results of the segmenter\n",
    "                            # and create a DataFrame with the particle data\n",
    "                            df = ap.gen_crop_df(profile_data_dir, small=False, size_filter=0, cruise=cruise, pressure_unit='bar')\n",
    "                            print(len(df.index), 'particles found.')\n",
    "                            df['fullframe_path'] = df['full_path'].apply(ap.modify_full_path)\n",
    "\n",
    "                            # Add ctd data to the DataFrame\n",
    "                            # Get CTD profile ID\n",
    "                            if ctd_dir is not None and os.path.exists(ctd_dir):\n",
    "                                ctd_id = ap.get_ctd_profile_id(cruise_base, profile)\n",
    "                                if ctd_id:\n",
    "                                    ctd_file = os.path.join(ctd_dir, f'{ctd_prefix}{ctd_id}.ctd')\n",
    "                                    print('adding ctd data...')\n",
    "                                    df = ap.add_ctd_data(ctd_file, df)\n",
    "                                else:\n",
    "                                    print(f\"Skipping CTD data for {profile}\")\n",
    "                                    continue\n",
    "\n",
    "                            # Predict on deconvolved images                \n",
    "                            prediction_file = os.path.join(results_folder, 'ViT_predictions.csv')  # Example path\n",
    "                            if os.path.exists(prediction_file):\n",
    "                                print('Adding predictions...')\n",
    "                                prediction_df = pd.read_csv(prediction_file)\n",
    "                                df = ap.add_prediction(df, prediction_df)\n",
    "\n",
    "                            # Add log data to the DataFrame\n",
    "                            if log_directory is not None:                \n",
    "                                print('adding log info...')\n",
    "                                timestamp = profile.split('_')[-1]\n",
    "                                # Convert timestamp to datetime object\n",
    "                                date_time_obj = datetime.datetime.strptime(timestamp, '%Y%m%d-%H%M')\n",
    "                                min_diff = datetime.timedelta(days=365*1000)  # initialize with a big time difference\n",
    "                                closest_file = None\n",
    "\n",
    "                                # Iterate over all files in the directory\n",
    "                                for filename in os.listdir(log_directory):\n",
    "                                    # Check if filename is a Templog\n",
    "                                    if '__Templog.txt' in filename:\n",
    "                                        # Extract timestamp from filename and convert to datetime object\n",
    "                                        file_timestamp = filename[:16]\n",
    "                                        file_datetime = datetime.datetime.strptime(file_timestamp, '%Y%m%d_%Hh_%Mm')\n",
    "\n",
    "                                        # Calculate time difference\n",
    "                                        diff = abs(date_time_obj - file_datetime)\n",
    "\n",
    "                                        # If this file is closer, update min_diff and closest_file\n",
    "                                        if diff < min_diff:\n",
    "                                            min_diff = diff\n",
    "                                            closest_file = filename\n",
    "\n",
    "                                if closest_file is None:\n",
    "                                    print(\"Logfile not found\")\n",
    "                                else:\n",
    "                                    file_path = os.path.join(log_directory, closest_file)\n",
    "                                    file_size = os.path.getsize(file_path)  # Get file size in bytes\n",
    "                                    print(f\"Closest logfile: {closest_file}, Size: {file_size} bytes\")\n",
    "                                \n",
    "                                # Read the log file and parse the relevant data\n",
    "\n",
    "                                df_log = ap.create_log_df(file_path)\n",
    "\n",
    "                                # Match the data with the profile dataframe\n",
    "                                df.drop(['TT_x', 'T1_x', 'T2_x', 'TH_x', 'restart_x', 'relock_x', 'Time_log_x', 'TT_y', 'T1_y', 'T2_y', 'TH_y', 'restart_y', 'relock_y', 'Time_log_y', 'TT', 'T1', 'T2', 'TH', 'restart', 'relock', 'Time_log'], axis=1, inplace=True, errors='ignore')\n",
    "                                # Convert the timestamps in both dataframes to datetime format\n",
    "                                df['timestamp'] = df['date-time']\n",
    "\n",
    "                                df['timestamp'] = pd.to_datetime(df['timestamp'], format='%Y%m%d-%H%M%S%f')\n",
    "\n",
    "                                # Sort the dataframes by the timestamp\n",
    "                                df = df.sort_values('timestamp')\n",
    "                                df_log = df_log.sort_values('timestamp')\n",
    "\n",
    "                                # Use merge_asof to merge the two dataframes, finding the nearest match on the timestamp\n",
    "                                df_combined = pd.merge_asof(df, df_log, left_on='timestamp', right_on='timestamp', direction='backward')\n",
    "                                df_combined.drop('timestamp', axis=1, inplace=True)\n",
    "\n",
    "                                #Add particle count based filter for filtering out images that are potentially obscured by schlieren or bubbles\n",
    "                                df_unique = df_combined[['date-time', 'pressure [dbar]', 'depth [m]', 'img_id','temperature','interpolated_s','interpolated_t','interpolated_o','interpolated_z_factor','restart','relock','TAG_event']].drop_duplicates()\n",
    "                                df_count = df_combined.groupby('date-time').size().reset_index(name='count')\n",
    "                                df_unique = df_unique.merge(df_count, on='date-time', how='left')\n",
    "                                df_unique = df_unique.sort_values('pressure [dbar]')\n",
    "                                df_unique['part_based_filter'] = df_unique['count'].apply(lambda x: 0 if x < (df_unique['count'].mean() + 5*df_unique['count'].std()) else 1)\n",
    "                                df = df_combined.merge(df_unique[['date-time', 'part_based_filter']], on='date-time', how='left')\n",
    "                            \n",
    "                            else:\n",
    "                                print('No log directory provided, skipping log data.')\n",
    "                                # Use merge_asof to merge the two dataframes, finding the nearest match on the timestamp\n",
    "                                df_combined = df.copy()\n",
    "\n",
    "                                #Add particle count based filter for filtering out images that are potentially obscured by schlieren or bubbles\n",
    "                                df_unique = df_combined[['date-time', 'pressure [dbar]', 'img_id']].drop_duplicates()\n",
    "                                df_count = df_combined.groupby('date-time').size().reset_index(name='count')\n",
    "                                df_unique = df_unique.merge(df_count, on='date-time', how='left')\n",
    "                                df_unique = df_unique.sort_values('pressure [dbar]')\n",
    "                                df_unique['part_based_filter'] = df_unique['count'].apply(lambda x: 0 if x < (df_unique['count'].mean() + 5*df_unique['count'].std()) else 1)\n",
    "                                df = df_combined.merge(df_unique[['date-time', 'part_based_filter']], on='date-time', how='left')\n",
    "\n",
    "\n",
    "                            ## Process for exporting to EcoTaxa\n",
    "                            # Add object ID column\n",
    "                            df['object_id'] = profile_id + df['img_id'].astype(str) + '_' + df['index'].astype(str) \n",
    "\n",
    "                            #split date-time\n",
    "                            df[['date', 'time']] = df['date-time'].str.split('-', expand=True)\n",
    "\n",
    "                            ## Filter crops based on aspect ratio and artifacts (TAG events and schlieren)\n",
    "                            threshold_ratio = 0.005  # Define the aspect ratio threshold\n",
    "                            print(len(df)-len(df[df['w'] >= threshold_ratio * df['h']]), 'crops removed due to aspect ratio')\n",
    "                            df = df[df['w'] >= threshold_ratio * df['h']]\n",
    "                            if \"TAG_event\" in df.columns:\n",
    "                                print(len(df)-len(df[df['TAG_event'] == 0]), 'crops removed due to TAG events')\n",
    "                                df = df[df['TAG_event'] == 0]\n",
    "\n",
    "                            # Filter out crops with part_based_filter == 1   \n",
    "                            df = df[df['part_based_filter'] == 0]  \n",
    "\n",
    "                            # Remove duplicates in the 'full_path' column, keeping the first occurrence\n",
    "                            df = df.drop_duplicates(subset='full_path', keep='first')\n",
    "                            df = df.sort_values(by='object_id')\n",
    "                            df.reset_index(drop=True, inplace=True)\n",
    "                            \n",
    "                            crops_zip = os.path.join(results_folder, \"crops.zip\")\n",
    "                            deconv_zip = os.path.join(results_folder, \"deconv_crops.zip\")\n",
    "                            \n",
    "                            # # Check if both zip files already exist\n",
    "                            # if os.path.exists(crops_zip) and os.path.exists(deconv_zip):\n",
    "                            #     print(f\"Profile {profile_name} already processed. Skipping.\")\n",
    "                            #     continue\n",
    "\n",
    "                            # Prepare EcoTaxa metadata\n",
    "                            df_ET = ap.rename_for_ecotaxa(df, sample_profile_id=profile).copy()\n",
    "                            if not df_ET.empty:\n",
    "                                ap.create_ecotaxa_zips(output_folder=results_folder, df=df_ET, profile_name=profile, \n",
    "                                                    max_zip_size_mb=500, compression_ratio=1.0, copy_images=True, \n",
    "                                                    add_scale_bar_to_deconv=False, pixel_resolution=23, scale_length_mm=1)\n",
    "                            else:\n",
    "                                print(f\"No data to process for profile {profile}\")\n",
    "\n",
    "                            #ap.create_ecotaxa_zips(output_folder=results_folder, df=df_ET, profile_name=profile, max_zip_size_mb=500, compression_ratio=1.0, copy_images=True, add_scale_bar_to_deconv=False, pixel_resolution=23, scale_length_mm=1)\n",
    "\n",
    "                            # Save the DataFrame to a CSV file\n",
    "                            df.to_csv(os.path.join(results_folder, f'{profile}_crops_metadata.csv'), index=False)\n",
    "#################################"
   ]
  },
  {
   "cell_type": "markdown",
   "id": "c0372332",
   "metadata": {},
   "source": [
    "### 3. Upload to EcoTaxa"
   ]
  },
  {
   "cell_type": "markdown",
   "id": "3740c4aa",
   "metadata": {},
   "source": [
    "Setup of pyecotaxa 05.06.2025: \n",
    "1. Install pyecotaxa dev_branch: git clone https://github.com/moi90/pyecotaxa.git > cd pyecotaxa > git checkout wip-aqqua > pip install .\n",
    "Now pyecotaxa is useable in cli and python scripts.\n",
    "2. In home directory edit the file ~/.pyecotaxa.json: {\"api_token\": \"...\", \"ftp_user\": \"ftp_plankton\", \"ftp_passwd\": \"Pl@nkt0n4Ecotaxa\"}\n",
    "3. Now ftp transfer is useable."
   ]
  },
  {
   "cell_type": "code",
   "execution_count": null,
   "id": "12c8e5ce",
   "metadata": {},
   "outputs": [
    {
     "name": "stderr",
     "output_type": "stream",
     "text": [
      "2025-06-10 11:35:34,418 - Server OpenAPI version is 0.0.41\n",
      "2025-06-10 11:35:35,551 - Pushing 1 files...\n",
      "2025-06-10 11:35:35,552 - Pushing /home/veit/PIScO_dev/Segmentation_results/HE570/HE570-PISCO-Profiles/TempResults/20210309_HE570_100-bop-019_PISCO1/20210309_HE570_100-bop-019_PISCO1_Results/EcoTaxa/crops.zip to 17302...\n"
     ]
    },
    {
     "name": "stdout",
     "output_type": "stream",
     "text": [
      "Successfully logged into EcoTaxa.\n",
      "20210309_HE570_100-bop-019_PISCO1\n",
      "Processing EcoTaxa folder: /home/veit/PIScO_dev/Segmentation_results/HE570/HE570-PISCO-Profiles/TempResults/20210309_HE570_100-bop-019_PISCO1/20210309_HE570_100-bop-019_PISCO1_Results/EcoTaxa\n"
     ]
    },
    {
     "name": "stderr",
     "output_type": "stream",
     "text": [
      "2025-06-10 11:35:35,552 - Uploading /home/veit/PIScO_dev/Segmentation_results/HE570/HE570-PISCO-Profiles/TempResults/20210309_HE570_100-bop-019_PISCO1/20210309_HE570_100-bop-019_PISCO1_Results/EcoTaxa/crops.zip via FTP...\n",
      "  0%|          | 0/1 [00:00<?, ?it/s]2025-06-10 11:35:35,552 - Computing hash for crops.zip...\n",
      "2025-06-10 11:35:35,903 - Remote filename is FTP/Ecotaxa_Data_to_import/pyecotaxa/a9ea74133508a373b486c8001b429f6834263f05548bfbeb57055f8d97735e4b/crops.zip.\n",
      "2025-06-10 11:35:36,303 - Job to import FTP/Ecotaxa_Data_to_import/pyecotaxa/a9ea74133508a373b486c8001b429f6834263f05548bfbeb57055f8d97735e4b/crops.zip already exists...\n",
      "Importing to 17302...:   0%|          | 0/100 [00:00<?, ?%/s]\n",
      "100%|██████████| 1/1 [00:00<00:00,  1.33it/s]\n",
      "2025-06-10 11:35:36,305 - Pushing 1 files...\n",
      "2025-06-10 11:35:36,306 - Pushing /home/veit/PIScO_dev/Segmentation_results/HE570/HE570-PISCO-Profiles/TempResults/20210307_HE570_069-bop-015b_PISCO1/20210307_HE570_069-bop-015b_PISCO1_Results/EcoTaxa/crops.zip to 17302...\n"
     ]
    },
    {
     "name": "stdout",
     "output_type": "stream",
     "text": [
      "Successfully uploaded /home/veit/PIScO_dev/Segmentation_results/HE570/HE570-PISCO-Profiles/TempResults/20210309_HE570_100-bop-019_PISCO1/20210309_HE570_100-bop-019_PISCO1_Results/EcoTaxa/crops.zip to project 17302.\n",
      "Uploaded crops.zip to project 17302.\n",
      "20210307_HE570_069-bop-015b_PISCO1\n",
      "Processing EcoTaxa folder: /home/veit/PIScO_dev/Segmentation_results/HE570/HE570-PISCO-Profiles/TempResults/20210307_HE570_069-bop-015b_PISCO1/20210307_HE570_069-bop-015b_PISCO1_Results/EcoTaxa\n"
     ]
    },
    {
     "name": "stderr",
     "output_type": "stream",
     "text": [
      "  0%|          | 0/1 [00:00<?, ?it/s]2025-06-10 11:35:36,306 - Uploading /home/veit/PIScO_dev/Segmentation_results/HE570/HE570-PISCO-Profiles/TempResults/20210307_HE570_069-bop-015b_PISCO1/20210307_HE570_069-bop-015b_PISCO1_Results/EcoTaxa/crops.zip via FTP...\n",
      "2025-06-10 11:35:36,306 - Computing hash for crops.zip...\n",
      "Uploading crops.zip...: 100%|██████████| 55.8M/55.8M [00:15<00:00, 3.82MB/s]\n",
      "2025-06-10 11:35:52,092 - Remote filename is FTP/Ecotaxa_Data_to_import/pyecotaxa/955fc736f8323d3f6483cea9768ef05e45574b2583b41e016a021437ced69710/crops.zip.\n",
      "2025-06-10 11:35:52,496 - Starting project import...\n",
      "Importing to 17302... (Processing files 4800/5125):  95%|█████████▌| 95/100 [00:30<00:01,  3.13%/s]\n",
      "100%|██████████| 1/1 [00:46<00:00, 46.70s/it]\n",
      "2025-06-10 11:36:23,012 - Pushing 1 files...\n",
      "2025-06-10 11:36:23,012 - Pushing /home/veit/PIScO_dev/Segmentation_results/HE570/HE570-PISCO-Profiles/TempResults/20210312_HE570_138-bop-028_PISCO1/20210312_HE570_138-bop-028_PISCO1_Results/EcoTaxa/crops.zip to 17302...\n"
     ]
    },
    {
     "name": "stdout",
     "output_type": "stream",
     "text": [
      "Successfully uploaded /home/veit/PIScO_dev/Segmentation_results/HE570/HE570-PISCO-Profiles/TempResults/20210307_HE570_069-bop-015b_PISCO1/20210307_HE570_069-bop-015b_PISCO1_Results/EcoTaxa/crops.zip to project 17302.\n",
      "Uploaded crops.zip to project 17302.\n",
      "20210312_HE570_138-bop-028_PISCO1\n",
      "Processing EcoTaxa folder: /home/veit/PIScO_dev/Segmentation_results/HE570/HE570-PISCO-Profiles/TempResults/20210312_HE570_138-bop-028_PISCO1/20210312_HE570_138-bop-028_PISCO1_Results/EcoTaxa\n"
     ]
    },
    {
     "name": "stderr",
     "output_type": "stream",
     "text": [
      "  0%|          | 0/1 [00:00<?, ?it/s]2025-06-10 11:36:23,013 - Uploading /home/veit/PIScO_dev/Segmentation_results/HE570/HE570-PISCO-Profiles/TempResults/20210312_HE570_138-bop-028_PISCO1/20210312_HE570_138-bop-028_PISCO1_Results/EcoTaxa/crops.zip via FTP...\n",
      "2025-06-10 11:36:23,013 - Computing hash for crops.zip...\n",
      "Uploading crops.zip...: 100%|██████████| 20.9M/20.9M [00:02<00:00, 7.40MB/s]\n",
      "2025-06-10 11:36:26,381 - Remote filename is FTP/Ecotaxa_Data_to_import/pyecotaxa/c9d08ad6028ce7bc93d050bdd25d14939ff42e5976390800f43e36008d201be1/crops.zip.\n",
      "2025-06-10 11:36:26,786 - Starting project import...\n",
      "Importing to 17302... (Processing files 18000/18086): 100%|██████████| 100/100 [01:30<00:00,  1.10%/s]\n",
      "100%|██████████| 1/1 [01:34<00:00, 94.88s/it]\n",
      "2025-06-10 11:37:57,894 - Pushing 1 files...\n"
     ]
    },
    {
     "name": "stdout",
     "output_type": "stream",
     "text": [
      "Successfully uploaded /home/veit/PIScO_dev/Segmentation_results/HE570/HE570-PISCO-Profiles/TempResults/20210312_HE570_138-bop-028_PISCO1/20210312_HE570_138-bop-028_PISCO1_Results/EcoTaxa/crops.zip to project 17302.\n",
      "Uploaded crops.zip to project 17302.\n",
      "20210305_HE570_027-bop-005_PISCO1\n",
      "Processing EcoTaxa folder: /home/veit/PIScO_dev/Segmentation_results/HE570/HE570-PISCO-Profiles/TempResults/20210305_HE570_027-bop-005_PISCO1/20210305_HE570_027-bop-005_PISCO1_Results/EcoTaxa\n"
     ]
    },
    {
     "name": "stderr",
     "output_type": "stream",
     "text": [
      "2025-06-10 11:37:57,894 - Pushing /home/veit/PIScO_dev/Segmentation_results/HE570/HE570-PISCO-Profiles/TempResults/20210305_HE570_027-bop-005_PISCO1/20210305_HE570_027-bop-005_PISCO1_Results/EcoTaxa/crops.zip to 17302...\n",
      "  0%|          | 0/1 [00:00<?, ?it/s]2025-06-10 11:37:57,894 - Uploading /home/veit/PIScO_dev/Segmentation_results/HE570/HE570-PISCO-Profiles/TempResults/20210305_HE570_027-bop-005_PISCO1/20210305_HE570_027-bop-005_PISCO1_Results/EcoTaxa/crops.zip via FTP...\n",
      "2025-06-10 11:37:57,895 - Computing hash for crops.zip...\n",
      "Uploading crops.zip...: 100%|██████████| 50.5M/50.5M [00:03<00:00, 16.0MB/s]\n",
      "2025-06-10 11:38:01,664 - Remote filename is FTP/Ecotaxa_Data_to_import/pyecotaxa/4a075d9cdaf5b16d16ea71c12b90017b4b7d7302a9bac0539663b1e4ebedb477/crops.zip.\n",
      "2025-06-10 11:38:02,093 - Starting project import...\n",
      "Importing to 17302... (Processing files 5900/6483):  93%|█████████▎| 93/100 [00:35<00:02,  2.63%/s]\n",
      "100%|██████████| 1/1 [00:39<00:00, 39.72s/it]\n",
      "2025-06-10 11:38:37,611 - Pushing 1 files...\n",
      "2025-06-10 11:38:37,612 - Pushing /home/veit/PIScO_dev/Segmentation_results/HE570/HE570-PISCO-Profiles/TempResults/20210305_HE570_033-bop-007_PISCO1/20210305_HE570_033-bop-007_PISCO1_Results/EcoTaxa/crops.zip to 17302...\n"
     ]
    },
    {
     "name": "stdout",
     "output_type": "stream",
     "text": [
      "Successfully uploaded /home/veit/PIScO_dev/Segmentation_results/HE570/HE570-PISCO-Profiles/TempResults/20210305_HE570_027-bop-005_PISCO1/20210305_HE570_027-bop-005_PISCO1_Results/EcoTaxa/crops.zip to project 17302.\n",
      "Uploaded crops.zip to project 17302.\n",
      "20210305_HE570_033-bop-007_PISCO1\n",
      "Processing EcoTaxa folder: /home/veit/PIScO_dev/Segmentation_results/HE570/HE570-PISCO-Profiles/TempResults/20210305_HE570_033-bop-007_PISCO1/20210305_HE570_033-bop-007_PISCO1_Results/EcoTaxa\n"
     ]
    },
    {
     "name": "stderr",
     "output_type": "stream",
     "text": [
      "2025-06-10 11:38:37,612 - Uploading /home/veit/PIScO_dev/Segmentation_results/HE570/HE570-PISCO-Profiles/TempResults/20210305_HE570_033-bop-007_PISCO1/20210305_HE570_033-bop-007_PISCO1_Results/EcoTaxa/crops.zip via FTP...\n",
      "  0%|          | 0/1 [00:00<?, ?it/s]2025-06-10 11:38:37,612 - Computing hash for crops.zip...\n",
      "Uploading crops.zip...: 100%|██████████| 52.7M/52.7M [00:09<00:00, 5.97MB/s]\n",
      "2025-06-10 11:38:47,339 - Remote filename is FTP/Ecotaxa_Data_to_import/pyecotaxa/7a04d69278ab484ede857a0597a8ae35e4b7f088aeea9a2b4df8ee38a00de62e/crops.zip.\n",
      "2025-06-10 11:38:47,777 - Starting project import...\n",
      "Importing to 17302... (Processing files 20000/21001):  96%|█████████▌| 96/100 [01:25<00:03,  1.12%/s]\n",
      "100%|██████████| 1/1 [01:36<00:00, 96.27s/it]\n",
      "2025-06-10 11:40:13,883 - Pushing 1 files...\n",
      "2025-06-10 11:40:13,883 - Pushing /home/veit/PIScO_dev/Segmentation_results/HE570/HE570-PISCO-Profiles/TempResults/20210314_HE570_191-bop-035c_PISCO1/20210314_HE570_191-bop-035c_PISCO1_Results/EcoTaxa/crops.zip to 17302...\n"
     ]
    },
    {
     "name": "stdout",
     "output_type": "stream",
     "text": [
      "Successfully uploaded /home/veit/PIScO_dev/Segmentation_results/HE570/HE570-PISCO-Profiles/TempResults/20210305_HE570_033-bop-007_PISCO1/20210305_HE570_033-bop-007_PISCO1_Results/EcoTaxa/crops.zip to project 17302.\n",
      "Uploaded crops.zip to project 17302.\n",
      "20210314_HE570_191-bop-035c_PISCO1\n",
      "Processing EcoTaxa folder: /home/veit/PIScO_dev/Segmentation_results/HE570/HE570-PISCO-Profiles/TempResults/20210314_HE570_191-bop-035c_PISCO1/20210314_HE570_191-bop-035c_PISCO1_Results/EcoTaxa\n"
     ]
    },
    {
     "name": "stderr",
     "output_type": "stream",
     "text": [
      "2025-06-10 11:40:13,884 - Uploading /home/veit/PIScO_dev/Segmentation_results/HE570/HE570-PISCO-Profiles/TempResults/20210314_HE570_191-bop-035c_PISCO1/20210314_HE570_191-bop-035c_PISCO1_Results/EcoTaxa/crops.zip via FTP...\n",
      "  0%|          | 0/1 [00:00<?, ?it/s]2025-06-10 11:40:13,884 - Computing hash for crops.zip...\n",
      "Uploading crops.zip...: 100%|██████████| 10.1M/10.1M [00:02<00:00, 4.16MB/s]\n",
      "2025-06-10 11:40:16,857 - Remote filename is FTP/Ecotaxa_Data_to_import/pyecotaxa/6107e51ff5ff41a091516557c8fee199418b606875497bbe177f39dcfc09ef74/crops.zip.\n",
      "2025-06-10 11:40:17,270 - Starting project import...\n",
      "Importing to 17302... (Processing files 6400/7119):  92%|█████████▏| 92/100 [00:35<00:03,  2.60%/s]\n",
      "100%|██████████| 1/1 [00:38<00:00, 38.91s/it]\n",
      "2025-06-10 11:40:52,794 - Pushing 1 files...\n",
      "2025-06-10 11:40:52,794 - Pushing /home/veit/PIScO_dev/Segmentation_results/HE570/HE570-PISCO-Profiles/TempResults/20210315_HE570_221-bop-039a_PISCO1/20210315_HE570_221-bop-039a_PISCO1_Results/EcoTaxa/crops.zip to 17302...\n"
     ]
    },
    {
     "name": "stdout",
     "output_type": "stream",
     "text": [
      "Successfully uploaded /home/veit/PIScO_dev/Segmentation_results/HE570/HE570-PISCO-Profiles/TempResults/20210314_HE570_191-bop-035c_PISCO1/20210314_HE570_191-bop-035c_PISCO1_Results/EcoTaxa/crops.zip to project 17302.\n",
      "Uploaded crops.zip to project 17302.\n",
      "20210315_HE570_221-bop-039a_PISCO1\n",
      "Processing EcoTaxa folder: /home/veit/PIScO_dev/Segmentation_results/HE570/HE570-PISCO-Profiles/TempResults/20210315_HE570_221-bop-039a_PISCO1/20210315_HE570_221-bop-039a_PISCO1_Results/EcoTaxa\n"
     ]
    },
    {
     "name": "stderr",
     "output_type": "stream",
     "text": [
      "  0%|          | 0/1 [00:00<?, ?it/s]2025-06-10 11:40:52,795 - Uploading /home/veit/PIScO_dev/Segmentation_results/HE570/HE570-PISCO-Profiles/TempResults/20210315_HE570_221-bop-039a_PISCO1/20210315_HE570_221-bop-039a_PISCO1_Results/EcoTaxa/crops.zip via FTP...\n",
      "2025-06-10 11:40:52,795 - Computing hash for crops.zip...\n",
      "Uploading crops.zip...: 100%|██████████| 18.9M/18.9M [00:06<00:00, 2.94MB/s]\n",
      "2025-06-10 11:40:59,938 - Remote filename is FTP/Ecotaxa_Data_to_import/pyecotaxa/0c6cd09535fbedd0ff544d2278eb596fbaa444855395a4c398bfcf987fb1b80b/crops.zip.\n",
      "2025-06-10 11:41:00,414 - Starting project import...\n",
      "Importing to 17302... (Processing files 16800/16817): 100%|██████████| 100/100 [01:20<00:00,  1.24%/s]\n",
      "100%|██████████| 1/1 [01:28<00:00, 88.66s/it]\n",
      "2025-06-10 11:42:21,454 - Pushing 1 files...\n",
      "2025-06-10 11:42:21,455 - Pushing /home/veit/PIScO_dev/Segmentation_results/HE570/HE570-PISCO-Profiles/TempResults/20210312_HE570_135-bop-027_PISCO1/20210312_HE570_135-bop-027_PISCO1_Results/EcoTaxa/crops.zip to 17302...\n",
      "2025-06-10 11:42:21,455 - Uploading /home/veit/PIScO_dev/Segmentation_results/HE570/HE570-PISCO-Profiles/TempResults/20210312_HE570_135-bop-027_PISCO1/20210312_HE570_135-bop-027_PISCO1_Results/EcoTaxa/crops.zip via FTP...\n"
     ]
    },
    {
     "name": "stdout",
     "output_type": "stream",
     "text": [
      "Successfully uploaded /home/veit/PIScO_dev/Segmentation_results/HE570/HE570-PISCO-Profiles/TempResults/20210315_HE570_221-bop-039a_PISCO1/20210315_HE570_221-bop-039a_PISCO1_Results/EcoTaxa/crops.zip to project 17302.\n",
      "Uploaded crops.zip to project 17302.\n",
      "20210312_HE570_135-bop-027_PISCO1\n",
      "Processing EcoTaxa folder: /home/veit/PIScO_dev/Segmentation_results/HE570/HE570-PISCO-Profiles/TempResults/20210312_HE570_135-bop-027_PISCO1/20210312_HE570_135-bop-027_PISCO1_Results/EcoTaxa\n"
     ]
    },
    {
     "name": "stderr",
     "output_type": "stream",
     "text": [
      "  0%|          | 0/1 [00:00<?, ?it/s]2025-06-10 11:42:21,455 - Computing hash for crops.zip...\n",
      "Uploading crops.zip...: 100%|██████████| 40.0M/40.0M [00:04<00:00, 9.25MB/s]\n",
      "2025-06-10 11:42:26,412 - Remote filename is FTP/Ecotaxa_Data_to_import/pyecotaxa/c7a24d4c3394642a5e104d1088d85b88a1e4e08ba1ae48191119a6731b8ea172/crops.zip.\n",
      "2025-06-10 11:42:26,825 - Starting project import...\n",
      "Importing to 17302... (Processing files 17900/18788):  96%|█████████▌| 96/100 [01:25<00:03,  1.12%/s]\n",
      "100%|██████████| 1/1 [01:31<00:00, 91.47s/it]\n",
      "2025-06-10 11:43:52,929 - Pushing 1 files...\n",
      "2025-06-10 11:43:52,930 - Pushing /home/veit/PIScO_dev/Segmentation_results/HE570/HE570-PISCO-Profiles/TempResults/20210311_HE570_124-bop-026_PISCO1/20210311_HE570_124-bop-026_PISCO1_Results/EcoTaxa/crops.zip to 17302...\n"
     ]
    },
    {
     "name": "stdout",
     "output_type": "stream",
     "text": [
      "Successfully uploaded /home/veit/PIScO_dev/Segmentation_results/HE570/HE570-PISCO-Profiles/TempResults/20210312_HE570_135-bop-027_PISCO1/20210312_HE570_135-bop-027_PISCO1_Results/EcoTaxa/crops.zip to project 17302.\n",
      "Uploaded crops.zip to project 17302.\n",
      "20210311_HE570_124-bop-026_PISCO1\n",
      "Processing EcoTaxa folder: /home/veit/PIScO_dev/Segmentation_results/HE570/HE570-PISCO-Profiles/TempResults/20210311_HE570_124-bop-026_PISCO1/20210311_HE570_124-bop-026_PISCO1_Results/EcoTaxa\n"
     ]
    },
    {
     "name": "stderr",
     "output_type": "stream",
     "text": [
      "2025-06-10 11:43:52,930 - Uploading /home/veit/PIScO_dev/Segmentation_results/HE570/HE570-PISCO-Profiles/TempResults/20210311_HE570_124-bop-026_PISCO1/20210311_HE570_124-bop-026_PISCO1_Results/EcoTaxa/crops.zip via FTP...\n",
      "  0%|          | 0/1 [00:00<?, ?it/s]2025-06-10 11:43:52,931 - Computing hash for crops.zip...\n",
      "Uploading crops.zip...: 100%|██████████| 19.6M/19.6M [00:08<00:00, 2.48MB/s]\n",
      "2025-06-10 11:44:01,705 - Remote filename is FTP/Ecotaxa_Data_to_import/pyecotaxa/d80e45da024b4b96f7d97deffbe16a8a64f18d535033a5619cba1aa4547c9e22/crops.zip.\n",
      "2025-06-10 11:44:02,134 - Starting project import...\n",
      "Importing to 17302... (Processing files 16800/17709):  96%|█████████▌| 96/100 [01:20<00:03,  1.19%/s]\n",
      "100%|██████████| 1/1 [01:30<00:00, 90.24s/it]\n",
      "2025-06-10 11:45:23,172 - Pushing 1 files...\n",
      "2025-06-10 11:45:23,173 - Pushing /home/veit/PIScO_dev/Segmentation_results/HE570/HE570-PISCO-Profiles/TempResults/20210315_HE570_211-bop-037c_PISCO1/20210315_HE570_211-bop-037c_PISCO1_Results/EcoTaxa/crops.zip to 17302...\n"
     ]
    },
    {
     "name": "stdout",
     "output_type": "stream",
     "text": [
      "Successfully uploaded /home/veit/PIScO_dev/Segmentation_results/HE570/HE570-PISCO-Profiles/TempResults/20210311_HE570_124-bop-026_PISCO1/20210311_HE570_124-bop-026_PISCO1_Results/EcoTaxa/crops.zip to project 17302.\n",
      "Uploaded crops.zip to project 17302.\n",
      "20210315_HE570_211-bop-037c_PISCO1\n",
      "Processing EcoTaxa folder: /home/veit/PIScO_dev/Segmentation_results/HE570/HE570-PISCO-Profiles/TempResults/20210315_HE570_211-bop-037c_PISCO1/20210315_HE570_211-bop-037c_PISCO1_Results/EcoTaxa\n"
     ]
    },
    {
     "name": "stderr",
     "output_type": "stream",
     "text": [
      "  0%|          | 0/1 [00:00<?, ?it/s]2025-06-10 11:45:23,173 - Uploading /home/veit/PIScO_dev/Segmentation_results/HE570/HE570-PISCO-Profiles/TempResults/20210315_HE570_211-bop-037c_PISCO1/20210315_HE570_211-bop-037c_PISCO1_Results/EcoTaxa/crops.zip via FTP...\n",
      "2025-06-10 11:45:23,174 - Computing hash for crops.zip...\n",
      "Uploading crops.zip...: 100%|██████████| 31.3M/31.3M [00:03<00:00, 10.4MB/s]\n",
      "2025-06-10 11:45:26,863 - Remote filename is FTP/Ecotaxa_Data_to_import/pyecotaxa/833865d23d70a414c2edbb725d285ebf3af5d2c6a299255cf5a76d53b9e91d23/crops.zip.\n",
      "2025-06-10 11:45:27,305 - Starting project import...\n",
      "Importing to 17302... (Processing files 18500/19506):  96%|█████████▌| 96/100 [01:31<00:03,  1.05%/s]\n",
      "100%|██████████| 1/1 [01:35<00:00, 95.28s/it]\n",
      "2025-06-10 11:46:58,456 - Pushing 1 files...\n",
      "2025-06-10 11:46:58,457 - Pushing /home/veit/PIScO_dev/Segmentation_results/HE570/HE570-PISCO-Profiles/TempResults/20210308_HE570_085-bop-017_PISCO1/20210308_HE570_085-bop-017_PISCO1_Results/EcoTaxa/crops.zip to 17302...\n",
      "2025-06-10 11:46:58,457 - Uploading /home/veit/PIScO_dev/Segmentation_results/HE570/HE570-PISCO-Profiles/TempResults/20210308_HE570_085-bop-017_PISCO1/20210308_HE570_085-bop-017_PISCO1_Results/EcoTaxa/crops.zip via FTP...\n"
     ]
    },
    {
     "name": "stdout",
     "output_type": "stream",
     "text": [
      "Successfully uploaded /home/veit/PIScO_dev/Segmentation_results/HE570/HE570-PISCO-Profiles/TempResults/20210315_HE570_211-bop-037c_PISCO1/20210315_HE570_211-bop-037c_PISCO1_Results/EcoTaxa/crops.zip to project 17302.\n",
      "Uploaded crops.zip to project 17302.\n",
      "20210308_HE570_085-bop-017_PISCO1\n",
      "Processing EcoTaxa folder: /home/veit/PIScO_dev/Segmentation_results/HE570/HE570-PISCO-Profiles/TempResults/20210308_HE570_085-bop-017_PISCO1/20210308_HE570_085-bop-017_PISCO1_Results/EcoTaxa\n"
     ]
    },
    {
     "name": "stderr",
     "output_type": "stream",
     "text": [
      "  0%|          | 0/1 [00:00<?, ?it/s]2025-06-10 11:46:58,458 - Computing hash for crops.zip...\n",
      "Uploading crops.zip...: 100%|██████████| 110M/110M [00:04<00:00, 26.1MB/s]\n",
      "2025-06-10 11:47:03,327 - Remote filename is FTP/Ecotaxa_Data_to_import/pyecotaxa/4f2eae623052827a01286a68aee2deff37d92bddf3718da2b97ddd7e381318cc/crops.zip.\n",
      "2025-06-10 11:47:03,744 - Starting project import...\n",
      "Importing to 17302... (Processing files 8700/9438):  94%|█████████▍| 94/100 [00:55<00:03,  1.69%/s]\n",
      "100%|██████████| 1/1 [01:01<00:00, 61.02s/it]\n",
      "2025-06-10 11:47:59,482 - Pushing 1 files...\n"
     ]
    },
    {
     "name": "stdout",
     "output_type": "stream",
     "text": [
      "Successfully uploaded /home/veit/PIScO_dev/Segmentation_results/HE570/HE570-PISCO-Profiles/TempResults/20210308_HE570_085-bop-017_PISCO1/20210308_HE570_085-bop-017_PISCO1_Results/EcoTaxa/crops.zip to project 17302.\n",
      "Uploaded crops.zip to project 17302.\n",
      "20210312_HE570_151-bop-031_PISCO1\n",
      "Processing EcoTaxa folder: /home/veit/PIScO_dev/Segmentation_results/HE570/HE570-PISCO-Profiles/TempResults/20210312_HE570_151-bop-031_PISCO1/20210312_HE570_151-bop-031_PISCO1_Results/EcoTaxa\n"
     ]
    },
    {
     "name": "stderr",
     "output_type": "stream",
     "text": [
      "2025-06-10 11:47:59,483 - Pushing /home/veit/PIScO_dev/Segmentation_results/HE570/HE570-PISCO-Profiles/TempResults/20210312_HE570_151-bop-031_PISCO1/20210312_HE570_151-bop-031_PISCO1_Results/EcoTaxa/crops.zip to 17302...\n",
      "  0%|          | 0/1 [00:00<?, ?it/s]2025-06-10 11:47:59,484 - Uploading /home/veit/PIScO_dev/Segmentation_results/HE570/HE570-PISCO-Profiles/TempResults/20210312_HE570_151-bop-031_PISCO1/20210312_HE570_151-bop-031_PISCO1_Results/EcoTaxa/crops.zip via FTP...\n",
      "2025-06-10 11:47:59,484 - Computing hash for crops.zip...\n",
      "Uploading crops.zip...: 100%|██████████| 6.41M/6.41M [00:02<00:00, 2.45MB/s]\n",
      "2025-06-10 11:48:02,638 - Remote filename is FTP/Ecotaxa_Data_to_import/pyecotaxa/b9451834cb90debfb6f6e0094fadf7a6c7df850bbf19f06111c75a5d85d4ba32/crops.zip.\n",
      "2025-06-10 11:48:03,127 - Starting project import...\n",
      "Importing to 17302... (Processing files 4300/5501):  83%|████████▎ | 83/100 [00:30<00:06,  2.74%/s]\n",
      "100%|██████████| 1/1 [00:34<00:00, 34.15s/it]\n",
      "2025-06-10 11:48:33,633 - Pushing 1 files...\n",
      "2025-06-10 11:48:33,634 - Pushing /home/veit/PIScO_dev/Segmentation_results/HE570/HE570-PISCO-Profiles/TempResults/20210306_HE570_050-bop-012_PISCO1/20210306_HE570_050-bop-012_PISCO1_Results/EcoTaxa/crops.zip to 17302...\n"
     ]
    },
    {
     "name": "stdout",
     "output_type": "stream",
     "text": [
      "Successfully uploaded /home/veit/PIScO_dev/Segmentation_results/HE570/HE570-PISCO-Profiles/TempResults/20210312_HE570_151-bop-031_PISCO1/20210312_HE570_151-bop-031_PISCO1_Results/EcoTaxa/crops.zip to project 17302.\n",
      "Uploaded crops.zip to project 17302.\n",
      "20210306_HE570_050-bop-012_PISCO1\n",
      "Processing EcoTaxa folder: /home/veit/PIScO_dev/Segmentation_results/HE570/HE570-PISCO-Profiles/TempResults/20210306_HE570_050-bop-012_PISCO1/20210306_HE570_050-bop-012_PISCO1_Results/EcoTaxa\n"
     ]
    },
    {
     "name": "stderr",
     "output_type": "stream",
     "text": [
      "2025-06-10 11:48:33,634 - Uploading /home/veit/PIScO_dev/Segmentation_results/HE570/HE570-PISCO-Profiles/TempResults/20210306_HE570_050-bop-012_PISCO1/20210306_HE570_050-bop-012_PISCO1_Results/EcoTaxa/crops.zip via FTP...\n",
      "  0%|          | 0/1 [00:00<?, ?it/s]2025-06-10 11:48:33,635 - Computing hash for crops.zip...\n",
      "Uploading crops.zip...: 100%|██████████| 56.9M/56.9M [00:03<00:00, 17.3MB/s]\n",
      "2025-06-10 11:48:37,503 - Remote filename is FTP/Ecotaxa_Data_to_import/pyecotaxa/9504721cc865e52b609330b0786102304775198f92fdc25f883fee3d45466b32/crops.zip.\n",
      "2025-06-10 11:48:37,932 - Starting project import...\n",
      "Importing to 17302... (Processing files 25800/26482):  98%|█████████▊| 98/100 [01:51<00:02,  1.14s/%]\n",
      "100%|██████████| 1/1 [01:55<00:00, 115.72s/it]\n",
      "2025-06-10 11:50:29,353 - Pushing 1 files...\n",
      "2025-06-10 11:50:29,353 - Pushing /home/veit/PIScO_dev/Segmentation_results/HE570/HE570-PISCO-Profiles/TempResults/20210314_HE570_191-bop-035a_PISCO1/20210314_HE570_191-bop-035a_PISCO1_Results/EcoTaxa/crops.zip to 17302...\n"
     ]
    },
    {
     "name": "stdout",
     "output_type": "stream",
     "text": [
      "Successfully uploaded /home/veit/PIScO_dev/Segmentation_results/HE570/HE570-PISCO-Profiles/TempResults/20210306_HE570_050-bop-012_PISCO1/20210306_HE570_050-bop-012_PISCO1_Results/EcoTaxa/crops.zip to project 17302.\n",
      "Uploaded crops.zip to project 17302.\n",
      "20210314_HE570_191-bop-035a_PISCO1\n",
      "Processing EcoTaxa folder: /home/veit/PIScO_dev/Segmentation_results/HE570/HE570-PISCO-Profiles/TempResults/20210314_HE570_191-bop-035a_PISCO1/20210314_HE570_191-bop-035a_PISCO1_Results/EcoTaxa\n"
     ]
    },
    {
     "name": "stderr",
     "output_type": "stream",
     "text": [
      "2025-06-10 11:50:29,354 - Uploading /home/veit/PIScO_dev/Segmentation_results/HE570/HE570-PISCO-Profiles/TempResults/20210314_HE570_191-bop-035a_PISCO1/20210314_HE570_191-bop-035a_PISCO1_Results/EcoTaxa/crops.zip via FTP...\n",
      "  0%|          | 0/1 [00:00<?, ?it/s]2025-06-10 11:50:29,354 - Computing hash for crops.zip...\n",
      "Uploading crops.zip...: 100%|██████████| 38.8M/38.8M [00:03<00:00, 11.3MB/s]\n",
      "2025-06-10 11:50:33,375 - Remote filename is FTP/Ecotaxa_Data_to_import/pyecotaxa/5e108a44062a6037af957d31f1fae894be28e6366bc8f303bc5b1d1a8433c528/crops.zip.\n",
      "2025-06-10 11:50:33,851 - Starting project import...\n",
      "Importing to 17302... (Processing files 35100/35113): 100%|██████████| 100/100 [02:36<00:00,  1.57s/%]\n",
      "100%|██████████| 1/1 [02:41<00:00, 161.33s/it]\n",
      "2025-06-10 11:53:10,687 - Pushing 1 files...\n",
      "2025-06-10 11:53:10,687 - Pushing /home/veit/PIScO_dev/Segmentation_results/HE570/HE570-PISCO-Profiles/TempResults/20210304_HE570_014-bop-002_PISCO1/20210304_HE570_014-bop-002_PISCO1_Results/EcoTaxa/crops.zip to 17302...\n"
     ]
    },
    {
     "name": "stdout",
     "output_type": "stream",
     "text": [
      "Successfully uploaded /home/veit/PIScO_dev/Segmentation_results/HE570/HE570-PISCO-Profiles/TempResults/20210314_HE570_191-bop-035a_PISCO1/20210314_HE570_191-bop-035a_PISCO1_Results/EcoTaxa/crops.zip to project 17302.\n",
      "Uploaded crops.zip to project 17302.\n",
      "20210304_HE570_014-bop-002_PISCO1\n",
      "Processing EcoTaxa folder: /home/veit/PIScO_dev/Segmentation_results/HE570/HE570-PISCO-Profiles/TempResults/20210304_HE570_014-bop-002_PISCO1/20210304_HE570_014-bop-002_PISCO1_Results/EcoTaxa\n"
     ]
    },
    {
     "name": "stderr",
     "output_type": "stream",
     "text": [
      "2025-06-10 11:53:10,688 - Uploading /home/veit/PIScO_dev/Segmentation_results/HE570/HE570-PISCO-Profiles/TempResults/20210304_HE570_014-bop-002_PISCO1/20210304_HE570_014-bop-002_PISCO1_Results/EcoTaxa/crops.zip via FTP...\n",
      "  0%|          | 0/1 [00:00<?, ?it/s]2025-06-10 11:53:10,688 - Computing hash for crops.zip...\n",
      "Uploading crops.zip...: 100%|██████████| 67.0M/67.0M [00:04<00:00, 14.7MB/s]\n",
      "2025-06-10 11:53:15,914 - Remote filename is FTP/Ecotaxa_Data_to_import/pyecotaxa/316253a7c36719ae9ab4a3c5d9f87732f2fa0205766de2f762244c9851205db7/crops.zip.\n",
      "2025-06-10 11:53:16,368 - Starting project import...\n",
      "Importing to 17302... (Processing files 24700/24791): 100%|██████████| 100/100 [01:46<00:00,  1.06s/%]\n",
      "100%|██████████| 1/1 [01:51<00:00, 111.97s/it]\n",
      "2025-06-10 11:55:02,659 - Pushing 1 files...\n",
      "2025-06-10 11:55:02,659 - Pushing /home/veit/PIScO_dev/Segmentation_results/HE570/HE570-PISCO-Profiles/TempResults/20210307_HE570_076-bop-016e_PISCO1/20210307_HE570_076-bop-016e_PISCO1_Results/EcoTaxa/crops.zip to 17302...\n"
     ]
    },
    {
     "name": "stdout",
     "output_type": "stream",
     "text": [
      "Successfully uploaded /home/veit/PIScO_dev/Segmentation_results/HE570/HE570-PISCO-Profiles/TempResults/20210304_HE570_014-bop-002_PISCO1/20210304_HE570_014-bop-002_PISCO1_Results/EcoTaxa/crops.zip to project 17302.\n",
      "Uploaded crops.zip to project 17302.\n",
      "20210307_HE570_076-bop-016e_PISCO1\n",
      "Processing EcoTaxa folder: /home/veit/PIScO_dev/Segmentation_results/HE570/HE570-PISCO-Profiles/TempResults/20210307_HE570_076-bop-016e_PISCO1/20210307_HE570_076-bop-016e_PISCO1_Results/EcoTaxa\n"
     ]
    },
    {
     "name": "stderr",
     "output_type": "stream",
     "text": [
      "  0%|          | 0/1 [00:00<?, ?it/s]2025-06-10 11:55:02,660 - Uploading /home/veit/PIScO_dev/Segmentation_results/HE570/HE570-PISCO-Profiles/TempResults/20210307_HE570_076-bop-016e_PISCO1/20210307_HE570_076-bop-016e_PISCO1_Results/EcoTaxa/crops.zip via FTP...\n",
      "2025-06-10 11:55:02,660 - Computing hash for crops.zip...\n",
      "Uploading crops.zip...: 100%|██████████| 8.91k/8.91k [00:00<00:00, 16.0kB/s]\n",
      "2025-06-10 11:55:03,665 - Remote filename is FTP/Ecotaxa_Data_to_import/pyecotaxa/7435d545b4052e8eb0bc8e39d91b4517c98d1a55c10b723796abe77a7e829288/crops.zip.\n",
      "2025-06-10 11:55:04,372 - Starting project import...\n",
      "Importing to 17302... (Validating files 0/1):   0%|          | 0/100 [00:15<?, ?%/s]\n",
      "100%|██████████| 1/1 [00:16<00:00, 17.00s/it]\n",
      "2025-06-10 11:55:19,659 - Pushing 1 files...\n",
      "2025-06-10 11:55:19,659 - Pushing /home/veit/PIScO_dev/Segmentation_results/HE570/HE570-PISCO-Profiles/TempResults/20210307_HE570_076-bop-016b_PISCO1/20210307_HE570_076-bop-016b_PISCO1_Results/EcoTaxa/crops.zip to 17302...\n"
     ]
    },
    {
     "name": "stdout",
     "output_type": "stream",
     "text": [
      "Successfully uploaded /home/veit/PIScO_dev/Segmentation_results/HE570/HE570-PISCO-Profiles/TempResults/20210307_HE570_076-bop-016e_PISCO1/20210307_HE570_076-bop-016e_PISCO1_Results/EcoTaxa/crops.zip to project 17302.\n",
      "Uploaded crops.zip to project 17302.\n",
      "20210307_HE570_076-bop-016b_PISCO1\n",
      "Processing EcoTaxa folder: /home/veit/PIScO_dev/Segmentation_results/HE570/HE570-PISCO-Profiles/TempResults/20210307_HE570_076-bop-016b_PISCO1/20210307_HE570_076-bop-016b_PISCO1_Results/EcoTaxa\n"
     ]
    },
    {
     "name": "stderr",
     "output_type": "stream",
     "text": [
      "  0%|          | 0/1 [00:00<?, ?it/s]2025-06-10 11:55:19,660 - Uploading /home/veit/PIScO_dev/Segmentation_results/HE570/HE570-PISCO-Profiles/TempResults/20210307_HE570_076-bop-016b_PISCO1/20210307_HE570_076-bop-016b_PISCO1_Results/EcoTaxa/crops.zip via FTP...\n",
      "2025-06-10 11:55:19,660 - Computing hash for crops.zip...\n",
      "Uploading crops.zip...: 100%|██████████| 35.3M/35.3M [00:02<00:00, 13.1MB/s]\n",
      "2025-06-10 11:55:22,947 - Remote filename is FTP/Ecotaxa_Data_to_import/pyecotaxa/20a00032c47f53e324c7a50a19add10692987212146eb9a0b0c3a8b3a222c09c/crops.zip.\n",
      "2025-06-10 11:55:23,420 - Starting project import...\n",
      "Importing to 17302... (Processing files 4100/4415):  94%|█████████▍| 94/100 [00:35<00:02,  2.66%/s]\n",
      "100%|██████████| 1/1 [00:39<00:00, 39.29s/it]\n",
      "2025-06-10 11:55:58,954 - Pushing 1 files...\n",
      "2025-06-10 11:55:58,955 - Pushing /home/veit/PIScO_dev/Segmentation_results/HE570/HE570-PISCO-Profiles/TempResults/20210305_HE570_040-bop-009_PISCO1/20210305_HE570_040-bop-009_PISCO1_Results/EcoTaxa/crops.zip to 17302...\n",
      "2025-06-10 11:55:58,956 - Uploading /home/veit/PIScO_dev/Segmentation_results/HE570/HE570-PISCO-Profiles/TempResults/20210305_HE570_040-bop-009_PISCO1/20210305_HE570_040-bop-009_PISCO1_Results/EcoTaxa/crops.zip via FTP...\n"
     ]
    },
    {
     "name": "stdout",
     "output_type": "stream",
     "text": [
      "Successfully uploaded /home/veit/PIScO_dev/Segmentation_results/HE570/HE570-PISCO-Profiles/TempResults/20210307_HE570_076-bop-016b_PISCO1/20210307_HE570_076-bop-016b_PISCO1_Results/EcoTaxa/crops.zip to project 17302.\n",
      "Uploaded crops.zip to project 17302.\n",
      "20210305_HE570_040-bop-009_PISCO1\n",
      "Processing EcoTaxa folder: /home/veit/PIScO_dev/Segmentation_results/HE570/HE570-PISCO-Profiles/TempResults/20210305_HE570_040-bop-009_PISCO1/20210305_HE570_040-bop-009_PISCO1_Results/EcoTaxa\n"
     ]
    },
    {
     "name": "stderr",
     "output_type": "stream",
     "text": [
      "  0%|          | 0/1 [00:00<?, ?it/s]2025-06-10 11:55:58,957 - Computing hash for crops.zip...\n",
      "Uploading crops.zip...: 100%|██████████| 105M/105M [00:02<00:00, 43.7MB/s]\n",
      "2025-06-10 11:56:02,009 - Remote filename is FTP/Ecotaxa_Data_to_import/pyecotaxa/9d3f9d0fa75dde51fe1ffaa103351bc8adda1bf84be87a3e799b2597d95af39c/crops.zip.\n",
      "2025-06-10 11:56:02,469 - Starting project import...\n",
      "Importing to 17302... (Processing files 10800/11438):  96%|█████████▌| 96/100 [01:00<00:02,  1.58%/s]\n",
      "100%|██████████| 1/1 [01:05<00:00, 65.21s/it]\n",
      "2025-06-10 11:57:04,169 - Pushing 1 files...\n",
      "2025-06-10 11:57:04,170 - Pushing /home/veit/PIScO_dev/Segmentation_results/HE570/HE570-PISCO-Profiles/TempResults/20210314_HE570_191-bop-035d_PISCO1/20210314_HE570_191-bop-035d_PISCO1_Results/EcoTaxa/crops.zip to 17302...\n"
     ]
    },
    {
     "name": "stdout",
     "output_type": "stream",
     "text": [
      "Successfully uploaded /home/veit/PIScO_dev/Segmentation_results/HE570/HE570-PISCO-Profiles/TempResults/20210305_HE570_040-bop-009_PISCO1/20210305_HE570_040-bop-009_PISCO1_Results/EcoTaxa/crops.zip to project 17302.\n",
      "Uploaded crops.zip to project 17302.\n",
      "20210314_HE570_191-bop-035d_PISCO1\n",
      "Processing EcoTaxa folder: /home/veit/PIScO_dev/Segmentation_results/HE570/HE570-PISCO-Profiles/TempResults/20210314_HE570_191-bop-035d_PISCO1/20210314_HE570_191-bop-035d_PISCO1_Results/EcoTaxa\n"
     ]
    },
    {
     "name": "stderr",
     "output_type": "stream",
     "text": [
      "2025-06-10 11:57:04,170 - Uploading /home/veit/PIScO_dev/Segmentation_results/HE570/HE570-PISCO-Profiles/TempResults/20210314_HE570_191-bop-035d_PISCO1/20210314_HE570_191-bop-035d_PISCO1_Results/EcoTaxa/crops.zip via FTP...\n",
      "  0%|          | 0/1 [00:00<?, ?it/s]2025-06-10 11:57:04,171 - Computing hash for crops.zip...\n",
      "Uploading crops.zip...: 100%|██████████| 11.2M/11.2M [00:02<00:00, 4.25MB/s]\n",
      "2025-06-10 11:57:07,376 - Remote filename is FTP/Ecotaxa_Data_to_import/pyecotaxa/752eadd6f981ad2f37235dc77c4cb52e6c578807056570f39f1c178a74e10a5c/crops.zip.\n",
      "2025-06-10 11:57:07,794 - Starting project import...\n",
      "Importing to 17302... (Processing files 9500/10472):  93%|█████████▎| 93/100 [00:50<00:03,  1.84%/s]\n",
      "100%|██████████| 1/1 [00:54<00:00, 54.33s/it]\n",
      "2025-06-10 11:57:58,500 - Pushing 1 files...\n",
      "2025-06-10 11:57:58,501 - Pushing /home/veit/PIScO_dev/Segmentation_results/HE570/HE570-PISCO-Profiles/TempResults/20210307_HE570_076-bop-016c_PISCO1/20210307_HE570_076-bop-016c_PISCO1_Results/EcoTaxa/crops.zip to 17302...\n",
      "2025-06-10 11:57:58,501 - Uploading /home/veit/PIScO_dev/Segmentation_results/HE570/HE570-PISCO-Profiles/TempResults/20210307_HE570_076-bop-016c_PISCO1/20210307_HE570_076-bop-016c_PISCO1_Results/EcoTaxa/crops.zip via FTP...\n",
      "2025-06-10 11:57:58,501 - Computing hash for crops.zip...\n"
     ]
    },
    {
     "name": "stdout",
     "output_type": "stream",
     "text": [
      "Successfully uploaded /home/veit/PIScO_dev/Segmentation_results/HE570/HE570-PISCO-Profiles/TempResults/20210314_HE570_191-bop-035d_PISCO1/20210314_HE570_191-bop-035d_PISCO1_Results/EcoTaxa/crops.zip to project 17302.\n",
      "Uploaded crops.zip to project 17302.\n",
      "20210307_HE570_076-bop-016c_PISCO1\n",
      "Processing EcoTaxa folder: /home/veit/PIScO_dev/Segmentation_results/HE570/HE570-PISCO-Profiles/TempResults/20210307_HE570_076-bop-016c_PISCO1/20210307_HE570_076-bop-016c_PISCO1_Results/EcoTaxa\n"
     ]
    },
    {
     "name": "stderr",
     "output_type": "stream",
     "text": [
      "Uploading crops.zip...: 100%|██████████| 30.6M/30.6M [00:03<00:00, 10.7MB/s]\n",
      "2025-06-10 11:58:01,946 - Remote filename is FTP/Ecotaxa_Data_to_import/pyecotaxa/0ce26e8badc3daef0f95c07a9ed665710a885c4ce28f037009d250a3e876bfb8/crops.zip.\n",
      "2025-06-10 11:58:02,350 - Starting project import...\n",
      "Importing to 17302... (Processing files 1600/2292):  76%|███████▌  | 76/100 [00:25<00:07,  3.00%/s]\n",
      "100%|██████████| 1/1 [00:29<00:00, 29.27s/it]\n",
      "2025-06-10 11:58:27,769 - Pushing 1 files...\n",
      "2025-06-10 11:58:27,770 - Pushing /home/veit/PIScO_dev/Segmentation_results/HE570/HE570-PISCO-Profiles/TempResults/20210307_HE570_069-bop-015a_PISCO1/20210307_HE570_069-bop-015a_PISCO1_Results/EcoTaxa/crops.zip to 17302...\n",
      "2025-06-10 11:58:27,770 - Uploading /home/veit/PIScO_dev/Segmentation_results/HE570/HE570-PISCO-Profiles/TempResults/20210307_HE570_069-bop-015a_PISCO1/20210307_HE570_069-bop-015a_PISCO1_Results/EcoTaxa/crops.zip via FTP...\n"
     ]
    },
    {
     "name": "stdout",
     "output_type": "stream",
     "text": [
      "Successfully uploaded /home/veit/PIScO_dev/Segmentation_results/HE570/HE570-PISCO-Profiles/TempResults/20210307_HE570_076-bop-016c_PISCO1/20210307_HE570_076-bop-016c_PISCO1_Results/EcoTaxa/crops.zip to project 17302.\n",
      "Uploaded crops.zip to project 17302.\n",
      "20210307_HE570_069-bop-015a_PISCO1\n",
      "Processing EcoTaxa folder: /home/veit/PIScO_dev/Segmentation_results/HE570/HE570-PISCO-Profiles/TempResults/20210307_HE570_069-bop-015a_PISCO1/20210307_HE570_069-bop-015a_PISCO1_Results/EcoTaxa\n"
     ]
    },
    {
     "name": "stderr",
     "output_type": "stream",
     "text": [
      "  0%|          | 0/1 [00:00<?, ?it/s]2025-06-10 11:58:27,771 - Computing hash for crops.zip...\n",
      "Uploading crops.zip...: 100%|██████████| 37.2M/37.2M [00:02<00:00, 14.2MB/s]\n",
      "2025-06-10 11:58:30,984 - Remote filename is FTP/Ecotaxa_Data_to_import/pyecotaxa/33b53584d2f96d84d3b5991a74fabd9e7fc4be22bbf6eb3d0997fbbe35ce3485/crops.zip.\n",
      "2025-06-10 11:58:31,433 - Starting project import...\n",
      "Importing to 17302... (Processing files 1700/2160):  83%|████████▎ | 83/100 [00:25<00:05,  3.28%/s]\n",
      "100%|██████████| 1/1 [00:29<00:00, 29.27s/it]\n",
      "2025-06-10 11:58:57,038 - Pushing 1 files...\n"
     ]
    },
    {
     "name": "stdout",
     "output_type": "stream",
     "text": [
      "Successfully uploaded /home/veit/PIScO_dev/Segmentation_results/HE570/HE570-PISCO-Profiles/TempResults/20210307_HE570_069-bop-015a_PISCO1/20210307_HE570_069-bop-015a_PISCO1_Results/EcoTaxa/crops.zip to project 17302.\n",
      "Uploaded crops.zip to project 17302.\n",
      "20210311_HE570_103-bop-020_PISCO1\n",
      "Processing EcoTaxa folder: /home/veit/PIScO_dev/Segmentation_results/HE570/HE570-PISCO-Profiles/TempResults/20210311_HE570_103-bop-020_PISCO1/20210311_HE570_103-bop-020_PISCO1_Results/EcoTaxa\n"
     ]
    },
    {
     "name": "stderr",
     "output_type": "stream",
     "text": [
      "  0%|          | 0/1 [00:00<?, ?it/s]2025-06-10 11:58:57,039 - Pushing /home/veit/PIScO_dev/Segmentation_results/HE570/HE570-PISCO-Profiles/TempResults/20210311_HE570_103-bop-020_PISCO1/20210311_HE570_103-bop-020_PISCO1_Results/EcoTaxa/crops.zip to 17302...\n",
      "2025-06-10 11:58:57,040 - Uploading /home/veit/PIScO_dev/Segmentation_results/HE570/HE570-PISCO-Profiles/TempResults/20210311_HE570_103-bop-020_PISCO1/20210311_HE570_103-bop-020_PISCO1_Results/EcoTaxa/crops.zip via FTP...\n",
      "2025-06-10 11:58:57,040 - Computing hash for crops.zip...\n",
      "Uploading crops.zip...: 100%|██████████| 3.11M/3.11M [00:02<00:00, 1.51MB/s]\n",
      "2025-06-10 11:58:59,606 - Remote filename is FTP/Ecotaxa_Data_to_import/pyecotaxa/c4aac50d9424a5827bdb96218eeb54a3400f412e2d2d0c219ed3411d1d543f12/crops.zip.\n",
      "2025-06-10 11:59:00,068 - Starting project import...\n",
      "Importing to 17302... (Processing files 2700/3013):  92%|█████████▏| 92/100 [00:30<00:02,  3.03%/s]\n",
      "100%|██████████| 1/1 [00:33<00:00, 33.50s/it]\n",
      "2025-06-10 11:59:30,538 - Pushing 1 files...\n",
      "2025-06-10 11:59:30,539 - Pushing /home/veit/PIScO_dev/Segmentation_results/HE570/HE570-PISCO-Profiles/TempResults/20210314_HE570_191-bop-035b_PISCO1/20210314_HE570_191-bop-035b_PISCO1_Results/EcoTaxa/crops.zip to 17302...\n",
      "2025-06-10 11:59:30,539 - Uploading /home/veit/PIScO_dev/Segmentation_results/HE570/HE570-PISCO-Profiles/TempResults/20210314_HE570_191-bop-035b_PISCO1/20210314_HE570_191-bop-035b_PISCO1_Results/EcoTaxa/crops.zip via FTP...\n"
     ]
    },
    {
     "name": "stdout",
     "output_type": "stream",
     "text": [
      "Successfully uploaded /home/veit/PIScO_dev/Segmentation_results/HE570/HE570-PISCO-Profiles/TempResults/20210311_HE570_103-bop-020_PISCO1/20210311_HE570_103-bop-020_PISCO1_Results/EcoTaxa/crops.zip to project 17302.\n",
      "Uploaded crops.zip to project 17302.\n",
      "20210314_HE570_191-bop-035b_PISCO1\n",
      "Processing EcoTaxa folder: /home/veit/PIScO_dev/Segmentation_results/HE570/HE570-PISCO-Profiles/TempResults/20210314_HE570_191-bop-035b_PISCO1/20210314_HE570_191-bop-035b_PISCO1_Results/EcoTaxa\n"
     ]
    },
    {
     "name": "stderr",
     "output_type": "stream",
     "text": [
      "  0%|          | 0/1 [00:00<?, ?it/s]2025-06-10 11:59:30,540 - Computing hash for crops.zip...\n",
      "Uploading crops.zip...: 100%|██████████| 18.7M/18.7M [00:02<00:00, 9.38MB/s]\n",
      "2025-06-10 11:59:33,104 - Remote filename is FTP/Ecotaxa_Data_to_import/pyecotaxa/0aa606ef7fe224e04da2d018a78df49185d1cae31460642f6208012391b22865/crops.zip.\n",
      "2025-06-10 11:59:33,558 - Starting project import...\n",
      "Importing to 17302... (Processing files 15200/16495):  94%|█████████▍| 94/100 [01:10<00:04,  1.33%/s]\n",
      "100%|██████████| 1/1 [01:13<00:00, 73.96s/it]\n",
      "2025-06-10 12:00:44,501 - Pushing 1 files...\n"
     ]
    },
    {
     "name": "stdout",
     "output_type": "stream",
     "text": [
      "Successfully uploaded /home/veit/PIScO_dev/Segmentation_results/HE570/HE570-PISCO-Profiles/TempResults/20210314_HE570_191-bop-035b_PISCO1/20210314_HE570_191-bop-035b_PISCO1_Results/EcoTaxa/crops.zip to project 17302.\n",
      "Uploaded crops.zip to project 17302.\n",
      "20210312_HE570_147-bop-030_PISCO1\n",
      "Processing EcoTaxa folder: /home/veit/PIScO_dev/Segmentation_results/HE570/HE570-PISCO-Profiles/TempResults/20210312_HE570_147-bop-030_PISCO1/20210312_HE570_147-bop-030_PISCO1_Results/EcoTaxa\n"
     ]
    },
    {
     "name": "stderr",
     "output_type": "stream",
     "text": [
      "  0%|          | 0/1 [00:00<?, ?it/s]2025-06-10 12:00:44,502 - Pushing /home/veit/PIScO_dev/Segmentation_results/HE570/HE570-PISCO-Profiles/TempResults/20210312_HE570_147-bop-030_PISCO1/20210312_HE570_147-bop-030_PISCO1_Results/EcoTaxa/crops.zip to 17302...\n",
      "2025-06-10 12:00:44,503 - Uploading /home/veit/PIScO_dev/Segmentation_results/HE570/HE570-PISCO-Profiles/TempResults/20210312_HE570_147-bop-030_PISCO1/20210312_HE570_147-bop-030_PISCO1_Results/EcoTaxa/crops.zip via FTP...\n",
      "2025-06-10 12:00:44,504 - Computing hash for crops.zip...\n",
      "Uploading crops.zip...: 100%|██████████| 19.3M/19.3M [00:04<00:00, 4.81MB/s]\n",
      "2025-06-10 12:00:49,213 - Remote filename is FTP/Ecotaxa_Data_to_import/pyecotaxa/055fb61660c541c1805acf28194c526aec4452ed9bfc8725012a07719613e083/crops.zip.\n",
      "2025-06-10 12:00:49,697 - Starting project import...\n",
      "Importing to 17302... (Processing files 6900/7322):  95%|█████████▌| 95/100 [00:45<00:02,  2.09%/s]\n",
      "100%|██████████| 1/1 [00:50<00:00, 50.85s/it]\n",
      "2025-06-10 12:01:35,357 - Pushing 1 files...\n",
      "2025-06-10 12:01:35,357 - Pushing /home/veit/PIScO_dev/Segmentation_results/HE570/HE570-PISCO-Profiles/TempResults/20210306_HE570_060-bop-014_PISCO1/20210306_HE570_060-bop-014_PISCO1_Results/EcoTaxa/crops.zip to 17302...\n",
      "2025-06-10 12:01:35,358 - Uploading /home/veit/PIScO_dev/Segmentation_results/HE570/HE570-PISCO-Profiles/TempResults/20210306_HE570_060-bop-014_PISCO1/20210306_HE570_060-bop-014_PISCO1_Results/EcoTaxa/crops.zip via FTP...\n"
     ]
    },
    {
     "name": "stdout",
     "output_type": "stream",
     "text": [
      "Successfully uploaded /home/veit/PIScO_dev/Segmentation_results/HE570/HE570-PISCO-Profiles/TempResults/20210312_HE570_147-bop-030_PISCO1/20210312_HE570_147-bop-030_PISCO1_Results/EcoTaxa/crops.zip to project 17302.\n",
      "Uploaded crops.zip to project 17302.\n",
      "20210306_HE570_060-bop-014_PISCO1\n",
      "Processing EcoTaxa folder: /home/veit/PIScO_dev/Segmentation_results/HE570/HE570-PISCO-Profiles/TempResults/20210306_HE570_060-bop-014_PISCO1/20210306_HE570_060-bop-014_PISCO1_Results/EcoTaxa\n"
     ]
    },
    {
     "name": "stderr",
     "output_type": "stream",
     "text": [
      "  0%|          | 0/1 [00:00<?, ?it/s]2025-06-10 12:01:35,358 - Computing hash for crops.zip...\n",
      "Uploading crops.zip...: 100%|██████████| 11.0M/11.0M [00:02<00:00, 4.75MB/s]\n",
      "2025-06-10 12:01:38,228 - Remote filename is FTP/Ecotaxa_Data_to_import/pyecotaxa/7c5add85c6ae906da07eac9623ef5968d23cf6eae69a6242b71ccb098d383537/crops.zip.\n",
      "2025-06-10 12:01:38,567 - Starting project import...\n",
      "Importing to 17302... (Processing files 8700/9067):  97%|█████████▋| 97/100 [00:50<00:01,  1.92%/s]\n",
      "100%|██████████| 1/1 [00:53<00:00, 53.88s/it]\n",
      "2025-06-10 12:02:29,243 - Pushing 1 files...\n"
     ]
    },
    {
     "name": "stdout",
     "output_type": "stream",
     "text": [
      "Successfully uploaded /home/veit/PIScO_dev/Segmentation_results/HE570/HE570-PISCO-Profiles/TempResults/20210306_HE570_060-bop-014_PISCO1/20210306_HE570_060-bop-014_PISCO1_Results/EcoTaxa/crops.zip to project 17302.\n",
      "Uploaded crops.zip to project 17302.\n",
      "20210315_HE570_215-bop-038a_PISCO1\n",
      "Processing EcoTaxa folder: /home/veit/PIScO_dev/Segmentation_results/HE570/HE570-PISCO-Profiles/TempResults/20210315_HE570_215-bop-038a_PISCO1/20210315_HE570_215-bop-038a_PISCO1_Results/EcoTaxa\n"
     ]
    },
    {
     "name": "stderr",
     "output_type": "stream",
     "text": [
      "  0%|          | 0/1 [00:00<?, ?it/s]2025-06-10 12:02:29,244 - Pushing /home/veit/PIScO_dev/Segmentation_results/HE570/HE570-PISCO-Profiles/TempResults/20210315_HE570_215-bop-038a_PISCO1/20210315_HE570_215-bop-038a_PISCO1_Results/EcoTaxa/crops.zip to 17302...\n",
      "2025-06-10 12:02:29,246 - Uploading /home/veit/PIScO_dev/Segmentation_results/HE570/HE570-PISCO-Profiles/TempResults/20210315_HE570_215-bop-038a_PISCO1/20210315_HE570_215-bop-038a_PISCO1_Results/EcoTaxa/crops.zip via FTP...\n",
      "2025-06-10 12:02:29,246 - Computing hash for crops.zip...\n",
      "Uploading crops.zip...: 100%|██████████| 70.7M/70.7M [00:05<00:00, 13.5MB/s]\n",
      "2025-06-10 12:02:35,519 - Remote filename is FTP/Ecotaxa_Data_to_import/pyecotaxa/6e59249427a57524dd4e9e1859412eb02499043cfa7397900f83775229e29e4b/crops.zip.\n",
      "2025-06-10 12:02:35,969 - Starting project import...\n",
      "Importing to 17302... (Processing files 25900/27144):  96%|█████████▌| 96/100 [01:56<00:04,  1.21s/%]\n",
      "100%|██████████| 1/1 [02:03<00:00, 123.12s/it]\n",
      "2025-06-10 12:04:32,367 - Pushing 1 files...\n",
      "2025-06-10 12:04:32,368 - Pushing /home/veit/PIScO_dev/Segmentation_results/HE570/HE570-PISCO-Profiles/TempResults/20210307_HE570_069-bop-015c_PISCO1/20210307_HE570_069-bop-015c_PISCO1_Results/EcoTaxa/crops.zip to 17302...\n"
     ]
    },
    {
     "name": "stdout",
     "output_type": "stream",
     "text": [
      "Successfully uploaded /home/veit/PIScO_dev/Segmentation_results/HE570/HE570-PISCO-Profiles/TempResults/20210315_HE570_215-bop-038a_PISCO1/20210315_HE570_215-bop-038a_PISCO1_Results/EcoTaxa/crops.zip to project 17302.\n",
      "Uploaded crops.zip to project 17302.\n",
      "20210307_HE570_069-bop-015c_PISCO1\n",
      "Processing EcoTaxa folder: /home/veit/PIScO_dev/Segmentation_results/HE570/HE570-PISCO-Profiles/TempResults/20210307_HE570_069-bop-015c_PISCO1/20210307_HE570_069-bop-015c_PISCO1_Results/EcoTaxa\n"
     ]
    },
    {
     "name": "stderr",
     "output_type": "stream",
     "text": [
      "2025-06-10 12:04:32,369 - Uploading /home/veit/PIScO_dev/Segmentation_results/HE570/HE570-PISCO-Profiles/TempResults/20210307_HE570_069-bop-015c_PISCO1/20210307_HE570_069-bop-015c_PISCO1_Results/EcoTaxa/crops.zip via FTP...\n",
      "  0%|          | 0/1 [00:00<?, ?it/s]2025-06-10 12:04:32,370 - Computing hash for crops.zip...\n",
      "Uploading crops.zip...: 100%|██████████| 25.2M/25.2M [00:03<00:00, 8.48MB/s]\n",
      "2025-06-10 12:04:36,027 - Remote filename is FTP/Ecotaxa_Data_to_import/pyecotaxa/05fde797cf59b1857f82df69882c0876b315c1cf146fd5ef90a0a50e60fdf38d/crops.zip.\n",
      "2025-06-10 12:04:36,428 - Starting project import...\n",
      "Importing to 17302... (Processing files 5300/6940):  81%|████████  | 81/100 [00:40<00:09,  2.00%/s]\n",
      "100%|██████████| 1/1 [00:44<00:00, 44.62s/it]\n",
      "2025-06-10 12:05:16,995 - Pushing 1 files...\n",
      "2025-06-10 12:05:16,996 - Pushing /home/veit/PIScO_dev/Segmentation_results/HE570/HE570-PISCO-Profiles/TempResults/20210313_HE570_164-bop-033_PISCO1/20210313_HE570_164-bop-033_PISCO1_Results/EcoTaxa/crops.zip to 17302...\n",
      "2025-06-10 12:05:16,997 - Uploading /home/veit/PIScO_dev/Segmentation_results/HE570/HE570-PISCO-Profiles/TempResults/20210313_HE570_164-bop-033_PISCO1/20210313_HE570_164-bop-033_PISCO1_Results/EcoTaxa/crops.zip via FTP...\n"
     ]
    },
    {
     "name": "stdout",
     "output_type": "stream",
     "text": [
      "Successfully uploaded /home/veit/PIScO_dev/Segmentation_results/HE570/HE570-PISCO-Profiles/TempResults/20210307_HE570_069-bop-015c_PISCO1/20210307_HE570_069-bop-015c_PISCO1_Results/EcoTaxa/crops.zip to project 17302.\n",
      "Uploaded crops.zip to project 17302.\n",
      "20210313_HE570_164-bop-033_PISCO1\n",
      "Processing EcoTaxa folder: /home/veit/PIScO_dev/Segmentation_results/HE570/HE570-PISCO-Profiles/TempResults/20210313_HE570_164-bop-033_PISCO1/20210313_HE570_164-bop-033_PISCO1_Results/EcoTaxa\n"
     ]
    },
    {
     "name": "stderr",
     "output_type": "stream",
     "text": [
      "  0%|          | 0/1 [00:00<?, ?it/s]2025-06-10 12:05:16,998 - Computing hash for crops.zip...\n",
      "Uploading crops.zip...: 100%|██████████| 15.6M/15.6M [00:02<00:00, 6.03MB/s]\n",
      "2025-06-10 12:05:20,172 - Remote filename is FTP/Ecotaxa_Data_to_import/pyecotaxa/6e7c3456f90fe234aeb5eef35b138d512bf02c8c9b4223b1123cc0442ea622fc/crops.zip.\n",
      "2025-06-10 12:05:20,468 - Starting project import...\n",
      "Importing to 17302... (Processing files 13800/13942):  99%|█████████▉| 99/100 [01:10<00:00,  1.40%/s]\n",
      "100%|██████████| 1/1 [01:14<00:00, 74.46s/it]\n",
      "2025-06-10 12:06:31,459 - Pushing 1 files...\n",
      "2025-06-10 12:06:31,460 - Pushing /home/veit/PIScO_dev/Segmentation_results/HE570/HE570-PISCO-Profiles/TempResults/20210315_HE570_215-bop-038c_PISCO1/20210315_HE570_215-bop-038c_PISCO1_Results/EcoTaxa/crops.zip to 17302...\n"
     ]
    },
    {
     "name": "stdout",
     "output_type": "stream",
     "text": [
      "Successfully uploaded /home/veit/PIScO_dev/Segmentation_results/HE570/HE570-PISCO-Profiles/TempResults/20210313_HE570_164-bop-033_PISCO1/20210313_HE570_164-bop-033_PISCO1_Results/EcoTaxa/crops.zip to project 17302.\n",
      "Uploaded crops.zip to project 17302.\n",
      "20210315_HE570_215-bop-038c_PISCO1\n",
      "Processing EcoTaxa folder: /home/veit/PIScO_dev/Segmentation_results/HE570/HE570-PISCO-Profiles/TempResults/20210315_HE570_215-bop-038c_PISCO1/20210315_HE570_215-bop-038c_PISCO1_Results/EcoTaxa\n"
     ]
    },
    {
     "name": "stderr",
     "output_type": "stream",
     "text": [
      "  0%|          | 0/1 [00:00<?, ?it/s]2025-06-10 12:06:31,461 - Uploading /home/veit/PIScO_dev/Segmentation_results/HE570/HE570-PISCO-Profiles/TempResults/20210315_HE570_215-bop-038c_PISCO1/20210315_HE570_215-bop-038c_PISCO1_Results/EcoTaxa/crops.zip via FTP...\n",
      "2025-06-10 12:06:31,462 - Computing hash for crops.zip...\n",
      "Uploading crops.zip...: 100%|██████████| 32.5M/32.5M [00:03<00:00, 8.87MB/s]\n",
      "2025-06-10 12:06:35,925 - Remote filename is FTP/Ecotaxa_Data_to_import/pyecotaxa/d5c20dac233115573a76dff592f1a9a62cd73c7c3a48dc2302a8ccf0a0015af9/crops.zip.\n",
      "2025-06-10 12:06:36,333 - Starting project import...\n",
      "Importing to 17302... (Processing files 26700/27268):  98%|█████████▊| 98/100 [01:51<00:02,  1.13s/%]\n",
      "100%|██████████| 1/1 [01:56<00:00, 116.20s/it]\n",
      "2025-06-10 12:08:27,659 - Pushing 1 files...\n",
      "2025-06-10 12:08:27,663 - Pushing /home/veit/PIScO_dev/Segmentation_results/HE570/HE570-PISCO-Profiles/TempResults/20210311_HE570_111-bop-022_PISCO1/20210311_HE570_111-bop-022_PISCO1_Results/EcoTaxa/crops.zip to 17302...\n",
      "2025-06-10 12:08:27,663 - Uploading /home/veit/PIScO_dev/Segmentation_results/HE570/HE570-PISCO-Profiles/TempResults/20210311_HE570_111-bop-022_PISCO1/20210311_HE570_111-bop-022_PISCO1_Results/EcoTaxa/crops.zip via FTP...\n"
     ]
    },
    {
     "name": "stdout",
     "output_type": "stream",
     "text": [
      "Successfully uploaded /home/veit/PIScO_dev/Segmentation_results/HE570/HE570-PISCO-Profiles/TempResults/20210315_HE570_215-bop-038c_PISCO1/20210315_HE570_215-bop-038c_PISCO1_Results/EcoTaxa/crops.zip to project 17302.\n",
      "Uploaded crops.zip to project 17302.\n",
      "20210311_HE570_111-bop-022_PISCO1\n",
      "Processing EcoTaxa folder: /home/veit/PIScO_dev/Segmentation_results/HE570/HE570-PISCO-Profiles/TempResults/20210311_HE570_111-bop-022_PISCO1/20210311_HE570_111-bop-022_PISCO1_Results/EcoTaxa\n"
     ]
    },
    {
     "name": "stderr",
     "output_type": "stream",
     "text": [
      "2025-06-10 12:08:27,667 - Computing hash for crops.zip...\n",
      "Uploading crops.zip...: 100%|██████████| 1.66M/1.66M [00:01<00:00, 1.02MB/s]\n",
      "2025-06-10 12:08:29,809 - Remote filename is FTP/Ecotaxa_Data_to_import/pyecotaxa/f1aa29078b0ed29e7aed750e77a04e8fd5c48d3f7935d8edda2d2a9ffb6148b3/crops.zip.\n",
      "2025-06-10 12:08:30,110 - Starting project import...\n",
      "Importing to 17302... (Processing files 600/1520):  52%|█████▏    | 52/100 [00:30<00:27,  1.72%/s]\n",
      "100%|██████████| 1/1 [00:32<00:00, 32.87s/it]\n",
      "2025-06-10 12:09:00,538 - Pushing 1 files...\n"
     ]
    },
    {
     "name": "stdout",
     "output_type": "stream",
     "text": [
      "Successfully uploaded /home/veit/PIScO_dev/Segmentation_results/HE570/HE570-PISCO-Profiles/TempResults/20210311_HE570_111-bop-022_PISCO1/20210311_HE570_111-bop-022_PISCO1_Results/EcoTaxa/crops.zip to project 17302.\n",
      "Uploaded crops.zip to project 17302.\n",
      "20210312_HE570_143-bop-029_PISCO1\n",
      "Processing EcoTaxa folder: /home/veit/PIScO_dev/Segmentation_results/HE570/HE570-PISCO-Profiles/TempResults/20210312_HE570_143-bop-029_PISCO1/20210312_HE570_143-bop-029_PISCO1_Results/EcoTaxa\n"
     ]
    },
    {
     "name": "stderr",
     "output_type": "stream",
     "text": [
      "2025-06-10 12:09:00,539 - Pushing /home/veit/PIScO_dev/Segmentation_results/HE570/HE570-PISCO-Profiles/TempResults/20210312_HE570_143-bop-029_PISCO1/20210312_HE570_143-bop-029_PISCO1_Results/EcoTaxa/crops.zip to 17302...\n",
      "  0%|          | 0/1 [00:00<?, ?it/s]2025-06-10 12:09:00,540 - Uploading /home/veit/PIScO_dev/Segmentation_results/HE570/HE570-PISCO-Profiles/TempResults/20210312_HE570_143-bop-029_PISCO1/20210312_HE570_143-bop-029_PISCO1_Results/EcoTaxa/crops.zip via FTP...\n",
      "2025-06-10 12:09:00,542 - Computing hash for crops.zip...\n",
      "Uploading crops.zip...: 100%|██████████| 40.2M/40.2M [00:05<00:00, 8.34MB/s]\n",
      "2025-06-10 12:09:06,149 - Remote filename is FTP/Ecotaxa_Data_to_import/pyecotaxa/2dc2278e406b5bd804ba89b471f04f9b2bb9eac788a76d88eca65e43dbc0aee3/crops.zip.\n",
      "2025-06-10 12:09:06,463 - Starting project import...\n",
      "Importing to 17302... (Processing files 13500/14274):  96%|█████████▌| 96/100 [01:10<00:02,  1.36%/s]\n",
      "100%|██████████| 1/1 [01:16<00:00, 76.76s/it]\n",
      "2025-06-10 12:10:17,308 - Pushing 1 files...\n",
      "2025-06-10 12:10:17,309 - Pushing /home/veit/PIScO_dev/Segmentation_results/HE570/HE570-PISCO-Profiles/TempResults/20210315_HE570_215-bop-038b_PISCO1/20210315_HE570_215-bop-038b_PISCO1_Results/EcoTaxa/crops.zip to 17302...\n"
     ]
    },
    {
     "name": "stdout",
     "output_type": "stream",
     "text": [
      "Successfully uploaded /home/veit/PIScO_dev/Segmentation_results/HE570/HE570-PISCO-Profiles/TempResults/20210312_HE570_143-bop-029_PISCO1/20210312_HE570_143-bop-029_PISCO1_Results/EcoTaxa/crops.zip to project 17302.\n",
      "Uploaded crops.zip to project 17302.\n",
      "20210315_HE570_215-bop-038b_PISCO1\n",
      "Processing EcoTaxa folder: /home/veit/PIScO_dev/Segmentation_results/HE570/HE570-PISCO-Profiles/TempResults/20210315_HE570_215-bop-038b_PISCO1/20210315_HE570_215-bop-038b_PISCO1_Results/EcoTaxa\n"
     ]
    },
    {
     "name": "stderr",
     "output_type": "stream",
     "text": [
      "2025-06-10 12:10:17,309 - Uploading /home/veit/PIScO_dev/Segmentation_results/HE570/HE570-PISCO-Profiles/TempResults/20210315_HE570_215-bop-038b_PISCO1/20210315_HE570_215-bop-038b_PISCO1_Results/EcoTaxa/crops.zip via FTP...\n",
      "  0%|          | 0/1 [00:00<?, ?it/s]2025-06-10 12:10:17,310 - Computing hash for crops.zip...\n",
      "Uploading crops.zip...: 100%|██████████| 28.8M/28.8M [00:02<00:00, 11.0MB/s]\n",
      "2025-06-10 12:10:20,573 - Remote filename is FTP/Ecotaxa_Data_to_import/pyecotaxa/42169ab3a1a293909a40047a2c1b46ce224176e249627a4ea08614c579d976f1/crops.zip.\n",
      "2025-06-10 12:10:20,893 - Starting project import...\n",
      "Importing to 17302... (Processing files 23800/24698):  97%|█████████▋| 97/100 [01:51<00:03,  1.15s/%]\n",
      "100%|██████████| 1/1 [01:55<00:00, 115.03s/it]\n",
      "2025-06-10 12:12:12,344 - Pushing 1 files...\n",
      "2025-06-10 12:12:12,345 - Pushing /home/veit/PIScO_dev/Segmentation_results/HE570/HE570-PISCO-Profiles/TempResults/20210307_HE570_076-bop-016a_PISCO1/20210307_HE570_076-bop-016a_PISCO1_Results/EcoTaxa/crops.zip to 17302...\n"
     ]
    },
    {
     "name": "stdout",
     "output_type": "stream",
     "text": [
      "Successfully uploaded /home/veit/PIScO_dev/Segmentation_results/HE570/HE570-PISCO-Profiles/TempResults/20210315_HE570_215-bop-038b_PISCO1/20210315_HE570_215-bop-038b_PISCO1_Results/EcoTaxa/crops.zip to project 17302.\n",
      "Uploaded crops.zip to project 17302.\n",
      "20210307_HE570_076-bop-016a_PISCO1\n",
      "Processing EcoTaxa folder: /home/veit/PIScO_dev/Segmentation_results/HE570/HE570-PISCO-Profiles/TempResults/20210307_HE570_076-bop-016a_PISCO1/20210307_HE570_076-bop-016a_PISCO1_Results/EcoTaxa\n"
     ]
    },
    {
     "name": "stderr",
     "output_type": "stream",
     "text": [
      "2025-06-10 12:12:12,345 - Uploading /home/veit/PIScO_dev/Segmentation_results/HE570/HE570-PISCO-Profiles/TempResults/20210307_HE570_076-bop-016a_PISCO1/20210307_HE570_076-bop-016a_PISCO1_Results/EcoTaxa/crops.zip via FTP...\n",
      "  0%|          | 0/1 [00:00<?, ?it/s]2025-06-10 12:12:12,346 - Computing hash for crops.zip...\n",
      "Uploading crops.zip...: 100%|██████████| 57.8M/57.8M [00:22<00:00, 2.68MB/s]\n",
      "2025-06-10 12:12:35,561 - Remote filename is FTP/Ecotaxa_Data_to_import/pyecotaxa/601bdbfec4da92e5a953c47192ad1c013333af209a45be32cef79ce7b01fdec0/crops.zip.\n",
      "2025-06-10 12:12:36,066 - Starting project import...\n",
      "Importing to 17302... (Processing files 3200/3542):  92%|█████████▏| 92/100 [00:40<00:03,  2.25%/s]\n",
      "100%|██████████| 1/1 [01:04<00:00, 64.76s/it]\n",
      "2025-06-10 12:13:17,101 - Pushing 1 files...\n",
      "2025-06-10 12:13:17,102 - Pushing /home/veit/PIScO_dev/Segmentation_results/HE570/HE570-PISCO-Profiles/TempResults/20210311_HE570_114-bop-023_PISCO1/20210311_HE570_114-bop-023_PISCO1_Results/EcoTaxa/crops.zip to 17302...\n"
     ]
    },
    {
     "name": "stdout",
     "output_type": "stream",
     "text": [
      "Successfully uploaded /home/veit/PIScO_dev/Segmentation_results/HE570/HE570-PISCO-Profiles/TempResults/20210307_HE570_076-bop-016a_PISCO1/20210307_HE570_076-bop-016a_PISCO1_Results/EcoTaxa/crops.zip to project 17302.\n",
      "Uploaded crops.zip to project 17302.\n",
      "20210311_HE570_114-bop-023_PISCO1\n",
      "Processing EcoTaxa folder: /home/veit/PIScO_dev/Segmentation_results/HE570/HE570-PISCO-Profiles/TempResults/20210311_HE570_114-bop-023_PISCO1/20210311_HE570_114-bop-023_PISCO1_Results/EcoTaxa\n"
     ]
    },
    {
     "name": "stderr",
     "output_type": "stream",
     "text": [
      "2025-06-10 12:13:17,102 - Uploading /home/veit/PIScO_dev/Segmentation_results/HE570/HE570-PISCO-Profiles/TempResults/20210311_HE570_114-bop-023_PISCO1/20210311_HE570_114-bop-023_PISCO1_Results/EcoTaxa/crops.zip via FTP...\n",
      "  0%|          | 0/1 [00:00<?, ?it/s]2025-06-10 12:13:17,103 - Computing hash for crops.zip...\n",
      "Uploading crops.zip...: 100%|██████████| 3.66M/3.66M [00:02<00:00, 1.57MB/s]\n",
      "2025-06-10 12:13:20,146 - Remote filename is FTP/Ecotaxa_Data_to_import/pyecotaxa/3ace57e043bf7e05ade97540f625c14b003c572ee7439a30ef8d47c9eb54eee8/crops.zip.\n",
      "2025-06-10 12:13:20,677 - Starting project import...\n",
      "Importing to 17302... (Processing files 2300/3082):  80%|████████  | 80/100 [00:36<00:09,  2.21%/s]\n",
      "100%|██████████| 1/1 [00:39<00:00, 39.92s/it]\n",
      "2025-06-10 12:13:57,027 - Pushing 1 files...\n",
      "2025-06-10 12:13:57,029 - Pushing /home/veit/PIScO_dev/Segmentation_results/HE570/HE570-PISCO-Profiles/TempResults/20210311_HE570_121-bop-025_PISCO1/20210311_HE570_121-bop-025_PISCO1_Results/EcoTaxa/crops.zip to 17302...\n",
      "2025-06-10 12:13:57,030 - Uploading /home/veit/PIScO_dev/Segmentation_results/HE570/HE570-PISCO-Profiles/TempResults/20210311_HE570_121-bop-025_PISCO1/20210311_HE570_121-bop-025_PISCO1_Results/EcoTaxa/crops.zip via FTP...\n"
     ]
    },
    {
     "name": "stdout",
     "output_type": "stream",
     "text": [
      "Successfully uploaded /home/veit/PIScO_dev/Segmentation_results/HE570/HE570-PISCO-Profiles/TempResults/20210311_HE570_114-bop-023_PISCO1/20210311_HE570_114-bop-023_PISCO1_Results/EcoTaxa/crops.zip to project 17302.\n",
      "Uploaded crops.zip to project 17302.\n",
      "20210311_HE570_121-bop-025_PISCO1\n",
      "Processing EcoTaxa folder: /home/veit/PIScO_dev/Segmentation_results/HE570/HE570-PISCO-Profiles/TempResults/20210311_HE570_121-bop-025_PISCO1/20210311_HE570_121-bop-025_PISCO1_Results/EcoTaxa\n"
     ]
    },
    {
     "name": "stderr",
     "output_type": "stream",
     "text": [
      "2025-06-10 12:13:57,031 - Computing hash for crops.zip...\n",
      "Uploading crops.zip...: 100%|██████████| 21.9M/21.9M [00:04<00:00, 5.69MB/s]\n",
      "2025-06-10 12:14:01,703 - Remote filename is FTP/Ecotaxa_Data_to_import/pyecotaxa/e60fba5444b9d8991200f0c50d7f2354a0f089cda361d34c886d2dbdf8bf5483/crops.zip.\n",
      "2025-06-10 12:14:02,242 - Starting project import...\n",
      "Importing to 17302... (Processing files 19400/20438):  96%|█████████▌| 96/100 [01:36<00:04,  1.00s/%]\n",
      "100%|██████████| 1/1 [01:41<00:00, 101.65s/it]\n",
      "2025-06-10 12:15:38,678 - Pushing 1 files...\n",
      "2025-06-10 12:15:38,678 - Pushing /home/veit/PIScO_dev/Segmentation_results/HE570/HE570-PISCO-Profiles/TempResults/20210307_HE570_076-bop-016d_PISCO1/20210307_HE570_076-bop-016d_PISCO1_Results/EcoTaxa/crops.zip to 17302...\n"
     ]
    },
    {
     "name": "stdout",
     "output_type": "stream",
     "text": [
      "Successfully uploaded /home/veit/PIScO_dev/Segmentation_results/HE570/HE570-PISCO-Profiles/TempResults/20210311_HE570_121-bop-025_PISCO1/20210311_HE570_121-bop-025_PISCO1_Results/EcoTaxa/crops.zip to project 17302.\n",
      "Uploaded crops.zip to project 17302.\n",
      "20210307_HE570_076-bop-016d_PISCO1\n",
      "Processing EcoTaxa folder: /home/veit/PIScO_dev/Segmentation_results/HE570/HE570-PISCO-Profiles/TempResults/20210307_HE570_076-bop-016d_PISCO1/20210307_HE570_076-bop-016d_PISCO1_Results/EcoTaxa\n"
     ]
    },
    {
     "name": "stderr",
     "output_type": "stream",
     "text": [
      "  0%|          | 0/1 [00:00<?, ?it/s]2025-06-10 12:15:38,679 - Uploading /home/veit/PIScO_dev/Segmentation_results/HE570/HE570-PISCO-Profiles/TempResults/20210307_HE570_076-bop-016d_PISCO1/20210307_HE570_076-bop-016d_PISCO1_Results/EcoTaxa/crops.zip via FTP...\n",
      "2025-06-10 12:15:38,679 - Computing hash for crops.zip...\n",
      "Uploading crops.zip...: 100%|██████████| 35.9M/35.9M [00:02<00:00, 13.1MB/s]\n",
      "2025-06-10 12:15:42,179 - Remote filename is FTP/Ecotaxa_Data_to_import/pyecotaxa/4ad295e3274fe5481511acd5ea7e8c38973e0d16b7a1b4d13c8fd67cc7e7708e/crops.zip.\n",
      "2025-06-10 12:15:42,595 - Starting project import...\n",
      "Importing to 17302... (Processing files 2200/2384):  94%|█████████▍| 94/100 [00:35<00:02,  2.65%/s]\n",
      "100%|██████████| 1/1 [00:39<00:00, 39.48s/it]\n",
      "2025-06-10 12:16:18,158 - Pushing 1 files...\n",
      "2025-06-10 12:16:18,158 - Pushing /home/veit/PIScO_dev/Segmentation_results/HE570/HE570-PISCO-Profiles/TempResults/20210305_HE570_037-bop-008_PISCO1/20210305_HE570_037-bop-008_PISCO1_Results/EcoTaxa/crops.zip to 17302...\n"
     ]
    },
    {
     "name": "stdout",
     "output_type": "stream",
     "text": [
      "Successfully uploaded /home/veit/PIScO_dev/Segmentation_results/HE570/HE570-PISCO-Profiles/TempResults/20210307_HE570_076-bop-016d_PISCO1/20210307_HE570_076-bop-016d_PISCO1_Results/EcoTaxa/crops.zip to project 17302.\n",
      "Uploaded crops.zip to project 17302.\n",
      "20210305_HE570_037-bop-008_PISCO1\n",
      "Processing EcoTaxa folder: /home/veit/PIScO_dev/Segmentation_results/HE570/HE570-PISCO-Profiles/TempResults/20210305_HE570_037-bop-008_PISCO1/20210305_HE570_037-bop-008_PISCO1_Results/EcoTaxa\n"
     ]
    },
    {
     "name": "stderr",
     "output_type": "stream",
     "text": [
      "  0%|          | 0/1 [00:00<?, ?it/s]2025-06-10 12:16:18,159 - Uploading /home/veit/PIScO_dev/Segmentation_results/HE570/HE570-PISCO-Profiles/TempResults/20210305_HE570_037-bop-008_PISCO1/20210305_HE570_037-bop-008_PISCO1_Results/EcoTaxa/crops.zip via FTP...\n",
      "2025-06-10 12:16:18,159 - Computing hash for crops.zip...\n",
      "Uploading crops.zip...: 100%|██████████| 27.5M/27.5M [00:13<00:00, 2.11MB/s]\n",
      "2025-06-10 12:16:32,460 - Remote filename is FTP/Ecotaxa_Data_to_import/pyecotaxa/415cd7d3a74d20d6e71edac38247a48d36528563156a53a90791d3808dbf8b86/crops.zip.\n",
      "2025-06-10 12:16:32,788 - Starting project import...\n",
      "Importing to 17302... (Processing files 17000/17400):  98%|█████████▊| 98/100 [01:41<00:02,  1.03s/%]\n",
      "100%|██████████| 1/1 [01:55<00:00, 115.96s/it]\n",
      "2025-06-10 12:18:14,116 - Pushing 1 files...\n",
      "2025-06-10 12:18:14,117 - Pushing /home/veit/PIScO_dev/Segmentation_results/HE570/HE570-PISCO-Profiles/TempResults/20210315_HE570_208-bop-036a_PISCO1/20210315_HE570_208-bop-036a_PISCO1_Results/EcoTaxa/crops.zip to 17302...\n",
      "2025-06-10 12:18:14,117 - Uploading /home/veit/PIScO_dev/Segmentation_results/HE570/HE570-PISCO-Profiles/TempResults/20210315_HE570_208-bop-036a_PISCO1/20210315_HE570_208-bop-036a_PISCO1_Results/EcoTaxa/crops.zip via FTP...\n"
     ]
    },
    {
     "name": "stdout",
     "output_type": "stream",
     "text": [
      "Successfully uploaded /home/veit/PIScO_dev/Segmentation_results/HE570/HE570-PISCO-Profiles/TempResults/20210305_HE570_037-bop-008_PISCO1/20210305_HE570_037-bop-008_PISCO1_Results/EcoTaxa/crops.zip to project 17302.\n",
      "Uploaded crops.zip to project 17302.\n",
      "20210315_HE570_208-bop-036a_PISCO1\n",
      "Processing EcoTaxa folder: /home/veit/PIScO_dev/Segmentation_results/HE570/HE570-PISCO-Profiles/TempResults/20210315_HE570_208-bop-036a_PISCO1/20210315_HE570_208-bop-036a_PISCO1_Results/EcoTaxa\n"
     ]
    },
    {
     "name": "stderr",
     "output_type": "stream",
     "text": [
      "  0%|          | 0/1 [00:00<?, ?it/s]2025-06-10 12:18:14,117 - Computing hash for crops.zip...\n",
      "Uploading crops.zip...: 100%|██████████| 50.5M/50.5M [00:03<00:00, 14.3MB/s]\n",
      "2025-06-10 12:18:18,384 - Remote filename is FTP/Ecotaxa_Data_to_import/pyecotaxa/9650b8d4acf78a5faf75cbe0295762993ed2a58ba8c75b98dd32e963bb002a80/crops.zip.\n",
      "2025-06-10 12:18:18,836 - Starting project import...\n",
      "Importing to 17302... (Processing files 42000/42093): 100%|██████████| 100/100 [35:40<00:00, 21.40s/%]\n",
      "100%|██████████| 1/1 [35:45<00:00, 2145.07s/it]\n",
      "2025-06-10 12:53:59,189 - Pushing 1 files...\n",
      "2025-06-10 12:53:59,191 - Pushing /home/veit/PIScO_dev/Segmentation_results/HE570/HE570-PISCO-Profiles/TempResults/20210315_HE570_211-bop-037a_PISCO1/20210315_HE570_211-bop-037a_PISCO1_Results/EcoTaxa/crops.zip to 17302...\n"
     ]
    },
    {
     "name": "stdout",
     "output_type": "stream",
     "text": [
      "Successfully uploaded /home/veit/PIScO_dev/Segmentation_results/HE570/HE570-PISCO-Profiles/TempResults/20210315_HE570_208-bop-036a_PISCO1/20210315_HE570_208-bop-036a_PISCO1_Results/EcoTaxa/crops.zip to project 17302.\n",
      "Uploaded crops.zip to project 17302.\n",
      "20210315_HE570_211-bop-037a_PISCO1\n",
      "Processing EcoTaxa folder: /home/veit/PIScO_dev/Segmentation_results/HE570/HE570-PISCO-Profiles/TempResults/20210315_HE570_211-bop-037a_PISCO1/20210315_HE570_211-bop-037a_PISCO1_Results/EcoTaxa\n"
     ]
    },
    {
     "name": "stderr",
     "output_type": "stream",
     "text": [
      "2025-06-10 12:53:59,201 - Uploading /home/veit/PIScO_dev/Segmentation_results/HE570/HE570-PISCO-Profiles/TempResults/20210315_HE570_211-bop-037a_PISCO1/20210315_HE570_211-bop-037a_PISCO1_Results/EcoTaxa/crops.zip via FTP...\n",
      "  0%|          | 0/1 [00:00<?, ?it/s]2025-06-10 12:53:59,202 - Computing hash for crops.zip...\n",
      "Uploading crops.zip...: 100%|██████████| 20.3M/20.3M [00:02<00:00, 7.58MB/s]\n",
      "2025-06-10 12:54:02,606 - Remote filename is FTP/Ecotaxa_Data_to_import/pyecotaxa/c234305afc7fd73917b31ee9cd6c579f71b8daa657cea915eea839628b34e0e5/crops.zip.\n",
      "2025-06-10 12:54:03,117 - Starting project import...\n",
      "Importing to 17302... (Processing files 17900/18095):  99%|█████████▉| 99/100 [01:51<00:01,  1.12s/%]\n",
      "100%|██████████| 1/1 [01:55<00:00, 115.33s/it]\n",
      "2025-06-10 12:55:54,532 - Pushing 1 files...\n",
      "2025-06-10 12:55:54,532 - Pushing /home/veit/PIScO_dev/Segmentation_results/HE570/HE570-PISCO-Profiles/TempResults/20210313_HE570_156-bop-032_PISCO1/20210313_HE570_156-bop-032_PISCO1_Results/EcoTaxa/crops.zip to 17302...\n"
     ]
    },
    {
     "name": "stdout",
     "output_type": "stream",
     "text": [
      "Successfully uploaded /home/veit/PIScO_dev/Segmentation_results/HE570/HE570-PISCO-Profiles/TempResults/20210315_HE570_211-bop-037a_PISCO1/20210315_HE570_211-bop-037a_PISCO1_Results/EcoTaxa/crops.zip to project 17302.\n",
      "Uploaded crops.zip to project 17302.\n",
      "20210313_HE570_156-bop-032_PISCO1\n",
      "Processing EcoTaxa folder: /home/veit/PIScO_dev/Segmentation_results/HE570/HE570-PISCO-Profiles/TempResults/20210313_HE570_156-bop-032_PISCO1/20210313_HE570_156-bop-032_PISCO1_Results/EcoTaxa\n"
     ]
    },
    {
     "name": "stderr",
     "output_type": "stream",
     "text": [
      "2025-06-10 12:55:54,533 - Uploading /home/veit/PIScO_dev/Segmentation_results/HE570/HE570-PISCO-Profiles/TempResults/20210313_HE570_156-bop-032_PISCO1/20210313_HE570_156-bop-032_PISCO1_Results/EcoTaxa/crops.zip via FTP...\n",
      "  0%|          | 0/1 [00:00<?, ?it/s]2025-06-10 12:55:54,533 - Computing hash for crops.zip...\n",
      "Uploading crops.zip...: 100%|██████████| 20.2M/20.2M [00:06<00:00, 3.32MB/s]\n",
      "2025-06-10 12:56:01,374 - Remote filename is FTP/Ecotaxa_Data_to_import/pyecotaxa/cc5ef7435fe7942dfe0854b4fcc2424834c709e304a4da289e32c01eb52f6dbb/crops.zip.\n",
      "2025-06-10 12:56:01,817 - Starting project import...\n",
      "Importing to 17302... (Processing files 16800/17561):  97%|█████████▋| 97/100 [01:46<00:03,  1.10s/%]\n",
      "100%|██████████| 1/1 [01:53<00:00, 113.74s/it]\n",
      "2025-06-10 12:57:48,275 - Pushing 1 files...\n",
      "2025-06-10 12:57:48,276 - Pushing /home/veit/PIScO_dev/Segmentation_results/HE570/HE570-PISCO-Profiles/TempResults/20210306_HE570_053-bop-013_PISCO1/20210306_HE570_053-bop-013_PISCO1_Results/EcoTaxa/crops.zip to 17302...\n",
      "2025-06-10 12:57:48,276 - Uploading /home/veit/PIScO_dev/Segmentation_results/HE570/HE570-PISCO-Profiles/TempResults/20210306_HE570_053-bop-013_PISCO1/20210306_HE570_053-bop-013_PISCO1_Results/EcoTaxa/crops.zip via FTP...\n"
     ]
    },
    {
     "name": "stdout",
     "output_type": "stream",
     "text": [
      "Successfully uploaded /home/veit/PIScO_dev/Segmentation_results/HE570/HE570-PISCO-Profiles/TempResults/20210313_HE570_156-bop-032_PISCO1/20210313_HE570_156-bop-032_PISCO1_Results/EcoTaxa/crops.zip to project 17302.\n",
      "Uploaded crops.zip to project 17302.\n",
      "20210306_HE570_053-bop-013_PISCO1\n",
      "Processing EcoTaxa folder: /home/veit/PIScO_dev/Segmentation_results/HE570/HE570-PISCO-Profiles/TempResults/20210306_HE570_053-bop-013_PISCO1/20210306_HE570_053-bop-013_PISCO1_Results/EcoTaxa\n"
     ]
    },
    {
     "name": "stderr",
     "output_type": "stream",
     "text": [
      "  0%|          | 0/1 [00:00<?, ?it/s]2025-06-10 12:57:48,277 - Computing hash for crops.zip...\n",
      "Uploading crops.zip...: 100%|██████████| 34.7M/34.7M [00:02<00:00, 15.5MB/s]\n",
      "2025-06-10 12:57:51,141 - Remote filename is FTP/Ecotaxa_Data_to_import/pyecotaxa/ef7a222412e8d7978c1548f0e8f167a3fcb3e09bc431ab1bb779bb2aa1470d37/crops.zip.\n",
      "2025-06-10 12:57:51,875 - Starting project import...\n",
      "Importing to 17302... (Processing files 12400/12411): 100%|██████████| 100/100 [01:26<00:00,  1.16%/s]\n",
      "100%|██████████| 1/1 [01:29<00:00, 89.88s/it]\n",
      "2025-06-10 12:59:18,161 - Pushing 1 files...\n",
      "2025-06-10 12:59:18,162 - Pushing /home/veit/PIScO_dev/Segmentation_results/HE570/HE570-PISCO-Profiles/TempResults/20210311_HE570_108-bop-021_PISCO1/20210311_HE570_108-bop-021_PISCO1_Results/EcoTaxa/crops.zip to 17302...\n"
     ]
    },
    {
     "name": "stdout",
     "output_type": "stream",
     "text": [
      "Successfully uploaded /home/veit/PIScO_dev/Segmentation_results/HE570/HE570-PISCO-Profiles/TempResults/20210306_HE570_053-bop-013_PISCO1/20210306_HE570_053-bop-013_PISCO1_Results/EcoTaxa/crops.zip to project 17302.\n",
      "Uploaded crops.zip to project 17302.\n",
      "20210311_HE570_108-bop-021_PISCO1\n",
      "Processing EcoTaxa folder: /home/veit/PIScO_dev/Segmentation_results/HE570/HE570-PISCO-Profiles/TempResults/20210311_HE570_108-bop-021_PISCO1/20210311_HE570_108-bop-021_PISCO1_Results/EcoTaxa\n"
     ]
    },
    {
     "name": "stderr",
     "output_type": "stream",
     "text": [
      "  0%|          | 0/1 [00:00<?, ?it/s]2025-06-10 12:59:18,162 - Uploading /home/veit/PIScO_dev/Segmentation_results/HE570/HE570-PISCO-Profiles/TempResults/20210311_HE570_108-bop-021_PISCO1/20210311_HE570_108-bop-021_PISCO1_Results/EcoTaxa/crops.zip via FTP...\n",
      "2025-06-10 12:59:18,163 - Computing hash for crops.zip...\n",
      "Uploading crops.zip...: 100%|██████████| 3.32M/3.32M [00:02<00:00, 1.64MB/s]\n",
      "2025-06-10 12:59:20,695 - Remote filename is FTP/Ecotaxa_Data_to_import/pyecotaxa/f1c5adcbd58c51680e70bbbe3efc7f94d20205d3f5fd7c1183c58307cd360dae/crops.zip.\n",
      "2025-06-10 12:59:21,158 - Starting project import...\n",
      "Importing to 17302... (Processing files 3000/3054):  99%|█████████▉| 99/100 [00:45<00:00,  2.18%/s]\n",
      "100%|██████████| 1/1 [00:48<00:00, 48.63s/it]\n",
      "2025-06-10 13:00:06,793 - Pushing 1 files...\n",
      "2025-06-10 13:00:06,794 - Pushing /home/veit/PIScO_dev/Segmentation_results/HE570/HE570-PISCO-Profiles/TempResults/20210311_HE570_117-bop-024_PISCO1/20210311_HE570_117-bop-024_PISCO1_Results/EcoTaxa/crops.zip to 17302...\n"
     ]
    },
    {
     "name": "stdout",
     "output_type": "stream",
     "text": [
      "Successfully uploaded /home/veit/PIScO_dev/Segmentation_results/HE570/HE570-PISCO-Profiles/TempResults/20210311_HE570_108-bop-021_PISCO1/20210311_HE570_108-bop-021_PISCO1_Results/EcoTaxa/crops.zip to project 17302.\n",
      "Uploaded crops.zip to project 17302.\n",
      "20210311_HE570_117-bop-024_PISCO1\n",
      "Processing EcoTaxa folder: /home/veit/PIScO_dev/Segmentation_results/HE570/HE570-PISCO-Profiles/TempResults/20210311_HE570_117-bop-024_PISCO1/20210311_HE570_117-bop-024_PISCO1_Results/EcoTaxa\n"
     ]
    },
    {
     "name": "stderr",
     "output_type": "stream",
     "text": [
      "  0%|          | 0/1 [00:00<?, ?it/s]2025-06-10 13:00:06,794 - Uploading /home/veit/PIScO_dev/Segmentation_results/HE570/HE570-PISCO-Profiles/TempResults/20210311_HE570_117-bop-024_PISCO1/20210311_HE570_117-bop-024_PISCO1_Results/EcoTaxa/crops.zip via FTP...\n",
      "2025-06-10 13:00:06,795 - Computing hash for crops.zip...\n",
      "Uploading crops.zip...: 100%|██████████| 8.26M/8.26M [00:02<00:00, 3.05MB/s]\n",
      "2025-06-10 13:00:10,048 - Remote filename is FTP/Ecotaxa_Data_to_import/pyecotaxa/5a9f0923424788440eeff4f5ab2b290a6e5937ede4735b7a56005a21fb6789ab/crops.zip.\n",
      "2025-06-10 13:00:10,551 - Starting project import...\n",
      "Importing to 17302... (Processing files 7700/7720): 100%|██████████| 100/100 [01:05<00:00,  1.52%/s]\n",
      "100%|██████████| 1/1 [01:09<00:00, 69.81s/it]\n",
      "2025-06-10 13:01:16,603 - Pushing 1 files...\n",
      "2025-06-10 13:01:16,603 - Pushing /home/veit/PIScO_dev/Segmentation_results/HE570/HE570-PISCO-Profiles/TempResults/20210303_HE570_003-bop-001_PISCO1/20210303_HE570_003-bop-001_PISCO1_Results/EcoTaxa/crops_part1_upload.zip to 17302...\n"
     ]
    },
    {
     "name": "stdout",
     "output_type": "stream",
     "text": [
      "Successfully uploaded /home/veit/PIScO_dev/Segmentation_results/HE570/HE570-PISCO-Profiles/TempResults/20210311_HE570_117-bop-024_PISCO1/20210311_HE570_117-bop-024_PISCO1_Results/EcoTaxa/crops.zip to project 17302.\n",
      "Uploaded crops.zip to project 17302.\n",
      "20210303_HE570_003-bop-001_PISCO1\n",
      "Processing EcoTaxa folder: /home/veit/PIScO_dev/Segmentation_results/HE570/HE570-PISCO-Profiles/TempResults/20210303_HE570_003-bop-001_PISCO1/20210303_HE570_003-bop-001_PISCO1_Results/EcoTaxa\n"
     ]
    },
    {
     "name": "stderr",
     "output_type": "stream",
     "text": [
      "2025-06-10 13:01:16,604 - Uploading /home/veit/PIScO_dev/Segmentation_results/HE570/HE570-PISCO-Profiles/TempResults/20210303_HE570_003-bop-001_PISCO1/20210303_HE570_003-bop-001_PISCO1_Results/EcoTaxa/crops_part1_upload.zip via FTP...\n",
      "  0%|          | 0/1 [00:00<?, ?it/s]2025-06-10 13:01:16,604 - Computing hash for crops_part1_upload.zip...\n",
      "Uploading crops_part1_upload.zip...: 100%|██████████| 512M/512M [00:10<00:00, 52.3MB/s]\n",
      "2025-06-10 13:01:27,959 - Remote filename is FTP/Ecotaxa_Data_to_import/pyecotaxa/48affbc57acfba8243691ea92606067b7685a1566ea78a6365ff67cf72a70ab9/crops_part1_upload.zip.\n",
      "2025-06-10 13:01:28,424 - Starting project import...\n",
      "Importing to 17302... (Processing files 36200/36431):  99%|█████████▉| 99/100 [03:42<00:02,  2.25s/%]\n",
      "100%|██████████| 1/1 [03:54<00:00, 234.41s/it]\n",
      "2025-06-10 13:05:11,010 - Pushing 1 files...\n",
      "2025-06-10 13:05:11,010 - Pushing /home/veit/PIScO_dev/Segmentation_results/HE570/HE570-PISCO-Profiles/TempResults/20210303_HE570_003-bop-001_PISCO1/20210303_HE570_003-bop-001_PISCO1_Results/EcoTaxa/crops_part2_upload.zip to 17302...\n",
      "2025-06-10 13:05:11,011 - Uploading /home/veit/PIScO_dev/Segmentation_results/HE570/HE570-PISCO-Profiles/TempResults/20210303_HE570_003-bop-001_PISCO1/20210303_HE570_003-bop-001_PISCO1_Results/EcoTaxa/crops_part2_upload.zip via FTP...\n"
     ]
    },
    {
     "name": "stdout",
     "output_type": "stream",
     "text": [
      "Successfully uploaded /home/veit/PIScO_dev/Segmentation_results/HE570/HE570-PISCO-Profiles/TempResults/20210303_HE570_003-bop-001_PISCO1/20210303_HE570_003-bop-001_PISCO1_Results/EcoTaxa/crops_part1_upload.zip to project 17302.\n",
      "Uploaded crops_part1_upload.zip to project 17302.\n"
     ]
    },
    {
     "name": "stderr",
     "output_type": "stream",
     "text": [
      "  0%|          | 0/1 [00:00<?, ?it/s]2025-06-10 13:05:11,011 - Computing hash for crops_part2_upload.zip...\n",
      "Uploading crops_part2_upload.zip...: 100%|██████████| 58.7M/58.7M [00:09<00:00, 6.47MB/s]\n",
      "2025-06-10 13:05:20,988 - Remote filename is FTP/Ecotaxa_Data_to_import/pyecotaxa/4d2e088d7d316f95b756a838cfd42c3baa0e0de9609b46fe6334e444faa53224/crops_part2_upload.zip.\n",
      "2025-06-10 13:05:21,498 - Starting project import...\n",
      "Importing to 17302... (Processing files 4000/4111):  98%|█████████▊| 98/100 [01:00<00:01,  1.62%/s]\n",
      "100%|██████████| 1/1 [01:11<00:00, 71.29s/it]\n",
      "2025-06-10 13:06:22,298 - Pushing 1 files...\n",
      "2025-06-10 13:06:22,298 - Pushing /home/veit/PIScO_dev/Segmentation_results/HE570/HE570-PISCO-Profiles/TempResults/20210308_HE570_089-bop-018_PISCO1/20210308_HE570_089-bop-018_PISCO1_Results/EcoTaxa/crops.zip to 17302...\n",
      "2025-06-10 13:06:22,299 - Uploading /home/veit/PIScO_dev/Segmentation_results/HE570/HE570-PISCO-Profiles/TempResults/20210308_HE570_089-bop-018_PISCO1/20210308_HE570_089-bop-018_PISCO1_Results/EcoTaxa/crops.zip via FTP...\n"
     ]
    },
    {
     "name": "stdout",
     "output_type": "stream",
     "text": [
      "Successfully uploaded /home/veit/PIScO_dev/Segmentation_results/HE570/HE570-PISCO-Profiles/TempResults/20210303_HE570_003-bop-001_PISCO1/20210303_HE570_003-bop-001_PISCO1_Results/EcoTaxa/crops_part2_upload.zip to project 17302.\n",
      "Uploaded crops_part2_upload.zip to project 17302.\n",
      "20210308_HE570_089-bop-018_PISCO1\n",
      "Processing EcoTaxa folder: /home/veit/PIScO_dev/Segmentation_results/HE570/HE570-PISCO-Profiles/TempResults/20210308_HE570_089-bop-018_PISCO1/20210308_HE570_089-bop-018_PISCO1_Results/EcoTaxa\n"
     ]
    },
    {
     "name": "stderr",
     "output_type": "stream",
     "text": [
      "  0%|          | 0/1 [00:00<?, ?it/s]2025-06-10 13:06:22,299 - Computing hash for crops.zip...\n",
      "Uploading crops.zip...: 100%|██████████| 54.8M/54.8M [00:03<00:00, 16.1MB/s]\n",
      "2025-06-10 13:06:26,311 - Remote filename is FTP/Ecotaxa_Data_to_import/pyecotaxa/e78a66fb9efd55b4da760caa4bd7dec6c81a71e99f5788e265da677891d0b87a/crops.zip.\n",
      "2025-06-10 13:06:26,649 - Starting project import...\n",
      "Importing to 17302... (Processing files 11900/11912): 100%|██████████| 100/100 [01:25<00:00,  1.16%/s]\n",
      "100%|██████████| 1/1 [01:30<00:00, 90.58s/it]\n",
      "2025-06-10 13:07:52,884 - Pushing 1 files...\n"
     ]
    },
    {
     "name": "stdout",
     "output_type": "stream",
     "text": [
      "Successfully uploaded /home/veit/PIScO_dev/Segmentation_results/HE570/HE570-PISCO-Profiles/TempResults/20210308_HE570_089-bop-018_PISCO1/20210308_HE570_089-bop-018_PISCO1_Results/EcoTaxa/crops.zip to project 17302.\n",
      "Uploaded crops.zip to project 17302.\n",
      "20210305_HE570_044-bop-010_PISCO1\n",
      "Processing EcoTaxa folder: /home/veit/PIScO_dev/Segmentation_results/HE570/HE570-PISCO-Profiles/TempResults/20210305_HE570_044-bop-010_PISCO1/20210305_HE570_044-bop-010_PISCO1_Results/EcoTaxa\n"
     ]
    },
    {
     "name": "stderr",
     "output_type": "stream",
     "text": [
      "2025-06-10 13:07:52,884 - Pushing /home/veit/PIScO_dev/Segmentation_results/HE570/HE570-PISCO-Profiles/TempResults/20210305_HE570_044-bop-010_PISCO1/20210305_HE570_044-bop-010_PISCO1_Results/EcoTaxa/crops.zip to 17302...\n",
      "  0%|          | 0/1 [00:00<?, ?it/s]2025-06-10 13:07:52,885 - Uploading /home/veit/PIScO_dev/Segmentation_results/HE570/HE570-PISCO-Profiles/TempResults/20210305_HE570_044-bop-010_PISCO1/20210305_HE570_044-bop-010_PISCO1_Results/EcoTaxa/crops.zip via FTP...\n",
      "2025-06-10 13:07:52,885 - Computing hash for crops.zip...\n",
      "Uploading crops.zip...: 100%|██████████| 28.4M/28.4M [00:03<00:00, 9.88MB/s]\n",
      "2025-06-10 13:07:56,381 - Remote filename is FTP/Ecotaxa_Data_to_import/pyecotaxa/19ae177a5c7fc397f25caf7ead0f3cf6c2de0461c2bbc93a565a8d3695506f9e/crops.zip.\n",
      "2025-06-10 13:07:56,882 - Starting project import...\n",
      "Importing to 17302... (Processing files 9700/9775):  99%|█████████▉| 99/100 [01:15<00:00,  1.31%/s]\n",
      "100%|██████████| 1/1 [01:19<00:00, 79.98s/it]\n",
      "2025-06-10 13:09:12,864 - Pushing 1 files...\n",
      "2025-06-10 13:09:12,864 - Pushing /home/veit/PIScO_dev/Segmentation_results/HE570/HE570-PISCO-Profiles/TempResults/20210306_HE570_047-bop-011_PISCO1/20210306_HE570_047-bop-011_PISCO1_Results/EcoTaxa/crops.zip to 17302...\n"
     ]
    },
    {
     "name": "stdout",
     "output_type": "stream",
     "text": [
      "Successfully uploaded /home/veit/PIScO_dev/Segmentation_results/HE570/HE570-PISCO-Profiles/TempResults/20210305_HE570_044-bop-010_PISCO1/20210305_HE570_044-bop-010_PISCO1_Results/EcoTaxa/crops.zip to project 17302.\n",
      "Uploaded crops.zip to project 17302.\n",
      "20210306_HE570_047-bop-011_PISCO1\n",
      "Processing EcoTaxa folder: /home/veit/PIScO_dev/Segmentation_results/HE570/HE570-PISCO-Profiles/TempResults/20210306_HE570_047-bop-011_PISCO1/20210306_HE570_047-bop-011_PISCO1_Results/EcoTaxa\n"
     ]
    },
    {
     "name": "stderr",
     "output_type": "stream",
     "text": [
      "2025-06-10 13:09:12,865 - Uploading /home/veit/PIScO_dev/Segmentation_results/HE570/HE570-PISCO-Profiles/TempResults/20210306_HE570_047-bop-011_PISCO1/20210306_HE570_047-bop-011_PISCO1_Results/EcoTaxa/crops.zip via FTP...\n",
      "  0%|          | 0/1 [00:00<?, ?it/s]2025-06-10 13:09:12,865 - Computing hash for crops.zip...\n",
      "Uploading crops.zip...: 100%|██████████| 98.3M/98.3M [00:04<00:00, 21.4MB/s]\n",
      "2025-06-10 13:09:19,410 - Remote filename is FTP/Ecotaxa_Data_to_import/pyecotaxa/41e512677bad3e84f0e84178c5e4d27b5bd8013f23050c8d8402df868fd9cf44/crops.zip.\n",
      "2025-06-10 13:09:19,884 - Starting project import...\n",
      "Importing to 17302... (Processing files 22200/23017):  97%|█████████▋| 97/100 [02:01<00:03,  1.25s/%]\n",
      "100%|██████████| 1/1 [02:08<00:00, 128.70s/it]\n",
      "2025-06-10 13:11:21,566 - Pushing 1 files...\n"
     ]
    },
    {
     "name": "stdout",
     "output_type": "stream",
     "text": [
      "Successfully uploaded /home/veit/PIScO_dev/Segmentation_results/HE570/HE570-PISCO-Profiles/TempResults/20210306_HE570_047-bop-011_PISCO1/20210306_HE570_047-bop-011_PISCO1_Results/EcoTaxa/crops.zip to project 17302.\n",
      "Uploaded crops.zip to project 17302.\n",
      "20210305_HE570_030-bop-006_PISCO1\n",
      "Processing EcoTaxa folder: /home/veit/PIScO_dev/Segmentation_results/HE570/HE570-PISCO-Profiles/TempResults/20210305_HE570_030-bop-006_PISCO1/20210305_HE570_030-bop-006_PISCO1_Results/EcoTaxa\n"
     ]
    },
    {
     "name": "stderr",
     "output_type": "stream",
     "text": [
      "2025-06-10 13:11:21,566 - Pushing /home/veit/PIScO_dev/Segmentation_results/HE570/HE570-PISCO-Profiles/TempResults/20210305_HE570_030-bop-006_PISCO1/20210305_HE570_030-bop-006_PISCO1_Results/EcoTaxa/crops.zip to 17302...\n",
      "  0%|          | 0/1 [00:00<?, ?it/s]2025-06-10 13:11:21,567 - Uploading /home/veit/PIScO_dev/Segmentation_results/HE570/HE570-PISCO-Profiles/TempResults/20210305_HE570_030-bop-006_PISCO1/20210305_HE570_030-bop-006_PISCO1_Results/EcoTaxa/crops.zip via FTP...\n",
      "2025-06-10 13:11:21,567 - Computing hash for crops.zip...\n",
      "Uploading crops.zip...: 100%|██████████| 245M/245M [00:04<00:00, 52.3MB/s]\n",
      "2025-06-10 13:11:27,208 - Remote filename is FTP/Ecotaxa_Data_to_import/pyecotaxa/363ce15710bad70fe0db9bc3c7b0d7239436f71380d2aa6e47307bbc76283c7b/crops.zip.\n",
      "2025-06-10 13:11:27,705 - Starting project import...\n",
      "Importing to 17302... (Processing files 18700/18871):  99%|█████████▉| 99/100 [02:11<00:01,  1.33s/%]\n",
      "100%|██████████| 1/1 [02:17<00:00, 137.95s/it]\n",
      "2025-06-10 13:13:39,514 - Pushing 1 files...\n",
      "2025-06-10 13:13:39,514 - Pushing /home/veit/PIScO_dev/Segmentation_results/HE570/HE570-PISCO-Profiles/TempResults/20210313_HE570_169-bop-034_PISCO1/20210313_HE570_169-bop-034_PISCO1_Results/EcoTaxa/crops.zip to 17302...\n"
     ]
    },
    {
     "name": "stdout",
     "output_type": "stream",
     "text": [
      "Successfully uploaded /home/veit/PIScO_dev/Segmentation_results/HE570/HE570-PISCO-Profiles/TempResults/20210305_HE570_030-bop-006_PISCO1/20210305_HE570_030-bop-006_PISCO1_Results/EcoTaxa/crops.zip to project 17302.\n",
      "Uploaded crops.zip to project 17302.\n",
      "20210313_HE570_169-bop-034_PISCO1\n",
      "Processing EcoTaxa folder: /home/veit/PIScO_dev/Segmentation_results/HE570/HE570-PISCO-Profiles/TempResults/20210313_HE570_169-bop-034_PISCO1/20210313_HE570_169-bop-034_PISCO1_Results/EcoTaxa\n"
     ]
    },
    {
     "name": "stderr",
     "output_type": "stream",
     "text": [
      "  0%|          | 0/1 [00:00<?, ?it/s]2025-06-10 13:13:39,515 - Uploading /home/veit/PIScO_dev/Segmentation_results/HE570/HE570-PISCO-Profiles/TempResults/20210313_HE570_169-bop-034_PISCO1/20210313_HE570_169-bop-034_PISCO1_Results/EcoTaxa/crops.zip via FTP...\n",
      "2025-06-10 13:13:39,515 - Computing hash for crops.zip...\n",
      "Uploading crops.zip...: 100%|██████████| 24.6M/24.6M [00:02<00:00, 8.92MB/s]\n",
      "2025-06-10 13:13:42,823 - Remote filename is FTP/Ecotaxa_Data_to_import/pyecotaxa/aed20cce375b52cef10cf26940f7a858befc35a4f1d400ee5117e0947e0de349/crops.zip.\n",
      "2025-06-10 13:13:43,304 - Starting project import...\n",
      "Importing to 17302... (Processing files 17200/17236): 100%|██████████| 100/100 [01:46<00:00,  1.06s/%]\n",
      "100%|██████████| 1/1 [01:50<00:00, 110.09s/it]\n",
      "2025-06-10 13:15:29,605 - Pushing 1 files...\n",
      "2025-06-10 13:15:29,606 - Pushing /home/veit/PIScO_dev/Segmentation_results/HE570/HE570-PISCO-Profiles/TempResults/20210304_HE570_024-bop-004_PISCO1/20210304_HE570_024-bop-004_PISCO1_Results/EcoTaxa/crops.zip to 17302...\n"
     ]
    },
    {
     "name": "stdout",
     "output_type": "stream",
     "text": [
      "Successfully uploaded /home/veit/PIScO_dev/Segmentation_results/HE570/HE570-PISCO-Profiles/TempResults/20210313_HE570_169-bop-034_PISCO1/20210313_HE570_169-bop-034_PISCO1_Results/EcoTaxa/crops.zip to project 17302.\n",
      "Uploaded crops.zip to project 17302.\n",
      "20210304_HE570_024-bop-004_PISCO1\n",
      "Processing EcoTaxa folder: /home/veit/PIScO_dev/Segmentation_results/HE570/HE570-PISCO-Profiles/TempResults/20210304_HE570_024-bop-004_PISCO1/20210304_HE570_024-bop-004_PISCO1_Results/EcoTaxa\n"
     ]
    },
    {
     "name": "stderr",
     "output_type": "stream",
     "text": [
      "2025-06-10 13:15:29,607 - Uploading /home/veit/PIScO_dev/Segmentation_results/HE570/HE570-PISCO-Profiles/TempResults/20210304_HE570_024-bop-004_PISCO1/20210304_HE570_024-bop-004_PISCO1_Results/EcoTaxa/crops.zip via FTP...\n",
      "  0%|          | 0/1 [00:00<?, ?it/s]2025-06-10 13:15:29,607 - Computing hash for crops.zip...\n",
      "Uploading crops.zip...: 100%|██████████| 100M/100M [00:05<00:00, 20.4MB/s] \n",
      "2025-06-10 13:15:35,249 - Remote filename is FTP/Ecotaxa_Data_to_import/pyecotaxa/e78ab98126c0d70d7b3bd01b7ec6d5ad5227e91481069bb12ecf274a5640ec32/crops.zip.\n",
      "2025-06-10 13:15:35,698 - Starting project import...\n",
      "Importing to 17302... (Processing files 10300/10354): 100%|██████████| 100/100 [01:20<00:00,  1.24%/s]\n",
      "100%|██████████| 1/1 [01:27<00:00, 87.12s/it]\n",
      "2025-06-10 13:16:56,725 - Pushing 1 files...\n",
      "2025-06-10 13:16:56,726 - Pushing /home/veit/PIScO_dev/Segmentation_results/HE570/HE570-PISCO-Profiles/TempResults/20210304_HE570_021-bop-003_PISCO1/20210304_HE570_021-bop-003_PISCO1_Results/EcoTaxa/crops.zip to 17302...\n",
      "2025-06-10 13:16:56,726 - Uploading /home/veit/PIScO_dev/Segmentation_results/HE570/HE570-PISCO-Profiles/TempResults/20210304_HE570_021-bop-003_PISCO1/20210304_HE570_021-bop-003_PISCO1_Results/EcoTaxa/crops.zip via FTP...\n"
     ]
    },
    {
     "name": "stdout",
     "output_type": "stream",
     "text": [
      "Successfully uploaded /home/veit/PIScO_dev/Segmentation_results/HE570/HE570-PISCO-Profiles/TempResults/20210304_HE570_024-bop-004_PISCO1/20210304_HE570_024-bop-004_PISCO1_Results/EcoTaxa/crops.zip to project 17302.\n",
      "Uploaded crops.zip to project 17302.\n",
      "20210304_HE570_021-bop-003_PISCO1\n",
      "Processing EcoTaxa folder: /home/veit/PIScO_dev/Segmentation_results/HE570/HE570-PISCO-Profiles/TempResults/20210304_HE570_021-bop-003_PISCO1/20210304_HE570_021-bop-003_PISCO1_Results/EcoTaxa\n"
     ]
    },
    {
     "name": "stderr",
     "output_type": "stream",
     "text": [
      "  0%|          | 0/1 [00:00<?, ?it/s]2025-06-10 13:16:56,726 - Computing hash for crops.zip...\n",
      "Uploading crops.zip...: 100%|██████████| 26.4M/26.4M [00:02<00:00, 9.56MB/s]\n",
      "2025-06-10 13:17:00,066 - Remote filename is FTP/Ecotaxa_Data_to_import/pyecotaxa/c11504892b4ea539434da761b7d0178d7aafb9d98368c7e2018430d90f27e383/crops.zip.\n",
      "2025-06-10 13:17:00,525 - Starting project import...\n",
      "Importing to 17302... (Processing files 15900/15982): 100%|██████████| 100/100 [01:31<00:00,  1.10%/s]\n",
      "100%|██████████| 1/1 [01:35<00:00, 95.13s/it]\n",
      "2025-06-10 13:18:31,860 - Pushing 1 files...\n",
      "2025-06-10 13:18:31,861 - Pushing /home/veit/PIScO_dev/Segmentation_results/HE570/HE570-PISCO-Profiles/TempResults/20210315_HE570_208-bop-036b_PISCO1/20210315_HE570_208-bop-036b_PISCO1_Results/EcoTaxa/crops.zip to 17302...\n"
     ]
    },
    {
     "name": "stdout",
     "output_type": "stream",
     "text": [
      "Successfully uploaded /home/veit/PIScO_dev/Segmentation_results/HE570/HE570-PISCO-Profiles/TempResults/20210304_HE570_021-bop-003_PISCO1/20210304_HE570_021-bop-003_PISCO1_Results/EcoTaxa/crops.zip to project 17302.\n",
      "Uploaded crops.zip to project 17302.\n",
      "20210315_HE570_208-bop-036b_PISCO1\n",
      "Processing EcoTaxa folder: /home/veit/PIScO_dev/Segmentation_results/HE570/HE570-PISCO-Profiles/TempResults/20210315_HE570_208-bop-036b_PISCO1/20210315_HE570_208-bop-036b_PISCO1_Results/EcoTaxa\n"
     ]
    },
    {
     "name": "stderr",
     "output_type": "stream",
     "text": [
      "2025-06-10 13:18:31,861 - Uploading /home/veit/PIScO_dev/Segmentation_results/HE570/HE570-PISCO-Profiles/TempResults/20210315_HE570_208-bop-036b_PISCO1/20210315_HE570_208-bop-036b_PISCO1_Results/EcoTaxa/crops.zip via FTP...\n",
      "  0%|          | 0/1 [00:00<?, ?it/s]2025-06-10 13:18:31,862 - Computing hash for crops.zip...\n",
      "Uploading crops.zip...: 100%|██████████| 13.1M/13.1M [00:02<00:00, 5.30MB/s]\n",
      "2025-06-10 13:18:34,852 - Remote filename is FTP/Ecotaxa_Data_to_import/pyecotaxa/edc53d2934b389f39fdd4a32553a414e8f0cfb1d0f26a76668fc267bbc011a55/crops.zip.\n",
      "2025-06-10 13:18:35,340 - Starting project import...\n",
      "Importing to 17302... (Processing files 11600/11731):  99%|█████████▉| 99/100 [01:20<00:00,  1.22%/s]\n",
      "100%|██████████| 1/1 [01:24<00:00, 84.50s/it]\n",
      "2025-06-10 13:19:56,363 - Pushing 1 files...\n"
     ]
    },
    {
     "name": "stdout",
     "output_type": "stream",
     "text": [
      "Successfully uploaded /home/veit/PIScO_dev/Segmentation_results/HE570/HE570-PISCO-Profiles/TempResults/20210315_HE570_208-bop-036b_PISCO1/20210315_HE570_208-bop-036b_PISCO1_Results/EcoTaxa/crops.zip to project 17302.\n",
      "Uploaded crops.zip to project 17302.\n",
      "20210315_HE570_221-bop-039b_PISCO1\n",
      "Processing EcoTaxa folder: /home/veit/PIScO_dev/Segmentation_results/HE570/HE570-PISCO-Profiles/TempResults/20210315_HE570_221-bop-039b_PISCO1/20210315_HE570_221-bop-039b_PISCO1_Results/EcoTaxa\n"
     ]
    },
    {
     "name": "stderr",
     "output_type": "stream",
     "text": [
      "2025-06-10 13:19:56,364 - Pushing /home/veit/PIScO_dev/Segmentation_results/HE570/HE570-PISCO-Profiles/TempResults/20210315_HE570_221-bop-039b_PISCO1/20210315_HE570_221-bop-039b_PISCO1_Results/EcoTaxa/crops.zip to 17302...\n",
      "  0%|          | 0/1 [00:00<?, ?it/s]2025-06-10 13:19:56,364 - Uploading /home/veit/PIScO_dev/Segmentation_results/HE570/HE570-PISCO-Profiles/TempResults/20210315_HE570_221-bop-039b_PISCO1/20210315_HE570_221-bop-039b_PISCO1_Results/EcoTaxa/crops.zip via FTP...\n",
      "2025-06-10 13:19:56,365 - Computing hash for crops.zip...\n",
      "Uploading crops.zip...: 100%|██████████| 1.23M/1.23M [00:01<00:00, 790kB/s] \n",
      "2025-06-10 13:19:58,391 - Remote filename is FTP/Ecotaxa_Data_to_import/pyecotaxa/bc56ccbf9884e239ede5819709afe2dde7e6cd4fda0dc5ccd9c445398c8f3eb3/crops.zip.\n",
      "2025-06-10 13:19:58,927 - Starting project import...\n",
      "Importing to 17302... (Processing files 300/1020):  44%|████▍     | 44/100 [00:40<00:51,  1.09%/s]\n",
      "100%|██████████| 1/1 [00:43<00:00, 43.15s/it]"
     ]
    },
    {
     "name": "stdout",
     "output_type": "stream",
     "text": [
      "Successfully uploaded /home/veit/PIScO_dev/Segmentation_results/HE570/HE570-PISCO-Profiles/TempResults/20210315_HE570_221-bop-039b_PISCO1/20210315_HE570_221-bop-039b_PISCO1_Results/EcoTaxa/crops.zip to project 17302.\n",
      "Uploaded crops.zip to project 17302.\n"
     ]
    },
    {
     "name": "stderr",
     "output_type": "stream",
     "text": [
      "\n"
     ]
    }
   ],
   "source": [
    "import logging\n",
    "import os\n",
    "from pyecotaxa.remote import Remote, Transport\n",
    "\n",
    "def login_to_ecotaxa(username, password):\n",
    "    try:\n",
    "        remote = Remote()\n",
    "        remote.login(username, password)\n",
    "        print(\"Successfully logged into EcoTaxa.\")\n",
    "        return remote\n",
    "    except Exception as e:\n",
    "        logging.error(f\"Error during login: {e}\")\n",
    "        return None\n",
    "\n",
    "def ET_upload(remote, project_id, folder_path):\n",
    "    try:\n",
    "        remote.push([(folder_path, project_id)],transport=Transport.FTP)\n",
    "        print(f\"Successfully uploaded {folder_path} to project {project_id}.\")\n",
    "    except Exception as e:\n",
    "        logging.error(f\"Error during upload: {e}\") \n",
    "\n",
    "def upload_ecotaxa_data(profile_path, remote, project_id, crops_type='raw'):\n",
    "    print(f\"Processing EcoTaxa folder: {profile_path}\")                \n",
    "    zip_files = [f for f in os.listdir(profile_path) if f.endswith('.zip')]\n",
    "    deconv_zip_files = [f for f in zip_files if 'deconv_crops' in f]\n",
    "    raw_zip_files = [f for f in zip_files if 'crops' in f and 'deconv_crops' not in f]\n",
    "    if crops_type == 'raw':\n",
    "        # Check if there are zip files with \"part\" in their names\n",
    "        part_zip_files = [f for f in raw_zip_files if \"part\" in f]\n",
    "\n",
    "        if part_zip_files:\n",
    "            # If \"part\" zip files exist, upload only those\n",
    "            for part_zip in part_zip_files:\n",
    "                zip_path = os.path.join(profile_path, part_zip)\n",
    "                ET_upload(remote, project_id, zip_path)\n",
    "                print(f\"Uploaded {part_zip} to project {project_id}.\")\n",
    "        else:\n",
    "            # Otherwise, upload the default crops.zip and deconv_crops.zip        \n",
    "            zip_path_raw = os.path.join(profile_path, \"crops.zip\")\n",
    "            ET_upload(remote, project_id, zip_path_raw)\n",
    "            print(f\"Uploaded crops.zip to project {project_id}.\")\n",
    "    else:\n",
    "        # Upload deconv_crops.zip\n",
    "        if not deconv_zip_files:\n",
    "            logging.warning(f\"No deconv_crops.zip found in {profile_path}.\")\n",
    "            return\n",
    "        part_zip_files = [f for f in deconv_zip_files if \"part\" in f]\n",
    "\n",
    "        if part_zip_files:\n",
    "            # If \"part\" zip files exist, upload only those\n",
    "            for part_zip in part_zip_files:\n",
    "                zip_path = os.path.join(profile_path, part_zip)\n",
    "                ET_upload(remote, project_id, zip_path)\n",
    "                print(f\"Uploaded {part_zip} to project {project_id}.\")\n",
    "        else:\n",
    "        # Otherwise, upload the default deconv_crops.zip\n",
    "            zip_path_deconv = os.path.join(profile_path, \"deconv_crops.zip\")\n",
    "            ET_upload(remote, project_id, zip_path_deconv)\n",
    "            print(f\"Uploaded deconv_crops.zip to project {project_id}.\")\n",
    "\n",
    "USERNAME = 'vdausmann@geomar.de'  # Replace with your EcoTaxa username\n",
    "PASSWORD = ' '  # Replace with your EcoTaxa password\n",
    "# Login to EcoTaxa\n",
    "remote = login_to_ecotaxa(USERNAME, PASSWORD)\n",
    "\n",
    "# for profile in os.listdir(cruise_base):\n",
    "#     print(profile)\n",
    "#     profile_path = os.path.join(intermediate_result_dir, profile, profile+\"_Results\", \"EcoTaxa\")\n",
    "#     if not os.path.exists(profile_path):\n",
    "#         print(f\"EcoTaxa folder does not exist for profile {profile}. Skipping.\")\n",
    "#         continue\n",
    "\n",
    "#     if remote:\n",
    "#         upload_ecotaxa_data(profile_path, remote, project_id=17330, crops_type='raw')\n",
    "#     else:\n",
    "#         print(\"Failed to log into EcoTaxa. Exiting...\")\n",
    "\n",
    "## Upload EcoTaxa data for each profile KOSMOS PERU 2020\n",
    "for profile in os.listdir(cruise_base):\n",
    "    print(profile)\n",
    "    profile_path = os.path.join(cruise_base, profile)\n",
    "    if os.path.isdir(profile_path):                \n",
    "            for mesokosm in os.listdir(profile_path):\n",
    "                mesokosm_path = os.path.join(profile_path, mesokosm, mesokosm+\"_Results\", \"EcoTaxa\")\n",
    "                if not os.path.exists(os.path.join(profile_path, mesokosm, mesokosm+\"_Results\", \"EcoTaxa\")):\n",
    "                    continue\n",
    "                print(mesokosm)\n",
    "                if remote:\n",
    "                    upload_ecotaxa_data(mesokosm_path, remote, project_id=17330, crops_type='deconv')\n",
    "                else:\n",
    "                    print(\"Failed to log into EcoTaxa. Exiting...\")"
   ]
  }
 ],
 "metadata": {
  "kernelspec": {
   "display_name": "base",
   "language": "python",
   "name": "python3"
  },
  "language_info": {
   "codemirror_mode": {
    "name": "ipython",
    "version": 3
   },
   "file_extension": ".py",
   "mimetype": "text/x-python",
   "name": "python",
   "nbconvert_exporter": "python",
   "pygments_lexer": "ipython3",
   "version": "3.13.2"
  }
 },
 "nbformat": 4,
 "nbformat_minor": 5
}
